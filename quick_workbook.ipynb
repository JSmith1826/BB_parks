{
 "cells": [
  {
   "cell_type": "code",
   "execution_count": 28,
   "metadata": {},
   "outputs": [],
   "source": [
    "### Dependencies\n",
    "import pandas as pd\n",
    "import numpy as np\n",
    "\n",
    "\n",
    "## File Paths\n",
    "# Path to mhsaa tables to merge\n",
    "\n",
    "enrollment_path = 'data\\school_info\\mhsaa_enrolment_2022.csv'\n",
    "name_color_path = 'data\\school_info\\mhsaa_school_nickname_color_2020.csv'\n",
    "\n",
    "df_enrol = pd.read_csv(enrollment_path)\n",
    "df_name_color = pd.read_csv(name_color_path)\n",
    "\n",
    "\n",
    "\n"
   ]
  },
  {
   "cell_type": "code",
   "execution_count": 29,
   "metadata": {},
   "outputs": [
    {
     "name": "stdout",
     "output_type": "stream",
     "text": [
      "Index(['School', 'Nickname', 'Color1', 'Color2', 'Color3', 'Color4'], dtype='object')\n"
     ]
    }
   ],
   "source": [
    "print(df_name_color.columns)"
   ]
  },
  {
   "cell_type": "code",
   "execution_count": 25,
   "metadata": {},
   "outputs": [],
   "source": [
    "### Match the school name to School and merge the dataframes into a single object\n",
    "from fuzzywuzzy import fuzz, process\n",
    "\n",
    "def find_best_match(school_name, choices, score_cutoff=70):\n",
    "    best_match = process.extractOne(school_name, choices, scorer=fuzz.token_sort_ratio, score_cutoff=score_cutoff)\n",
    "    if best_match:\n",
    "        return best_match[0]\n",
    "    else:\n",
    "        return None\n",
    "\n",
    "# Get the list of school names from df_name_color\n",
    "school_names = df_name_color['School'].tolist()\n",
    "\n",
    "# Apply find_best_match function to create a new column 'best_match' in df_enrol\n",
    "df_enrol['best_match'] = df_enrol['school_name'].apply(find_best_match, choices=school_names, score_cutoff=80)\n",
    "\n"
   ]
  },
  {
   "cell_type": "code",
   "execution_count": 26,
   "metadata": {},
   "outputs": [],
   "source": [
    "# Rename the 'School' column in df_name_color to 'best_match'\n",
    "df_name_color = df_name_color.rename(columns={'School': 'best_match'})\n",
    "\n",
    "# Merge the dataframes on the 'best_match' column\n",
    "df_merged = df_enrol.merge(df_name_color, on='best_match', how='left')\n"
   ]
  },
  {
   "cell_type": "code",
   "execution_count": 20,
   "metadata": {},
   "outputs": [
    {
     "name": "stdout",
     "output_type": "stream",
     "text": [
      "Index(['school_id', 'school_name', 'students', 'enrollment', 'division',\n",
      "       'best_match'],\n",
      "      dtype='object')\n",
      "Index(['best_match', 'Nickname', 'Color1', 'Color2', 'Color3', 'Color4'], dtype='object')\n"
     ]
    }
   ],
   "source": [
    "print(df_enrol.columns)\n",
    "\n",
    "print(df_name_color.columns)"
   ]
  },
  {
   "cell_type": "code",
   "execution_count": 21,
   "metadata": {},
   "outputs": [],
   "source": [
    "# - get icons sorted out\n",
    "# -*** DONE*** get the level assigner sorted out in the etl\n",
    "# - add filter based on level to map\n",
    "# - implement the search box places from "
   ]
  },
  {
   "cell_type": "code",
   "execution_count": null,
   "metadata": {},
   "outputs": [],
   "source": []
  }
 ],
 "metadata": {
  "kernelspec": {
   "display_name": "base",
   "language": "python",
   "name": "python3"
  },
  "language_info": {
   "codemirror_mode": {
    "name": "ipython",
    "version": 3
   },
   "file_extension": ".py",
   "mimetype": "text/x-python",
   "name": "python",
   "nbconvert_exporter": "python",
   "pygments_lexer": "ipython3",
   "version": "3.9.12"
  },
  "orig_nbformat": 4
 },
 "nbformat": 4,
 "nbformat_minor": 2
}
