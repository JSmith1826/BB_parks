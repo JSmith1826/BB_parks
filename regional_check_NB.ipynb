{
 "cells": [
  {
   "cell_type": "code",
   "execution_count": 6,
   "metadata": {},
   "outputs": [
    {
     "data": {
      "text/plain": [
       "array(['MacDonald Middle School - East Lansing',\n",
       "       'Northville High School - Baseball',\n",
       "       'Lincoln Baseball - Ypsilanti',\n",
       "       'Coldwater High School (Coldwater @ Borden Field)',\n",
       "       'Borden Field  Coldwater',\n",
       "       'James Gulliver Field - Baseball - Allen Park',\n",
       "       'Stevenson High School - Sterling Heights', 'Grosse Pointe North',\n",
       "       'Troy Athens High School - Baseball',\n",
       "       'Wayne State University (Baseball Diamond) - Detroit',\n",
       "       'Saginaw Heritage', 'Portage Northern HS - Baseball',\n",
       "       'Jenison High School - Baseball',\n",
       "       'Cornerstone U. (Baseball Field) - Grand Rapids',\n",
       "       'Mt. Pleasant High School - Baseball',\n",
       "       'Novi High School - Baseball', 'Joe Pitock Field',\n",
       "       'Rochester High School - Rochester Hills', 'West Bloomfield ',\n",
       "       'Novi', 'Eastern Michigan Univ. - Ypsilanti (Oestrike Stadium)',\n",
       "       'Trenton Baseball Stadium',\n",
       "       'Clarenceville High School - Livonia (Stadium)',\n",
       "       'Airport High School - Carleton (Varsity Baseball Field)',\n",
       "       'Livonia Franklin', 'Maroons Field - Holland',\n",
       "       'Eaton Rapids Baseball Field', 'Edwardsburg Baseball Field',\n",
       "       'Gainey Athletic Complex - Baseball - Grand Rapids',\n",
       "       'Hope College - Holland', 'Turcott Field - Petoskey', 'Ionia',\n",
       "       'John C. Huizenga Field - Whitehall',\n",
       "       'Wilmot Field (Wilmot) - Gladwin', 'Clare HS',\n",
       "       'Centennial Field - Beverly Hills',\n",
       "       'Williamston High School - Baseball', 'Saginaw Swan Valley',\n",
       "       'Richmond Baseball Facility', 'SVSU (Baseball Diamond) - Saginaw',\n",
       "       'Ecorse High School (Lorenzo Croft Gymnasium)',\n",
       "       'Bad Axe High School - Baseball (Turmell Field)',\n",
       "       'Whaley Park - Flint',\n",
       "       'University Liggett School - Baseball - Grosse Pointe Woods, MI 48236',\n",
       "       'Sanborn Park - Port Huron', 'Davenport University - Grand Rapids',\n",
       "       'Lansing Catholic High School (Baseball Diamond)',\n",
       "       'Chesaning Baseball Field', 'Bangor High School - Baseball',\n",
       "       'Centreville High School - Baseball',\n",
       "       'Sand Creek High School - Baseball',\n",
       "       'Lumen Christi Catholic High School - Baseball - Jackson',\n",
       "       'Bronson High School - Baseball', 'Adrian College',\n",
       "       'Gladstone Sports Park',\n",
       "       'Standish-Sterling Central High School - Baseball',\n",
       "       'Mason County Central - Baseball - Scottville',\n",
       "       'Traverse City St Francis', 'Harbor Springs High School',\n",
       "       'Kalamazoo College', 'Camden-Frontier High School',\n",
       "       'Concord Baseball Field (Concord Baseball Field)',\n",
       "       'Decatur High School - Baseball (Raider Baseball)',\n",
       "       'Lockhart Field - Frankfort', 'Merrill High School',\n",
       "       'Dansville Baseball Field (None)', 'Holton High sChool - Baseball',\n",
       "       'Dow Diamond (Baseball Field) - Midland',\n",
       "       'Gabriel Richard HS - Baseball - Riverview',\n",
       "       'USA Baseball Field - Sebewaing', 'Mayville High School',\n",
       "       'Parkway Christian School - Baseball - Sterling Heights ',\n",
       "       \"JIMMY JOHN'S STADIUM - Utica\", 'Lorenson Field - Ironwood',\n",
       "       'Whittemore-Prescott High School - Baseball',\n",
       "       'Glen Lake High School - Baseball - Maple City ',\n",
       "       'Pioneer Park - Baseball - Pellston', 'Rudyard'], dtype=object)"
      ]
     },
     "execution_count": 6,
     "metadata": {},
     "output_type": "execute_result"
    }
   ],
   "source": [
    "#### notebook to check which regional sites I haven't plotted yet\n",
    "\n",
    "from pathlib import Path\n",
    "import pandas as pd\n",
    "import numpy as np\n",
    "\n",
    "regional_df = pd.read_csv('data/school_info/regional_locations_all.csv')\n",
    "\n",
    "\n",
    "### Clean up the Location column\n",
    "## remove '- MAP' from the end of the Location column\n",
    "regional_df['Location'] = regional_df['Location'].str.replace(' - MAP', '')\n",
    "\n",
    "# regional_df['Location'] = regional_df['Location'].str.replace('Location: ', '')\n",
    "regional_df['Location'].unique()"
   ]
  }
 ],
 "metadata": {
  "kernelspec": {
   "display_name": "base",
   "language": "python",
   "name": "python3"
  },
  "language_info": {
   "codemirror_mode": {
    "name": "ipython",
    "version": 3
   },
   "file_extension": ".py",
   "mimetype": "text/x-python",
   "name": "python",
   "nbconvert_exporter": "python",
   "pygments_lexer": "ipython3",
   "version": "3.9.12"
  },
  "orig_nbformat": 4,
  "vscode": {
   "interpreter": {
    "hash": "3071ee50c89c1c794c04ecbcb4eb8f9585468a45756c3a74d8e9479e4a2bc436"
   }
  }
 },
 "nbformat": 4,
 "nbformat_minor": 2
}
