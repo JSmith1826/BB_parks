{
 "cells": [
  {
   "cell_type": "code",
   "execution_count": 1,
   "id": "9c7dc244",
   "metadata": {},
   "outputs": [],
   "source": [
    "import geopandas as gdp\n",
    "from shapely.geometry import Point, Polygon\n",
    "import pandas as pd\n",
    "import fiona\n",
    "import matplotlib"
   ]
  },
  {
   "cell_type": "code",
   "execution_count": null,
   "id": "5ef11f57",
   "metadata": {},
   "outputs": [],
   "source": []
  },
  {
   "cell_type": "code",
   "execution_count": 2,
   "id": "5a2646b9",
   "metadata": {},
   "outputs": [],
   "source": [
    "from fiona.drvsupport import supported_drivers\n",
    "supported_drivers['LIBKML'] = 'rw'\n",
    "\n",
    "import fiona\n",
    "fiona.drvsupport.supported_drivers['KML'] = 'rw'"
   ]
  },
  {
   "cell_type": "code",
   "execution_count": 3,
   "id": "34569bae",
   "metadata": {},
   "outputs": [],
   "source": [
    "import geopandas as gpd\n",
    "import fiona\n",
    "\n",
    "fiona.drvsupport.supported_drivers['KML'] = 'rw'\n",
    "df1 = gpd.read_file('data\\Baseball Fields Standardized_1.kml', driver='KML')\n",
    "df2 = gpd.read_file('data\\Baseball Fields Standardized 2.kml', driver='KML')"
   ]
  },
  {
   "cell_type": "code",
   "execution_count": 7,
   "id": "5e23566c",
   "metadata": {},
   "outputs": [
    {
     "name": "stdout",
     "output_type": "stream",
     "text": [
      "          Name Description                                           geometry\n",
      "0  Fair Ground              POLYGON Z ((-84.52765 42.73745 0.00000, -84.52...\n",
      "1  Foul Ground              POLYGON Z ((-84.52765 42.73745 0.00000, -84.52...\n"
     ]
    }
   ],
   "source": [
    "# df1.head()\n",
    "# df1\n",
    "print(df2)"
   ]
  },
  {
   "cell_type": "code",
   "execution_count": 8,
   "id": "d6a65242",
   "metadata": {},
   "outputs": [
    {
     "name": "stderr",
     "output_type": "stream",
     "text": [
      "C:\\Users\\Smitty\\AppData\\Local\\Temp\\ipykernel_7716\\3689775080.py:2: UserWarning: Geometry is in a geographic CRS. Results from 'area' are likely incorrect. Use 'GeoSeries.to_crs()' to re-project geometries to a projected CRS before this operation.\n",
      "\n",
      "  df2.area\n"
     ]
    },
    {
     "data": {
      "text/plain": [
       "0    9.020181e-07\n",
       "1    1.884083e-07\n",
       "dtype: float64"
      ]
     },
     "execution_count": 8,
     "metadata": {},
     "output_type": "execute_result"
    }
   ],
   "source": [
    "df2.to_crs('epsg:3857')\n",
    "df2.area"
   ]
  },
  {
   "cell_type": "code",
   "execution_count": 10,
   "id": "3ec29bed",
   "metadata": {},
   "outputs": [
    {
     "data": {
      "text/html": [
       "<div>\n",
       "<style scoped>\n",
       "    .dataframe tbody tr th:only-of-type {\n",
       "        vertical-align: middle;\n",
       "    }\n",
       "\n",
       "    .dataframe tbody tr th {\n",
       "        vertical-align: top;\n",
       "    }\n",
       "\n",
       "    .dataframe thead th {\n",
       "        text-align: right;\n",
       "    }\n",
       "</style>\n",
       "<table border=\"1\" class=\"dataframe\">\n",
       "  <thead>\n",
       "    <tr style=\"text-align: right;\">\n",
       "      <th></th>\n",
       "      <th>Name</th>\n",
       "      <th>Description</th>\n",
       "      <th>geometry</th>\n",
       "    </tr>\n",
       "  </thead>\n",
       "  <tbody>\n",
       "    <tr>\n",
       "      <th>0</th>\n",
       "      <td>Foul</td>\n",
       "      <td></td>\n",
       "      <td>POLYGON Z ((-84.59783 42.66023 0.00000, -84.59...</td>\n",
       "    </tr>\n",
       "    <tr>\n",
       "      <th>1</th>\n",
       "      <td>FOP</td>\n",
       "      <td></td>\n",
       "      <td>POLYGON Z ((-84.59783 42.66023 0.00000, -84.59...</td>\n",
       "    </tr>\n",
       "  </tbody>\n",
       "</table>\n",
       "</div>"
      ],
      "text/plain": [
       "   Name Description                                           geometry\n",
       "0  Foul              POLYGON Z ((-84.59783 42.66023 0.00000, -84.59...\n",
       "1   FOP              POLYGON Z ((-84.59783 42.66023 0.00000, -84.59..."
      ]
     },
     "execution_count": 10,
     "metadata": {},
     "output_type": "execute_result"
    }
   ],
   "source": [
    "gdp.io.file.fiona.drvsupport.supported_drivers['KML'] = 'rw'\n",
    "my_map = gpd.read_file('data\\BB_MI_various.kml', driver='KML')\n",
    "my_map"
   ]
  },
  {
   "cell_type": "code",
   "execution_count": 11,
   "id": "22cb276f",
   "metadata": {},
   "outputs": [
    {
     "name": "stdout",
     "output_type": "stream",
     "text": [
      "   Name Description                                           geometry\n",
      "0  Foul              POLYGON Z ((-84.59783 42.66023 0.00000, -84.59...\n",
      "1   FOP              POLYGON Z ((-84.59783 42.66023 0.00000, -84.59...\n"
     ]
    }
   ],
   "source": [
    "type(my_map)\n",
    "print(my_map)"
   ]
  },
  {
   "cell_type": "code",
   "execution_count": 12,
   "id": "9ab544fd",
   "metadata": {},
   "outputs": [
    {
     "ename": "ModuleNotFoundError",
     "evalue": "No module named 'folium'",
     "output_type": "error",
     "traceback": [
      "\u001b[1;31m---------------------------------------------------------------------------\u001b[0m",
      "\u001b[1;31mModuleNotFoundError\u001b[0m                       Traceback (most recent call last)",
      "\u001b[1;32mc:\\Users\\Smitty\\Desktop\\REPOS\\BB_parks\\Work_book.ipynb Cell 9\u001b[0m in \u001b[0;36m<cell line: 1>\u001b[1;34m()\u001b[0m\n\u001b[1;32m----> <a href='vscode-notebook-cell:/c%3A/Users/Smitty/Desktop/REPOS/BB_parks/Work_book.ipynb#X11sZmlsZQ%3D%3D?line=0'>1</a>\u001b[0m \u001b[39mimport\u001b[39;00m \u001b[39mfolium\u001b[39;00m\n\u001b[0;32m      <a href='vscode-notebook-cell:/c%3A/Users/Smitty/Desktop/REPOS/BB_parks/Work_book.ipynb#X11sZmlsZQ%3D%3D?line=1'>2</a>\u001b[0m fig \u001b[39m=\u001b[39m folium\u001b[39m.\u001b[39mMap(width\u001b[39m=\u001b[39m\u001b[39m900\u001b[39m, height\u001b[39m=\u001b[39m\u001b[39m600\u001b[39m)\n",
      "\u001b[1;31mModuleNotFoundError\u001b[0m: No module named 'folium'"
     ]
    }
   ],
   "source": [
    "import folium\n",
    "fig = folium.Map(width=900, height=600)"
   ]
  }
 ],
 "metadata": {
  "kernelspec": {
   "display_name": "Python 3.9.12 ('base')",
   "language": "python",
   "name": "python3"
  },
  "language_info": {
   "codemirror_mode": {
    "name": "ipython",
    "version": 3
   },
   "file_extension": ".py",
   "mimetype": "text/x-python",
   "name": "python",
   "nbconvert_exporter": "python",
   "pygments_lexer": "ipython3",
   "version": "3.9.12"
  },
  "vscode": {
   "interpreter": {
    "hash": "c39409374280883e8269d634f54b36339d04ff5fd42825c34d0da32e37219053"
   }
  }
 },
 "nbformat": 4,
 "nbformat_minor": 5
}
