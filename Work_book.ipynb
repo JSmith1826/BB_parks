{
 "cells": [
  {
   "cell_type": "code",
   "execution_count": 20,
   "id": "9c7dc244",
   "metadata": {},
   "outputs": [],
   "source": [
    "import geopandas as gdp\n",
    "from shapely.geometry import Point, Polygon\n",
    "import pandas as pd\n",
    "import fiona\n",
    "import matplotlib"
   ]
  },
  {
   "cell_type": "code",
   "execution_count": null,
   "id": "5ef11f57",
   "metadata": {},
   "outputs": [],
   "source": []
  },
  {
   "cell_type": "code",
   "execution_count": 2,
   "id": "5a2646b9",
   "metadata": {},
   "outputs": [],
   "source": [
    "from fiona.drvsupport import supported_drivers\n",
    "supported_drivers['LIBKML'] = 'rw'\n",
    "\n",
    "import fiona\n",
    "fiona.drvsupport.supported_drivers['KML'] = 'rw'"
   ]
  },
  {
   "cell_type": "code",
   "execution_count": 9,
   "id": "34569bae",
   "metadata": {},
   "outputs": [],
   "source": [
    "import geopandas as gpd\n",
    "import fiona\n",
    "\n",
    "fiona.drvsupport.supported_drivers['KML'] = 'rw'\n",
    "df1 = gpd.read_file('data\\Baseball Fields Standardized_1.kml', driver='KML')\n",
    "df2 = gpd.read_file('data\\Baseball Fields Standardized 2.kml', driver='KML')"
   ]
  },
  {
   "cell_type": "code",
   "execution_count": 11,
   "id": "5e23566c",
   "metadata": {},
   "outputs": [
    {
     "name": "stdout",
     "output_type": "stream",
     "text": [
      "          Name Description                                           geometry\n",
      "0  Fair Ground              POLYGON Z ((-84.52765 42.73745 0.00000, -84.52...\n",
      "1  Foul Ground              POLYGON Z ((-84.52765 42.73745 0.00000, -84.52...\n"
     ]
    }
   ],
   "source": [
    "df.head()\n",
    "df\n",
    "print(df2)"
   ]
  },
  {
   "cell_type": "code",
   "execution_count": 24,
   "id": "d6a65242",
   "metadata": {},
   "outputs": [
    {
     "name": "stderr",
     "output_type": "stream",
     "text": [
      "C:\\Users\\Justin\\AppData\\Local\\Temp\\ipykernel_10416\\3689775080.py:2: UserWarning: Geometry is in a geographic CRS. Results from 'area' are likely incorrect. Use 'GeoSeries.to_crs()' to re-project geometries to a projected CRS before this operation.\n",
      "\n",
      "  df2.area\n"
     ]
    },
    {
     "data": {
      "text/plain": [
       "0    9.020181e-07\n",
       "1    1.884083e-07\n",
       "dtype: float64"
      ]
     },
     "execution_count": 24,
     "metadata": {},
     "output_type": "execute_result"
    }
   ],
   "source": [
    "df2.to_crs('epsg:3857')\n",
    "df2.area"
   ]
  },
  {
   "cell_type": "code",
   "execution_count": null,
   "id": "3ec29bed",
   "metadata": {},
   "outputs": [],
   "source": [
    "gdp.io.file.fiona.drvsupport.supported_drivers['KML'] = 'rw'\n",
    "my_map = gpd.read_file('data\\Lansing_area_1.kml', driver='KML')\n",
    "my_map"
   ]
  },
  {
   "cell_type": "code",
   "execution_count": null,
   "id": "22cb276f",
   "metadata": {},
   "outputs": [],
   "source": [
    "type(my_map)\n",
    "print(my_map)"
   ]
  },
  {
   "cell_type": "code",
   "execution_count": null,
   "id": "9ab544fd",
   "metadata": {},
   "outputs": [],
   "source": [
    "import folium\n",
    "fig = folium.Map(width=900, height=600)"
   ]
  }
 ],
 "metadata": {
  "kernelspec": {
   "display_name": "Python 3 (ipykernel)",
   "language": "python",
   "name": "python3"
  },
  "language_info": {
   "codemirror_mode": {
    "name": "ipython",
    "version": 3
   },
   "file_extension": ".py",
   "mimetype": "text/x-python",
   "name": "python",
   "nbconvert_exporter": "python",
   "pygments_lexer": "ipython3",
   "version": "3.9.12"
  }
 },
 "nbformat": 4,
 "nbformat_minor": 5
}
