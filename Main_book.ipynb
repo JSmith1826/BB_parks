{
 "cells": [
  {
   "cell_type": "code",
   "execution_count": 8,
   "id": "1974c378",
   "metadata": {},
   "outputs": [],
   "source": [
    "# Dependencies\n",
    "\n",
    "import pandas as pd\n",
    "import geopandas as gpd\n",
    "\n",
    "from geopandas import GeoDataFrame\n",
    "from shapely.geometry import Point\n",
    "import fiona"
   ]
  },
  {
   "cell_type": "code",
   "execution_count": 9,
   "id": "8541fc32",
   "metadata": {},
   "outputs": [
    {
     "data": {
      "text/plain": [
       "School    string\n",
       "FOP       string\n",
       "Foul      string\n",
       "dtype: object"
      ]
     },
     "execution_count": 9,
     "metadata": {},
     "output_type": "execute_result"
    }
   ],
   "source": [
    "\n",
    "\n",
    "# Load file and set first row as index\n",
    "df = pd.read_csv('data/standard_first_20.csv', encoding='cp1252')\n",
    "\n",
    "# ##Set first row as column headers\n",
    "# df.columns = df.iloc[0]\n",
    "\n",
    "# ## Drop first row and save \n",
    "# df = df.drop(index=0)\n",
    "\n",
    "# # Drop rows with NaN in the 'FOP' Column\n",
    "\n",
    "# df = df.dropna(subset=['FOP'])\n",
    "# df\n",
    "\n",
    "clean_df = df\n",
    "# clean_df.head()\n",
    "\n",
    "\n",
    "\n",
    "# Change all columns to string\n",
    "\n",
    "clean_df = clean_df.astype('string')\n",
    "\n",
    "clean_df.dtypes"
   ]
  },
  {
   "cell_type": "code",
   "execution_count": 10,
   "id": "27079e75",
   "metadata": {},
   "outputs": [
    {
     "data": {
      "text/plain": [
       "Unnamed: 0     int64\n",
       "School        object\n",
       "FOP           object\n",
       "Foul          object\n",
       "dtype: object"
      ]
     },
     "execution_count": 10,
     "metadata": {},
     "output_type": "execute_result"
    }
   ],
   "source": [
    "# Output cleaned df as csv\n",
    "clean_df.to_csv('data/clean.csv')\n",
    "\n",
    "df = pd.read_csv('data/clean.csv')\n",
    "df.dtypes"
   ]
  },
  {
   "cell_type": "code",
   "execution_count": 11,
   "id": "c0f39b6a",
   "metadata": {},
   "outputs": [
    {
     "data": {
      "text/html": [
       "<div>\n",
       "<style scoped>\n",
       "    .dataframe tbody tr th:only-of-type {\n",
       "        vertical-align: middle;\n",
       "    }\n",
       "\n",
       "    .dataframe tbody tr th {\n",
       "        vertical-align: top;\n",
       "    }\n",
       "\n",
       "    .dataframe thead th {\n",
       "        text-align: right;\n",
       "    }\n",
       "</style>\n",
       "<table border=\"1\" class=\"dataframe\">\n",
       "  <thead>\n",
       "    <tr style=\"text-align: right;\">\n",
       "      <th></th>\n",
       "      <th>School</th>\n",
       "      <th>Foul</th>\n",
       "      <th>geometry</th>\n",
       "    </tr>\n",
       "  </thead>\n",
       "  <tbody>\n",
       "    <tr>\n",
       "      <th>0</th>\n",
       "      <td>Charlotte High School</td>\n",
       "      <td>POLYGON ((-84.8551165 42.5604691, -84.8539296 ...</td>\n",
       "      <td>POLYGON ((-84.85512 42.56047, -84.85393 42.560...</td>\n",
       "    </tr>\n",
       "    <tr>\n",
       "      <th>1</th>\n",
       "      <td>Dewitt HS</td>\n",
       "      <td>POLYGON ((-84.5810277 42.8262729, -84.5821569 ...</td>\n",
       "      <td>POLYGON ((-84.58103 42.82627, -84.58216 42.826...</td>\n",
       "    </tr>\n",
       "    <tr>\n",
       "      <th>2</th>\n",
       "      <td>Eastern HS</td>\n",
       "      <td>POLYGON ((-84.5355748 42.7372929, -84.5363943 ...</td>\n",
       "      <td>POLYGON ((-84.53557 42.73729, -84.53639 42.737...</td>\n",
       "    </tr>\n",
       "    <tr>\n",
       "      <th>3</th>\n",
       "      <td>Eaton Rapids 1</td>\n",
       "      <td>POLYGON ((-84.635145 42.5118192, -84.6360033 4...</td>\n",
       "      <td>POLYGON ((-84.63514 42.51182, -84.63600 42.512...</td>\n",
       "    </tr>\n",
       "    <tr>\n",
       "      <th>4</th>\n",
       "      <td>Eaton Rapids 2</td>\n",
       "      <td>POLYGON ((-84.6350135 42.5110331, -84.6342571 ...</td>\n",
       "      <td>POLYGON ((-84.63501 42.51103, -84.63426 42.510...</td>\n",
       "    </tr>\n",
       "  </tbody>\n",
       "</table>\n",
       "</div>"
      ],
      "text/plain": [
       "                  School                                               Foul  \\\n",
       "0  Charlotte High School  POLYGON ((-84.8551165 42.5604691, -84.8539296 ...   \n",
       "1              Dewitt HS  POLYGON ((-84.5810277 42.8262729, -84.5821569 ...   \n",
       "2             Eastern HS  POLYGON ((-84.5355748 42.7372929, -84.5363943 ...   \n",
       "3         Eaton Rapids 1  POLYGON ((-84.635145 42.5118192, -84.6360033 4...   \n",
       "4         Eaton Rapids 2  POLYGON ((-84.6350135 42.5110331, -84.6342571 ...   \n",
       "\n",
       "                                            geometry  \n",
       "0  POLYGON ((-84.85512 42.56047, -84.85393 42.560...  \n",
       "1  POLYGON ((-84.58103 42.82627, -84.58216 42.826...  \n",
       "2  POLYGON ((-84.53557 42.73729, -84.53639 42.737...  \n",
       "3  POLYGON ((-84.63514 42.51182, -84.63600 42.512...  \n",
       "4  POLYGON ((-84.63501 42.51103, -84.63426 42.510...  "
      ]
     },
     "execution_count": 11,
     "metadata": {},
     "output_type": "execute_result"
    }
   ],
   "source": [
    "\n",
    "\n",
    "\n",
    "### Use Shapely to work with wrt values (the format of the current string POLYGONS)\n",
    "\n",
    "#You need to convert your pandas DataFrame to a geopandas GeoDataFrame to access the geometry column as shapely object. This post describes how to achieve it.\n",
    "\n",
    "#one solution:\n",
    "#https://gis.stackexchange.com/questions/404299/how-to-convert-string-type-to-shapely-object\n",
    "\n",
    "from shapely import wkt\n",
    "df = pd.read_csv('data/clean.csv')\n",
    "fair_df = pd.DataFrame(df, columns=['School','FOP'])\n",
    "foul_df = pd.DataFrame(df, columns=['School','Foul'])\n",
    "# foul_df\n",
    "\n",
    "### Loading the strings as geo objects\n",
    "fair_df['FOP'] = fair_df['FOP'].apply(wkt.loads)\n",
    "foul_df['Foul'] = foul_df['Foul'].apply(wkt.loads)\n",
    "\n",
    "## Put existing dataframes into geodataframes\n",
    "\n",
    "\n",
    "fair_gdf = gpd.GeoDataFrame(fair_df, columns=['School','FOP'], geometry=fair_df['FOP'], crs='epsg:4326')\n",
    "foul_gdf = gpd.GeoDataFrame(foul_df, columns=['School','Foul'], geometry=foul_df['Foul'], crs='epsg:4326')\n",
    "\n",
    "fair_gdf.head()\n",
    "foul_gdf.head()\n",
    "\n",
    "# # Create a seperate geodataframe and set the geometry to the Foul column\n",
    "# gdf_foul = gpd.GeoDataFrame(df, columns=['School','Foul','Foul2'], geometry=df['Foul'], crs='epsg:4326')\n",
    "\n",
    "\n",
    "\n",
    "#### DOESNT WORK WHEN TRYING TO LOAD THE FINAL COLUMN< NOT SURE WHY\n",
    "#### THERE ARE A NUMBER OF EMPTY FIELDS \n",
    "#df['Foul2'] = df['Foul2'].apply(wkt.loads)\n",
    "\n",
    "\n",
    "\n"
   ]
  },
  {
   "cell_type": "code",
   "execution_count": null,
   "id": "f53ebe97",
   "metadata": {},
   "outputs": [],
   "source": [
    "gdf_foul.head()"
   ]
  },
  {
   "cell_type": "code",
   "execution_count": 12,
   "id": "9c80ddf0",
   "metadata": {},
   "outputs": [
    {
     "name": "stderr",
     "output_type": "stream",
     "text": [
      "c:\\Users\\Justin\\anaconda3\\lib\\site-packages\\pyproj\\crs\\crs.py:130: FutureWarning: '+init=<authority>:<code>' syntax is deprecated. '<authority>:<code>' is the preferred initialization method. When making the change, be mindful of axis order changes: https://pyproj4.github.io/pyproj/stable/gotchas.html#axis-order-changes-in-proj-6\n",
      "  in_crs_string = _prepare_from_proj_string(in_crs_string)\n"
     ]
    },
    {
     "data": {
      "text/html": [
       "<div>\n",
       "<style scoped>\n",
       "    .dataframe tbody tr th:only-of-type {\n",
       "        vertical-align: middle;\n",
       "    }\n",
       "\n",
       "    .dataframe tbody tr th {\n",
       "        vertical-align: top;\n",
       "    }\n",
       "\n",
       "    .dataframe thead th {\n",
       "        text-align: right;\n",
       "    }\n",
       "</style>\n",
       "<table border=\"1\" class=\"dataframe\">\n",
       "  <thead>\n",
       "    <tr style=\"text-align: right;\">\n",
       "      <th></th>\n",
       "      <th>School</th>\n",
       "      <th>FOP_area</th>\n",
       "    </tr>\n",
       "  </thead>\n",
       "  <tbody>\n",
       "    <tr>\n",
       "      <th>0</th>\n",
       "      <td>Charlotte High School</td>\n",
       "      <td>8.498999e-07</td>\n",
       "    </tr>\n",
       "    <tr>\n",
       "      <th>1</th>\n",
       "      <td>Dewitt HS</td>\n",
       "      <td>8.671026e-07</td>\n",
       "    </tr>\n",
       "    <tr>\n",
       "      <th>2</th>\n",
       "      <td>Eastern HS</td>\n",
       "      <td>8.870002e-07</td>\n",
       "    </tr>\n",
       "    <tr>\n",
       "      <th>3</th>\n",
       "      <td>Eaton Rapids 1</td>\n",
       "      <td>1.032290e-06</td>\n",
       "    </tr>\n",
       "    <tr>\n",
       "      <th>4</th>\n",
       "      <td>Eaton Rapids 2</td>\n",
       "      <td>8.684990e-07</td>\n",
       "    </tr>\n",
       "  </tbody>\n",
       "</table>\n",
       "</div>"
      ],
      "text/plain": [
       "                  School      FOP_area\n",
       "0  Charlotte High School  8.498999e-07\n",
       "1              Dewitt HS  8.671026e-07\n",
       "2             Eastern HS  8.870002e-07\n",
       "3         Eaton Rapids 1  1.032290e-06\n",
       "4         Eaton Rapids 2  8.684990e-07"
      ]
     },
     "execution_count": 12,
     "metadata": {},
     "output_type": "execute_result"
    }
   ],
   "source": [
    "# Calculate Fair area in square feet and export just that value to a new dataframe\n",
    "# Works\n",
    "fair_gdf['FOP_area'] = fair_gdf['geometry'].to_crs({'init': 'epsg:4326'})\\\n",
    "               .map(lambda p: p.area)\n",
    "\n",
    "area_df = pd.DataFrame(fair_gdf, columns=['School','FOP_area'])\n",
    "area_df.head()\n",
    "#gdf.head()"
   ]
  },
  {
   "cell_type": "code",
   "execution_count": 13,
   "id": "f4763558",
   "metadata": {},
   "outputs": [
    {
     "name": "stderr",
     "output_type": "stream",
     "text": [
      "c:\\Users\\Justin\\anaconda3\\lib\\site-packages\\pyproj\\crs\\crs.py:130: FutureWarning: '+init=<authority>:<code>' syntax is deprecated. '<authority>:<code>' is the preferred initialization method. When making the change, be mindful of axis order changes: https://pyproj4.github.io/pyproj/stable/gotchas.html#axis-order-changes-in-proj-6\n",
      "  in_crs_string = _prepare_from_proj_string(in_crs_string)\n"
     ]
    },
    {
     "data": {
      "text/html": [
       "<div>\n",
       "<style scoped>\n",
       "    .dataframe tbody tr th:only-of-type {\n",
       "        vertical-align: middle;\n",
       "    }\n",
       "\n",
       "    .dataframe tbody tr th {\n",
       "        vertical-align: top;\n",
       "    }\n",
       "\n",
       "    .dataframe thead th {\n",
       "        text-align: right;\n",
       "    }\n",
       "</style>\n",
       "<table border=\"1\" class=\"dataframe\">\n",
       "  <thead>\n",
       "    <tr style=\"text-align: right;\">\n",
       "      <th></th>\n",
       "      <th>School</th>\n",
       "      <th>Foul_area</th>\n",
       "    </tr>\n",
       "  </thead>\n",
       "  <tbody>\n",
       "    <tr>\n",
       "      <th>0</th>\n",
       "      <td>Charlotte High School</td>\n",
       "      <td>3.631508e-07</td>\n",
       "    </tr>\n",
       "    <tr>\n",
       "      <th>1</th>\n",
       "      <td>Dewitt HS</td>\n",
       "      <td>2.089466e-07</td>\n",
       "    </tr>\n",
       "    <tr>\n",
       "      <th>2</th>\n",
       "      <td>Eastern HS</td>\n",
       "      <td>3.912354e-07</td>\n",
       "    </tr>\n",
       "    <tr>\n",
       "      <th>3</th>\n",
       "      <td>Eaton Rapids 1</td>\n",
       "      <td>3.785751e-07</td>\n",
       "    </tr>\n",
       "    <tr>\n",
       "      <th>4</th>\n",
       "      <td>Eaton Rapids 2</td>\n",
       "      <td>3.468754e-07</td>\n",
       "    </tr>\n",
       "  </tbody>\n",
       "</table>\n",
       "</div>"
      ],
      "text/plain": [
       "                  School     Foul_area\n",
       "0  Charlotte High School  3.631508e-07\n",
       "1              Dewitt HS  2.089466e-07\n",
       "2             Eastern HS  3.912354e-07\n",
       "3         Eaton Rapids 1  3.785751e-07\n",
       "4         Eaton Rapids 2  3.468754e-07"
      ]
     },
     "execution_count": 13,
     "metadata": {},
     "output_type": "execute_result"
    }
   ],
   "source": [
    "# Calculate Foul area in square feet and export just that value to a new dataframe\n",
    "#started with epsg:3395\n",
    "\n",
    "foul_gdf['Foul_area'] = foul_gdf['geometry'].to_crs({'init': 'epsg:4326'})\\\n",
    "              .map(lambda p: p.area)\n",
    "\n",
    "area_foul_df = pd.DataFrame(foul_gdf, columns =['School','Foul_area'])\n",
    "area_foul_df.head()\n"
   ]
  },
  {
   "cell_type": "code",
   "execution_count": 15,
   "id": "c300723a",
   "metadata": {},
   "outputs": [],
   "source": [
    "# Join the two Simple Dataframes\n",
    "\n",
    "area_df = area_df.merge(area_foul_df, on='School')\n",
    "\n",
    "area_df.head()\n",
    "### Tuesday Night -\n",
    "\n",
    "#############################################################\n",
    "\n",
    "area_df.to_csv('data/area_output_NEW.csv')\n"
   ]
  },
  {
   "cell_type": "code",
   "execution_count": null,
   "id": "72d6b291",
   "metadata": {},
   "outputs": [],
   "source": [
    "area_df\n",
    "\n",
    "# ### Output a csv\n",
    "\n",
    "#area_df.to_csv('data/area_output.csv')"
   ]
  },
  {
   "cell_type": "code",
   "execution_count": null,
   "id": "792a9b0c",
   "metadata": {},
   "outputs": [],
   "source": [
    "########## PLAY AROUND WITH MATPLOT LIB\n",
    "\n",
    "\n",
    "\n",
    "%matplotlib inline\n",
    "import matplotlib.pyplot as plt\n",
    "plt.style.use('seaborn-whitegrid')\n",
    "import numpy as np\n",
    "\n",
    "\n",
    "#### Bar PLOT\n",
    "# plot\n",
    "y = area_df['FOP_area']\n",
    "x = np.random.uniform(2, 7, len(x))\n",
    "fig, ax = plt.subplots()\n",
    "\n",
    "ax.bar(x, y, width=1, edgecolor=\"white\", linewidth=0.7)\n",
    "\n",
    "ax.set(xlim=(0, 8), xticks=np.arange(1, 8),\n",
    "       ylim=(0, 2000), yticks=np.arange(1, 8))\n",
    "\n",
    "plt.show()\n",
    "\n",
    "# fig = plt.figure()\n",
    "# ax = plt.axes()\n",
    "\n",
    "\n",
    "# x = area_df['FOP_area']\n",
    "# #y = area_df['Foul_area']\n",
    "\n",
    "# ax.plot(x);"
   ]
  },
  {
   "cell_type": "code",
   "execution_count": null,
   "id": "5ef4cb56",
   "metadata": {},
   "outputs": [],
   "source": [
    "\n",
    "\n",
    "# Calculate a geodesic area, which is very accurate and only requires an ellipsoid (not a projection). This can be done with pyproj 2.3.0 or later.\n",
    "\n",
    "# from pyproj import Geod\n",
    "# from shapely import wkt\n",
    "\n",
    "# # specify a named ellipsoid\n",
    "# geod = Geod(ellps=\"WGS84\")\n",
    "\n",
    "# poly = wkt.loads('''\\\n",
    "# POLYGON ((-116.904 43.371, -116.823 43.389, -116.895 43.407,\n",
    "# -116.908 43.375, -116.904 43.371))''')\n",
    "\n",
    "# area = abs(geod.geometry_area_perimeter(poly)[0])\n",
    "\n",
    "# print('# Geodesic area: {:.3f} m^2'.format(area))\n",
    "\n",
    "# # # Geodesic area: 13205034.647 m^2\n",
    "\n",
    "# abs() is used to return only positive areas. A negative area may be returned depending on the winding direction of the polygon.\n"
   ]
  },
  {
   "cell_type": "code",
   "execution_count": null,
   "id": "29df628c",
   "metadata": {},
   "outputs": [],
   "source": [
    "######## Works to calculate the geometry column now just have to figure out how to repeat calculation over enitre DF & put into new column\n",
    "\n",
    "# Calculate a geodesic area, which is very accurate and only requires an ellipsoid (not a projection). This can be done with pyproj 2.3.0 or later.\n",
    "\n",
    "\n",
    "from pyproj import Geod\n",
    "from shapely import wkt\n",
    "\n",
    "# specify a named ellipsoid\n",
    "geod = Geod(ellps=\"WGS84\")\n",
    "\n",
    "# poly = wkt.loads(str(gdf.iat[0,5]))\n",
    "\n",
    "# # ### TRY\n",
    "# poly = wkt.loads(str(gdf.iloc[0:5,5]))\n",
    "\n",
    "# area = abs(geod.geometry_area_perimeter(poly)[0])\n",
    "\n",
    "##### KILLS KERNAL\n",
    "#gdf['FOP_area'] = abs(geod.geometry_area_perimeter(gdf['geometry']))\n",
    "                      \n",
    "#print('# Geodesic area: {:.3f} m^2'.format(area))\n",
    "\n",
    "gdf.head()"
   ]
  },
  {
   "cell_type": "code",
   "execution_count": null,
   "id": "8089e7eb",
   "metadata": {},
   "outputs": [],
   "source": [
    "\n",
    "\n",
    "\n",
    "\n",
    "### Try this a hopefully simple way. Using a library called area\n",
    "\n",
    "## https://stackoverflow.com/questions/4681737/how-to-calculate-the-area-of-a-polygon-on-the-earths-surface-using-python\n",
    "\n",
    "from area import area\n"
   ]
  },
  {
   "cell_type": "code",
   "execution_count": null,
   "id": "964bfb80",
   "metadata": {},
   "outputs": [],
   "source": []
  },
  {
   "cell_type": "code",
   "execution_count": null,
   "id": "1394b4cd",
   "metadata": {},
   "outputs": [],
   "source": [
    "# from shapely import wkt\n",
    "\n",
    "# df['FOP'] = gpd.GeoSeries.from_wkt(df['FOP'])\n",
    "# df['Foul'] = gpd.GeoSeries.from_wkt(df['Foul'])\n",
    "# df['Foul2'] = gpd.GeoSeries.from_wkt(df['Foul2'])\n",
    "# crs_df = df\n",
    "\n",
    "\n",
    "# geo_frame = gpd.GeoDataFrame(crs_df, geometry='FOP')\n",
    "# tost = geo_frame.set_crs(crs='epsg:6933')\n",
    "\n",
    "# print(tost.crs)\n",
    "# #geo_frame.head"
   ]
  },
  {
   "cell_type": "code",
   "execution_count": null,
   "id": "9492a5bf",
   "metadata": {},
   "outputs": [],
   "source": [
    "# Create a column for area calculation of each ploygon\n",
    "\n",
    "\n",
    "\n",
    "#tost= tost.to_crs({'init': 'epsg:3857'})\n",
    "print(tost.crs)\n",
    "tost.head(2)\n",
    "\n",
    "# test['FOP_area'] = test['FOP'].area/ 10**6\n",
    "# test.head()"
   ]
  },
  {
   "cell_type": "code",
   "execution_count": null,
   "id": "5e687591",
   "metadata": {},
   "outputs": [],
   "source": [
    "# tost['FOP_area'] = tost['FOP'].area/10**6\n",
    "# tost.head()"
   ]
  }
 ],
 "metadata": {
  "kernelspec": {
   "display_name": "Python 3.9.12 ('base')",
   "language": "python",
   "name": "python3"
  },
  "language_info": {
   "codemirror_mode": {
    "name": "ipython",
    "version": 3
   },
   "file_extension": ".py",
   "mimetype": "text/x-python",
   "name": "python",
   "nbconvert_exporter": "python",
   "pygments_lexer": "ipython3",
   "version": "3.9.12"
  },
  "vscode": {
   "interpreter": {
    "hash": "3071ee50c89c1c794c04ecbcb4eb8f9585468a45756c3a74d8e9479e4a2bc436"
   }
  }
 },
 "nbformat": 4,
 "nbformat_minor": 5
}
