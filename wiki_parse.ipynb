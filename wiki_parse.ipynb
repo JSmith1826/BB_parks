{
 "cells": [
  {
   "cell_type": "code",
   "execution_count": 3,
   "metadata": {},
   "outputs": [],
   "source": [
    "## Dependencies: requests, bs4\n",
    "\n",
    "import requests\n",
    "import urllib.request\n",
    "import time\n",
    "from bs4 import BeautifulSoup\n",
    "import numpy as np\n",
    "import pandas as pd\n",
    "from urllib.request import urlopen"
   ]
  },
  {
   "attachments": {},
   "cell_type": "markdown",
   "metadata": {},
   "source": [
    "## Notebook to scrape the data from within the conference page from wikipedia"
   ]
  },
  {
   "cell_type": "markdown",
   "metadata": {},
   "source": []
  },
  {
   "cell_type": "code",
   "execution_count": 5,
   "metadata": {},
   "outputs": [],
   "source": [
    "# testing nest structure with CAAC page\n",
    "page_url = 'https://en.wikipedia.org/wiki/List_of_Michigan_High_School_Association_member_conferences'\n",
    "\n",
    "tost_url = 'https://en.wikipedia.org/wiki/Big_North_Conference_(Michigan)'\n",
    "\n",
    "html = urlopen(page_url)\n",
    "\n",
    "soup = BeautifulSoup(html, 'html.parser')"
   ]
  },
  {
   "cell_type": "code",
   "execution_count": 13,
   "metadata": {},
   "outputs": [
    {
     "name": "stdout",
     "output_type": "stream",
     "text": [
      "[<table class=\"box-More_citations_needed plainlinks metadata ambox ambox-content ambox-Refimprove\" role=\"presentation\"><tbody><tr><td class=\"mbox-image\"><div class=\"mbox-image-div\"><a class=\"image\" href=\"/wiki/File:Question_book-new.svg\"><img alt=\"\" data-file-height=\"399\" data-file-width=\"512\" decoding=\"async\" height=\"39\" src=\"//upload.wikimedia.org/wikipedia/en/thumb/9/99/Question_book-new.svg/50px-Question_book-new.svg.png\" srcset=\"//upload.wikimedia.org/wikipedia/en/thumb/9/99/Question_book-new.svg/75px-Question_book-new.svg.png 1.5x, //upload.wikimedia.org/wikipedia/en/thumb/9/99/Question_book-new.svg/100px-Question_book-new.svg.png 2x\" width=\"50\"/></a></div></td><td class=\"mbox-text\"><div class=\"mbox-text-span\">This article <b>needs additional citations for <a href=\"/wiki/Wikipedia:Verifiability\" title=\"Wikipedia:Verifiability\">verification</a></b>.<span class=\"hide-when-compact\"> Please help <a class=\"external text\" href=\"https://en.wikipedia.org/w/index.php?title=List_of_Michigan_High_School_Association_member_conferences&amp;action=edit\">improve this article</a> by <a href=\"/wiki/Help:Referencing_for_beginners\" title=\"Help:Referencing for beginners\">adding citations to reliable sources</a>. Unsourced material may be challenged and removed.<br/><small><span class=\"plainlinks\"><i>Find sources:</i> <a class=\"external text\" href=\"//www.google.com/search?as_eq=wikipedia&amp;q=%22List+of+Michigan+High+School+Association+member+conferences%22\" rel=\"nofollow\">\"List of Michigan High School Association member conferences\"</a> – <a class=\"external text\" href=\"//www.google.com/search?tbm=nws&amp;q=%22List+of+Michigan+High+School+Association+member+conferences%22+-wikipedia&amp;tbs=ar:1\" rel=\"nofollow\">news</a> <b>·</b> <a class=\"external text\" href=\"//www.google.com/search?&amp;q=%22List+of+Michigan+High+School+Association+member+conferences%22&amp;tbs=bkt:s&amp;tbm=bks\" rel=\"nofollow\">newspapers</a> <b>·</b> <a class=\"external text\" href=\"//www.google.com/search?tbs=bks:1&amp;q=%22List+of+Michigan+High+School+Association+member+conferences%22+-wikipedia\" rel=\"nofollow\">books</a> <b>·</b> <a class=\"external text\" href=\"//scholar.google.com/scholar?q=%22List+of+Michigan+High+School+Association+member+conferences%22\" rel=\"nofollow\">scholar</a> <b>·</b> <a class=\"external text\" href=\"https://www.jstor.org/action/doBasicSearch?Query=%22List+of+Michigan+High+School+Association+member+conferences%22&amp;acc=on&amp;wc=on\" rel=\"nofollow\">JSTOR</a></span></small></span> <span class=\"date-container\"><i>(<span class=\"date\">March 2015</span>)</i></span><span class=\"hide-when-compact\"><i> (<small><a href=\"/wiki/Help:Maintenance_template_removal\" title=\"Help:Maintenance template removal\">Learn how and when to remove this template message</a></small>)</i></span></div></td></tr></tbody></table>]\n"
     ]
    }
   ],
   "source": [
    "#### Mostly working scrape for the conference level pages\n",
    "\n",
    "\n",
    "tables = soup.find_all('table')\n",
    "print(tables)\n",
    "# headers = tables.find_all('th')\n",
    "\n",
    "rows = []\n",
    "\n",
    "# Find all table rows and table data elements\n",
    "\n",
    "for row in tables:\n",
    "\n",
    "    cols = row.find_all('td')\n",
    "\n",
    "    cols = [ele.text.strip() for ele in cols]\n",
    "\n",
    "    rows.append([ele for ele in cols if ele]) # Get rid of empty values\n",
    "\n",
    "import csv\n",
    "\n",
    "with open('conf_test.csv', 'w', newline=\"\") as output:\n",
    "    writer = csv.writer(output)\n",
    "    # writer.writerow(headers)\n",
    "    writer.writerows(rows)\n",
    "\n",
    "# print(header)\n",
    "\n",
    "\n",
    "\n",
    "# print(tables.find_all('tr'))\n"
   ]
  },
  {
   "cell_type": "code",
   "execution_count": 90,
   "metadata": {},
   "outputs": [
    {
     "name": "stdout",
     "output_type": "stream",
     "text": [
      "None\n",
      "None\n"
     ]
    }
   ],
   "source": [
    "##### Get conference level pages from the the main page\n",
    "\n",
    "main_page = 'https://en.wikipedia.org/wiki/List_of_Michigan_High_School_Association_member_conferences#Class_A'\n",
    "\n",
    "parent_html = urlopen(main_page)\n",
    "\n",
    "parent_soup = BeautifulSoup(parent_html, 'html.parser')\n",
    "\n",
    "lines = parent_soup.find( class_ = '#mw-content-text')\n",
    "\n",
    "# rank = parent_soup.find_all('#mw-content-text')\n",
    "\n",
    "\n",
    "# print(len(lines))\n",
    "print(lines)\n",
    "\n",
    "\n",
    "# print(lines)\n",
    "\n",
    "tost = lines\n",
    "l_names = []\n",
    "print(tost)\n",
    "\n",
    "# lines[2].text\n",
    "\n",
    "# print(l_name)\n",
    "# # print(lines[10].text)\n",
    "# print(lines[10].find('a').get('href'))\n",
    "# # parent_table = parent_soup.find_all('table')\n",
    "\n",
    "# # parent_rows = []\n",
    "\n",
    "# i = 0   \n",
    "\n",
    "\n",
    "# # print(parent_soup.prettify())"
   ]
  }
 ],
 "metadata": {
  "kernelspec": {
   "display_name": "base",
   "language": "python",
   "name": "python3"
  },
  "language_info": {
   "codemirror_mode": {
    "name": "ipython",
    "version": 3
   },
   "file_extension": ".py",
   "mimetype": "text/x-python",
   "name": "python",
   "nbconvert_exporter": "python",
   "pygments_lexer": "ipython3",
   "version": "3.9.12"
  },
  "orig_nbformat": 4,
  "vscode": {
   "interpreter": {
    "hash": "3071ee50c89c1c794c04ecbcb4eb8f9585468a45756c3a74d8e9479e4a2bc436"
   }
  }
 },
 "nbformat": 4,
 "nbformat_minor": 2
}
