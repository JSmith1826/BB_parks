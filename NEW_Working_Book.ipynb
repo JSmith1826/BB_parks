{
 "cells": [
  {
   "cell_type": "code",
   "execution_count": 1,
   "metadata": {},
   "outputs": [],
   "source": [
    "import requests\n",
    "from bs4 import BeautifulSoup\n",
    "import pandas as pd\n",
    "\n",
    "with open('data\\kml\\large_test.kml') as file:\n",
    "\n",
    "    data = file.read()\n",
    "\n",
    "    #print (data)"
   ]
  },
  {
   "cell_type": "markdown",
   "metadata": {},
   "source": [
    "WORKING ABOVE"
   ]
  },
  {
   "cell_type": "code",
   "execution_count": 3,
   "metadata": {},
   "outputs": [
    {
     "name": "stdout",
     "output_type": "stream",
     "text": [
      "<kml:coordinates>\n",
      "\t\t\t\t\t\t\t\t-84.0822261,43.4116302,0 -84.0824327,43.4124408,0 -84.08253190000001,43.4124174,0 -84.0824085,43.4118416,0 -84.08239380000001,43.4118319,0 -84.0823656,43.4117013,0 -84.0823415,43.4116789,0 -84.0823254,43.4115718,0 -84.08223150000001,43.4115182,0 -84.08210269999999,43.4115406,0 -84.0820464,43.4115347,0 -84.0818587,43.411561,0 -84.08108350000001,43.411712,0 -84.0810956,43.4117919,0 -84.0822261,43.4116302,0 \n",
      "\t\t\t\t\t\t\t</kml:coordinates>\n"
     ]
    },
    {
     "ename": "TypeError",
     "evalue": "'NoneType' object is not callable",
     "output_type": "error",
     "traceback": [
      "\u001b[1;31m---------------------------------------------------------------------------\u001b[0m",
      "\u001b[1;31mTypeError\u001b[0m                                 Traceback (most recent call last)",
      "\u001b[1;32mc:\\Users\\Smitty\\Desktop\\REPOS\\BB_parks\\NEW_Working_Book.ipynb Cell 3\u001b[0m in \u001b[0;36m<cell line: 24>\u001b[1;34m()\u001b[0m\n\u001b[0;32m     <a href='vscode-notebook-cell:/c%3A/Users/Smitty/Desktop/REPOS/BB_parks/NEW_Working_Book.ipynb#W2sZmlsZQ%3D%3D?line=20'>21</a>\u001b[0m \u001b[39mprint\u001b[39m(home_plate)\n\u001b[0;32m     <a href='vscode-notebook-cell:/c%3A/Users/Smitty/Desktop/REPOS/BB_parks/NEW_Working_Book.ipynb#W2sZmlsZQ%3D%3D?line=21'>22</a>\u001b[0m \u001b[39m#print(coords2)\u001b[39;00m\n\u001b[1;32m---> <a href='vscode-notebook-cell:/c%3A/Users/Smitty/Desktop/REPOS/BB_parks/NEW_Working_Book.ipynb#W2sZmlsZQ%3D%3D?line=23'>24</a>\u001b[0m home_plate\u001b[39m.\u001b[39;49mdecribe()\n",
      "\u001b[1;31mTypeError\u001b[0m: 'NoneType' object is not callable"
     ]
    }
   ],
   "source": [
    "# Initializing soup variable\n",
    "soup = BeautifulSoup(data, 'xml')\n",
    "\n",
    "# Extracting the data\n",
    "folders = soup.Document.Folder\n",
    "layers = soup.Document.Folder.Placemark\n",
    "polygons = soup.Document.Folder.Placemark.Polygon\n",
    "\n",
    "field_name = folders.find_all('name')\n",
    "#print(field_name)\n",
    "\n",
    "# name1 = layers.find_all('name')\n",
    "# print(name1)\n",
    "\n",
    "placemark = soup.select('Placemark coordinates')\n",
    "\n",
    "home_plate = layers.find_all('coordinates')[0]\n",
    "coords1 = layers.find_all_next('coordinates')\n",
    "#coords2 = layers.find_all_next('coordinates')\n",
    "\n",
    "print(home_plate)\n",
    "#print(coords2)\n",
    "\n",
    "home_plate.decribe()\n",
    "\n",
    "# # name2 = layers.findnext('name')\n",
    "# # print(name2)\n",
    "\n",
    "# # coords2 = polygons.findnext('coordinates').text\n",
    "# # print(coords2)\n",
    "\n",
    "\n",
    "# #for each in polygons:\n",
    "\n"
   ]
  },
  {
   "cell_type": "markdown",
   "metadata": {},
   "source": [
    "Strategy to get the homeplate coord\n",
    "\n",
    "output to table\n",
    "\n",
    "Folder.name\n",
    "\n",
    "folder.find('coordenates') ---- then find a way to pull the first tuple of the list. First tuple of the list is going to be out home_plate point\n",
    "\n",
    "\n",
    "####################\n",
    "\n",
    "12-7\n",
    "\n",
    "##########\n",
    "\n",
    "What I want out of a csv file to go on to measuring distances\n",
    "\n",
    "columns = Name, List of tuples to draw Foul_Polygon, _Fair_Polygon\n",
    "\n",
    "pull Name from Top folder name. will have to figure out how to use the lists to extract the first value (use as home_plate)"
   ]
  },
  {
   "cell_type": "code",
   "execution_count": 26,
   "metadata": {},
   "outputs": [
    {
     "name": "stdout",
     "output_type": "stream",
     "text": [
      "Saginaw Swan Valley High School \n",
      "\t\t\t\t\t\t\t\t-84.0822261,43.4116302,0 -84.0824327,43.4124408,0 -84.08253190000001,43.4124174,0 -84.0824085,43.4118416,0 -84.08239380000001,43.4118319,0 -84.0823656,43.4117013,0 -84.0823415,43.4116789,0 -84.0823254,43.4115718,0 -84.08223150000001,43.4115182,0 -84.08210269999999,43.4115406,0 -84.0820464,43.4115347,0 -84.0818587,43.411561,0 -84.08108350000001,43.411712,0 -84.0810956,43.4117919,0 -84.0822261,43.4116302,0 \n",
      "\t\t\t\t\t\t\t\n"
     ]
    }
   ],
   "source": [
    "# Extracting the data\n",
    "document = soup.Document\n",
    "folders = soup.Document.Folder.Folder\n",
    "layers = soup.Document.Folder.Placemark\n",
    "polygons = soup.Document.Folder.Placemark.Polygon\n",
    "\n",
    "placemark = soup.select('Placemark coordinates')\n",
    "\n",
    "\n",
    "## Create dataframe\n",
    "df = pd.DataFrame(columns=['name', 'Foul', 'FOP'])\n",
    "\n",
    "# field_name = folders.find('name').text\n",
    "\n",
    "for row in folders:\n",
    "    #all_names = folders.findAll('name')\n",
    "    field_name = folders.find('name').text # Works\n",
    "    name1 = layers.findNext('name')\n",
    "    coords1 = polygons.find('coordinates').text\n",
    "    \n",
    "    # for i in layers:\n",
    "    #     l_name = layers.find('name')\n",
    "    #     coords1 = layers.find_all('coordinates')\n",
    "    #     print(field_name, l_name, coords1)\n",
    "\n",
    "        # print(l_names)\n",
    "        # print(coords)\n",
    "    #name = folders.name\n",
    "    \n",
    "    # coords = row.findNext('coordinates').text\n",
    "    # df['name'] = field_name\n",
    "    # df['Foul'] = coords\n",
    "# print(all_names)\n",
    "\n",
    "print(field_name, coords1)"
   ]
  },
  {
   "cell_type": "markdown",
   "metadata": {},
   "source": [
    "## Not using anymore. Feeling better agout the BeautifulSoup route  \n",
    "\n",
    "# New Approach using Element Tree\n"
   ]
  },
  {
   "cell_type": "code",
   "execution_count": 128,
   "metadata": {},
   "outputs": [
    {
     "data": {
      "text/html": [
       "<div>\n",
       "<style scoped>\n",
       "    .dataframe tbody tr th:only-of-type {\n",
       "        vertical-align: middle;\n",
       "    }\n",
       "\n",
       "    .dataframe tbody tr th {\n",
       "        vertical-align: top;\n",
       "    }\n",
       "\n",
       "    .dataframe thead th {\n",
       "        text-align: right;\n",
       "    }\n",
       "</style>\n",
       "<table border=\"1\" class=\"dataframe\">\n",
       "  <thead>\n",
       "    <tr style=\"text-align: right;\">\n",
       "      <th></th>\n",
       "    </tr>\n",
       "  </thead>\n",
       "  <tbody>\n",
       "  </tbody>\n",
       "</table>\n",
       "</div>"
      ],
      "text/plain": [
       "Empty DataFrame\n",
       "Columns: []\n",
       "Index: []"
      ]
     },
     "execution_count": 128,
     "metadata": {},
     "output_type": "execute_result"
    }
   ],
   "source": [
    "# import pandas as pd\n",
    "# import xml.etree.ElementTree as ET\n",
    "# import io\n",
    "\n",
    "# def iter_docs(author):\n",
    "#     author_attr = author.attrib\n",
    "#     for doc in author.iter('document'):\n",
    "#         doc_dict = author_attr.copy()\n",
    "#         doc_dict.update(doc.attrib)\n",
    "#         doc_dict['data'] = doc.text\n",
    "#         yield doc_dict\n",
    "\n",
    "# xml_data = io.StringIO(data)\n",
    "\n",
    "# etree = ET.parse(xml_data) #create an ElementTree object \n",
    "# doc_df = pd.DataFrame(list(iter_docs(etree.getroot())))\n",
    "\n",
    "# doc_df.head()"
   ]
  },
  {
   "cell_type": "code",
   "execution_count": 159,
   "metadata": {},
   "outputs": [
    {
     "data": {
      "text/plain": [
       "<bound method DataFrame.info of               name  StyleMap  Style  Folder\n",
       "0  MI_BB_pARKS.kmz       NaN    NaN     NaN>"
      ]
     },
     "execution_count": 159,
     "metadata": {},
     "output_type": "execute_result"
    }
   ],
   "source": [
    "test_file = 'data\\kml\\doc.kml'\n",
    "\n",
    "orig_file = 'data\\kml\\BB_D3_1.kml'\n",
    "\n",
    "with open('data\\kml\\doc.kml') as file:\n",
    "\n",
    "    data = file.read()\n",
    "\n",
    "\n",
    "df = pd.read_xml('data\\kml\\doc.kml')\n",
    "\n",
    "df.info"
   ]
  }
 ],
 "metadata": {
  "kernelspec": {
   "display_name": "base",
   "language": "python",
   "name": "python3"
  },
  "language_info": {
   "codemirror_mode": {
    "name": "ipython",
    "version": 3
   },
   "file_extension": ".py",
   "mimetype": "text/x-python",
   "name": "python",
   "nbconvert_exporter": "python",
   "pygments_lexer": "ipython3",
   "version": "3.9.12"
  },
  "orig_nbformat": 4,
  "vscode": {
   "interpreter": {
    "hash": "c39409374280883e8269d634f54b36339d04ff5fd42825c34d0da32e37219053"
   }
  }
 },
 "nbformat": 4,
 "nbformat_minor": 2
}
