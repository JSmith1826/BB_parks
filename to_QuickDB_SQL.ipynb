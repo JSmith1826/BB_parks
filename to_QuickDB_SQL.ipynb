{
 "cells": [
  {
   "cell_type": "code",
   "execution_count": 12,
   "metadata": {},
   "outputs": [],
   "source": [
    "## Function to take a dataframe and convert it to a SQL table for QuickDBD\n",
    "\n",
    "import pandas as pd"
   ]
  },
  {
   "cell_type": "code",
   "execution_count": 13,
   "metadata": {},
   "outputs": [],
   "source": [
    "import re\n",
    "\n",
    "def generate_quickdbd(df, table_name):\n",
    "    # Dictionary to map pandas dtypes to SQL dtypes\n",
    "    dtype_dict = { 'object': 'varchar', 'int64': 'int', 'float64': 'float', 'datetime64[ns]': 'datetime', 'bool': 'boolean' }\n",
    "\n",
    "    output = []\n",
    "    output.append(f\"{table_name}\\n-\")\n",
    "    for i, (column, dtype) in enumerate(df.dtypes.iteritems()):\n",
    "        # Replace spaces with underscores and remove non-alphanumeric or underscore characters\n",
    "        cleaned_column = re.sub('\\W|^(?=\\d)', '_', column.replace(\" \", \"_\"))\n",
    "\n",
    "        # Map pandas dtypes to SQL dtypes\n",
    "        sql_dtype = dtype_dict.get(str(dtype), 'varchar')\n",
    "\n",
    "        # Assume the first column is the primary key (PK)\n",
    "        if i == 0:\n",
    "            output.append(f\"  {cleaned_column} PK {sql_dtype}\")\n",
    "        else:\n",
    "            output.append(f\"  {cleaned_column} {sql_dtype}\")\n",
    "\n",
    "    return \"\\n\".join(output)\n"
   ]
  },
  {
   "cell_type": "code",
   "execution_count": 14,
   "metadata": {},
   "outputs": [
    {
     "name": "stdout",
     "output_type": "stream",
     "text": [
      "<class 'pandas.core.frame.DataFrame'>\n",
      "RangeIndex: 22176 entries, 0 to 22175\n",
      "Data columns (total 20 columns):\n",
      " #   Column          Non-Null Count  Dtype  \n",
      "---  ------          --------------  -----  \n",
      " 0   teamName        22176 non-null  object \n",
      " 1   teamId          22176 non-null  int64  \n",
      " 2   leagueName      20985 non-null  object \n",
      " 3   opponentName    21585 non-null  object \n",
      " 4   opponentId      21585 non-null  float64\n",
      " 5   gameDate        22176 non-null  object \n",
      " 6   gameTime        22176 non-null  object \n",
      " 7   homeOrAway      22176 non-null  object \n",
      " 8   location        19581 non-null  object \n",
      " 9   teamScore       16343 non-null  float64\n",
      " 10  opponentScore   16343 non-null  float64\n",
      " 11  notes           6083 non-null   object \n",
      " 12  contestType     22176 non-null  int64  \n",
      " 13  seasonType      22176 non-null  int64  \n",
      " 14  postSeasonInfo  1235 non-null   object \n",
      " 15  tournamentInfo  0 non-null      float64\n",
      " 16  tournamentName  1235 non-null   object \n",
      " 17  tournamentType  21597 non-null  float64\n",
      " 18  contestName     964 non-null    object \n",
      " 19  seasonTypeCode  22176 non-null  object \n",
      "dtypes: float64(5), int64(3), object(12)\n",
      "memory usage: 3.4+ MB\n"
     ]
    }
   ],
   "source": [
    "## Load the DF\n",
    "# Read CSV\n",
    "df = pd.read_csv(\"TEMP\\clean_tables\\game_level\\_2023_games.csv\")\n",
    "\n",
    "\n",
    "df.info()"
   ]
  },
  {
   "cell_type": "code",
   "execution_count": 15,
   "metadata": {},
   "outputs": [
    {
     "name": "stdout",
     "output_type": "stream",
     "text": [
      "game_level_data\n",
      "-\n",
      "  teamName PK varchar\n",
      "  teamId int\n",
      "  leagueName varchar\n",
      "  opponentName varchar\n",
      "  opponentId float\n",
      "  gameDate varchar\n",
      "  gameTime varchar\n",
      "  homeOrAway varchar\n",
      "  location varchar\n",
      "  teamScore float\n",
      "  opponentScore float\n",
      "  notes varchar\n",
      "  contestType int\n",
      "  seasonType int\n",
      "  postSeasonInfo varchar\n",
      "  tournamentInfo float\n",
      "  tournamentName varchar\n",
      "  tournamentType float\n",
      "  contestName varchar\n",
      "  seasonTypeCode varchar\n"
     ]
    }
   ],
   "source": [
    "# Run And PRINT\n",
    "# df = pd.DataFrame({\"Name\": [\"Alice\", \"Bob\"], \"Age\": [25, 30]})\n",
    "print(generate_quickdbd(df, \"game_level_data\"))\n"
   ]
  }
 ],
 "metadata": {
  "kernelspec": {
   "display_name": "base",
   "language": "python",
   "name": "python3"
  },
  "language_info": {
   "codemirror_mode": {
    "name": "ipython",
    "version": 3
   },
   "file_extension": ".py",
   "mimetype": "text/x-python",
   "name": "python",
   "nbconvert_exporter": "python",
   "pygments_lexer": "ipython3",
   "version": "3.9.12"
  },
  "orig_nbformat": 4
 },
 "nbformat": 4,
 "nbformat_minor": 2
}
