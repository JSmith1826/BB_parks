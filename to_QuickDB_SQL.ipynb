{
 "cells": [
  {
   "cell_type": "code",
   "execution_count": 1,
   "metadata": {},
   "outputs": [],
   "source": [
    "## Function to take a dataframe and convert it to a SQL table for QuickDBD\n",
    "\n",
    "import pandas as pd"
   ]
  },
  {
   "cell_type": "code",
   "execution_count": 2,
   "metadata": {},
   "outputs": [],
   "source": [
    "import re\n",
    "\n",
    "def generate_quickdbd(df, table_name):\n",
    "    # Dictionary to map pandas dtypes to SQL dtypes\n",
    "    dtype_dict = { 'object': 'varchar', 'int64': 'int', 'float64': 'float', 'datetime64[ns]': 'datetime', 'bool': 'boolean' }\n",
    "\n",
    "    output = []\n",
    "    output.append(f\"{table_name}\\n-\")\n",
    "    for i, (column, dtype) in enumerate(df.dtypes.iteritems()):\n",
    "        # Replace spaces with underscores and remove non-alphanumeric or underscore characters\n",
    "        cleaned_column = re.sub('\\W|^(?=\\d)', '_', column.replace(\" \", \"_\"))\n",
    "\n",
    "        # Map pandas dtypes to SQL dtypes\n",
    "        sql_dtype = dtype_dict.get(str(dtype), 'varchar')\n",
    "\n",
    "        # Assume the first column is the primary key (PK)\n",
    "        if i == 0:\n",
    "            output.append(f\"  {cleaned_column} PK {sql_dtype}\")\n",
    "        else:\n",
    "            output.append(f\"  {cleaned_column} {sql_dtype}\")\n",
    "\n",
    "    return \"\\n\".join(output)\n"
   ]
  },
  {
   "cell_type": "code",
   "execution_count": 3,
   "metadata": {},
   "outputs": [
    {
     "name": "stdout",
     "output_type": "stream",
     "text": [
      "<class 'pandas.core.frame.DataFrame'>\n",
      "RangeIndex: 602 entries, 0 to 601\n",
      "Data columns (total 25 columns):\n",
      " #   Column                 Non-Null Count  Dtype  \n",
      "---  ------                 --------------  -----  \n",
      " 0   primary_team           602 non-null    object \n",
      " 1   games                  584 non-null    float64\n",
      " 2   home_games             599 non-null    float64\n",
      " 3   away_games             587 non-null    float64\n",
      " 4   wins                   584 non-null    float64\n",
      " 5   home_wins              599 non-null    float64\n",
      " 6   away_wins              587 non-null    float64\n",
      " 7   losses                 584 non-null    float64\n",
      " 8   home_losses            599 non-null    float64\n",
      " 9   away_losses            587 non-null    float64\n",
      " 10  ties                   584 non-null    float64\n",
      " 11  home_ties              599 non-null    float64\n",
      " 12  away_ties              587 non-null    float64\n",
      " 13  overall_win_pct        584 non-null    float64\n",
      " 14  home_win_pct           599 non-null    float64\n",
      " 15  away_win_pct           587 non-null    float64\n",
      " 16  home_avg_runs_scored   599 non-null    float64\n",
      " 17  away_avg_runs_scored   587 non-null    float64\n",
      " 18  runs_scored_change     584 non-null    float64\n",
      " 19  home_avg_runs_allowed  599 non-null    float64\n",
      " 20  away_avg_runs_allowed  587 non-null    float64\n",
      " 21  runs_allowed_change    584 non-null    float64\n",
      " 22  home_run_diff          599 non-null    float64\n",
      " 23  away_run_diff          587 non-null    float64\n",
      " 24  run_diff_change        584 non-null    float64\n",
      "dtypes: float64(24), object(1)\n",
      "memory usage: 117.7+ KB\n"
     ]
    }
   ],
   "source": [
    "## Load the DF\n",
    "# Read CSV\n",
    "df = pd.read_csv(\"MHSAA_team_stats_Thu_Jul_22_2021_11-30.csv\")\n",
    "\n",
    "\n",
    "df.info()"
   ]
  },
  {
   "cell_type": "code",
   "execution_count": 4,
   "metadata": {},
   "outputs": [
    {
     "name": "stdout",
     "output_type": "stream",
     "text": [
      "team_yearly_stats_example\n",
      "-\n",
      "  primary_team PK varchar\n",
      "  games float\n",
      "  home_games float\n",
      "  away_games float\n",
      "  wins float\n",
      "  home_wins float\n",
      "  away_wins float\n",
      "  losses float\n",
      "  home_losses float\n",
      "  away_losses float\n",
      "  ties float\n",
      "  home_ties float\n",
      "  away_ties float\n",
      "  overall_win_pct float\n",
      "  home_win_pct float\n",
      "  away_win_pct float\n",
      "  home_avg_runs_scored float\n",
      "  away_avg_runs_scored float\n",
      "  runs_scored_change float\n",
      "  home_avg_runs_allowed float\n",
      "  away_avg_runs_allowed float\n",
      "  runs_allowed_change float\n",
      "  home_run_diff float\n",
      "  away_run_diff float\n",
      "  run_diff_change float\n"
     ]
    }
   ],
   "source": [
    "# Run And PRINT\n",
    "# df = pd.DataFrame({\"Name\": [\"Alice\", \"Bob\"], \"Age\": [25, 30]})\n",
    "print(generate_quickdbd(df, \"team_yearly_stats_example\"))\n"
   ]
  }
 ],
 "metadata": {
  "kernelspec": {
   "display_name": "base",
   "language": "python",
   "name": "python3"
  },
  "language_info": {
   "codemirror_mode": {
    "name": "ipython",
    "version": 3
   },
   "file_extension": ".py",
   "mimetype": "text/x-python",
   "name": "python",
   "nbconvert_exporter": "python",
   "pygments_lexer": "ipython3",
   "version": "3.9.12"
  },
  "orig_nbformat": 4
 },
 "nbformat": 4,
 "nbformat_minor": 2
}
