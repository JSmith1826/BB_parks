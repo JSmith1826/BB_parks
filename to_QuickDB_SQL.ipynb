{
 "cells": [
  {
   "cell_type": "code",
   "execution_count": 39,
   "metadata": {},
   "outputs": [],
   "source": [
    "## Function to take a dataframe and convert it to a SQL table for QuickDBD\n",
    "\n",
    "import pandas as pd"
   ]
  },
  {
   "cell_type": "code",
   "execution_count": 40,
   "metadata": {},
   "outputs": [],
   "source": [
    "import re\n",
    "\n",
    "def generate_quickdbd(df, table_name):\n",
    "    # Dictionary to map pandas dtypes to SQL dtypes\n",
    "    dtype_dict = { 'object': 'varchar', 'int64': 'int', 'float64': 'float', 'datetime64[ns]': 'datetime', 'bool': 'boolean' }\n",
    "\n",
    "    output = []\n",
    "    output.append(f\"{table_name}\\n-\")\n",
    "    for i, (column, dtype) in enumerate(df.dtypes.iteritems()):\n",
    "        # Replace spaces with underscores and remove non-alphanumeric or underscore characters\n",
    "        cleaned_column = re.sub('\\W|^(?=\\d)', '_', column.replace(\" \", \"_\"))\n",
    "\n",
    "        # Map pandas dtypes to SQL dtypes\n",
    "        sql_dtype = dtype_dict.get(str(dtype), 'varchar')\n",
    "\n",
    "        # Assume the first column is the primary key (PK)\n",
    "        if i == 0:\n",
    "            output.append(f\"  {cleaned_column} PK {sql_dtype}\")\n",
    "        else:\n",
    "            output.append(f\"  {cleaned_column} {sql_dtype}\")\n",
    "\n",
    "    return \"\\n\".join(output)\n"
   ]
  },
  {
   "cell_type": "code",
   "execution_count": 41,
   "metadata": {},
   "outputs": [
    {
     "name": "stdout",
     "output_type": "stream",
     "text": [
      "<class 'pandas.core.frame.DataFrame'>\n",
      "RangeIndex: 1314 entries, 0 to 1313\n",
      "Data columns (total 36 columns):\n",
      " #   Column                            Non-Null Count  Dtype  \n",
      "---  ------                            --------------  -----  \n",
      " 0   school_name                       1314 non-null   object \n",
      " 1   school_id                         1314 non-null   float64\n",
      " 2   school_district                   1314 non-null   object \n",
      " 3   school_district_id                1314 non-null   int64  \n",
      " 4   total_students                    1314 non-null   int64  \n",
      " 5   teachers                          1314 non-null   float64\n",
      " 6   student_teacher_ratio             1314 non-null   object \n",
      " 7   lunch_free_count                  1314 non-null   object \n",
      " 8   lunch_reduced_count               1314 non-null   object \n",
      " 9   lunch_total_count                 1314 non-null   object \n",
      " 10  9                                 974 non-null    float64\n",
      " 11  10                                972 non-null    float64\n",
      " 12  11                                970 non-null    float64\n",
      " 13  12                                838 non-null    float64\n",
      " 14  American Indian/Alaska Native     1234 non-null   float64\n",
      " 15  Asian                             1234 non-null   float64\n",
      " 16  Black                             1234 non-null   float64\n",
      " 17  Hispanic                          1234 non-null   float64\n",
      " 18  Native Hawaiian/Pacific Islander  1234 non-null   float64\n",
      " 19  White                             1234 non-null   float64\n",
      " 20  Two or MoreRaces                  1234 non-null   float64\n",
      " 21  Male                              1314 non-null   int64  \n",
      " 22  Female                            1314 non-null   int64  \n",
      " 23  Male_Pct                          1314 non-null   object \n",
      " 24  Female_Pct                        1314 non-null   object \n",
      " 25  KG                                298 non-null    float64\n",
      " 26  1                                 304 non-null    float64\n",
      " 27  2                                 306 non-null    float64\n",
      " 28  3                                 312 non-null    float64\n",
      " 29  4                                 329 non-null    float64\n",
      " 30  5                                 184 non-null    float64\n",
      " 31  6                                 179 non-null    float64\n",
      " 32  7                                 278 non-null    float64\n",
      " 33  8                                 327 non-null    float64\n",
      " 34  PK                                177 non-null    object \n",
      " 35  Ungraded                          81 non-null     float64\n",
      "dtypes: float64(23), int64(4), object(9)\n",
      "memory usage: 369.7+ KB\n"
     ]
    }
   ],
   "source": [
    "## Load the DF\n",
    "# Read CSV\n",
    "df = pd.read_csv(\"TEMP\\clean_tables\\public_school_data_transformed.csv\")\n",
    "\n",
    "\n",
    "df.info()"
   ]
  },
  {
   "cell_type": "code",
   "execution_count": 42,
   "metadata": {},
   "outputs": [
    {
     "name": "stdout",
     "output_type": "stream",
     "text": [
      "public school data\n",
      "-\n",
      "  school_name PK varchar\n",
      "  school_id float\n",
      "  school_district varchar\n",
      "  school_district_id int\n",
      "  total_students int\n",
      "  teachers float\n",
      "  student_teacher_ratio varchar\n",
      "  lunch_free_count varchar\n",
      "  lunch_reduced_count varchar\n",
      "  lunch_total_count varchar\n",
      "  _9 float\n",
      "  _10 float\n",
      "  _11 float\n",
      "  _12 float\n",
      "  American_Indian_Alaska_Native float\n",
      "  Asian float\n",
      "  Black float\n",
      "  Hispanic float\n",
      "  Native_Hawaiian_Pacific_Islander float\n",
      "  White float\n",
      "  Two_or_MoreRaces float\n",
      "  Male int\n",
      "  Female int\n",
      "  Male_Pct varchar\n",
      "  Female_Pct varchar\n",
      "  KG float\n",
      "  _1 float\n",
      "  _2 float\n",
      "  _3 float\n",
      "  _4 float\n",
      "  _5 float\n",
      "  _6 float\n",
      "  _7 float\n",
      "  _8 float\n",
      "  PK varchar\n",
      "  Ungraded float\n"
     ]
    }
   ],
   "source": [
    "# Run And PRINT\n",
    "# df = pd.DataFrame({\"Name\": [\"Alice\", \"Bob\"], \"Age\": [25, 30]})\n",
    "print(generate_quickdbd(df, \"public school data\"))\n"
   ]
  }
 ],
 "metadata": {
  "kernelspec": {
   "display_name": "base",
   "language": "python",
   "name": "python3"
  },
  "language_info": {
   "codemirror_mode": {
    "name": "ipython",
    "version": 3
   },
   "file_extension": ".py",
   "mimetype": "text/x-python",
   "name": "python",
   "nbconvert_exporter": "python",
   "pygments_lexer": "ipython3",
   "version": "3.9.12"
  },
  "orig_nbformat": 4
 },
 "nbformat": 4,
 "nbformat_minor": 2
}
