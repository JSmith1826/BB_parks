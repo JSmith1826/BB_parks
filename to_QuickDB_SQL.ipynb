{
 "cells": [
  {
   "cell_type": "code",
   "execution_count": 43,
   "metadata": {},
   "outputs": [],
   "source": [
    "## Function to take a dataframe and convert it to a SQL table for QuickDBD\n",
    "\n",
    "import pandas as pd"
   ]
  },
  {
   "cell_type": "code",
   "execution_count": 44,
   "metadata": {},
   "outputs": [],
   "source": [
    "import re\n",
    "\n",
    "def generate_quickdbd(df, table_name):\n",
    "    # Dictionary to map pandas dtypes to SQL dtypes\n",
    "    dtype_dict = { 'object': 'varchar', 'int64': 'int', 'float64': 'float', 'datetime64[ns]': 'datetime', 'bool': 'boolean' }\n",
    "\n",
    "    output = []\n",
    "    output.append(f\"{table_name}\\n-\")\n",
    "    for i, (column, dtype) in enumerate(df.dtypes.iteritems()):\n",
    "        # Replace spaces with underscores and remove non-alphanumeric or underscore characters\n",
    "        cleaned_column = re.sub('\\W|^(?=\\d)', '_', column.replace(\" \", \"_\"))\n",
    "\n",
    "        # Map pandas dtypes to SQL dtypes\n",
    "        sql_dtype = dtype_dict.get(str(dtype), 'varchar')\n",
    "\n",
    "        # Assume the first column is the primary key (PK)\n",
    "        if i == 0:\n",
    "            output.append(f\"  {cleaned_column} PK {sql_dtype}\")\n",
    "        else:\n",
    "            output.append(f\"  {cleaned_column} {sql_dtype}\")\n",
    "\n",
    "    return \"\\n\".join(output)\n"
   ]
  },
  {
   "cell_type": "code",
   "execution_count": 45,
   "metadata": {},
   "outputs": [
    {
     "name": "stdout",
     "output_type": "stream",
     "text": [
      "<class 'pandas.core.frame.DataFrame'>\n",
      "RangeIndex: 494 entries, 0 to 493\n",
      "Data columns (total 27 columns):\n",
      " #   Column                    Non-Null Count  Dtype  \n",
      "---  ------                    --------------  -----  \n",
      " 0   park_name                 494 non-null    object \n",
      " 1   foul                      494 non-null    object \n",
      " 2   fop                       494 non-null    object \n",
      " 3   notes                     23 non-null     object \n",
      " 4   home_plate                494 non-null    object \n",
      " 5   foul_area_sqft            494 non-null    float64\n",
      " 6   fop_area_sqft             494 non-null    float64\n",
      " 7   field_area_sqft           494 non-null    float64\n",
      " 8   foul_area_per             494 non-null    float64\n",
      " 9   fair_to_foul              494 non-null    float64\n",
      " 10  distances                 494 non-null    object \n",
      " 11  max_distance              494 non-null    float64\n",
      " 12  min_distance              494 non-null    float64\n",
      " 13  avg_distance              494 non-null    float64\n",
      " 14  median_distance           494 non-null    float64\n",
      " 15  num_distances             494 non-null    int64  \n",
      " 16  max_distance_rank         494 non-null    float64\n",
      " 17  min_distance_rank         494 non-null    float64\n",
      " 18  avg_distance_rank         494 non-null    float64\n",
      " 19  median_distance_rank      494 non-null    float64\n",
      " 20  field_area_rank           494 non-null    float64\n",
      " 21  foul_area_rank            494 non-null    float64\n",
      " 22  fop_area_per_rank         494 non-null    float64\n",
      " 23  ratio_rank                494 non-null    float64\n",
      " 24  fop_centroid              494 non-null    object \n",
      " 25  field_orientation         494 non-null    float64\n",
      " 26  field_cardinal_direction  494 non-null    object \n",
      "dtypes: float64(18), int64(1), object(8)\n",
      "memory usage: 104.3+ KB\n"
     ]
    }
   ],
   "source": [
    "## Load the DF\n",
    "# Read CSV\n",
    "df = pd.read_csv(\"data/2023_mhsaa_POST_LOOKUP2.csv\")\n",
    "\n",
    "\n",
    "df.info()"
   ]
  },
  {
   "cell_type": "code",
   "execution_count": 46,
   "metadata": {},
   "outputs": [
    {
     "name": "stdout",
     "output_type": "stream",
     "text": [
      "ballpark_table\n",
      "-\n",
      "  park_name PK varchar\n",
      "  foul varchar\n",
      "  fop varchar\n",
      "  notes varchar\n",
      "  home_plate varchar\n",
      "  foul_area_sqft float\n",
      "  fop_area_sqft float\n",
      "  field_area_sqft float\n",
      "  foul_area_per float\n",
      "  fair_to_foul float\n",
      "  distances varchar\n",
      "  max_distance float\n",
      "  min_distance float\n",
      "  avg_distance float\n",
      "  median_distance float\n",
      "  num_distances int\n",
      "  max_distance_rank float\n",
      "  min_distance_rank float\n",
      "  avg_distance_rank float\n",
      "  median_distance_rank float\n",
      "  field_area_rank float\n",
      "  foul_area_rank float\n",
      "  fop_area_per_rank float\n",
      "  ratio_rank float\n",
      "  fop_centroid varchar\n",
      "  field_orientation float\n",
      "  field_cardinal_direction varchar\n"
     ]
    }
   ],
   "source": [
    "# Run And PRINT\n",
    "# df = pd.DataFrame({\"Name\": [\"Alice\", \"Bob\"], \"Age\": [25, 30]})\n",
    "print(generate_quickdbd(df, \"ballpark_table\"))\n"
   ]
  }
 ],
 "metadata": {
  "kernelspec": {
   "display_name": "base",
   "language": "python",
   "name": "python3"
  },
  "language_info": {
   "codemirror_mode": {
    "name": "ipython",
    "version": 3
   },
   "file_extension": ".py",
   "mimetype": "text/x-python",
   "name": "python",
   "nbconvert_exporter": "python",
   "pygments_lexer": "ipython3",
   "version": "3.9.12"
  },
  "orig_nbformat": 4
 },
 "nbformat": 4,
 "nbformat_minor": 2
}
