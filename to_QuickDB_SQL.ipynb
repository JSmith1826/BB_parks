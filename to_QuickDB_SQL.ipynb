{
 "cells": [
  {
   "cell_type": "code",
   "execution_count": 51,
   "metadata": {},
   "outputs": [],
   "source": [
    "## Function to take a dataframe and convert it to a SQL table for QuickDBD\n",
    "\n",
    "import pandas as pd"
   ]
  },
  {
   "cell_type": "code",
   "execution_count": 52,
   "metadata": {},
   "outputs": [],
   "source": [
    "import re\n",
    "\n",
    "def generate_quickdbd(df, table_name):\n",
    "    # Dictionary to map pandas dtypes to SQL dtypes\n",
    "    dtype_dict = { 'object': 'varchar', 'int64': 'int', 'float64': 'float', 'datetime64[ns]': 'datetime', 'bool': 'boolean' }\n",
    "\n",
    "    output = []\n",
    "    output.append(f\"{table_name}\\n-\")\n",
    "    for i, (column, dtype) in enumerate(df.dtypes.iteritems()):\n",
    "        # Replace spaces with underscores and remove non-alphanumeric or underscore characters\n",
    "        cleaned_column = re.sub('\\W|^(?=\\d)', '_', column.replace(\" \", \"_\"))\n",
    "\n",
    "        # Map pandas dtypes to SQL dtypes\n",
    "        sql_dtype = dtype_dict.get(str(dtype), 'varchar')\n",
    "\n",
    "        # Assume the first column is the primary key (PK)\n",
    "        if i == 0:\n",
    "            output.append(f\"  {cleaned_column} PK {sql_dtype}\")\n",
    "        else:\n",
    "            output.append(f\"  {cleaned_column} {sql_dtype}\")\n",
    "\n",
    "    return \"\\n\".join(output)\n"
   ]
  },
  {
   "cell_type": "code",
   "execution_count": 53,
   "metadata": {},
   "outputs": [
    {
     "name": "stdout",
     "output_type": "stream",
     "text": [
      "<class 'pandas.core.frame.DataFrame'>\n",
      "RangeIndex: 1506 entries, 0 to 1505\n",
      "Data columns (total 37 columns):\n",
      " #   Column                     Non-Null Count  Dtype  \n",
      "---  ------                     --------------  -----  \n",
      " 0   School_Name                1506 non-null   object \n",
      " 1   District                   1350 non-null   object \n",
      " 2   County_Name                1506 non-null   object \n",
      " 3   Street_Address             1506 non-null   object \n",
      " 4   City                       1506 non-null   object \n",
      " 5   State                      1506 non-null   object \n",
      " 6   ZIP                        1506 non-null   int64  \n",
      " 7   ZIP_4-digit                1204 non-null   float64\n",
      " 8   Phone                      1505 non-null   object \n",
      " 9   Locale_Code                1350 non-null   float64\n",
      " 10  Locale                     1506 non-null   object \n",
      " 11  Charter                    1506 non-null   object \n",
      " 12  Magnet                     1506 non-null   object \n",
      " 13  Title_I_School             1506 non-null   object \n",
      " 14  Title_1_School_Wide        1506 non-null   object \n",
      " 15  HS_ENROLL                  1506 non-null   float64\n",
      " 16  Teachers                   1350 non-null   float64\n",
      " 17  Student_Teacher_Ratio      1506 non-null   object \n",
      " 18  Free_Lunch                 1350 non-null   object \n",
      " 19  Reduced_Lunch              1350 non-null   object \n",
      " 20  Directly_Certified         1350 non-null   object \n",
      " 21  school_type                1506 non-null   object \n",
      " 22  Coed?                      1506 non-null   object \n",
      " 23  Relig                      1506 non-null   object \n",
      " 24  Community_Type             1506 non-null   object \n",
      " 25  Relig_subtype              1506 non-null   object \n",
      " 26  School_ID(private)         156 non-null    object \n",
      " 27  PSS_COUNTY_NO              156 non-null    float64\n",
      " 28  County_FIPS                156 non-null    float64\n",
      " 29  demo_pct_American_Indian   1082 non-null   float64\n",
      " 30  demo_pct_Asian             1083 non-null   float64\n",
      " 31  demo_pct_Hispanic          1082 non-null   float64\n",
      " 32  demo_pct_Black             1083 non-null   float64\n",
      " 33  demo_pct_White             1082 non-null   float64\n",
      " 34  demo_pct_Pacific_Islander  1083 non-null   float64\n",
      " 35  demo_pct_Two_or_More       1082 non-null   float64\n",
      " 36  PSS_ASSOC_1                156 non-null    object \n",
      "dtypes: float64(13), int64(1), object(23)\n",
      "memory usage: 435.5+ KB\n"
     ]
    }
   ],
   "source": [
    "## Load the DF\n",
    "# Read CSV\n",
    "df = pd.read_csv(\"TEMP\\clean_tables\\school_master_table.csv\")\n",
    "\n",
    "\n",
    "df.info()"
   ]
  },
  {
   "cell_type": "code",
   "execution_count": 54,
   "metadata": {},
   "outputs": [
    {
     "name": "stdout",
     "output_type": "stream",
     "text": [
      "school_master_table\n",
      "-\n",
      "  School_Name PK varchar\n",
      "  District varchar\n",
      "  County_Name varchar\n",
      "  Street_Address varchar\n",
      "  City varchar\n",
      "  State varchar\n",
      "  ZIP int\n",
      "  ZIP_4_digit float\n",
      "  Phone varchar\n",
      "  Locale_Code float\n",
      "  Locale varchar\n",
      "  Charter varchar\n",
      "  Magnet varchar\n",
      "  Title_I_School varchar\n",
      "  Title_1_School_Wide varchar\n",
      "  HS_ENROLL float\n",
      "  Teachers float\n",
      "  Student_Teacher_Ratio varchar\n",
      "  Free_Lunch varchar\n",
      "  Reduced_Lunch varchar\n",
      "  Directly_Certified varchar\n",
      "  school_type varchar\n",
      "  Coed_ varchar\n",
      "  Relig varchar\n",
      "  Community_Type varchar\n",
      "  Relig_subtype varchar\n",
      "  School_ID_private_ varchar\n",
      "  PSS_COUNTY_NO float\n",
      "  County_FIPS float\n",
      "  demo_pct_American_Indian float\n",
      "  demo_pct_Asian float\n",
      "  demo_pct_Hispanic float\n",
      "  demo_pct_Black float\n",
      "  demo_pct_White float\n",
      "  demo_pct_Pacific_Islander float\n",
      "  demo_pct_Two_or_More float\n",
      "  PSS_ASSOC_1 varchar\n"
     ]
    }
   ],
   "source": [
    "# Run And PRINT\n",
    "# df = pd.DataFrame({\"Name\": [\"Alice\", \"Bob\"], \"Age\": [25, 30]})\n",
    "print(generate_quickdbd(df, \"school_master_table\"))\n"
   ]
  }
 ],
 "metadata": {
  "kernelspec": {
   "display_name": "base",
   "language": "python",
   "name": "python3"
  },
  "language_info": {
   "codemirror_mode": {
    "name": "ipython",
    "version": 3
   },
   "file_extension": ".py",
   "mimetype": "text/x-python",
   "name": "python",
   "nbconvert_exporter": "python",
   "pygments_lexer": "ipython3",
   "version": "3.9.12"
  },
  "orig_nbformat": 4
 },
 "nbformat": 4,
 "nbformat_minor": 2
}
