{
 "cells": [
  {
   "cell_type": "code",
   "execution_count": null,
   "metadata": {},
   "outputs": [],
   "source": [
    "import pandas as pd\n",
    "from   bs4 import BeautifulSoup\n",
    "from random import choice\n",
    "import requests\n",
    "from time import sleep\n",
    "import datetime\n",
    "import time\n",
    "from tqdm import tqdm\n",
    "import re\n",
    "\n",
    "from time import sleep\n",
    "## import the timedelta function from the datetime module\n",
    "from datetime import timedelta\n",
    "from datetime import datetime\n",
    "from datetime import date   "
   ]
  },
  {
   "cell_type": "code",
   "execution_count": null,
   "metadata": {},
   "outputs": [],
   "source": [
    "### ESPN SIMPLE SCORE BOARD GOES BACK TO 2015\n",
    "\n",
    "# years to scrape 2016-2021"
   ]
  },
  {
   "cell_type": "code",
   "execution_count": null,
   "metadata": {},
   "outputs": [],
   "source": [
    "### Create a loop through the years\n",
    "for year in tqdm(range(2016,2022)):\n",
    "    # year = str(year)\n",
    "\n",
    "    \n",
    "    # Helper function to generate dates\n",
    "    def daterange(start_date, end_date):\n",
    "        for n in range(int((end_date - start_date).days)):\n",
    "            yield start_date + timedelta(n)\n",
    "\n",
    "\n",
    "\n",
    "\n",
    "    # Start and end dates\n",
    "    start_date = date(year, 2, 1)\n",
    "    end_date = date(year, 6, 30)  # today's date\n",
    "\n",
    "    base_url = 'https://www.espn.com/college-baseball/scoreboard/_/date/'\n",
    "    game_data = []  # this list will hold our game data\n",
    "\n",
    "    # Loop over each date\n",
    "    for single_date in tqdm(daterange(start_date, end_date)):\n",
    "        url = base_url + single_date.strftime(\"%Y%m%d\")\n",
    "        \n",
    "        # Try accessing the page\n",
    "        try:\n",
    "            response = requests.get(url)\n",
    "            response.raise_for_status()  # raise exception if invalid response\n",
    "        except (requests.HTTPError, requests.ConnectionError):\n",
    "            # Handle the exception if it occurs\n",
    "            print(f\"No data for {single_date.strftime('%Y-%m-%d')}\")\n",
    "            continue\n",
    "\n",
    "        soup = BeautifulSoup(response.text, 'html.parser')\n",
    "        \n",
    "\n",
    "        # Find all game sections\n",
    "        game_sections = soup.find_all('section', class_='Scoreboard bg-clr-white flex flex-auto justify-between')\n",
    "\n",
    "        # For each game section, get the required data\n",
    "        # For each game section, get the required data\n",
    "        for section in game_sections:   \n",
    "            game = {}    \n",
    "\n",
    "            ## Add the date to the game data\n",
    "            game['date'] = single_date.strftime('%Y-%m-%d')\n",
    "\n",
    "            team_sections = section.find_all('div', class_='ScoreCell__TeamName ScoreCell__TeamName--shortDisplayName truncate db')\n",
    "            if team_sections is not None and len(team_sections) == 2:\n",
    "                away_team = team_sections[0].text\n",
    "                home_team = team_sections[1].text\n",
    "                game['away_team'] = away_team\n",
    "                game['home_team'] = home_team\n",
    "\n",
    "\n",
    "            \n",
    "            # Find the link to the box score and extract the game Id\n",
    "            box_score_link = section.find('a', text='Box Score')\n",
    "            if box_score_link is not None:\n",
    "                game['game_id'] = box_score_link['href'].split('/')[-1]\n",
    "\n",
    "            game_info = section.find('div', class_='ScoreboardScoreCell__Note clr-gray-04 n9 w-auto ml0')\n",
    "            if game_info is not None:\n",
    "                game['game_info'] = game_info.text\n",
    "                \n",
    "            game_run_elements = section.find_all('div', class_='ScoreboardScoreCell__Value flex justify-center pl2 baseball')\n",
    "            if game_run_elements is not None and len(game_run_elements) >= 4:  # 4 because we have runs, hits, and errors for both teams\n",
    "                game['away_team_runs'] = game_run_elements[0].text\n",
    "                game['away_team_hits'] = game_run_elements[1].text\n",
    "                game['away_team_errors'] = game_run_elements[2].text\n",
    "                game['home_team_runs'] = game_run_elements[3].text\n",
    "                game['home_team_hits'] = game_run_elements[4].text\n",
    "                game['home_team_errors'] = game_run_elements[5].text\n",
    "\n",
    "\n",
    "            # Add game data to the list\n",
    "            game_data.append(game)\n",
    "\n",
    "            sleep(.1)  # sleep for 100 milliseconds to avoid spamming the server\n",
    "\n",
    "\n",
    "\n",
    "\n",
    "\n",
    "    # Convert the list of games to a DataFrame\n",
    "    df = pd.DataFrame(game_data)"
   ]
  },
  {
   "cell_type": "code",
   "execution_count": null,
   "metadata": {},
   "outputs": [],
   "source": [
    "## Save to csv\n",
    "# df.to_csv(f'./data/espn_college_baseball_2021.csv', index=False)"
   ]
  },
  {
   "cell_type": "code",
   "execution_count": null,
   "metadata": {},
   "outputs": [],
   "source": [
    "df.info()\n",
    "\n",
    "## desccribe the date column\n",
    "df['date'].value_counts()"
   ]
  },
  {
   "cell_type": "code",
   "execution_count": null,
   "metadata": {},
   "outputs": [],
   "source": []
  },
  {
   "cell_type": "code",
   "execution_count": null,
   "metadata": {},
   "outputs": [],
   "source": [
    "endbreak"
   ]
  },
  {
   "cell_type": "code",
   "execution_count": null,
   "metadata": {},
   "outputs": [],
   "source": [
    "\n",
    "\n",
    "\n",
    "# Helper function to generate dates\n",
    "def daterange(start_date, end_date):\n",
    "    for n in range(int((end_date - start_date).days)):\n",
    "        yield start_date + timedelta(n)\n",
    "\n",
    "from datetime import date, timedelta\n",
    "\n",
    "year = 2021\n",
    "# Start and end dates\n",
    "start_date = date(year, 2, 1)\n",
    "end_date = date(year, 6, 30)  # today's date\n",
    "\n",
    "base_url = 'https://www.espn.com/college-baseball/scoreboard/_/date/'\n",
    "game_data = []  # this list will hold our game data\n",
    "\n",
    "# Loop over each date\n",
    "for single_date in tqdm(daterange(start_date, end_date)):\n",
    "    url = base_url + single_date.strftime(\"%Y%m%d\")\n",
    "    \n",
    "    # Try accessing the page\n",
    "    try:\n",
    "        response = requests.get(url)\n",
    "        response.raise_for_status()  # raise exception if invalid response\n",
    "    except (requests.HTTPError, requests.ConnectionError):\n",
    "        # Handle the exception if it occurs\n",
    "        print(f\"No data for {single_date.strftime('%Y-%m-%d')}\")\n",
    "        continue\n",
    "\n",
    "    soup = BeautifulSoup(response.text, 'html.parser')\n",
    "    \n",
    "\n",
    "    # Find all game sections\n",
    "    game_sections = soup.find_all('section', class_='Scoreboard bg-clr-white flex flex-auto justify-between')\n",
    "\n",
    "    # For each game section, get the required data\n",
    "    # For each game section, get the required data\n",
    "    for section in game_sections:   \n",
    "        game = {}    \n",
    "\n",
    "        ## Add the date to the game data\n",
    "        game['date'] = single_date.strftime('%Y-%m-%d')\n",
    "\n",
    "        team_sections = section.find_all('div', class_='ScoreCell__TeamName ScoreCell__TeamName--shortDisplayName truncate db')\n",
    "        if team_sections is not None and len(team_sections) == 2:\n",
    "            away_team = team_sections[0].text\n",
    "            home_team = team_sections[1].text\n",
    "            game['away_team'] = away_team\n",
    "            game['home_team'] = home_team\n",
    "\n",
    "\n",
    "        \n",
    "        # Find the link to the box score and extract the game Id\n",
    "        box_score_link = section.find('a', text='Box Score')\n",
    "        if box_score_link is not None:\n",
    "            game['game_id'] = box_score_link['href'].split('/')[-1]\n",
    "\n",
    "        game_info = section.find('div', class_='ScoreboardScoreCell__Note clr-gray-04 n9 w-auto ml0')\n",
    "        if game_info is not None:\n",
    "            game['game_info'] = game_info.text\n",
    "            \n",
    "        game_run_elements = section.find_all('div', class_='ScoreboardScoreCell__Value flex justify-center pl2 baseball')\n",
    "        if game_run_elements is not None and len(game_run_elements) >= 4:  # 4 because we have runs, hits, and errors for both teams\n",
    "            game['away_team_runs'] = game_run_elements[0].text\n",
    "            game['away_team_hits'] = game_run_elements[1].text\n",
    "            game['away_team_errors'] = game_run_elements[2].text\n",
    "            game['home_team_runs'] = game_run_elements[3].text\n",
    "            game['home_team_hits'] = game_run_elements[4].text\n",
    "            game['home_team_errors'] = game_run_elements[5].text\n",
    "\n",
    "\n",
    "        # Add game data to the list\n",
    "        game_data.append(game)\n",
    "\n",
    "        sleep(.1)  # sleep for 100 milliseconds to avoid spamming the server\n",
    "\n",
    "\n",
    "\n",
    "\n",
    "\n",
    "# Convert the list of games to a DataFrame\n",
    "df = pd.DataFrame(game_data)\n",
    "\n",
    "# Dropr rows wuth nulls in game id\n",
    "\n",
    "# df = df.dropna(subset=['game_id'])\n",
    "\n",
    "\n",
    "\n",
    "# Print DataFrame\n",
    "# print(df)\n"
   ]
  },
  {
   "cell_type": "code",
   "execution_count": null,
   "metadata": {},
   "outputs": [],
   "source": [
    "\n",
    "# Convert the list of games to a DataFrame\n",
    "# df = pd.DataFrame(game_data)\n",
    "\n",
    "df.info()\n",
    "\n",
    "df.sample(10)\n"
   ]
  },
  {
   "cell_type": "code",
   "execution_count": null,
   "metadata": {},
   "outputs": [],
   "source": [
    "## save data for reference\n",
    "df.to_csv('espn_college_baseball_2021.csv', index=False)\n"
   ]
  },
  {
   "cell_type": "code",
   "execution_count": null,
   "metadata": {},
   "outputs": [],
   "source": [
    "# Take all of the csv files from this directory TEMP\\NCAA_Simple\n",
    "# and combine them into one csv file\n",
    "\n",
    "import os\n",
    "import glob\n",
    "import pandas as pd\n",
    "os.chdir(\"TEMP/NCAA_Simple\")\n",
    "extension = 'csv'\n",
    "\n",
    "all_filenames = [i for i in glob.glob('*.{}'.format(extension))]\n",
    "# print(all_filenames)\n",
    "\n",
    "## concatenate all files in the list\n",
    "combined_csv = pd.concat([pd.read_csv(f) for f in all_filenames ])\n",
    "\n"
   ]
  },
  {
   "cell_type": "code",
   "execution_count": null,
   "metadata": {},
   "outputs": [],
   "source": [
    "combined_csv.info()\n",
    "\n",
    "# Save to a new file\n",
    "combined_csv.to_csv( \"ncaa_Baseball_simple_2016-2022.csv\", index=False, encoding='utf-8-sig')"
   ]
  },
  {
   "cell_type": "code",
   "execution_count": null,
   "metadata": {},
   "outputs": [],
   "source": []
  },
  {
   "cell_type": "code",
   "execution_count": null,
   "metadata": {},
   "outputs": [],
   "source": []
  },
  {
   "attachments": {},
   "cell_type": "markdown",
   "metadata": {},
   "source": [
    "## From here down is the new scrape that returns with full team names, dates and years correctly assigned"
   ]
  },
  {
   "cell_type": "code",
   "execution_count": 1,
   "metadata": {},
   "outputs": [],
   "source": [
    "# ## RELOAD THE DATA FOR CLEANING\n",
    "import pandas as pd\n",
    "from   bs4 import BeautifulSoup\n",
    "from random import choice\n",
    "import requests\n",
    "from time import sleep\n",
    "import datetime\n",
    "import time\n",
    "import random\n",
    "from fake_useragent import UserAgent\n",
    "from tqdm import tqdm\n",
    "\n",
    "# from tqdm import tqdm\n",
    "\n",
    "# ## RELOAD THE DATA FOR CLEANING\n",
    "# df = pd.read_csv('espn_college_baseball_etl_1.csv')\n",
    "\n",
    "# ## LOAD DIFFERENT ONE\n",
    "# # df = pd.read_csv('TEMP/')\n",
    "\n"
   ]
  },
  {
   "cell_type": "code",
   "execution_count": 2,
   "metadata": {},
   "outputs": [],
   "source": [
    "## Reload the combined csv file\n",
    "combined_csv = pd.read_csv('TEMP/NCAA_Simple/ncaa_Baseball_simple_2016-2022.csv')\n",
    "\n",
    "### # Drop any rows without game_ids\n",
    "new_df = combined_csv.dropna(subset=['game_id'])"
   ]
  },
  {
   "cell_type": "code",
   "execution_count": 3,
   "metadata": {},
   "outputs": [],
   "source": [
    "## Load the 2023 Initial Scrape\n",
    "\n",
    "df_2023 = pd.read_csv('TEMP\\FULL_2023_GAMEIDS_SCORES.csv')"
   ]
  },
  {
   "cell_type": "code",
   "execution_count": 4,
   "metadata": {},
   "outputs": [
    {
     "name": "stdout",
     "output_type": "stream",
     "text": [
      "<class 'pandas.core.frame.DataFrame'>\n",
      "Int64Index: 2029 entries, 1830 to 1189\n",
      "Data columns (total 11 columns):\n",
      " #   Column            Non-Null Count  Dtype  \n",
      "---  ------            --------------  -----  \n",
      " 0   date              839 non-null    object \n",
      " 1   away_team         839 non-null    object \n",
      " 2   home_team         839 non-null    object \n",
      " 3   game_info         1068 non-null   object \n",
      " 4   away_team_runs    2029 non-null   float64\n",
      " 5   away_team_hits    839 non-null    float64\n",
      " 6   away_team_errors  839 non-null    float64\n",
      " 7   home_team_runs    2029 non-null   float64\n",
      " 8   home_team_hits    839 non-null    float64\n",
      " 9   home_team_errors  839 non-null    float64\n",
      " 10  game_id           2029 non-null   float64\n",
      "dtypes: float64(7), object(4)\n",
      "memory usage: 190.2+ KB\n"
     ]
    }
   ],
   "source": [
    "## Combine the dataframe to get a full list of game_ids\n",
    "new_df = pd.concat([new_df, df_2023])\n",
    "\n",
    "new_df.info()"
   ]
  },
  {
   "cell_type": "code",
   "execution_count": 5,
   "metadata": {},
   "outputs": [
    {
     "name": "stdout",
     "output_type": "stream",
     "text": [
      "<class 'pandas.core.frame.DataFrame'>\n",
      "Int64Index: 2029 entries, 1830 to 1189\n",
      "Data columns (total 11 columns):\n",
      " #   Column            Non-Null Count  Dtype  \n",
      "---  ------            --------------  -----  \n",
      " 0   date              839 non-null    object \n",
      " 1   away_team         839 non-null    object \n",
      " 2   home_team         839 non-null    object \n",
      " 3   game_info         1068 non-null   object \n",
      " 4   away_team_runs    2029 non-null   float64\n",
      " 5   away_team_hits    839 non-null    float64\n",
      " 6   away_team_errors  839 non-null    float64\n",
      " 7   home_team_runs    2029 non-null   float64\n",
      " 8   home_team_hits    839 non-null    float64\n",
      " 9   home_team_errors  839 non-null    float64\n",
      " 10  game_id           2029 non-null   float64\n",
      "dtypes: float64(7), object(4)\n",
      "memory usage: 190.2+ KB\n"
     ]
    }
   ],
   "source": [
    "# Remane the df that has all of the 2016-2022 games with game_ids\n",
    "df = new_df\n",
    "\n",
    "df.info()\n",
    "\n",
    "# df.head()\n",
    "\n",
    "## date histogram\n",
    "# df['date'].hist(bins=20)\n",
    "\n",
    "# ## line graph of games per day\n",
    "# df['date'].value_counts().plot.line()\n",
    "\n",
    "\n",
    "## create a list from the games_ids\n",
    "game_ids = df['game_id'].tolist()\n",
    "# randomize the list\n",
    "random.shuffle(game_ids)\n",
    "# Make sure they are strings\n",
    "game_ids = [str(x) for x in game_ids]\n",
    "\n"
   ]
  },
  {
   "cell_type": "code",
   "execution_count": 6,
   "metadata": {},
   "outputs": [],
   "source": [
    "## show 5 game_ids\n",
    "game_ids[:5]\n",
    "\n",
    "# remove the .0 from the end of the game_ids\n",
    "game_ids = [x[:-2] for x in game_ids]\n",
    "\n",
    "## take sample to test parse\n",
    "# game_ids = game_ids[:5]"
   ]
  },
  {
   "cell_type": "code",
   "execution_count": 7,
   "metadata": {},
   "outputs": [
    {
     "name": "stderr",
     "output_type": "stream",
     "text": [
      "  0%|          | 0/2029 [00:00<?, ?it/s]"
     ]
    },
    {
     "name": "stderr",
     "output_type": "stream",
     "text": [
      "C:\\Users\\Justin\\AppData\\Local\\Temp\\ipykernel_22308\\573511129.py:89: FutureWarning: The frame.append method is deprecated and will be removed from pandas in a future version. Use pandas.concat instead.\n",
      "  results = results.append({\n",
      "  0%|          | 1/2029 [00:02<1:18:59,  2.34s/it]C:\\Users\\Justin\\AppData\\Local\\Temp\\ipykernel_22308\\573511129.py:89: FutureWarning: The frame.append method is deprecated and will be removed from pandas in a future version. Use pandas.concat instead.\n",
      "  results = results.append({\n",
      "  0%|          | 2/2029 [00:04<1:07:57,  2.01s/it]C:\\Users\\Justin\\AppData\\Local\\Temp\\ipykernel_22308\\573511129.py:89: FutureWarning: The frame.append method is deprecated and will be removed from pandas in a future version. Use pandas.concat instead.\n",
      "  results = results.append({\n",
      "  0%|          | 3/2029 [00:05<54:08,  1.60s/it]  C:\\Users\\Justin\\AppData\\Local\\Temp\\ipykernel_22308\\573511129.py:89: FutureWarning: The frame.append method is deprecated and will be removed from pandas in a future version. Use pandas.concat instead.\n",
      "  results = results.append({\n",
      "  0%|          | 4/2029 [00:09<1:27:06,  2.58s/it]C:\\Users\\Justin\\AppData\\Local\\Temp\\ipykernel_22308\\573511129.py:89: FutureWarning: The frame.append method is deprecated and will be removed from pandas in a future version. Use pandas.concat instead.\n",
      "  results = results.append({\n",
      "  0%|          | 5/2029 [00:10<1:12:52,  2.16s/it]C:\\Users\\Justin\\AppData\\Local\\Temp\\ipykernel_22308\\573511129.py:89: FutureWarning: The frame.append method is deprecated and will be removed from pandas in a future version. Use pandas.concat instead.\n",
      "  results = results.append({\n",
      "  0%|          | 7/2029 [00:19<1:50:42,  3.29s/it]"
     ]
    },
    {
     "name": "stdout",
     "output_type": "stream",
     "text": [
      "Error occurred: 'NoneType' object has no attribute 'text'\n"
     ]
    },
    {
     "name": "stderr",
     "output_type": "stream",
     "text": [
      "C:\\Users\\Justin\\AppData\\Local\\Temp\\ipykernel_22308\\573511129.py:89: FutureWarning: The frame.append method is deprecated and will be removed from pandas in a future version. Use pandas.concat instead.\n",
      "  results = results.append({\n",
      "  0%|          | 8/2029 [00:24<2:12:45,  3.94s/it]C:\\Users\\Justin\\AppData\\Local\\Temp\\ipykernel_22308\\573511129.py:89: FutureWarning: The frame.append method is deprecated and will be removed from pandas in a future version. Use pandas.concat instead.\n",
      "  results = results.append({\n",
      "  0%|          | 9/2029 [00:29<2:21:13,  4.19s/it]C:\\Users\\Justin\\AppData\\Local\\Temp\\ipykernel_22308\\573511129.py:89: FutureWarning: The frame.append method is deprecated and will be removed from pandas in a future version. Use pandas.concat instead.\n",
      "  results = results.append({\n",
      "  0%|          | 10/2029 [00:32<2:09:47,  3.86s/it]C:\\Users\\Justin\\AppData\\Local\\Temp\\ipykernel_22308\\573511129.py:89: FutureWarning: The frame.append method is deprecated and will be removed from pandas in a future version. Use pandas.concat instead.\n",
      "  results = results.append({\n",
      "  1%|          | 11/2029 [00:39<2:41:30,  4.80s/it]C:\\Users\\Justin\\AppData\\Local\\Temp\\ipykernel_22308\\573511129.py:89: FutureWarning: The frame.append method is deprecated and will be removed from pandas in a future version. Use pandas.concat instead.\n",
      "  results = results.append({\n",
      "  1%|          | 12/2029 [00:41<2:08:34,  3.82s/it]C:\\Users\\Justin\\AppData\\Local\\Temp\\ipykernel_22308\\573511129.py:89: FutureWarning: The frame.append method is deprecated and will be removed from pandas in a future version. Use pandas.concat instead.\n",
      "  results = results.append({\n",
      "  1%|          | 13/2029 [00:49<2:56:06,  5.24s/it]C:\\Users\\Justin\\AppData\\Local\\Temp\\ipykernel_22308\\573511129.py:89: FutureWarning: The frame.append method is deprecated and will be removed from pandas in a future version. Use pandas.concat instead.\n",
      "  results = results.append({\n",
      "  1%|          | 14/2029 [00:51<2:18:04,  4.11s/it]C:\\Users\\Justin\\AppData\\Local\\Temp\\ipykernel_22308\\573511129.py:89: FutureWarning: The frame.append method is deprecated and will be removed from pandas in a future version. Use pandas.concat instead.\n",
      "  results = results.append({\n",
      "  1%|          | 16/2029 [00:54<1:34:51,  2.83s/it]"
     ]
    },
    {
     "name": "stdout",
     "output_type": "stream",
     "text": [
      "Error occurred: 'NoneType' object has no attribute 'text'\n"
     ]
    },
    {
     "name": "stderr",
     "output_type": "stream",
     "text": [
      "C:\\Users\\Justin\\AppData\\Local\\Temp\\ipykernel_22308\\573511129.py:89: FutureWarning: The frame.append method is deprecated and will be removed from pandas in a future version. Use pandas.concat instead.\n",
      "  results = results.append({\n",
      "  1%|          | 17/2029 [00:59<2:01:23,  3.62s/it]C:\\Users\\Justin\\AppData\\Local\\Temp\\ipykernel_22308\\573511129.py:89: FutureWarning: The frame.append method is deprecated and will be removed from pandas in a future version. Use pandas.concat instead.\n",
      "  results = results.append({\n",
      "  1%|          | 18/2029 [01:11<3:26:23,  6.16s/it]C:\\Users\\Justin\\AppData\\Local\\Temp\\ipykernel_22308\\573511129.py:89: FutureWarning: The frame.append method is deprecated and will be removed from pandas in a future version. Use pandas.concat instead.\n",
      "  results = results.append({\n",
      "  1%|          | 19/2029 [01:12<2:37:32,  4.70s/it]C:\\Users\\Justin\\AppData\\Local\\Temp\\ipykernel_22308\\573511129.py:89: FutureWarning: The frame.append method is deprecated and will be removed from pandas in a future version. Use pandas.concat instead.\n",
      "  results = results.append({\n",
      "  1%|          | 20/2029 [01:14<2:09:52,  3.88s/it]C:\\Users\\Justin\\AppData\\Local\\Temp\\ipykernel_22308\\573511129.py:89: FutureWarning: The frame.append method is deprecated and will be removed from pandas in a future version. Use pandas.concat instead.\n",
      "  results = results.append({\n",
      "  1%|          | 21/2029 [01:16<1:44:15,  3.12s/it]C:\\Users\\Justin\\AppData\\Local\\Temp\\ipykernel_22308\\573511129.py:89: FutureWarning: The frame.append method is deprecated and will be removed from pandas in a future version. Use pandas.concat instead.\n",
      "  results = results.append({\n",
      "  1%|          | 22/2029 [01:21<2:07:01,  3.80s/it]C:\\Users\\Justin\\AppData\\Local\\Temp\\ipykernel_22308\\573511129.py:89: FutureWarning: The frame.append method is deprecated and will be removed from pandas in a future version. Use pandas.concat instead.\n",
      "  results = results.append({\n",
      "  1%|          | 23/2029 [01:22<1:42:23,  3.06s/it]C:\\Users\\Justin\\AppData\\Local\\Temp\\ipykernel_22308\\573511129.py:89: FutureWarning: The frame.append method is deprecated and will be removed from pandas in a future version. Use pandas.concat instead.\n",
      "  results = results.append({\n",
      "  1%|          | 25/2029 [01:41<3:44:55,  6.73s/it]"
     ]
    },
    {
     "name": "stdout",
     "output_type": "stream",
     "text": [
      "Error occurred: 'NoneType' object has no attribute 'text'\n"
     ]
    },
    {
     "name": "stderr",
     "output_type": "stream",
     "text": [
      "C:\\Users\\Justin\\AppData\\Local\\Temp\\ipykernel_22308\\573511129.py:89: FutureWarning: The frame.append method is deprecated and will be removed from pandas in a future version. Use pandas.concat instead.\n",
      "  results = results.append({\n",
      "  1%|▏         | 26/2029 [01:42<2:51:00,  5.12s/it]C:\\Users\\Justin\\AppData\\Local\\Temp\\ipykernel_22308\\573511129.py:89: FutureWarning: The frame.append method is deprecated and will be removed from pandas in a future version. Use pandas.concat instead.\n",
      "  results = results.append({\n",
      "  1%|▏         | 27/2029 [02:00<5:02:23,  9.06s/it]C:\\Users\\Justin\\AppData\\Local\\Temp\\ipykernel_22308\\573511129.py:89: FutureWarning: The frame.append method is deprecated and will be removed from pandas in a future version. Use pandas.concat instead.\n",
      "  results = results.append({\n",
      "  1%|▏         | 28/2029 [02:02<3:45:14,  6.75s/it]C:\\Users\\Justin\\AppData\\Local\\Temp\\ipykernel_22308\\573511129.py:89: FutureWarning: The frame.append method is deprecated and will be removed from pandas in a future version. Use pandas.concat instead.\n",
      "  results = results.append({\n",
      "  1%|▏         | 29/2029 [02:03<2:52:13,  5.17s/it]C:\\Users\\Justin\\AppData\\Local\\Temp\\ipykernel_22308\\573511129.py:89: FutureWarning: The frame.append method is deprecated and will be removed from pandas in a future version. Use pandas.concat instead.\n",
      "  results = results.append({\n",
      "  2%|▏         | 31/2029 [02:06<1:48:57,  3.27s/it]"
     ]
    },
    {
     "name": "stdout",
     "output_type": "stream",
     "text": [
      "Error occurred: 'NoneType' object has no attribute 'text'\n"
     ]
    },
    {
     "name": "stderr",
     "output_type": "stream",
     "text": [
      "C:\\Users\\Justin\\AppData\\Local\\Temp\\ipykernel_22308\\573511129.py:89: FutureWarning: The frame.append method is deprecated and will be removed from pandas in a future version. Use pandas.concat instead.\n",
      "  results = results.append({\n",
      "  2%|▏         | 32/2029 [02:07<1:27:27,  2.63s/it]C:\\Users\\Justin\\AppData\\Local\\Temp\\ipykernel_22308\\573511129.py:89: FutureWarning: The frame.append method is deprecated and will be removed from pandas in a future version. Use pandas.concat instead.\n",
      "  results = results.append({\n",
      "  2%|▏         | 33/2029 [02:08<1:10:11,  2.11s/it]C:\\Users\\Justin\\AppData\\Local\\Temp\\ipykernel_22308\\573511129.py:89: FutureWarning: The frame.append method is deprecated and will be removed from pandas in a future version. Use pandas.concat instead.\n",
      "  results = results.append({\n",
      "  2%|▏         | 35/2029 [02:11<1:00:38,  1.82s/it]"
     ]
    },
    {
     "name": "stdout",
     "output_type": "stream",
     "text": [
      "Error occurred: 'NoneType' object has no attribute 'text'\n"
     ]
    },
    {
     "name": "stderr",
     "output_type": "stream",
     "text": [
      "C:\\Users\\Justin\\AppData\\Local\\Temp\\ipykernel_22308\\573511129.py:89: FutureWarning: The frame.append method is deprecated and will be removed from pandas in a future version. Use pandas.concat instead.\n",
      "  results = results.append({\n",
      "  2%|▏         | 37/2029 [02:16<1:07:19,  2.03s/it]"
     ]
    },
    {
     "name": "stdout",
     "output_type": "stream",
     "text": [
      "Error occurred: 'NoneType' object has no attribute 'text'\n"
     ]
    },
    {
     "name": "stderr",
     "output_type": "stream",
     "text": [
      "C:\\Users\\Justin\\AppData\\Local\\Temp\\ipykernel_22308\\573511129.py:89: FutureWarning: The frame.append method is deprecated and will be removed from pandas in a future version. Use pandas.concat instead.\n",
      "  results = results.append({\n",
      "  2%|▏         | 38/2029 [02:20<1:33:38,  2.82s/it]C:\\Users\\Justin\\AppData\\Local\\Temp\\ipykernel_22308\\573511129.py:89: FutureWarning: The frame.append method is deprecated and will be removed from pandas in a future version. Use pandas.concat instead.\n",
      "  results = results.append({\n",
      "  2%|▏         | 39/2029 [02:29<2:31:27,  4.57s/it]C:\\Users\\Justin\\AppData\\Local\\Temp\\ipykernel_22308\\573511129.py:89: FutureWarning: The frame.append method is deprecated and will be removed from pandas in a future version. Use pandas.concat instead.\n",
      "  results = results.append({\n",
      "  2%|▏         | 40/2029 [02:31<2:02:59,  3.71s/it]C:\\Users\\Justin\\AppData\\Local\\Temp\\ipykernel_22308\\573511129.py:89: FutureWarning: The frame.append method is deprecated and will be removed from pandas in a future version. Use pandas.concat instead.\n",
      "  results = results.append({\n",
      "  2%|▏         | 41/2029 [02:32<1:39:20,  3.00s/it]C:\\Users\\Justin\\AppData\\Local\\Temp\\ipykernel_22308\\573511129.py:89: FutureWarning: The frame.append method is deprecated and will be removed from pandas in a future version. Use pandas.concat instead.\n",
      "  results = results.append({\n",
      "  2%|▏         | 42/2029 [02:39<2:18:34,  4.18s/it]C:\\Users\\Justin\\AppData\\Local\\Temp\\ipykernel_22308\\573511129.py:89: FutureWarning: The frame.append method is deprecated and will be removed from pandas in a future version. Use pandas.concat instead.\n",
      "  results = results.append({\n",
      "  2%|▏         | 44/2029 [02:54<3:31:07,  6.38s/it]"
     ]
    },
    {
     "name": "stdout",
     "output_type": "stream",
     "text": [
      "Error occurred: 'NoneType' object has no attribute 'text'\n"
     ]
    },
    {
     "name": "stderr",
     "output_type": "stream",
     "text": [
      "C:\\Users\\Justin\\AppData\\Local\\Temp\\ipykernel_22308\\573511129.py:89: FutureWarning: The frame.append method is deprecated and will be removed from pandas in a future version. Use pandas.concat instead.\n",
      "  results = results.append({\n",
      "  2%|▏         | 45/2029 [02:56<2:44:37,  4.98s/it]C:\\Users\\Justin\\AppData\\Local\\Temp\\ipykernel_22308\\573511129.py:89: FutureWarning: The frame.append method is deprecated and will be removed from pandas in a future version. Use pandas.concat instead.\n",
      "  results = results.append({\n",
      "  2%|▏         | 46/2029 [03:04<3:19:13,  6.03s/it]C:\\Users\\Justin\\AppData\\Local\\Temp\\ipykernel_22308\\573511129.py:89: FutureWarning: The frame.append method is deprecated and will be removed from pandas in a future version. Use pandas.concat instead.\n",
      "  results = results.append({\n",
      "  2%|▏         | 48/2029 [03:09<2:26:45,  4.44s/it]"
     ]
    },
    {
     "name": "stdout",
     "output_type": "stream",
     "text": [
      "Error occurred: 'NoneType' object has no attribute 'text'\n"
     ]
    },
    {
     "name": "stderr",
     "output_type": "stream",
     "text": [
      "  2%|▏         | 49/2029 [03:31<5:14:30,  9.53s/it]"
     ]
    },
    {
     "name": "stdout",
     "output_type": "stream",
     "text": [
      "Error occurred: 'NoneType' object has no attribute 'text'\n"
     ]
    },
    {
     "name": "stderr",
     "output_type": "stream",
     "text": [
      "C:\\Users\\Justin\\AppData\\Local\\Temp\\ipykernel_22308\\573511129.py:89: FutureWarning: The frame.append method is deprecated and will be removed from pandas in a future version. Use pandas.concat instead.\n",
      "  results = results.append({\n",
      "  2%|▏         | 50/2029 [03:32<3:52:30,  7.05s/it]"
     ]
    },
    {
     "name": "stdout",
     "output_type": "stream",
     "text": [
      "Error occurred: Cannot save file into a non-existent directory: 'TEMP\\NCAA_Partial'\n"
     ]
    },
    {
     "name": "stderr",
     "output_type": "stream",
     "text": [
      "C:\\Users\\Justin\\AppData\\Local\\Temp\\ipykernel_22308\\573511129.py:89: FutureWarning: The frame.append method is deprecated and will be removed from pandas in a future version. Use pandas.concat instead.\n",
      "  results = results.append({\n",
      "  3%|▎         | 52/2029 [03:56<5:43:02, 10.41s/it]"
     ]
    },
    {
     "name": "stdout",
     "output_type": "stream",
     "text": [
      "Error occurred: 'NoneType' object has no attribute 'text'\n"
     ]
    },
    {
     "name": "stderr",
     "output_type": "stream",
     "text": [
      "C:\\Users\\Justin\\AppData\\Local\\Temp\\ipykernel_22308\\573511129.py:89: FutureWarning: The frame.append method is deprecated and will be removed from pandas in a future version. Use pandas.concat instead.\n",
      "  results = results.append({\n",
      "  3%|▎         | 53/2029 [03:59<4:35:47,  8.37s/it]C:\\Users\\Justin\\AppData\\Local\\Temp\\ipykernel_22308\\573511129.py:89: FutureWarning: The frame.append method is deprecated and will be removed from pandas in a future version. Use pandas.concat instead.\n",
      "  results = results.append({\n",
      "  3%|▎         | 54/2029 [04:01<3:25:52,  6.25s/it]C:\\Users\\Justin\\AppData\\Local\\Temp\\ipykernel_22308\\573511129.py:89: FutureWarning: The frame.append method is deprecated and will be removed from pandas in a future version. Use pandas.concat instead.\n",
      "  results = results.append({\n",
      "  3%|▎         | 56/2029 [04:04<2:08:18,  3.90s/it]"
     ]
    },
    {
     "name": "stdout",
     "output_type": "stream",
     "text": [
      "Error occurred: 'NoneType' object has no attribute 'text'\n"
     ]
    },
    {
     "name": "stderr",
     "output_type": "stream",
     "text": [
      "C:\\Users\\Justin\\AppData\\Local\\Temp\\ipykernel_22308\\573511129.py:89: FutureWarning: The frame.append method is deprecated and will be removed from pandas in a future version. Use pandas.concat instead.\n",
      "  results = results.append({\n",
      "  3%|▎         | 57/2029 [04:06<1:49:22,  3.33s/it]C:\\Users\\Justin\\AppData\\Local\\Temp\\ipykernel_22308\\573511129.py:89: FutureWarning: The frame.append method is deprecated and will be removed from pandas in a future version. Use pandas.concat instead.\n",
      "  results = results.append({\n",
      "  3%|▎         | 58/2029 [04:11<2:07:06,  3.87s/it]C:\\Users\\Justin\\AppData\\Local\\Temp\\ipykernel_22308\\573511129.py:89: FutureWarning: The frame.append method is deprecated and will be removed from pandas in a future version. Use pandas.concat instead.\n",
      "  results = results.append({\n",
      "  3%|▎         | 59/2029 [04:12<1:42:09,  3.11s/it]C:\\Users\\Justin\\AppData\\Local\\Temp\\ipykernel_22308\\573511129.py:89: FutureWarning: The frame.append method is deprecated and will be removed from pandas in a future version. Use pandas.concat instead.\n",
      "  results = results.append({\n",
      "  3%|▎         | 61/2029 [04:19<1:56:32,  3.55s/it]"
     ]
    },
    {
     "name": "stdout",
     "output_type": "stream",
     "text": [
      "Error occurred: 'NoneType' object has no attribute 'text'\n"
     ]
    },
    {
     "name": "stderr",
     "output_type": "stream",
     "text": [
      "C:\\Users\\Justin\\AppData\\Local\\Temp\\ipykernel_22308\\573511129.py:89: FutureWarning: The frame.append method is deprecated and will be removed from pandas in a future version. Use pandas.concat instead.\n",
      "  results = results.append({\n",
      "  3%|▎         | 62/2029 [04:21<1:40:38,  3.07s/it]C:\\Users\\Justin\\AppData\\Local\\Temp\\ipykernel_22308\\573511129.py:89: FutureWarning: The frame.append method is deprecated and will be removed from pandas in a future version. Use pandas.concat instead.\n",
      "  results = results.append({\n",
      "  3%|▎         | 63/2029 [04:23<1:23:35,  2.55s/it]C:\\Users\\Justin\\AppData\\Local\\Temp\\ipykernel_22308\\573511129.py:89: FutureWarning: The frame.append method is deprecated and will be removed from pandas in a future version. Use pandas.concat instead.\n",
      "  results = results.append({\n",
      "  3%|▎         | 65/2029 [04:30<1:44:21,  3.19s/it]"
     ]
    },
    {
     "name": "stdout",
     "output_type": "stream",
     "text": [
      "Error occurred: 'NoneType' object has no attribute 'text'\n"
     ]
    },
    {
     "name": "stderr",
     "output_type": "stream",
     "text": [
      "C:\\Users\\Justin\\AppData\\Local\\Temp\\ipykernel_22308\\573511129.py:89: FutureWarning: The frame.append method is deprecated and will be removed from pandas in a future version. Use pandas.concat instead.\n",
      "  results = results.append({\n",
      "  3%|▎         | 66/2029 [04:31<1:24:51,  2.59s/it]C:\\Users\\Justin\\AppData\\Local\\Temp\\ipykernel_22308\\573511129.py:89: FutureWarning: The frame.append method is deprecated and will be removed from pandas in a future version. Use pandas.concat instead.\n",
      "  results = results.append({\n",
      "  3%|▎         | 67/2029 [04:32<1:07:08,  2.05s/it]C:\\Users\\Justin\\AppData\\Local\\Temp\\ipykernel_22308\\573511129.py:89: FutureWarning: The frame.append method is deprecated and will be removed from pandas in a future version. Use pandas.concat instead.\n",
      "  results = results.append({\n",
      "  3%|▎         | 68/2029 [04:33<1:01:39,  1.89s/it]C:\\Users\\Justin\\AppData\\Local\\Temp\\ipykernel_22308\\573511129.py:89: FutureWarning: The frame.append method is deprecated and will be removed from pandas in a future version. Use pandas.concat instead.\n",
      "  results = results.append({\n",
      "  3%|▎         | 69/2029 [04:41<1:58:46,  3.64s/it]C:\\Users\\Justin\\AppData\\Local\\Temp\\ipykernel_22308\\573511129.py:89: FutureWarning: The frame.append method is deprecated and will be removed from pandas in a future version. Use pandas.concat instead.\n",
      "  results = results.append({\n",
      "  3%|▎         | 71/2029 [04:50<2:25:23,  4.46s/it]"
     ]
    },
    {
     "name": "stdout",
     "output_type": "stream",
     "text": [
      "Error occurred: 'NoneType' object has no attribute 'text'\n"
     ]
    },
    {
     "name": "stderr",
     "output_type": "stream",
     "text": [
      "C:\\Users\\Justin\\AppData\\Local\\Temp\\ipykernel_22308\\573511129.py:89: FutureWarning: The frame.append method is deprecated and will be removed from pandas in a future version. Use pandas.concat instead.\n",
      "  results = results.append({\n",
      "  4%|▎         | 72/2029 [04:52<1:52:04,  3.44s/it]C:\\Users\\Justin\\AppData\\Local\\Temp\\ipykernel_22308\\573511129.py:89: FutureWarning: The frame.append method is deprecated and will be removed from pandas in a future version. Use pandas.concat instead.\n",
      "  results = results.append({\n",
      "  4%|▎         | 73/2029 [04:55<1:47:44,  3.31s/it]C:\\Users\\Justin\\AppData\\Local\\Temp\\ipykernel_22308\\573511129.py:89: FutureWarning: The frame.append method is deprecated and will be removed from pandas in a future version. Use pandas.concat instead.\n",
      "  results = results.append({\n",
      "  4%|▎         | 74/2029 [04:56<1:27:41,  2.69s/it]C:\\Users\\Justin\\AppData\\Local\\Temp\\ipykernel_22308\\573511129.py:89: FutureWarning: The frame.append method is deprecated and will be removed from pandas in a future version. Use pandas.concat instead.\n",
      "  results = results.append({\n",
      "  4%|▎         | 75/2029 [05:00<1:45:03,  3.23s/it]C:\\Users\\Justin\\AppData\\Local\\Temp\\ipykernel_22308\\573511129.py:89: FutureWarning: The frame.append method is deprecated and will be removed from pandas in a future version. Use pandas.concat instead.\n",
      "  results = results.append({\n",
      "  4%|▎         | 76/2029 [05:02<1:34:53,  2.92s/it]C:\\Users\\Justin\\AppData\\Local\\Temp\\ipykernel_22308\\573511129.py:89: FutureWarning: The frame.append method is deprecated and will be removed from pandas in a future version. Use pandas.concat instead.\n",
      "  results = results.append({\n",
      "  4%|▍         | 77/2029 [05:04<1:19:01,  2.43s/it]C:\\Users\\Justin\\AppData\\Local\\Temp\\ipykernel_22308\\573511129.py:89: FutureWarning: The frame.append method is deprecated and will be removed from pandas in a future version. Use pandas.concat instead.\n",
      "  results = results.append({\n",
      "  4%|▍         | 78/2029 [05:05<1:10:31,  2.17s/it]C:\\Users\\Justin\\AppData\\Local\\Temp\\ipykernel_22308\\573511129.py:89: FutureWarning: The frame.append method is deprecated and will be removed from pandas in a future version. Use pandas.concat instead.\n",
      "  results = results.append({\n",
      "  4%|▍         | 80/2029 [05:11<1:21:22,  2.50s/it]"
     ]
    },
    {
     "name": "stdout",
     "output_type": "stream",
     "text": [
      "Error occurred: 'NoneType' object has no attribute 'text'\n"
     ]
    },
    {
     "name": "stderr",
     "output_type": "stream",
     "text": [
      "  4%|▍         | 81/2029 [05:14<1:19:21,  2.44s/it]"
     ]
    },
    {
     "name": "stdout",
     "output_type": "stream",
     "text": [
      "Error occurred: 'NoneType' object has no attribute 'text'\n"
     ]
    },
    {
     "name": "stderr",
     "output_type": "stream",
     "text": [
      "  4%|▍         | 82/2029 [05:15<1:10:24,  2.17s/it]"
     ]
    },
    {
     "name": "stdout",
     "output_type": "stream",
     "text": [
      "Error occurred: 'NoneType' object has no attribute 'text'\n"
     ]
    },
    {
     "name": "stderr",
     "output_type": "stream",
     "text": [
      "C:\\Users\\Justin\\AppData\\Local\\Temp\\ipykernel_22308\\573511129.py:89: FutureWarning: The frame.append method is deprecated and will be removed from pandas in a future version. Use pandas.concat instead.\n",
      "  results = results.append({\n",
      "  4%|▍         | 84/2029 [05:22<1:25:55,  2.65s/it]"
     ]
    },
    {
     "name": "stdout",
     "output_type": "stream",
     "text": [
      "Error occurred: 'NoneType' object has no attribute 'text'\n"
     ]
    },
    {
     "name": "stderr",
     "output_type": "stream",
     "text": [
      "C:\\Users\\Justin\\AppData\\Local\\Temp\\ipykernel_22308\\573511129.py:89: FutureWarning: The frame.append method is deprecated and will be removed from pandas in a future version. Use pandas.concat instead.\n",
      "  results = results.append({\n",
      "  4%|▍         | 85/2029 [05:23<1:13:09,  2.26s/it]C:\\Users\\Justin\\AppData\\Local\\Temp\\ipykernel_22308\\573511129.py:89: FutureWarning: The frame.append method is deprecated and will be removed from pandas in a future version. Use pandas.concat instead.\n",
      "  results = results.append({\n",
      "  4%|▍         | 86/2029 [05:26<1:10:59,  2.19s/it]C:\\Users\\Justin\\AppData\\Local\\Temp\\ipykernel_22308\\573511129.py:89: FutureWarning: The frame.append method is deprecated and will be removed from pandas in a future version. Use pandas.concat instead.\n",
      "  results = results.append({\n",
      "  4%|▍         | 87/2029 [05:30<1:29:49,  2.78s/it]C:\\Users\\Justin\\AppData\\Local\\Temp\\ipykernel_22308\\573511129.py:89: FutureWarning: The frame.append method is deprecated and will be removed from pandas in a future version. Use pandas.concat instead.\n",
      "  results = results.append({\n",
      "  4%|▍         | 88/2029 [05:31<1:11:28,  2.21s/it]C:\\Users\\Justin\\AppData\\Local\\Temp\\ipykernel_22308\\573511129.py:89: FutureWarning: The frame.append method is deprecated and will be removed from pandas in a future version. Use pandas.concat instead.\n",
      "  results = results.append({\n",
      "  4%|▍         | 89/2029 [05:32<1:03:49,  1.97s/it]C:\\Users\\Justin\\AppData\\Local\\Temp\\ipykernel_22308\\573511129.py:89: FutureWarning: The frame.append method is deprecated and will be removed from pandas in a future version. Use pandas.concat instead.\n",
      "  results = results.append({\n",
      "  4%|▍         | 90/2029 [05:42<2:18:50,  4.30s/it]C:\\Users\\Justin\\AppData\\Local\\Temp\\ipykernel_22308\\573511129.py:89: FutureWarning: The frame.append method is deprecated and will be removed from pandas in a future version. Use pandas.concat instead.\n",
      "  results = results.append({\n",
      "  5%|▍         | 92/2029 [05:50<2:22:27,  4.41s/it]"
     ]
    },
    {
     "name": "stdout",
     "output_type": "stream",
     "text": [
      "Error occurred: 'NoneType' object has no attribute 'text'\n"
     ]
    },
    {
     "name": "stderr",
     "output_type": "stream",
     "text": [
      "C:\\Users\\Justin\\AppData\\Local\\Temp\\ipykernel_22308\\573511129.py:89: FutureWarning: The frame.append method is deprecated and will be removed from pandas in a future version. Use pandas.concat instead.\n",
      "  results = results.append({\n",
      "  5%|▍         | 93/2029 [05:51<1:54:17,  3.54s/it]C:\\Users\\Justin\\AppData\\Local\\Temp\\ipykernel_22308\\573511129.py:89: FutureWarning: The frame.append method is deprecated and will be removed from pandas in a future version. Use pandas.concat instead.\n",
      "  results = results.append({\n",
      "  5%|▍         | 94/2029 [05:52<1:26:45,  2.69s/it]C:\\Users\\Justin\\AppData\\Local\\Temp\\ipykernel_22308\\573511129.py:89: FutureWarning: The frame.append method is deprecated and will be removed from pandas in a future version. Use pandas.concat instead.\n",
      "  results = results.append({\n",
      "  5%|▍         | 96/2029 [06:00<1:53:03,  3.51s/it]"
     ]
    },
    {
     "name": "stdout",
     "output_type": "stream",
     "text": [
      "Error occurred: 'NoneType' object has no attribute 'text'\n"
     ]
    },
    {
     "name": "stderr",
     "output_type": "stream",
     "text": [
      "C:\\Users\\Justin\\AppData\\Local\\Temp\\ipykernel_22308\\573511129.py:89: FutureWarning: The frame.append method is deprecated and will be removed from pandas in a future version. Use pandas.concat instead.\n",
      "  results = results.append({\n",
      "  5%|▍         | 97/2029 [06:01<1:33:10,  2.89s/it]C:\\Users\\Justin\\AppData\\Local\\Temp\\ipykernel_22308\\573511129.py:89: FutureWarning: The frame.append method is deprecated and will be removed from pandas in a future version. Use pandas.concat instead.\n",
      "  results = results.append({\n",
      "  5%|▍         | 99/2029 [06:06<1:28:34,  2.75s/it]"
     ]
    },
    {
     "name": "stdout",
     "output_type": "stream",
     "text": [
      "Error occurred: 'NoneType' object has no attribute 'text'\n"
     ]
    },
    {
     "name": "stderr",
     "output_type": "stream",
     "text": [
      "  5%|▍         | 100/2029 [06:11<1:49:01,  3.39s/it]"
     ]
    },
    {
     "name": "stdout",
     "output_type": "stream",
     "text": [
      "Error occurred: 'NoneType' object has no attribute 'text'\n"
     ]
    },
    {
     "name": "stderr",
     "output_type": "stream",
     "text": [
      "C:\\Users\\Justin\\AppData\\Local\\Temp\\ipykernel_22308\\573511129.py:89: FutureWarning: The frame.append method is deprecated and will be removed from pandas in a future version. Use pandas.concat instead.\n",
      "  results = results.append({\n",
      "  5%|▍         | 101/2029 [06:34<4:55:07,  9.18s/it]C:\\Users\\Justin\\AppData\\Local\\Temp\\ipykernel_22308\\573511129.py:89: FutureWarning: The frame.append method is deprecated and will be removed from pandas in a future version. Use pandas.concat instead.\n",
      "  results = results.append({\n",
      "  5%|▌         | 102/2029 [06:35<3:38:18,  6.80s/it]C:\\Users\\Justin\\AppData\\Local\\Temp\\ipykernel_22308\\573511129.py:89: FutureWarning: The frame.append method is deprecated and will be removed from pandas in a future version. Use pandas.concat instead.\n",
      "  results = results.append({\n",
      "  5%|▌         | 103/2029 [06:40<3:18:31,  6.18s/it]C:\\Users\\Justin\\AppData\\Local\\Temp\\ipykernel_22308\\573511129.py:89: FutureWarning: The frame.append method is deprecated and will be removed from pandas in a future version. Use pandas.concat instead.\n",
      "  results = results.append({\n",
      "  5%|▌         | 104/2029 [06:45<3:11:28,  5.97s/it]C:\\Users\\Justin\\AppData\\Local\\Temp\\ipykernel_22308\\573511129.py:89: FutureWarning: The frame.append method is deprecated and will be removed from pandas in a future version. Use pandas.concat instead.\n",
      "  results = results.append({\n",
      "  5%|▌         | 105/2029 [06:51<3:07:08,  5.84s/it]C:\\Users\\Justin\\AppData\\Local\\Temp\\ipykernel_22308\\573511129.py:89: FutureWarning: The frame.append method is deprecated and will be removed from pandas in a future version. Use pandas.concat instead.\n",
      "  results = results.append({\n",
      "  5%|▌         | 106/2029 [06:53<2:32:40,  4.76s/it]C:\\Users\\Justin\\AppData\\Local\\Temp\\ipykernel_22308\\573511129.py:89: FutureWarning: The frame.append method is deprecated and will be removed from pandas in a future version. Use pandas.concat instead.\n",
      "  results = results.append({\n",
      "  5%|▌         | 107/2029 [06:55<2:03:48,  3.86s/it]C:\\Users\\Justin\\AppData\\Local\\Temp\\ipykernel_22308\\573511129.py:89: FutureWarning: The frame.append method is deprecated and will be removed from pandas in a future version. Use pandas.concat instead.\n",
      "  results = results.append({\n",
      "  5%|▌         | 108/2029 [07:11<4:01:24,  7.54s/it]C:\\Users\\Justin\\AppData\\Local\\Temp\\ipykernel_22308\\573511129.py:89: FutureWarning: The frame.append method is deprecated and will be removed from pandas in a future version. Use pandas.concat instead.\n",
      "  results = results.append({\n",
      "  5%|▌         | 109/2029 [07:13<3:12:02,  6.00s/it]C:\\Users\\Justin\\AppData\\Local\\Temp\\ipykernel_22308\\573511129.py:89: FutureWarning: The frame.append method is deprecated and will be removed from pandas in a future version. Use pandas.concat instead.\n",
      "  results = results.append({\n",
      "  5%|▌         | 110/2029 [07:15<2:33:26,  4.80s/it]C:\\Users\\Justin\\AppData\\Local\\Temp\\ipykernel_22308\\573511129.py:89: FutureWarning: The frame.append method is deprecated and will be removed from pandas in a future version. Use pandas.concat instead.\n",
      "  results = results.append({\n",
      "  5%|▌         | 111/2029 [07:21<2:42:22,  5.08s/it]C:\\Users\\Justin\\AppData\\Local\\Temp\\ipykernel_22308\\573511129.py:89: FutureWarning: The frame.append method is deprecated and will be removed from pandas in a future version. Use pandas.concat instead.\n",
      "  results = results.append({\n",
      "  6%|▌         | 112/2029 [07:24<2:17:19,  4.30s/it]C:\\Users\\Justin\\AppData\\Local\\Temp\\ipykernel_22308\\573511129.py:89: FutureWarning: The frame.append method is deprecated and will be removed from pandas in a future version. Use pandas.concat instead.\n",
      "  results = results.append({\n",
      "  6%|▌         | 113/2029 [07:25<1:50:51,  3.47s/it]C:\\Users\\Justin\\AppData\\Local\\Temp\\ipykernel_22308\\573511129.py:89: FutureWarning: The frame.append method is deprecated and will be removed from pandas in a future version. Use pandas.concat instead.\n",
      "  results = results.append({\n",
      "  6%|▌         | 114/2029 [07:26<1:29:03,  2.79s/it]C:\\Users\\Justin\\AppData\\Local\\Temp\\ipykernel_22308\\573511129.py:89: FutureWarning: The frame.append method is deprecated and will be removed from pandas in a future version. Use pandas.concat instead.\n",
      "  results = results.append({\n",
      "  6%|▌         | 115/2029 [07:31<1:42:29,  3.21s/it]C:\\Users\\Justin\\AppData\\Local\\Temp\\ipykernel_22308\\573511129.py:89: FutureWarning: The frame.append method is deprecated and will be removed from pandas in a future version. Use pandas.concat instead.\n",
      "  results = results.append({\n",
      "  6%|▌         | 116/2029 [07:32<1:28:38,  2.78s/it]C:\\Users\\Justin\\AppData\\Local\\Temp\\ipykernel_22308\\573511129.py:89: FutureWarning: The frame.append method is deprecated and will be removed from pandas in a future version. Use pandas.concat instead.\n",
      "  results = results.append({\n",
      "  6%|▌         | 117/2029 [07:35<1:26:10,  2.70s/it]C:\\Users\\Justin\\AppData\\Local\\Temp\\ipykernel_22308\\573511129.py:89: FutureWarning: The frame.append method is deprecated and will be removed from pandas in a future version. Use pandas.concat instead.\n",
      "  results = results.append({\n",
      "  6%|▌         | 118/2029 [07:40<1:53:56,  3.58s/it]C:\\Users\\Justin\\AppData\\Local\\Temp\\ipykernel_22308\\573511129.py:89: FutureWarning: The frame.append method is deprecated and will be removed from pandas in a future version. Use pandas.concat instead.\n",
      "  results = results.append({\n",
      "  6%|▌         | 120/2029 [07:43<1:15:31,  2.37s/it]"
     ]
    },
    {
     "name": "stdout",
     "output_type": "stream",
     "text": [
      "Error occurred: 'NoneType' object has no attribute 'text'\n"
     ]
    },
    {
     "name": "stderr",
     "output_type": "stream",
     "text": [
      "C:\\Users\\Justin\\AppData\\Local\\Temp\\ipykernel_22308\\573511129.py:89: FutureWarning: The frame.append method is deprecated and will be removed from pandas in a future version. Use pandas.concat instead.\n",
      "  results = results.append({\n",
      "  6%|▌         | 121/2029 [07:45<1:07:58,  2.14s/it]C:\\Users\\Justin\\AppData\\Local\\Temp\\ipykernel_22308\\573511129.py:89: FutureWarning: The frame.append method is deprecated and will be removed from pandas in a future version. Use pandas.concat instead.\n",
      "  results = results.append({\n",
      "  6%|▌         | 122/2029 [07:55<2:31:32,  4.77s/it]C:\\Users\\Justin\\AppData\\Local\\Temp\\ipykernel_22308\\573511129.py:89: FutureWarning: The frame.append method is deprecated and will be removed from pandas in a future version. Use pandas.concat instead.\n",
      "  results = results.append({\n",
      "  6%|▌         | 123/2029 [08:00<2:33:06,  4.82s/it]C:\\Users\\Justin\\AppData\\Local\\Temp\\ipykernel_22308\\573511129.py:89: FutureWarning: The frame.append method is deprecated and will be removed from pandas in a future version. Use pandas.concat instead.\n",
      "  results = results.append({\n",
      "  6%|▌         | 124/2029 [08:02<2:05:12,  3.94s/it]C:\\Users\\Justin\\AppData\\Local\\Temp\\ipykernel_22308\\573511129.py:89: FutureWarning: The frame.append method is deprecated and will be removed from pandas in a future version. Use pandas.concat instead.\n",
      "  results = results.append({\n",
      "  6%|▌         | 125/2029 [08:14<3:18:53,  6.27s/it]C:\\Users\\Justin\\AppData\\Local\\Temp\\ipykernel_22308\\573511129.py:89: FutureWarning: The frame.append method is deprecated and will be removed from pandas in a future version. Use pandas.concat instead.\n",
      "  results = results.append({\n",
      "  6%|▌         | 126/2029 [08:27<4:20:41,  8.22s/it]C:\\Users\\Justin\\AppData\\Local\\Temp\\ipykernel_22308\\573511129.py:89: FutureWarning: The frame.append method is deprecated and will be removed from pandas in a future version. Use pandas.concat instead.\n",
      "  results = results.append({\n",
      "  6%|▋         | 127/2029 [08:32<3:48:08,  7.20s/it]C:\\Users\\Justin\\AppData\\Local\\Temp\\ipykernel_22308\\573511129.py:89: FutureWarning: The frame.append method is deprecated and will be removed from pandas in a future version. Use pandas.concat instead.\n",
      "  results = results.append({\n",
      "  6%|▋         | 128/2029 [08:33<2:56:06,  5.56s/it]C:\\Users\\Justin\\AppData\\Local\\Temp\\ipykernel_22308\\573511129.py:89: FutureWarning: The frame.append method is deprecated and will be removed from pandas in a future version. Use pandas.concat instead.\n",
      "  results = results.append({\n",
      "  6%|▋         | 129/2029 [08:35<2:16:13,  4.30s/it]C:\\Users\\Justin\\AppData\\Local\\Temp\\ipykernel_22308\\573511129.py:89: FutureWarning: The frame.append method is deprecated and will be removed from pandas in a future version. Use pandas.concat instead.\n",
      "  results = results.append({\n",
      "  6%|▋         | 131/2029 [08:43<2:07:29,  4.03s/it]"
     ]
    },
    {
     "name": "stdout",
     "output_type": "stream",
     "text": [
      "Error occurred: 'NoneType' object has no attribute 'text'\n"
     ]
    },
    {
     "name": "stderr",
     "output_type": "stream",
     "text": [
      "C:\\Users\\Justin\\AppData\\Local\\Temp\\ipykernel_22308\\573511129.py:89: FutureWarning: The frame.append method is deprecated and will be removed from pandas in a future version. Use pandas.concat instead.\n",
      "  results = results.append({\n",
      "  7%|▋         | 132/2029 [08:46<1:51:14,  3.52s/it]C:\\Users\\Justin\\AppData\\Local\\Temp\\ipykernel_22308\\573511129.py:89: FutureWarning: The frame.append method is deprecated and will be removed from pandas in a future version. Use pandas.concat instead.\n",
      "  results = results.append({\n",
      "  7%|▋         | 133/2029 [08:50<2:02:52,  3.89s/it]C:\\Users\\Justin\\AppData\\Local\\Temp\\ipykernel_22308\\573511129.py:89: FutureWarning: The frame.append method is deprecated and will be removed from pandas in a future version. Use pandas.concat instead.\n",
      "  results = results.append({\n",
      "  7%|▋         | 134/2029 [08:52<1:40:04,  3.17s/it]C:\\Users\\Justin\\AppData\\Local\\Temp\\ipykernel_22308\\573511129.py:89: FutureWarning: The frame.append method is deprecated and will be removed from pandas in a future version. Use pandas.concat instead.\n",
      "  results = results.append({\n",
      "  7%|▋         | 136/2029 [09:05<2:47:13,  5.30s/it]"
     ]
    },
    {
     "name": "stdout",
     "output_type": "stream",
     "text": [
      "Error occurred: 'NoneType' object has no attribute 'text'\n"
     ]
    },
    {
     "name": "stderr",
     "output_type": "stream",
     "text": [
      "C:\\Users\\Justin\\AppData\\Local\\Temp\\ipykernel_22308\\573511129.py:89: FutureWarning: The frame.append method is deprecated and will be removed from pandas in a future version. Use pandas.concat instead.\n",
      "  results = results.append({\n",
      "  7%|▋         | 137/2029 [09:06<2:11:24,  4.17s/it]C:\\Users\\Justin\\AppData\\Local\\Temp\\ipykernel_22308\\573511129.py:89: FutureWarning: The frame.append method is deprecated and will be removed from pandas in a future version. Use pandas.concat instead.\n",
      "  results = results.append({\n",
      "  7%|▋         | 139/2029 [09:11<1:41:46,  3.23s/it]"
     ]
    },
    {
     "name": "stdout",
     "output_type": "stream",
     "text": [
      "Error occurred: 'NoneType' object has no attribute 'text'\n"
     ]
    },
    {
     "name": "stderr",
     "output_type": "stream",
     "text": [
      "  7%|▋         | 140/2029 [09:14<1:32:00,  2.92s/it]"
     ]
    },
    {
     "name": "stdout",
     "output_type": "stream",
     "text": [
      "Error occurred: 'NoneType' object has no attribute 'text'\n"
     ]
    },
    {
     "name": "stderr",
     "output_type": "stream",
     "text": [
      "C:\\Users\\Justin\\AppData\\Local\\Temp\\ipykernel_22308\\573511129.py:89: FutureWarning: The frame.append method is deprecated and will be removed from pandas in a future version. Use pandas.concat instead.\n",
      "  results = results.append({\n",
      "  7%|▋         | 141/2029 [09:15<1:19:17,  2.52s/it]C:\\Users\\Justin\\AppData\\Local\\Temp\\ipykernel_22308\\573511129.py:89: FutureWarning: The frame.append method is deprecated and will be removed from pandas in a future version. Use pandas.concat instead.\n",
      "  results = results.append({\n",
      "  7%|▋         | 142/2029 [09:20<1:43:28,  3.29s/it]C:\\Users\\Justin\\AppData\\Local\\Temp\\ipykernel_22308\\573511129.py:89: FutureWarning: The frame.append method is deprecated and will be removed from pandas in a future version. Use pandas.concat instead.\n",
      "  results = results.append({\n",
      "  7%|▋         | 144/2029 [09:24<1:22:37,  2.63s/it]"
     ]
    },
    {
     "name": "stdout",
     "output_type": "stream",
     "text": [
      "Error occurred: 'NoneType' object has no attribute 'text'\n"
     ]
    },
    {
     "name": "stderr",
     "output_type": "stream",
     "text": [
      "C:\\Users\\Justin\\AppData\\Local\\Temp\\ipykernel_22308\\573511129.py:89: FutureWarning: The frame.append method is deprecated and will be removed from pandas in a future version. Use pandas.concat instead.\n",
      "  results = results.append({\n",
      "  7%|▋         | 145/2029 [09:25<1:06:06,  2.11s/it]C:\\Users\\Justin\\AppData\\Local\\Temp\\ipykernel_22308\\573511129.py:89: FutureWarning: The frame.append method is deprecated and will be removed from pandas in a future version. Use pandas.concat instead.\n",
      "  results = results.append({\n",
      "  7%|▋         | 146/2029 [09:30<1:31:53,  2.93s/it]C:\\Users\\Justin\\AppData\\Local\\Temp\\ipykernel_22308\\573511129.py:89: FutureWarning: The frame.append method is deprecated and will be removed from pandas in a future version. Use pandas.concat instead.\n",
      "  results = results.append({\n",
      "  7%|▋         | 147/2029 [09:32<1:18:04,  2.49s/it]C:\\Users\\Justin\\AppData\\Local\\Temp\\ipykernel_22308\\573511129.py:89: FutureWarning: The frame.append method is deprecated and will be removed from pandas in a future version. Use pandas.concat instead.\n",
      "  results = results.append({\n",
      "  7%|▋         | 148/2029 [09:34<1:20:00,  2.55s/it]C:\\Users\\Justin\\AppData\\Local\\Temp\\ipykernel_22308\\573511129.py:89: FutureWarning: The frame.append method is deprecated and will be removed from pandas in a future version. Use pandas.concat instead.\n",
      "  results = results.append({\n",
      "  7%|▋         | 149/2029 [09:36<1:07:50,  2.17s/it]C:\\Users\\Justin\\AppData\\Local\\Temp\\ipykernel_22308\\573511129.py:89: FutureWarning: The frame.append method is deprecated and will be removed from pandas in a future version. Use pandas.concat instead.\n",
      "  results = results.append({\n",
      "  7%|▋         | 150/2029 [09:40<1:30:20,  2.88s/it]"
     ]
    },
    {
     "name": "stdout",
     "output_type": "stream",
     "text": [
      "Error occurred: Cannot save file into a non-existent directory: 'TEMP\\NCAA_Partial'\n"
     ]
    },
    {
     "name": "stderr",
     "output_type": "stream",
     "text": [
      "C:\\Users\\Justin\\AppData\\Local\\Temp\\ipykernel_22308\\573511129.py:89: FutureWarning: The frame.append method is deprecated and will be removed from pandas in a future version. Use pandas.concat instead.\n",
      "  results = results.append({\n",
      "  7%|▋         | 151/2029 [09:41<1:10:46,  2.26s/it]C:\\Users\\Justin\\AppData\\Local\\Temp\\ipykernel_22308\\573511129.py:89: FutureWarning: The frame.append method is deprecated and will be removed from pandas in a future version. Use pandas.concat instead.\n",
      "  results = results.append({\n",
      "  8%|▊         | 153/2029 [09:44<54:02,  1.73s/it]  "
     ]
    },
    {
     "name": "stdout",
     "output_type": "stream",
     "text": [
      "Error occurred: 'NoneType' object has no attribute 'text'\n"
     ]
    },
    {
     "name": "stderr",
     "output_type": "stream",
     "text": [
      "C:\\Users\\Justin\\AppData\\Local\\Temp\\ipykernel_22308\\573511129.py:89: FutureWarning: The frame.append method is deprecated and will be removed from pandas in a future version. Use pandas.concat instead.\n",
      "  results = results.append({\n",
      "  8%|▊         | 154/2029 [09:45<47:57,  1.53s/it]C:\\Users\\Justin\\AppData\\Local\\Temp\\ipykernel_22308\\573511129.py:89: FutureWarning: The frame.append method is deprecated and will be removed from pandas in a future version. Use pandas.concat instead.\n",
      "  results = results.append({\n",
      "  8%|▊         | 155/2029 [09:47<51:53,  1.66s/it]C:\\Users\\Justin\\AppData\\Local\\Temp\\ipykernel_22308\\573511129.py:89: FutureWarning: The frame.append method is deprecated and will be removed from pandas in a future version. Use pandas.concat instead.\n",
      "  results = results.append({\n",
      "  8%|▊         | 157/2029 [10:01<2:05:03,  4.01s/it]"
     ]
    },
    {
     "name": "stdout",
     "output_type": "stream",
     "text": [
      "Error occurred: 'NoneType' object has no attribute 'text'\n"
     ]
    },
    {
     "name": "stderr",
     "output_type": "stream",
     "text": [
      "C:\\Users\\Justin\\AppData\\Local\\Temp\\ipykernel_22308\\573511129.py:89: FutureWarning: The frame.append method is deprecated and will be removed from pandas in a future version. Use pandas.concat instead.\n",
      "  results = results.append({\n",
      "  8%|▊         | 158/2029 [10:05<1:58:32,  3.80s/it]C:\\Users\\Justin\\AppData\\Local\\Temp\\ipykernel_22308\\573511129.py:89: FutureWarning: The frame.append method is deprecated and will be removed from pandas in a future version. Use pandas.concat instead.\n",
      "  results = results.append({\n",
      "  8%|▊         | 160/2029 [10:11<1:56:40,  3.75s/it]"
     ]
    },
    {
     "name": "stdout",
     "output_type": "stream",
     "text": [
      "Error occurred: 'NoneType' object has no attribute 'text'\n"
     ]
    },
    {
     "name": "stderr",
     "output_type": "stream",
     "text": [
      "C:\\Users\\Justin\\AppData\\Local\\Temp\\ipykernel_22308\\573511129.py:89: FutureWarning: The frame.append method is deprecated and will be removed from pandas in a future version. Use pandas.concat instead.\n",
      "  results = results.append({\n",
      "  8%|▊         | 161/2029 [10:12<1:31:15,  2.93s/it]C:\\Users\\Justin\\AppData\\Local\\Temp\\ipykernel_22308\\573511129.py:89: FutureWarning: The frame.append method is deprecated and will be removed from pandas in a future version. Use pandas.concat instead.\n",
      "  results = results.append({\n",
      "  8%|▊         | 162/2029 [10:14<1:22:28,  2.65s/it]C:\\Users\\Justin\\AppData\\Local\\Temp\\ipykernel_22308\\573511129.py:89: FutureWarning: The frame.append method is deprecated and will be removed from pandas in a future version. Use pandas.concat instead.\n",
      "  results = results.append({\n",
      "  8%|▊         | 163/2029 [10:16<1:13:30,  2.36s/it]C:\\Users\\Justin\\AppData\\Local\\Temp\\ipykernel_22308\\573511129.py:89: FutureWarning: The frame.append method is deprecated and will be removed from pandas in a future version. Use pandas.concat instead.\n",
      "  results = results.append({\n",
      "  8%|▊         | 164/2029 [10:21<1:41:20,  3.26s/it]C:\\Users\\Justin\\AppData\\Local\\Temp\\ipykernel_22308\\573511129.py:89: FutureWarning: The frame.append method is deprecated and will be removed from pandas in a future version. Use pandas.concat instead.\n",
      "  results = results.append({\n",
      "  8%|▊         | 165/2029 [10:22<1:19:25,  2.56s/it]C:\\Users\\Justin\\AppData\\Local\\Temp\\ipykernel_22308\\573511129.py:89: FutureWarning: The frame.append method is deprecated and will be removed from pandas in a future version. Use pandas.concat instead.\n",
      "  results = results.append({\n",
      "  8%|▊         | 166/2029 [10:30<2:10:47,  4.21s/it]C:\\Users\\Justin\\AppData\\Local\\Temp\\ipykernel_22308\\573511129.py:89: FutureWarning: The frame.append method is deprecated and will be removed from pandas in a future version. Use pandas.concat instead.\n",
      "  results = results.append({\n",
      "  8%|▊         | 167/2029 [10:32<1:43:47,  3.34s/it]C:\\Users\\Justin\\AppData\\Local\\Temp\\ipykernel_22308\\573511129.py:89: FutureWarning: The frame.append method is deprecated and will be removed from pandas in a future version. Use pandas.concat instead.\n",
      "  results = results.append({\n",
      "  8%|▊         | 168/2029 [10:34<1:35:40,  3.08s/it]C:\\Users\\Justin\\AppData\\Local\\Temp\\ipykernel_22308\\573511129.py:89: FutureWarning: The frame.append method is deprecated and will be removed from pandas in a future version. Use pandas.concat instead.\n",
      "  results = results.append({\n",
      "  8%|▊         | 169/2029 [10:35<1:14:08,  2.39s/it]C:\\Users\\Justin\\AppData\\Local\\Temp\\ipykernel_22308\\573511129.py:89: FutureWarning: The frame.append method is deprecated and will be removed from pandas in a future version. Use pandas.concat instead.\n",
      "  results = results.append({\n",
      "  8%|▊         | 170/2029 [10:37<1:09:59,  2.26s/it]C:\\Users\\Justin\\AppData\\Local\\Temp\\ipykernel_22308\\573511129.py:89: FutureWarning: The frame.append method is deprecated and will be removed from pandas in a future version. Use pandas.concat instead.\n",
      "  results = results.append({\n",
      "  8%|▊         | 171/2029 [10:41<1:24:07,  2.72s/it]C:\\Users\\Justin\\AppData\\Local\\Temp\\ipykernel_22308\\573511129.py:89: FutureWarning: The frame.append method is deprecated and will be removed from pandas in a future version. Use pandas.concat instead.\n",
      "  results = results.append({\n",
      "  8%|▊         | 172/2029 [10:42<1:08:51,  2.22s/it]C:\\Users\\Justin\\AppData\\Local\\Temp\\ipykernel_22308\\573511129.py:89: FutureWarning: The frame.append method is deprecated and will be removed from pandas in a future version. Use pandas.concat instead.\n",
      "  results = results.append({\n",
      "  9%|▊         | 173/2029 [10:53<2:28:09,  4.79s/it]C:\\Users\\Justin\\AppData\\Local\\Temp\\ipykernel_22308\\573511129.py:89: FutureWarning: The frame.append method is deprecated and will be removed from pandas in a future version. Use pandas.concat instead.\n",
      "  results = results.append({\n",
      "  9%|▊         | 174/2029 [10:54<2:01:04,  3.92s/it]C:\\Users\\Justin\\AppData\\Local\\Temp\\ipykernel_22308\\573511129.py:89: FutureWarning: The frame.append method is deprecated and will be removed from pandas in a future version. Use pandas.concat instead.\n",
      "  results = results.append({\n",
      "  9%|▊         | 176/2029 [11:01<1:58:48,  3.85s/it]"
     ]
    },
    {
     "name": "stdout",
     "output_type": "stream",
     "text": [
      "Error occurred: 'NoneType' object has no attribute 'text'\n"
     ]
    },
    {
     "name": "stderr",
     "output_type": "stream",
     "text": [
      "C:\\Users\\Justin\\AppData\\Local\\Temp\\ipykernel_22308\\573511129.py:89: FutureWarning: The frame.append method is deprecated and will be removed from pandas in a future version. Use pandas.concat instead.\n",
      "  results = results.append({\n",
      "  9%|▊         | 177/2029 [11:04<1:45:21,  3.41s/it]C:\\Users\\Justin\\AppData\\Local\\Temp\\ipykernel_22308\\573511129.py:89: FutureWarning: The frame.append method is deprecated and will be removed from pandas in a future version. Use pandas.concat instead.\n",
      "  results = results.append({\n",
      "  9%|▉         | 178/2029 [11:07<1:42:21,  3.32s/it]C:\\Users\\Justin\\AppData\\Local\\Temp\\ipykernel_22308\\573511129.py:89: FutureWarning: The frame.append method is deprecated and will be removed from pandas in a future version. Use pandas.concat instead.\n",
      "  results = results.append({\n",
      "  9%|▉         | 179/2029 [11:11<1:49:43,  3.56s/it]C:\\Users\\Justin\\AppData\\Local\\Temp\\ipykernel_22308\\573511129.py:89: FutureWarning: The frame.append method is deprecated and will be removed from pandas in a future version. Use pandas.concat instead.\n",
      "  results = results.append({\n",
      "  9%|▉         | 180/2029 [11:13<1:34:01,  3.05s/it]C:\\Users\\Justin\\AppData\\Local\\Temp\\ipykernel_22308\\573511129.py:89: FutureWarning: The frame.append method is deprecated and will be removed from pandas in a future version. Use pandas.concat instead.\n",
      "  results = results.append({\n",
      "  9%|▉         | 181/2029 [11:14<1:13:56,  2.40s/it]C:\\Users\\Justin\\AppData\\Local\\Temp\\ipykernel_22308\\573511129.py:89: FutureWarning: The frame.append method is deprecated and will be removed from pandas in a future version. Use pandas.concat instead.\n",
      "  results = results.append({\n",
      "  9%|▉         | 182/2029 [11:15<1:08:27,  2.22s/it]C:\\Users\\Justin\\AppData\\Local\\Temp\\ipykernel_22308\\573511129.py:89: FutureWarning: The frame.append method is deprecated and will be removed from pandas in a future version. Use pandas.concat instead.\n",
      "  results = results.append({\n",
      "  9%|▉         | 183/2029 [11:21<1:34:45,  3.08s/it]C:\\Users\\Justin\\AppData\\Local\\Temp\\ipykernel_22308\\573511129.py:89: FutureWarning: The frame.append method is deprecated and will be removed from pandas in a future version. Use pandas.concat instead.\n",
      "  results = results.append({\n",
      "  9%|▉         | 184/2029 [11:25<1:49:38,  3.57s/it]C:\\Users\\Justin\\AppData\\Local\\Temp\\ipykernel_22308\\573511129.py:89: FutureWarning: The frame.append method is deprecated and will be removed from pandas in a future version. Use pandas.concat instead.\n",
      "  results = results.append({\n",
      "  9%|▉         | 185/2029 [11:27<1:28:25,  2.88s/it]C:\\Users\\Justin\\AppData\\Local\\Temp\\ipykernel_22308\\573511129.py:89: FutureWarning: The frame.append method is deprecated and will be removed from pandas in a future version. Use pandas.concat instead.\n",
      "  results = results.append({\n",
      "  9%|▉         | 186/2029 [11:30<1:37:58,  3.19s/it]C:\\Users\\Justin\\AppData\\Local\\Temp\\ipykernel_22308\\573511129.py:89: FutureWarning: The frame.append method is deprecated and will be removed from pandas in a future version. Use pandas.concat instead.\n",
      "  results = results.append({\n",
      "  9%|▉         | 188/2029 [11:37<1:34:13,  3.07s/it]"
     ]
    },
    {
     "name": "stdout",
     "output_type": "stream",
     "text": [
      "Error occurred: 'NoneType' object has no attribute 'text'\n"
     ]
    },
    {
     "name": "stderr",
     "output_type": "stream",
     "text": [
      "C:\\Users\\Justin\\AppData\\Local\\Temp\\ipykernel_22308\\573511129.py:89: FutureWarning: The frame.append method is deprecated and will be removed from pandas in a future version. Use pandas.concat instead.\n",
      "  results = results.append({\n",
      "  9%|▉         | 189/2029 [11:41<1:39:42,  3.25s/it]C:\\Users\\Justin\\AppData\\Local\\Temp\\ipykernel_22308\\573511129.py:89: FutureWarning: The frame.append method is deprecated and will be removed from pandas in a future version. Use pandas.concat instead.\n",
      "  results = results.append({\n",
      "  9%|▉         | 190/2029 [11:43<1:31:02,  2.97s/it]C:\\Users\\Justin\\AppData\\Local\\Temp\\ipykernel_22308\\573511129.py:89: FutureWarning: The frame.append method is deprecated and will be removed from pandas in a future version. Use pandas.concat instead.\n",
      "  results = results.append({\n",
      "  9%|▉         | 191/2029 [11:47<1:40:23,  3.28s/it]C:\\Users\\Justin\\AppData\\Local\\Temp\\ipykernel_22308\\573511129.py:89: FutureWarning: The frame.append method is deprecated and will be removed from pandas in a future version. Use pandas.concat instead.\n",
      "  results = results.append({\n",
      "  9%|▉         | 192/2029 [11:51<1:44:59,  3.43s/it]C:\\Users\\Justin\\AppData\\Local\\Temp\\ipykernel_22308\\573511129.py:89: FutureWarning: The frame.append method is deprecated and will be removed from pandas in a future version. Use pandas.concat instead.\n",
      "  results = results.append({\n",
      " 10%|▉         | 194/2029 [11:53<1:12:05,  2.36s/it]"
     ]
    },
    {
     "name": "stdout",
     "output_type": "stream",
     "text": [
      "Error occurred: 'NoneType' object has no attribute 'text'\n"
     ]
    },
    {
     "name": "stderr",
     "output_type": "stream",
     "text": [
      "C:\\Users\\Justin\\AppData\\Local\\Temp\\ipykernel_22308\\573511129.py:89: FutureWarning: The frame.append method is deprecated and will be removed from pandas in a future version. Use pandas.concat instead.\n",
      "  results = results.append({\n",
      " 10%|▉         | 195/2029 [11:55<1:03:58,  2.09s/it]C:\\Users\\Justin\\AppData\\Local\\Temp\\ipykernel_22308\\573511129.py:89: FutureWarning: The frame.append method is deprecated and will be removed from pandas in a future version. Use pandas.concat instead.\n",
      "  results = results.append({\n",
      " 10%|▉         | 197/2029 [12:03<1:26:31,  2.83s/it]"
     ]
    },
    {
     "name": "stdout",
     "output_type": "stream",
     "text": [
      "Error occurred: 'NoneType' object has no attribute 'text'\n"
     ]
    },
    {
     "name": "stderr",
     "output_type": "stream",
     "text": [
      "C:\\Users\\Justin\\AppData\\Local\\Temp\\ipykernel_22308\\573511129.py:89: FutureWarning: The frame.append method is deprecated and will be removed from pandas in a future version. Use pandas.concat instead.\n",
      "  results = results.append({\n",
      " 10%|▉         | 198/2029 [12:05<1:19:32,  2.61s/it]C:\\Users\\Justin\\AppData\\Local\\Temp\\ipykernel_22308\\573511129.py:89: FutureWarning: The frame.append method is deprecated and will be removed from pandas in a future version. Use pandas.concat instead.\n",
      "  results = results.append({\n",
      " 10%|▉         | 200/2029 [12:11<1:26:42,  2.84s/it]"
     ]
    },
    {
     "name": "stdout",
     "output_type": "stream",
     "text": [
      "Error occurred: 'NoneType' object has no attribute 'text'\n"
     ]
    },
    {
     "name": "stderr",
     "output_type": "stream",
     "text": [
      "C:\\Users\\Justin\\AppData\\Local\\Temp\\ipykernel_22308\\573511129.py:89: FutureWarning: The frame.append method is deprecated and will be removed from pandas in a future version. Use pandas.concat instead.\n",
      "  results = results.append({\n",
      " 10%|▉         | 201/2029 [12:26<3:24:06,  6.70s/it]C:\\Users\\Justin\\AppData\\Local\\Temp\\ipykernel_22308\\573511129.py:89: FutureWarning: The frame.append method is deprecated and will be removed from pandas in a future version. Use pandas.concat instead.\n",
      "  results = results.append({\n",
      " 10%|█         | 203/2029 [12:34<2:44:20,  5.40s/it]"
     ]
    },
    {
     "name": "stdout",
     "output_type": "stream",
     "text": [
      "Error occurred: 'NoneType' object has no attribute 'text'\n"
     ]
    },
    {
     "name": "stderr",
     "output_type": "stream",
     "text": [
      "C:\\Users\\Justin\\AppData\\Local\\Temp\\ipykernel_22308\\573511129.py:89: FutureWarning: The frame.append method is deprecated and will be removed from pandas in a future version. Use pandas.concat instead.\n",
      "  results = results.append({\n",
      " 10%|█         | 205/2029 [12:37<1:48:23,  3.57s/it]"
     ]
    },
    {
     "name": "stdout",
     "output_type": "stream",
     "text": [
      "Error occurred: 'NoneType' object has no attribute 'text'\n"
     ]
    },
    {
     "name": "stderr",
     "output_type": "stream",
     "text": [
      "C:\\Users\\Justin\\AppData\\Local\\Temp\\ipykernel_22308\\573511129.py:89: FutureWarning: The frame.append method is deprecated and will be removed from pandas in a future version. Use pandas.concat instead.\n",
      "  results = results.append({\n",
      " 10%|█         | 207/2029 [12:45<1:49:59,  3.62s/it]"
     ]
    },
    {
     "name": "stdout",
     "output_type": "stream",
     "text": [
      "Error occurred: 'NoneType' object has no attribute 'text'\n"
     ]
    },
    {
     "name": "stderr",
     "output_type": "stream",
     "text": [
      "C:\\Users\\Justin\\AppData\\Local\\Temp\\ipykernel_22308\\573511129.py:89: FutureWarning: The frame.append method is deprecated and will be removed from pandas in a future version. Use pandas.concat instead.\n",
      "  results = results.append({\n",
      " 10%|█         | 208/2029 [12:47<1:32:53,  3.06s/it]C:\\Users\\Justin\\AppData\\Local\\Temp\\ipykernel_22308\\573511129.py:89: FutureWarning: The frame.append method is deprecated and will be removed from pandas in a future version. Use pandas.concat instead.\n",
      "  results = results.append({\n",
      " 10%|█         | 209/2029 [12:52<1:55:30,  3.81s/it]C:\\Users\\Justin\\AppData\\Local\\Temp\\ipykernel_22308\\573511129.py:89: FutureWarning: The frame.append method is deprecated and will be removed from pandas in a future version. Use pandas.concat instead.\n",
      "  results = results.append({\n",
      " 10%|█         | 210/2029 [12:54<1:32:59,  3.07s/it]C:\\Users\\Justin\\AppData\\Local\\Temp\\ipykernel_22308\\573511129.py:89: FutureWarning: The frame.append method is deprecated and will be removed from pandas in a future version. Use pandas.concat instead.\n",
      "  results = results.append({\n",
      " 10%|█         | 211/2029 [12:55<1:16:49,  2.54s/it]C:\\Users\\Justin\\AppData\\Local\\Temp\\ipykernel_22308\\573511129.py:89: FutureWarning: The frame.append method is deprecated and will be removed from pandas in a future version. Use pandas.concat instead.\n",
      "  results = results.append({\n",
      " 10%|█         | 212/2029 [12:56<1:02:47,  2.07s/it]C:\\Users\\Justin\\AppData\\Local\\Temp\\ipykernel_22308\\573511129.py:89: FutureWarning: The frame.append method is deprecated and will be removed from pandas in a future version. Use pandas.concat instead.\n",
      "  results = results.append({\n",
      " 10%|█         | 213/2029 [13:02<1:40:48,  3.33s/it]C:\\Users\\Justin\\AppData\\Local\\Temp\\ipykernel_22308\\573511129.py:89: FutureWarning: The frame.append method is deprecated and will be removed from pandas in a future version. Use pandas.concat instead.\n",
      "  results = results.append({\n",
      " 11%|█         | 214/2029 [13:04<1:23:55,  2.77s/it]C:\\Users\\Justin\\AppData\\Local\\Temp\\ipykernel_22308\\573511129.py:89: FutureWarning: The frame.append method is deprecated and will be removed from pandas in a future version. Use pandas.concat instead.\n",
      "  results = results.append({\n",
      " 11%|█         | 215/2029 [13:05<1:14:45,  2.47s/it]C:\\Users\\Justin\\AppData\\Local\\Temp\\ipykernel_22308\\573511129.py:89: FutureWarning: The frame.append method is deprecated and will be removed from pandas in a future version. Use pandas.concat instead.\n",
      "  results = results.append({\n",
      " 11%|█         | 216/2029 [13:07<1:04:18,  2.13s/it]C:\\Users\\Justin\\AppData\\Local\\Temp\\ipykernel_22308\\573511129.py:89: FutureWarning: The frame.append method is deprecated and will be removed from pandas in a future version. Use pandas.concat instead.\n",
      "  results = results.append({\n",
      " 11%|█         | 217/2029 [13:11<1:22:11,  2.72s/it]C:\\Users\\Justin\\AppData\\Local\\Temp\\ipykernel_22308\\573511129.py:89: FutureWarning: The frame.append method is deprecated and will be removed from pandas in a future version. Use pandas.concat instead.\n",
      "  results = results.append({\n",
      " 11%|█         | 218/2029 [13:34<4:26:30,  8.83s/it]C:\\Users\\Justin\\AppData\\Local\\Temp\\ipykernel_22308\\573511129.py:89: FutureWarning: The frame.append method is deprecated and will be removed from pandas in a future version. Use pandas.concat instead.\n",
      "  results = results.append({\n",
      " 11%|█         | 219/2029 [13:36<3:21:28,  6.68s/it]C:\\Users\\Justin\\AppData\\Local\\Temp\\ipykernel_22308\\573511129.py:89: FutureWarning: The frame.append method is deprecated and will be removed from pandas in a future version. Use pandas.concat instead.\n",
      "  results = results.append({\n",
      " 11%|█         | 220/2029 [13:37<2:33:35,  5.09s/it]C:\\Users\\Justin\\AppData\\Local\\Temp\\ipykernel_22308\\573511129.py:89: FutureWarning: The frame.append method is deprecated and will be removed from pandas in a future version. Use pandas.concat instead.\n",
      "  results = results.append({\n",
      " 11%|█         | 221/2029 [13:41<2:22:53,  4.74s/it]C:\\Users\\Justin\\AppData\\Local\\Temp\\ipykernel_22308\\573511129.py:89: FutureWarning: The frame.append method is deprecated and will be removed from pandas in a future version. Use pandas.concat instead.\n",
      "  results = results.append({\n",
      " 11%|█         | 223/2029 [14:01<3:26:54,  6.87s/it]"
     ]
    },
    {
     "name": "stdout",
     "output_type": "stream",
     "text": [
      "Error occurred: 'NoneType' object has no attribute 'text'\n"
     ]
    },
    {
     "name": "stderr",
     "output_type": "stream",
     "text": [
      "C:\\Users\\Justin\\AppData\\Local\\Temp\\ipykernel_22308\\573511129.py:89: FutureWarning: The frame.append method is deprecated and will be removed from pandas in a future version. Use pandas.concat instead.\n",
      "  results = results.append({\n",
      " 11%|█         | 224/2029 [14:02<2:39:09,  5.29s/it]C:\\Users\\Justin\\AppData\\Local\\Temp\\ipykernel_22308\\573511129.py:89: FutureWarning: The frame.append method is deprecated and will be removed from pandas in a future version. Use pandas.concat instead.\n",
      "  results = results.append({\n",
      " 11%|█         | 225/2029 [14:04<2:05:08,  4.16s/it]C:\\Users\\Justin\\AppData\\Local\\Temp\\ipykernel_22308\\573511129.py:89: FutureWarning: The frame.append method is deprecated and will be removed from pandas in a future version. Use pandas.concat instead.\n",
      "  results = results.append({\n",
      " 11%|█         | 226/2029 [14:07<1:54:03,  3.80s/it]C:\\Users\\Justin\\AppData\\Local\\Temp\\ipykernel_22308\\573511129.py:89: FutureWarning: The frame.append method is deprecated and will be removed from pandas in a future version. Use pandas.concat instead.\n",
      "  results = results.append({\n",
      " 11%|█         | 227/2029 [14:11<1:56:24,  3.88s/it]C:\\Users\\Justin\\AppData\\Local\\Temp\\ipykernel_22308\\573511129.py:89: FutureWarning: The frame.append method is deprecated and will be removed from pandas in a future version. Use pandas.concat instead.\n",
      "  results = results.append({\n",
      " 11%|█▏        | 229/2029 [14:14<1:22:50,  2.76s/it]"
     ]
    },
    {
     "name": "stdout",
     "output_type": "stream",
     "text": [
      "Error occurred: 'NoneType' object has no attribute 'text'\n"
     ]
    },
    {
     "name": "stderr",
     "output_type": "stream",
     "text": [
      "C:\\Users\\Justin\\AppData\\Local\\Temp\\ipykernel_22308\\573511129.py:89: FutureWarning: The frame.append method is deprecated and will be removed from pandas in a future version. Use pandas.concat instead.\n",
      "  results = results.append({\n",
      " 11%|█▏        | 230/2029 [14:16<1:15:20,  2.51s/it]C:\\Users\\Justin\\AppData\\Local\\Temp\\ipykernel_22308\\573511129.py:89: FutureWarning: The frame.append method is deprecated and will be removed from pandas in a future version. Use pandas.concat instead.\n",
      "  results = results.append({\n",
      " 11%|█▏        | 232/2029 [14:23<1:31:56,  3.07s/it]"
     ]
    },
    {
     "name": "stdout",
     "output_type": "stream",
     "text": [
      "Error occurred: 'NoneType' object has no attribute 'text'\n"
     ]
    },
    {
     "name": "stderr",
     "output_type": "stream",
     "text": [
      "C:\\Users\\Justin\\AppData\\Local\\Temp\\ipykernel_22308\\573511129.py:89: FutureWarning: The frame.append method is deprecated and will be removed from pandas in a future version. Use pandas.concat instead.\n",
      "  results = results.append({\n",
      " 12%|█▏        | 234/2029 [14:31<1:47:16,  3.59s/it]"
     ]
    },
    {
     "name": "stdout",
     "output_type": "stream",
     "text": [
      "Error occurred: 'NoneType' object has no attribute 'text'\n"
     ]
    },
    {
     "name": "stderr",
     "output_type": "stream",
     "text": [
      "C:\\Users\\Justin\\AppData\\Local\\Temp\\ipykernel_22308\\573511129.py:89: FutureWarning: The frame.append method is deprecated and will be removed from pandas in a future version. Use pandas.concat instead.\n",
      "  results = results.append({\n",
      " 12%|█▏        | 235/2029 [14:33<1:37:07,  3.25s/it]C:\\Users\\Justin\\AppData\\Local\\Temp\\ipykernel_22308\\573511129.py:89: FutureWarning: The frame.append method is deprecated and will be removed from pandas in a future version. Use pandas.concat instead.\n",
      "  results = results.append({\n",
      " 12%|█▏        | 237/2029 [14:36<1:06:29,  2.23s/it]"
     ]
    },
    {
     "name": "stdout",
     "output_type": "stream",
     "text": [
      "Error occurred: 'NoneType' object has no attribute 'text'\n"
     ]
    },
    {
     "name": "stderr",
     "output_type": "stream",
     "text": [
      "C:\\Users\\Justin\\AppData\\Local\\Temp\\ipykernel_22308\\573511129.py:89: FutureWarning: The frame.append method is deprecated and will be removed from pandas in a future version. Use pandas.concat instead.\n",
      "  results = results.append({\n",
      " 12%|█▏        | 238/2029 [14:42<1:43:56,  3.48s/it]C:\\Users\\Justin\\AppData\\Local\\Temp\\ipykernel_22308\\573511129.py:89: FutureWarning: The frame.append method is deprecated and will be removed from pandas in a future version. Use pandas.concat instead.\n",
      "  results = results.append({\n",
      " 12%|█▏        | 239/2029 [14:45<1:34:07,  3.15s/it]C:\\Users\\Justin\\AppData\\Local\\Temp\\ipykernel_22308\\573511129.py:89: FutureWarning: The frame.append method is deprecated and will be removed from pandas in a future version. Use pandas.concat instead.\n",
      "  results = results.append({\n",
      " 12%|█▏        | 240/2029 [14:46<1:19:25,  2.66s/it]C:\\Users\\Justin\\AppData\\Local\\Temp\\ipykernel_22308\\573511129.py:89: FutureWarning: The frame.append method is deprecated and will be removed from pandas in a future version. Use pandas.concat instead.\n",
      "  results = results.append({\n",
      " 12%|█▏        | 242/2029 [15:12<4:24:12,  8.87s/it]"
     ]
    },
    {
     "name": "stdout",
     "output_type": "stream",
     "text": [
      "Error occurred: 'NoneType' object has no attribute 'text'\n"
     ]
    },
    {
     "name": "stderr",
     "output_type": "stream",
     "text": [
      "C:\\Users\\Justin\\AppData\\Local\\Temp\\ipykernel_22308\\573511129.py:89: FutureWarning: The frame.append method is deprecated and will be removed from pandas in a future version. Use pandas.concat instead.\n",
      "  results = results.append({\n",
      " 12%|█▏        | 243/2029 [15:13<3:18:51,  6.68s/it]C:\\Users\\Justin\\AppData\\Local\\Temp\\ipykernel_22308\\573511129.py:89: FutureWarning: The frame.append method is deprecated and will be removed from pandas in a future version. Use pandas.concat instead.\n",
      "  results = results.append({\n",
      " 12%|█▏        | 244/2029 [15:15<2:34:49,  5.20s/it]C:\\Users\\Justin\\AppData\\Local\\Temp\\ipykernel_22308\\573511129.py:89: FutureWarning: The frame.append method is deprecated and will be removed from pandas in a future version. Use pandas.concat instead.\n",
      "  results = results.append({\n",
      " 12%|█▏        | 245/2029 [15:17<2:04:48,  4.20s/it]C:\\Users\\Justin\\AppData\\Local\\Temp\\ipykernel_22308\\573511129.py:89: FutureWarning: The frame.append method is deprecated and will be removed from pandas in a future version. Use pandas.concat instead.\n",
      "  results = results.append({\n",
      " 12%|█▏        | 246/2029 [15:21<2:02:06,  4.11s/it]C:\\Users\\Justin\\AppData\\Local\\Temp\\ipykernel_22308\\573511129.py:89: FutureWarning: The frame.append method is deprecated and will be removed from pandas in a future version. Use pandas.concat instead.\n",
      "  results = results.append({\n",
      " 12%|█▏        | 247/2029 [15:23<1:40:49,  3.39s/it]C:\\Users\\Justin\\AppData\\Local\\Temp\\ipykernel_22308\\573511129.py:89: FutureWarning: The frame.append method is deprecated and will be removed from pandas in a future version. Use pandas.concat instead.\n",
      "  results = results.append({\n",
      " 12%|█▏        | 248/2029 [15:25<1:29:12,  3.01s/it]C:\\Users\\Justin\\AppData\\Local\\Temp\\ipykernel_22308\\573511129.py:89: FutureWarning: The frame.append method is deprecated and will be removed from pandas in a future version. Use pandas.concat instead.\n",
      "  results = results.append({\n",
      " 12%|█▏        | 249/2029 [15:26<1:12:51,  2.46s/it]C:\\Users\\Justin\\AppData\\Local\\Temp\\ipykernel_22308\\573511129.py:89: FutureWarning: The frame.append method is deprecated and will be removed from pandas in a future version. Use pandas.concat instead.\n",
      "  results = results.append({\n",
      " 12%|█▏        | 250/2029 [15:31<1:36:31,  3.26s/it]"
     ]
    },
    {
     "name": "stdout",
     "output_type": "stream",
     "text": [
      "Error occurred: Cannot save file into a non-existent directory: 'TEMP\\NCAA_Partial'\n"
     ]
    },
    {
     "name": "stderr",
     "output_type": "stream",
     "text": [
      "C:\\Users\\Justin\\AppData\\Local\\Temp\\ipykernel_22308\\573511129.py:89: FutureWarning: The frame.append method is deprecated and will be removed from pandas in a future version. Use pandas.concat instead.\n",
      "  results = results.append({\n",
      " 12%|█▏        | 251/2029 [15:36<1:50:58,  3.75s/it]C:\\Users\\Justin\\AppData\\Local\\Temp\\ipykernel_22308\\573511129.py:89: FutureWarning: The frame.append method is deprecated and will be removed from pandas in a future version. Use pandas.concat instead.\n",
      "  results = results.append({\n",
      " 12%|█▏        | 252/2029 [15:38<1:32:54,  3.14s/it]C:\\Users\\Justin\\AppData\\Local\\Temp\\ipykernel_22308\\573511129.py:89: FutureWarning: The frame.append method is deprecated and will be removed from pandas in a future version. Use pandas.concat instead.\n",
      "  results = results.append({\n",
      " 12%|█▏        | 253/2029 [15:43<1:51:46,  3.78s/it]C:\\Users\\Justin\\AppData\\Local\\Temp\\ipykernel_22308\\573511129.py:89: FutureWarning: The frame.append method is deprecated and will be removed from pandas in a future version. Use pandas.concat instead.\n",
      "  results = results.append({\n",
      " 13%|█▎        | 254/2029 [15:46<1:41:57,  3.45s/it]C:\\Users\\Justin\\AppData\\Local\\Temp\\ipykernel_22308\\573511129.py:89: FutureWarning: The frame.append method is deprecated and will be removed from pandas in a future version. Use pandas.concat instead.\n",
      "  results = results.append({\n",
      " 13%|█▎        | 255/2029 [15:47<1:27:45,  2.97s/it]C:\\Users\\Justin\\AppData\\Local\\Temp\\ipykernel_22308\\573511129.py:89: FutureWarning: The frame.append method is deprecated and will be removed from pandas in a future version. Use pandas.concat instead.\n",
      "  results = results.append({\n",
      " 13%|█▎        | 256/2029 [15:51<1:32:17,  3.12s/it]C:\\Users\\Justin\\AppData\\Local\\Temp\\ipykernel_22308\\573511129.py:89: FutureWarning: The frame.append method is deprecated and will be removed from pandas in a future version. Use pandas.concat instead.\n",
      "  results = results.append({\n",
      " 13%|█▎        | 258/2029 [15:55<1:15:48,  2.57s/it]"
     ]
    },
    {
     "name": "stdout",
     "output_type": "stream",
     "text": [
      "Error occurred: 'NoneType' object has no attribute 'text'\n"
     ]
    },
    {
     "name": "stderr",
     "output_type": "stream",
     "text": [
      "C:\\Users\\Justin\\AppData\\Local\\Temp\\ipykernel_22308\\573511129.py:89: FutureWarning: The frame.append method is deprecated and will be removed from pandas in a future version. Use pandas.concat instead.\n",
      "  results = results.append({\n",
      " 13%|█▎        | 259/2029 [15:57<1:13:03,  2.48s/it]C:\\Users\\Justin\\AppData\\Local\\Temp\\ipykernel_22308\\573511129.py:89: FutureWarning: The frame.append method is deprecated and will be removed from pandas in a future version. Use pandas.concat instead.\n",
      "  results = results.append({\n",
      " 13%|█▎        | 261/2029 [16:04<1:21:57,  2.78s/it]"
     ]
    },
    {
     "name": "stdout",
     "output_type": "stream",
     "text": [
      "Error occurred: 'NoneType' object has no attribute 'text'\n"
     ]
    },
    {
     "name": "stderr",
     "output_type": "stream",
     "text": [
      "C:\\Users\\Justin\\AppData\\Local\\Temp\\ipykernel_22308\\573511129.py:89: FutureWarning: The frame.append method is deprecated and will be removed from pandas in a future version. Use pandas.concat instead.\n",
      "  results = results.append({\n",
      " 13%|█▎        | 262/2029 [16:06<1:20:45,  2.74s/it]C:\\Users\\Justin\\AppData\\Local\\Temp\\ipykernel_22308\\573511129.py:89: FutureWarning: The frame.append method is deprecated and will be removed from pandas in a future version. Use pandas.concat instead.\n",
      "  results = results.append({\n",
      " 13%|█▎        | 264/2029 [16:13<1:33:02,  3.16s/it]"
     ]
    },
    {
     "name": "stdout",
     "output_type": "stream",
     "text": [
      "Error occurred: 'NoneType' object has no attribute 'text'\n"
     ]
    },
    {
     "name": "stderr",
     "output_type": "stream",
     "text": [
      "C:\\Users\\Justin\\AppData\\Local\\Temp\\ipykernel_22308\\573511129.py:89: FutureWarning: The frame.append method is deprecated and will be removed from pandas in a future version. Use pandas.concat instead.\n",
      "  results = results.append({\n",
      " 13%|█▎        | 265/2029 [16:14<1:17:54,  2.65s/it]C:\\Users\\Justin\\AppData\\Local\\Temp\\ipykernel_22308\\573511129.py:89: FutureWarning: The frame.append method is deprecated and will be removed from pandas in a future version. Use pandas.concat instead.\n",
      "  results = results.append({\n",
      " 13%|█▎        | 266/2029 [16:16<1:12:56,  2.48s/it]C:\\Users\\Justin\\AppData\\Local\\Temp\\ipykernel_22308\\573511129.py:89: FutureWarning: The frame.append method is deprecated and will be removed from pandas in a future version. Use pandas.concat instead.\n",
      "  results = results.append({\n",
      " 13%|█▎        | 267/2029 [16:23<1:44:44,  3.57s/it]C:\\Users\\Justin\\AppData\\Local\\Temp\\ipykernel_22308\\573511129.py:89: FutureWarning: The frame.append method is deprecated and will be removed from pandas in a future version. Use pandas.concat instead.\n",
      "  results = results.append({\n",
      " 13%|█▎        | 268/2029 [16:24<1:27:36,  2.98s/it]C:\\Users\\Justin\\AppData\\Local\\Temp\\ipykernel_22308\\573511129.py:89: FutureWarning: The frame.append method is deprecated and will be removed from pandas in a future version. Use pandas.concat instead.\n",
      "  results = results.append({\n",
      " 13%|█▎        | 269/2029 [16:26<1:19:42,  2.72s/it]C:\\Users\\Justin\\AppData\\Local\\Temp\\ipykernel_22308\\573511129.py:89: FutureWarning: The frame.append method is deprecated and will be removed from pandas in a future version. Use pandas.concat instead.\n",
      "  results = results.append({\n",
      " 13%|█▎        | 271/2029 [16:36<1:45:52,  3.61s/it]"
     ]
    },
    {
     "name": "stdout",
     "output_type": "stream",
     "text": [
      "Error occurred: 'NoneType' object has no attribute 'text'\n"
     ]
    },
    {
     "name": "stderr",
     "output_type": "stream",
     "text": [
      "C:\\Users\\Justin\\AppData\\Local\\Temp\\ipykernel_22308\\573511129.py:89: FutureWarning: The frame.append method is deprecated and will be removed from pandas in a future version. Use pandas.concat instead.\n",
      "  results = results.append({\n",
      " 13%|█▎        | 272/2029 [16:37<1:28:03,  3.01s/it]C:\\Users\\Justin\\AppData\\Local\\Temp\\ipykernel_22308\\573511129.py:89: FutureWarning: The frame.append method is deprecated and will be removed from pandas in a future version. Use pandas.concat instead.\n",
      "  results = results.append({\n",
      " 13%|█▎        | 273/2029 [16:43<1:51:20,  3.80s/it]C:\\Users\\Justin\\AppData\\Local\\Temp\\ipykernel_22308\\573511129.py:89: FutureWarning: The frame.append method is deprecated and will be removed from pandas in a future version. Use pandas.concat instead.\n",
      "  results = results.append({\n",
      " 14%|█▎        | 275/2029 [17:04<3:47:36,  7.79s/it]"
     ]
    },
    {
     "name": "stdout",
     "output_type": "stream",
     "text": [
      "Error occurred: 'NoneType' object has no attribute 'text'\n"
     ]
    },
    {
     "name": "stderr",
     "output_type": "stream",
     "text": [
      " 14%|█▎        | 276/2029 [17:06<2:52:33,  5.91s/it]"
     ]
    },
    {
     "name": "stdout",
     "output_type": "stream",
     "text": [
      "Error occurred: 'NoneType' object has no attribute 'text'\n"
     ]
    },
    {
     "name": "stderr",
     "output_type": "stream",
     "text": [
      "C:\\Users\\Justin\\AppData\\Local\\Temp\\ipykernel_22308\\573511129.py:89: FutureWarning: The frame.append method is deprecated and will be removed from pandas in a future version. Use pandas.concat instead.\n",
      "  results = results.append({\n",
      " 14%|█▎        | 277/2029 [17:07<2:13:12,  4.56s/it]C:\\Users\\Justin\\AppData\\Local\\Temp\\ipykernel_22308\\573511129.py:89: FutureWarning: The frame.append method is deprecated and will be removed from pandas in a future version. Use pandas.concat instead.\n",
      "  results = results.append({\n",
      " 14%|█▎        | 278/2029 [17:11<2:11:01,  4.49s/it]C:\\Users\\Justin\\AppData\\Local\\Temp\\ipykernel_22308\\573511129.py:89: FutureWarning: The frame.append method is deprecated and will be removed from pandas in a future version. Use pandas.concat instead.\n",
      "  results = results.append({\n",
      " 14%|█▍        | 279/2029 [17:14<1:57:32,  4.03s/it]C:\\Users\\Justin\\AppData\\Local\\Temp\\ipykernel_22308\\573511129.py:89: FutureWarning: The frame.append method is deprecated and will be removed from pandas in a future version. Use pandas.concat instead.\n",
      "  results = results.append({\n",
      " 14%|█▍        | 280/2029 [17:16<1:38:08,  3.37s/it]C:\\Users\\Justin\\AppData\\Local\\Temp\\ipykernel_22308\\573511129.py:89: FutureWarning: The frame.append method is deprecated and will be removed from pandas in a future version. Use pandas.concat instead.\n",
      "  results = results.append({\n",
      " 14%|█▍        | 281/2029 [17:18<1:25:23,  2.93s/it]C:\\Users\\Justin\\AppData\\Local\\Temp\\ipykernel_22308\\573511129.py:89: FutureWarning: The frame.append method is deprecated and will be removed from pandas in a future version. Use pandas.concat instead.\n",
      "  results = results.append({\n",
      " 14%|█▍        | 283/2029 [17:25<1:30:59,  3.13s/it]"
     ]
    },
    {
     "name": "stdout",
     "output_type": "stream",
     "text": [
      "Error occurred: 'NoneType' object has no attribute 'text'\n"
     ]
    },
    {
     "name": "stderr",
     "output_type": "stream",
     "text": [
      "C:\\Users\\Justin\\AppData\\Local\\Temp\\ipykernel_22308\\573511129.py:89: FutureWarning: The frame.append method is deprecated and will be removed from pandas in a future version. Use pandas.concat instead.\n",
      "  results = results.append({\n",
      " 14%|█▍        | 284/2029 [17:27<1:22:27,  2.84s/it]C:\\Users\\Justin\\AppData\\Local\\Temp\\ipykernel_22308\\573511129.py:89: FutureWarning: The frame.append method is deprecated and will be removed from pandas in a future version. Use pandas.concat instead.\n",
      "  results = results.append({\n",
      " 14%|█▍        | 285/2029 [17:32<1:42:57,  3.54s/it]C:\\Users\\Justin\\AppData\\Local\\Temp\\ipykernel_22308\\573511129.py:89: FutureWarning: The frame.append method is deprecated and will be removed from pandas in a future version. Use pandas.concat instead.\n",
      "  results = results.append({\n",
      " 14%|█▍        | 286/2029 [17:56<4:37:41,  9.56s/it]C:\\Users\\Justin\\AppData\\Local\\Temp\\ipykernel_22308\\573511129.py:89: FutureWarning: The frame.append method is deprecated and will be removed from pandas in a future version. Use pandas.concat instead.\n",
      "  results = results.append({\n",
      " 14%|█▍        | 287/2029 [17:58<3:33:25,  7.35s/it]C:\\Users\\Justin\\AppData\\Local\\Temp\\ipykernel_22308\\573511129.py:89: FutureWarning: The frame.append method is deprecated and will be removed from pandas in a future version. Use pandas.concat instead.\n",
      "  results = results.append({\n",
      " 14%|█▍        | 289/2029 [18:05<2:33:08,  5.28s/it]"
     ]
    },
    {
     "name": "stdout",
     "output_type": "stream",
     "text": [
      "Error occurred: 'NoneType' object has no attribute 'text'\n"
     ]
    },
    {
     "name": "stderr",
     "output_type": "stream",
     "text": [
      "C:\\Users\\Justin\\AppData\\Local\\Temp\\ipykernel_22308\\573511129.py:89: FutureWarning: The frame.append method is deprecated and will be removed from pandas in a future version. Use pandas.concat instead.\n",
      "  results = results.append({\n",
      " 14%|█▍        | 290/2029 [18:07<2:01:01,  4.18s/it]C:\\Users\\Justin\\AppData\\Local\\Temp\\ipykernel_22308\\573511129.py:89: FutureWarning: The frame.append method is deprecated and will be removed from pandas in a future version. Use pandas.concat instead.\n",
      "  results = results.append({\n",
      " 14%|█▍        | 292/2029 [18:17<2:20:39,  4.86s/it]"
     ]
    },
    {
     "name": "stdout",
     "output_type": "stream",
     "text": [
      "Error occurred: 'NoneType' object has no attribute 'text'\n"
     ]
    },
    {
     "name": "stderr",
     "output_type": "stream",
     "text": [
      " 14%|█▍        | 293/2029 [18:21<2:12:29,  4.58s/it]"
     ]
    },
    {
     "name": "stdout",
     "output_type": "stream",
     "text": [
      "Error occurred: 'NoneType' object has no attribute 'text'\n"
     ]
    },
    {
     "name": "stderr",
     "output_type": "stream",
     "text": [
      "C:\\Users\\Justin\\AppData\\Local\\Temp\\ipykernel_22308\\573511129.py:89: FutureWarning: The frame.append method is deprecated and will be removed from pandas in a future version. Use pandas.concat instead.\n",
      "  results = results.append({\n",
      " 14%|█▍        | 294/2029 [18:23<1:46:19,  3.68s/it]C:\\Users\\Justin\\AppData\\Local\\Temp\\ipykernel_22308\\573511129.py:89: FutureWarning: The frame.append method is deprecated and will be removed from pandas in a future version. Use pandas.concat instead.\n",
      "  results = results.append({\n",
      " 15%|█▍        | 295/2029 [18:24<1:26:40,  3.00s/it]C:\\Users\\Justin\\AppData\\Local\\Temp\\ipykernel_22308\\573511129.py:89: FutureWarning: The frame.append method is deprecated and will be removed from pandas in a future version. Use pandas.concat instead.\n",
      "  results = results.append({\n",
      " 15%|█▍        | 296/2029 [18:27<1:21:15,  2.81s/it]C:\\Users\\Justin\\AppData\\Local\\Temp\\ipykernel_22308\\573511129.py:89: FutureWarning: The frame.append method is deprecated and will be removed from pandas in a future version. Use pandas.concat instead.\n",
      "  results = results.append({\n",
      " 15%|█▍        | 297/2029 [18:31<1:38:04,  3.40s/it]C:\\Users\\Justin\\AppData\\Local\\Temp\\ipykernel_22308\\573511129.py:89: FutureWarning: The frame.append method is deprecated and will be removed from pandas in a future version. Use pandas.concat instead.\n",
      "  results = results.append({\n",
      " 15%|█▍        | 298/2029 [18:33<1:25:01,  2.95s/it]C:\\Users\\Justin\\AppData\\Local\\Temp\\ipykernel_22308\\573511129.py:89: FutureWarning: The frame.append method is deprecated and will be removed from pandas in a future version. Use pandas.concat instead.\n",
      "  results = results.append({\n",
      " 15%|█▍        | 299/2029 [18:35<1:10:31,  2.45s/it]C:\\Users\\Justin\\AppData\\Local\\Temp\\ipykernel_22308\\573511129.py:89: FutureWarning: The frame.append method is deprecated and will be removed from pandas in a future version. Use pandas.concat instead.\n",
      "  results = results.append({\n",
      " 15%|█▍        | 300/2029 [18:42<1:48:49,  3.78s/it]"
     ]
    },
    {
     "name": "stdout",
     "output_type": "stream",
     "text": [
      "Error occurred: Cannot save file into a non-existent directory: 'TEMP\\NCAA_Partial'\n"
     ]
    },
    {
     "name": "stderr",
     "output_type": "stream",
     "text": [
      "C:\\Users\\Justin\\AppData\\Local\\Temp\\ipykernel_22308\\573511129.py:89: FutureWarning: The frame.append method is deprecated and will be removed from pandas in a future version. Use pandas.concat instead.\n",
      "  results = results.append({\n",
      " 15%|█▍        | 302/2029 [18:46<1:23:39,  2.91s/it]"
     ]
    },
    {
     "name": "stdout",
     "output_type": "stream",
     "text": [
      "Error occurred: 'NoneType' object has no attribute 'text'\n"
     ]
    },
    {
     "name": "stderr",
     "output_type": "stream",
     "text": [
      "C:\\Users\\Justin\\AppData\\Local\\Temp\\ipykernel_22308\\573511129.py:89: FutureWarning: The frame.append method is deprecated and will be removed from pandas in a future version. Use pandas.concat instead.\n",
      "  results = results.append({\n",
      " 15%|█▍        | 303/2029 [18:47<1:09:42,  2.42s/it]C:\\Users\\Justin\\AppData\\Local\\Temp\\ipykernel_22308\\573511129.py:89: FutureWarning: The frame.append method is deprecated and will be removed from pandas in a future version. Use pandas.concat instead.\n",
      "  results = results.append({\n",
      " 15%|█▌        | 305/2029 [18:54<1:22:02,  2.86s/it]"
     ]
    },
    {
     "name": "stdout",
     "output_type": "stream",
     "text": [
      "Error occurred: 'NoneType' object has no attribute 'text'\n"
     ]
    },
    {
     "name": "stderr",
     "output_type": "stream",
     "text": [
      "C:\\Users\\Justin\\AppData\\Local\\Temp\\ipykernel_22308\\573511129.py:89: FutureWarning: The frame.append method is deprecated and will be removed from pandas in a future version. Use pandas.concat instead.\n",
      "  results = results.append({\n",
      " 15%|█▌        | 306/2029 [18:56<1:12:45,  2.53s/it]C:\\Users\\Justin\\AppData\\Local\\Temp\\ipykernel_22308\\573511129.py:89: FutureWarning: The frame.append method is deprecated and will be removed from pandas in a future version. Use pandas.concat instead.\n",
      "  results = results.append({\n",
      " 15%|█▌        | 307/2029 [18:57<58:00,  2.02s/it]  C:\\Users\\Justin\\AppData\\Local\\Temp\\ipykernel_22308\\573511129.py:89: FutureWarning: The frame.append method is deprecated and will be removed from pandas in a future version. Use pandas.concat instead.\n",
      "  results = results.append({\n",
      " 15%|█▌        | 308/2029 [18:58<54:19,  1.89s/it]C:\\Users\\Justin\\AppData\\Local\\Temp\\ipykernel_22308\\573511129.py:89: FutureWarning: The frame.append method is deprecated and will be removed from pandas in a future version. Use pandas.concat instead.\n",
      "  results = results.append({\n",
      " 15%|█▌        | 309/2029 [19:03<1:16:44,  2.68s/it]C:\\Users\\Justin\\AppData\\Local\\Temp\\ipykernel_22308\\573511129.py:89: FutureWarning: The frame.append method is deprecated and will be removed from pandas in a future version. Use pandas.concat instead.\n",
      "  results = results.append({\n",
      " 15%|█▌        | 310/2029 [19:04<1:01:02,  2.13s/it]C:\\Users\\Justin\\AppData\\Local\\Temp\\ipykernel_22308\\573511129.py:89: FutureWarning: The frame.append method is deprecated and will be removed from pandas in a future version. Use pandas.concat instead.\n",
      "  results = results.append({\n",
      " 15%|█▌        | 312/2029 [19:22<2:40:35,  5.61s/it]"
     ]
    },
    {
     "name": "stdout",
     "output_type": "stream",
     "text": [
      "Error occurred: 'NoneType' object has no attribute 'text'\n"
     ]
    },
    {
     "name": "stderr",
     "output_type": "stream",
     "text": [
      "C:\\Users\\Justin\\AppData\\Local\\Temp\\ipykernel_22308\\573511129.py:89: FutureWarning: The frame.append method is deprecated and will be removed from pandas in a future version. Use pandas.concat instead.\n",
      "  results = results.append({\n",
      " 15%|█▌        | 313/2029 [19:23<2:07:42,  4.47s/it]C:\\Users\\Justin\\AppData\\Local\\Temp\\ipykernel_22308\\573511129.py:89: FutureWarning: The frame.append method is deprecated and will be removed from pandas in a future version. Use pandas.concat instead.\n",
      "  results = results.append({\n",
      " 15%|█▌        | 314/2029 [19:24<1:38:03,  3.43s/it]C:\\Users\\Justin\\AppData\\Local\\Temp\\ipykernel_22308\\573511129.py:89: FutureWarning: The frame.append method is deprecated and will be removed from pandas in a future version. Use pandas.concat instead.\n",
      "  results = results.append({\n",
      " 16%|█▌        | 316/2029 [19:31<1:46:38,  3.74s/it]"
     ]
    },
    {
     "name": "stdout",
     "output_type": "stream",
     "text": [
      "Error occurred: 'NoneType' object has no attribute 'text'\n"
     ]
    },
    {
     "name": "stderr",
     "output_type": "stream",
     "text": [
      "C:\\Users\\Justin\\AppData\\Local\\Temp\\ipykernel_22308\\573511129.py:89: FutureWarning: The frame.append method is deprecated and will be removed from pandas in a future version. Use pandas.concat instead.\n",
      "  results = results.append({\n",
      " 16%|█▌        | 317/2029 [19:37<2:01:32,  4.26s/it]C:\\Users\\Justin\\AppData\\Local\\Temp\\ipykernel_22308\\573511129.py:89: FutureWarning: The frame.append method is deprecated and will be removed from pandas in a future version. Use pandas.concat instead.\n",
      "  results = results.append({\n",
      " 16%|█▌        | 318/2029 [19:42<2:06:29,  4.44s/it]C:\\Users\\Justin\\AppData\\Local\\Temp\\ipykernel_22308\\573511129.py:89: FutureWarning: The frame.append method is deprecated and will be removed from pandas in a future version. Use pandas.concat instead.\n",
      "  results = results.append({\n",
      " 16%|█▌        | 320/2029 [20:10<3:58:18,  8.37s/it]"
     ]
    },
    {
     "name": "stdout",
     "output_type": "stream",
     "text": [
      "Error occurred: 'NoneType' object has no attribute 'text'\n"
     ]
    },
    {
     "name": "stderr",
     "output_type": "stream",
     "text": [
      "C:\\Users\\Justin\\AppData\\Local\\Temp\\ipykernel_22308\\573511129.py:89: FutureWarning: The frame.append method is deprecated and will be removed from pandas in a future version. Use pandas.concat instead.\n",
      "  results = results.append({\n",
      " 16%|█▌        | 321/2029 [20:14<3:23:20,  7.14s/it]C:\\Users\\Justin\\AppData\\Local\\Temp\\ipykernel_22308\\573511129.py:89: FutureWarning: The frame.append method is deprecated and will be removed from pandas in a future version. Use pandas.concat instead.\n",
      "  results = results.append({\n",
      " 16%|█▌        | 322/2029 [20:17<2:44:30,  5.78s/it]C:\\Users\\Justin\\AppData\\Local\\Temp\\ipykernel_22308\\573511129.py:89: FutureWarning: The frame.append method is deprecated and will be removed from pandas in a future version. Use pandas.concat instead.\n",
      "  results = results.append({\n",
      " 16%|█▌        | 323/2029 [20:19<2:15:55,  4.78s/it]C:\\Users\\Justin\\AppData\\Local\\Temp\\ipykernel_22308\\573511129.py:89: FutureWarning: The frame.append method is deprecated and will be removed from pandas in a future version. Use pandas.concat instead.\n",
      "  results = results.append({\n",
      " 16%|█▌        | 324/2029 [20:24<2:16:55,  4.82s/it]C:\\Users\\Justin\\AppData\\Local\\Temp\\ipykernel_22308\\573511129.py:89: FutureWarning: The frame.append method is deprecated and will be removed from pandas in a future version. Use pandas.concat instead.\n",
      "  results = results.append({\n",
      " 16%|█▌        | 325/2029 [20:25<1:45:44,  3.72s/it]C:\\Users\\Justin\\AppData\\Local\\Temp\\ipykernel_22308\\573511129.py:89: FutureWarning: The frame.append method is deprecated and will be removed from pandas in a future version. Use pandas.concat instead.\n",
      "  results = results.append({\n",
      " 16%|█▌        | 326/2029 [20:54<5:17:58, 11.20s/it]C:\\Users\\Justin\\AppData\\Local\\Temp\\ipykernel_22308\\573511129.py:89: FutureWarning: The frame.append method is deprecated and will be removed from pandas in a future version. Use pandas.concat instead.\n",
      "  results = results.append({\n",
      " 16%|█▌        | 327/2029 [20:55<3:51:35,  8.16s/it]C:\\Users\\Justin\\AppData\\Local\\Temp\\ipykernel_22308\\573511129.py:89: FutureWarning: The frame.append method is deprecated and will be removed from pandas in a future version. Use pandas.concat instead.\n",
      "  results = results.append({\n",
      " 16%|█▌        | 328/2029 [20:57<2:56:03,  6.21s/it]C:\\Users\\Justin\\AppData\\Local\\Temp\\ipykernel_22308\\573511129.py:89: FutureWarning: The frame.append method is deprecated and will be removed from pandas in a future version. Use pandas.concat instead.\n",
      "  results = results.append({\n",
      " 16%|█▌        | 329/2029 [20:58<2:16:24,  4.81s/it]C:\\Users\\Justin\\AppData\\Local\\Temp\\ipykernel_22308\\573511129.py:89: FutureWarning: The frame.append method is deprecated and will be removed from pandas in a future version. Use pandas.concat instead.\n",
      "  results = results.append({\n",
      " 16%|█▋        | 330/2029 [20:59<1:42:57,  3.64s/it]C:\\Users\\Justin\\AppData\\Local\\Temp\\ipykernel_22308\\573511129.py:89: FutureWarning: The frame.append method is deprecated and will be removed from pandas in a future version. Use pandas.concat instead.\n",
      "  results = results.append({\n",
      " 16%|█▋        | 331/2029 [21:01<1:24:12,  2.98s/it]C:\\Users\\Justin\\AppData\\Local\\Temp\\ipykernel_22308\\573511129.py:89: FutureWarning: The frame.append method is deprecated and will be removed from pandas in a future version. Use pandas.concat instead.\n",
      "  results = results.append({\n",
      " 16%|█▋        | 332/2029 [21:04<1:28:54,  3.14s/it]C:\\Users\\Justin\\AppData\\Local\\Temp\\ipykernel_22308\\573511129.py:89: FutureWarning: The frame.append method is deprecated and will be removed from pandas in a future version. Use pandas.concat instead.\n",
      "  results = results.append({\n",
      " 16%|█▋        | 333/2029 [21:06<1:19:48,  2.82s/it]C:\\Users\\Justin\\AppData\\Local\\Temp\\ipykernel_22308\\573511129.py:89: FutureWarning: The frame.append method is deprecated and will be removed from pandas in a future version. Use pandas.concat instead.\n",
      "  results = results.append({\n",
      " 16%|█▋        | 334/2029 [21:07<1:04:51,  2.30s/it]C:\\Users\\Justin\\AppData\\Local\\Temp\\ipykernel_22308\\573511129.py:89: FutureWarning: The frame.append method is deprecated and will be removed from pandas in a future version. Use pandas.concat instead.\n",
      "  results = results.append({\n",
      " 17%|█▋        | 336/2029 [21:11<56:48,  2.01s/it]  "
     ]
    },
    {
     "name": "stdout",
     "output_type": "stream",
     "text": [
      "Error occurred: 'NoneType' object has no attribute 'text'\n"
     ]
    },
    {
     "name": "stderr",
     "output_type": "stream",
     "text": [
      "C:\\Users\\Justin\\AppData\\Local\\Temp\\ipykernel_22308\\573511129.py:89: FutureWarning: The frame.append method is deprecated and will be removed from pandas in a future version. Use pandas.concat instead.\n",
      "  results = results.append({\n",
      " 17%|█▋        | 337/2029 [21:19<1:49:55,  3.90s/it]C:\\Users\\Justin\\AppData\\Local\\Temp\\ipykernel_22308\\573511129.py:89: FutureWarning: The frame.append method is deprecated and will be removed from pandas in a future version. Use pandas.concat instead.\n",
      "  results = results.append({\n",
      " 17%|█▋        | 338/2029 [21:26<2:13:45,  4.75s/it]C:\\Users\\Justin\\AppData\\Local\\Temp\\ipykernel_22308\\573511129.py:89: FutureWarning: The frame.append method is deprecated and will be removed from pandas in a future version. Use pandas.concat instead.\n",
      "  results = results.append({\n",
      " 17%|█▋        | 340/2029 [21:29<1:33:26,  3.32s/it]"
     ]
    },
    {
     "name": "stdout",
     "output_type": "stream",
     "text": [
      "Error occurred: 'NoneType' object has no attribute 'text'\n"
     ]
    },
    {
     "name": "stderr",
     "output_type": "stream",
     "text": [
      "C:\\Users\\Justin\\AppData\\Local\\Temp\\ipykernel_22308\\573511129.py:89: FutureWarning: The frame.append method is deprecated and will be removed from pandas in a future version. Use pandas.concat instead.\n",
      "  results = results.append({\n",
      " 17%|█▋        | 341/2029 [21:31<1:18:57,  2.81s/it]C:\\Users\\Justin\\AppData\\Local\\Temp\\ipykernel_22308\\573511129.py:89: FutureWarning: The frame.append method is deprecated and will be removed from pandas in a future version. Use pandas.concat instead.\n",
      "  results = results.append({\n",
      " 17%|█▋        | 342/2029 [21:36<1:36:56,  3.45s/it]C:\\Users\\Justin\\AppData\\Local\\Temp\\ipykernel_22308\\573511129.py:89: FutureWarning: The frame.append method is deprecated and will be removed from pandas in a future version. Use pandas.concat instead.\n",
      "  results = results.append({\n",
      " 17%|█▋        | 343/2029 [21:38<1:22:35,  2.94s/it]C:\\Users\\Justin\\AppData\\Local\\Temp\\ipykernel_22308\\573511129.py:89: FutureWarning: The frame.append method is deprecated and will be removed from pandas in a future version. Use pandas.concat instead.\n",
      "  results = results.append({\n",
      " 17%|█▋        | 344/2029 [21:44<1:55:48,  4.12s/it]C:\\Users\\Justin\\AppData\\Local\\Temp\\ipykernel_22308\\573511129.py:89: FutureWarning: The frame.append method is deprecated and will be removed from pandas in a future version. Use pandas.concat instead.\n",
      "  results = results.append({\n",
      " 17%|█▋        | 346/2029 [21:48<1:21:12,  2.90s/it]"
     ]
    },
    {
     "name": "stdout",
     "output_type": "stream",
     "text": [
      "Error occurred: 'NoneType' object has no attribute 'text'\n"
     ]
    },
    {
     "name": "stderr",
     "output_type": "stream",
     "text": [
      "C:\\Users\\Justin\\AppData\\Local\\Temp\\ipykernel_22308\\573511129.py:89: FutureWarning: The frame.append method is deprecated and will be removed from pandas in a future version. Use pandas.concat instead.\n",
      "  results = results.append({\n",
      " 17%|█▋        | 347/2029 [21:50<1:13:04,  2.61s/it]C:\\Users\\Justin\\AppData\\Local\\Temp\\ipykernel_22308\\573511129.py:89: FutureWarning: The frame.append method is deprecated and will be removed from pandas in a future version. Use pandas.concat instead.\n",
      "  results = results.append({\n",
      " 17%|█▋        | 348/2029 [21:54<1:28:56,  3.17s/it]C:\\Users\\Justin\\AppData\\Local\\Temp\\ipykernel_22308\\573511129.py:89: FutureWarning: The frame.append method is deprecated and will be removed from pandas in a future version. Use pandas.concat instead.\n",
      "  results = results.append({\n",
      " 17%|█▋        | 349/2029 [21:56<1:16:19,  2.73s/it]C:\\Users\\Justin\\AppData\\Local\\Temp\\ipykernel_22308\\573511129.py:89: FutureWarning: The frame.append method is deprecated and will be removed from pandas in a future version. Use pandas.concat instead.\n",
      "  results = results.append({\n",
      " 17%|█▋        | 350/2029 [21:58<1:09:30,  2.48s/it]"
     ]
    },
    {
     "name": "stdout",
     "output_type": "stream",
     "text": [
      "Error occurred: Cannot save file into a non-existent directory: 'TEMP\\NCAA_Partial'\n"
     ]
    },
    {
     "name": "stderr",
     "output_type": "stream",
     "text": [
      "C:\\Users\\Justin\\AppData\\Local\\Temp\\ipykernel_22308\\573511129.py:89: FutureWarning: The frame.append method is deprecated and will be removed from pandas in a future version. Use pandas.concat instead.\n",
      "  results = results.append({\n",
      " 17%|█▋        | 351/2029 [22:00<1:07:57,  2.43s/it]C:\\Users\\Justin\\AppData\\Local\\Temp\\ipykernel_22308\\573511129.py:89: FutureWarning: The frame.append method is deprecated and will be removed from pandas in a future version. Use pandas.concat instead.\n",
      "  results = results.append({\n",
      " 17%|█▋        | 352/2029 [22:04<1:21:04,  2.90s/it]C:\\Users\\Justin\\AppData\\Local\\Temp\\ipykernel_22308\\573511129.py:89: FutureWarning: The frame.append method is deprecated and will be removed from pandas in a future version. Use pandas.concat instead.\n",
      "  results = results.append({\n",
      " 17%|█▋        | 354/2029 [22:10<1:23:31,  2.99s/it]"
     ]
    },
    {
     "name": "stdout",
     "output_type": "stream",
     "text": [
      "Error occurred: 'NoneType' object has no attribute 'text'\n"
     ]
    },
    {
     "name": "stderr",
     "output_type": "stream",
     "text": [
      " 17%|█▋        | 355/2029 [22:14<1:32:36,  3.32s/it]"
     ]
    },
    {
     "name": "stdout",
     "output_type": "stream",
     "text": [
      "Error occurred: 'NoneType' object has no attribute 'text'\n"
     ]
    },
    {
     "name": "stderr",
     "output_type": "stream",
     "text": [
      "C:\\Users\\Justin\\AppData\\Local\\Temp\\ipykernel_22308\\573511129.py:89: FutureWarning: The frame.append method is deprecated and will be removed from pandas in a future version. Use pandas.concat instead.\n",
      "  results = results.append({\n",
      " 18%|█▊        | 356/2029 [22:29<3:06:52,  6.70s/it]C:\\Users\\Justin\\AppData\\Local\\Temp\\ipykernel_22308\\573511129.py:89: FutureWarning: The frame.append method is deprecated and will be removed from pandas in a future version. Use pandas.concat instead.\n",
      "  results = results.append({\n",
      " 18%|█▊        | 357/2029 [22:36<3:08:11,  6.75s/it]C:\\Users\\Justin\\AppData\\Local\\Temp\\ipykernel_22308\\573511129.py:89: FutureWarning: The frame.append method is deprecated and will be removed from pandas in a future version. Use pandas.concat instead.\n",
      "  results = results.append({\n",
      " 18%|█▊        | 358/2029 [22:37<2:19:36,  5.01s/it]C:\\Users\\Justin\\AppData\\Local\\Temp\\ipykernel_22308\\573511129.py:89: FutureWarning: The frame.append method is deprecated and will be removed from pandas in a future version. Use pandas.concat instead.\n",
      "  results = results.append({\n",
      " 18%|█▊        | 360/2029 [22:39<1:26:10,  3.10s/it]"
     ]
    },
    {
     "name": "stdout",
     "output_type": "stream",
     "text": [
      "Error occurred: 'NoneType' object has no attribute 'text'\n"
     ]
    },
    {
     "name": "stderr",
     "output_type": "stream",
     "text": [
      "C:\\Users\\Justin\\AppData\\Local\\Temp\\ipykernel_22308\\573511129.py:89: FutureWarning: The frame.append method is deprecated and will be removed from pandas in a future version. Use pandas.concat instead.\n",
      "  results = results.append({\n",
      " 18%|█▊        | 362/2029 [22:55<2:51:23,  6.17s/it]"
     ]
    },
    {
     "name": "stdout",
     "output_type": "stream",
     "text": [
      "Error occurred: 'NoneType' object has no attribute 'text'\n"
     ]
    },
    {
     "name": "stderr",
     "output_type": "stream",
     "text": [
      "C:\\Users\\Justin\\AppData\\Local\\Temp\\ipykernel_22308\\573511129.py:89: FutureWarning: The frame.append method is deprecated and will be removed from pandas in a future version. Use pandas.concat instead.\n",
      "  results = results.append({\n",
      " 18%|█▊        | 363/2029 [22:57<2:13:19,  4.80s/it]C:\\Users\\Justin\\AppData\\Local\\Temp\\ipykernel_22308\\573511129.py:89: FutureWarning: The frame.append method is deprecated and will be removed from pandas in a future version. Use pandas.concat instead.\n",
      "  results = results.append({\n",
      " 18%|█▊        | 364/2029 [22:58<1:45:20,  3.80s/it]C:\\Users\\Justin\\AppData\\Local\\Temp\\ipykernel_22308\\573511129.py:89: FutureWarning: The frame.append method is deprecated and will be removed from pandas in a future version. Use pandas.concat instead.\n",
      "  results = results.append({\n",
      " 18%|█▊        | 365/2029 [23:34<6:12:41, 13.44s/it]C:\\Users\\Justin\\AppData\\Local\\Temp\\ipykernel_22308\\573511129.py:89: FutureWarning: The frame.append method is deprecated and will be removed from pandas in a future version. Use pandas.concat instead.\n",
      "  results = results.append({\n",
      " 18%|█▊        | 366/2029 [23:36<4:37:24, 10.01s/it]C:\\Users\\Justin\\AppData\\Local\\Temp\\ipykernel_22308\\573511129.py:89: FutureWarning: The frame.append method is deprecated and will be removed from pandas in a future version. Use pandas.concat instead.\n",
      "  results = results.append({\n",
      " 18%|█▊        | 367/2029 [23:38<3:27:05,  7.48s/it]C:\\Users\\Justin\\AppData\\Local\\Temp\\ipykernel_22308\\573511129.py:89: FutureWarning: The frame.append method is deprecated and will be removed from pandas in a future version. Use pandas.concat instead.\n",
      "  results = results.append({\n",
      " 18%|█▊        | 368/2029 [23:39<2:32:32,  5.51s/it]C:\\Users\\Justin\\AppData\\Local\\Temp\\ipykernel_22308\\573511129.py:89: FutureWarning: The frame.append method is deprecated and will be removed from pandas in a future version. Use pandas.concat instead.\n",
      "  results = results.append({\n",
      " 18%|█▊        | 369/2029 [23:40<1:54:21,  4.13s/it]C:\\Users\\Justin\\AppData\\Local\\Temp\\ipykernel_22308\\573511129.py:89: FutureWarning: The frame.append method is deprecated and will be removed from pandas in a future version. Use pandas.concat instead.\n",
      "  results = results.append({\n",
      " 18%|█▊        | 370/2029 [23:44<2:00:20,  4.35s/it]C:\\Users\\Justin\\AppData\\Local\\Temp\\ipykernel_22308\\573511129.py:89: FutureWarning: The frame.append method is deprecated and will be removed from pandas in a future version. Use pandas.concat instead.\n",
      "  results = results.append({\n",
      " 18%|█▊        | 371/2029 [23:46<1:38:50,  3.58s/it]C:\\Users\\Justin\\AppData\\Local\\Temp\\ipykernel_22308\\573511129.py:89: FutureWarning: The frame.append method is deprecated and will be removed from pandas in a future version. Use pandas.concat instead.\n",
      "  results = results.append({\n",
      " 18%|█▊        | 372/2029 [23:48<1:21:33,  2.95s/it]C:\\Users\\Justin\\AppData\\Local\\Temp\\ipykernel_22308\\573511129.py:89: FutureWarning: The frame.append method is deprecated and will be removed from pandas in a future version. Use pandas.concat instead.\n",
      "  results = results.append({\n",
      " 18%|█▊        | 373/2029 [23:55<1:54:08,  4.14s/it]C:\\Users\\Justin\\AppData\\Local\\Temp\\ipykernel_22308\\573511129.py:89: FutureWarning: The frame.append method is deprecated and will be removed from pandas in a future version. Use pandas.concat instead.\n",
      "  results = results.append({\n",
      " 18%|█▊        | 374/2029 [23:56<1:28:29,  3.21s/it]C:\\Users\\Justin\\AppData\\Local\\Temp\\ipykernel_22308\\573511129.py:89: FutureWarning: The frame.append method is deprecated and will be removed from pandas in a future version. Use pandas.concat instead.\n",
      "  results = results.append({\n",
      " 18%|█▊        | 375/2029 [23:57<1:14:53,  2.72s/it]C:\\Users\\Justin\\AppData\\Local\\Temp\\ipykernel_22308\\573511129.py:89: FutureWarning: The frame.append method is deprecated and will be removed from pandas in a future version. Use pandas.concat instead.\n",
      "  results = results.append({\n",
      " 19%|█▊        | 376/2029 [23:58<1:02:47,  2.28s/it]C:\\Users\\Justin\\AppData\\Local\\Temp\\ipykernel_22308\\573511129.py:89: FutureWarning: The frame.append method is deprecated and will be removed from pandas in a future version. Use pandas.concat instead.\n",
      "  results = results.append({\n",
      " 19%|█▊        | 377/2029 [24:00<56:01,  2.03s/it]  C:\\Users\\Justin\\AppData\\Local\\Temp\\ipykernel_22308\\573511129.py:89: FutureWarning: The frame.append method is deprecated and will be removed from pandas in a future version. Use pandas.concat instead.\n",
      "  results = results.append({\n",
      " 19%|█▊        | 378/2029 [24:04<1:15:48,  2.76s/it]C:\\Users\\Justin\\AppData\\Local\\Temp\\ipykernel_22308\\573511129.py:89: FutureWarning: The frame.append method is deprecated and will be removed from pandas in a future version. Use pandas.concat instead.\n",
      "  results = results.append({\n",
      " 19%|█▊        | 379/2029 [24:06<1:06:59,  2.44s/it]C:\\Users\\Justin\\AppData\\Local\\Temp\\ipykernel_22308\\573511129.py:89: FutureWarning: The frame.append method is deprecated and will be removed from pandas in a future version. Use pandas.concat instead.\n",
      "  results = results.append({\n",
      " 19%|█▊        | 380/2029 [24:09<1:08:13,  2.48s/it]C:\\Users\\Justin\\AppData\\Local\\Temp\\ipykernel_22308\\573511129.py:89: FutureWarning: The frame.append method is deprecated and will be removed from pandas in a future version. Use pandas.concat instead.\n",
      "  results = results.append({\n",
      " 19%|█▉        | 381/2029 [24:15<1:43:27,  3.77s/it]C:\\Users\\Justin\\AppData\\Local\\Temp\\ipykernel_22308\\573511129.py:89: FutureWarning: The frame.append method is deprecated and will be removed from pandas in a future version. Use pandas.concat instead.\n",
      "  results = results.append({\n",
      " 19%|█▉        | 382/2029 [24:17<1:22:00,  2.99s/it]C:\\Users\\Justin\\AppData\\Local\\Temp\\ipykernel_22308\\573511129.py:89: FutureWarning: The frame.append method is deprecated and will be removed from pandas in a future version. Use pandas.concat instead.\n",
      "  results = results.append({\n",
      " 19%|█▉        | 383/2029 [24:19<1:13:45,  2.69s/it]C:\\Users\\Justin\\AppData\\Local\\Temp\\ipykernel_22308\\573511129.py:89: FutureWarning: The frame.append method is deprecated and will be removed from pandas in a future version. Use pandas.concat instead.\n",
      "  results = results.append({\n",
      " 19%|█▉        | 384/2029 [24:54<5:46:44, 12.65s/it]C:\\Users\\Justin\\AppData\\Local\\Temp\\ipykernel_22308\\573511129.py:89: FutureWarning: The frame.append method is deprecated and will be removed from pandas in a future version. Use pandas.concat instead.\n",
      "  results = results.append({\n",
      " 19%|█▉        | 385/2029 [24:58<4:30:50,  9.88s/it]C:\\Users\\Justin\\AppData\\Local\\Temp\\ipykernel_22308\\573511129.py:89: FutureWarning: The frame.append method is deprecated and will be removed from pandas in a future version. Use pandas.concat instead.\n",
      "  results = results.append({\n",
      " 19%|█▉        | 386/2029 [25:00<3:23:54,  7.45s/it]C:\\Users\\Justin\\AppData\\Local\\Temp\\ipykernel_22308\\573511129.py:89: FutureWarning: The frame.append method is deprecated and will be removed from pandas in a future version. Use pandas.concat instead.\n",
      "  results = results.append({\n",
      " 19%|█▉        | 387/2029 [25:04<3:02:07,  6.66s/it]C:\\Users\\Justin\\AppData\\Local\\Temp\\ipykernel_22308\\573511129.py:89: FutureWarning: The frame.append method is deprecated and will be removed from pandas in a future version. Use pandas.concat instead.\n",
      "  results = results.append({\n",
      " 19%|█▉        | 388/2029 [25:06<2:21:50,  5.19s/it]C:\\Users\\Justin\\AppData\\Local\\Temp\\ipykernel_22308\\573511129.py:89: FutureWarning: The frame.append method is deprecated and will be removed from pandas in a future version. Use pandas.concat instead.\n",
      "  results = results.append({\n",
      " 19%|█▉        | 389/2029 [25:09<1:58:09,  4.32s/it]C:\\Users\\Justin\\AppData\\Local\\Temp\\ipykernel_22308\\573511129.py:89: FutureWarning: The frame.append method is deprecated and will be removed from pandas in a future version. Use pandas.concat instead.\n",
      "  results = results.append({\n",
      " 19%|█▉        | 390/2029 [25:11<1:39:56,  3.66s/it]C:\\Users\\Justin\\AppData\\Local\\Temp\\ipykernel_22308\\573511129.py:89: FutureWarning: The frame.append method is deprecated and will be removed from pandas in a future version. Use pandas.concat instead.\n",
      "  results = results.append({\n",
      " 19%|█▉        | 391/2029 [25:15<1:42:07,  3.74s/it]C:\\Users\\Justin\\AppData\\Local\\Temp\\ipykernel_22308\\573511129.py:89: FutureWarning: The frame.append method is deprecated and will be removed from pandas in a future version. Use pandas.concat instead.\n",
      "  results = results.append({\n",
      " 19%|█▉        | 393/2029 [25:20<1:32:25,  3.39s/it]"
     ]
    },
    {
     "name": "stdout",
     "output_type": "stream",
     "text": [
      "Error occurred: 'NoneType' object has no attribute 'text'\n"
     ]
    },
    {
     "name": "stderr",
     "output_type": "stream",
     "text": [
      "C:\\Users\\Justin\\AppData\\Local\\Temp\\ipykernel_22308\\573511129.py:89: FutureWarning: The frame.append method is deprecated and will be removed from pandas in a future version. Use pandas.concat instead.\n",
      "  results = results.append({\n",
      " 19%|█▉        | 394/2029 [25:25<1:43:52,  3.81s/it]C:\\Users\\Justin\\AppData\\Local\\Temp\\ipykernel_22308\\573511129.py:89: FutureWarning: The frame.append method is deprecated and will be removed from pandas in a future version. Use pandas.concat instead.\n",
      "  results = results.append({\n",
      " 19%|█▉        | 395/2029 [25:48<4:18:38,  9.50s/it]C:\\Users\\Justin\\AppData\\Local\\Temp\\ipykernel_22308\\573511129.py:89: FutureWarning: The frame.append method is deprecated and will be removed from pandas in a future version. Use pandas.concat instead.\n",
      "  results = results.append({\n",
      " 20%|█▉        | 396/2029 [25:50<3:20:49,  7.38s/it]C:\\Users\\Justin\\AppData\\Local\\Temp\\ipykernel_22308\\573511129.py:89: FutureWarning: The frame.append method is deprecated and will be removed from pandas in a future version. Use pandas.concat instead.\n",
      "  results = results.append({\n",
      " 20%|█▉        | 397/2029 [25:55<2:53:42,  6.39s/it]C:\\Users\\Justin\\AppData\\Local\\Temp\\ipykernel_22308\\573511129.py:89: FutureWarning: The frame.append method is deprecated and will be removed from pandas in a future version. Use pandas.concat instead.\n",
      "  results = results.append({\n",
      " 20%|█▉        | 398/2029 [25:56<2:15:38,  4.99s/it]C:\\Users\\Justin\\AppData\\Local\\Temp\\ipykernel_22308\\573511129.py:89: FutureWarning: The frame.append method is deprecated and will be removed from pandas in a future version. Use pandas.concat instead.\n",
      "  results = results.append({\n",
      " 20%|█▉        | 399/2029 [25:57<1:43:59,  3.83s/it]C:\\Users\\Justin\\AppData\\Local\\Temp\\ipykernel_22308\\573511129.py:89: FutureWarning: The frame.append method is deprecated and will be removed from pandas in a future version. Use pandas.concat instead.\n",
      "  results = results.append({\n",
      " 20%|█▉        | 400/2029 [25:59<1:21:56,  3.02s/it]"
     ]
    },
    {
     "name": "stdout",
     "output_type": "stream",
     "text": [
      "Error occurred: Cannot save file into a non-existent directory: 'TEMP\\NCAA_Partial'\n"
     ]
    },
    {
     "name": "stderr",
     "output_type": "stream",
     "text": [
      "C:\\Users\\Justin\\AppData\\Local\\Temp\\ipykernel_22308\\573511129.py:89: FutureWarning: The frame.append method is deprecated and will be removed from pandas in a future version. Use pandas.concat instead.\n",
      "  results = results.append({\n",
      " 20%|█▉        | 401/2029 [26:00<1:06:45,  2.46s/it]C:\\Users\\Justin\\AppData\\Local\\Temp\\ipykernel_22308\\573511129.py:89: FutureWarning: The frame.append method is deprecated and will be removed from pandas in a future version. Use pandas.concat instead.\n",
      "  results = results.append({\n",
      " 20%|█▉        | 402/2029 [26:04<1:24:56,  3.13s/it]C:\\Users\\Justin\\AppData\\Local\\Temp\\ipykernel_22308\\573511129.py:89: FutureWarning: The frame.append method is deprecated and will be removed from pandas in a future version. Use pandas.concat instead.\n",
      "  results = results.append({\n",
      " 20%|█▉        | 403/2029 [26:06<1:11:17,  2.63s/it]C:\\Users\\Justin\\AppData\\Local\\Temp\\ipykernel_22308\\573511129.py:89: FutureWarning: The frame.append method is deprecated and will be removed from pandas in a future version. Use pandas.concat instead.\n",
      "  results = results.append({\n",
      " 20%|█▉        | 404/2029 [26:07<1:03:06,  2.33s/it]C:\\Users\\Justin\\AppData\\Local\\Temp\\ipykernel_22308\\573511129.py:89: FutureWarning: The frame.append method is deprecated and will be removed from pandas in a future version. Use pandas.concat instead.\n",
      "  results = results.append({\n",
      " 20%|█▉        | 405/2029 [26:09<59:41,  2.21s/it]  C:\\Users\\Justin\\AppData\\Local\\Temp\\ipykernel_22308\\573511129.py:89: FutureWarning: The frame.append method is deprecated and will be removed from pandas in a future version. Use pandas.concat instead.\n",
      "  results = results.append({\n",
      " 20%|██        | 406/2029 [26:11<55:16,  2.04s/it]C:\\Users\\Justin\\AppData\\Local\\Temp\\ipykernel_22308\\573511129.py:89: FutureWarning: The frame.append method is deprecated and will be removed from pandas in a future version. Use pandas.concat instead.\n",
      "  results = results.append({\n",
      " 20%|██        | 407/2029 [26:16<1:17:28,  2.87s/it]C:\\Users\\Justin\\AppData\\Local\\Temp\\ipykernel_22308\\573511129.py:89: FutureWarning: The frame.append method is deprecated and will be removed from pandas in a future version. Use pandas.concat instead.\n",
      "  results = results.append({\n",
      " 20%|██        | 408/2029 [26:18<1:13:44,  2.73s/it]C:\\Users\\Justin\\AppData\\Local\\Temp\\ipykernel_22308\\573511129.py:89: FutureWarning: The frame.append method is deprecated and will be removed from pandas in a future version. Use pandas.concat instead.\n",
      "  results = results.append({\n",
      " 20%|██        | 409/2029 [26:20<1:07:31,  2.50s/it]C:\\Users\\Justin\\AppData\\Local\\Temp\\ipykernel_22308\\573511129.py:89: FutureWarning: The frame.append method is deprecated and will be removed from pandas in a future version. Use pandas.concat instead.\n",
      "  results = results.append({\n",
      " 20%|██        | 410/2029 [26:25<1:22:16,  3.05s/it]C:\\Users\\Justin\\AppData\\Local\\Temp\\ipykernel_22308\\573511129.py:89: FutureWarning: The frame.append method is deprecated and will be removed from pandas in a future version. Use pandas.concat instead.\n",
      "  results = results.append({\n",
      " 20%|██        | 411/2029 [26:46<3:48:23,  8.47s/it]C:\\Users\\Justin\\AppData\\Local\\Temp\\ipykernel_22308\\573511129.py:89: FutureWarning: The frame.append method is deprecated and will be removed from pandas in a future version. Use pandas.concat instead.\n",
      "  results = results.append({\n",
      " 20%|██        | 412/2029 [26:47<2:48:36,  6.26s/it]C:\\Users\\Justin\\AppData\\Local\\Temp\\ipykernel_22308\\573511129.py:89: FutureWarning: The frame.append method is deprecated and will be removed from pandas in a future version. Use pandas.concat instead.\n",
      "  results = results.append({\n",
      " 20%|██        | 413/2029 [26:48<2:06:37,  4.70s/it]C:\\Users\\Justin\\AppData\\Local\\Temp\\ipykernel_22308\\573511129.py:89: FutureWarning: The frame.append method is deprecated and will be removed from pandas in a future version. Use pandas.concat instead.\n",
      "  results = results.append({\n",
      " 20%|██        | 414/2029 [27:05<3:47:22,  8.45s/it]C:\\Users\\Justin\\AppData\\Local\\Temp\\ipykernel_22308\\573511129.py:89: FutureWarning: The frame.append method is deprecated and will be removed from pandas in a future version. Use pandas.concat instead.\n",
      "  results = results.append({\n",
      " 20%|██        | 415/2029 [27:07<2:54:55,  6.50s/it]C:\\Users\\Justin\\AppData\\Local\\Temp\\ipykernel_22308\\573511129.py:89: FutureWarning: The frame.append method is deprecated and will be removed from pandas in a future version. Use pandas.concat instead.\n",
      "  results = results.append({\n",
      " 21%|██        | 416/2029 [27:09<2:19:55,  5.20s/it]C:\\Users\\Justin\\AppData\\Local\\Temp\\ipykernel_22308\\573511129.py:89: FutureWarning: The frame.append method is deprecated and will be removed from pandas in a future version. Use pandas.concat instead.\n",
      "  results = results.append({\n",
      " 21%|██        | 417/2029 [27:10<1:44:55,  3.91s/it]C:\\Users\\Justin\\AppData\\Local\\Temp\\ipykernel_22308\\573511129.py:89: FutureWarning: The frame.append method is deprecated and will be removed from pandas in a future version. Use pandas.concat instead.\n",
      "  results = results.append({\n",
      " 21%|██        | 418/2029 [27:16<2:03:53,  4.61s/it]C:\\Users\\Justin\\AppData\\Local\\Temp\\ipykernel_22308\\573511129.py:89: FutureWarning: The frame.append method is deprecated and will be removed from pandas in a future version. Use pandas.concat instead.\n",
      "  results = results.append({\n",
      " 21%|██        | 419/2029 [27:18<1:41:47,  3.79s/it]C:\\Users\\Justin\\AppData\\Local\\Temp\\ipykernel_22308\\573511129.py:89: FutureWarning: The frame.append method is deprecated and will be removed from pandas in a future version. Use pandas.concat instead.\n",
      "  results = results.append({\n",
      " 21%|██        | 420/2029 [27:20<1:23:29,  3.11s/it]C:\\Users\\Justin\\AppData\\Local\\Temp\\ipykernel_22308\\573511129.py:89: FutureWarning: The frame.append method is deprecated and will be removed from pandas in a future version. Use pandas.concat instead.\n",
      "  results = results.append({\n",
      " 21%|██        | 421/2029 [27:21<1:11:22,  2.66s/it]C:\\Users\\Justin\\AppData\\Local\\Temp\\ipykernel_22308\\573511129.py:89: FutureWarning: The frame.append method is deprecated and will be removed from pandas in a future version. Use pandas.concat instead.\n",
      "  results = results.append({\n",
      " 21%|██        | 422/2029 [27:26<1:28:41,  3.31s/it]C:\\Users\\Justin\\AppData\\Local\\Temp\\ipykernel_22308\\573511129.py:89: FutureWarning: The frame.append method is deprecated and will be removed from pandas in a future version. Use pandas.concat instead.\n",
      "  results = results.append({\n",
      " 21%|██        | 423/2029 [27:28<1:12:52,  2.72s/it]C:\\Users\\Justin\\AppData\\Local\\Temp\\ipykernel_22308\\573511129.py:89: FutureWarning: The frame.append method is deprecated and will be removed from pandas in a future version. Use pandas.concat instead.\n",
      "  results = results.append({\n",
      " 21%|██        | 424/2029 [27:35<1:48:48,  4.07s/it]C:\\Users\\Justin\\AppData\\Local\\Temp\\ipykernel_22308\\573511129.py:89: FutureWarning: The frame.append method is deprecated and will be removed from pandas in a future version. Use pandas.concat instead.\n",
      "  results = results.append({\n",
      " 21%|██        | 425/2029 [27:36<1:28:56,  3.33s/it]C:\\Users\\Justin\\AppData\\Local\\Temp\\ipykernel_22308\\573511129.py:89: FutureWarning: The frame.append method is deprecated and will be removed from pandas in a future version. Use pandas.concat instead.\n",
      "  results = results.append({\n",
      " 21%|██        | 426/2029 [27:38<1:14:10,  2.78s/it]C:\\Users\\Justin\\AppData\\Local\\Temp\\ipykernel_22308\\573511129.py:89: FutureWarning: The frame.append method is deprecated and will be removed from pandas in a future version. Use pandas.concat instead.\n",
      "  results = results.append({\n",
      " 21%|██        | 427/2029 [27:39<59:13,  2.22s/it]  C:\\Users\\Justin\\AppData\\Local\\Temp\\ipykernel_22308\\573511129.py:89: FutureWarning: The frame.append method is deprecated and will be removed from pandas in a future version. Use pandas.concat instead.\n",
      "  results = results.append({\n",
      " 21%|██        | 428/2029 [27:45<1:30:58,  3.41s/it]C:\\Users\\Justin\\AppData\\Local\\Temp\\ipykernel_22308\\573511129.py:89: FutureWarning: The frame.append method is deprecated and will be removed from pandas in a future version. Use pandas.concat instead.\n",
      "  results = results.append({\n",
      " 21%|██        | 429/2029 [27:46<1:11:42,  2.69s/it]C:\\Users\\Justin\\AppData\\Local\\Temp\\ipykernel_22308\\573511129.py:89: FutureWarning: The frame.append method is deprecated and will be removed from pandas in a future version. Use pandas.concat instead.\n",
      "  results = results.append({\n",
      " 21%|██        | 430/2029 [27:49<1:11:40,  2.69s/it]C:\\Users\\Justin\\AppData\\Local\\Temp\\ipykernel_22308\\573511129.py:89: FutureWarning: The frame.append method is deprecated and will be removed from pandas in a future version. Use pandas.concat instead.\n",
      "  results = results.append({\n",
      " 21%|██        | 431/2029 [27:55<1:40:07,  3.76s/it]C:\\Users\\Justin\\AppData\\Local\\Temp\\ipykernel_22308\\573511129.py:89: FutureWarning: The frame.append method is deprecated and will be removed from pandas in a future version. Use pandas.concat instead.\n",
      "  results = results.append({\n",
      " 21%|██▏       | 432/2029 [27:56<1:18:54,  2.96s/it]C:\\Users\\Justin\\AppData\\Local\\Temp\\ipykernel_22308\\573511129.py:89: FutureWarning: The frame.append method is deprecated and will be removed from pandas in a future version. Use pandas.concat instead.\n",
      "  results = results.append({\n",
      " 21%|██▏       | 433/2029 [27:58<1:08:51,  2.59s/it]C:\\Users\\Justin\\AppData\\Local\\Temp\\ipykernel_22308\\573511129.py:89: FutureWarning: The frame.append method is deprecated and will be removed from pandas in a future version. Use pandas.concat instead.\n",
      "  results = results.append({\n",
      " 21%|██▏       | 434/2029 [28:00<1:05:24,  2.46s/it]C:\\Users\\Justin\\AppData\\Local\\Temp\\ipykernel_22308\\573511129.py:89: FutureWarning: The frame.append method is deprecated and will be removed from pandas in a future version. Use pandas.concat instead.\n",
      "  results = results.append({\n",
      " 21%|██▏       | 435/2029 [28:05<1:26:03,  3.24s/it]C:\\Users\\Justin\\AppData\\Local\\Temp\\ipykernel_22308\\573511129.py:89: FutureWarning: The frame.append method is deprecated and will be removed from pandas in a future version. Use pandas.concat instead.\n",
      "  results = results.append({\n",
      " 21%|██▏       | 436/2029 [28:06<1:11:16,  2.68s/it]C:\\Users\\Justin\\AppData\\Local\\Temp\\ipykernel_22308\\573511129.py:89: FutureWarning: The frame.append method is deprecated and will be removed from pandas in a future version. Use pandas.concat instead.\n",
      "  results = results.append({\n",
      " 22%|██▏       | 437/2029 [28:08<1:04:51,  2.44s/it]C:\\Users\\Justin\\AppData\\Local\\Temp\\ipykernel_22308\\573511129.py:89: FutureWarning: The frame.append method is deprecated and will be removed from pandas in a future version. Use pandas.concat instead.\n",
      "  results = results.append({\n",
      " 22%|██▏       | 438/2029 [28:10<57:59,  2.19s/it]  C:\\Users\\Justin\\AppData\\Local\\Temp\\ipykernel_22308\\573511129.py:89: FutureWarning: The frame.append method is deprecated and will be removed from pandas in a future version. Use pandas.concat instead.\n",
      "  results = results.append({\n",
      " 22%|██▏       | 439/2029 [28:15<1:19:33,  3.00s/it]C:\\Users\\Justin\\AppData\\Local\\Temp\\ipykernel_22308\\573511129.py:89: FutureWarning: The frame.append method is deprecated and will be removed from pandas in a future version. Use pandas.concat instead.\n",
      "  results = results.append({\n",
      " 22%|██▏       | 441/2029 [28:20<1:14:14,  2.81s/it]"
     ]
    },
    {
     "name": "stdout",
     "output_type": "stream",
     "text": [
      "Error occurred: 'NoneType' object has no attribute 'text'\n"
     ]
    },
    {
     "name": "stderr",
     "output_type": "stream",
     "text": [
      "C:\\Users\\Justin\\AppData\\Local\\Temp\\ipykernel_22308\\573511129.py:89: FutureWarning: The frame.append method is deprecated and will be removed from pandas in a future version. Use pandas.concat instead.\n",
      "  results = results.append({\n",
      " 22%|██▏       | 443/2029 [28:25<1:11:36,  2.71s/it]"
     ]
    },
    {
     "name": "stdout",
     "output_type": "stream",
     "text": [
      "Error occurred: 'NoneType' object has no attribute 'text'\n"
     ]
    },
    {
     "name": "stderr",
     "output_type": "stream",
     "text": [
      "C:\\Users\\Justin\\AppData\\Local\\Temp\\ipykernel_22308\\573511129.py:89: FutureWarning: The frame.append method is deprecated and will be removed from pandas in a future version. Use pandas.concat instead.\n",
      "  results = results.append({\n",
      " 22%|██▏       | 445/2029 [28:28<57:35,  2.18s/it]  "
     ]
    },
    {
     "name": "stdout",
     "output_type": "stream",
     "text": [
      "Error occurred: 'NoneType' object has no attribute 'text'\n"
     ]
    },
    {
     "name": "stderr",
     "output_type": "stream",
     "text": [
      "C:\\Users\\Justin\\AppData\\Local\\Temp\\ipykernel_22308\\573511129.py:89: FutureWarning: The frame.append method is deprecated and will be removed from pandas in a future version. Use pandas.concat instead.\n",
      "  results = results.append({\n",
      " 22%|██▏       | 446/2029 [28:30<53:36,  2.03s/it]C:\\Users\\Justin\\AppData\\Local\\Temp\\ipykernel_22308\\573511129.py:89: FutureWarning: The frame.append method is deprecated and will be removed from pandas in a future version. Use pandas.concat instead.\n",
      "  results = results.append({\n",
      " 22%|██▏       | 447/2029 [28:30<44:16,  1.68s/it]C:\\Users\\Justin\\AppData\\Local\\Temp\\ipykernel_22308\\573511129.py:89: FutureWarning: The frame.append method is deprecated and will be removed from pandas in a future version. Use pandas.concat instead.\n",
      "  results = results.append({\n",
      " 22%|██▏       | 449/2029 [28:38<1:09:29,  2.64s/it]"
     ]
    },
    {
     "name": "stdout",
     "output_type": "stream",
     "text": [
      "Error occurred: 'NoneType' object has no attribute 'text'\n"
     ]
    },
    {
     "name": "stderr",
     "output_type": "stream",
     "text": [
      "C:\\Users\\Justin\\AppData\\Local\\Temp\\ipykernel_22308\\573511129.py:89: FutureWarning: The frame.append method is deprecated and will be removed from pandas in a future version. Use pandas.concat instead.\n",
      "  results = results.append({\n",
      " 22%|██▏       | 450/2029 [28:45<1:45:20,  4.00s/it]"
     ]
    },
    {
     "name": "stdout",
     "output_type": "stream",
     "text": [
      "Error occurred: Cannot save file into a non-existent directory: 'TEMP\\NCAA_Partial'\n"
     ]
    },
    {
     "name": "stderr",
     "output_type": "stream",
     "text": [
      "C:\\Users\\Justin\\AppData\\Local\\Temp\\ipykernel_22308\\573511129.py:89: FutureWarning: The frame.append method is deprecated and will be removed from pandas in a future version. Use pandas.concat instead.\n",
      "  results = results.append({\n",
      " 22%|██▏       | 451/2029 [28:47<1:26:59,  3.31s/it]C:\\Users\\Justin\\AppData\\Local\\Temp\\ipykernel_22308\\573511129.py:89: FutureWarning: The frame.append method is deprecated and will be removed from pandas in a future version. Use pandas.concat instead.\n",
      "  results = results.append({\n",
      " 22%|██▏       | 452/2029 [28:48<1:11:53,  2.74s/it]C:\\Users\\Justin\\AppData\\Local\\Temp\\ipykernel_22308\\573511129.py:89: FutureWarning: The frame.append method is deprecated and will be removed from pandas in a future version. Use pandas.concat instead.\n",
      "  results = results.append({\n",
      " 22%|██▏       | 453/2029 [28:50<1:09:37,  2.65s/it]C:\\Users\\Justin\\AppData\\Local\\Temp\\ipykernel_22308\\573511129.py:89: FutureWarning: The frame.append method is deprecated and will be removed from pandas in a future version. Use pandas.concat instead.\n",
      "  results = results.append({\n",
      " 22%|██▏       | 454/2029 [28:55<1:26:27,  3.29s/it]C:\\Users\\Justin\\AppData\\Local\\Temp\\ipykernel_22308\\573511129.py:89: FutureWarning: The frame.append method is deprecated and will be removed from pandas in a future version. Use pandas.concat instead.\n",
      "  results = results.append({\n",
      " 22%|██▏       | 455/2029 [28:57<1:13:30,  2.80s/it]C:\\Users\\Justin\\AppData\\Local\\Temp\\ipykernel_22308\\573511129.py:89: FutureWarning: The frame.append method is deprecated and will be removed from pandas in a future version. Use pandas.concat instead.\n",
      "  results = results.append({\n",
      " 22%|██▏       | 456/2029 [28:59<1:04:13,  2.45s/it]C:\\Users\\Justin\\AppData\\Local\\Temp\\ipykernel_22308\\573511129.py:89: FutureWarning: The frame.append method is deprecated and will be removed from pandas in a future version. Use pandas.concat instead.\n",
      "  results = results.append({\n",
      " 23%|██▎       | 457/2029 [29:05<1:33:15,  3.56s/it]C:\\Users\\Justin\\AppData\\Local\\Temp\\ipykernel_22308\\573511129.py:89: FutureWarning: The frame.append method is deprecated and will be removed from pandas in a future version. Use pandas.concat instead.\n",
      "  results = results.append({\n",
      " 23%|██▎       | 458/2029 [29:07<1:26:47,  3.31s/it]C:\\Users\\Justin\\AppData\\Local\\Temp\\ipykernel_22308\\573511129.py:89: FutureWarning: The frame.append method is deprecated and will be removed from pandas in a future version. Use pandas.concat instead.\n",
      "  results = results.append({\n",
      " 23%|██▎       | 460/2029 [29:17<1:40:29,  3.84s/it]"
     ]
    },
    {
     "name": "stdout",
     "output_type": "stream",
     "text": [
      "Error occurred: 'NoneType' object has no attribute 'text'\n"
     ]
    },
    {
     "name": "stderr",
     "output_type": "stream",
     "text": [
      "C:\\Users\\Justin\\AppData\\Local\\Temp\\ipykernel_22308\\573511129.py:89: FutureWarning: The frame.append method is deprecated and will be removed from pandas in a future version. Use pandas.concat instead.\n",
      "  results = results.append({\n",
      " 23%|██▎       | 461/2029 [29:19<1:24:09,  3.22s/it]C:\\Users\\Justin\\AppData\\Local\\Temp\\ipykernel_22308\\573511129.py:89: FutureWarning: The frame.append method is deprecated and will be removed from pandas in a future version. Use pandas.concat instead.\n",
      "  results = results.append({\n",
      " 23%|██▎       | 462/2029 [29:20<1:10:24,  2.70s/it]C:\\Users\\Justin\\AppData\\Local\\Temp\\ipykernel_22308\\573511129.py:89: FutureWarning: The frame.append method is deprecated and will be removed from pandas in a future version. Use pandas.concat instead.\n",
      "  results = results.append({\n",
      " 23%|██▎       | 464/2029 [29:49<3:15:02,  7.48s/it]"
     ]
    },
    {
     "name": "stdout",
     "output_type": "stream",
     "text": [
      "Error occurred: 'NoneType' object has no attribute 'text'\n"
     ]
    },
    {
     "name": "stderr",
     "output_type": "stream",
     "text": [
      "C:\\Users\\Justin\\AppData\\Local\\Temp\\ipykernel_22308\\573511129.py:89: FutureWarning: The frame.append method is deprecated and will be removed from pandas in a future version. Use pandas.concat instead.\n",
      "  results = results.append({\n",
      " 23%|██▎       | 465/2029 [29:50<2:23:08,  5.49s/it]C:\\Users\\Justin\\AppData\\Local\\Temp\\ipykernel_22308\\573511129.py:89: FutureWarning: The frame.append method is deprecated and will be removed from pandas in a future version. Use pandas.concat instead.\n",
      "  results = results.append({\n",
      " 23%|██▎       | 467/2029 [29:55<1:46:43,  4.10s/it]"
     ]
    },
    {
     "name": "stdout",
     "output_type": "stream",
     "text": [
      "Error occurred: 'NoneType' object has no attribute 'text'\n"
     ]
    },
    {
     "name": "stderr",
     "output_type": "stream",
     "text": [
      "C:\\Users\\Justin\\AppData\\Local\\Temp\\ipykernel_22308\\573511129.py:89: FutureWarning: The frame.append method is deprecated and will be removed from pandas in a future version. Use pandas.concat instead.\n",
      "  results = results.append({\n",
      " 23%|██▎       | 469/2029 [30:05<1:58:41,  4.57s/it]"
     ]
    },
    {
     "name": "stdout",
     "output_type": "stream",
     "text": [
      "Error occurred: 'NoneType' object has no attribute 'text'\n"
     ]
    },
    {
     "name": "stderr",
     "output_type": "stream",
     "text": [
      "C:\\Users\\Justin\\AppData\\Local\\Temp\\ipykernel_22308\\573511129.py:89: FutureWarning: The frame.append method is deprecated and will be removed from pandas in a future version. Use pandas.concat instead.\n",
      "  results = results.append({\n",
      " 23%|██▎       | 470/2029 [30:09<1:55:11,  4.43s/it]C:\\Users\\Justin\\AppData\\Local\\Temp\\ipykernel_22308\\573511129.py:89: FutureWarning: The frame.append method is deprecated and will be removed from pandas in a future version. Use pandas.concat instead.\n",
      "  results = results.append({\n",
      " 23%|██▎       | 471/2029 [30:16<2:14:49,  5.19s/it]C:\\Users\\Justin\\AppData\\Local\\Temp\\ipykernel_22308\\573511129.py:89: FutureWarning: The frame.append method is deprecated and will be removed from pandas in a future version. Use pandas.concat instead.\n",
      "  results = results.append({\n",
      " 23%|██▎       | 472/2029 [30:18<1:49:17,  4.21s/it]C:\\Users\\Justin\\AppData\\Local\\Temp\\ipykernel_22308\\573511129.py:89: FutureWarning: The frame.append method is deprecated and will be removed from pandas in a future version. Use pandas.concat instead.\n",
      "  results = results.append({\n",
      " 23%|██▎       | 473/2029 [30:19<1:23:35,  3.22s/it]C:\\Users\\Justin\\AppData\\Local\\Temp\\ipykernel_22308\\573511129.py:89: FutureWarning: The frame.append method is deprecated and will be removed from pandas in a future version. Use pandas.concat instead.\n",
      "  results = results.append({\n",
      " 23%|██▎       | 475/2029 [30:26<1:33:31,  3.61s/it]"
     ]
    },
    {
     "name": "stdout",
     "output_type": "stream",
     "text": [
      "Error occurred: 'NoneType' object has no attribute 'text'\n"
     ]
    },
    {
     "name": "stderr",
     "output_type": "stream",
     "text": [
      "C:\\Users\\Justin\\AppData\\Local\\Temp\\ipykernel_22308\\573511129.py:89: FutureWarning: The frame.append method is deprecated and will be removed from pandas in a future version. Use pandas.concat instead.\n",
      "  results = results.append({\n",
      " 23%|██▎       | 476/2029 [30:27<1:13:28,  2.84s/it]C:\\Users\\Justin\\AppData\\Local\\Temp\\ipykernel_22308\\573511129.py:89: FutureWarning: The frame.append method is deprecated and will be removed from pandas in a future version. Use pandas.concat instead.\n",
      "  results = results.append({\n",
      " 24%|██▎       | 477/2029 [30:29<1:07:24,  2.61s/it]C:\\Users\\Justin\\AppData\\Local\\Temp\\ipykernel_22308\\573511129.py:89: FutureWarning: The frame.append method is deprecated and will be removed from pandas in a future version. Use pandas.concat instead.\n",
      "  results = results.append({\n",
      " 24%|██▎       | 478/2029 [30:30<55:15,  2.14s/it]  C:\\Users\\Justin\\AppData\\Local\\Temp\\ipykernel_22308\\573511129.py:89: FutureWarning: The frame.append method is deprecated and will be removed from pandas in a future version. Use pandas.concat instead.\n",
      "  results = results.append({\n",
      " 24%|██▎       | 479/2029 [30:35<1:17:06,  2.98s/it]C:\\Users\\Justin\\AppData\\Local\\Temp\\ipykernel_22308\\573511129.py:89: FutureWarning: The frame.append method is deprecated and will be removed from pandas in a future version. Use pandas.concat instead.\n",
      "  results = results.append({\n",
      " 24%|██▎       | 480/2029 [30:37<1:11:58,  2.79s/it]C:\\Users\\Justin\\AppData\\Local\\Temp\\ipykernel_22308\\573511129.py:89: FutureWarning: The frame.append method is deprecated and will be removed from pandas in a future version. Use pandas.concat instead.\n",
      "  results = results.append({\n",
      " 24%|██▎       | 481/2029 [30:38<58:30,  2.27s/it]  C:\\Users\\Justin\\AppData\\Local\\Temp\\ipykernel_22308\\573511129.py:89: FutureWarning: The frame.append method is deprecated and will be removed from pandas in a future version. Use pandas.concat instead.\n",
      "  results = results.append({\n",
      " 24%|██▍       | 482/2029 [30:40<57:01,  2.21s/it]C:\\Users\\Justin\\AppData\\Local\\Temp\\ipykernel_22308\\573511129.py:89: FutureWarning: The frame.append method is deprecated and will be removed from pandas in a future version. Use pandas.concat instead.\n",
      "  results = results.append({\n",
      " 24%|██▍       | 483/2029 [30:47<1:32:21,  3.58s/it]C:\\Users\\Justin\\AppData\\Local\\Temp\\ipykernel_22308\\573511129.py:89: FutureWarning: The frame.append method is deprecated and will be removed from pandas in a future version. Use pandas.concat instead.\n",
      "  results = results.append({\n",
      " 24%|██▍       | 484/2029 [30:49<1:18:01,  3.03s/it]C:\\Users\\Justin\\AppData\\Local\\Temp\\ipykernel_22308\\573511129.py:89: FutureWarning: The frame.append method is deprecated and will be removed from pandas in a future version. Use pandas.concat instead.\n",
      "  results = results.append({\n",
      " 24%|██▍       | 485/2029 [30:51<1:11:22,  2.77s/it]C:\\Users\\Justin\\AppData\\Local\\Temp\\ipykernel_22308\\573511129.py:89: FutureWarning: The frame.append method is deprecated and will be removed from pandas in a future version. Use pandas.concat instead.\n",
      "  results = results.append({\n",
      " 24%|██▍       | 486/2029 [30:56<1:23:48,  3.26s/it]C:\\Users\\Justin\\AppData\\Local\\Temp\\ipykernel_22308\\573511129.py:89: FutureWarning: The frame.append method is deprecated and will be removed from pandas in a future version. Use pandas.concat instead.\n",
      "  results = results.append({\n",
      " 24%|██▍       | 487/2029 [30:57<1:07:26,  2.62s/it]C:\\Users\\Justin\\AppData\\Local\\Temp\\ipykernel_22308\\573511129.py:89: FutureWarning: The frame.append method is deprecated and will be removed from pandas in a future version. Use pandas.concat instead.\n",
      "  results = results.append({\n",
      " 24%|██▍       | 488/2029 [30:58<53:46,  2.09s/it]  C:\\Users\\Justin\\AppData\\Local\\Temp\\ipykernel_22308\\573511129.py:89: FutureWarning: The frame.append method is deprecated and will be removed from pandas in a future version. Use pandas.concat instead.\n",
      "  results = results.append({\n",
      " 24%|██▍       | 489/2029 [31:00<54:20,  2.12s/it]C:\\Users\\Justin\\AppData\\Local\\Temp\\ipykernel_22308\\573511129.py:89: FutureWarning: The frame.append method is deprecated and will be removed from pandas in a future version. Use pandas.concat instead.\n",
      "  results = results.append({\n",
      " 24%|██▍       | 490/2029 [31:05<1:20:11,  3.13s/it]C:\\Users\\Justin\\AppData\\Local\\Temp\\ipykernel_22308\\573511129.py:89: FutureWarning: The frame.append method is deprecated and will be removed from pandas in a future version. Use pandas.concat instead.\n",
      "  results = results.append({\n",
      " 24%|██▍       | 491/2029 [31:06<1:04:49,  2.53s/it]C:\\Users\\Justin\\AppData\\Local\\Temp\\ipykernel_22308\\573511129.py:89: FutureWarning: The frame.append method is deprecated and will be removed from pandas in a future version. Use pandas.concat instead.\n",
      "  results = results.append({\n",
      " 24%|██▍       | 492/2029 [31:07<54:09,  2.11s/it]  C:\\Users\\Justin\\AppData\\Local\\Temp\\ipykernel_22308\\573511129.py:89: FutureWarning: The frame.append method is deprecated and will be removed from pandas in a future version. Use pandas.concat instead.\n",
      "  results = results.append({\n",
      " 24%|██▍       | 493/2029 [31:09<48:36,  1.90s/it]C:\\Users\\Justin\\AppData\\Local\\Temp\\ipykernel_22308\\573511129.py:89: FutureWarning: The frame.append method is deprecated and will be removed from pandas in a future version. Use pandas.concat instead.\n",
      "  results = results.append({\n",
      " 24%|██▍       | 494/2029 [31:15<1:19:11,  3.10s/it]C:\\Users\\Justin\\AppData\\Local\\Temp\\ipykernel_22308\\573511129.py:89: FutureWarning: The frame.append method is deprecated and will be removed from pandas in a future version. Use pandas.concat instead.\n",
      "  results = results.append({\n",
      " 24%|██▍       | 495/2029 [31:37<3:42:41,  8.71s/it]C:\\Users\\Justin\\AppData\\Local\\Temp\\ipykernel_22308\\573511129.py:89: FutureWarning: The frame.append method is deprecated and will be removed from pandas in a future version. Use pandas.concat instead.\n",
      "  results = results.append({\n",
      " 24%|██▍       | 496/2029 [31:38<2:47:31,  6.56s/it]C:\\Users\\Justin\\AppData\\Local\\Temp\\ipykernel_22308\\573511129.py:89: FutureWarning: The frame.append method is deprecated and will be removed from pandas in a future version. Use pandas.concat instead.\n",
      "  results = results.append({\n",
      " 24%|██▍       | 497/2029 [31:48<3:10:59,  7.48s/it]C:\\Users\\Justin\\AppData\\Local\\Temp\\ipykernel_22308\\573511129.py:89: FutureWarning: The frame.append method is deprecated and will be removed from pandas in a future version. Use pandas.concat instead.\n",
      "  results = results.append({\n",
      " 25%|██▍       | 498/2029 [31:49<2:23:04,  5.61s/it]C:\\Users\\Justin\\AppData\\Local\\Temp\\ipykernel_22308\\573511129.py:89: FutureWarning: The frame.append method is deprecated and will be removed from pandas in a future version. Use pandas.concat instead.\n",
      "  results = results.append({\n",
      " 25%|██▍       | 499/2029 [31:51<1:52:18,  4.40s/it]C:\\Users\\Justin\\AppData\\Local\\Temp\\ipykernel_22308\\573511129.py:89: FutureWarning: The frame.append method is deprecated and will be removed from pandas in a future version. Use pandas.concat instead.\n",
      "  results = results.append({\n",
      " 25%|██▍       | 500/2029 [31:55<1:52:23,  4.41s/it]"
     ]
    },
    {
     "name": "stdout",
     "output_type": "stream",
     "text": [
      "Error occurred: Cannot save file into a non-existent directory: 'TEMP\\NCAA_Partial'\n"
     ]
    },
    {
     "name": "stderr",
     "output_type": "stream",
     "text": [
      "C:\\Users\\Justin\\AppData\\Local\\Temp\\ipykernel_22308\\573511129.py:89: FutureWarning: The frame.append method is deprecated and will be removed from pandas in a future version. Use pandas.concat instead.\n",
      "  results = results.append({\n",
      " 25%|██▍       | 501/2029 [31:57<1:33:35,  3.67s/it]C:\\Users\\Justin\\AppData\\Local\\Temp\\ipykernel_22308\\573511129.py:89: FutureWarning: The frame.append method is deprecated and will be removed from pandas in a future version. Use pandas.concat instead.\n",
      "  results = results.append({\n",
      " 25%|██▍       | 503/2029 [32:00<1:04:20,  2.53s/it]"
     ]
    },
    {
     "name": "stdout",
     "output_type": "stream",
     "text": [
      "Error occurred: 'NoneType' object has no attribute 'text'\n"
     ]
    },
    {
     "name": "stderr",
     "output_type": "stream",
     "text": [
      "C:\\Users\\Justin\\AppData\\Local\\Temp\\ipykernel_22308\\573511129.py:89: FutureWarning: The frame.append method is deprecated and will be removed from pandas in a future version. Use pandas.concat instead.\n",
      "  results = results.append({\n",
      " 25%|██▍       | 505/2029 [32:06<1:08:37,  2.70s/it]"
     ]
    },
    {
     "name": "stdout",
     "output_type": "stream",
     "text": [
      "Error occurred: 'NoneType' object has no attribute 'text'\n"
     ]
    },
    {
     "name": "stderr",
     "output_type": "stream",
     "text": [
      " 25%|██▍       | 506/2029 [32:08<1:04:35,  2.54s/it]"
     ]
    },
    {
     "name": "stdout",
     "output_type": "stream",
     "text": [
      "Error occurred: 'NoneType' object has no attribute 'text'\n"
     ]
    },
    {
     "name": "stderr",
     "output_type": "stream",
     "text": [
      "C:\\Users\\Justin\\AppData\\Local\\Temp\\ipykernel_22308\\573511129.py:89: FutureWarning: The frame.append method is deprecated and will be removed from pandas in a future version. Use pandas.concat instead.\n",
      "  results = results.append({\n",
      " 25%|██▍       | 507/2029 [32:10<58:18,  2.30s/it]  C:\\Users\\Justin\\AppData\\Local\\Temp\\ipykernel_22308\\573511129.py:89: FutureWarning: The frame.append method is deprecated and will be removed from pandas in a future version. Use pandas.concat instead.\n",
      "  results = results.append({\n",
      " 25%|██▌       | 508/2029 [32:16<1:27:22,  3.45s/it]C:\\Users\\Justin\\AppData\\Local\\Temp\\ipykernel_22308\\573511129.py:89: FutureWarning: The frame.append method is deprecated and will be removed from pandas in a future version. Use pandas.concat instead.\n",
      "  results = results.append({\n",
      " 25%|██▌       | 509/2029 [32:21<1:38:17,  3.88s/it]C:\\Users\\Justin\\AppData\\Local\\Temp\\ipykernel_22308\\573511129.py:89: FutureWarning: The frame.append method is deprecated and will be removed from pandas in a future version. Use pandas.concat instead.\n",
      "  results = results.append({\n",
      " 25%|██▌       | 511/2029 [32:26<1:15:46,  2.99s/it]"
     ]
    },
    {
     "name": "stdout",
     "output_type": "stream",
     "text": [
      "Error occurred: 'NoneType' object has no attribute 'text'\n"
     ]
    },
    {
     "name": "stderr",
     "output_type": "stream",
     "text": [
      "C:\\Users\\Justin\\AppData\\Local\\Temp\\ipykernel_22308\\573511129.py:89: FutureWarning: The frame.append method is deprecated and will be removed from pandas in a future version. Use pandas.concat instead.\n",
      "  results = results.append({\n",
      " 25%|██▌       | 513/2029 [32:31<1:05:16,  2.58s/it]"
     ]
    },
    {
     "name": "stdout",
     "output_type": "stream",
     "text": [
      "Error occurred: 'NoneType' object has no attribute 'text'\n"
     ]
    },
    {
     "name": "stderr",
     "output_type": "stream",
     "text": [
      " 25%|██▌       | 514/2029 [32:36<1:25:18,  3.38s/it]"
     ]
    },
    {
     "name": "stdout",
     "output_type": "stream",
     "text": [
      "Error occurred: 'NoneType' object has no attribute 'text'\n"
     ]
    },
    {
     "name": "stderr",
     "output_type": "stream",
     "text": [
      " 25%|██▌       | 515/2029 [32:37<1:08:29,  2.71s/it]"
     ]
    },
    {
     "name": "stdout",
     "output_type": "stream",
     "text": [
      "Error occurred: 'NoneType' object has no attribute 'text'\n"
     ]
    },
    {
     "name": "stderr",
     "output_type": "stream",
     "text": [
      " 25%|██▌       | 516/2029 [32:39<1:00:34,  2.40s/it]"
     ]
    },
    {
     "name": "stdout",
     "output_type": "stream",
     "text": [
      "Error occurred: 'NoneType' object has no attribute 'text'\n"
     ]
    },
    {
     "name": "stderr",
     "output_type": "stream",
     "text": [
      " 25%|██▌       | 517/2029 [32:41<57:00,  2.26s/it]  "
     ]
    },
    {
     "name": "stdout",
     "output_type": "stream",
     "text": [
      "Error occurred: 'NoneType' object has no attribute 'text'\n"
     ]
    },
    {
     "name": "stderr",
     "output_type": "stream",
     "text": [
      "C:\\Users\\Justin\\AppData\\Local\\Temp\\ipykernel_22308\\573511129.py:89: FutureWarning: The frame.append method is deprecated and will be removed from pandas in a future version. Use pandas.concat instead.\n",
      "  results = results.append({\n",
      " 26%|██▌       | 518/2029 [32:45<1:12:48,  2.89s/it]C:\\Users\\Justin\\AppData\\Local\\Temp\\ipykernel_22308\\573511129.py:89: FutureWarning: The frame.append method is deprecated and will be removed from pandas in a future version. Use pandas.concat instead.\n",
      "  results = results.append({\n",
      " 26%|██▌       | 519/2029 [32:47<1:02:19,  2.48s/it]C:\\Users\\Justin\\AppData\\Local\\Temp\\ipykernel_22308\\573511129.py:89: FutureWarning: The frame.append method is deprecated and will be removed from pandas in a future version. Use pandas.concat instead.\n",
      "  results = results.append({\n",
      " 26%|██▌       | 520/2029 [32:47<49:48,  1.98s/it]  C:\\Users\\Justin\\AppData\\Local\\Temp\\ipykernel_22308\\573511129.py:89: FutureWarning: The frame.append method is deprecated and will be removed from pandas in a future version. Use pandas.concat instead.\n",
      "  results = results.append({\n",
      " 26%|██▌       | 522/2029 [32:50<39:55,  1.59s/it]"
     ]
    },
    {
     "name": "stdout",
     "output_type": "stream",
     "text": [
      "Error occurred: 'NoneType' object has no attribute 'text'\n"
     ]
    },
    {
     "name": "stderr",
     "output_type": "stream",
     "text": [
      "C:\\Users\\Justin\\AppData\\Local\\Temp\\ipykernel_22308\\573511129.py:89: FutureWarning: The frame.append method is deprecated and will be removed from pandas in a future version. Use pandas.concat instead.\n",
      "  results = results.append({\n",
      " 26%|██▌       | 524/2029 [32:56<1:01:36,  2.46s/it]"
     ]
    },
    {
     "name": "stdout",
     "output_type": "stream",
     "text": [
      "Error occurred: 'NoneType' object has no attribute 'text'\n"
     ]
    },
    {
     "name": "stderr",
     "output_type": "stream",
     "text": [
      "C:\\Users\\Justin\\AppData\\Local\\Temp\\ipykernel_22308\\573511129.py:89: FutureWarning: The frame.append method is deprecated and will be removed from pandas in a future version. Use pandas.concat instead.\n",
      "  results = results.append({\n",
      " 26%|██▌       | 525/2029 [32:59<1:05:42,  2.62s/it]C:\\Users\\Justin\\AppData\\Local\\Temp\\ipykernel_22308\\573511129.py:89: FutureWarning: The frame.append method is deprecated and will be removed from pandas in a future version. Use pandas.concat instead.\n",
      "  results = results.append({\n",
      " 26%|██▌       | 526/2029 [33:00<52:07,  2.08s/it]  C:\\Users\\Justin\\AppData\\Local\\Temp\\ipykernel_22308\\573511129.py:89: FutureWarning: The frame.append method is deprecated and will be removed from pandas in a future version. Use pandas.concat instead.\n",
      "  results = results.append({\n",
      " 26%|██▌       | 527/2029 [33:01<49:28,  1.98s/it]C:\\Users\\Justin\\AppData\\Local\\Temp\\ipykernel_22308\\573511129.py:89: FutureWarning: The frame.append method is deprecated and will be removed from pandas in a future version. Use pandas.concat instead.\n",
      "  results = results.append({\n",
      " 26%|██▌       | 528/2029 [33:06<1:06:53,  2.67s/it]C:\\Users\\Justin\\AppData\\Local\\Temp\\ipykernel_22308\\573511129.py:89: FutureWarning: The frame.append method is deprecated and will be removed from pandas in a future version. Use pandas.concat instead.\n",
      "  results = results.append({\n",
      " 26%|██▌       | 529/2029 [33:08<1:07:47,  2.71s/it]C:\\Users\\Justin\\AppData\\Local\\Temp\\ipykernel_22308\\573511129.py:89: FutureWarning: The frame.append method is deprecated and will be removed from pandas in a future version. Use pandas.concat instead.\n",
      "  results = results.append({\n",
      " 26%|██▌       | 530/2029 [33:10<59:29,  2.38s/it]  C:\\Users\\Justin\\AppData\\Local\\Temp\\ipykernel_22308\\573511129.py:89: FutureWarning: The frame.append method is deprecated and will be removed from pandas in a future version. Use pandas.concat instead.\n",
      "  results = results.append({\n",
      " 26%|██▌       | 531/2029 [33:12<53:35,  2.15s/it]C:\\Users\\Justin\\AppData\\Local\\Temp\\ipykernel_22308\\573511129.py:89: FutureWarning: The frame.append method is deprecated and will be removed from pandas in a future version. Use pandas.concat instead.\n",
      "  results = results.append({\n",
      " 26%|██▌       | 532/2029 [33:29<2:44:46,  6.60s/it]C:\\Users\\Justin\\AppData\\Local\\Temp\\ipykernel_22308\\573511129.py:89: FutureWarning: The frame.append method is deprecated and will be removed from pandas in a future version. Use pandas.concat instead.\n",
      "  results = results.append({\n",
      " 26%|██▋       | 533/2029 [33:35<2:43:40,  6.56s/it]C:\\Users\\Justin\\AppData\\Local\\Temp\\ipykernel_22308\\573511129.py:89: FutureWarning: The frame.append method is deprecated and will be removed from pandas in a future version. Use pandas.concat instead.\n",
      "  results = results.append({\n",
      " 26%|██▋       | 534/2029 [33:36<2:01:18,  4.87s/it]C:\\Users\\Justin\\AppData\\Local\\Temp\\ipykernel_22308\\573511129.py:89: FutureWarning: The frame.append method is deprecated and will be removed from pandas in a future version. Use pandas.concat instead.\n",
      "  results = results.append({\n",
      " 26%|██▋       | 535/2029 [33:42<2:06:40,  5.09s/it]C:\\Users\\Justin\\AppData\\Local\\Temp\\ipykernel_22308\\573511129.py:89: FutureWarning: The frame.append method is deprecated and will be removed from pandas in a future version. Use pandas.concat instead.\n",
      "  results = results.append({\n",
      " 26%|██▋       | 536/2029 [33:44<1:50:17,  4.43s/it]C:\\Users\\Justin\\AppData\\Local\\Temp\\ipykernel_22308\\573511129.py:89: FutureWarning: The frame.append method is deprecated and will be removed from pandas in a future version. Use pandas.concat instead.\n",
      "  results = results.append({\n",
      " 26%|██▋       | 537/2029 [33:47<1:33:31,  3.76s/it]C:\\Users\\Justin\\AppData\\Local\\Temp\\ipykernel_22308\\573511129.py:89: FutureWarning: The frame.append method is deprecated and will be removed from pandas in a future version. Use pandas.concat instead.\n",
      "  results = results.append({\n",
      " 27%|██▋       | 538/2029 [33:49<1:21:48,  3.29s/it]C:\\Users\\Justin\\AppData\\Local\\Temp\\ipykernel_22308\\573511129.py:89: FutureWarning: The frame.append method is deprecated and will be removed from pandas in a future version. Use pandas.concat instead.\n",
      "  results = results.append({\n",
      " 27%|██▋       | 539/2029 [33:51<1:13:20,  2.95s/it]C:\\Users\\Justin\\AppData\\Local\\Temp\\ipykernel_22308\\573511129.py:89: FutureWarning: The frame.append method is deprecated and will be removed from pandas in a future version. Use pandas.concat instead.\n",
      "  results = results.append({\n",
      " 27%|██▋       | 541/2029 [33:57<1:08:59,  2.78s/it]"
     ]
    },
    {
     "name": "stdout",
     "output_type": "stream",
     "text": [
      "Error occurred: 'NoneType' object has no attribute 'text'\n"
     ]
    },
    {
     "name": "stderr",
     "output_type": "stream",
     "text": [
      "C:\\Users\\Justin\\AppData\\Local\\Temp\\ipykernel_22308\\573511129.py:89: FutureWarning: The frame.append method is deprecated and will be removed from pandas in a future version. Use pandas.concat instead.\n",
      "  results = results.append({\n",
      " 27%|██▋       | 542/2029 [34:05<1:51:48,  4.51s/it]C:\\Users\\Justin\\AppData\\Local\\Temp\\ipykernel_22308\\573511129.py:89: FutureWarning: The frame.append method is deprecated and will be removed from pandas in a future version. Use pandas.concat instead.\n",
      "  results = results.append({\n",
      " 27%|██▋       | 543/2029 [34:11<2:03:46,  5.00s/it]C:\\Users\\Justin\\AppData\\Local\\Temp\\ipykernel_22308\\573511129.py:89: FutureWarning: The frame.append method is deprecated and will be removed from pandas in a future version. Use pandas.concat instead.\n",
      "  results = results.append({\n",
      " 27%|██▋       | 544/2029 [34:16<2:00:14,  4.86s/it]C:\\Users\\Justin\\AppData\\Local\\Temp\\ipykernel_22308\\573511129.py:89: FutureWarning: The frame.append method is deprecated and will be removed from pandas in a future version. Use pandas.concat instead.\n",
      "  results = results.append({\n",
      " 27%|██▋       | 545/2029 [34:25<2:32:09,  6.15s/it]C:\\Users\\Justin\\AppData\\Local\\Temp\\ipykernel_22308\\573511129.py:89: FutureWarning: The frame.append method is deprecated and will be removed from pandas in a future version. Use pandas.concat instead.\n",
      "  results = results.append({\n",
      " 27%|██▋       | 546/2029 [34:27<1:58:35,  4.80s/it]C:\\Users\\Justin\\AppData\\Local\\Temp\\ipykernel_22308\\573511129.py:89: FutureWarning: The frame.append method is deprecated and will be removed from pandas in a future version. Use pandas.concat instead.\n",
      "  results = results.append({\n",
      " 27%|██▋       | 547/2029 [34:29<1:37:07,  3.93s/it]C:\\Users\\Justin\\AppData\\Local\\Temp\\ipykernel_22308\\573511129.py:89: FutureWarning: The frame.append method is deprecated and will be removed from pandas in a future version. Use pandas.concat instead.\n",
      "  results = results.append({\n",
      " 27%|██▋       | 548/2029 [34:30<1:20:29,  3.26s/it]C:\\Users\\Justin\\AppData\\Local\\Temp\\ipykernel_22308\\573511129.py:89: FutureWarning: The frame.append method is deprecated and will be removed from pandas in a future version. Use pandas.concat instead.\n",
      "  results = results.append({\n",
      " 27%|██▋       | 549/2029 [34:36<1:36:20,  3.91s/it]C:\\Users\\Justin\\AppData\\Local\\Temp\\ipykernel_22308\\573511129.py:89: FutureWarning: The frame.append method is deprecated and will be removed from pandas in a future version. Use pandas.concat instead.\n",
      "  results = results.append({\n",
      " 27%|██▋       | 550/2029 [34:36<1:13:13,  2.97s/it]"
     ]
    },
    {
     "name": "stdout",
     "output_type": "stream",
     "text": [
      "Error occurred: Cannot save file into a non-existent directory: 'TEMP\\NCAA_Partial'\n"
     ]
    },
    {
     "name": "stderr",
     "output_type": "stream",
     "text": [
      " 27%|██▋       | 551/2029 [34:38<1:03:06,  2.56s/it]"
     ]
    },
    {
     "name": "stdout",
     "output_type": "stream",
     "text": [
      "Error occurred: 'NoneType' object has no attribute 'text'\n"
     ]
    },
    {
     "name": "stderr",
     "output_type": "stream",
     "text": [
      "C:\\Users\\Justin\\AppData\\Local\\Temp\\ipykernel_22308\\573511129.py:89: FutureWarning: The frame.append method is deprecated and will be removed from pandas in a future version. Use pandas.concat instead.\n",
      "  results = results.append({\n",
      " 27%|██▋       | 553/2029 [34:47<1:36:14,  3.91s/it]"
     ]
    },
    {
     "name": "stdout",
     "output_type": "stream",
     "text": [
      "Error occurred: 'NoneType' object has no attribute 'text'\n"
     ]
    },
    {
     "name": "stderr",
     "output_type": "stream",
     "text": [
      "C:\\Users\\Justin\\AppData\\Local\\Temp\\ipykernel_22308\\573511129.py:89: FutureWarning: The frame.append method is deprecated and will be removed from pandas in a future version. Use pandas.concat instead.\n",
      "  results = results.append({\n",
      " 27%|██▋       | 554/2029 [34:51<1:34:36,  3.85s/it]C:\\Users\\Justin\\AppData\\Local\\Temp\\ipykernel_22308\\573511129.py:89: FutureWarning: The frame.append method is deprecated and will be removed from pandas in a future version. Use pandas.concat instead.\n",
      "  results = results.append({\n",
      " 27%|██▋       | 555/2029 [34:55<1:34:26,  3.84s/it]C:\\Users\\Justin\\AppData\\Local\\Temp\\ipykernel_22308\\573511129.py:89: FutureWarning: The frame.append method is deprecated and will be removed from pandas in a future version. Use pandas.concat instead.\n",
      "  results = results.append({\n",
      " 27%|██▋       | 556/2029 [34:57<1:21:29,  3.32s/it]C:\\Users\\Justin\\AppData\\Local\\Temp\\ipykernel_22308\\573511129.py:89: FutureWarning: The frame.append method is deprecated and will be removed from pandas in a future version. Use pandas.concat instead.\n",
      "  results = results.append({\n",
      " 27%|██▋       | 557/2029 [34:58<1:03:18,  2.58s/it]C:\\Users\\Justin\\AppData\\Local\\Temp\\ipykernel_22308\\573511129.py:89: FutureWarning: The frame.append method is deprecated and will be removed from pandas in a future version. Use pandas.concat instead.\n",
      "  results = results.append({\n",
      " 28%|██▊       | 558/2029 [35:00<58:22,  2.38s/it]  C:\\Users\\Justin\\AppData\\Local\\Temp\\ipykernel_22308\\573511129.py:89: FutureWarning: The frame.append method is deprecated and will be removed from pandas in a future version. Use pandas.concat instead.\n",
      "  results = results.append({\n",
      " 28%|██▊       | 559/2029 [35:05<1:21:04,  3.31s/it]C:\\Users\\Justin\\AppData\\Local\\Temp\\ipykernel_22308\\573511129.py:89: FutureWarning: The frame.append method is deprecated and will be removed from pandas in a future version. Use pandas.concat instead.\n",
      "  results = results.append({\n",
      " 28%|██▊       | 560/2029 [35:07<1:06:03,  2.70s/it]C:\\Users\\Justin\\AppData\\Local\\Temp\\ipykernel_22308\\573511129.py:89: FutureWarning: The frame.append method is deprecated and will be removed from pandas in a future version. Use pandas.concat instead.\n",
      "  results = results.append({\n",
      " 28%|██▊       | 561/2029 [35:08<55:25,  2.27s/it]  C:\\Users\\Justin\\AppData\\Local\\Temp\\ipykernel_22308\\573511129.py:89: FutureWarning: The frame.append method is deprecated and will be removed from pandas in a future version. Use pandas.concat instead.\n",
      "  results = results.append({\n",
      " 28%|██▊       | 563/2029 [35:15<1:13:16,  3.00s/it]"
     ]
    },
    {
     "name": "stdout",
     "output_type": "stream",
     "text": [
      "Error occurred: 'NoneType' object has no attribute 'text'\n"
     ]
    },
    {
     "name": "stderr",
     "output_type": "stream",
     "text": [
      "C:\\Users\\Justin\\AppData\\Local\\Temp\\ipykernel_22308\\573511129.py:89: FutureWarning: The frame.append method is deprecated and will be removed from pandas in a future version. Use pandas.concat instead.\n",
      "  results = results.append({\n",
      " 28%|██▊       | 564/2029 [35:16<1:00:20,  2.47s/it]C:\\Users\\Justin\\AppData\\Local\\Temp\\ipykernel_22308\\573511129.py:89: FutureWarning: The frame.append method is deprecated and will be removed from pandas in a future version. Use pandas.concat instead.\n",
      "  results = results.append({\n",
      " 28%|██▊       | 565/2029 [35:18<57:53,  2.37s/it]  C:\\Users\\Justin\\AppData\\Local\\Temp\\ipykernel_22308\\573511129.py:89: FutureWarning: The frame.append method is deprecated and will be removed from pandas in a future version. Use pandas.concat instead.\n",
      "  results = results.append({\n",
      " 28%|██▊       | 566/2029 [35:20<52:45,  2.16s/it]C:\\Users\\Justin\\AppData\\Local\\Temp\\ipykernel_22308\\573511129.py:89: FutureWarning: The frame.append method is deprecated and will be removed from pandas in a future version. Use pandas.concat instead.\n",
      "  results = results.append({\n",
      " 28%|██▊       | 567/2029 [35:22<48:05,  1.97s/it]C:\\Users\\Justin\\AppData\\Local\\Temp\\ipykernel_22308\\573511129.py:89: FutureWarning: The frame.append method is deprecated and will be removed from pandas in a future version. Use pandas.concat instead.\n",
      "  results = results.append({\n",
      " 28%|██▊       | 568/2029 [35:26<1:06:06,  2.72s/it]C:\\Users\\Justin\\AppData\\Local\\Temp\\ipykernel_22308\\573511129.py:89: FutureWarning: The frame.append method is deprecated and will be removed from pandas in a future version. Use pandas.concat instead.\n",
      "  results = results.append({\n",
      " 28%|██▊       | 569/2029 [35:27<51:21,  2.11s/it]  C:\\Users\\Justin\\AppData\\Local\\Temp\\ipykernel_22308\\573511129.py:89: FutureWarning: The frame.append method is deprecated and will be removed from pandas in a future version. Use pandas.concat instead.\n",
      "  results = results.append({\n",
      " 28%|██▊       | 570/2029 [35:28<42:56,  1.77s/it]C:\\Users\\Justin\\AppData\\Local\\Temp\\ipykernel_22308\\573511129.py:89: FutureWarning: The frame.append method is deprecated and will be removed from pandas in a future version. Use pandas.concat instead.\n",
      "  results = results.append({\n",
      " 28%|██▊       | 571/2029 [35:29<40:19,  1.66s/it]C:\\Users\\Justin\\AppData\\Local\\Temp\\ipykernel_22308\\573511129.py:89: FutureWarning: The frame.append method is deprecated and will be removed from pandas in a future version. Use pandas.concat instead.\n",
      "  results = results.append({\n",
      " 28%|██▊       | 572/2029 [35:30<37:44,  1.55s/it]C:\\Users\\Justin\\AppData\\Local\\Temp\\ipykernel_22308\\573511129.py:89: FutureWarning: The frame.append method is deprecated and will be removed from pandas in a future version. Use pandas.concat instead.\n",
      "  results = results.append({\n",
      " 28%|██▊       | 573/2029 [35:35<1:00:54,  2.51s/it]C:\\Users\\Justin\\AppData\\Local\\Temp\\ipykernel_22308\\573511129.py:89: FutureWarning: The frame.append method is deprecated and will be removed from pandas in a future version. Use pandas.concat instead.\n",
      "  results = results.append({\n",
      " 28%|██▊       | 574/2029 [35:36<51:09,  2.11s/it]  C:\\Users\\Justin\\AppData\\Local\\Temp\\ipykernel_22308\\573511129.py:89: FutureWarning: The frame.append method is deprecated and will be removed from pandas in a future version. Use pandas.concat instead.\n",
      "  results = results.append({\n",
      " 28%|██▊       | 575/2029 [35:38<49:25,  2.04s/it]C:\\Users\\Justin\\AppData\\Local\\Temp\\ipykernel_22308\\573511129.py:89: FutureWarning: The frame.append method is deprecated and will be removed from pandas in a future version. Use pandas.concat instead.\n",
      "  results = results.append({\n",
      " 28%|██▊       | 576/2029 [36:00<3:09:42,  7.83s/it]C:\\Users\\Justin\\AppData\\Local\\Temp\\ipykernel_22308\\573511129.py:89: FutureWarning: The frame.append method is deprecated and will be removed from pandas in a future version. Use pandas.concat instead.\n",
      "  results = results.append({\n",
      " 28%|██▊       | 577/2029 [36:02<2:27:39,  6.10s/it]C:\\Users\\Justin\\AppData\\Local\\Temp\\ipykernel_22308\\573511129.py:89: FutureWarning: The frame.append method is deprecated and will be removed from pandas in a future version. Use pandas.concat instead.\n",
      "  results = results.append({\n",
      " 28%|██▊       | 578/2029 [36:07<2:19:22,  5.76s/it]C:\\Users\\Justin\\AppData\\Local\\Temp\\ipykernel_22308\\573511129.py:89: FutureWarning: The frame.append method is deprecated and will be removed from pandas in a future version. Use pandas.concat instead.\n",
      "  results = results.append({\n",
      " 29%|██▊       | 579/2029 [36:09<1:51:42,  4.62s/it]C:\\Users\\Justin\\AppData\\Local\\Temp\\ipykernel_22308\\573511129.py:89: FutureWarning: The frame.append method is deprecated and will be removed from pandas in a future version. Use pandas.concat instead.\n",
      "  results = results.append({\n",
      " 29%|██▊       | 580/2029 [36:10<1:26:57,  3.60s/it]C:\\Users\\Justin\\AppData\\Local\\Temp\\ipykernel_22308\\573511129.py:89: FutureWarning: The frame.append method is deprecated and will be removed from pandas in a future version. Use pandas.concat instead.\n",
      "  results = results.append({\n",
      " 29%|██▊       | 581/2029 [36:12<1:14:52,  3.10s/it]C:\\Users\\Justin\\AppData\\Local\\Temp\\ipykernel_22308\\573511129.py:89: FutureWarning: The frame.append method is deprecated and will be removed from pandas in a future version. Use pandas.concat instead.\n",
      "  results = results.append({\n",
      " 29%|██▊       | 582/2029 [36:17<1:29:08,  3.70s/it]C:\\Users\\Justin\\AppData\\Local\\Temp\\ipykernel_22308\\573511129.py:89: FutureWarning: The frame.append method is deprecated and will be removed from pandas in a future version. Use pandas.concat instead.\n",
      "  results = results.append({\n",
      " 29%|██▊       | 583/2029 [36:19<1:18:25,  3.25s/it]C:\\Users\\Justin\\AppData\\Local\\Temp\\ipykernel_22308\\573511129.py:89: FutureWarning: The frame.append method is deprecated and will be removed from pandas in a future version. Use pandas.concat instead.\n",
      "  results = results.append({\n",
      " 29%|██▉       | 584/2029 [36:46<4:11:31, 10.44s/it]C:\\Users\\Justin\\AppData\\Local\\Temp\\ipykernel_22308\\573511129.py:89: FutureWarning: The frame.append method is deprecated and will be removed from pandas in a future version. Use pandas.concat instead.\n",
      "  results = results.append({\n",
      " 29%|██▉       | 585/2029 [36:49<3:13:16,  8.03s/it]C:\\Users\\Justin\\AppData\\Local\\Temp\\ipykernel_22308\\573511129.py:89: FutureWarning: The frame.append method is deprecated and will be removed from pandas in a future version. Use pandas.concat instead.\n",
      "  results = results.append({\n",
      " 29%|██▉       | 586/2029 [37:00<3:40:10,  9.16s/it]C:\\Users\\Justin\\AppData\\Local\\Temp\\ipykernel_22308\\573511129.py:89: FutureWarning: The frame.append method is deprecated and will be removed from pandas in a future version. Use pandas.concat instead.\n",
      "  results = results.append({\n",
      " 29%|██▉       | 588/2029 [37:15<3:10:56,  7.95s/it]"
     ]
    },
    {
     "name": "stdout",
     "output_type": "stream",
     "text": [
      "Error occurred: 'NoneType' object has no attribute 'text'\n"
     ]
    },
    {
     "name": "stderr",
     "output_type": "stream",
     "text": [
      "C:\\Users\\Justin\\AppData\\Local\\Temp\\ipykernel_22308\\573511129.py:89: FutureWarning: The frame.append method is deprecated and will be removed from pandas in a future version. Use pandas.concat instead.\n",
      "  results = results.append({\n",
      " 29%|██▉       | 589/2029 [37:16<2:23:33,  5.98s/it]C:\\Users\\Justin\\AppData\\Local\\Temp\\ipykernel_22308\\573511129.py:89: FutureWarning: The frame.append method is deprecated and will be removed from pandas in a future version. Use pandas.concat instead.\n",
      "  results = results.append({\n",
      " 29%|██▉       | 590/2029 [37:18<1:52:28,  4.69s/it]C:\\Users\\Justin\\AppData\\Local\\Temp\\ipykernel_22308\\573511129.py:89: FutureWarning: The frame.append method is deprecated and will be removed from pandas in a future version. Use pandas.concat instead.\n",
      "  results = results.append({\n",
      " 29%|██▉       | 591/2029 [37:21<1:39:59,  4.17s/it]C:\\Users\\Justin\\AppData\\Local\\Temp\\ipykernel_22308\\573511129.py:89: FutureWarning: The frame.append method is deprecated and will be removed from pandas in a future version. Use pandas.concat instead.\n",
      "  results = results.append({\n",
      " 29%|██▉       | 592/2029 [37:22<1:16:03,  3.18s/it]C:\\Users\\Justin\\AppData\\Local\\Temp\\ipykernel_22308\\573511129.py:89: FutureWarning: The frame.append method is deprecated and will be removed from pandas in a future version. Use pandas.concat instead.\n",
      "  results = results.append({\n",
      " 29%|██▉       | 593/2029 [37:27<1:29:12,  3.73s/it]C:\\Users\\Justin\\AppData\\Local\\Temp\\ipykernel_22308\\573511129.py:89: FutureWarning: The frame.append method is deprecated and will be removed from pandas in a future version. Use pandas.concat instead.\n",
      "  results = results.append({\n",
      " 29%|██▉       | 594/2029 [37:28<1:12:56,  3.05s/it]C:\\Users\\Justin\\AppData\\Local\\Temp\\ipykernel_22308\\573511129.py:89: FutureWarning: The frame.append method is deprecated and will be removed from pandas in a future version. Use pandas.concat instead.\n",
      "  results = results.append({\n",
      " 29%|██▉       | 596/2029 [37:37<1:33:46,  3.93s/it]"
     ]
    },
    {
     "name": "stdout",
     "output_type": "stream",
     "text": [
      "Error occurred: 'NoneType' object has no attribute 'text'\n"
     ]
    },
    {
     "name": "stderr",
     "output_type": "stream",
     "text": [
      " 29%|██▉       | 597/2029 [37:39<1:21:31,  3.42s/it]"
     ]
    },
    {
     "name": "stdout",
     "output_type": "stream",
     "text": [
      "Error occurred: 'NoneType' object has no attribute 'text'\n"
     ]
    },
    {
     "name": "stderr",
     "output_type": "stream",
     "text": [
      "C:\\Users\\Justin\\AppData\\Local\\Temp\\ipykernel_22308\\573511129.py:89: FutureWarning: The frame.append method is deprecated and will be removed from pandas in a future version. Use pandas.concat instead.\n",
      "  results = results.append({\n",
      " 29%|██▉       | 598/2029 [37:47<1:48:55,  4.57s/it]C:\\Users\\Justin\\AppData\\Local\\Temp\\ipykernel_22308\\573511129.py:89: FutureWarning: The frame.append method is deprecated and will be removed from pandas in a future version. Use pandas.concat instead.\n",
      "  results = results.append({\n",
      " 30%|██▉       | 599/2029 [37:49<1:32:45,  3.89s/it]C:\\Users\\Justin\\AppData\\Local\\Temp\\ipykernel_22308\\573511129.py:89: FutureWarning: The frame.append method is deprecated and will be removed from pandas in a future version. Use pandas.concat instead.\n",
      "  results = results.append({\n",
      " 30%|██▉       | 600/2029 [37:51<1:17:19,  3.25s/it]"
     ]
    },
    {
     "name": "stdout",
     "output_type": "stream",
     "text": [
      "Error occurred: Cannot save file into a non-existent directory: 'TEMP\\NCAA_Partial'\n"
     ]
    },
    {
     "name": "stderr",
     "output_type": "stream",
     "text": [
      "C:\\Users\\Justin\\AppData\\Local\\Temp\\ipykernel_22308\\573511129.py:89: FutureWarning: The frame.append method is deprecated and will be removed from pandas in a future version. Use pandas.concat instead.\n",
      "  results = results.append({\n",
      " 30%|██▉       | 602/2029 [37:57<1:10:56,  2.98s/it]"
     ]
    },
    {
     "name": "stdout",
     "output_type": "stream",
     "text": [
      "Error occurred: 'NoneType' object has no attribute 'text'\n"
     ]
    },
    {
     "name": "stderr",
     "output_type": "stream",
     "text": [
      "C:\\Users\\Justin\\AppData\\Local\\Temp\\ipykernel_22308\\573511129.py:89: FutureWarning: The frame.append method is deprecated and will be removed from pandas in a future version. Use pandas.concat instead.\n",
      "  results = results.append({\n",
      " 30%|██▉       | 603/2029 [37:59<1:08:03,  2.86s/it]C:\\Users\\Justin\\AppData\\Local\\Temp\\ipykernel_22308\\573511129.py:89: FutureWarning: The frame.append method is deprecated and will be removed from pandas in a future version. Use pandas.concat instead.\n",
      "  results = results.append({\n",
      " 30%|██▉       | 604/2029 [38:01<56:53,  2.40s/it]  C:\\Users\\Justin\\AppData\\Local\\Temp\\ipykernel_22308\\573511129.py:89: FutureWarning: The frame.append method is deprecated and will be removed from pandas in a future version. Use pandas.concat instead.\n",
      "  results = results.append({\n",
      " 30%|██▉       | 605/2029 [38:05<1:14:02,  3.12s/it]C:\\Users\\Justin\\AppData\\Local\\Temp\\ipykernel_22308\\573511129.py:89: FutureWarning: The frame.append method is deprecated and will be removed from pandas in a future version. Use pandas.concat instead.\n",
      "  results = results.append({\n",
      " 30%|██▉       | 606/2029 [38:11<1:32:54,  3.92s/it]C:\\Users\\Justin\\AppData\\Local\\Temp\\ipykernel_22308\\573511129.py:89: FutureWarning: The frame.append method is deprecated and will be removed from pandas in a future version. Use pandas.concat instead.\n",
      "  results = results.append({\n",
      " 30%|██▉       | 607/2029 [38:15<1:33:12,  3.93s/it]C:\\Users\\Justin\\AppData\\Local\\Temp\\ipykernel_22308\\573511129.py:89: FutureWarning: The frame.append method is deprecated and will be removed from pandas in a future version. Use pandas.concat instead.\n",
      "  results = results.append({\n",
      " 30%|███       | 609/2029 [38:25<1:44:38,  4.42s/it]"
     ]
    },
    {
     "name": "stdout",
     "output_type": "stream",
     "text": [
      "Error occurred: 'NoneType' object has no attribute 'text'\n"
     ]
    },
    {
     "name": "stderr",
     "output_type": "stream",
     "text": [
      "C:\\Users\\Justin\\AppData\\Local\\Temp\\ipykernel_22308\\573511129.py:89: FutureWarning: The frame.append method is deprecated and will be removed from pandas in a future version. Use pandas.concat instead.\n",
      "  results = results.append({\n",
      " 30%|███       | 610/2029 [38:48<3:53:16,  9.86s/it]C:\\Users\\Justin\\AppData\\Local\\Temp\\ipykernel_22308\\573511129.py:89: FutureWarning: The frame.append method is deprecated and will be removed from pandas in a future version. Use pandas.concat instead.\n",
      "  results = results.append({\n",
      " 30%|███       | 611/2029 [38:49<2:51:33,  7.26s/it]C:\\Users\\Justin\\AppData\\Local\\Temp\\ipykernel_22308\\573511129.py:89: FutureWarning: The frame.append method is deprecated and will be removed from pandas in a future version. Use pandas.concat instead.\n",
      "  results = results.append({\n",
      " 30%|███       | 612/2029 [38:55<2:44:32,  6.97s/it]C:\\Users\\Justin\\AppData\\Local\\Temp\\ipykernel_22308\\573511129.py:89: FutureWarning: The frame.append method is deprecated and will be removed from pandas in a future version. Use pandas.concat instead.\n",
      "  results = results.append({\n",
      " 30%|███       | 613/2029 [38:56<2:00:03,  5.09s/it]C:\\Users\\Justin\\AppData\\Local\\Temp\\ipykernel_22308\\573511129.py:89: FutureWarning: The frame.append method is deprecated and will be removed from pandas in a future version. Use pandas.concat instead.\n",
      "  results = results.append({\n",
      " 30%|███       | 614/2029 [38:57<1:32:56,  3.94s/it]C:\\Users\\Justin\\AppData\\Local\\Temp\\ipykernel_22308\\573511129.py:89: FutureWarning: The frame.append method is deprecated and will be removed from pandas in a future version. Use pandas.concat instead.\n",
      "  results = results.append({\n",
      " 30%|███       | 615/2029 [38:59<1:14:26,  3.16s/it]C:\\Users\\Justin\\AppData\\Local\\Temp\\ipykernel_22308\\573511129.py:89: FutureWarning: The frame.append method is deprecated and will be removed from pandas in a future version. Use pandas.concat instead.\n",
      "  results = results.append({\n",
      " 30%|███       | 616/2029 [39:00<1:04:31,  2.74s/it]C:\\Users\\Justin\\AppData\\Local\\Temp\\ipykernel_22308\\573511129.py:89: FutureWarning: The frame.append method is deprecated and will be removed from pandas in a future version. Use pandas.concat instead.\n",
      "  results = results.append({\n",
      " 30%|███       | 617/2029 [39:05<1:20:53,  3.44s/it]C:\\Users\\Justin\\AppData\\Local\\Temp\\ipykernel_22308\\573511129.py:89: FutureWarning: The frame.append method is deprecated and will be removed from pandas in a future version. Use pandas.concat instead.\n",
      "  results = results.append({\n",
      " 30%|███       | 618/2029 [39:07<1:09:16,  2.95s/it]C:\\Users\\Justin\\AppData\\Local\\Temp\\ipykernel_22308\\573511129.py:89: FutureWarning: The frame.append method is deprecated and will be removed from pandas in a future version. Use pandas.concat instead.\n",
      "  results = results.append({\n",
      " 31%|███       | 619/2029 [39:09<1:02:34,  2.66s/it]C:\\Users\\Justin\\AppData\\Local\\Temp\\ipykernel_22308\\573511129.py:89: FutureWarning: The frame.append method is deprecated and will be removed from pandas in a future version. Use pandas.concat instead.\n",
      "  results = results.append({\n",
      " 31%|███       | 620/2029 [39:11<59:06,  2.52s/it]  C:\\Users\\Justin\\AppData\\Local\\Temp\\ipykernel_22308\\573511129.py:89: FutureWarning: The frame.append method is deprecated and will be removed from pandas in a future version. Use pandas.concat instead.\n",
      "  results = results.append({\n",
      " 31%|███       | 621/2029 [39:15<1:09:09,  2.95s/it]C:\\Users\\Justin\\AppData\\Local\\Temp\\ipykernel_22308\\573511129.py:89: FutureWarning: The frame.append method is deprecated and will be removed from pandas in a future version. Use pandas.concat instead.\n",
      "  results = results.append({\n",
      " 31%|███       | 622/2029 [39:17<1:02:27,  2.66s/it]C:\\Users\\Justin\\AppData\\Local\\Temp\\ipykernel_22308\\573511129.py:89: FutureWarning: The frame.append method is deprecated and will be removed from pandas in a future version. Use pandas.concat instead.\n",
      "  results = results.append({\n",
      " 31%|███       | 623/2029 [39:19<58:37,  2.50s/it]  C:\\Users\\Justin\\AppData\\Local\\Temp\\ipykernel_22308\\573511129.py:89: FutureWarning: The frame.append method is deprecated and will be removed from pandas in a future version. Use pandas.concat instead.\n",
      "  results = results.append({\n",
      " 31%|███       | 624/2029 [39:21<50:23,  2.15s/it]C:\\Users\\Justin\\AppData\\Local\\Temp\\ipykernel_22308\\573511129.py:89: FutureWarning: The frame.append method is deprecated and will be removed from pandas in a future version. Use pandas.concat instead.\n",
      "  results = results.append({\n",
      " 31%|███       | 625/2029 [39:25<1:08:20,  2.92s/it]C:\\Users\\Justin\\AppData\\Local\\Temp\\ipykernel_22308\\573511129.py:89: FutureWarning: The frame.append method is deprecated and will be removed from pandas in a future version. Use pandas.concat instead.\n",
      "  results = results.append({\n",
      " 31%|███       | 627/2029 [39:29<51:51,  2.22s/it]  "
     ]
    },
    {
     "name": "stdout",
     "output_type": "stream",
     "text": [
      "Error occurred: 'NoneType' object has no attribute 'text'\n"
     ]
    },
    {
     "name": "stderr",
     "output_type": "stream",
     "text": [
      "C:\\Users\\Justin\\AppData\\Local\\Temp\\ipykernel_22308\\573511129.py:89: FutureWarning: The frame.append method is deprecated and will be removed from pandas in a future version. Use pandas.concat instead.\n",
      "  results = results.append({\n",
      " 31%|███       | 628/2029 [39:40<1:59:14,  5.11s/it]C:\\Users\\Justin\\AppData\\Local\\Temp\\ipykernel_22308\\573511129.py:89: FutureWarning: The frame.append method is deprecated and will be removed from pandas in a future version. Use pandas.concat instead.\n",
      "  results = results.append({\n",
      " 31%|███       | 629/2029 [39:42<1:32:13,  3.95s/it]C:\\Users\\Justin\\AppData\\Local\\Temp\\ipykernel_22308\\573511129.py:89: FutureWarning: The frame.append method is deprecated and will be removed from pandas in a future version. Use pandas.concat instead.\n",
      "  results = results.append({\n",
      " 31%|███       | 631/2029 [40:18<4:22:55, 11.28s/it]"
     ]
    },
    {
     "name": "stdout",
     "output_type": "stream",
     "text": [
      "Error occurred: 'NoneType' object has no attribute 'text'\n"
     ]
    },
    {
     "name": "stderr",
     "output_type": "stream",
     "text": [
      "C:\\Users\\Justin\\AppData\\Local\\Temp\\ipykernel_22308\\573511129.py:89: FutureWarning: The frame.append method is deprecated and will be removed from pandas in a future version. Use pandas.concat instead.\n",
      "  results = results.append({\n",
      " 31%|███       | 632/2029 [40:20<3:15:14,  8.39s/it]C:\\Users\\Justin\\AppData\\Local\\Temp\\ipykernel_22308\\573511129.py:89: FutureWarning: The frame.append method is deprecated and will be removed from pandas in a future version. Use pandas.concat instead.\n",
      "  results = results.append({\n",
      " 31%|███       | 633/2029 [40:21<2:26:06,  6.28s/it]C:\\Users\\Justin\\AppData\\Local\\Temp\\ipykernel_22308\\573511129.py:89: FutureWarning: The frame.append method is deprecated and will be removed from pandas in a future version. Use pandas.concat instead.\n",
      "  results = results.append({\n",
      " 31%|███       | 634/2029 [40:25<2:09:26,  5.57s/it]C:\\Users\\Justin\\AppData\\Local\\Temp\\ipykernel_22308\\573511129.py:89: FutureWarning: The frame.append method is deprecated and will be removed from pandas in a future version. Use pandas.concat instead.\n",
      "  results = results.append({\n",
      " 31%|███▏      | 635/2029 [40:27<1:44:51,  4.51s/it]C:\\Users\\Justin\\AppData\\Local\\Temp\\ipykernel_22308\\573511129.py:89: FutureWarning: The frame.append method is deprecated and will be removed from pandas in a future version. Use pandas.concat instead.\n",
      "  results = results.append({\n",
      " 31%|███▏      | 637/2029 [40:35<1:41:07,  4.36s/it]"
     ]
    },
    {
     "name": "stdout",
     "output_type": "stream",
     "text": [
      "Error occurred: 'NoneType' object has no attribute 'text'\n"
     ]
    },
    {
     "name": "stderr",
     "output_type": "stream",
     "text": [
      "C:\\Users\\Justin\\AppData\\Local\\Temp\\ipykernel_22308\\573511129.py:89: FutureWarning: The frame.append method is deprecated and will be removed from pandas in a future version. Use pandas.concat instead.\n",
      "  results = results.append({\n",
      " 31%|███▏      | 638/2029 [40:37<1:21:30,  3.52s/it]C:\\Users\\Justin\\AppData\\Local\\Temp\\ipykernel_22308\\573511129.py:89: FutureWarning: The frame.append method is deprecated and will be removed from pandas in a future version. Use pandas.concat instead.\n",
      "  results = results.append({\n",
      " 31%|███▏      | 639/2029 [40:39<1:11:39,  3.09s/it]C:\\Users\\Justin\\AppData\\Local\\Temp\\ipykernel_22308\\573511129.py:89: FutureWarning: The frame.append method is deprecated and will be removed from pandas in a future version. Use pandas.concat instead.\n",
      "  results = results.append({\n",
      " 32%|███▏      | 640/2029 [40:40<58:45,  2.54s/it]  C:\\Users\\Justin\\AppData\\Local\\Temp\\ipykernel_22308\\573511129.py:89: FutureWarning: The frame.append method is deprecated and will be removed from pandas in a future version. Use pandas.concat instead.\n",
      "  results = results.append({\n",
      " 32%|███▏      | 641/2029 [40:46<1:22:51,  3.58s/it]C:\\Users\\Justin\\AppData\\Local\\Temp\\ipykernel_22308\\573511129.py:89: FutureWarning: The frame.append method is deprecated and will be removed from pandas in a future version. Use pandas.concat instead.\n",
      "  results = results.append({\n",
      " 32%|███▏      | 642/2029 [40:48<1:11:17,  3.08s/it]C:\\Users\\Justin\\AppData\\Local\\Temp\\ipykernel_22308\\573511129.py:89: FutureWarning: The frame.append method is deprecated and will be removed from pandas in a future version. Use pandas.concat instead.\n",
      "  results = results.append({\n",
      " 32%|███▏      | 643/2029 [40:50<1:02:33,  2.71s/it]C:\\Users\\Justin\\AppData\\Local\\Temp\\ipykernel_22308\\573511129.py:89: FutureWarning: The frame.append method is deprecated and will be removed from pandas in a future version. Use pandas.concat instead.\n",
      "  results = results.append({\n",
      " 32%|███▏      | 644/2029 [40:51<54:19,  2.35s/it]  C:\\Users\\Justin\\AppData\\Local\\Temp\\ipykernel_22308\\573511129.py:89: FutureWarning: The frame.append method is deprecated and will be removed from pandas in a future version. Use pandas.concat instead.\n",
      "  results = results.append({\n",
      " 32%|███▏      | 645/2029 [40:55<1:06:55,  2.90s/it]C:\\Users\\Justin\\AppData\\Local\\Temp\\ipykernel_22308\\573511129.py:89: FutureWarning: The frame.append method is deprecated and will be removed from pandas in a future version. Use pandas.concat instead.\n",
      "  results = results.append({\n",
      " 32%|███▏      | 647/2029 [40:58<47:20,  2.06s/it]  "
     ]
    },
    {
     "name": "stdout",
     "output_type": "stream",
     "text": [
      "Error occurred: 'NoneType' object has no attribute 'text'\n"
     ]
    },
    {
     "name": "stderr",
     "output_type": "stream",
     "text": [
      "C:\\Users\\Justin\\AppData\\Local\\Temp\\ipykernel_22308\\573511129.py:89: FutureWarning: The frame.append method is deprecated and will be removed from pandas in a future version. Use pandas.concat instead.\n",
      "  results = results.append({\n",
      " 32%|███▏      | 648/2029 [41:01<55:21,  2.41s/it]C:\\Users\\Justin\\AppData\\Local\\Temp\\ipykernel_22308\\573511129.py:89: FutureWarning: The frame.append method is deprecated and will be removed from pandas in a future version. Use pandas.concat instead.\n",
      "  results = results.append({\n",
      " 32%|███▏      | 649/2029 [41:07<1:15:59,  3.30s/it]C:\\Users\\Justin\\AppData\\Local\\Temp\\ipykernel_22308\\573511129.py:89: FutureWarning: The frame.append method is deprecated and will be removed from pandas in a future version. Use pandas.concat instead.\n",
      "  results = results.append({\n",
      " 32%|███▏      | 650/2029 [41:08<1:00:40,  2.64s/it]"
     ]
    },
    {
     "name": "stdout",
     "output_type": "stream",
     "text": [
      "Error occurred: Cannot save file into a non-existent directory: 'TEMP\\NCAA_Partial'\n"
     ]
    },
    {
     "name": "stderr",
     "output_type": "stream",
     "text": [
      "C:\\Users\\Justin\\AppData\\Local\\Temp\\ipykernel_22308\\573511129.py:89: FutureWarning: The frame.append method is deprecated and will be removed from pandas in a future version. Use pandas.concat instead.\n",
      "  results = results.append({\n",
      " 32%|███▏      | 651/2029 [41:10<56:02,  2.44s/it]  C:\\Users\\Justin\\AppData\\Local\\Temp\\ipykernel_22308\\573511129.py:89: FutureWarning: The frame.append method is deprecated and will be removed from pandas in a future version. Use pandas.concat instead.\n",
      "  results = results.append({\n",
      " 32%|███▏      | 652/2029 [41:11<47:21,  2.06s/it]C:\\Users\\Justin\\AppData\\Local\\Temp\\ipykernel_22308\\573511129.py:89: FutureWarning: The frame.append method is deprecated and will be removed from pandas in a future version. Use pandas.concat instead.\n",
      "  results = results.append({\n",
      " 32%|███▏      | 653/2029 [41:15<1:04:16,  2.80s/it]C:\\Users\\Justin\\AppData\\Local\\Temp\\ipykernel_22308\\573511129.py:89: FutureWarning: The frame.append method is deprecated and will be removed from pandas in a future version. Use pandas.concat instead.\n",
      "  results = results.append({\n",
      " 32%|███▏      | 654/2029 [41:17<58:31,  2.55s/it]  C:\\Users\\Justin\\AppData\\Local\\Temp\\ipykernel_22308\\573511129.py:89: FutureWarning: The frame.append method is deprecated and will be removed from pandas in a future version. Use pandas.concat instead.\n",
      "  results = results.append({\n",
      " 32%|███▏      | 655/2029 [41:18<47:39,  2.08s/it]C:\\Users\\Justin\\AppData\\Local\\Temp\\ipykernel_22308\\573511129.py:89: FutureWarning: The frame.append method is deprecated and will be removed from pandas in a future version. Use pandas.concat instead.\n",
      "  results = results.append({\n",
      " 32%|███▏      | 656/2029 [41:25<1:21:40,  3.57s/it]C:\\Users\\Justin\\AppData\\Local\\Temp\\ipykernel_22308\\573511129.py:89: FutureWarning: The frame.append method is deprecated and will be removed from pandas in a future version. Use pandas.concat instead.\n",
      "  results = results.append({\n",
      " 32%|███▏      | 657/2029 [41:26<1:02:50,  2.75s/it]C:\\Users\\Justin\\AppData\\Local\\Temp\\ipykernel_22308\\573511129.py:89: FutureWarning: The frame.append method is deprecated and will be removed from pandas in a future version. Use pandas.concat instead.\n",
      "  results = results.append({\n",
      " 32%|███▏      | 658/2029 [41:28<53:37,  2.35s/it]  C:\\Users\\Justin\\AppData\\Local\\Temp\\ipykernel_22308\\573511129.py:89: FutureWarning: The frame.append method is deprecated and will be removed from pandas in a future version. Use pandas.concat instead.\n",
      "  results = results.append({\n",
      " 32%|███▏      | 659/2029 [41:30<50:54,  2.23s/it]C:\\Users\\Justin\\AppData\\Local\\Temp\\ipykernel_22308\\573511129.py:89: FutureWarning: The frame.append method is deprecated and will be removed from pandas in a future version. Use pandas.concat instead.\n",
      "  results = results.append({\n",
      " 33%|███▎      | 660/2029 [41:31<43:52,  1.92s/it]C:\\Users\\Justin\\AppData\\Local\\Temp\\ipykernel_22308\\573511129.py:89: FutureWarning: The frame.append method is deprecated and will be removed from pandas in a future version. Use pandas.concat instead.\n",
      "  results = results.append({\n",
      " 33%|███▎      | 661/2029 [41:36<1:03:58,  2.81s/it]C:\\Users\\Justin\\AppData\\Local\\Temp\\ipykernel_22308\\573511129.py:89: FutureWarning: The frame.append method is deprecated and will be removed from pandas in a future version. Use pandas.concat instead.\n",
      "  results = results.append({\n",
      " 33%|███▎      | 663/2029 [41:39<51:41,  2.27s/it]  "
     ]
    },
    {
     "name": "stdout",
     "output_type": "stream",
     "text": [
      "Error occurred: 'NoneType' object has no attribute 'text'\n"
     ]
    },
    {
     "name": "stderr",
     "output_type": "stream",
     "text": [
      "C:\\Users\\Justin\\AppData\\Local\\Temp\\ipykernel_22308\\573511129.py:89: FutureWarning: The frame.append method is deprecated and will be removed from pandas in a future version. Use pandas.concat instead.\n",
      "  results = results.append({\n",
      " 33%|███▎      | 664/2029 [41:41<48:24,  2.13s/it]C:\\Users\\Justin\\AppData\\Local\\Temp\\ipykernel_22308\\573511129.py:89: FutureWarning: The frame.append method is deprecated and will be removed from pandas in a future version. Use pandas.concat instead.\n",
      "  results = results.append({\n",
      " 33%|███▎      | 665/2029 [41:42<39:26,  1.73s/it]C:\\Users\\Justin\\AppData\\Local\\Temp\\ipykernel_22308\\573511129.py:89: FutureWarning: The frame.append method is deprecated and will be removed from pandas in a future version. Use pandas.concat instead.\n",
      "  results = results.append({\n",
      " 33%|███▎      | 666/2029 [41:46<54:17,  2.39s/it]C:\\Users\\Justin\\AppData\\Local\\Temp\\ipykernel_22308\\573511129.py:89: FutureWarning: The frame.append method is deprecated and will be removed from pandas in a future version. Use pandas.concat instead.\n",
      "  results = results.append({\n",
      " 33%|███▎      | 667/2029 [41:47<47:17,  2.08s/it]C:\\Users\\Justin\\AppData\\Local\\Temp\\ipykernel_22308\\573511129.py:89: FutureWarning: The frame.append method is deprecated and will be removed from pandas in a future version. Use pandas.concat instead.\n",
      "  results = results.append({\n",
      " 33%|███▎      | 668/2029 [41:49<49:09,  2.17s/it]C:\\Users\\Justin\\AppData\\Local\\Temp\\ipykernel_22308\\573511129.py:89: FutureWarning: The frame.append method is deprecated and will be removed from pandas in a future version. Use pandas.concat instead.\n",
      "  results = results.append({\n",
      " 33%|███▎      | 669/2029 [41:59<1:38:40,  4.35s/it]C:\\Users\\Justin\\AppData\\Local\\Temp\\ipykernel_22308\\573511129.py:89: FutureWarning: The frame.append method is deprecated and will be removed from pandas in a future version. Use pandas.concat instead.\n",
      "  results = results.append({\n",
      " 33%|███▎      | 670/2029 [42:01<1:22:35,  3.65s/it]C:\\Users\\Justin\\AppData\\Local\\Temp\\ipykernel_22308\\573511129.py:89: FutureWarning: The frame.append method is deprecated and will be removed from pandas in a future version. Use pandas.concat instead.\n",
      "  results = results.append({\n",
      " 33%|███▎      | 671/2029 [42:10<1:59:14,  5.27s/it]C:\\Users\\Justin\\AppData\\Local\\Temp\\ipykernel_22308\\573511129.py:89: FutureWarning: The frame.append method is deprecated and will be removed from pandas in a future version. Use pandas.concat instead.\n",
      "  results = results.append({\n",
      " 33%|███▎      | 672/2029 [42:12<1:36:39,  4.27s/it]C:\\Users\\Justin\\AppData\\Local\\Temp\\ipykernel_22308\\573511129.py:89: FutureWarning: The frame.append method is deprecated and will be removed from pandas in a future version. Use pandas.concat instead.\n",
      "  results = results.append({\n",
      " 33%|███▎      | 673/2029 [42:28<3:01:01,  8.01s/it]C:\\Users\\Justin\\AppData\\Local\\Temp\\ipykernel_22308\\573511129.py:89: FutureWarning: The frame.append method is deprecated and will be removed from pandas in a future version. Use pandas.concat instead.\n",
      "  results = results.append({\n",
      " 33%|███▎      | 674/2029 [42:30<2:16:12,  6.03s/it]C:\\Users\\Justin\\AppData\\Local\\Temp\\ipykernel_22308\\573511129.py:89: FutureWarning: The frame.append method is deprecated and will be removed from pandas in a future version. Use pandas.concat instead.\n",
      "  results = results.append({\n",
      " 33%|███▎      | 676/2029 [42:41<2:18:12,  6.13s/it]"
     ]
    },
    {
     "name": "stdout",
     "output_type": "stream",
     "text": [
      "Error occurred: 'NoneType' object has no attribute 'text'\n"
     ]
    },
    {
     "name": "stderr",
     "output_type": "stream",
     "text": [
      "C:\\Users\\Justin\\AppData\\Local\\Temp\\ipykernel_22308\\573511129.py:89: FutureWarning: The frame.append method is deprecated and will be removed from pandas in a future version. Use pandas.concat instead.\n",
      "  results = results.append({\n",
      " 33%|███▎      | 677/2029 [42:50<2:39:00,  7.06s/it]C:\\Users\\Justin\\AppData\\Local\\Temp\\ipykernel_22308\\573511129.py:89: FutureWarning: The frame.append method is deprecated and will be removed from pandas in a future version. Use pandas.concat instead.\n",
      "  results = results.append({\n",
      " 33%|███▎      | 678/2029 [42:52<2:01:12,  5.38s/it]C:\\Users\\Justin\\AppData\\Local\\Temp\\ipykernel_22308\\573511129.py:89: FutureWarning: The frame.append method is deprecated and will be removed from pandas in a future version. Use pandas.concat instead.\n",
      "  results = results.append({\n",
      " 33%|███▎      | 679/2029 [42:56<1:51:22,  4.95s/it]C:\\Users\\Justin\\AppData\\Local\\Temp\\ipykernel_22308\\573511129.py:89: FutureWarning: The frame.append method is deprecated and will be removed from pandas in a future version. Use pandas.concat instead.\n",
      "  results = results.append({\n",
      " 34%|███▎      | 680/2029 [43:07<2:37:00,  6.98s/it]C:\\Users\\Justin\\AppData\\Local\\Temp\\ipykernel_22308\\573511129.py:89: FutureWarning: The frame.append method is deprecated and will be removed from pandas in a future version. Use pandas.concat instead.\n",
      "  results = results.append({\n",
      " 34%|███▎      | 682/2029 [43:11<1:38:02,  4.37s/it]"
     ]
    },
    {
     "name": "stdout",
     "output_type": "stream",
     "text": [
      "Error occurred: 'NoneType' object has no attribute 'text'\n"
     ]
    },
    {
     "name": "stderr",
     "output_type": "stream",
     "text": [
      "C:\\Users\\Justin\\AppData\\Local\\Temp\\ipykernel_22308\\573511129.py:89: FutureWarning: The frame.append method is deprecated and will be removed from pandas in a future version. Use pandas.concat instead.\n",
      "  results = results.append({\n",
      " 34%|███▎      | 683/2029 [43:16<1:45:34,  4.71s/it]C:\\Users\\Justin\\AppData\\Local\\Temp\\ipykernel_22308\\573511129.py:89: FutureWarning: The frame.append method is deprecated and will be removed from pandas in a future version. Use pandas.concat instead.\n",
      "  results = results.append({\n",
      " 34%|███▎      | 684/2029 [43:18<1:23:01,  3.70s/it]C:\\Users\\Justin\\AppData\\Local\\Temp\\ipykernel_22308\\573511129.py:89: FutureWarning: The frame.append method is deprecated and will be removed from pandas in a future version. Use pandas.concat instead.\n",
      "  results = results.append({\n",
      " 34%|███▍      | 686/2029 [43:22<1:03:00,  2.82s/it]"
     ]
    },
    {
     "name": "stdout",
     "output_type": "stream",
     "text": [
      "Error occurred: 'NoneType' object has no attribute 'text'\n"
     ]
    },
    {
     "name": "stderr",
     "output_type": "stream",
     "text": [
      "C:\\Users\\Justin\\AppData\\Local\\Temp\\ipykernel_22308\\573511129.py:89: FutureWarning: The frame.append method is deprecated and will be removed from pandas in a future version. Use pandas.concat instead.\n",
      "  results = results.append({\n",
      " 34%|███▍      | 687/2029 [43:25<1:09:39,  3.11s/it]C:\\Users\\Justin\\AppData\\Local\\Temp\\ipykernel_22308\\573511129.py:89: FutureWarning: The frame.append method is deprecated and will be removed from pandas in a future version. Use pandas.concat instead.\n",
      "  results = results.append({\n",
      " 34%|███▍      | 688/2029 [43:27<56:43,  2.54s/it]  C:\\Users\\Justin\\AppData\\Local\\Temp\\ipykernel_22308\\573511129.py:89: FutureWarning: The frame.append method is deprecated and will be removed from pandas in a future version. Use pandas.concat instead.\n",
      "  results = results.append({\n",
      " 34%|███▍      | 689/2029 [43:27<44:51,  2.01s/it]C:\\Users\\Justin\\AppData\\Local\\Temp\\ipykernel_22308\\573511129.py:89: FutureWarning: The frame.append method is deprecated and will be removed from pandas in a future version. Use pandas.concat instead.\n",
      "  results = results.append({\n",
      " 34%|███▍      | 690/2029 [43:29<42:57,  1.92s/it]C:\\Users\\Justin\\AppData\\Local\\Temp\\ipykernel_22308\\573511129.py:89: FutureWarning: The frame.append method is deprecated and will be removed from pandas in a future version. Use pandas.concat instead.\n",
      "  results = results.append({\n",
      " 34%|███▍      | 691/2029 [43:31<41:34,  1.86s/it]C:\\Users\\Justin\\AppData\\Local\\Temp\\ipykernel_22308\\573511129.py:89: FutureWarning: The frame.append method is deprecated and will be removed from pandas in a future version. Use pandas.concat instead.\n",
      "  results = results.append({\n",
      " 34%|███▍      | 692/2029 [43:36<1:05:02,  2.92s/it]C:\\Users\\Justin\\AppData\\Local\\Temp\\ipykernel_22308\\573511129.py:89: FutureWarning: The frame.append method is deprecated and will be removed from pandas in a future version. Use pandas.concat instead.\n",
      "  results = results.append({\n",
      " 34%|███▍      | 693/2029 [43:38<58:42,  2.64s/it]  C:\\Users\\Justin\\AppData\\Local\\Temp\\ipykernel_22308\\573511129.py:89: FutureWarning: The frame.append method is deprecated and will be removed from pandas in a future version. Use pandas.concat instead.\n",
      "  results = results.append({\n",
      " 34%|███▍      | 694/2029 [43:40<54:12,  2.44s/it]C:\\Users\\Justin\\AppData\\Local\\Temp\\ipykernel_22308\\573511129.py:89: FutureWarning: The frame.append method is deprecated and will be removed from pandas in a future version. Use pandas.concat instead.\n",
      "  results = results.append({\n",
      " 34%|███▍      | 695/2029 [43:41<44:09,  1.99s/it]C:\\Users\\Justin\\AppData\\Local\\Temp\\ipykernel_22308\\573511129.py:89: FutureWarning: The frame.append method is deprecated and will be removed from pandas in a future version. Use pandas.concat instead.\n",
      "  results = results.append({\n",
      " 34%|███▍      | 696/2029 [43:47<1:08:59,  3.11s/it]C:\\Users\\Justin\\AppData\\Local\\Temp\\ipykernel_22308\\573511129.py:89: FutureWarning: The frame.append method is deprecated and will be removed from pandas in a future version. Use pandas.concat instead.\n",
      "  results = results.append({\n",
      " 34%|███▍      | 698/2029 [43:50<50:47,  2.29s/it]  "
     ]
    },
    {
     "name": "stdout",
     "output_type": "stream",
     "text": [
      "Error occurred: 'NoneType' object has no attribute 'text'\n"
     ]
    },
    {
     "name": "stderr",
     "output_type": "stream",
     "text": [
      "C:\\Users\\Justin\\AppData\\Local\\Temp\\ipykernel_22308\\573511129.py:89: FutureWarning: The frame.append method is deprecated and will be removed from pandas in a future version. Use pandas.concat instead.\n",
      "  results = results.append({\n",
      " 34%|███▍      | 699/2029 [43:51<42:06,  1.90s/it]C:\\Users\\Justin\\AppData\\Local\\Temp\\ipykernel_22308\\573511129.py:89: FutureWarning: The frame.append method is deprecated and will be removed from pandas in a future version. Use pandas.concat instead.\n",
      "  results = results.append({\n",
      " 34%|███▍      | 700/2029 [43:56<1:05:01,  2.94s/it]"
     ]
    },
    {
     "name": "stdout",
     "output_type": "stream",
     "text": [
      "Error occurred: Cannot save file into a non-existent directory: 'TEMP\\NCAA_Partial'\n"
     ]
    },
    {
     "name": "stderr",
     "output_type": "stream",
     "text": [
      " 35%|███▍      | 701/2029 [43:58<59:23,  2.68s/it]  "
     ]
    },
    {
     "name": "stdout",
     "output_type": "stream",
     "text": [
      "Error occurred: 'NoneType' object has no attribute 'text'\n"
     ]
    },
    {
     "name": "stderr",
     "output_type": "stream",
     "text": [
      "C:\\Users\\Justin\\AppData\\Local\\Temp\\ipykernel_22308\\573511129.py:89: FutureWarning: The frame.append method is deprecated and will be removed from pandas in a future version. Use pandas.concat instead.\n",
      "  results = results.append({\n",
      " 35%|███▍      | 702/2029 [44:07<1:42:17,  4.63s/it]C:\\Users\\Justin\\AppData\\Local\\Temp\\ipykernel_22308\\573511129.py:89: FutureWarning: The frame.append method is deprecated and will be removed from pandas in a future version. Use pandas.concat instead.\n",
      "  results = results.append({\n",
      " 35%|███▍      | 703/2029 [44:09<1:22:47,  3.75s/it]C:\\Users\\Justin\\AppData\\Local\\Temp\\ipykernel_22308\\573511129.py:89: FutureWarning: The frame.append method is deprecated and will be removed from pandas in a future version. Use pandas.concat instead.\n",
      "  results = results.append({\n",
      " 35%|███▍      | 704/2029 [44:11<1:09:08,  3.13s/it]C:\\Users\\Justin\\AppData\\Local\\Temp\\ipykernel_22308\\573511129.py:89: FutureWarning: The frame.append method is deprecated and will be removed from pandas in a future version. Use pandas.concat instead.\n",
      "  results = results.append({\n",
      " 35%|███▍      | 705/2029 [44:17<1:27:50,  3.98s/it]C:\\Users\\Justin\\AppData\\Local\\Temp\\ipykernel_22308\\573511129.py:89: FutureWarning: The frame.append method is deprecated and will be removed from pandas in a future version. Use pandas.concat instead.\n",
      "  results = results.append({\n",
      " 35%|███▍      | 706/2029 [44:27<2:10:38,  5.92s/it]C:\\Users\\Justin\\AppData\\Local\\Temp\\ipykernel_22308\\573511129.py:89: FutureWarning: The frame.append method is deprecated and will be removed from pandas in a future version. Use pandas.concat instead.\n",
      "  results = results.append({\n",
      " 35%|███▍      | 707/2029 [44:30<1:51:14,  5.05s/it]C:\\Users\\Justin\\AppData\\Local\\Temp\\ipykernel_22308\\573511129.py:89: FutureWarning: The frame.append method is deprecated and will be removed from pandas in a future version. Use pandas.concat instead.\n",
      "  results = results.append({\n",
      " 35%|███▍      | 708/2029 [44:32<1:27:20,  3.97s/it]C:\\Users\\Justin\\AppData\\Local\\Temp\\ipykernel_22308\\573511129.py:89: FutureWarning: The frame.append method is deprecated and will be removed from pandas in a future version. Use pandas.concat instead.\n",
      "  results = results.append({\n",
      " 35%|███▍      | 709/2029 [44:36<1:26:23,  3.93s/it]C:\\Users\\Justin\\AppData\\Local\\Temp\\ipykernel_22308\\573511129.py:89: FutureWarning: The frame.append method is deprecated and will be removed from pandas in a future version. Use pandas.concat instead.\n",
      "  results = results.append({\n",
      " 35%|███▍      | 710/2029 [44:38<1:13:56,  3.36s/it]C:\\Users\\Justin\\AppData\\Local\\Temp\\ipykernel_22308\\573511129.py:89: FutureWarning: The frame.append method is deprecated and will be removed from pandas in a future version. Use pandas.concat instead.\n",
      "  results = results.append({\n",
      " 35%|███▌      | 711/2029 [44:39<59:30,  2.71s/it]  C:\\Users\\Justin\\AppData\\Local\\Temp\\ipykernel_22308\\573511129.py:89: FutureWarning: The frame.append method is deprecated and will be removed from pandas in a future version. Use pandas.concat instead.\n",
      "  results = results.append({\n",
      " 35%|███▌      | 712/2029 [44:40<51:41,  2.36s/it]C:\\Users\\Justin\\AppData\\Local\\Temp\\ipykernel_22308\\573511129.py:89: FutureWarning: The frame.append method is deprecated and will be removed from pandas in a future version. Use pandas.concat instead.\n",
      "  results = results.append({\n",
      " 35%|███▌      | 713/2029 [44:42<45:44,  2.09s/it]C:\\Users\\Justin\\AppData\\Local\\Temp\\ipykernel_22308\\573511129.py:89: FutureWarning: The frame.append method is deprecated and will be removed from pandas in a future version. Use pandas.concat instead.\n",
      "  results = results.append({\n",
      " 35%|███▌      | 714/2029 [44:46<56:50,  2.59s/it]C:\\Users\\Justin\\AppData\\Local\\Temp\\ipykernel_22308\\573511129.py:89: FutureWarning: The frame.append method is deprecated and will be removed from pandas in a future version. Use pandas.concat instead.\n",
      "  results = results.append({\n",
      " 35%|███▌      | 715/2029 [44:47<51:30,  2.35s/it]C:\\Users\\Justin\\AppData\\Local\\Temp\\ipykernel_22308\\573511129.py:89: FutureWarning: The frame.append method is deprecated and will be removed from pandas in a future version. Use pandas.concat instead.\n",
      "  results = results.append({\n",
      " 35%|███▌      | 716/2029 [44:49<44:56,  2.05s/it]C:\\Users\\Justin\\AppData\\Local\\Temp\\ipykernel_22308\\573511129.py:89: FutureWarning: The frame.append method is deprecated and will be removed from pandas in a future version. Use pandas.concat instead.\n",
      "  results = results.append({\n",
      " 35%|███▌      | 717/2029 [44:52<54:11,  2.48s/it]C:\\Users\\Justin\\AppData\\Local\\Temp\\ipykernel_22308\\573511129.py:89: FutureWarning: The frame.append method is deprecated and will be removed from pandas in a future version. Use pandas.concat instead.\n",
      "  results = results.append({\n",
      " 35%|███▌      | 718/2029 [44:57<1:08:19,  3.13s/it]C:\\Users\\Justin\\AppData\\Local\\Temp\\ipykernel_22308\\573511129.py:89: FutureWarning: The frame.append method is deprecated and will be removed from pandas in a future version. Use pandas.concat instead.\n",
      "  results = results.append({\n",
      " 35%|███▌      | 719/2029 [44:59<59:34,  2.73s/it]  C:\\Users\\Justin\\AppData\\Local\\Temp\\ipykernel_22308\\573511129.py:89: FutureWarning: The frame.append method is deprecated and will be removed from pandas in a future version. Use pandas.concat instead.\n",
      "  results = results.append({\n",
      " 35%|███▌      | 720/2029 [45:00<51:56,  2.38s/it]C:\\Users\\Justin\\AppData\\Local\\Temp\\ipykernel_22308\\573511129.py:89: FutureWarning: The frame.append method is deprecated and will be removed from pandas in a future version. Use pandas.concat instead.\n",
      "  results = results.append({\n",
      " 36%|███▌      | 721/2029 [45:01<42:15,  1.94s/it]C:\\Users\\Justin\\AppData\\Local\\Temp\\ipykernel_22308\\573511129.py:89: FutureWarning: The frame.append method is deprecated and will be removed from pandas in a future version. Use pandas.concat instead.\n",
      "  results = results.append({\n",
      " 36%|███▌      | 723/2029 [45:08<58:59,  2.71s/it]"
     ]
    },
    {
     "name": "stdout",
     "output_type": "stream",
     "text": [
      "Error occurred: 'NoneType' object has no attribute 'text'\n"
     ]
    },
    {
     "name": "stderr",
     "output_type": "stream",
     "text": [
      "C:\\Users\\Justin\\AppData\\Local\\Temp\\ipykernel_22308\\573511129.py:89: FutureWarning: The frame.append method is deprecated and will be removed from pandas in a future version. Use pandas.concat instead.\n",
      "  results = results.append({\n",
      " 36%|███▌      | 724/2029 [45:10<52:03,  2.39s/it]C:\\Users\\Justin\\AppData\\Local\\Temp\\ipykernel_22308\\573511129.py:89: FutureWarning: The frame.append method is deprecated and will be removed from pandas in a future version. Use pandas.concat instead.\n",
      "  results = results.append({\n",
      " 36%|███▌      | 726/2029 [45:16<59:19,  2.73s/it]"
     ]
    },
    {
     "name": "stdout",
     "output_type": "stream",
     "text": [
      "Error occurred: 'NoneType' object has no attribute 'text'\n"
     ]
    },
    {
     "name": "stderr",
     "output_type": "stream",
     "text": [
      "C:\\Users\\Justin\\AppData\\Local\\Temp\\ipykernel_22308\\573511129.py:89: FutureWarning: The frame.append method is deprecated and will be removed from pandas in a future version. Use pandas.concat instead.\n",
      "  results = results.append({\n",
      " 36%|███▌      | 727/2029 [45:17<49:58,  2.30s/it]C:\\Users\\Justin\\AppData\\Local\\Temp\\ipykernel_22308\\573511129.py:89: FutureWarning: The frame.append method is deprecated and will be removed from pandas in a future version. Use pandas.concat instead.\n",
      "  results = results.append({\n",
      " 36%|███▌      | 728/2029 [45:19<46:44,  2.16s/it]C:\\Users\\Justin\\AppData\\Local\\Temp\\ipykernel_22308\\573511129.py:89: FutureWarning: The frame.append method is deprecated and will be removed from pandas in a future version. Use pandas.concat instead.\n",
      "  results = results.append({\n",
      " 36%|███▌      | 729/2029 [45:20<41:03,  1.90s/it]C:\\Users\\Justin\\AppData\\Local\\Temp\\ipykernel_22308\\573511129.py:89: FutureWarning: The frame.append method is deprecated and will be removed from pandas in a future version. Use pandas.concat instead.\n",
      "  results = results.append({\n",
      " 36%|███▌      | 730/2029 [45:21<33:22,  1.54s/it]C:\\Users\\Justin\\AppData\\Local\\Temp\\ipykernel_22308\\573511129.py:89: FutureWarning: The frame.append method is deprecated and will be removed from pandas in a future version. Use pandas.concat instead.\n",
      "  results = results.append({\n",
      " 36%|███▌      | 731/2029 [45:27<1:02:06,  2.87s/it]C:\\Users\\Justin\\AppData\\Local\\Temp\\ipykernel_22308\\573511129.py:89: FutureWarning: The frame.append method is deprecated and will be removed from pandas in a future version. Use pandas.concat instead.\n",
      "  results = results.append({\n",
      " 36%|███▌      | 733/2029 [45:39<1:29:28,  4.14s/it]"
     ]
    },
    {
     "name": "stdout",
     "output_type": "stream",
     "text": [
      "Error occurred: 'NoneType' object has no attribute 'text'\n"
     ]
    },
    {
     "name": "stderr",
     "output_type": "stream",
     "text": [
      "C:\\Users\\Justin\\AppData\\Local\\Temp\\ipykernel_22308\\573511129.py:89: FutureWarning: The frame.append method is deprecated and will be removed from pandas in a future version. Use pandas.concat instead.\n",
      "  results = results.append({\n",
      " 36%|███▌      | 734/2029 [45:40<1:11:47,  3.33s/it]C:\\Users\\Justin\\AppData\\Local\\Temp\\ipykernel_22308\\573511129.py:89: FutureWarning: The frame.append method is deprecated and will be removed from pandas in a future version. Use pandas.concat instead.\n",
      "  results = results.append({\n",
      " 36%|███▌      | 735/2029 [45:47<1:31:18,  4.23s/it]C:\\Users\\Justin\\AppData\\Local\\Temp\\ipykernel_22308\\573511129.py:89: FutureWarning: The frame.append method is deprecated and will be removed from pandas in a future version. Use pandas.concat instead.\n",
      "  results = results.append({\n",
      " 36%|███▋      | 736/2029 [45:49<1:21:48,  3.80s/it]C:\\Users\\Justin\\AppData\\Local\\Temp\\ipykernel_22308\\573511129.py:89: FutureWarning: The frame.append method is deprecated and will be removed from pandas in a future version. Use pandas.concat instead.\n",
      "  results = results.append({\n",
      " 36%|███▋      | 737/2029 [45:51<1:05:53,  3.06s/it]C:\\Users\\Justin\\AppData\\Local\\Temp\\ipykernel_22308\\573511129.py:89: FutureWarning: The frame.append method is deprecated and will be removed from pandas in a future version. Use pandas.concat instead.\n",
      "  results = results.append({\n",
      " 36%|███▋      | 738/2029 [45:57<1:26:52,  4.04s/it]C:\\Users\\Justin\\AppData\\Local\\Temp\\ipykernel_22308\\573511129.py:89: FutureWarning: The frame.append method is deprecated and will be removed from pandas in a future version. Use pandas.concat instead.\n",
      "  results = results.append({\n",
      " 36%|███▋      | 739/2029 [45:59<1:13:10,  3.40s/it]C:\\Users\\Justin\\AppData\\Local\\Temp\\ipykernel_22308\\573511129.py:89: FutureWarning: The frame.append method is deprecated and will be removed from pandas in a future version. Use pandas.concat instead.\n",
      "  results = results.append({\n",
      " 36%|███▋      | 740/2029 [46:07<1:43:30,  4.82s/it]C:\\Users\\Justin\\AppData\\Local\\Temp\\ipykernel_22308\\573511129.py:89: FutureWarning: The frame.append method is deprecated and will be removed from pandas in a future version. Use pandas.concat instead.\n",
      "  results = results.append({\n",
      " 37%|███▋      | 741/2029 [46:09<1:23:39,  3.90s/it]C:\\Users\\Justin\\AppData\\Local\\Temp\\ipykernel_22308\\573511129.py:89: FutureWarning: The frame.append method is deprecated and will be removed from pandas in a future version. Use pandas.concat instead.\n",
      "  results = results.append({\n",
      " 37%|███▋      | 742/2029 [46:10<1:09:02,  3.22s/it]C:\\Users\\Justin\\AppData\\Local\\Temp\\ipykernel_22308\\573511129.py:89: FutureWarning: The frame.append method is deprecated and will be removed from pandas in a future version. Use pandas.concat instead.\n",
      "  results = results.append({\n",
      " 37%|███▋      | 743/2029 [46:16<1:22:44,  3.86s/it]C:\\Users\\Justin\\AppData\\Local\\Temp\\ipykernel_22308\\573511129.py:89: FutureWarning: The frame.append method is deprecated and will be removed from pandas in a future version. Use pandas.concat instead.\n",
      "  results = results.append({\n",
      " 37%|███▋      | 745/2029 [46:19<59:14,  2.77s/it]  "
     ]
    },
    {
     "name": "stdout",
     "output_type": "stream",
     "text": [
      "Error occurred: 'NoneType' object has no attribute 'text'\n"
     ]
    },
    {
     "name": "stderr",
     "output_type": "stream",
     "text": [
      "C:\\Users\\Justin\\AppData\\Local\\Temp\\ipykernel_22308\\573511129.py:89: FutureWarning: The frame.append method is deprecated and will be removed from pandas in a future version. Use pandas.concat instead.\n",
      "  results = results.append({\n",
      " 37%|███▋      | 746/2029 [46:26<1:27:26,  4.09s/it]C:\\Users\\Justin\\AppData\\Local\\Temp\\ipykernel_22308\\573511129.py:89: FutureWarning: The frame.append method is deprecated and will be removed from pandas in a future version. Use pandas.concat instead.\n",
      "  results = results.append({\n",
      " 37%|███▋      | 748/2029 [46:46<2:42:31,  7.61s/it]"
     ]
    },
    {
     "name": "stdout",
     "output_type": "stream",
     "text": [
      "Error occurred: 'NoneType' object has no attribute 'text'\n"
     ]
    },
    {
     "name": "stderr",
     "output_type": "stream",
     "text": [
      "C:\\Users\\Justin\\AppData\\Local\\Temp\\ipykernel_22308\\573511129.py:89: FutureWarning: The frame.append method is deprecated and will be removed from pandas in a future version. Use pandas.concat instead.\n",
      "  results = results.append({\n",
      " 37%|███▋      | 750/2029 [46:56<2:21:25,  6.63s/it]"
     ]
    },
    {
     "name": "stdout",
     "output_type": "stream",
     "text": [
      "Error occurred: 'NoneType' object has no attribute 'text'\n"
     ]
    },
    {
     "name": "stderr",
     "output_type": "stream",
     "text": [
      " 37%|███▋      | 751/2029 [46:57<1:48:56,  5.11s/it]"
     ]
    },
    {
     "name": "stdout",
     "output_type": "stream",
     "text": [
      "Error occurred: 'NoneType' object has no attribute 'text'\n"
     ]
    },
    {
     "name": "stderr",
     "output_type": "stream",
     "text": [
      " 37%|███▋      | 752/2029 [46:59<1:27:35,  4.12s/it]"
     ]
    },
    {
     "name": "stdout",
     "output_type": "stream",
     "text": [
      "Error occurred: 'NoneType' object has no attribute 'text'\n"
     ]
    },
    {
     "name": "stderr",
     "output_type": "stream",
     "text": [
      "C:\\Users\\Justin\\AppData\\Local\\Temp\\ipykernel_22308\\573511129.py:89: FutureWarning: The frame.append method is deprecated and will be removed from pandas in a future version. Use pandas.concat instead.\n",
      "  results = results.append({\n",
      " 37%|███▋      | 754/2029 [47:11<1:40:07,  4.71s/it]"
     ]
    },
    {
     "name": "stdout",
     "output_type": "stream",
     "text": [
      "Error occurred: 'NoneType' object has no attribute 'text'\n"
     ]
    },
    {
     "name": "stderr",
     "output_type": "stream",
     "text": [
      "C:\\Users\\Justin\\AppData\\Local\\Temp\\ipykernel_22308\\573511129.py:89: FutureWarning: The frame.append method is deprecated and will be removed from pandas in a future version. Use pandas.concat instead.\n",
      "  results = results.append({\n",
      " 37%|███▋      | 755/2029 [47:11<1:15:06,  3.54s/it]C:\\Users\\Justin\\AppData\\Local\\Temp\\ipykernel_22308\\573511129.py:89: FutureWarning: The frame.append method is deprecated and will be removed from pandas in a future version. Use pandas.concat instead.\n",
      "  results = results.append({\n",
      " 37%|███▋      | 756/2029 [47:17<1:30:43,  4.28s/it]C:\\Users\\Justin\\AppData\\Local\\Temp\\ipykernel_22308\\573511129.py:89: FutureWarning: The frame.append method is deprecated and will be removed from pandas in a future version. Use pandas.concat instead.\n",
      "  results = results.append({\n",
      " 37%|███▋      | 757/2029 [47:19<1:14:32,  3.52s/it]C:\\Users\\Justin\\AppData\\Local\\Temp\\ipykernel_22308\\573511129.py:89: FutureWarning: The frame.append method is deprecated and will be removed from pandas in a future version. Use pandas.concat instead.\n",
      "  results = results.append({\n",
      " 37%|███▋      | 758/2029 [47:21<1:04:23,  3.04s/it]C:\\Users\\Justin\\AppData\\Local\\Temp\\ipykernel_22308\\573511129.py:89: FutureWarning: The frame.append method is deprecated and will be removed from pandas in a future version. Use pandas.concat instead.\n",
      "  results = results.append({\n",
      " 37%|███▋      | 760/2029 [47:26<58:46,  2.78s/it]  "
     ]
    },
    {
     "name": "stdout",
     "output_type": "stream",
     "text": [
      "Error occurred: 'NoneType' object has no attribute 'text'\n"
     ]
    },
    {
     "name": "stderr",
     "output_type": "stream",
     "text": [
      "C:\\Users\\Justin\\AppData\\Local\\Temp\\ipykernel_22308\\573511129.py:89: FutureWarning: The frame.append method is deprecated and will be removed from pandas in a future version. Use pandas.concat instead.\n",
      "  results = results.append({\n",
      " 38%|███▊      | 761/2029 [47:31<1:14:25,  3.52s/it]C:\\Users\\Justin\\AppData\\Local\\Temp\\ipykernel_22308\\573511129.py:89: FutureWarning: The frame.append method is deprecated and will be removed from pandas in a future version. Use pandas.concat instead.\n",
      "  results = results.append({\n",
      " 38%|███▊      | 762/2029 [47:32<58:36,  2.78s/it]  C:\\Users\\Justin\\AppData\\Local\\Temp\\ipykernel_22308\\573511129.py:89: FutureWarning: The frame.append method is deprecated and will be removed from pandas in a future version. Use pandas.concat instead.\n",
      "  results = results.append({\n",
      " 38%|███▊      | 763/2029 [47:36<1:05:36,  3.11s/it]C:\\Users\\Justin\\AppData\\Local\\Temp\\ipykernel_22308\\573511129.py:89: FutureWarning: The frame.append method is deprecated and will be removed from pandas in a future version. Use pandas.concat instead.\n",
      "  results = results.append({\n",
      " 38%|███▊      | 764/2029 [47:38<1:02:07,  2.95s/it]C:\\Users\\Justin\\AppData\\Local\\Temp\\ipykernel_22308\\573511129.py:89: FutureWarning: The frame.append method is deprecated and will be removed from pandas in a future version. Use pandas.concat instead.\n",
      "  results = results.append({\n",
      " 38%|███▊      | 765/2029 [47:40<55:30,  2.63s/it]  C:\\Users\\Justin\\AppData\\Local\\Temp\\ipykernel_22308\\573511129.py:89: FutureWarning: The frame.append method is deprecated and will be removed from pandas in a future version. Use pandas.concat instead.\n",
      "  results = results.append({\n",
      " 38%|███▊      | 766/2029 [47:41<44:48,  2.13s/it]C:\\Users\\Justin\\AppData\\Local\\Temp\\ipykernel_22308\\573511129.py:89: FutureWarning: The frame.append method is deprecated and will be removed from pandas in a future version. Use pandas.concat instead.\n",
      "  results = results.append({\n",
      " 38%|███▊      | 767/2029 [47:46<59:50,  2.85s/it]C:\\Users\\Justin\\AppData\\Local\\Temp\\ipykernel_22308\\573511129.py:89: FutureWarning: The frame.append method is deprecated and will be removed from pandas in a future version. Use pandas.concat instead.\n",
      "  results = results.append({\n",
      " 38%|███▊      | 768/2029 [47:47<48:06,  2.29s/it]C:\\Users\\Justin\\AppData\\Local\\Temp\\ipykernel_22308\\573511129.py:89: FutureWarning: The frame.append method is deprecated and will be removed from pandas in a future version. Use pandas.concat instead.\n",
      "  results = results.append({\n",
      " 38%|███▊      | 769/2029 [47:49<48:38,  2.32s/it]C:\\Users\\Justin\\AppData\\Local\\Temp\\ipykernel_22308\\573511129.py:89: FutureWarning: The frame.append method is deprecated and will be removed from pandas in a future version. Use pandas.concat instead.\n",
      "  results = results.append({\n",
      " 38%|███▊      | 770/2029 [47:52<52:19,  2.49s/it]C:\\Users\\Justin\\AppData\\Local\\Temp\\ipykernel_22308\\573511129.py:89: FutureWarning: The frame.append method is deprecated and will be removed from pandas in a future version. Use pandas.concat instead.\n",
      "  results = results.append({\n",
      " 38%|███▊      | 771/2029 [47:57<1:10:55,  3.38s/it]C:\\Users\\Justin\\AppData\\Local\\Temp\\ipykernel_22308\\573511129.py:89: FutureWarning: The frame.append method is deprecated and will be removed from pandas in a future version. Use pandas.concat instead.\n",
      "  results = results.append({\n",
      " 38%|███▊      | 773/2029 [48:10<1:53:09,  5.41s/it]"
     ]
    },
    {
     "name": "stdout",
     "output_type": "stream",
     "text": [
      "Error occurred: 'NoneType' object has no attribute 'text'\n"
     ]
    },
    {
     "name": "stderr",
     "output_type": "stream",
     "text": [
      " 38%|███▊      | 774/2029 [48:12<1:29:27,  4.28s/it]"
     ]
    },
    {
     "name": "stdout",
     "output_type": "stream",
     "text": [
      "Error occurred: 'NoneType' object has no attribute 'text'\n"
     ]
    },
    {
     "name": "stderr",
     "output_type": "stream",
     "text": [
      "C:\\Users\\Justin\\AppData\\Local\\Temp\\ipykernel_22308\\573511129.py:89: FutureWarning: The frame.append method is deprecated and will be removed from pandas in a future version. Use pandas.concat instead.\n",
      "  results = results.append({\n",
      " 38%|███▊      | 775/2029 [48:16<1:27:38,  4.19s/it]C:\\Users\\Justin\\AppData\\Local\\Temp\\ipykernel_22308\\573511129.py:89: FutureWarning: The frame.append method is deprecated and will be removed from pandas in a future version. Use pandas.concat instead.\n",
      "  results = results.append({\n",
      " 38%|███▊      | 776/2029 [48:27<2:11:22,  6.29s/it]C:\\Users\\Justin\\AppData\\Local\\Temp\\ipykernel_22308\\573511129.py:89: FutureWarning: The frame.append method is deprecated and will be removed from pandas in a future version. Use pandas.concat instead.\n",
      "  results = results.append({\n",
      " 38%|███▊      | 777/2029 [48:29<1:42:10,  4.90s/it]C:\\Users\\Justin\\AppData\\Local\\Temp\\ipykernel_22308\\573511129.py:89: FutureWarning: The frame.append method is deprecated and will be removed from pandas in a future version. Use pandas.concat instead.\n",
      "  results = results.append({\n",
      " 38%|███▊      | 779/2029 [48:36<1:31:07,  4.37s/it]"
     ]
    },
    {
     "name": "stdout",
     "output_type": "stream",
     "text": [
      "Error occurred: 'NoneType' object has no attribute 'text'\n"
     ]
    },
    {
     "name": "stderr",
     "output_type": "stream",
     "text": [
      "C:\\Users\\Justin\\AppData\\Local\\Temp\\ipykernel_22308\\573511129.py:89: FutureWarning: The frame.append method is deprecated and will be removed from pandas in a future version. Use pandas.concat instead.\n",
      "  results = results.append({\n",
      " 38%|███▊      | 780/2029 [48:37<1:12:23,  3.48s/it]C:\\Users\\Justin\\AppData\\Local\\Temp\\ipykernel_22308\\573511129.py:89: FutureWarning: The frame.append method is deprecated and will be removed from pandas in a future version. Use pandas.concat instead.\n",
      "  results = results.append({\n",
      " 38%|███▊      | 781/2029 [48:39<59:39,  2.87s/it]  C:\\Users\\Justin\\AppData\\Local\\Temp\\ipykernel_22308\\573511129.py:89: FutureWarning: The frame.append method is deprecated and will be removed from pandas in a future version. Use pandas.concat instead.\n",
      "  results = results.append({\n",
      " 39%|███▊      | 782/2029 [48:42<1:01:42,  2.97s/it]C:\\Users\\Justin\\AppData\\Local\\Temp\\ipykernel_22308\\573511129.py:89: FutureWarning: The frame.append method is deprecated and will be removed from pandas in a future version. Use pandas.concat instead.\n",
      "  results = results.append({\n",
      " 39%|███▊      | 783/2029 [48:50<1:33:23,  4.50s/it]C:\\Users\\Justin\\AppData\\Local\\Temp\\ipykernel_22308\\573511129.py:89: FutureWarning: The frame.append method is deprecated and will be removed from pandas in a future version. Use pandas.concat instead.\n",
      "  results = results.append({\n",
      " 39%|███▊      | 784/2029 [48:52<1:17:24,  3.73s/it]C:\\Users\\Justin\\AppData\\Local\\Temp\\ipykernel_22308\\573511129.py:89: FutureWarning: The frame.append method is deprecated and will be removed from pandas in a future version. Use pandas.concat instead.\n",
      "  results = results.append({\n",
      " 39%|███▊      | 785/2029 [48:56<1:19:08,  3.82s/it]C:\\Users\\Justin\\AppData\\Local\\Temp\\ipykernel_22308\\573511129.py:89: FutureWarning: The frame.append method is deprecated and will be removed from pandas in a future version. Use pandas.concat instead.\n",
      "  results = results.append({\n",
      " 39%|███▊      | 786/2029 [48:58<1:09:12,  3.34s/it]C:\\Users\\Justin\\AppData\\Local\\Temp\\ipykernel_22308\\573511129.py:89: FutureWarning: The frame.append method is deprecated and will be removed from pandas in a future version. Use pandas.concat instead.\n",
      "  results = results.append({\n",
      " 39%|███▉      | 788/2029 [49:06<1:21:10,  3.92s/it]"
     ]
    },
    {
     "name": "stdout",
     "output_type": "stream",
     "text": [
      "Error occurred: 'NoneType' object has no attribute 'text'\n"
     ]
    },
    {
     "name": "stderr",
     "output_type": "stream",
     "text": [
      "C:\\Users\\Justin\\AppData\\Local\\Temp\\ipykernel_22308\\573511129.py:89: FutureWarning: The frame.append method is deprecated and will be removed from pandas in a future version. Use pandas.concat instead.\n",
      "  results = results.append({\n",
      " 39%|███▉      | 789/2029 [49:08<1:08:44,  3.33s/it]C:\\Users\\Justin\\AppData\\Local\\Temp\\ipykernel_22308\\573511129.py:89: FutureWarning: The frame.append method is deprecated and will be removed from pandas in a future version. Use pandas.concat instead.\n",
      "  results = results.append({\n",
      " 39%|███▉      | 790/2029 [49:09<54:25,  2.64s/it]  C:\\Users\\Justin\\AppData\\Local\\Temp\\ipykernel_22308\\573511129.py:89: FutureWarning: The frame.append method is deprecated and will be removed from pandas in a future version. Use pandas.concat instead.\n",
      "  results = results.append({\n",
      " 39%|███▉      | 791/2029 [49:11<50:51,  2.46s/it]C:\\Users\\Justin\\AppData\\Local\\Temp\\ipykernel_22308\\573511129.py:89: FutureWarning: The frame.append method is deprecated and will be removed from pandas in a future version. Use pandas.concat instead.\n",
      "  results = results.append({\n",
      " 39%|███▉      | 792/2029 [49:12<40:50,  1.98s/it]C:\\Users\\Justin\\AppData\\Local\\Temp\\ipykernel_22308\\573511129.py:89: FutureWarning: The frame.append method is deprecated and will be removed from pandas in a future version. Use pandas.concat instead.\n",
      "  results = results.append({\n",
      " 39%|███▉      | 793/2029 [49:17<56:48,  2.76s/it]C:\\Users\\Justin\\AppData\\Local\\Temp\\ipykernel_22308\\573511129.py:89: FutureWarning: The frame.append method is deprecated and will be removed from pandas in a future version. Use pandas.concat instead.\n",
      "  results = results.append({\n",
      " 39%|███▉      | 795/2029 [49:26<1:15:27,  3.67s/it]"
     ]
    },
    {
     "name": "stdout",
     "output_type": "stream",
     "text": [
      "Error occurred: 'NoneType' object has no attribute 'text'\n"
     ]
    },
    {
     "name": "stderr",
     "output_type": "stream",
     "text": [
      "C:\\Users\\Justin\\AppData\\Local\\Temp\\ipykernel_22308\\573511129.py:89: FutureWarning: The frame.append method is deprecated and will be removed from pandas in a future version. Use pandas.concat instead.\n",
      "  results = results.append({\n",
      " 39%|███▉      | 797/2029 [49:29<54:01,  2.63s/it]  "
     ]
    },
    {
     "name": "stdout",
     "output_type": "stream",
     "text": [
      "Error occurred: 'NoneType' object has no attribute 'text'\n"
     ]
    },
    {
     "name": "stderr",
     "output_type": "stream",
     "text": [
      "C:\\Users\\Justin\\AppData\\Local\\Temp\\ipykernel_22308\\573511129.py:89: FutureWarning: The frame.append method is deprecated and will be removed from pandas in a future version. Use pandas.concat instead.\n",
      "  results = results.append({\n",
      " 39%|███▉      | 798/2029 [49:31<52:19,  2.55s/it]C:\\Users\\Justin\\AppData\\Local\\Temp\\ipykernel_22308\\573511129.py:89: FutureWarning: The frame.append method is deprecated and will be removed from pandas in a future version. Use pandas.concat instead.\n",
      "  results = results.append({\n",
      " 39%|███▉      | 799/2029 [49:37<1:11:43,  3.50s/it]C:\\Users\\Justin\\AppData\\Local\\Temp\\ipykernel_22308\\573511129.py:89: FutureWarning: The frame.append method is deprecated and will be removed from pandas in a future version. Use pandas.concat instead.\n",
      "  results = results.append({\n",
      " 39%|███▉      | 800/2029 [49:41<1:11:38,  3.50s/it]"
     ]
    },
    {
     "name": "stdout",
     "output_type": "stream",
     "text": [
      "Error occurred: Cannot save file into a non-existent directory: 'TEMP\\NCAA_Partial'\n"
     ]
    },
    {
     "name": "stderr",
     "output_type": "stream",
     "text": [
      "C:\\Users\\Justin\\AppData\\Local\\Temp\\ipykernel_22308\\573511129.py:89: FutureWarning: The frame.append method is deprecated and will be removed from pandas in a future version. Use pandas.concat instead.\n",
      "  results = results.append({\n",
      " 39%|███▉      | 801/2029 [49:42<57:27,  2.81s/it]  C:\\Users\\Justin\\AppData\\Local\\Temp\\ipykernel_22308\\573511129.py:89: FutureWarning: The frame.append method is deprecated and will be removed from pandas in a future version. Use pandas.concat instead.\n",
      "  results = results.append({\n",
      " 40%|███▉      | 802/2029 [49:47<1:12:02,  3.52s/it]C:\\Users\\Justin\\AppData\\Local\\Temp\\ipykernel_22308\\573511129.py:89: FutureWarning: The frame.append method is deprecated and will be removed from pandas in a future version. Use pandas.concat instead.\n",
      "  results = results.append({\n",
      " 40%|███▉      | 804/2029 [50:09<2:38:26,  7.76s/it]"
     ]
    },
    {
     "name": "stdout",
     "output_type": "stream",
     "text": [
      "Error occurred: 'NoneType' object has no attribute 'text'\n"
     ]
    },
    {
     "name": "stderr",
     "output_type": "stream",
     "text": [
      "C:\\Users\\Justin\\AppData\\Local\\Temp\\ipykernel_22308\\573511129.py:89: FutureWarning: The frame.append method is deprecated and will be removed from pandas in a future version. Use pandas.concat instead.\n",
      "  results = results.append({\n",
      " 40%|███▉      | 805/2029 [50:10<1:59:50,  5.87s/it]C:\\Users\\Justin\\AppData\\Local\\Temp\\ipykernel_22308\\573511129.py:89: FutureWarning: The frame.append method is deprecated and will be removed from pandas in a future version. Use pandas.concat instead.\n",
      "  results = results.append({\n",
      " 40%|███▉      | 806/2029 [50:11<1:30:56,  4.46s/it]C:\\Users\\Justin\\AppData\\Local\\Temp\\ipykernel_22308\\573511129.py:89: FutureWarning: The frame.append method is deprecated and will be removed from pandas in a future version. Use pandas.concat instead.\n",
      "  results = results.append({\n",
      " 40%|███▉      | 807/2029 [50:22<2:09:55,  6.38s/it]C:\\Users\\Justin\\AppData\\Local\\Temp\\ipykernel_22308\\573511129.py:89: FutureWarning: The frame.append method is deprecated and will be removed from pandas in a future version. Use pandas.concat instead.\n",
      "  results = results.append({\n",
      " 40%|███▉      | 808/2029 [50:26<1:54:27,  5.62s/it]C:\\Users\\Justin\\AppData\\Local\\Temp\\ipykernel_22308\\573511129.py:89: FutureWarning: The frame.append method is deprecated and will be removed from pandas in a future version. Use pandas.concat instead.\n",
      "  results = results.append({\n",
      " 40%|███▉      | 809/2029 [50:29<1:36:33,  4.75s/it]C:\\Users\\Justin\\AppData\\Local\\Temp\\ipykernel_22308\\573511129.py:89: FutureWarning: The frame.append method is deprecated and will be removed from pandas in a future version. Use pandas.concat instead.\n",
      "  results = results.append({\n",
      " 40%|███▉      | 810/2029 [50:30<1:14:38,  3.67s/it]C:\\Users\\Justin\\AppData\\Local\\Temp\\ipykernel_22308\\573511129.py:89: FutureWarning: The frame.append method is deprecated and will be removed from pandas in a future version. Use pandas.concat instead.\n",
      "  results = results.append({\n",
      " 40%|███▉      | 811/2029 [50:36<1:28:54,  4.38s/it]C:\\Users\\Justin\\AppData\\Local\\Temp\\ipykernel_22308\\573511129.py:89: FutureWarning: The frame.append method is deprecated and will be removed from pandas in a future version. Use pandas.concat instead.\n",
      "  results = results.append({\n",
      " 40%|████      | 812/2029 [50:37<1:12:12,  3.56s/it]C:\\Users\\Justin\\AppData\\Local\\Temp\\ipykernel_22308\\573511129.py:89: FutureWarning: The frame.append method is deprecated and will be removed from pandas in a future version. Use pandas.concat instead.\n",
      "  results = results.append({\n",
      " 40%|████      | 813/2029 [50:57<2:50:42,  8.42s/it]C:\\Users\\Justin\\AppData\\Local\\Temp\\ipykernel_22308\\573511129.py:89: FutureWarning: The frame.append method is deprecated and will be removed from pandas in a future version. Use pandas.concat instead.\n",
      "  results = results.append({\n",
      " 40%|████      | 814/2029 [51:00<2:16:45,  6.75s/it]C:\\Users\\Justin\\AppData\\Local\\Temp\\ipykernel_22308\\573511129.py:89: FutureWarning: The frame.append method is deprecated and will be removed from pandas in a future version. Use pandas.concat instead.\n",
      "  results = results.append({\n",
      " 40%|████      | 815/2029 [51:02<1:46:34,  5.27s/it]C:\\Users\\Justin\\AppData\\Local\\Temp\\ipykernel_22308\\573511129.py:89: FutureWarning: The frame.append method is deprecated and will be removed from pandas in a future version. Use pandas.concat instead.\n",
      "  results = results.append({\n",
      " 40%|████      | 816/2029 [51:06<1:39:25,  4.92s/it]C:\\Users\\Justin\\AppData\\Local\\Temp\\ipykernel_22308\\573511129.py:89: FutureWarning: The frame.append method is deprecated and will be removed from pandas in a future version. Use pandas.concat instead.\n",
      "  results = results.append({\n",
      " 40%|████      | 817/2029 [51:08<1:23:57,  4.16s/it]C:\\Users\\Justin\\AppData\\Local\\Temp\\ipykernel_22308\\573511129.py:89: FutureWarning: The frame.append method is deprecated and will be removed from pandas in a future version. Use pandas.concat instead.\n",
      "  results = results.append({\n",
      " 40%|████      | 818/2029 [51:10<1:07:39,  3.35s/it]C:\\Users\\Justin\\AppData\\Local\\Temp\\ipykernel_22308\\573511129.py:89: FutureWarning: The frame.append method is deprecated and will be removed from pandas in a future version. Use pandas.concat instead.\n",
      "  results = results.append({\n",
      " 40%|████      | 819/2029 [51:11<52:11,  2.59s/it]  C:\\Users\\Justin\\AppData\\Local\\Temp\\ipykernel_22308\\573511129.py:89: FutureWarning: The frame.append method is deprecated and will be removed from pandas in a future version. Use pandas.concat instead.\n",
      "  results = results.append({\n",
      " 40%|████      | 821/2029 [51:16<53:18,  2.65s/it]"
     ]
    },
    {
     "name": "stdout",
     "output_type": "stream",
     "text": [
      "Error occurred: 'NoneType' object has no attribute 'text'\n"
     ]
    },
    {
     "name": "stderr",
     "output_type": "stream",
     "text": [
      "C:\\Users\\Justin\\AppData\\Local\\Temp\\ipykernel_22308\\573511129.py:89: FutureWarning: The frame.append method is deprecated and will be removed from pandas in a future version. Use pandas.concat instead.\n",
      "  results = results.append({\n",
      " 41%|████      | 823/2029 [51:20<47:53,  2.38s/it]"
     ]
    },
    {
     "name": "stdout",
     "output_type": "stream",
     "text": [
      "Error occurred: 'NoneType' object has no attribute 'text'\n"
     ]
    },
    {
     "name": "stderr",
     "output_type": "stream",
     "text": [
      " 41%|████      | 824/2029 [51:22<42:19,  2.11s/it]"
     ]
    },
    {
     "name": "stdout",
     "output_type": "stream",
     "text": [
      "Error occurred: 'NoneType' object has no attribute 'text'\n"
     ]
    },
    {
     "name": "stderr",
     "output_type": "stream",
     "text": [
      "C:\\Users\\Justin\\AppData\\Local\\Temp\\ipykernel_22308\\573511129.py:89: FutureWarning: The frame.append method is deprecated and will be removed from pandas in a future version. Use pandas.concat instead.\n",
      "  results = results.append({\n",
      " 41%|████      | 826/2029 [51:47<2:41:05,  8.03s/it]"
     ]
    },
    {
     "name": "stdout",
     "output_type": "stream",
     "text": [
      "Error occurred: 'NoneType' object has no attribute 'text'\n"
     ]
    },
    {
     "name": "stderr",
     "output_type": "stream",
     "text": [
      "C:\\Users\\Justin\\AppData\\Local\\Temp\\ipykernel_22308\\573511129.py:89: FutureWarning: The frame.append method is deprecated and will be removed from pandas in a future version. Use pandas.concat instead.\n",
      "  results = results.append({\n",
      " 41%|████      | 827/2029 [51:48<2:01:09,  6.05s/it]C:\\Users\\Justin\\AppData\\Local\\Temp\\ipykernel_22308\\573511129.py:89: FutureWarning: The frame.append method is deprecated and will be removed from pandas in a future version. Use pandas.concat instead.\n",
      "  results = results.append({\n",
      " 41%|████      | 828/2029 [51:50<1:37:26,  4.87s/it]C:\\Users\\Justin\\AppData\\Local\\Temp\\ipykernel_22308\\573511129.py:89: FutureWarning: The frame.append method is deprecated and will be removed from pandas in a future version. Use pandas.concat instead.\n",
      "  results = results.append({\n",
      " 41%|████      | 829/2029 [51:56<1:44:04,  5.20s/it]C:\\Users\\Justin\\AppData\\Local\\Temp\\ipykernel_22308\\573511129.py:89: FutureWarning: The frame.append method is deprecated and will be removed from pandas in a future version. Use pandas.concat instead.\n",
      "  results = results.append({\n",
      " 41%|████      | 830/2029 [51:59<1:30:02,  4.51s/it]C:\\Users\\Justin\\AppData\\Local\\Temp\\ipykernel_22308\\573511129.py:89: FutureWarning: The frame.append method is deprecated and will be removed from pandas in a future version. Use pandas.concat instead.\n",
      "  results = results.append({\n",
      " 41%|████      | 832/2029 [52:29<2:51:25,  8.59s/it]"
     ]
    },
    {
     "name": "stdout",
     "output_type": "stream",
     "text": [
      "Error occurred: 'NoneType' object has no attribute 'text'\n"
     ]
    },
    {
     "name": "stderr",
     "output_type": "stream",
     "text": [
      "C:\\Users\\Justin\\AppData\\Local\\Temp\\ipykernel_22308\\573511129.py:89: FutureWarning: The frame.append method is deprecated and will be removed from pandas in a future version. Use pandas.concat instead.\n",
      "  results = results.append({\n",
      " 41%|████      | 833/2029 [52:31<2:12:56,  6.67s/it]C:\\Users\\Justin\\AppData\\Local\\Temp\\ipykernel_22308\\573511129.py:89: FutureWarning: The frame.append method is deprecated and will be removed from pandas in a future version. Use pandas.concat instead.\n",
      "  results = results.append({\n",
      " 41%|████      | 834/2029 [52:37<2:09:16,  6.49s/it]C:\\Users\\Justin\\AppData\\Local\\Temp\\ipykernel_22308\\573511129.py:89: FutureWarning: The frame.append method is deprecated and will be removed from pandas in a future version. Use pandas.concat instead.\n",
      "  results = results.append({\n",
      " 41%|████      | 835/2029 [52:38<1:38:42,  4.96s/it]C:\\Users\\Justin\\AppData\\Local\\Temp\\ipykernel_22308\\573511129.py:89: FutureWarning: The frame.append method is deprecated and will be removed from pandas in a future version. Use pandas.concat instead.\n",
      "  results = results.append({\n",
      " 41%|████▏     | 837/2029 [52:42<1:04:21,  3.24s/it]"
     ]
    },
    {
     "name": "stdout",
     "output_type": "stream",
     "text": [
      "Error occurred: 'NoneType' object has no attribute 'text'\n"
     ]
    },
    {
     "name": "stderr",
     "output_type": "stream",
     "text": [
      "C:\\Users\\Justin\\AppData\\Local\\Temp\\ipykernel_22308\\573511129.py:89: FutureWarning: The frame.append method is deprecated and will be removed from pandas in a future version. Use pandas.concat instead.\n",
      "  results = results.append({\n",
      " 41%|████▏     | 838/2029 [52:46<1:13:30,  3.70s/it]C:\\Users\\Justin\\AppData\\Local\\Temp\\ipykernel_22308\\573511129.py:89: FutureWarning: The frame.append method is deprecated and will be removed from pandas in a future version. Use pandas.concat instead.\n",
      "  results = results.append({\n",
      " 41%|████▏     | 839/2029 [52:48<1:01:32,  3.10s/it]C:\\Users\\Justin\\AppData\\Local\\Temp\\ipykernel_22308\\573511129.py:89: FutureWarning: The frame.append method is deprecated and will be removed from pandas in a future version. Use pandas.concat instead.\n",
      "  results = results.append({\n",
      " 41%|████▏     | 840/2029 [52:50<55:57,  2.82s/it]  C:\\Users\\Justin\\AppData\\Local\\Temp\\ipykernel_22308\\573511129.py:89: FutureWarning: The frame.append method is deprecated and will be removed from pandas in a future version. Use pandas.concat instead.\n",
      "  results = results.append({\n",
      " 41%|████▏     | 841/2029 [52:52<47:54,  2.42s/it]C:\\Users\\Justin\\AppData\\Local\\Temp\\ipykernel_22308\\573511129.py:89: FutureWarning: The frame.append method is deprecated and will be removed from pandas in a future version. Use pandas.concat instead.\n",
      "  results = results.append({\n",
      " 41%|████▏     | 842/2029 [52:57<1:06:25,  3.36s/it]C:\\Users\\Justin\\AppData\\Local\\Temp\\ipykernel_22308\\573511129.py:89: FutureWarning: The frame.append method is deprecated and will be removed from pandas in a future version. Use pandas.concat instead.\n",
      "  results = results.append({\n",
      " 42%|████▏     | 843/2029 [52:59<59:14,  3.00s/it]  C:\\Users\\Justin\\AppData\\Local\\Temp\\ipykernel_22308\\573511129.py:89: FutureWarning: The frame.append method is deprecated and will be removed from pandas in a future version. Use pandas.concat instead.\n",
      "  results = results.append({\n",
      " 42%|████▏     | 844/2029 [53:12<1:53:40,  5.76s/it]C:\\Users\\Justin\\AppData\\Local\\Temp\\ipykernel_22308\\573511129.py:89: FutureWarning: The frame.append method is deprecated and will be removed from pandas in a future version. Use pandas.concat instead.\n",
      "  results = results.append({\n",
      " 42%|████▏     | 845/2029 [53:17<1:53:24,  5.75s/it]C:\\Users\\Justin\\AppData\\Local\\Temp\\ipykernel_22308\\573511129.py:89: FutureWarning: The frame.append method is deprecated and will be removed from pandas in a future version. Use pandas.concat instead.\n",
      "  results = results.append({\n",
      " 42%|████▏     | 846/2029 [53:19<1:27:06,  4.42s/it]C:\\Users\\Justin\\AppData\\Local\\Temp\\ipykernel_22308\\573511129.py:89: FutureWarning: The frame.append method is deprecated and will be removed from pandas in a future version. Use pandas.concat instead.\n",
      "  results = results.append({\n",
      " 42%|████▏     | 847/2029 [53:28<1:54:23,  5.81s/it]C:\\Users\\Justin\\AppData\\Local\\Temp\\ipykernel_22308\\573511129.py:89: FutureWarning: The frame.append method is deprecated and will be removed from pandas in a future version. Use pandas.concat instead.\n",
      "  results = results.append({\n",
      " 42%|████▏     | 848/2029 [53:36<2:09:32,  6.58s/it]C:\\Users\\Justin\\AppData\\Local\\Temp\\ipykernel_22308\\573511129.py:89: FutureWarning: The frame.append method is deprecated and will be removed from pandas in a future version. Use pandas.concat instead.\n",
      "  results = results.append({\n",
      " 42%|████▏     | 849/2029 [53:38<1:44:25,  5.31s/it]C:\\Users\\Justin\\AppData\\Local\\Temp\\ipykernel_22308\\573511129.py:89: FutureWarning: The frame.append method is deprecated and will be removed from pandas in a future version. Use pandas.concat instead.\n",
      "  results = results.append({\n",
      " 42%|████▏     | 850/2029 [53:40<1:23:53,  4.27s/it]"
     ]
    },
    {
     "name": "stdout",
     "output_type": "stream",
     "text": [
      "Error occurred: Cannot save file into a non-existent directory: 'TEMP\\NCAA_Partial'\n"
     ]
    },
    {
     "name": "stderr",
     "output_type": "stream",
     "text": [
      "C:\\Users\\Justin\\AppData\\Local\\Temp\\ipykernel_22308\\573511129.py:89: FutureWarning: The frame.append method is deprecated and will be removed from pandas in a future version. Use pandas.concat instead.\n",
      "  results = results.append({\n",
      " 42%|████▏     | 851/2029 [53:46<1:32:40,  4.72s/it]C:\\Users\\Justin\\AppData\\Local\\Temp\\ipykernel_22308\\573511129.py:89: FutureWarning: The frame.append method is deprecated and will be removed from pandas in a future version. Use pandas.concat instead.\n",
      "  results = results.append({\n",
      " 42%|████▏     | 852/2029 [53:47<1:11:57,  3.67s/it]C:\\Users\\Justin\\AppData\\Local\\Temp\\ipykernel_22308\\573511129.py:89: FutureWarning: The frame.append method is deprecated and will be removed from pandas in a future version. Use pandas.concat instead.\n",
      "  results = results.append({\n",
      " 42%|████▏     | 853/2029 [53:52<1:18:39,  4.01s/it]C:\\Users\\Justin\\AppData\\Local\\Temp\\ipykernel_22308\\573511129.py:89: FutureWarning: The frame.append method is deprecated and will be removed from pandas in a future version. Use pandas.concat instead.\n",
      "  results = results.append({\n",
      " 42%|████▏     | 855/2029 [54:02<1:26:38,  4.43s/it]"
     ]
    },
    {
     "name": "stdout",
     "output_type": "stream",
     "text": [
      "Error occurred: 'NoneType' object has no attribute 'text'\n"
     ]
    },
    {
     "name": "stderr",
     "output_type": "stream",
     "text": [
      " 42%|████▏     | 856/2029 [54:19<2:43:57,  8.39s/it]"
     ]
    },
    {
     "name": "stdout",
     "output_type": "stream",
     "text": [
      "Error occurred: 'NoneType' object has no attribute 'text'\n"
     ]
    },
    {
     "name": "stderr",
     "output_type": "stream",
     "text": [
      "C:\\Users\\Justin\\AppData\\Local\\Temp\\ipykernel_22308\\573511129.py:89: FutureWarning: The frame.append method is deprecated and will be removed from pandas in a future version. Use pandas.concat instead.\n",
      "  results = results.append({\n",
      " 42%|████▏     | 858/2029 [54:22<1:34:22,  4.84s/it]"
     ]
    },
    {
     "name": "stdout",
     "output_type": "stream",
     "text": [
      "Error occurred: 'NoneType' object has no attribute 'text'\n"
     ]
    },
    {
     "name": "stderr",
     "output_type": "stream",
     "text": [
      "C:\\Users\\Justin\\AppData\\Local\\Temp\\ipykernel_22308\\573511129.py:89: FutureWarning: The frame.append method is deprecated and will be removed from pandas in a future version. Use pandas.concat instead.\n",
      "  results = results.append({\n",
      " 42%|████▏     | 859/2029 [54:27<1:32:18,  4.73s/it]C:\\Users\\Justin\\AppData\\Local\\Temp\\ipykernel_22308\\573511129.py:89: FutureWarning: The frame.append method is deprecated and will be removed from pandas in a future version. Use pandas.concat instead.\n",
      "  results = results.append({\n",
      " 42%|████▏     | 860/2029 [54:32<1:36:27,  4.95s/it]C:\\Users\\Justin\\AppData\\Local\\Temp\\ipykernel_22308\\573511129.py:89: FutureWarning: The frame.append method is deprecated and will be removed from pandas in a future version. Use pandas.concat instead.\n",
      "  results = results.append({\n",
      " 42%|████▏     | 861/2029 [54:36<1:31:00,  4.68s/it]C:\\Users\\Justin\\AppData\\Local\\Temp\\ipykernel_22308\\573511129.py:89: FutureWarning: The frame.append method is deprecated and will be removed from pandas in a future version. Use pandas.concat instead.\n",
      "  results = results.append({\n",
      " 42%|████▏     | 862/2029 [54:38<1:15:58,  3.91s/it]C:\\Users\\Justin\\AppData\\Local\\Temp\\ipykernel_22308\\573511129.py:89: FutureWarning: The frame.append method is deprecated and will be removed from pandas in a future version. Use pandas.concat instead.\n",
      "  results = results.append({\n",
      " 43%|████▎     | 864/2029 [54:42<56:56,  2.93s/it]  "
     ]
    },
    {
     "name": "stdout",
     "output_type": "stream",
     "text": [
      "Error occurred: 'NoneType' object has no attribute 'text'\n"
     ]
    },
    {
     "name": "stderr",
     "output_type": "stream",
     "text": [
      "C:\\Users\\Justin\\AppData\\Local\\Temp\\ipykernel_22308\\573511129.py:89: FutureWarning: The frame.append method is deprecated and will be removed from pandas in a future version. Use pandas.concat instead.\n",
      "  results = results.append({\n",
      " 43%|████▎     | 865/2029 [54:46<1:02:03,  3.20s/it]C:\\Users\\Justin\\AppData\\Local\\Temp\\ipykernel_22308\\573511129.py:89: FutureWarning: The frame.append method is deprecated and will be removed from pandas in a future version. Use pandas.concat instead.\n",
      "  results = results.append({\n",
      " 43%|████▎     | 867/2029 [54:49<43:38,  2.25s/it]  "
     ]
    },
    {
     "name": "stdout",
     "output_type": "stream",
     "text": [
      "Error occurred: 'NoneType' object has no attribute 'text'\n"
     ]
    },
    {
     "name": "stderr",
     "output_type": "stream",
     "text": [
      "C:\\Users\\Justin\\AppData\\Local\\Temp\\ipykernel_22308\\573511129.py:89: FutureWarning: The frame.append method is deprecated and will be removed from pandas in a future version. Use pandas.concat instead.\n",
      "  results = results.append({\n",
      " 43%|████▎     | 868/2029 [54:51<41:50,  2.16s/it]C:\\Users\\Justin\\AppData\\Local\\Temp\\ipykernel_22308\\573511129.py:89: FutureWarning: The frame.append method is deprecated and will be removed from pandas in a future version. Use pandas.concat instead.\n",
      "  results = results.append({\n",
      " 43%|████▎     | 869/2029 [54:52<36:02,  1.86s/it]C:\\Users\\Justin\\AppData\\Local\\Temp\\ipykernel_22308\\573511129.py:89: FutureWarning: The frame.append method is deprecated and will be removed from pandas in a future version. Use pandas.concat instead.\n",
      "  results = results.append({\n",
      " 43%|████▎     | 870/2029 [54:56<47:18,  2.45s/it]C:\\Users\\Justin\\AppData\\Local\\Temp\\ipykernel_22308\\573511129.py:89: FutureWarning: The frame.append method is deprecated and will be removed from pandas in a future version. Use pandas.concat instead.\n",
      "  results = results.append({\n",
      " 43%|████▎     | 871/2029 [54:58<43:14,  2.24s/it]C:\\Users\\Justin\\AppData\\Local\\Temp\\ipykernel_22308\\573511129.py:89: FutureWarning: The frame.append method is deprecated and will be removed from pandas in a future version. Use pandas.concat instead.\n",
      "  results = results.append({\n",
      " 43%|████▎     | 873/2029 [55:02<42:03,  2.18s/it]"
     ]
    },
    {
     "name": "stdout",
     "output_type": "stream",
     "text": [
      "Error occurred: 'NoneType' object has no attribute 'text'\n"
     ]
    },
    {
     "name": "stderr",
     "output_type": "stream",
     "text": [
      "C:\\Users\\Justin\\AppData\\Local\\Temp\\ipykernel_22308\\573511129.py:89: FutureWarning: The frame.append method is deprecated and will be removed from pandas in a future version. Use pandas.concat instead.\n",
      "  results = results.append({\n",
      " 43%|████▎     | 874/2029 [55:06<51:21,  2.67s/it]C:\\Users\\Justin\\AppData\\Local\\Temp\\ipykernel_22308\\573511129.py:89: FutureWarning: The frame.append method is deprecated and will be removed from pandas in a future version. Use pandas.concat instead.\n",
      "  results = results.append({\n",
      " 43%|████▎     | 876/2029 [55:09<41:25,  2.16s/it]"
     ]
    },
    {
     "name": "stdout",
     "output_type": "stream",
     "text": [
      "Error occurred: 'NoneType' object has no attribute 'text'\n"
     ]
    },
    {
     "name": "stderr",
     "output_type": "stream",
     "text": [
      "C:\\Users\\Justin\\AppData\\Local\\Temp\\ipykernel_22308\\573511129.py:89: FutureWarning: The frame.append method is deprecated and will be removed from pandas in a future version. Use pandas.concat instead.\n",
      "  results = results.append({\n",
      " 43%|████▎     | 877/2029 [55:11<36:20,  1.89s/it]C:\\Users\\Justin\\AppData\\Local\\Temp\\ipykernel_22308\\573511129.py:89: FutureWarning: The frame.append method is deprecated and will be removed from pandas in a future version. Use pandas.concat instead.\n",
      "  results = results.append({\n",
      " 43%|████▎     | 878/2029 [55:12<32:46,  1.71s/it]C:\\Users\\Justin\\AppData\\Local\\Temp\\ipykernel_22308\\573511129.py:89: FutureWarning: The frame.append method is deprecated and will be removed from pandas in a future version. Use pandas.concat instead.\n",
      "  results = results.append({\n",
      " 43%|████▎     | 879/2029 [55:16<47:20,  2.47s/it]C:\\Users\\Justin\\AppData\\Local\\Temp\\ipykernel_22308\\573511129.py:89: FutureWarning: The frame.append method is deprecated and will be removed from pandas in a future version. Use pandas.concat instead.\n",
      "  results = results.append({\n",
      " 43%|████▎     | 880/2029 [55:36<2:27:58,  7.73s/it]C:\\Users\\Justin\\AppData\\Local\\Temp\\ipykernel_22308\\573511129.py:89: FutureWarning: The frame.append method is deprecated and will be removed from pandas in a future version. Use pandas.concat instead.\n",
      "  results = results.append({\n",
      " 43%|████▎     | 881/2029 [55:42<2:15:40,  7.09s/it]C:\\Users\\Justin\\AppData\\Local\\Temp\\ipykernel_22308\\573511129.py:89: FutureWarning: The frame.append method is deprecated and will be removed from pandas in a future version. Use pandas.concat instead.\n",
      "  results = results.append({\n",
      " 44%|████▎     | 883/2029 [55:49<1:38:00,  5.13s/it]"
     ]
    },
    {
     "name": "stdout",
     "output_type": "stream",
     "text": [
      "Error occurred: 'NoneType' object has no attribute 'text'\n"
     ]
    },
    {
     "name": "stderr",
     "output_type": "stream",
     "text": [
      "C:\\Users\\Justin\\AppData\\Local\\Temp\\ipykernel_22308\\573511129.py:89: FutureWarning: The frame.append method is deprecated and will be removed from pandas in a future version. Use pandas.concat instead.\n",
      "  results = results.append({\n",
      " 44%|████▎     | 884/2029 [55:50<1:13:59,  3.88s/it]C:\\Users\\Justin\\AppData\\Local\\Temp\\ipykernel_22308\\573511129.py:89: FutureWarning: The frame.append method is deprecated and will be removed from pandas in a future version. Use pandas.concat instead.\n",
      "  results = results.append({\n",
      " 44%|████▎     | 885/2029 [55:51<1:00:37,  3.18s/it]C:\\Users\\Justin\\AppData\\Local\\Temp\\ipykernel_22308\\573511129.py:89: FutureWarning: The frame.append method is deprecated and will be removed from pandas in a future version. Use pandas.concat instead.\n",
      "  results = results.append({\n",
      " 44%|████▎     | 886/2029 [55:57<1:13:57,  3.88s/it]C:\\Users\\Justin\\AppData\\Local\\Temp\\ipykernel_22308\\573511129.py:89: FutureWarning: The frame.append method is deprecated and will be removed from pandas in a future version. Use pandas.concat instead.\n",
      "  results = results.append({\n",
      " 44%|████▎     | 887/2029 [56:02<1:24:35,  4.44s/it]C:\\Users\\Justin\\AppData\\Local\\Temp\\ipykernel_22308\\573511129.py:89: FutureWarning: The frame.append method is deprecated and will be removed from pandas in a future version. Use pandas.concat instead.\n",
      "  results = results.append({\n",
      " 44%|████▍     | 888/2029 [56:07<1:27:13,  4.59s/it]C:\\Users\\Justin\\AppData\\Local\\Temp\\ipykernel_22308\\573511129.py:89: FutureWarning: The frame.append method is deprecated and will be removed from pandas in a future version. Use pandas.concat instead.\n",
      "  results = results.append({\n",
      " 44%|████▍     | 889/2029 [56:09<1:10:17,  3.70s/it]C:\\Users\\Justin\\AppData\\Local\\Temp\\ipykernel_22308\\573511129.py:89: FutureWarning: The frame.append method is deprecated and will be removed from pandas in a future version. Use pandas.concat instead.\n",
      "  results = results.append({\n",
      " 44%|████▍     | 890/2029 [56:11<58:21,  3.07s/it]  C:\\Users\\Justin\\AppData\\Local\\Temp\\ipykernel_22308\\573511129.py:89: FutureWarning: The frame.append method is deprecated and will be removed from pandas in a future version. Use pandas.concat instead.\n",
      "  results = results.append({\n",
      " 44%|████▍     | 891/2029 [56:17<1:18:16,  4.13s/it]C:\\Users\\Justin\\AppData\\Local\\Temp\\ipykernel_22308\\573511129.py:89: FutureWarning: The frame.append method is deprecated and will be removed from pandas in a future version. Use pandas.concat instead.\n",
      "  results = results.append({\n",
      " 44%|████▍     | 892/2029 [56:19<1:05:18,  3.45s/it]C:\\Users\\Justin\\AppData\\Local\\Temp\\ipykernel_22308\\573511129.py:89: FutureWarning: The frame.append method is deprecated and will be removed from pandas in a future version. Use pandas.concat instead.\n",
      "  results = results.append({\n",
      " 44%|████▍     | 893/2029 [56:21<57:43,  3.05s/it]  C:\\Users\\Justin\\AppData\\Local\\Temp\\ipykernel_22308\\573511129.py:89: FutureWarning: The frame.append method is deprecated and will be removed from pandas in a future version. Use pandas.concat instead.\n",
      "  results = results.append({\n",
      " 44%|████▍     | 894/2029 [56:26<1:09:41,  3.68s/it]C:\\Users\\Justin\\AppData\\Local\\Temp\\ipykernel_22308\\573511129.py:89: FutureWarning: The frame.append method is deprecated and will be removed from pandas in a future version. Use pandas.concat instead.\n",
      "  results = results.append({\n",
      " 44%|████▍     | 895/2029 [56:32<1:19:59,  4.23s/it]C:\\Users\\Justin\\AppData\\Local\\Temp\\ipykernel_22308\\573511129.py:89: FutureWarning: The frame.append method is deprecated and will be removed from pandas in a future version. Use pandas.concat instead.\n",
      "  results = results.append({\n",
      " 44%|████▍     | 896/2029 [56:41<1:47:17,  5.68s/it]C:\\Users\\Justin\\AppData\\Local\\Temp\\ipykernel_22308\\573511129.py:89: FutureWarning: The frame.append method is deprecated and will be removed from pandas in a future version. Use pandas.concat instead.\n",
      "  results = results.append({\n",
      " 44%|████▍     | 898/2029 [56:46<1:19:59,  4.24s/it]"
     ]
    },
    {
     "name": "stdout",
     "output_type": "stream",
     "text": [
      "Error occurred: 'NoneType' object has no attribute 'text'\n"
     ]
    },
    {
     "name": "stderr",
     "output_type": "stream",
     "text": [
      "C:\\Users\\Justin\\AppData\\Local\\Temp\\ipykernel_22308\\573511129.py:89: FutureWarning: The frame.append method is deprecated and will be removed from pandas in a future version. Use pandas.concat instead.\n",
      "  results = results.append({\n",
      " 44%|████▍     | 899/2029 [56:47<1:02:35,  3.32s/it]C:\\Users\\Justin\\AppData\\Local\\Temp\\ipykernel_22308\\573511129.py:89: FutureWarning: The frame.append method is deprecated and will be removed from pandas in a future version. Use pandas.concat instead.\n",
      "  results = results.append({\n",
      " 44%|████▍     | 900/2029 [56:49<53:23,  2.84s/it]  "
     ]
    },
    {
     "name": "stdout",
     "output_type": "stream",
     "text": [
      "Error occurred: Cannot save file into a non-existent directory: 'TEMP\\NCAA_Partial'\n"
     ]
    },
    {
     "name": "stderr",
     "output_type": "stream",
     "text": [
      "C:\\Users\\Justin\\AppData\\Local\\Temp\\ipykernel_22308\\573511129.py:89: FutureWarning: The frame.append method is deprecated and will be removed from pandas in a future version. Use pandas.concat instead.\n",
      "  results = results.append({\n",
      " 44%|████▍     | 901/2029 [56:51<48:36,  2.59s/it]C:\\Users\\Justin\\AppData\\Local\\Temp\\ipykernel_22308\\573511129.py:89: FutureWarning: The frame.append method is deprecated and will be removed from pandas in a future version. Use pandas.concat instead.\n",
      "  results = results.append({\n",
      " 44%|████▍     | 902/2029 [56:53<43:16,  2.30s/it]C:\\Users\\Justin\\AppData\\Local\\Temp\\ipykernel_22308\\573511129.py:89: FutureWarning: The frame.append method is deprecated and will be removed from pandas in a future version. Use pandas.concat instead.\n",
      "  results = results.append({\n",
      " 45%|████▍     | 903/2029 [56:58<58:28,  3.12s/it]C:\\Users\\Justin\\AppData\\Local\\Temp\\ipykernel_22308\\573511129.py:89: FutureWarning: The frame.append method is deprecated and will be removed from pandas in a future version. Use pandas.concat instead.\n",
      "  results = results.append({\n",
      " 45%|████▍     | 905/2029 [57:02<47:49,  2.55s/it]"
     ]
    },
    {
     "name": "stdout",
     "output_type": "stream",
     "text": [
      "Error occurred: 'NoneType' object has no attribute 'text'\n"
     ]
    },
    {
     "name": "stderr",
     "output_type": "stream",
     "text": [
      "C:\\Users\\Justin\\AppData\\Local\\Temp\\ipykernel_22308\\573511129.py:89: FutureWarning: The frame.append method is deprecated and will be removed from pandas in a future version. Use pandas.concat instead.\n",
      "  results = results.append({\n",
      " 45%|████▍     | 906/2029 [57:06<59:06,  3.16s/it]C:\\Users\\Justin\\AppData\\Local\\Temp\\ipykernel_22308\\573511129.py:89: FutureWarning: The frame.append method is deprecated and will be removed from pandas in a future version. Use pandas.concat instead.\n",
      "  results = results.append({\n",
      " 45%|████▍     | 907/2029 [57:09<57:00,  3.05s/it]C:\\Users\\Justin\\AppData\\Local\\Temp\\ipykernel_22308\\573511129.py:89: FutureWarning: The frame.append method is deprecated and will be removed from pandas in a future version. Use pandas.concat instead.\n",
      "  results = results.append({\n",
      " 45%|████▍     | 909/2029 [57:18<1:14:20,  3.98s/it]"
     ]
    },
    {
     "name": "stdout",
     "output_type": "stream",
     "text": [
      "Error occurred: 'NoneType' object has no attribute 'text'\n"
     ]
    },
    {
     "name": "stderr",
     "output_type": "stream",
     "text": [
      "C:\\Users\\Justin\\AppData\\Local\\Temp\\ipykernel_22308\\573511129.py:89: FutureWarning: The frame.append method is deprecated and will be removed from pandas in a future version. Use pandas.concat instead.\n",
      "  results = results.append({\n",
      " 45%|████▍     | 910/2029 [57:36<2:34:11,  8.27s/it]C:\\Users\\Justin\\AppData\\Local\\Temp\\ipykernel_22308\\573511129.py:89: FutureWarning: The frame.append method is deprecated and will be removed from pandas in a future version. Use pandas.concat instead.\n",
      "  results = results.append({\n",
      " 45%|████▍     | 911/2029 [57:38<1:57:22,  6.30s/it]C:\\Users\\Justin\\AppData\\Local\\Temp\\ipykernel_22308\\573511129.py:89: FutureWarning: The frame.append method is deprecated and will be removed from pandas in a future version. Use pandas.concat instead.\n",
      "  results = results.append({\n",
      " 45%|████▍     | 912/2029 [57:40<1:34:07,  5.06s/it]C:\\Users\\Justin\\AppData\\Local\\Temp\\ipykernel_22308\\573511129.py:89: FutureWarning: The frame.append method is deprecated and will be removed from pandas in a future version. Use pandas.concat instead.\n",
      "  results = results.append({\n",
      " 45%|████▍     | 913/2029 [57:42<1:14:50,  4.02s/it]C:\\Users\\Justin\\AppData\\Local\\Temp\\ipykernel_22308\\573511129.py:89: FutureWarning: The frame.append method is deprecated and will be removed from pandas in a future version. Use pandas.concat instead.\n",
      "  results = results.append({\n",
      " 45%|████▌     | 914/2029 [57:46<1:16:23,  4.11s/it]C:\\Users\\Justin\\AppData\\Local\\Temp\\ipykernel_22308\\573511129.py:89: FutureWarning: The frame.append method is deprecated and will be removed from pandas in a future version. Use pandas.concat instead.\n",
      "  results = results.append({\n",
      " 45%|████▌     | 915/2029 [57:48<1:05:13,  3.51s/it]C:\\Users\\Justin\\AppData\\Local\\Temp\\ipykernel_22308\\573511129.py:89: FutureWarning: The frame.append method is deprecated and will be removed from pandas in a future version. Use pandas.concat instead.\n",
      "  results = results.append({\n",
      " 45%|████▌     | 917/2029 [58:06<1:56:26,  6.28s/it]"
     ]
    },
    {
     "name": "stdout",
     "output_type": "stream",
     "text": [
      "Error occurred: 'NoneType' object has no attribute 'text'\n"
     ]
    },
    {
     "name": "stderr",
     "output_type": "stream",
     "text": [
      "C:\\Users\\Justin\\AppData\\Local\\Temp\\ipykernel_22308\\573511129.py:89: FutureWarning: The frame.append method is deprecated and will be removed from pandas in a future version. Use pandas.concat instead.\n",
      "  results = results.append({\n",
      " 45%|████▌     | 918/2029 [58:16<2:15:48,  7.33s/it]C:\\Users\\Justin\\AppData\\Local\\Temp\\ipykernel_22308\\573511129.py:89: FutureWarning: The frame.append method is deprecated and will be removed from pandas in a future version. Use pandas.concat instead.\n",
      "  results = results.append({\n",
      " 45%|████▌     | 919/2029 [58:27<2:32:02,  8.22s/it]C:\\Users\\Justin\\AppData\\Local\\Temp\\ipykernel_22308\\573511129.py:89: FutureWarning: The frame.append method is deprecated and will be removed from pandas in a future version. Use pandas.concat instead.\n",
      "  results = results.append({\n",
      " 45%|████▌     | 921/2029 [58:31<1:34:01,  5.09s/it]"
     ]
    },
    {
     "name": "stdout",
     "output_type": "stream",
     "text": [
      "Error occurred: 'NoneType' object has no attribute 'text'\n"
     ]
    },
    {
     "name": "stderr",
     "output_type": "stream",
     "text": [
      "C:\\Users\\Justin\\AppData\\Local\\Temp\\ipykernel_22308\\573511129.py:89: FutureWarning: The frame.append method is deprecated and will be removed from pandas in a future version. Use pandas.concat instead.\n",
      "  results = results.append({\n",
      " 45%|████▌     | 922/2029 [58:32<1:12:22,  3.92s/it]C:\\Users\\Justin\\AppData\\Local\\Temp\\ipykernel_22308\\573511129.py:89: FutureWarning: The frame.append method is deprecated and will be removed from pandas in a future version. Use pandas.concat instead.\n",
      "  results = results.append({\n",
      " 45%|████▌     | 923/2029 [58:48<2:20:48,  7.64s/it]C:\\Users\\Justin\\AppData\\Local\\Temp\\ipykernel_22308\\573511129.py:89: FutureWarning: The frame.append method is deprecated and will be removed from pandas in a future version. Use pandas.concat instead.\n",
      "  results = results.append({\n",
      " 46%|████▌     | 924/2029 [58:49<1:43:24,  5.61s/it]C:\\Users\\Justin\\AppData\\Local\\Temp\\ipykernel_22308\\573511129.py:89: FutureWarning: The frame.append method is deprecated and will be removed from pandas in a future version. Use pandas.concat instead.\n",
      "  results = results.append({\n",
      " 46%|████▌     | 925/2029 [58:51<1:22:51,  4.50s/it]C:\\Users\\Justin\\AppData\\Local\\Temp\\ipykernel_22308\\573511129.py:89: FutureWarning: The frame.append method is deprecated and will be removed from pandas in a future version. Use pandas.concat instead.\n",
      "  results = results.append({\n",
      " 46%|████▌     | 926/2029 [58:53<1:07:27,  3.67s/it]C:\\Users\\Justin\\AppData\\Local\\Temp\\ipykernel_22308\\573511129.py:89: FutureWarning: The frame.append method is deprecated and will be removed from pandas in a future version. Use pandas.concat instead.\n",
      "  results = results.append({\n",
      " 46%|████▌     | 928/2029 [59:00<1:04:57,  3.54s/it]"
     ]
    },
    {
     "name": "stdout",
     "output_type": "stream",
     "text": [
      "Error occurred: 'NoneType' object has no attribute 'text'\n"
     ]
    },
    {
     "name": "stderr",
     "output_type": "stream",
     "text": [
      " 46%|████▌     | 929/2029 [59:02<53:59,  2.95s/it]  "
     ]
    },
    {
     "name": "stdout",
     "output_type": "stream",
     "text": [
      "Error occurred: 'NoneType' object has no attribute 'text'\n"
     ]
    },
    {
     "name": "stderr",
     "output_type": "stream",
     "text": [
      "C:\\Users\\Justin\\AppData\\Local\\Temp\\ipykernel_22308\\573511129.py:89: FutureWarning: The frame.append method is deprecated and will be removed from pandas in a future version. Use pandas.concat instead.\n",
      "  results = results.append({\n",
      " 46%|████▌     | 930/2029 [59:09<1:14:06,  4.05s/it]C:\\Users\\Justin\\AppData\\Local\\Temp\\ipykernel_22308\\573511129.py:89: FutureWarning: The frame.append method is deprecated and will be removed from pandas in a future version. Use pandas.concat instead.\n",
      "  results = results.append({\n",
      " 46%|████▌     | 931/2029 [59:11<1:02:44,  3.43s/it]C:\\Users\\Justin\\AppData\\Local\\Temp\\ipykernel_22308\\573511129.py:89: FutureWarning: The frame.append method is deprecated and will be removed from pandas in a future version. Use pandas.concat instead.\n",
      "  results = results.append({\n",
      " 46%|████▌     | 932/2029 [59:12<51:21,  2.81s/it]  C:\\Users\\Justin\\AppData\\Local\\Temp\\ipykernel_22308\\573511129.py:89: FutureWarning: The frame.append method is deprecated and will be removed from pandas in a future version. Use pandas.concat instead.\n",
      "  results = results.append({\n",
      " 46%|████▌     | 933/2029 [59:16<1:00:29,  3.31s/it]C:\\Users\\Justin\\AppData\\Local\\Temp\\ipykernel_22308\\573511129.py:89: FutureWarning: The frame.append method is deprecated and will be removed from pandas in a future version. Use pandas.concat instead.\n",
      "  results = results.append({\n",
      " 46%|████▌     | 934/2029 [59:18<51:34,  2.83s/it]  C:\\Users\\Justin\\AppData\\Local\\Temp\\ipykernel_22308\\573511129.py:89: FutureWarning: The frame.append method is deprecated and will be removed from pandas in a future version. Use pandas.concat instead.\n",
      "  results = results.append({\n",
      " 46%|████▌     | 935/2029 [59:20<45:33,  2.50s/it]C:\\Users\\Justin\\AppData\\Local\\Temp\\ipykernel_22308\\573511129.py:89: FutureWarning: The frame.append method is deprecated and will be removed from pandas in a future version. Use pandas.concat instead.\n",
      "  results = results.append({\n",
      " 46%|████▌     | 936/2029 [59:23<46:55,  2.58s/it]C:\\Users\\Justin\\AppData\\Local\\Temp\\ipykernel_22308\\573511129.py:89: FutureWarning: The frame.append method is deprecated and will be removed from pandas in a future version. Use pandas.concat instead.\n",
      "  results = results.append({\n",
      " 46%|████▌     | 937/2029 [59:27<55:16,  3.04s/it]C:\\Users\\Justin\\AppData\\Local\\Temp\\ipykernel_22308\\573511129.py:89: FutureWarning: The frame.append method is deprecated and will be removed from pandas in a future version. Use pandas.concat instead.\n",
      "  results = results.append({\n",
      " 46%|████▌     | 938/2029 [59:32<1:06:51,  3.68s/it]C:\\Users\\Justin\\AppData\\Local\\Temp\\ipykernel_22308\\573511129.py:89: FutureWarning: The frame.append method is deprecated and will be removed from pandas in a future version. Use pandas.concat instead.\n",
      "  results = results.append({\n",
      " 46%|████▋     | 939/2029 [59:37<1:12:00,  3.96s/it]C:\\Users\\Justin\\AppData\\Local\\Temp\\ipykernel_22308\\573511129.py:89: FutureWarning: The frame.append method is deprecated and will be removed from pandas in a future version. Use pandas.concat instead.\n",
      "  results = results.append({\n",
      " 46%|████▋     | 941/2029 [59:39<46:32,  2.57s/it]  "
     ]
    },
    {
     "name": "stdout",
     "output_type": "stream",
     "text": [
      "Error occurred: 'NoneType' object has no attribute 'text'\n"
     ]
    },
    {
     "name": "stderr",
     "output_type": "stream",
     "text": [
      "C:\\Users\\Justin\\AppData\\Local\\Temp\\ipykernel_22308\\573511129.py:89: FutureWarning: The frame.append method is deprecated and will be removed from pandas in a future version. Use pandas.concat instead.\n",
      "  results = results.append({\n",
      " 46%|████▋     | 942/2029 [59:41<41:29,  2.29s/it]C:\\Users\\Justin\\AppData\\Local\\Temp\\ipykernel_22308\\573511129.py:89: FutureWarning: The frame.append method is deprecated and will be removed from pandas in a future version. Use pandas.concat instead.\n",
      "  results = results.append({\n",
      " 47%|████▋     | 944/2029 [1:00:02<2:03:26,  6.83s/it]"
     ]
    },
    {
     "name": "stdout",
     "output_type": "stream",
     "text": [
      "Error occurred: 'NoneType' object has no attribute 'text'\n"
     ]
    },
    {
     "name": "stderr",
     "output_type": "stream",
     "text": [
      "C:\\Users\\Justin\\AppData\\Local\\Temp\\ipykernel_22308\\573511129.py:89: FutureWarning: The frame.append method is deprecated and will be removed from pandas in a future version. Use pandas.concat instead.\n",
      "  results = results.append({\n",
      " 47%|████▋     | 945/2029 [1:00:17<2:51:04,  9.47s/it]C:\\Users\\Justin\\AppData\\Local\\Temp\\ipykernel_22308\\573511129.py:89: FutureWarning: The frame.append method is deprecated and will be removed from pandas in a future version. Use pandas.concat instead.\n",
      "  results = results.append({\n",
      " 47%|████▋     | 946/2029 [1:00:19<2:07:19,  7.05s/it]C:\\Users\\Justin\\AppData\\Local\\Temp\\ipykernel_22308\\573511129.py:89: FutureWarning: The frame.append method is deprecated and will be removed from pandas in a future version. Use pandas.concat instead.\n",
      "  results = results.append({\n",
      " 47%|████▋     | 948/2029 [1:00:30<1:47:23,  5.96s/it]"
     ]
    },
    {
     "name": "stdout",
     "output_type": "stream",
     "text": [
      "Error occurred: 'NoneType' object has no attribute 'text'\n"
     ]
    },
    {
     "name": "stderr",
     "output_type": "stream",
     "text": [
      "C:\\Users\\Justin\\AppData\\Local\\Temp\\ipykernel_22308\\573511129.py:89: FutureWarning: The frame.append method is deprecated and will be removed from pandas in a future version. Use pandas.concat instead.\n",
      "  results = results.append({\n",
      " 47%|████▋     | 949/2029 [1:00:32<1:29:44,  4.99s/it]C:\\Users\\Justin\\AppData\\Local\\Temp\\ipykernel_22308\\573511129.py:89: FutureWarning: The frame.append method is deprecated and will be removed from pandas in a future version. Use pandas.concat instead.\n",
      "  results = results.append({\n",
      " 47%|████▋     | 950/2029 [1:00:38<1:35:02,  5.29s/it]"
     ]
    },
    {
     "name": "stdout",
     "output_type": "stream",
     "text": [
      "Error occurred: Cannot save file into a non-existent directory: 'TEMP\\NCAA_Partial'\n"
     ]
    },
    {
     "name": "stderr",
     "output_type": "stream",
     "text": [
      "C:\\Users\\Justin\\AppData\\Local\\Temp\\ipykernel_22308\\573511129.py:89: FutureWarning: The frame.append method is deprecated and will be removed from pandas in a future version. Use pandas.concat instead.\n",
      "  results = results.append({\n",
      " 47%|████▋     | 952/2029 [1:00:42<1:03:58,  3.56s/it]"
     ]
    },
    {
     "name": "stdout",
     "output_type": "stream",
     "text": [
      "Error occurred: 'NoneType' object has no attribute 'text'\n"
     ]
    },
    {
     "name": "stderr",
     "output_type": "stream",
     "text": [
      "C:\\Users\\Justin\\AppData\\Local\\Temp\\ipykernel_22308\\573511129.py:89: FutureWarning: The frame.append method is deprecated and will be removed from pandas in a future version. Use pandas.concat instead.\n",
      "  results = results.append({\n",
      " 47%|████▋     | 953/2029 [1:00:47<1:09:17,  3.86s/it]C:\\Users\\Justin\\AppData\\Local\\Temp\\ipykernel_22308\\573511129.py:89: FutureWarning: The frame.append method is deprecated and will be removed from pandas in a future version. Use pandas.concat instead.\n",
      "  results = results.append({\n",
      " 47%|████▋     | 954/2029 [1:00:49<59:18,  3.31s/it]  C:\\Users\\Justin\\AppData\\Local\\Temp\\ipykernel_22308\\573511129.py:89: FutureWarning: The frame.append method is deprecated and will be removed from pandas in a future version. Use pandas.concat instead.\n",
      "  results = results.append({\n",
      " 47%|████▋     | 955/2029 [1:01:07<2:20:55,  7.87s/it]C:\\Users\\Justin\\AppData\\Local\\Temp\\ipykernel_22308\\573511129.py:89: FutureWarning: The frame.append method is deprecated and will be removed from pandas in a future version. Use pandas.concat instead.\n",
      "  results = results.append({\n",
      " 47%|████▋     | 956/2029 [1:01:08<1:42:47,  5.75s/it]C:\\Users\\Justin\\AppData\\Local\\Temp\\ipykernel_22308\\573511129.py:89: FutureWarning: The frame.append method is deprecated and will be removed from pandas in a future version. Use pandas.concat instead.\n",
      "  results = results.append({\n",
      " 47%|████▋     | 957/2029 [1:01:10<1:21:50,  4.58s/it]C:\\Users\\Justin\\AppData\\Local\\Temp\\ipykernel_22308\\573511129.py:89: FutureWarning: The frame.append method is deprecated and will be removed from pandas in a future version. Use pandas.concat instead.\n",
      "  results = results.append({\n",
      " 47%|████▋     | 958/2029 [1:01:13<1:12:25,  4.06s/it]C:\\Users\\Justin\\AppData\\Local\\Temp\\ipykernel_22308\\573511129.py:89: FutureWarning: The frame.append method is deprecated and will be removed from pandas in a future version. Use pandas.concat instead.\n",
      "  results = results.append({\n",
      " 47%|████▋     | 959/2029 [1:01:18<1:19:55,  4.48s/it]C:\\Users\\Justin\\AppData\\Local\\Temp\\ipykernel_22308\\573511129.py:89: FutureWarning: The frame.append method is deprecated and will be removed from pandas in a future version. Use pandas.concat instead.\n",
      "  results = results.append({\n",
      " 47%|████▋     | 960/2029 [1:01:20<1:06:31,  3.73s/it]C:\\Users\\Justin\\AppData\\Local\\Temp\\ipykernel_22308\\573511129.py:89: FutureWarning: The frame.append method is deprecated and will be removed from pandas in a future version. Use pandas.concat instead.\n",
      "  results = results.append({\n",
      " 47%|████▋     | 961/2029 [1:01:22<55:00,  3.09s/it]  C:\\Users\\Justin\\AppData\\Local\\Temp\\ipykernel_22308\\573511129.py:89: FutureWarning: The frame.append method is deprecated and will be removed from pandas in a future version. Use pandas.concat instead.\n",
      "  results = results.append({\n",
      " 47%|████▋     | 962/2029 [1:01:27<1:05:13,  3.67s/it]C:\\Users\\Justin\\AppData\\Local\\Temp\\ipykernel_22308\\573511129.py:89: FutureWarning: The frame.append method is deprecated and will be removed from pandas in a future version. Use pandas.concat instead.\n",
      "  results = results.append({\n",
      " 47%|████▋     | 963/2029 [1:01:28<54:23,  3.06s/it]  C:\\Users\\Justin\\AppData\\Local\\Temp\\ipykernel_22308\\573511129.py:89: FutureWarning: The frame.append method is deprecated and will be removed from pandas in a future version. Use pandas.concat instead.\n",
      "  results = results.append({\n",
      " 48%|████▊     | 964/2029 [1:01:36<1:21:51,  4.61s/it]C:\\Users\\Justin\\AppData\\Local\\Temp\\ipykernel_22308\\573511129.py:89: FutureWarning: The frame.append method is deprecated and will be removed from pandas in a future version. Use pandas.concat instead.\n",
      "  results = results.append({\n",
      " 48%|████▊     | 965/2029 [1:01:39<1:09:00,  3.89s/it]C:\\Users\\Justin\\AppData\\Local\\Temp\\ipykernel_22308\\573511129.py:89: FutureWarning: The frame.append method is deprecated and will be removed from pandas in a future version. Use pandas.concat instead.\n",
      "  results = results.append({\n",
      " 48%|████▊     | 966/2029 [1:01:41<59:19,  3.35s/it]  C:\\Users\\Justin\\AppData\\Local\\Temp\\ipykernel_22308\\573511129.py:89: FutureWarning: The frame.append method is deprecated and will be removed from pandas in a future version. Use pandas.concat instead.\n",
      "  results = results.append({\n",
      " 48%|████▊     | 967/2029 [1:01:42<46:30,  2.63s/it]C:\\Users\\Justin\\AppData\\Local\\Temp\\ipykernel_22308\\573511129.py:89: FutureWarning: The frame.append method is deprecated and will be removed from pandas in a future version. Use pandas.concat instead.\n",
      "  results = results.append({\n",
      " 48%|████▊     | 968/2029 [1:01:47<58:45,  3.32s/it]C:\\Users\\Justin\\AppData\\Local\\Temp\\ipykernel_22308\\573511129.py:89: FutureWarning: The frame.append method is deprecated and will be removed from pandas in a future version. Use pandas.concat instead.\n",
      "  results = results.append({\n",
      " 48%|████▊     | 969/2029 [1:01:57<1:33:38,  5.30s/it]C:\\Users\\Justin\\AppData\\Local\\Temp\\ipykernel_22308\\573511129.py:89: FutureWarning: The frame.append method is deprecated and will be removed from pandas in a future version. Use pandas.concat instead.\n",
      "  results = results.append({\n",
      " 48%|████▊     | 970/2029 [1:01:59<1:20:17,  4.55s/it]C:\\Users\\Justin\\AppData\\Local\\Temp\\ipykernel_22308\\573511129.py:89: FutureWarning: The frame.append method is deprecated and will be removed from pandas in a future version. Use pandas.concat instead.\n",
      "  results = results.append({\n",
      " 48%|████▊     | 971/2029 [1:02:01<1:07:05,  3.81s/it]C:\\Users\\Justin\\AppData\\Local\\Temp\\ipykernel_22308\\573511129.py:89: FutureWarning: The frame.append method is deprecated and will be removed from pandas in a future version. Use pandas.concat instead.\n",
      "  results = results.append({\n",
      " 48%|████▊     | 972/2029 [1:02:02<50:41,  2.88s/it]  C:\\Users\\Justin\\AppData\\Local\\Temp\\ipykernel_22308\\573511129.py:89: FutureWarning: The frame.append method is deprecated and will be removed from pandas in a future version. Use pandas.concat instead.\n",
      "  results = results.append({\n",
      " 48%|████▊     | 973/2029 [1:02:07<58:38,  3.33s/it]C:\\Users\\Justin\\AppData\\Local\\Temp\\ipykernel_22308\\573511129.py:89: FutureWarning: The frame.append method is deprecated and will be removed from pandas in a future version. Use pandas.concat instead.\n",
      "  results = results.append({\n",
      " 48%|████▊     | 974/2029 [1:02:12<1:10:39,  4.02s/it]C:\\Users\\Justin\\AppData\\Local\\Temp\\ipykernel_22308\\573511129.py:89: FutureWarning: The frame.append method is deprecated and will be removed from pandas in a future version. Use pandas.concat instead.\n",
      "  results = results.append({\n",
      " 48%|████▊     | 975/2029 [1:02:18<1:19:12,  4.51s/it]C:\\Users\\Justin\\AppData\\Local\\Temp\\ipykernel_22308\\573511129.py:89: FutureWarning: The frame.append method is deprecated and will be removed from pandas in a future version. Use pandas.concat instead.\n",
      "  results = results.append({\n",
      " 48%|████▊     | 977/2029 [1:02:21<55:34,  3.17s/it]  "
     ]
    },
    {
     "name": "stdout",
     "output_type": "stream",
     "text": [
      "Error occurred: 'NoneType' object has no attribute 'text'\n"
     ]
    },
    {
     "name": "stderr",
     "output_type": "stream",
     "text": [
      "C:\\Users\\Justin\\AppData\\Local\\Temp\\ipykernel_22308\\573511129.py:89: FutureWarning: The frame.append method is deprecated and will be removed from pandas in a future version. Use pandas.concat instead.\n",
      "  results = results.append({\n",
      " 48%|████▊     | 978/2029 [1:02:23<46:10,  2.64s/it]C:\\Users\\Justin\\AppData\\Local\\Temp\\ipykernel_22308\\573511129.py:89: FutureWarning: The frame.append method is deprecated and will be removed from pandas in a future version. Use pandas.concat instead.\n",
      "  results = results.append({\n",
      " 48%|████▊     | 980/2029 [1:02:31<57:09,  3.27s/it]"
     ]
    },
    {
     "name": "stdout",
     "output_type": "stream",
     "text": [
      "Error occurred: 'NoneType' object has no attribute 'text'\n"
     ]
    },
    {
     "name": "stderr",
     "output_type": "stream",
     "text": [
      "C:\\Users\\Justin\\AppData\\Local\\Temp\\ipykernel_22308\\573511129.py:89: FutureWarning: The frame.append method is deprecated and will be removed from pandas in a future version. Use pandas.concat instead.\n",
      "  results = results.append({\n",
      " 48%|████▊     | 981/2029 [1:02:38<1:20:13,  4.59s/it]C:\\Users\\Justin\\AppData\\Local\\Temp\\ipykernel_22308\\573511129.py:89: FutureWarning: The frame.append method is deprecated and will be removed from pandas in a future version. Use pandas.concat instead.\n",
      "  results = results.append({\n",
      " 48%|████▊     | 983/2029 [1:02:42<54:27,  3.12s/it]  "
     ]
    },
    {
     "name": "stdout",
     "output_type": "stream",
     "text": [
      "Error occurred: 'NoneType' object has no attribute 'text'\n"
     ]
    },
    {
     "name": "stderr",
     "output_type": "stream",
     "text": [
      "C:\\Users\\Justin\\AppData\\Local\\Temp\\ipykernel_22308\\573511129.py:89: FutureWarning: The frame.append method is deprecated and will be removed from pandas in a future version. Use pandas.concat instead.\n",
      "  results = results.append({\n",
      " 48%|████▊     | 984/2029 [1:02:47<1:03:04,  3.62s/it]C:\\Users\\Justin\\AppData\\Local\\Temp\\ipykernel_22308\\573511129.py:89: FutureWarning: The frame.append method is deprecated and will be removed from pandas in a future version. Use pandas.concat instead.\n",
      "  results = results.append({\n",
      " 49%|████▊     | 985/2029 [1:02:48<52:31,  3.02s/it]  C:\\Users\\Justin\\AppData\\Local\\Temp\\ipykernel_22308\\573511129.py:89: FutureWarning: The frame.append method is deprecated and will be removed from pandas in a future version. Use pandas.concat instead.\n",
      "  results = results.append({\n",
      " 49%|████▊     | 986/2029 [1:02:51<50:23,  2.90s/it]C:\\Users\\Justin\\AppData\\Local\\Temp\\ipykernel_22308\\573511129.py:89: FutureWarning: The frame.append method is deprecated and will be removed from pandas in a future version. Use pandas.concat instead.\n",
      "  results = results.append({\n",
      " 49%|████▊     | 987/2029 [1:02:53<43:19,  2.49s/it]C:\\Users\\Justin\\AppData\\Local\\Temp\\ipykernel_22308\\573511129.py:89: FutureWarning: The frame.append method is deprecated and will be removed from pandas in a future version. Use pandas.concat instead.\n",
      "  results = results.append({\n",
      " 49%|████▊     | 988/2029 [1:02:54<35:27,  2.04s/it]C:\\Users\\Justin\\AppData\\Local\\Temp\\ipykernel_22308\\573511129.py:89: FutureWarning: The frame.append method is deprecated and will be removed from pandas in a future version. Use pandas.concat instead.\n",
      "  results = results.append({\n",
      " 49%|████▊     | 989/2029 [1:02:59<53:14,  3.07s/it]C:\\Users\\Justin\\AppData\\Local\\Temp\\ipykernel_22308\\573511129.py:89: FutureWarning: The frame.append method is deprecated and will be removed from pandas in a future version. Use pandas.concat instead.\n",
      "  results = results.append({\n",
      " 49%|████▉     | 991/2029 [1:03:07<1:06:40,  3.85s/it]"
     ]
    },
    {
     "name": "stdout",
     "output_type": "stream",
     "text": [
      "Error occurred: 'NoneType' object has no attribute 'text'\n"
     ]
    },
    {
     "name": "stderr",
     "output_type": "stream",
     "text": [
      "C:\\Users\\Justin\\AppData\\Local\\Temp\\ipykernel_22308\\573511129.py:89: FutureWarning: The frame.append method is deprecated and will be removed from pandas in a future version. Use pandas.concat instead.\n",
      "  results = results.append({\n",
      " 49%|████▉     | 992/2029 [1:03:10<57:49,  3.35s/it]  C:\\Users\\Justin\\AppData\\Local\\Temp\\ipykernel_22308\\573511129.py:89: FutureWarning: The frame.append method is deprecated and will be removed from pandas in a future version. Use pandas.concat instead.\n",
      "  results = results.append({\n",
      " 49%|████▉     | 993/2029 [1:03:12<51:16,  2.97s/it]C:\\Users\\Justin\\AppData\\Local\\Temp\\ipykernel_22308\\573511129.py:89: FutureWarning: The frame.append method is deprecated and will be removed from pandas in a future version. Use pandas.concat instead.\n",
      "  results = results.append({\n",
      " 49%|████▉     | 994/2029 [1:03:17<1:04:32,  3.74s/it]C:\\Users\\Justin\\AppData\\Local\\Temp\\ipykernel_22308\\573511129.py:89: FutureWarning: The frame.append method is deprecated and will be removed from pandas in a future version. Use pandas.concat instead.\n",
      "  results = results.append({\n",
      " 49%|████▉     | 995/2029 [1:03:19<55:39,  3.23s/it]  C:\\Users\\Justin\\AppData\\Local\\Temp\\ipykernel_22308\\573511129.py:89: FutureWarning: The frame.append method is deprecated and will be removed from pandas in a future version. Use pandas.concat instead.\n",
      "  results = results.append({\n",
      " 49%|████▉     | 996/2029 [1:03:28<1:26:11,  5.01s/it]C:\\Users\\Justin\\AppData\\Local\\Temp\\ipykernel_22308\\573511129.py:89: FutureWarning: The frame.append method is deprecated and will be removed from pandas in a future version. Use pandas.concat instead.\n",
      "  results = results.append({\n",
      " 49%|████▉     | 997/2029 [1:03:30<1:06:16,  3.85s/it]C:\\Users\\Justin\\AppData\\Local\\Temp\\ipykernel_22308\\573511129.py:89: FutureWarning: The frame.append method is deprecated and will be removed from pandas in a future version. Use pandas.concat instead.\n",
      "  results = results.append({\n",
      " 49%|████▉     | 998/2029 [1:03:31<55:41,  3.24s/it]  C:\\Users\\Justin\\AppData\\Local\\Temp\\ipykernel_22308\\573511129.py:89: FutureWarning: The frame.append method is deprecated and will be removed from pandas in a future version. Use pandas.concat instead.\n",
      "  results = results.append({\n",
      " 49%|████▉     | 999/2029 [1:03:33<44:56,  2.62s/it]C:\\Users\\Justin\\AppData\\Local\\Temp\\ipykernel_22308\\573511129.py:89: FutureWarning: The frame.append method is deprecated and will be removed from pandas in a future version. Use pandas.concat instead.\n",
      "  results = results.append({\n",
      " 49%|████▉     | 1000/2029 [1:03:37<53:50,  3.14s/it]"
     ]
    },
    {
     "name": "stdout",
     "output_type": "stream",
     "text": [
      "Error occurred: Cannot save file into a non-existent directory: 'TEMP\\NCAA_Partial'\n"
     ]
    },
    {
     "name": "stderr",
     "output_type": "stream",
     "text": [
      "C:\\Users\\Justin\\AppData\\Local\\Temp\\ipykernel_22308\\573511129.py:89: FutureWarning: The frame.append method is deprecated and will be removed from pandas in a future version. Use pandas.concat instead.\n",
      "  results = results.append({\n",
      " 49%|████▉     | 1001/2029 [1:03:43<1:07:10,  3.92s/it]C:\\Users\\Justin\\AppData\\Local\\Temp\\ipykernel_22308\\573511129.py:89: FutureWarning: The frame.append method is deprecated and will be removed from pandas in a future version. Use pandas.concat instead.\n",
      "  results = results.append({\n",
      " 49%|████▉     | 1002/2029 [1:03:47<1:08:31,  4.00s/it]C:\\Users\\Justin\\AppData\\Local\\Temp\\ipykernel_22308\\573511129.py:89: FutureWarning: The frame.append method is deprecated and will be removed from pandas in a future version. Use pandas.concat instead.\n",
      "  results = results.append({\n",
      " 49%|████▉     | 1004/2029 [1:03:57<1:20:52,  4.73s/it]"
     ]
    },
    {
     "name": "stdout",
     "output_type": "stream",
     "text": [
      "Error occurred: 'NoneType' object has no attribute 'text'\n"
     ]
    },
    {
     "name": "stderr",
     "output_type": "stream",
     "text": [
      "C:\\Users\\Justin\\AppData\\Local\\Temp\\ipykernel_22308\\573511129.py:89: FutureWarning: The frame.append method is deprecated and will be removed from pandas in a future version. Use pandas.concat instead.\n",
      "  results = results.append({\n",
      " 50%|████▉     | 1005/2029 [1:04:01<1:18:57,  4.63s/it]C:\\Users\\Justin\\AppData\\Local\\Temp\\ipykernel_22308\\573511129.py:89: FutureWarning: The frame.append method is deprecated and will be removed from pandas in a future version. Use pandas.concat instead.\n",
      "  results = results.append({\n",
      " 50%|████▉     | 1007/2029 [1:04:10<1:12:21,  4.25s/it]"
     ]
    },
    {
     "name": "stdout",
     "output_type": "stream",
     "text": [
      "Error occurred: 'NoneType' object has no attribute 'text'\n"
     ]
    },
    {
     "name": "stderr",
     "output_type": "stream",
     "text": [
      "C:\\Users\\Justin\\AppData\\Local\\Temp\\ipykernel_22308\\573511129.py:89: FutureWarning: The frame.append method is deprecated and will be removed from pandas in a future version. Use pandas.concat instead.\n",
      "  results = results.append({\n",
      " 50%|████▉     | 1008/2029 [1:04:12<1:01:45,  3.63s/it]C:\\Users\\Justin\\AppData\\Local\\Temp\\ipykernel_22308\\573511129.py:89: FutureWarning: The frame.append method is deprecated and will be removed from pandas in a future version. Use pandas.concat instead.\n",
      "  results = results.append({\n",
      " 50%|████▉     | 1009/2029 [1:04:17<1:11:41,  4.22s/it]C:\\Users\\Justin\\AppData\\Local\\Temp\\ipykernel_22308\\573511129.py:89: FutureWarning: The frame.append method is deprecated and will be removed from pandas in a future version. Use pandas.concat instead.\n",
      "  results = results.append({\n",
      " 50%|████▉     | 1010/2029 [1:04:19<58:16,  3.43s/it]  C:\\Users\\Justin\\AppData\\Local\\Temp\\ipykernel_22308\\573511129.py:89: FutureWarning: The frame.append method is deprecated and will be removed from pandas in a future version. Use pandas.concat instead.\n",
      "  results = results.append({\n",
      " 50%|████▉     | 1012/2029 [1:04:21<36:28,  2.15s/it]"
     ]
    },
    {
     "name": "stdout",
     "output_type": "stream",
     "text": [
      "Error occurred: 'NoneType' object has no attribute 'text'\n"
     ]
    },
    {
     "name": "stderr",
     "output_type": "stream",
     "text": [
      "C:\\Users\\Justin\\AppData\\Local\\Temp\\ipykernel_22308\\573511129.py:89: FutureWarning: The frame.append method is deprecated and will be removed from pandas in a future version. Use pandas.concat instead.\n",
      "  results = results.append({\n",
      " 50%|████▉     | 1013/2029 [1:04:28<1:00:12,  3.56s/it]C:\\Users\\Justin\\AppData\\Local\\Temp\\ipykernel_22308\\573511129.py:89: FutureWarning: The frame.append method is deprecated and will be removed from pandas in a future version. Use pandas.concat instead.\n",
      "  results = results.append({\n",
      " 50%|████▉     | 1014/2029 [1:04:29<50:40,  3.00s/it]  C:\\Users\\Justin\\AppData\\Local\\Temp\\ipykernel_22308\\573511129.py:89: FutureWarning: The frame.append method is deprecated and will be removed from pandas in a future version. Use pandas.concat instead.\n",
      "  results = results.append({\n",
      " 50%|█████     | 1015/2029 [1:04:31<44:45,  2.65s/it]C:\\Users\\Justin\\AppData\\Local\\Temp\\ipykernel_22308\\573511129.py:89: FutureWarning: The frame.append method is deprecated and will be removed from pandas in a future version. Use pandas.concat instead.\n",
      "  results = results.append({\n",
      " 50%|█████     | 1016/2029 [1:04:33<39:04,  2.31s/it]C:\\Users\\Justin\\AppData\\Local\\Temp\\ipykernel_22308\\573511129.py:89: FutureWarning: The frame.append method is deprecated and will be removed from pandas in a future version. Use pandas.concat instead.\n",
      "  results = results.append({\n",
      " 50%|█████     | 1017/2029 [1:04:37<48:50,  2.90s/it]C:\\Users\\Justin\\AppData\\Local\\Temp\\ipykernel_22308\\573511129.py:89: FutureWarning: The frame.append method is deprecated and will be removed from pandas in a future version. Use pandas.concat instead.\n",
      "  results = results.append({\n",
      " 50%|█████     | 1019/2029 [1:04:41<40:49,  2.43s/it]"
     ]
    },
    {
     "name": "stdout",
     "output_type": "stream",
     "text": [
      "Error occurred: 'NoneType' object has no attribute 'text'\n"
     ]
    },
    {
     "name": "stderr",
     "output_type": "stream",
     "text": [
      "C:\\Users\\Justin\\AppData\\Local\\Temp\\ipykernel_22308\\573511129.py:89: FutureWarning: The frame.append method is deprecated and will be removed from pandas in a future version. Use pandas.concat instead.\n",
      "  results = results.append({\n",
      " 50%|█████     | 1020/2029 [1:04:43<37:14,  2.21s/it]C:\\Users\\Justin\\AppData\\Local\\Temp\\ipykernel_22308\\573511129.py:89: FutureWarning: The frame.append method is deprecated and will be removed from pandas in a future version. Use pandas.concat instead.\n",
      "  results = results.append({\n",
      " 50%|█████     | 1021/2029 [1:04:47<48:32,  2.89s/it]C:\\Users\\Justin\\AppData\\Local\\Temp\\ipykernel_22308\\573511129.py:89: FutureWarning: The frame.append method is deprecated and will be removed from pandas in a future version. Use pandas.concat instead.\n",
      "  results = results.append({\n",
      " 50%|█████     | 1022/2029 [1:04:49<42:12,  2.51s/it]C:\\Users\\Justin\\AppData\\Local\\Temp\\ipykernel_22308\\573511129.py:89: FutureWarning: The frame.append method is deprecated and will be removed from pandas in a future version. Use pandas.concat instead.\n",
      "  results = results.append({\n",
      " 50%|█████     | 1023/2029 [1:04:50<35:10,  2.10s/it]C:\\Users\\Justin\\AppData\\Local\\Temp\\ipykernel_22308\\573511129.py:89: FutureWarning: The frame.append method is deprecated and will be removed from pandas in a future version. Use pandas.concat instead.\n",
      "  results = results.append({\n",
      " 50%|█████     | 1024/2029 [1:04:57<59:43,  3.57s/it]C:\\Users\\Justin\\AppData\\Local\\Temp\\ipykernel_22308\\573511129.py:89: FutureWarning: The frame.append method is deprecated and will be removed from pandas in a future version. Use pandas.concat instead.\n",
      "  results = results.append({\n",
      " 51%|█████     | 1025/2029 [1:04:58<48:09,  2.88s/it]C:\\Users\\Justin\\AppData\\Local\\Temp\\ipykernel_22308\\573511129.py:89: FutureWarning: The frame.append method is deprecated and will be removed from pandas in a future version. Use pandas.concat instead.\n",
      "  results = results.append({\n",
      " 51%|█████     | 1026/2029 [1:05:00<41:57,  2.51s/it]C:\\Users\\Justin\\AppData\\Local\\Temp\\ipykernel_22308\\573511129.py:89: FutureWarning: The frame.append method is deprecated and will be removed from pandas in a future version. Use pandas.concat instead.\n",
      "  results = results.append({\n",
      " 51%|█████     | 1027/2029 [1:05:01<36:50,  2.21s/it]C:\\Users\\Justin\\AppData\\Local\\Temp\\ipykernel_22308\\573511129.py:89: FutureWarning: The frame.append method is deprecated and will be removed from pandas in a future version. Use pandas.concat instead.\n",
      "  results = results.append({\n",
      " 51%|█████     | 1028/2029 [1:05:03<35:20,  2.12s/it]C:\\Users\\Justin\\AppData\\Local\\Temp\\ipykernel_22308\\573511129.py:89: FutureWarning: The frame.append method is deprecated and will be removed from pandas in a future version. Use pandas.concat instead.\n",
      "  results = results.append({\n",
      " 51%|█████     | 1030/2029 [1:05:21<1:39:01,  5.95s/it]"
     ]
    },
    {
     "name": "stdout",
     "output_type": "stream",
     "text": [
      "Error occurred: 'NoneType' object has no attribute 'text'\n"
     ]
    },
    {
     "name": "stderr",
     "output_type": "stream",
     "text": [
      "C:\\Users\\Justin\\AppData\\Local\\Temp\\ipykernel_22308\\573511129.py:89: FutureWarning: The frame.append method is deprecated and will be removed from pandas in a future version. Use pandas.concat instead.\n",
      "  results = results.append({\n",
      " 51%|█████     | 1031/2029 [1:05:23<1:19:42,  4.79s/it]C:\\Users\\Justin\\AppData\\Local\\Temp\\ipykernel_22308\\573511129.py:89: FutureWarning: The frame.append method is deprecated and will be removed from pandas in a future version. Use pandas.concat instead.\n",
      "  results = results.append({\n",
      " 51%|█████     | 1032/2029 [1:05:32<1:43:08,  6.21s/it]C:\\Users\\Justin\\AppData\\Local\\Temp\\ipykernel_22308\\573511129.py:89: FutureWarning: The frame.append method is deprecated and will be removed from pandas in a future version. Use pandas.concat instead.\n",
      "  results = results.append({\n",
      " 51%|█████     | 1033/2029 [1:05:37<1:35:44,  5.77s/it]C:\\Users\\Justin\\AppData\\Local\\Temp\\ipykernel_22308\\573511129.py:89: FutureWarning: The frame.append method is deprecated and will be removed from pandas in a future version. Use pandas.concat instead.\n",
      "  results = results.append({\n",
      " 51%|█████     | 1034/2029 [1:05:47<1:56:42,  7.04s/it]C:\\Users\\Justin\\AppData\\Local\\Temp\\ipykernel_22308\\573511129.py:89: FutureWarning: The frame.append method is deprecated and will be removed from pandas in a future version. Use pandas.concat instead.\n",
      "  results = results.append({\n",
      " 51%|█████     | 1035/2029 [1:05:49<1:30:15,  5.45s/it]C:\\Users\\Justin\\AppData\\Local\\Temp\\ipykernel_22308\\573511129.py:89: FutureWarning: The frame.append method is deprecated and will be removed from pandas in a future version. Use pandas.concat instead.\n",
      "  results = results.append({\n",
      " 51%|█████     | 1036/2029 [1:05:51<1:12:13,  4.36s/it]C:\\Users\\Justin\\AppData\\Local\\Temp\\ipykernel_22308\\573511129.py:89: FutureWarning: The frame.append method is deprecated and will be removed from pandas in a future version. Use pandas.concat instead.\n",
      "  results = results.append({\n",
      " 51%|█████     | 1037/2029 [1:05:52<56:28,  3.42s/it]  C:\\Users\\Justin\\AppData\\Local\\Temp\\ipykernel_22308\\573511129.py:89: FutureWarning: The frame.append method is deprecated and will be removed from pandas in a future version. Use pandas.concat instead.\n",
      "  results = results.append({\n",
      " 51%|█████     | 1038/2029 [1:05:57<1:05:25,  3.96s/it]C:\\Users\\Justin\\AppData\\Local\\Temp\\ipykernel_22308\\573511129.py:89: FutureWarning: The frame.append method is deprecated and will be removed from pandas in a future version. Use pandas.concat instead.\n",
      "  results = results.append({\n",
      " 51%|█████     | 1039/2029 [1:05:59<53:12,  3.22s/it]  C:\\Users\\Justin\\AppData\\Local\\Temp\\ipykernel_22308\\573511129.py:89: FutureWarning: The frame.append method is deprecated and will be removed from pandas in a future version. Use pandas.concat instead.\n",
      "  results = results.append({\n",
      " 51%|█████▏    | 1040/2029 [1:06:01<46:57,  2.85s/it]C:\\Users\\Justin\\AppData\\Local\\Temp\\ipykernel_22308\\573511129.py:89: FutureWarning: The frame.append method is deprecated and will be removed from pandas in a future version. Use pandas.concat instead.\n",
      "  results = results.append({\n",
      " 51%|█████▏    | 1041/2029 [1:06:03<43:07,  2.62s/it]C:\\Users\\Justin\\AppData\\Local\\Temp\\ipykernel_22308\\573511129.py:89: FutureWarning: The frame.append method is deprecated and will be removed from pandas in a future version. Use pandas.concat instead.\n",
      "  results = results.append({\n",
      " 51%|█████▏    | 1042/2029 [1:06:07<53:03,  3.23s/it]C:\\Users\\Justin\\AppData\\Local\\Temp\\ipykernel_22308\\573511129.py:89: FutureWarning: The frame.append method is deprecated and will be removed from pandas in a future version. Use pandas.concat instead.\n",
      "  results = results.append({\n",
      " 51%|█████▏    | 1043/2029 [1:06:09<43:27,  2.64s/it]C:\\Users\\Justin\\AppData\\Local\\Temp\\ipykernel_22308\\573511129.py:89: FutureWarning: The frame.append method is deprecated and will be removed from pandas in a future version. Use pandas.concat instead.\n",
      "  results = results.append({\n",
      " 51%|█████▏    | 1044/2029 [1:06:13<54:14,  3.30s/it]C:\\Users\\Justin\\AppData\\Local\\Temp\\ipykernel_22308\\573511129.py:89: FutureWarning: The frame.append method is deprecated and will be removed from pandas in a future version. Use pandas.concat instead.\n",
      "  results = results.append({\n",
      " 52%|█████▏    | 1046/2029 [1:06:38<2:22:24,  8.69s/it]"
     ]
    },
    {
     "name": "stdout",
     "output_type": "stream",
     "text": [
      "Error occurred: 'NoneType' object has no attribute 'text'\n"
     ]
    },
    {
     "name": "stderr",
     "output_type": "stream",
     "text": [
      "C:\\Users\\Justin\\AppData\\Local\\Temp\\ipykernel_22308\\573511129.py:89: FutureWarning: The frame.append method is deprecated and will be removed from pandas in a future version. Use pandas.concat instead.\n",
      "  results = results.append({\n",
      " 52%|█████▏    | 1047/2029 [1:06:40<1:46:40,  6.52s/it]C:\\Users\\Justin\\AppData\\Local\\Temp\\ipykernel_22308\\573511129.py:89: FutureWarning: The frame.append method is deprecated and will be removed from pandas in a future version. Use pandas.concat instead.\n",
      "  results = results.append({\n",
      " 52%|█████▏    | 1048/2029 [1:06:41<1:19:54,  4.89s/it]C:\\Users\\Justin\\AppData\\Local\\Temp\\ipykernel_22308\\573511129.py:89: FutureWarning: The frame.append method is deprecated and will be removed from pandas in a future version. Use pandas.concat instead.\n",
      "  results = results.append({\n",
      " 52%|█████▏    | 1049/2029 [1:06:42<1:04:09,  3.93s/it]C:\\Users\\Justin\\AppData\\Local\\Temp\\ipykernel_22308\\573511129.py:89: FutureWarning: The frame.append method is deprecated and will be removed from pandas in a future version. Use pandas.concat instead.\n",
      "  results = results.append({\n",
      " 52%|█████▏    | 1050/2029 [1:06:47<1:08:30,  4.20s/it]"
     ]
    },
    {
     "name": "stdout",
     "output_type": "stream",
     "text": [
      "Error occurred: Cannot save file into a non-existent directory: 'TEMP\\NCAA_Partial'\n"
     ]
    },
    {
     "name": "stderr",
     "output_type": "stream",
     "text": [
      "C:\\Users\\Justin\\AppData\\Local\\Temp\\ipykernel_22308\\573511129.py:89: FutureWarning: The frame.append method is deprecated and will be removed from pandas in a future version. Use pandas.concat instead.\n",
      "  results = results.append({\n",
      " 52%|█████▏    | 1051/2029 [1:06:49<54:59,  3.37s/it]  C:\\Users\\Justin\\AppData\\Local\\Temp\\ipykernel_22308\\573511129.py:89: FutureWarning: The frame.append method is deprecated and will be removed from pandas in a future version. Use pandas.concat instead.\n",
      "  results = results.append({\n",
      " 52%|█████▏    | 1052/2029 [1:06:50<46:51,  2.88s/it]C:\\Users\\Justin\\AppData\\Local\\Temp\\ipykernel_22308\\573511129.py:89: FutureWarning: The frame.append method is deprecated and will be removed from pandas in a future version. Use pandas.concat instead.\n",
      "  results = results.append({\n",
      " 52%|█████▏    | 1053/2029 [1:06:54<48:52,  3.00s/it]C:\\Users\\Justin\\AppData\\Local\\Temp\\ipykernel_22308\\573511129.py:89: FutureWarning: The frame.append method is deprecated and will be removed from pandas in a future version. Use pandas.concat instead.\n",
      "  results = results.append({\n",
      " 52%|█████▏    | 1054/2029 [1:06:58<55:49,  3.44s/it]C:\\Users\\Justin\\AppData\\Local\\Temp\\ipykernel_22308\\573511129.py:89: FutureWarning: The frame.append method is deprecated and will be removed from pandas in a future version. Use pandas.concat instead.\n",
      "  results = results.append({\n",
      " 52%|█████▏    | 1055/2029 [1:06:59<45:00,  2.77s/it]C:\\Users\\Justin\\AppData\\Local\\Temp\\ipykernel_22308\\573511129.py:89: FutureWarning: The frame.append method is deprecated and will be removed from pandas in a future version. Use pandas.concat instead.\n",
      "  results = results.append({\n",
      " 52%|█████▏    | 1056/2029 [1:07:02<43:12,  2.66s/it]C:\\Users\\Justin\\AppData\\Local\\Temp\\ipykernel_22308\\573511129.py:89: FutureWarning: The frame.append method is deprecated and will be removed from pandas in a future version. Use pandas.concat instead.\n",
      "  results = results.append({\n",
      " 52%|█████▏    | 1057/2029 [1:07:07<56:18,  3.48s/it]C:\\Users\\Justin\\AppData\\Local\\Temp\\ipykernel_22308\\573511129.py:89: FutureWarning: The frame.append method is deprecated and will be removed from pandas in a future version. Use pandas.concat instead.\n",
      "  results = results.append({\n",
      " 52%|█████▏    | 1058/2029 [1:07:08<45:23,  2.80s/it]C:\\Users\\Justin\\AppData\\Local\\Temp\\ipykernel_22308\\573511129.py:89: FutureWarning: The frame.append method is deprecated and will be removed from pandas in a future version. Use pandas.concat instead.\n",
      "  results = results.append({\n",
      " 52%|█████▏    | 1059/2029 [1:07:11<45:28,  2.81s/it]C:\\Users\\Justin\\AppData\\Local\\Temp\\ipykernel_22308\\573511129.py:89: FutureWarning: The frame.append method is deprecated and will be removed from pandas in a future version. Use pandas.concat instead.\n",
      "  results = results.append({\n",
      " 52%|█████▏    | 1060/2029 [1:07:13<40:04,  2.48s/it]C:\\Users\\Justin\\AppData\\Local\\Temp\\ipykernel_22308\\573511129.py:89: FutureWarning: The frame.append method is deprecated and will be removed from pandas in a future version. Use pandas.concat instead.\n",
      "  results = results.append({\n",
      " 52%|█████▏    | 1061/2029 [1:07:19<57:13,  3.55s/it]C:\\Users\\Justin\\AppData\\Local\\Temp\\ipykernel_22308\\573511129.py:89: FutureWarning: The frame.append method is deprecated and will be removed from pandas in a future version. Use pandas.concat instead.\n",
      "  results = results.append({\n",
      " 52%|█████▏    | 1062/2029 [1:07:21<50:02,  3.10s/it]C:\\Users\\Justin\\AppData\\Local\\Temp\\ipykernel_22308\\573511129.py:89: FutureWarning: The frame.append method is deprecated and will be removed from pandas in a future version. Use pandas.concat instead.\n",
      "  results = results.append({\n",
      " 52%|█████▏    | 1063/2029 [1:07:28<1:08:10,  4.23s/it]C:\\Users\\Justin\\AppData\\Local\\Temp\\ipykernel_22308\\573511129.py:89: FutureWarning: The frame.append method is deprecated and will be removed from pandas in a future version. Use pandas.concat instead.\n",
      "  results = results.append({\n",
      " 52%|█████▏    | 1065/2029 [1:07:37<1:15:11,  4.68s/it]"
     ]
    },
    {
     "name": "stdout",
     "output_type": "stream",
     "text": [
      "Error occurred: 'NoneType' object has no attribute 'text'\n"
     ]
    },
    {
     "name": "stderr",
     "output_type": "stream",
     "text": [
      "C:\\Users\\Justin\\AppData\\Local\\Temp\\ipykernel_22308\\573511129.py:89: FutureWarning: The frame.append method is deprecated and will be removed from pandas in a future version. Use pandas.concat instead.\n",
      "  results = results.append({\n",
      " 53%|█████▎    | 1066/2029 [1:07:38<56:13,  3.50s/it]  C:\\Users\\Justin\\AppData\\Local\\Temp\\ipykernel_22308\\573511129.py:89: FutureWarning: The frame.append method is deprecated and will be removed from pandas in a future version. Use pandas.concat instead.\n",
      "  results = results.append({\n",
      " 53%|█████▎    | 1067/2029 [1:07:40<47:42,  2.98s/it]C:\\Users\\Justin\\AppData\\Local\\Temp\\ipykernel_22308\\573511129.py:89: FutureWarning: The frame.append method is deprecated and will be removed from pandas in a future version. Use pandas.concat instead.\n",
      "  results = results.append({\n",
      " 53%|█████▎    | 1068/2029 [1:07:41<39:16,  2.45s/it]C:\\Users\\Justin\\AppData\\Local\\Temp\\ipykernel_22308\\573511129.py:89: FutureWarning: The frame.append method is deprecated and will be removed from pandas in a future version. Use pandas.concat instead.\n",
      "  results = results.append({\n",
      " 53%|█████▎    | 1069/2029 [1:07:42<33:02,  2.06s/it]C:\\Users\\Justin\\AppData\\Local\\Temp\\ipykernel_22308\\573511129.py:89: FutureWarning: The frame.append method is deprecated and will be removed from pandas in a future version. Use pandas.concat instead.\n",
      "  results = results.append({\n",
      " 53%|█████▎    | 1071/2029 [1:07:49<41:42,  2.61s/it]"
     ]
    },
    {
     "name": "stdout",
     "output_type": "stream",
     "text": [
      "Error occurred: 'NoneType' object has no attribute 'text'\n"
     ]
    },
    {
     "name": "stderr",
     "output_type": "stream",
     "text": [
      "C:\\Users\\Justin\\AppData\\Local\\Temp\\ipykernel_22308\\573511129.py:89: FutureWarning: The frame.append method is deprecated and will be removed from pandas in a future version. Use pandas.concat instead.\n",
      "  results = results.append({\n",
      " 53%|█████▎    | 1072/2029 [1:07:52<41:51,  2.62s/it]C:\\Users\\Justin\\AppData\\Local\\Temp\\ipykernel_22308\\573511129.py:89: FutureWarning: The frame.append method is deprecated and will be removed from pandas in a future version. Use pandas.concat instead.\n",
      "  results = results.append({\n",
      " 53%|█████▎    | 1073/2029 [1:07:57<56:49,  3.57s/it]C:\\Users\\Justin\\AppData\\Local\\Temp\\ipykernel_22308\\573511129.py:89: FutureWarning: The frame.append method is deprecated and will be removed from pandas in a future version. Use pandas.concat instead.\n",
      "  results = results.append({\n",
      " 53%|█████▎    | 1074/2029 [1:07:59<49:25,  3.11s/it]C:\\Users\\Justin\\AppData\\Local\\Temp\\ipykernel_22308\\573511129.py:89: FutureWarning: The frame.append method is deprecated and will be removed from pandas in a future version. Use pandas.concat instead.\n",
      "  results = results.append({\n",
      " 53%|█████▎    | 1076/2029 [1:08:03<37:54,  2.39s/it]"
     ]
    },
    {
     "name": "stdout",
     "output_type": "stream",
     "text": [
      "Error occurred: 'NoneType' object has no attribute 'text'\n"
     ]
    },
    {
     "name": "stderr",
     "output_type": "stream",
     "text": [
      "C:\\Users\\Justin\\AppData\\Local\\Temp\\ipykernel_22308\\573511129.py:89: FutureWarning: The frame.append method is deprecated and will be removed from pandas in a future version. Use pandas.concat instead.\n",
      "  results = results.append({\n",
      " 53%|█████▎    | 1078/2029 [1:08:12<57:11,  3.61s/it]"
     ]
    },
    {
     "name": "stdout",
     "output_type": "stream",
     "text": [
      "Error occurred: 'NoneType' object has no attribute 'text'\n"
     ]
    },
    {
     "name": "stderr",
     "output_type": "stream",
     "text": [
      "C:\\Users\\Justin\\AppData\\Local\\Temp\\ipykernel_22308\\573511129.py:89: FutureWarning: The frame.append method is deprecated and will be removed from pandas in a future version. Use pandas.concat instead.\n",
      "  results = results.append({\n",
      " 53%|█████▎    | 1079/2029 [1:08:17<1:03:33,  4.01s/it]C:\\Users\\Justin\\AppData\\Local\\Temp\\ipykernel_22308\\573511129.py:89: FutureWarning: The frame.append method is deprecated and will be removed from pandas in a future version. Use pandas.concat instead.\n",
      "  results = results.append({\n",
      " 53%|█████▎    | 1081/2029 [1:08:20<43:10,  2.73s/it]  "
     ]
    },
    {
     "name": "stdout",
     "output_type": "stream",
     "text": [
      "Error occurred: 'NoneType' object has no attribute 'text'\n"
     ]
    },
    {
     "name": "stderr",
     "output_type": "stream",
     "text": [
      "C:\\Users\\Justin\\AppData\\Local\\Temp\\ipykernel_22308\\573511129.py:89: FutureWarning: The frame.append method is deprecated and will be removed from pandas in a future version. Use pandas.concat instead.\n",
      "  results = results.append({\n",
      " 53%|█████▎    | 1082/2029 [1:08:22<39:34,  2.51s/it]C:\\Users\\Justin\\AppData\\Local\\Temp\\ipykernel_22308\\573511129.py:89: FutureWarning: The frame.append method is deprecated and will be removed from pandas in a future version. Use pandas.concat instead.\n",
      "  results = results.append({\n",
      " 53%|█████▎    | 1083/2029 [1:08:24<34:30,  2.19s/it]C:\\Users\\Justin\\AppData\\Local\\Temp\\ipykernel_22308\\573511129.py:89: FutureWarning: The frame.append method is deprecated and will be removed from pandas in a future version. Use pandas.concat instead.\n",
      "  results = results.append({\n",
      " 53%|█████▎    | 1084/2029 [1:08:29<47:10,  3.00s/it]C:\\Users\\Justin\\AppData\\Local\\Temp\\ipykernel_22308\\573511129.py:89: FutureWarning: The frame.append method is deprecated and will be removed from pandas in a future version. Use pandas.concat instead.\n",
      "  results = results.append({\n",
      " 53%|█████▎    | 1085/2029 [1:08:30<40:13,  2.56s/it]C:\\Users\\Justin\\AppData\\Local\\Temp\\ipykernel_22308\\573511129.py:89: FutureWarning: The frame.append method is deprecated and will be removed from pandas in a future version. Use pandas.concat instead.\n",
      "  results = results.append({\n",
      " 54%|█████▎    | 1086/2029 [1:08:37<1:02:21,  3.97s/it]C:\\Users\\Justin\\AppData\\Local\\Temp\\ipykernel_22308\\573511129.py:89: FutureWarning: The frame.append method is deprecated and will be removed from pandas in a future version. Use pandas.concat instead.\n",
      "  results = results.append({\n",
      " 54%|█████▎    | 1087/2029 [1:08:39<49:23,  3.15s/it]  C:\\Users\\Justin\\AppData\\Local\\Temp\\ipykernel_22308\\573511129.py:89: FutureWarning: The frame.append method is deprecated and will be removed from pandas in a future version. Use pandas.concat instead.\n",
      "  results = results.append({\n",
      " 54%|█████▎    | 1088/2029 [1:08:41<44:01,  2.81s/it]C:\\Users\\Justin\\AppData\\Local\\Temp\\ipykernel_22308\\573511129.py:89: FutureWarning: The frame.append method is deprecated and will be removed from pandas in a future version. Use pandas.concat instead.\n",
      "  results = results.append({\n",
      " 54%|█████▎    | 1089/2029 [1:08:42<36:06,  2.31s/it]C:\\Users\\Justin\\AppData\\Local\\Temp\\ipykernel_22308\\573511129.py:89: FutureWarning: The frame.append method is deprecated and will be removed from pandas in a future version. Use pandas.concat instead.\n",
      "  results = results.append({\n",
      " 54%|█████▎    | 1090/2029 [1:08:49<58:03,  3.71s/it]C:\\Users\\Justin\\AppData\\Local\\Temp\\ipykernel_22308\\573511129.py:89: FutureWarning: The frame.append method is deprecated and will be removed from pandas in a future version. Use pandas.concat instead.\n",
      "  results = results.append({\n",
      " 54%|█████▍    | 1091/2029 [1:08:51<51:01,  3.26s/it]C:\\Users\\Justin\\AppData\\Local\\Temp\\ipykernel_22308\\573511129.py:89: FutureWarning: The frame.append method is deprecated and will be removed from pandas in a future version. Use pandas.concat instead.\n",
      "  results = results.append({\n",
      " 54%|█████▍    | 1092/2029 [1:08:53<45:42,  2.93s/it]C:\\Users\\Justin\\AppData\\Local\\Temp\\ipykernel_22308\\573511129.py:89: FutureWarning: The frame.append method is deprecated and will be removed from pandas in a future version. Use pandas.concat instead.\n",
      "  results = results.append({\n",
      " 54%|█████▍    | 1093/2029 [1:08:57<52:09,  3.34s/it]C:\\Users\\Justin\\AppData\\Local\\Temp\\ipykernel_22308\\573511129.py:89: FutureWarning: The frame.append method is deprecated and will be removed from pandas in a future version. Use pandas.concat instead.\n",
      "  results = results.append({\n",
      " 54%|█████▍    | 1094/2029 [1:09:03<1:01:53,  3.97s/it]C:\\Users\\Justin\\AppData\\Local\\Temp\\ipykernel_22308\\573511129.py:89: FutureWarning: The frame.append method is deprecated and will be removed from pandas in a future version. Use pandas.concat instead.\n",
      "  results = results.append({\n",
      " 54%|█████▍    | 1095/2029 [1:09:07<1:04:16,  4.13s/it]C:\\Users\\Justin\\AppData\\Local\\Temp\\ipykernel_22308\\573511129.py:89: FutureWarning: The frame.append method is deprecated and will be removed from pandas in a future version. Use pandas.concat instead.\n",
      "  results = results.append({\n",
      " 54%|█████▍    | 1097/2029 [1:09:11<46:18,  2.98s/it]  "
     ]
    },
    {
     "name": "stdout",
     "output_type": "stream",
     "text": [
      "Error occurred: 'NoneType' object has no attribute 'text'\n"
     ]
    },
    {
     "name": "stderr",
     "output_type": "stream",
     "text": [
      "C:\\Users\\Justin\\AppData\\Local\\Temp\\ipykernel_22308\\573511129.py:89: FutureWarning: The frame.append method is deprecated and will be removed from pandas in a future version. Use pandas.concat instead.\n",
      "  results = results.append({\n",
      " 54%|█████▍    | 1098/2029 [1:09:17<1:00:21,  3.89s/it]C:\\Users\\Justin\\AppData\\Local\\Temp\\ipykernel_22308\\573511129.py:89: FutureWarning: The frame.append method is deprecated and will be removed from pandas in a future version. Use pandas.concat instead.\n",
      "  results = results.append({\n",
      " 54%|█████▍    | 1099/2029 [1:09:19<48:45,  3.15s/it]  C:\\Users\\Justin\\AppData\\Local\\Temp\\ipykernel_22308\\573511129.py:89: FutureWarning: The frame.append method is deprecated and will be removed from pandas in a future version. Use pandas.concat instead.\n",
      "  results = results.append({\n",
      " 54%|█████▍    | 1100/2029 [1:09:20<42:08,  2.72s/it]"
     ]
    },
    {
     "name": "stdout",
     "output_type": "stream",
     "text": [
      "Error occurred: Cannot save file into a non-existent directory: 'TEMP\\NCAA_Partial'\n"
     ]
    },
    {
     "name": "stderr",
     "output_type": "stream",
     "text": [
      "C:\\Users\\Justin\\AppData\\Local\\Temp\\ipykernel_22308\\573511129.py:89: FutureWarning: The frame.append method is deprecated and will be removed from pandas in a future version. Use pandas.concat instead.\n",
      "  results = results.append({\n",
      " 54%|█████▍    | 1101/2029 [1:09:22<37:09,  2.40s/it]C:\\Users\\Justin\\AppData\\Local\\Temp\\ipykernel_22308\\573511129.py:89: FutureWarning: The frame.append method is deprecated and will be removed from pandas in a future version. Use pandas.concat instead.\n",
      "  results = results.append({\n",
      " 54%|█████▍    | 1102/2029 [1:09:28<53:49,  3.48s/it]C:\\Users\\Justin\\AppData\\Local\\Temp\\ipykernel_22308\\573511129.py:89: FutureWarning: The frame.append method is deprecated and will be removed from pandas in a future version. Use pandas.concat instead.\n",
      "  results = results.append({\n",
      " 54%|█████▍    | 1103/2029 [1:09:30<44:57,  2.91s/it]C:\\Users\\Justin\\AppData\\Local\\Temp\\ipykernel_22308\\573511129.py:89: FutureWarning: The frame.append method is deprecated and will be removed from pandas in a future version. Use pandas.concat instead.\n",
      "  results = results.append({\n",
      " 54%|█████▍    | 1104/2029 [1:09:32<40:37,  2.63s/it]C:\\Users\\Justin\\AppData\\Local\\Temp\\ipykernel_22308\\573511129.py:89: FutureWarning: The frame.append method is deprecated and will be removed from pandas in a future version. Use pandas.concat instead.\n",
      "  results = results.append({\n",
      " 54%|█████▍    | 1105/2029 [1:09:33<33:51,  2.20s/it]C:\\Users\\Justin\\AppData\\Local\\Temp\\ipykernel_22308\\573511129.py:89: FutureWarning: The frame.append method is deprecated and will be removed from pandas in a future version. Use pandas.concat instead.\n",
      "  results = results.append({\n",
      " 55%|█████▍    | 1106/2029 [1:09:37<44:18,  2.88s/it]C:\\Users\\Justin\\AppData\\Local\\Temp\\ipykernel_22308\\573511129.py:89: FutureWarning: The frame.append method is deprecated and will be removed from pandas in a future version. Use pandas.concat instead.\n",
      "  results = results.append({\n",
      " 55%|█████▍    | 1107/2029 [1:09:42<50:32,  3.29s/it]C:\\Users\\Justin\\AppData\\Local\\Temp\\ipykernel_22308\\573511129.py:89: FutureWarning: The frame.append method is deprecated and will be removed from pandas in a future version. Use pandas.concat instead.\n",
      "  results = results.append({\n",
      " 55%|█████▍    | 1108/2029 [1:09:43<41:41,  2.72s/it]C:\\Users\\Justin\\AppData\\Local\\Temp\\ipykernel_22308\\573511129.py:89: FutureWarning: The frame.append method is deprecated and will be removed from pandas in a future version. Use pandas.concat instead.\n",
      "  results = results.append({\n",
      " 55%|█████▍    | 1110/2029 [1:09:52<51:03,  3.33s/it]"
     ]
    },
    {
     "name": "stdout",
     "output_type": "stream",
     "text": [
      "Error occurred: 'NoneType' object has no attribute 'text'\n"
     ]
    },
    {
     "name": "stderr",
     "output_type": "stream",
     "text": [
      "C:\\Users\\Justin\\AppData\\Local\\Temp\\ipykernel_22308\\573511129.py:89: FutureWarning: The frame.append method is deprecated and will be removed from pandas in a future version. Use pandas.concat instead.\n",
      "  results = results.append({\n",
      " 55%|█████▍    | 1111/2029 [1:09:52<39:21,  2.57s/it]C:\\Users\\Justin\\AppData\\Local\\Temp\\ipykernel_22308\\573511129.py:89: FutureWarning: The frame.append method is deprecated and will be removed from pandas in a future version. Use pandas.concat instead.\n",
      "  results = results.append({\n",
      " 55%|█████▍    | 1113/2029 [1:09:59<40:54,  2.68s/it]"
     ]
    },
    {
     "name": "stdout",
     "output_type": "stream",
     "text": [
      "Error occurred: 'NoneType' object has no attribute 'text'\n"
     ]
    },
    {
     "name": "stderr",
     "output_type": "stream",
     "text": [
      "C:\\Users\\Justin\\AppData\\Local\\Temp\\ipykernel_22308\\573511129.py:89: FutureWarning: The frame.append method is deprecated and will be removed from pandas in a future version. Use pandas.concat instead.\n",
      "  results = results.append({\n",
      " 55%|█████▍    | 1114/2029 [1:10:00<36:53,  2.42s/it]C:\\Users\\Justin\\AppData\\Local\\Temp\\ipykernel_22308\\573511129.py:89: FutureWarning: The frame.append method is deprecated and will be removed from pandas in a future version. Use pandas.concat instead.\n",
      "  results = results.append({\n",
      " 55%|█████▌    | 1116/2029 [1:10:09<54:18,  3.57s/it]"
     ]
    },
    {
     "name": "stdout",
     "output_type": "stream",
     "text": [
      "Error occurred: 'NoneType' object has no attribute 'text'\n"
     ]
    },
    {
     "name": "stderr",
     "output_type": "stream",
     "text": [
      "C:\\Users\\Justin\\AppData\\Local\\Temp\\ipykernel_22308\\573511129.py:89: FutureWarning: The frame.append method is deprecated and will be removed from pandas in a future version. Use pandas.concat instead.\n",
      "  results = results.append({\n",
      " 55%|█████▌    | 1117/2029 [1:10:11<45:39,  3.00s/it]C:\\Users\\Justin\\AppData\\Local\\Temp\\ipykernel_22308\\573511129.py:89: FutureWarning: The frame.append method is deprecated and will be removed from pandas in a future version. Use pandas.concat instead.\n",
      "  results = results.append({\n",
      " 55%|█████▌    | 1118/2029 [1:10:13<45:00,  2.96s/it]C:\\Users\\Justin\\AppData\\Local\\Temp\\ipykernel_22308\\573511129.py:89: FutureWarning: The frame.append method is deprecated and will be removed from pandas in a future version. Use pandas.concat instead.\n",
      "  results = results.append({\n",
      " 55%|█████▌    | 1119/2029 [1:10:18<50:36,  3.34s/it]C:\\Users\\Justin\\AppData\\Local\\Temp\\ipykernel_22308\\573511129.py:89: FutureWarning: The frame.append method is deprecated and will be removed from pandas in a future version. Use pandas.concat instead.\n",
      "  results = results.append({\n",
      " 55%|█████▌    | 1120/2029 [1:10:20<43:56,  2.90s/it]C:\\Users\\Justin\\AppData\\Local\\Temp\\ipykernel_22308\\573511129.py:89: FutureWarning: The frame.append method is deprecated and will be removed from pandas in a future version. Use pandas.concat instead.\n",
      "  results = results.append({\n",
      " 55%|█████▌    | 1121/2029 [1:10:27<1:06:18,  4.38s/it]C:\\Users\\Justin\\AppData\\Local\\Temp\\ipykernel_22308\\573511129.py:89: FutureWarning: The frame.append method is deprecated and will be removed from pandas in a future version. Use pandas.concat instead.\n",
      "  results = results.append({\n",
      " 55%|█████▌    | 1122/2029 [1:10:33<1:12:10,  4.77s/it]C:\\Users\\Justin\\AppData\\Local\\Temp\\ipykernel_22308\\573511129.py:89: FutureWarning: The frame.append method is deprecated and will be removed from pandas in a future version. Use pandas.concat instead.\n",
      "  results = results.append({\n",
      " 55%|█████▌    | 1123/2029 [1:10:37<1:10:28,  4.67s/it]C:\\Users\\Justin\\AppData\\Local\\Temp\\ipykernel_22308\\573511129.py:89: FutureWarning: The frame.append method is deprecated and will be removed from pandas in a future version. Use pandas.concat instead.\n",
      "  results = results.append({\n",
      " 55%|█████▌    | 1124/2029 [1:10:38<53:34,  3.55s/it]  C:\\Users\\Justin\\AppData\\Local\\Temp\\ipykernel_22308\\573511129.py:89: FutureWarning: The frame.append method is deprecated and will be removed from pandas in a future version. Use pandas.concat instead.\n",
      "  results = results.append({\n",
      " 55%|█████▌    | 1125/2029 [1:10:40<45:10,  3.00s/it]C:\\Users\\Justin\\AppData\\Local\\Temp\\ipykernel_22308\\573511129.py:89: FutureWarning: The frame.append method is deprecated and will be removed from pandas in a future version. Use pandas.concat instead.\n",
      "  results = results.append({\n",
      " 55%|█████▌    | 1126/2029 [1:10:42<41:44,  2.77s/it]C:\\Users\\Justin\\AppData\\Local\\Temp\\ipykernel_22308\\573511129.py:89: FutureWarning: The frame.append method is deprecated and will be removed from pandas in a future version. Use pandas.concat instead.\n",
      "  results = results.append({\n",
      " 56%|█████▌    | 1128/2029 [1:10:49<41:22,  2.76s/it]"
     ]
    },
    {
     "name": "stdout",
     "output_type": "stream",
     "text": [
      "Error occurred: 'NoneType' object has no attribute 'text'\n"
     ]
    },
    {
     "name": "stderr",
     "output_type": "stream",
     "text": [
      "C:\\Users\\Justin\\AppData\\Local\\Temp\\ipykernel_22308\\573511129.py:89: FutureWarning: The frame.append method is deprecated and will be removed from pandas in a future version. Use pandas.concat instead.\n",
      "  results = results.append({\n",
      " 56%|█████▌    | 1129/2029 [1:10:49<32:14,  2.15s/it]C:\\Users\\Justin\\AppData\\Local\\Temp\\ipykernel_22308\\573511129.py:89: FutureWarning: The frame.append method is deprecated and will be removed from pandas in a future version. Use pandas.concat instead.\n",
      "  results = results.append({\n",
      " 56%|█████▌    | 1130/2029 [1:10:50<27:51,  1.86s/it]C:\\Users\\Justin\\AppData\\Local\\Temp\\ipykernel_22308\\573511129.py:89: FutureWarning: The frame.append method is deprecated and will be removed from pandas in a future version. Use pandas.concat instead.\n",
      "  results = results.append({\n",
      " 56%|█████▌    | 1131/2029 [1:10:52<25:52,  1.73s/it]C:\\Users\\Justin\\AppData\\Local\\Temp\\ipykernel_22308\\573511129.py:89: FutureWarning: The frame.append method is deprecated and will be removed from pandas in a future version. Use pandas.concat instead.\n",
      "  results = results.append({\n",
      " 56%|█████▌    | 1132/2029 [1:10:53<23:56,  1.60s/it]C:\\Users\\Justin\\AppData\\Local\\Temp\\ipykernel_22308\\573511129.py:89: FutureWarning: The frame.append method is deprecated and will be removed from pandas in a future version. Use pandas.concat instead.\n",
      "  results = results.append({\n",
      " 56%|█████▌    | 1133/2029 [1:10:58<36:15,  2.43s/it]C:\\Users\\Justin\\AppData\\Local\\Temp\\ipykernel_22308\\573511129.py:89: FutureWarning: The frame.append method is deprecated and will be removed from pandas in a future version. Use pandas.concat instead.\n",
      "  results = results.append({\n",
      " 56%|█████▌    | 1134/2029 [1:11:03<49:36,  3.33s/it]C:\\Users\\Justin\\AppData\\Local\\Temp\\ipykernel_22308\\573511129.py:89: FutureWarning: The frame.append method is deprecated and will be removed from pandas in a future version. Use pandas.concat instead.\n",
      "  results = results.append({\n",
      " 56%|█████▌    | 1135/2029 [1:11:13<1:19:35,  5.34s/it]C:\\Users\\Justin\\AppData\\Local\\Temp\\ipykernel_22308\\573511129.py:89: FutureWarning: The frame.append method is deprecated and will be removed from pandas in a future version. Use pandas.concat instead.\n",
      "  results = results.append({\n",
      " 56%|█████▌    | 1136/2029 [1:11:18<1:19:23,  5.33s/it]C:\\Users\\Justin\\AppData\\Local\\Temp\\ipykernel_22308\\573511129.py:89: FutureWarning: The frame.append method is deprecated and will be removed from pandas in a future version. Use pandas.concat instead.\n",
      "  results = results.append({\n",
      " 56%|█████▌    | 1137/2029 [1:11:20<1:04:27,  4.34s/it]C:\\Users\\Justin\\AppData\\Local\\Temp\\ipykernel_22308\\573511129.py:89: FutureWarning: The frame.append method is deprecated and will be removed from pandas in a future version. Use pandas.concat instead.\n",
      "  results = results.append({\n",
      " 56%|█████▌    | 1138/2029 [1:11:28<1:17:19,  5.21s/it]C:\\Users\\Justin\\AppData\\Local\\Temp\\ipykernel_22308\\573511129.py:89: FutureWarning: The frame.append method is deprecated and will be removed from pandas in a future version. Use pandas.concat instead.\n",
      "  results = results.append({\n",
      " 56%|█████▌    | 1139/2029 [1:11:29<59:03,  3.98s/it]  C:\\Users\\Justin\\AppData\\Local\\Temp\\ipykernel_22308\\573511129.py:89: FutureWarning: The frame.append method is deprecated and will be removed from pandas in a future version. Use pandas.concat instead.\n",
      "  results = results.append({\n",
      " 56%|█████▌    | 1141/2029 [1:11:37<1:04:27,  4.35s/it]"
     ]
    },
    {
     "name": "stdout",
     "output_type": "stream",
     "text": [
      "Error occurred: 'NoneType' object has no attribute 'text'\n"
     ]
    },
    {
     "name": "stderr",
     "output_type": "stream",
     "text": [
      "C:\\Users\\Justin\\AppData\\Local\\Temp\\ipykernel_22308\\573511129.py:89: FutureWarning: The frame.append method is deprecated and will be removed from pandas in a future version. Use pandas.concat instead.\n",
      "  results = results.append({\n",
      " 56%|█████▋    | 1142/2029 [1:11:39<53:05,  3.59s/it]  C:\\Users\\Justin\\AppData\\Local\\Temp\\ipykernel_22308\\573511129.py:89: FutureWarning: The frame.append method is deprecated and will be removed from pandas in a future version. Use pandas.concat instead.\n",
      "  results = results.append({\n",
      " 56%|█████▋    | 1143/2029 [1:11:41<47:16,  3.20s/it]C:\\Users\\Justin\\AppData\\Local\\Temp\\ipykernel_22308\\573511129.py:89: FutureWarning: The frame.append method is deprecated and will be removed from pandas in a future version. Use pandas.concat instead.\n",
      "  results = results.append({\n",
      " 56%|█████▋    | 1145/2029 [1:11:49<49:20,  3.35s/it]"
     ]
    },
    {
     "name": "stdout",
     "output_type": "stream",
     "text": [
      "Error occurred: 'NoneType' object has no attribute 'text'\n"
     ]
    },
    {
     "name": "stderr",
     "output_type": "stream",
     "text": [
      "C:\\Users\\Justin\\AppData\\Local\\Temp\\ipykernel_22308\\573511129.py:89: FutureWarning: The frame.append method is deprecated and will be removed from pandas in a future version. Use pandas.concat instead.\n",
      "  results = results.append({\n",
      " 56%|█████▋    | 1146/2029 [1:11:50<38:14,  2.60s/it]C:\\Users\\Justin\\AppData\\Local\\Temp\\ipykernel_22308\\573511129.py:89: FutureWarning: The frame.append method is deprecated and will be removed from pandas in a future version. Use pandas.concat instead.\n",
      "  results = results.append({\n",
      " 57%|█████▋    | 1147/2029 [1:11:57<59:23,  4.04s/it]C:\\Users\\Justin\\AppData\\Local\\Temp\\ipykernel_22308\\573511129.py:89: FutureWarning: The frame.append method is deprecated and will be removed from pandas in a future version. Use pandas.concat instead.\n",
      "  results = results.append({\n",
      " 57%|█████▋    | 1148/2029 [1:11:58<45:56,  3.13s/it]C:\\Users\\Justin\\AppData\\Local\\Temp\\ipykernel_22308\\573511129.py:89: FutureWarning: The frame.append method is deprecated and will be removed from pandas in a future version. Use pandas.concat instead.\n",
      "  results = results.append({\n",
      " 57%|█████▋    | 1149/2029 [1:12:00<38:54,  2.65s/it]C:\\Users\\Justin\\AppData\\Local\\Temp\\ipykernel_22308\\573511129.py:89: FutureWarning: The frame.append method is deprecated and will be removed from pandas in a future version. Use pandas.concat instead.\n",
      "  results = results.append({\n",
      " 57%|█████▋    | 1150/2029 [1:12:02<34:27,  2.35s/it]"
     ]
    },
    {
     "name": "stdout",
     "output_type": "stream",
     "text": [
      "Error occurred: Cannot save file into a non-existent directory: 'TEMP\\NCAA_Partial'\n"
     ]
    },
    {
     "name": "stderr",
     "output_type": "stream",
     "text": [
      "C:\\Users\\Justin\\AppData\\Local\\Temp\\ipykernel_22308\\573511129.py:89: FutureWarning: The frame.append method is deprecated and will be removed from pandas in a future version. Use pandas.concat instead.\n",
      "  results = results.append({\n",
      " 57%|█████▋    | 1151/2029 [1:12:03<29:10,  1.99s/it]C:\\Users\\Justin\\AppData\\Local\\Temp\\ipykernel_22308\\573511129.py:89: FutureWarning: The frame.append method is deprecated and will be removed from pandas in a future version. Use pandas.concat instead.\n",
      "  results = results.append({\n",
      " 57%|█████▋    | 1152/2029 [1:12:08<41:42,  2.85s/it]C:\\Users\\Justin\\AppData\\Local\\Temp\\ipykernel_22308\\573511129.py:89: FutureWarning: The frame.append method is deprecated and will be removed from pandas in a future version. Use pandas.concat instead.\n",
      "  results = results.append({\n",
      " 57%|█████▋    | 1154/2029 [1:12:11<31:04,  2.13s/it]"
     ]
    },
    {
     "name": "stdout",
     "output_type": "stream",
     "text": [
      "Error occurred: 'NoneType' object has no attribute 'text'\n"
     ]
    },
    {
     "name": "stderr",
     "output_type": "stream",
     "text": [
      "C:\\Users\\Justin\\AppData\\Local\\Temp\\ipykernel_22308\\573511129.py:89: FutureWarning: The frame.append method is deprecated and will be removed from pandas in a future version. Use pandas.concat instead.\n",
      "  results = results.append({\n",
      " 57%|█████▋    | 1155/2029 [1:12:12<27:09,  1.86s/it]C:\\Users\\Justin\\AppData\\Local\\Temp\\ipykernel_22308\\573511129.py:89: FutureWarning: The frame.append method is deprecated and will be removed from pandas in a future version. Use pandas.concat instead.\n",
      "  results = results.append({\n",
      " 57%|█████▋    | 1156/2029 [1:12:14<26:35,  1.83s/it]C:\\Users\\Justin\\AppData\\Local\\Temp\\ipykernel_22308\\573511129.py:89: FutureWarning: The frame.append method is deprecated and will be removed from pandas in a future version. Use pandas.concat instead.\n",
      "  results = results.append({\n",
      " 57%|█████▋    | 1157/2029 [1:12:19<43:11,  2.97s/it]C:\\Users\\Justin\\AppData\\Local\\Temp\\ipykernel_22308\\573511129.py:89: FutureWarning: The frame.append method is deprecated and will be removed from pandas in a future version. Use pandas.concat instead.\n",
      "  results = results.append({\n",
      " 57%|█████▋    | 1159/2029 [1:12:22<31:06,  2.15s/it]"
     ]
    },
    {
     "name": "stdout",
     "output_type": "stream",
     "text": [
      "Error occurred: 'NoneType' object has no attribute 'text'\n"
     ]
    },
    {
     "name": "stderr",
     "output_type": "stream",
     "text": [
      "C:\\Users\\Justin\\AppData\\Local\\Temp\\ipykernel_22308\\573511129.py:89: FutureWarning: The frame.append method is deprecated and will be removed from pandas in a future version. Use pandas.concat instead.\n",
      "  results = results.append({\n",
      " 57%|█████▋    | 1160/2029 [1:12:24<28:16,  1.95s/it]C:\\Users\\Justin\\AppData\\Local\\Temp\\ipykernel_22308\\573511129.py:89: FutureWarning: The frame.append method is deprecated and will be removed from pandas in a future version. Use pandas.concat instead.\n",
      "  results = results.append({\n",
      " 57%|█████▋    | 1162/2029 [1:12:30<35:58,  2.49s/it]"
     ]
    },
    {
     "name": "stdout",
     "output_type": "stream",
     "text": [
      "Error occurred: 'NoneType' object has no attribute 'text'\n"
     ]
    },
    {
     "name": "stderr",
     "output_type": "stream",
     "text": [
      " 57%|█████▋    | 1163/2029 [1:12:31<31:34,  2.19s/it]"
     ]
    },
    {
     "name": "stdout",
     "output_type": "stream",
     "text": [
      "Error occurred: 'NoneType' object has no attribute 'text'\n"
     ]
    },
    {
     "name": "stderr",
     "output_type": "stream",
     "text": [
      "C:\\Users\\Justin\\AppData\\Local\\Temp\\ipykernel_22308\\573511129.py:89: FutureWarning: The frame.append method is deprecated and will be removed from pandas in a future version. Use pandas.concat instead.\n",
      "  results = results.append({\n",
      " 57%|█████▋    | 1164/2029 [1:12:38<49:09,  3.41s/it]C:\\Users\\Justin\\AppData\\Local\\Temp\\ipykernel_22308\\573511129.py:89: FutureWarning: The frame.append method is deprecated and will be removed from pandas in a future version. Use pandas.concat instead.\n",
      "  results = results.append({\n",
      " 57%|█████▋    | 1165/2029 [1:12:39<39:38,  2.75s/it]C:\\Users\\Justin\\AppData\\Local\\Temp\\ipykernel_22308\\573511129.py:89: FutureWarning: The frame.append method is deprecated and will be removed from pandas in a future version. Use pandas.concat instead.\n",
      "  results = results.append({\n",
      " 57%|█████▋    | 1166/2029 [1:12:41<35:09,  2.44s/it]C:\\Users\\Justin\\AppData\\Local\\Temp\\ipykernel_22308\\573511129.py:89: FutureWarning: The frame.append method is deprecated and will be removed from pandas in a future version. Use pandas.concat instead.\n",
      "  results = results.append({\n",
      " 58%|█████▊    | 1167/2029 [1:12:43<33:56,  2.36s/it]C:\\Users\\Justin\\AppData\\Local\\Temp\\ipykernel_22308\\573511129.py:89: FutureWarning: The frame.append method is deprecated and will be removed from pandas in a future version. Use pandas.concat instead.\n",
      "  results = results.append({\n",
      " 58%|█████▊    | 1168/2029 [1:12:48<44:20,  3.09s/it]C:\\Users\\Justin\\AppData\\Local\\Temp\\ipykernel_22308\\573511129.py:89: FutureWarning: The frame.append method is deprecated and will be removed from pandas in a future version. Use pandas.concat instead.\n",
      "  results = results.append({\n",
      " 58%|█████▊    | 1169/2029 [1:12:49<37:22,  2.61s/it]C:\\Users\\Justin\\AppData\\Local\\Temp\\ipykernel_22308\\573511129.py:89: FutureWarning: The frame.append method is deprecated and will be removed from pandas in a future version. Use pandas.concat instead.\n",
      "  results = results.append({\n",
      " 58%|█████▊    | 1171/2029 [1:12:54<35:12,  2.46s/it]"
     ]
    },
    {
     "name": "stdout",
     "output_type": "stream",
     "text": [
      "Error occurred: 'NoneType' object has no attribute 'text'\n"
     ]
    },
    {
     "name": "stderr",
     "output_type": "stream",
     "text": [
      "C:\\Users\\Justin\\AppData\\Local\\Temp\\ipykernel_22308\\573511129.py:89: FutureWarning: The frame.append method is deprecated and will be removed from pandas in a future version. Use pandas.concat instead.\n",
      "  results = results.append({\n",
      " 58%|█████▊    | 1172/2029 [1:12:59<47:44,  3.34s/it]C:\\Users\\Justin\\AppData\\Local\\Temp\\ipykernel_22308\\573511129.py:89: FutureWarning: The frame.append method is deprecated and will be removed from pandas in a future version. Use pandas.concat instead.\n",
      "  results = results.append({\n",
      " 58%|█████▊    | 1173/2029 [1:13:01<41:24,  2.90s/it]C:\\Users\\Justin\\AppData\\Local\\Temp\\ipykernel_22308\\573511129.py:89: FutureWarning: The frame.append method is deprecated and will be removed from pandas in a future version. Use pandas.concat instead.\n",
      "  results = results.append({\n",
      " 58%|█████▊    | 1174/2029 [1:13:07<57:07,  4.01s/it]C:\\Users\\Justin\\AppData\\Local\\Temp\\ipykernel_22308\\573511129.py:89: FutureWarning: The frame.append method is deprecated and will be removed from pandas in a future version. Use pandas.concat instead.\n",
      "  results = results.append({\n",
      " 58%|█████▊    | 1175/2029 [1:13:09<47:06,  3.31s/it]C:\\Users\\Justin\\AppData\\Local\\Temp\\ipykernel_22308\\573511129.py:89: FutureWarning: The frame.append method is deprecated and will be removed from pandas in a future version. Use pandas.concat instead.\n",
      "  results = results.append({\n",
      " 58%|█████▊    | 1176/2029 [1:13:11<42:05,  2.96s/it]C:\\Users\\Justin\\AppData\\Local\\Temp\\ipykernel_22308\\573511129.py:89: FutureWarning: The frame.append method is deprecated and will be removed from pandas in a future version. Use pandas.concat instead.\n",
      "  results = results.append({\n",
      " 58%|█████▊    | 1177/2029 [1:13:14<40:20,  2.84s/it]C:\\Users\\Justin\\AppData\\Local\\Temp\\ipykernel_22308\\573511129.py:89: FutureWarning: The frame.append method is deprecated and will be removed from pandas in a future version. Use pandas.concat instead.\n",
      "  results = results.append({\n",
      " 58%|█████▊    | 1179/2029 [1:13:21<42:58,  3.03s/it]"
     ]
    },
    {
     "name": "stdout",
     "output_type": "stream",
     "text": [
      "Error occurred: 'NoneType' object has no attribute 'text'\n"
     ]
    },
    {
     "name": "stderr",
     "output_type": "stream",
     "text": [
      "C:\\Users\\Justin\\AppData\\Local\\Temp\\ipykernel_22308\\573511129.py:89: FutureWarning: The frame.append method is deprecated and will be removed from pandas in a future version. Use pandas.concat instead.\n",
      "  results = results.append({\n",
      " 58%|█████▊    | 1180/2029 [1:13:22<36:07,  2.55s/it]C:\\Users\\Justin\\AppData\\Local\\Temp\\ipykernel_22308\\573511129.py:89: FutureWarning: The frame.append method is deprecated and will be removed from pandas in a future version. Use pandas.concat instead.\n",
      "  results = results.append({\n",
      " 58%|█████▊    | 1181/2029 [1:13:24<31:38,  2.24s/it]C:\\Users\\Justin\\AppData\\Local\\Temp\\ipykernel_22308\\573511129.py:89: FutureWarning: The frame.append method is deprecated and will be removed from pandas in a future version. Use pandas.concat instead.\n",
      "  results = results.append({\n",
      " 58%|█████▊    | 1182/2029 [1:13:29<45:00,  3.19s/it]C:\\Users\\Justin\\AppData\\Local\\Temp\\ipykernel_22308\\573511129.py:89: FutureWarning: The frame.append method is deprecated and will be removed from pandas in a future version. Use pandas.concat instead.\n",
      "  results = results.append({\n",
      " 58%|█████▊    | 1183/2029 [1:13:31<37:44,  2.68s/it]C:\\Users\\Justin\\AppData\\Local\\Temp\\ipykernel_22308\\573511129.py:89: FutureWarning: The frame.append method is deprecated and will be removed from pandas in a future version. Use pandas.concat instead.\n",
      "  results = results.append({\n",
      " 58%|█████▊    | 1184/2029 [1:13:33<35:45,  2.54s/it]C:\\Users\\Justin\\AppData\\Local\\Temp\\ipykernel_22308\\573511129.py:89: FutureWarning: The frame.append method is deprecated and will be removed from pandas in a future version. Use pandas.concat instead.\n",
      "  results = results.append({\n",
      " 58%|█████▊    | 1185/2029 [1:13:39<48:56,  3.48s/it]C:\\Users\\Justin\\AppData\\Local\\Temp\\ipykernel_22308\\573511129.py:89: FutureWarning: The frame.append method is deprecated and will be removed from pandas in a future version. Use pandas.concat instead.\n",
      "  results = results.append({\n",
      " 58%|█████▊    | 1186/2029 [1:13:40<40:53,  2.91s/it]C:\\Users\\Justin\\AppData\\Local\\Temp\\ipykernel_22308\\573511129.py:89: FutureWarning: The frame.append method is deprecated and will be removed from pandas in a future version. Use pandas.concat instead.\n",
      "  results = results.append({\n",
      " 59%|█████▊    | 1187/2029 [1:13:42<36:44,  2.62s/it]C:\\Users\\Justin\\AppData\\Local\\Temp\\ipykernel_22308\\573511129.py:89: FutureWarning: The frame.append method is deprecated and will be removed from pandas in a future version. Use pandas.concat instead.\n",
      "  results = results.append({\n",
      " 59%|█████▊    | 1188/2029 [1:13:44<33:39,  2.40s/it]C:\\Users\\Justin\\AppData\\Local\\Temp\\ipykernel_22308\\573511129.py:89: FutureWarning: The frame.append method is deprecated and will be removed from pandas in a future version. Use pandas.concat instead.\n",
      "  results = results.append({\n",
      " 59%|█████▊    | 1189/2029 [1:13:49<43:26,  3.10s/it]C:\\Users\\Justin\\AppData\\Local\\Temp\\ipykernel_22308\\573511129.py:89: FutureWarning: The frame.append method is deprecated and will be removed from pandas in a future version. Use pandas.concat instead.\n",
      "  results = results.append({\n",
      " 59%|█████▊    | 1190/2029 [1:13:51<39:53,  2.85s/it]C:\\Users\\Justin\\AppData\\Local\\Temp\\ipykernel_22308\\573511129.py:89: FutureWarning: The frame.append method is deprecated and will be removed from pandas in a future version. Use pandas.concat instead.\n",
      "  results = results.append({\n",
      " 59%|█████▊    | 1191/2029 [1:13:53<36:02,  2.58s/it]C:\\Users\\Justin\\AppData\\Local\\Temp\\ipykernel_22308\\573511129.py:89: FutureWarning: The frame.append method is deprecated and will be removed from pandas in a future version. Use pandas.concat instead.\n",
      "  results = results.append({\n",
      " 59%|█████▊    | 1192/2029 [1:13:59<50:39,  3.63s/it]C:\\Users\\Justin\\AppData\\Local\\Temp\\ipykernel_22308\\573511129.py:89: FutureWarning: The frame.append method is deprecated and will be removed from pandas in a future version. Use pandas.concat instead.\n",
      "  results = results.append({\n",
      " 59%|█████▉    | 1193/2029 [1:14:02<45:34,  3.27s/it]C:\\Users\\Justin\\AppData\\Local\\Temp\\ipykernel_22308\\573511129.py:89: FutureWarning: The frame.append method is deprecated and will be removed from pandas in a future version. Use pandas.concat instead.\n",
      "  results = results.append({\n",
      " 59%|█████▉    | 1194/2029 [1:14:03<36:46,  2.64s/it]C:\\Users\\Justin\\AppData\\Local\\Temp\\ipykernel_22308\\573511129.py:89: FutureWarning: The frame.append method is deprecated and will be removed from pandas in a future version. Use pandas.concat instead.\n",
      "  results = results.append({\n",
      " 59%|█████▉    | 1195/2029 [1:14:08<46:07,  3.32s/it]C:\\Users\\Justin\\AppData\\Local\\Temp\\ipykernel_22308\\573511129.py:89: FutureWarning: The frame.append method is deprecated and will be removed from pandas in a future version. Use pandas.concat instead.\n",
      "  results = results.append({\n",
      " 59%|█████▉    | 1196/2029 [1:14:09<39:48,  2.87s/it]C:\\Users\\Justin\\AppData\\Local\\Temp\\ipykernel_22308\\573511129.py:89: FutureWarning: The frame.append method is deprecated and will be removed from pandas in a future version. Use pandas.concat instead.\n",
      "  results = results.append({\n",
      " 59%|█████▉    | 1197/2029 [1:14:12<37:21,  2.69s/it]C:\\Users\\Justin\\AppData\\Local\\Temp\\ipykernel_22308\\573511129.py:89: FutureWarning: The frame.append method is deprecated and will be removed from pandas in a future version. Use pandas.concat instead.\n",
      "  results = results.append({\n",
      " 59%|█████▉    | 1198/2029 [1:14:13<31:56,  2.31s/it]C:\\Users\\Justin\\AppData\\Local\\Temp\\ipykernel_22308\\573511129.py:89: FutureWarning: The frame.append method is deprecated and will be removed from pandas in a future version. Use pandas.concat instead.\n",
      "  results = results.append({\n",
      " 59%|█████▉    | 1199/2029 [1:14:19<45:46,  3.31s/it]C:\\Users\\Justin\\AppData\\Local\\Temp\\ipykernel_22308\\573511129.py:89: FutureWarning: The frame.append method is deprecated and will be removed from pandas in a future version. Use pandas.concat instead.\n",
      "  results = results.append({\n",
      " 59%|█████▉    | 1200/2029 [1:14:28<1:09:53,  5.06s/it]"
     ]
    },
    {
     "name": "stdout",
     "output_type": "stream",
     "text": [
      "Error occurred: Cannot save file into a non-existent directory: 'TEMP\\NCAA_Partial'\n"
     ]
    },
    {
     "name": "stderr",
     "output_type": "stream",
     "text": [
      "C:\\Users\\Justin\\AppData\\Local\\Temp\\ipykernel_22308\\573511129.py:89: FutureWarning: The frame.append method is deprecated and will be removed from pandas in a future version. Use pandas.concat instead.\n",
      "  results = results.append({\n",
      " 59%|█████▉    | 1201/2029 [1:14:34<1:12:40,  5.27s/it]C:\\Users\\Justin\\AppData\\Local\\Temp\\ipykernel_22308\\573511129.py:89: FutureWarning: The frame.append method is deprecated and will be removed from pandas in a future version. Use pandas.concat instead.\n",
      "  results = results.append({\n",
      " 59%|█████▉    | 1202/2029 [1:14:37<1:06:18,  4.81s/it]C:\\Users\\Justin\\AppData\\Local\\Temp\\ipykernel_22308\\573511129.py:89: FutureWarning: The frame.append method is deprecated and will be removed from pandas in a future version. Use pandas.concat instead.\n",
      "  results = results.append({\n",
      " 59%|█████▉    | 1204/2029 [1:14:47<1:07:12,  4.89s/it]"
     ]
    },
    {
     "name": "stdout",
     "output_type": "stream",
     "text": [
      "Error occurred: 'NoneType' object has no attribute 'text'\n"
     ]
    },
    {
     "name": "stderr",
     "output_type": "stream",
     "text": [
      "C:\\Users\\Justin\\AppData\\Local\\Temp\\ipykernel_22308\\573511129.py:89: FutureWarning: The frame.append method is deprecated and will be removed from pandas in a future version. Use pandas.concat instead.\n",
      "  results = results.append({\n",
      " 59%|█████▉    | 1205/2029 [1:14:49<54:20,  3.96s/it]  C:\\Users\\Justin\\AppData\\Local\\Temp\\ipykernel_22308\\573511129.py:89: FutureWarning: The frame.append method is deprecated and will be removed from pandas in a future version. Use pandas.concat instead.\n",
      "  results = results.append({\n",
      " 59%|█████▉    | 1206/2029 [1:14:51<45:24,  3.31s/it]C:\\Users\\Justin\\AppData\\Local\\Temp\\ipykernel_22308\\573511129.py:89: FutureWarning: The frame.append method is deprecated and will be removed from pandas in a future version. Use pandas.concat instead.\n",
      "  results = results.append({\n",
      " 59%|█████▉    | 1207/2029 [1:14:54<41:50,  3.05s/it]C:\\Users\\Justin\\AppData\\Local\\Temp\\ipykernel_22308\\573511129.py:89: FutureWarning: The frame.append method is deprecated and will be removed from pandas in a future version. Use pandas.concat instead.\n",
      "  results = results.append({\n",
      " 60%|█████▉    | 1208/2029 [1:14:58<45:50,  3.35s/it]C:\\Users\\Justin\\AppData\\Local\\Temp\\ipykernel_22308\\573511129.py:89: FutureWarning: The frame.append method is deprecated and will be removed from pandas in a future version. Use pandas.concat instead.\n",
      "  results = results.append({\n",
      " 60%|█████▉    | 1209/2029 [1:14:58<35:28,  2.60s/it]C:\\Users\\Justin\\AppData\\Local\\Temp\\ipykernel_22308\\573511129.py:89: FutureWarning: The frame.append method is deprecated and will be removed from pandas in a future version. Use pandas.concat instead.\n",
      "  results = results.append({\n",
      " 60%|█████▉    | 1210/2029 [1:15:01<35:43,  2.62s/it]C:\\Users\\Justin\\AppData\\Local\\Temp\\ipykernel_22308\\573511129.py:89: FutureWarning: The frame.append method is deprecated and will be removed from pandas in a future version. Use pandas.concat instead.\n",
      "  results = results.append({\n",
      " 60%|█████▉    | 1211/2029 [1:15:03<34:23,  2.52s/it]C:\\Users\\Justin\\AppData\\Local\\Temp\\ipykernel_22308\\573511129.py:89: FutureWarning: The frame.append method is deprecated and will be removed from pandas in a future version. Use pandas.concat instead.\n",
      "  results = results.append({\n",
      " 60%|█████▉    | 1212/2029 [1:15:08<41:16,  3.03s/it]C:\\Users\\Justin\\AppData\\Local\\Temp\\ipykernel_22308\\573511129.py:89: FutureWarning: The frame.append method is deprecated and will be removed from pandas in a future version. Use pandas.concat instead.\n",
      "  results = results.append({\n",
      " 60%|█████▉    | 1213/2029 [1:15:09<35:46,  2.63s/it]C:\\Users\\Justin\\AppData\\Local\\Temp\\ipykernel_22308\\573511129.py:89: FutureWarning: The frame.append method is deprecated and will be removed from pandas in a future version. Use pandas.concat instead.\n",
      "  results = results.append({\n",
      " 60%|█████▉    | 1214/2029 [1:15:23<1:20:15,  5.91s/it]C:\\Users\\Justin\\AppData\\Local\\Temp\\ipykernel_22308\\573511129.py:89: FutureWarning: The frame.append method is deprecated and will be removed from pandas in a future version. Use pandas.concat instead.\n",
      "  results = results.append({\n",
      " 60%|█████▉    | 1216/2029 [1:15:30<1:01:23,  4.53s/it]"
     ]
    },
    {
     "name": "stdout",
     "output_type": "stream",
     "text": [
      "Error occurred: 'NoneType' object has no attribute 'text'\n"
     ]
    },
    {
     "name": "stderr",
     "output_type": "stream",
     "text": [
      "C:\\Users\\Justin\\AppData\\Local\\Temp\\ipykernel_22308\\573511129.py:89: FutureWarning: The frame.append method is deprecated and will be removed from pandas in a future version. Use pandas.concat instead.\n",
      "  results = results.append({\n",
      " 60%|█████▉    | 1217/2029 [1:15:32<52:09,  3.85s/it]  C:\\Users\\Justin\\AppData\\Local\\Temp\\ipykernel_22308\\573511129.py:89: FutureWarning: The frame.append method is deprecated and will be removed from pandas in a future version. Use pandas.concat instead.\n",
      "  results = results.append({\n",
      " 60%|██████    | 1218/2029 [1:15:34<43:31,  3.22s/it]C:\\Users\\Justin\\AppData\\Local\\Temp\\ipykernel_22308\\573511129.py:89: FutureWarning: The frame.append method is deprecated and will be removed from pandas in a future version. Use pandas.concat instead.\n",
      "  results = results.append({\n",
      " 60%|██████    | 1219/2029 [1:15:39<52:00,  3.85s/it]C:\\Users\\Justin\\AppData\\Local\\Temp\\ipykernel_22308\\573511129.py:89: FutureWarning: The frame.append method is deprecated and will be removed from pandas in a future version. Use pandas.concat instead.\n",
      "  results = results.append({\n",
      " 60%|██████    | 1220/2029 [1:15:41<42:23,  3.14s/it]C:\\Users\\Justin\\AppData\\Local\\Temp\\ipykernel_22308\\573511129.py:89: FutureWarning: The frame.append method is deprecated and will be removed from pandas in a future version. Use pandas.concat instead.\n",
      "  results = results.append({\n",
      " 60%|██████    | 1221/2029 [1:15:42<33:37,  2.50s/it]C:\\Users\\Justin\\AppData\\Local\\Temp\\ipykernel_22308\\573511129.py:89: FutureWarning: The frame.append method is deprecated and will be removed from pandas in a future version. Use pandas.concat instead.\n",
      "  results = results.append({\n",
      " 60%|██████    | 1222/2029 [1:15:44<33:22,  2.48s/it]C:\\Users\\Justin\\AppData\\Local\\Temp\\ipykernel_22308\\573511129.py:89: FutureWarning: The frame.append method is deprecated and will be removed from pandas in a future version. Use pandas.concat instead.\n",
      "  results = results.append({\n",
      " 60%|██████    | 1223/2029 [1:15:48<38:08,  2.84s/it]C:\\Users\\Justin\\AppData\\Local\\Temp\\ipykernel_22308\\573511129.py:89: FutureWarning: The frame.append method is deprecated and will be removed from pandas in a future version. Use pandas.concat instead.\n",
      "  results = results.append({\n",
      " 60%|██████    | 1224/2029 [1:15:49<33:22,  2.49s/it]C:\\Users\\Justin\\AppData\\Local\\Temp\\ipykernel_22308\\573511129.py:89: FutureWarning: The frame.append method is deprecated and will be removed from pandas in a future version. Use pandas.concat instead.\n",
      "  results = results.append({\n",
      " 60%|██████    | 1225/2029 [1:15:51<28:53,  2.16s/it]C:\\Users\\Justin\\AppData\\Local\\Temp\\ipykernel_22308\\573511129.py:89: FutureWarning: The frame.append method is deprecated and will be removed from pandas in a future version. Use pandas.concat instead.\n",
      "  results = results.append({\n",
      " 60%|██████    | 1227/2029 [1:15:54<24:26,  1.83s/it]"
     ]
    },
    {
     "name": "stdout",
     "output_type": "stream",
     "text": [
      "Error occurred: 'NoneType' object has no attribute 'text'\n"
     ]
    },
    {
     "name": "stderr",
     "output_type": "stream",
     "text": [
      " 61%|██████    | 1228/2029 [1:15:58<34:44,  2.60s/it]"
     ]
    },
    {
     "name": "stdout",
     "output_type": "stream",
     "text": [
      "Error occurred: 'NoneType' object has no attribute 'text'\n"
     ]
    },
    {
     "name": "stderr",
     "output_type": "stream",
     "text": [
      "C:\\Users\\Justin\\AppData\\Local\\Temp\\ipykernel_22308\\573511129.py:89: FutureWarning: The frame.append method is deprecated and will be removed from pandas in a future version. Use pandas.concat instead.\n",
      "  results = results.append({\n",
      " 61%|██████    | 1229/2029 [1:15:59<29:40,  2.23s/it]C:\\Users\\Justin\\AppData\\Local\\Temp\\ipykernel_22308\\573511129.py:89: FutureWarning: The frame.append method is deprecated and will be removed from pandas in a future version. Use pandas.concat instead.\n",
      "  results = results.append({\n",
      " 61%|██████    | 1230/2029 [1:16:00<24:17,  1.82s/it]C:\\Users\\Justin\\AppData\\Local\\Temp\\ipykernel_22308\\573511129.py:89: FutureWarning: The frame.append method is deprecated and will be removed from pandas in a future version. Use pandas.concat instead.\n",
      "  results = results.append({\n",
      " 61%|██████    | 1231/2029 [1:16:08<47:27,  3.57s/it]C:\\Users\\Justin\\AppData\\Local\\Temp\\ipykernel_22308\\573511129.py:89: FutureWarning: The frame.append method is deprecated and will be removed from pandas in a future version. Use pandas.concat instead.\n",
      "  results = results.append({\n",
      " 61%|██████    | 1232/2029 [1:16:14<55:19,  4.17s/it]C:\\Users\\Justin\\AppData\\Local\\Temp\\ipykernel_22308\\573511129.py:89: FutureWarning: The frame.append method is deprecated and will be removed from pandas in a future version. Use pandas.concat instead.\n",
      "  results = results.append({\n",
      " 61%|██████    | 1233/2029 [1:16:18<55:04,  4.15s/it]C:\\Users\\Justin\\AppData\\Local\\Temp\\ipykernel_22308\\573511129.py:89: FutureWarning: The frame.append method is deprecated and will be removed from pandas in a future version. Use pandas.concat instead.\n",
      "  results = results.append({\n",
      " 61%|██████    | 1234/2029 [1:16:21<52:46,  3.98s/it]C:\\Users\\Justin\\AppData\\Local\\Temp\\ipykernel_22308\\573511129.py:89: FutureWarning: The frame.append method is deprecated and will be removed from pandas in a future version. Use pandas.concat instead.\n",
      "  results = results.append({\n",
      " 61%|██████    | 1235/2029 [1:16:23<44:49,  3.39s/it]C:\\Users\\Justin\\AppData\\Local\\Temp\\ipykernel_22308\\573511129.py:89: FutureWarning: The frame.append method is deprecated and will be removed from pandas in a future version. Use pandas.concat instead.\n",
      "  results = results.append({\n",
      " 61%|██████    | 1236/2029 [1:16:28<49:17,  3.73s/it]C:\\Users\\Justin\\AppData\\Local\\Temp\\ipykernel_22308\\573511129.py:89: FutureWarning: The frame.append method is deprecated and will be removed from pandas in a future version. Use pandas.concat instead.\n",
      "  results = results.append({\n",
      " 61%|██████    | 1237/2029 [1:16:30<41:33,  3.15s/it]C:\\Users\\Justin\\AppData\\Local\\Temp\\ipykernel_22308\\573511129.py:89: FutureWarning: The frame.append method is deprecated and will be removed from pandas in a future version. Use pandas.concat instead.\n",
      "  results = results.append({\n",
      " 61%|██████    | 1239/2029 [1:16:32<30:06,  2.29s/it]"
     ]
    },
    {
     "name": "stdout",
     "output_type": "stream",
     "text": [
      "Error occurred: 'NoneType' object has no attribute 'text'\n"
     ]
    },
    {
     "name": "stderr",
     "output_type": "stream",
     "text": [
      "C:\\Users\\Justin\\AppData\\Local\\Temp\\ipykernel_22308\\573511129.py:89: FutureWarning: The frame.append method is deprecated and will be removed from pandas in a future version. Use pandas.concat instead.\n",
      "  results = results.append({\n",
      " 61%|██████    | 1240/2029 [1:16:39<45:35,  3.47s/it]C:\\Users\\Justin\\AppData\\Local\\Temp\\ipykernel_22308\\573511129.py:89: FutureWarning: The frame.append method is deprecated and will be removed from pandas in a future version. Use pandas.concat instead.\n",
      "  results = results.append({\n",
      " 61%|██████    | 1242/2029 [1:16:50<55:27,  4.23s/it]  "
     ]
    },
    {
     "name": "stdout",
     "output_type": "stream",
     "text": [
      "Error occurred: 'NoneType' object has no attribute 'text'\n"
     ]
    },
    {
     "name": "stderr",
     "output_type": "stream",
     "text": [
      "C:\\Users\\Justin\\AppData\\Local\\Temp\\ipykernel_22308\\573511129.py:89: FutureWarning: The frame.append method is deprecated and will be removed from pandas in a future version. Use pandas.concat instead.\n",
      "  results = results.append({\n",
      " 61%|██████▏   | 1243/2029 [1:16:51<43:45,  3.34s/it]C:\\Users\\Justin\\AppData\\Local\\Temp\\ipykernel_22308\\573511129.py:89: FutureWarning: The frame.append method is deprecated and will be removed from pandas in a future version. Use pandas.concat instead.\n",
      "  results = results.append({\n",
      " 61%|██████▏   | 1244/2029 [1:16:58<57:14,  4.38s/it]C:\\Users\\Justin\\AppData\\Local\\Temp\\ipykernel_22308\\573511129.py:89: FutureWarning: The frame.append method is deprecated and will be removed from pandas in a future version. Use pandas.concat instead.\n",
      "  results = results.append({\n",
      " 61%|██████▏   | 1245/2029 [1:16:59<46:35,  3.57s/it]C:\\Users\\Justin\\AppData\\Local\\Temp\\ipykernel_22308\\573511129.py:89: FutureWarning: The frame.append method is deprecated and will be removed from pandas in a future version. Use pandas.concat instead.\n",
      "  results = results.append({\n",
      " 61%|██████▏   | 1246/2029 [1:17:01<39:31,  3.03s/it]C:\\Users\\Justin\\AppData\\Local\\Temp\\ipykernel_22308\\573511129.py:89: FutureWarning: The frame.append method is deprecated and will be removed from pandas in a future version. Use pandas.concat instead.\n",
      "  results = results.append({\n",
      " 62%|██████▏   | 1248/2029 [1:17:09<47:08,  3.62s/it]"
     ]
    },
    {
     "name": "stdout",
     "output_type": "stream",
     "text": [
      "Error occurred: 'NoneType' object has no attribute 'text'\n"
     ]
    },
    {
     "name": "stderr",
     "output_type": "stream",
     "text": [
      "C:\\Users\\Justin\\AppData\\Local\\Temp\\ipykernel_22308\\573511129.py:89: FutureWarning: The frame.append method is deprecated and will be removed from pandas in a future version. Use pandas.concat instead.\n",
      "  results = results.append({\n",
      " 62%|██████▏   | 1249/2029 [1:17:11<39:53,  3.07s/it]C:\\Users\\Justin\\AppData\\Local\\Temp\\ipykernel_22308\\573511129.py:89: FutureWarning: The frame.append method is deprecated and will be removed from pandas in a future version. Use pandas.concat instead.\n",
      "  results = results.append({\n",
      " 62%|██████▏   | 1250/2029 [1:17:12<34:32,  2.66s/it]"
     ]
    },
    {
     "name": "stdout",
     "output_type": "stream",
     "text": [
      "Error occurred: Cannot save file into a non-existent directory: 'TEMP\\NCAA_Partial'\n"
     ]
    },
    {
     "name": "stderr",
     "output_type": "stream",
     "text": [
      "C:\\Users\\Justin\\AppData\\Local\\Temp\\ipykernel_22308\\573511129.py:89: FutureWarning: The frame.append method is deprecated and will be removed from pandas in a future version. Use pandas.concat instead.\n",
      "  results = results.append({\n",
      " 62%|██████▏   | 1251/2029 [1:17:14<32:33,  2.51s/it]C:\\Users\\Justin\\AppData\\Local\\Temp\\ipykernel_22308\\573511129.py:89: FutureWarning: The frame.append method is deprecated and will be removed from pandas in a future version. Use pandas.concat instead.\n",
      "  results = results.append({\n",
      " 62%|██████▏   | 1252/2029 [1:17:20<43:29,  3.36s/it]C:\\Users\\Justin\\AppData\\Local\\Temp\\ipykernel_22308\\573511129.py:89: FutureWarning: The frame.append method is deprecated and will be removed from pandas in a future version. Use pandas.concat instead.\n",
      "  results = results.append({\n",
      " 62%|██████▏   | 1253/2029 [1:17:24<47:41,  3.69s/it]C:\\Users\\Justin\\AppData\\Local\\Temp\\ipykernel_22308\\573511129.py:89: FutureWarning: The frame.append method is deprecated and will be removed from pandas in a future version. Use pandas.concat instead.\n",
      "  results = results.append({\n",
      " 62%|██████▏   | 1254/2029 [1:17:27<42:33,  3.29s/it]C:\\Users\\Justin\\AppData\\Local\\Temp\\ipykernel_22308\\573511129.py:89: FutureWarning: The frame.append method is deprecated and will be removed from pandas in a future version. Use pandas.concat instead.\n",
      "  results = results.append({\n",
      " 62%|██████▏   | 1255/2029 [1:17:29<40:08,  3.11s/it]C:\\Users\\Justin\\AppData\\Local\\Temp\\ipykernel_22308\\573511129.py:89: FutureWarning: The frame.append method is deprecated and will be removed from pandas in a future version. Use pandas.concat instead.\n",
      "  results = results.append({\n",
      " 62%|██████▏   | 1256/2029 [1:17:31<33:59,  2.64s/it]C:\\Users\\Justin\\AppData\\Local\\Temp\\ipykernel_22308\\573511129.py:89: FutureWarning: The frame.append method is deprecated and will be removed from pandas in a future version. Use pandas.concat instead.\n",
      "  results = results.append({\n",
      " 62%|██████▏   | 1257/2029 [1:17:40<59:25,  4.62s/it]C:\\Users\\Justin\\AppData\\Local\\Temp\\ipykernel_22308\\573511129.py:89: FutureWarning: The frame.append method is deprecated and will be removed from pandas in a future version. Use pandas.concat instead.\n",
      "  results = results.append({\n",
      " 62%|██████▏   | 1258/2029 [1:17:48<1:12:02,  5.61s/it]C:\\Users\\Justin\\AppData\\Local\\Temp\\ipykernel_22308\\573511129.py:89: FutureWarning: The frame.append method is deprecated and will be removed from pandas in a future version. Use pandas.concat instead.\n",
      "  results = results.append({\n",
      " 62%|██████▏   | 1260/2029 [1:18:09<1:55:27,  9.01s/it]"
     ]
    },
    {
     "name": "stdout",
     "output_type": "stream",
     "text": [
      "Error occurred: 'NoneType' object has no attribute 'text'\n"
     ]
    },
    {
     "name": "stderr",
     "output_type": "stream",
     "text": [
      "C:\\Users\\Justin\\AppData\\Local\\Temp\\ipykernel_22308\\573511129.py:89: FutureWarning: The frame.append method is deprecated and will be removed from pandas in a future version. Use pandas.concat instead.\n",
      "  results = results.append({\n",
      " 62%|██████▏   | 1261/2029 [1:18:12<1:30:40,  7.08s/it]C:\\Users\\Justin\\AppData\\Local\\Temp\\ipykernel_22308\\573511129.py:89: FutureWarning: The frame.append method is deprecated and will be removed from pandas in a future version. Use pandas.concat instead.\n",
      "  results = results.append({\n",
      " 62%|██████▏   | 1262/2029 [1:18:13<1:05:53,  5.15s/it]C:\\Users\\Justin\\AppData\\Local\\Temp\\ipykernel_22308\\573511129.py:89: FutureWarning: The frame.append method is deprecated and will be removed from pandas in a future version. Use pandas.concat instead.\n",
      "  results = results.append({\n",
      " 62%|██████▏   | 1263/2029 [1:18:13<49:31,  3.88s/it]  C:\\Users\\Justin\\AppData\\Local\\Temp\\ipykernel_22308\\573511129.py:89: FutureWarning: The frame.append method is deprecated and will be removed from pandas in a future version. Use pandas.concat instead.\n",
      "  results = results.append({\n",
      " 62%|██████▏   | 1264/2029 [1:18:18<51:51,  4.07s/it]C:\\Users\\Justin\\AppData\\Local\\Temp\\ipykernel_22308\\573511129.py:89: FutureWarning: The frame.append method is deprecated and will be removed from pandas in a future version. Use pandas.concat instead.\n",
      "  results = results.append({\n",
      " 62%|██████▏   | 1265/2029 [1:18:19<40:25,  3.18s/it]C:\\Users\\Justin\\AppData\\Local\\Temp\\ipykernel_22308\\573511129.py:89: FutureWarning: The frame.append method is deprecated and will be removed from pandas in a future version. Use pandas.concat instead.\n",
      "  results = results.append({\n",
      " 62%|██████▏   | 1266/2029 [1:18:38<1:40:14,  7.88s/it]C:\\Users\\Justin\\AppData\\Local\\Temp\\ipykernel_22308\\573511129.py:89: FutureWarning: The frame.append method is deprecated and will be removed from pandas in a future version. Use pandas.concat instead.\n",
      "  results = results.append({\n",
      " 62%|██████▏   | 1267/2029 [1:19:00<2:33:25, 12.08s/it]C:\\Users\\Justin\\AppData\\Local\\Temp\\ipykernel_22308\\573511129.py:89: FutureWarning: The frame.append method is deprecated and will be removed from pandas in a future version. Use pandas.concat instead.\n",
      "  results = results.append({\n",
      " 62%|██████▏   | 1268/2029 [1:19:02<1:54:17,  9.01s/it]C:\\Users\\Justin\\AppData\\Local\\Temp\\ipykernel_22308\\573511129.py:89: FutureWarning: The frame.append method is deprecated and will be removed from pandas in a future version. Use pandas.concat instead.\n",
      "  results = results.append({\n",
      " 63%|██████▎   | 1269/2029 [1:19:02<1:22:50,  6.54s/it]C:\\Users\\Justin\\AppData\\Local\\Temp\\ipykernel_22308\\573511129.py:89: FutureWarning: The frame.append method is deprecated and will be removed from pandas in a future version. Use pandas.concat instead.\n",
      "  results = results.append({\n",
      " 63%|██████▎   | 1270/2029 [1:19:20<2:05:33,  9.93s/it]C:\\Users\\Justin\\AppData\\Local\\Temp\\ipykernel_22308\\573511129.py:89: FutureWarning: The frame.append method is deprecated and will be removed from pandas in a future version. Use pandas.concat instead.\n",
      "  results = results.append({\n",
      " 63%|██████▎   | 1271/2029 [1:19:22<1:32:48,  7.35s/it]C:\\Users\\Justin\\AppData\\Local\\Temp\\ipykernel_22308\\573511129.py:89: FutureWarning: The frame.append method is deprecated and will be removed from pandas in a future version. Use pandas.concat instead.\n",
      "  results = results.append({\n",
      " 63%|██████▎   | 1272/2029 [1:19:24<1:12:23,  5.74s/it]C:\\Users\\Justin\\AppData\\Local\\Temp\\ipykernel_22308\\573511129.py:89: FutureWarning: The frame.append method is deprecated and will be removed from pandas in a future version. Use pandas.concat instead.\n",
      "  results = results.append({\n",
      " 63%|██████▎   | 1273/2029 [1:19:42<1:59:48,  9.51s/it]C:\\Users\\Justin\\AppData\\Local\\Temp\\ipykernel_22308\\573511129.py:89: FutureWarning: The frame.append method is deprecated and will be removed from pandas in a future version. Use pandas.concat instead.\n",
      "  results = results.append({\n",
      " 63%|██████▎   | 1274/2029 [1:19:48<1:46:48,  8.49s/it]C:\\Users\\Justin\\AppData\\Local\\Temp\\ipykernel_22308\\573511129.py:89: FutureWarning: The frame.append method is deprecated and will be removed from pandas in a future version. Use pandas.concat instead.\n",
      "  results = results.append({\n",
      " 63%|██████▎   | 1276/2029 [1:20:12<1:58:33,  9.45s/it]"
     ]
    },
    {
     "name": "stdout",
     "output_type": "stream",
     "text": [
      "Error occurred: 'NoneType' object has no attribute 'text'\n"
     ]
    },
    {
     "name": "stderr",
     "output_type": "stream",
     "text": [
      "C:\\Users\\Justin\\AppData\\Local\\Temp\\ipykernel_22308\\573511129.py:89: FutureWarning: The frame.append method is deprecated and will be removed from pandas in a future version. Use pandas.concat instead.\n",
      "  results = results.append({\n",
      " 63%|██████▎   | 1278/2029 [1:20:24<1:31:03,  7.27s/it]"
     ]
    },
    {
     "name": "stdout",
     "output_type": "stream",
     "text": [
      "Error occurred: 'NoneType' object has no attribute 'text'\n"
     ]
    },
    {
     "name": "stderr",
     "output_type": "stream",
     "text": [
      " 63%|██████▎   | 1279/2029 [1:20:30<1:26:55,  6.95s/it]"
     ]
    },
    {
     "name": "stdout",
     "output_type": "stream",
     "text": [
      "Error occurred: 'NoneType' object has no attribute 'text'\n"
     ]
    },
    {
     "name": "stderr",
     "output_type": "stream",
     "text": [
      "C:\\Users\\Justin\\AppData\\Local\\Temp\\ipykernel_22308\\573511129.py:89: FutureWarning: The frame.append method is deprecated and will be removed from pandas in a future version. Use pandas.concat instead.\n",
      "  results = results.append({\n",
      " 63%|██████▎   | 1280/2029 [1:20:32<1:08:48,  5.51s/it]C:\\Users\\Justin\\AppData\\Local\\Temp\\ipykernel_22308\\573511129.py:89: FutureWarning: The frame.append method is deprecated and will be removed from pandas in a future version. Use pandas.concat instead.\n",
      "  results = results.append({\n",
      " 63%|██████▎   | 1282/2029 [1:20:43<1:10:55,  5.70s/it]"
     ]
    },
    {
     "name": "stdout",
     "output_type": "stream",
     "text": [
      "Error occurred: 'NoneType' object has no attribute 'text'\n"
     ]
    },
    {
     "name": "stderr",
     "output_type": "stream",
     "text": [
      "C:\\Users\\Justin\\AppData\\Local\\Temp\\ipykernel_22308\\573511129.py:89: FutureWarning: The frame.append method is deprecated and will be removed from pandas in a future version. Use pandas.concat instead.\n",
      "  results = results.append({\n",
      " 63%|██████▎   | 1283/2029 [1:21:09<2:27:25, 11.86s/it]C:\\Users\\Justin\\AppData\\Local\\Temp\\ipykernel_22308\\573511129.py:89: FutureWarning: The frame.append method is deprecated and will be removed from pandas in a future version. Use pandas.concat instead.\n",
      "  results = results.append({\n",
      " 63%|██████▎   | 1284/2029 [1:21:11<1:49:41,  8.83s/it]C:\\Users\\Justin\\AppData\\Local\\Temp\\ipykernel_22308\\573511129.py:89: FutureWarning: The frame.append method is deprecated and will be removed from pandas in a future version. Use pandas.concat instead.\n",
      "  results = results.append({\n",
      " 63%|██████▎   | 1285/2029 [1:21:13<1:23:12,  6.71s/it]C:\\Users\\Justin\\AppData\\Local\\Temp\\ipykernel_22308\\573511129.py:89: FutureWarning: The frame.append method is deprecated and will be removed from pandas in a future version. Use pandas.concat instead.\n",
      "  results = results.append({\n",
      " 63%|██████▎   | 1286/2029 [1:21:19<1:21:02,  6.54s/it]C:\\Users\\Justin\\AppData\\Local\\Temp\\ipykernel_22308\\573511129.py:89: FutureWarning: The frame.append method is deprecated and will be removed from pandas in a future version. Use pandas.concat instead.\n",
      "  results = results.append({\n",
      " 63%|██████▎   | 1287/2029 [1:21:21<1:02:49,  5.08s/it]C:\\Users\\Justin\\AppData\\Local\\Temp\\ipykernel_22308\\573511129.py:89: FutureWarning: The frame.append method is deprecated and will be removed from pandas in a future version. Use pandas.concat instead.\n",
      "  results = results.append({\n",
      " 63%|██████▎   | 1288/2029 [1:21:23<52:22,  4.24s/it]  C:\\Users\\Justin\\AppData\\Local\\Temp\\ipykernel_22308\\573511129.py:89: FutureWarning: The frame.append method is deprecated and will be removed from pandas in a future version. Use pandas.concat instead.\n",
      "  results = results.append({\n",
      " 64%|██████▎   | 1289/2029 [1:21:24<40:44,  3.30s/it]C:\\Users\\Justin\\AppData\\Local\\Temp\\ipykernel_22308\\573511129.py:89: FutureWarning: The frame.append method is deprecated and will be removed from pandas in a future version. Use pandas.concat instead.\n",
      "  results = results.append({\n",
      " 64%|██████▎   | 1291/2029 [1:21:44<1:13:39,  5.99s/it]"
     ]
    },
    {
     "name": "stdout",
     "output_type": "stream",
     "text": [
      "Error occurred: 'NoneType' object has no attribute 'text'\n"
     ]
    },
    {
     "name": "stderr",
     "output_type": "stream",
     "text": [
      "C:\\Users\\Justin\\AppData\\Local\\Temp\\ipykernel_22308\\573511129.py:89: FutureWarning: The frame.append method is deprecated and will be removed from pandas in a future version. Use pandas.concat instead.\n",
      "  results = results.append({\n",
      " 64%|██████▎   | 1292/2029 [1:21:48<1:08:05,  5.54s/it]C:\\Users\\Justin\\AppData\\Local\\Temp\\ipykernel_22308\\573511129.py:89: FutureWarning: The frame.append method is deprecated and will be removed from pandas in a future version. Use pandas.concat instead.\n",
      "  results = results.append({\n",
      " 64%|██████▎   | 1293/2029 [1:21:49<52:53,  4.31s/it]  C:\\Users\\Justin\\AppData\\Local\\Temp\\ipykernel_22308\\573511129.py:89: FutureWarning: The frame.append method is deprecated and will be removed from pandas in a future version. Use pandas.concat instead.\n",
      "  results = results.append({\n",
      " 64%|██████▍   | 1294/2029 [1:21:51<41:34,  3.39s/it]C:\\Users\\Justin\\AppData\\Local\\Temp\\ipykernel_22308\\573511129.py:89: FutureWarning: The frame.append method is deprecated and will be removed from pandas in a future version. Use pandas.concat instead.\n",
      "  results = results.append({\n",
      " 64%|██████▍   | 1295/2029 [1:21:53<35:46,  2.93s/it]C:\\Users\\Justin\\AppData\\Local\\Temp\\ipykernel_22308\\573511129.py:89: FutureWarning: The frame.append method is deprecated and will be removed from pandas in a future version. Use pandas.concat instead.\n",
      "  results = results.append({\n",
      " 64%|██████▍   | 1296/2029 [1:21:54<28:38,  2.34s/it]C:\\Users\\Justin\\AppData\\Local\\Temp\\ipykernel_22308\\573511129.py:89: FutureWarning: The frame.append method is deprecated and will be removed from pandas in a future version. Use pandas.concat instead.\n",
      "  results = results.append({\n",
      " 64%|██████▍   | 1297/2029 [1:21:59<40:04,  3.28s/it]C:\\Users\\Justin\\AppData\\Local\\Temp\\ipykernel_22308\\573511129.py:89: FutureWarning: The frame.append method is deprecated and will be removed from pandas in a future version. Use pandas.concat instead.\n",
      "  results = results.append({\n",
      " 64%|██████▍   | 1299/2029 [1:22:08<49:44,  4.09s/it]"
     ]
    },
    {
     "name": "stdout",
     "output_type": "stream",
     "text": [
      "Error occurred: 'NoneType' object has no attribute 'text'\n"
     ]
    },
    {
     "name": "stderr",
     "output_type": "stream",
     "text": [
      "C:\\Users\\Justin\\AppData\\Local\\Temp\\ipykernel_22308\\573511129.py:89: FutureWarning: The frame.append method is deprecated and will be removed from pandas in a future version. Use pandas.concat instead.\n",
      "  results = results.append({\n",
      " 64%|██████▍   | 1300/2029 [1:22:10<40:54,  3.37s/it]"
     ]
    },
    {
     "name": "stdout",
     "output_type": "stream",
     "text": [
      "Error occurred: Cannot save file into a non-existent directory: 'TEMP\\NCAA_Partial'\n"
     ]
    },
    {
     "name": "stderr",
     "output_type": "stream",
     "text": [
      "C:\\Users\\Justin\\AppData\\Local\\Temp\\ipykernel_22308\\573511129.py:89: FutureWarning: The frame.append method is deprecated and will be removed from pandas in a future version. Use pandas.concat instead.\n",
      "  results = results.append({\n",
      " 64%|██████▍   | 1301/2029 [1:22:21<1:08:46,  5.67s/it]C:\\Users\\Justin\\AppData\\Local\\Temp\\ipykernel_22308\\573511129.py:89: FutureWarning: The frame.append method is deprecated and will be removed from pandas in a future version. Use pandas.concat instead.\n",
      "  results = results.append({\n",
      " 64%|██████▍   | 1302/2029 [1:22:22<53:53,  4.45s/it]  C:\\Users\\Justin\\AppData\\Local\\Temp\\ipykernel_22308\\573511129.py:89: FutureWarning: The frame.append method is deprecated and will be removed from pandas in a future version. Use pandas.concat instead.\n",
      "  results = results.append({\n",
      " 64%|██████▍   | 1303/2029 [1:22:24<42:57,  3.55s/it]C:\\Users\\Justin\\AppData\\Local\\Temp\\ipykernel_22308\\573511129.py:89: FutureWarning: The frame.append method is deprecated and will be removed from pandas in a future version. Use pandas.concat instead.\n",
      "  results = results.append({\n",
      " 64%|██████▍   | 1304/2029 [1:22:28<46:11,  3.82s/it]C:\\Users\\Justin\\AppData\\Local\\Temp\\ipykernel_22308\\573511129.py:89: FutureWarning: The frame.append method is deprecated and will be removed from pandas in a future version. Use pandas.concat instead.\n",
      "  results = results.append({\n",
      " 64%|██████▍   | 1305/2029 [1:22:31<41:03,  3.40s/it]C:\\Users\\Justin\\AppData\\Local\\Temp\\ipykernel_22308\\573511129.py:89: FutureWarning: The frame.append method is deprecated and will be removed from pandas in a future version. Use pandas.concat instead.\n",
      "  results = results.append({\n",
      " 64%|██████▍   | 1307/2029 [1:22:38<44:52,  3.73s/it]"
     ]
    },
    {
     "name": "stdout",
     "output_type": "stream",
     "text": [
      "Error occurred: 'NoneType' object has no attribute 'text'\n"
     ]
    },
    {
     "name": "stderr",
     "output_type": "stream",
     "text": [
      "C:\\Users\\Justin\\AppData\\Local\\Temp\\ipykernel_22308\\573511129.py:89: FutureWarning: The frame.append method is deprecated and will be removed from pandas in a future version. Use pandas.concat instead.\n",
      "  results = results.append({\n",
      " 64%|██████▍   | 1308/2029 [1:22:39<35:41,  2.97s/it]C:\\Users\\Justin\\AppData\\Local\\Temp\\ipykernel_22308\\573511129.py:89: FutureWarning: The frame.append method is deprecated and will be removed from pandas in a future version. Use pandas.concat instead.\n",
      "  results = results.append({\n",
      " 65%|██████▍   | 1309/2029 [1:23:32<3:35:11, 17.93s/it]C:\\Users\\Justin\\AppData\\Local\\Temp\\ipykernel_22308\\573511129.py:89: FutureWarning: The frame.append method is deprecated and will be removed from pandas in a future version. Use pandas.concat instead.\n",
      "  results = results.append({\n",
      " 65%|██████▍   | 1311/2029 [1:23:38<2:04:51, 10.43s/it]"
     ]
    },
    {
     "name": "stdout",
     "output_type": "stream",
     "text": [
      "Error occurred: 'NoneType' object has no attribute 'text'\n"
     ]
    },
    {
     "name": "stderr",
     "output_type": "stream",
     "text": [
      "C:\\Users\\Justin\\AppData\\Local\\Temp\\ipykernel_22308\\573511129.py:89: FutureWarning: The frame.append method is deprecated and will be removed from pandas in a future version. Use pandas.concat instead.\n",
      "  results = results.append({\n",
      " 65%|██████▍   | 1313/2029 [1:23:44<1:21:47,  6.85s/it]"
     ]
    },
    {
     "name": "stdout",
     "output_type": "stream",
     "text": [
      "Error occurred: 'NoneType' object has no attribute 'text'\n"
     ]
    },
    {
     "name": "stderr",
     "output_type": "stream",
     "text": [
      "C:\\Users\\Justin\\AppData\\Local\\Temp\\ipykernel_22308\\573511129.py:89: FutureWarning: The frame.append method is deprecated and will be removed from pandas in a future version. Use pandas.concat instead.\n",
      "  results = results.append({\n",
      " 65%|██████▍   | 1314/2029 [1:23:48<1:12:22,  6.07s/it]C:\\Users\\Justin\\AppData\\Local\\Temp\\ipykernel_22308\\573511129.py:89: FutureWarning: The frame.append method is deprecated and will be removed from pandas in a future version. Use pandas.concat instead.\n",
      "  results = results.append({\n",
      " 65%|██████▍   | 1315/2029 [1:23:54<1:10:32,  5.93s/it]C:\\Users\\Justin\\AppData\\Local\\Temp\\ipykernel_22308\\573511129.py:89: FutureWarning: The frame.append method is deprecated and will be removed from pandas in a future version. Use pandas.concat instead.\n",
      "  results = results.append({\n",
      " 65%|██████▍   | 1316/2029 [1:24:00<1:10:44,  5.95s/it]C:\\Users\\Justin\\AppData\\Local\\Temp\\ipykernel_22308\\573511129.py:89: FutureWarning: The frame.append method is deprecated and will be removed from pandas in a future version. Use pandas.concat instead.\n",
      "  results = results.append({\n",
      " 65%|██████▍   | 1317/2029 [1:24:02<55:51,  4.71s/it]  C:\\Users\\Justin\\AppData\\Local\\Temp\\ipykernel_22308\\573511129.py:89: FutureWarning: The frame.append method is deprecated and will be removed from pandas in a future version. Use pandas.concat instead.\n",
      "  results = results.append({\n",
      " 65%|██████▌   | 1319/2029 [1:24:11<52:55,  4.47s/it]  "
     ]
    },
    {
     "name": "stdout",
     "output_type": "stream",
     "text": [
      "Error occurred: 'NoneType' object has no attribute 'text'\n"
     ]
    },
    {
     "name": "stderr",
     "output_type": "stream",
     "text": [
      "C:\\Users\\Justin\\AppData\\Local\\Temp\\ipykernel_22308\\573511129.py:89: FutureWarning: The frame.append method is deprecated and will be removed from pandas in a future version. Use pandas.concat instead.\n",
      "  results = results.append({\n",
      " 65%|██████▌   | 1320/2029 [1:24:12<40:23,  3.42s/it]C:\\Users\\Justin\\AppData\\Local\\Temp\\ipykernel_22308\\573511129.py:89: FutureWarning: The frame.append method is deprecated and will be removed from pandas in a future version. Use pandas.concat instead.\n",
      "  results = results.append({\n",
      " 65%|██████▌   | 1321/2029 [1:24:18<50:02,  4.24s/it]C:\\Users\\Justin\\AppData\\Local\\Temp\\ipykernel_22308\\573511129.py:89: FutureWarning: The frame.append method is deprecated and will be removed from pandas in a future version. Use pandas.concat instead.\n",
      "  results = results.append({\n",
      " 65%|██████▌   | 1322/2029 [1:24:23<50:39,  4.30s/it]C:\\Users\\Justin\\AppData\\Local\\Temp\\ipykernel_22308\\573511129.py:89: FutureWarning: The frame.append method is deprecated and will be removed from pandas in a future version. Use pandas.concat instead.\n",
      "  results = results.append({\n",
      " 65%|██████▌   | 1324/2029 [1:24:28<42:35,  3.62s/it]"
     ]
    },
    {
     "name": "stdout",
     "output_type": "stream",
     "text": [
      "Error occurred: 'NoneType' object has no attribute 'text'\n"
     ]
    },
    {
     "name": "stderr",
     "output_type": "stream",
     "text": [
      " 65%|██████▌   | 1325/2029 [1:24:29<32:30,  2.77s/it]"
     ]
    },
    {
     "name": "stdout",
     "output_type": "stream",
     "text": [
      "Error occurred: 'NoneType' object has no attribute 'text'\n"
     ]
    },
    {
     "name": "stderr",
     "output_type": "stream",
     "text": [
      "C:\\Users\\Justin\\AppData\\Local\\Temp\\ipykernel_22308\\573511129.py:89: FutureWarning: The frame.append method is deprecated and will be removed from pandas in a future version. Use pandas.concat instead.\n",
      "  results = results.append({\n",
      " 65%|██████▌   | 1326/2029 [1:24:30<28:19,  2.42s/it]C:\\Users\\Justin\\AppData\\Local\\Temp\\ipykernel_22308\\573511129.py:89: FutureWarning: The frame.append method is deprecated and will be removed from pandas in a future version. Use pandas.concat instead.\n",
      "  results = results.append({\n",
      " 65%|██████▌   | 1327/2029 [1:24:48<1:22:49,  7.08s/it]C:\\Users\\Justin\\AppData\\Local\\Temp\\ipykernel_22308\\573511129.py:89: FutureWarning: The frame.append method is deprecated and will be removed from pandas in a future version. Use pandas.concat instead.\n",
      "  results = results.append({\n",
      " 65%|██████▌   | 1328/2029 [1:24:50<1:04:28,  5.52s/it]C:\\Users\\Justin\\AppData\\Local\\Temp\\ipykernel_22308\\573511129.py:89: FutureWarning: The frame.append method is deprecated and will be removed from pandas in a future version. Use pandas.concat instead.\n",
      "  results = results.append({\n",
      " 66%|██████▌   | 1329/2029 [1:24:58<1:13:19,  6.29s/it]C:\\Users\\Justin\\AppData\\Local\\Temp\\ipykernel_22308\\573511129.py:89: FutureWarning: The frame.append method is deprecated and will be removed from pandas in a future version. Use pandas.concat instead.\n",
      "  results = results.append({\n",
      " 66%|██████▌   | 1330/2029 [1:25:02<1:03:00,  5.41s/it]C:\\Users\\Justin\\AppData\\Local\\Temp\\ipykernel_22308\\573511129.py:89: FutureWarning: The frame.append method is deprecated and will be removed from pandas in a future version. Use pandas.concat instead.\n",
      "  results = results.append({\n",
      " 66%|██████▌   | 1331/2029 [1:25:04<50:07,  4.31s/it]  C:\\Users\\Justin\\AppData\\Local\\Temp\\ipykernel_22308\\573511129.py:89: FutureWarning: The frame.append method is deprecated and will be removed from pandas in a future version. Use pandas.concat instead.\n",
      "  results = results.append({\n",
      " 66%|██████▌   | 1333/2029 [1:25:09<40:08,  3.46s/it]"
     ]
    },
    {
     "name": "stdout",
     "output_type": "stream",
     "text": [
      "Error occurred: 'NoneType' object has no attribute 'text'\n"
     ]
    },
    {
     "name": "stderr",
     "output_type": "stream",
     "text": [
      " 66%|██████▌   | 1334/2029 [1:25:11<34:08,  2.95s/it]"
     ]
    },
    {
     "name": "stdout",
     "output_type": "stream",
     "text": [
      "Error occurred: 'NoneType' object has no attribute 'text'\n"
     ]
    },
    {
     "name": "stderr",
     "output_type": "stream",
     "text": [
      "C:\\Users\\Justin\\AppData\\Local\\Temp\\ipykernel_22308\\573511129.py:89: FutureWarning: The frame.append method is deprecated and will be removed from pandas in a future version. Use pandas.concat instead.\n",
      "  results = results.append({\n",
      " 66%|██████▌   | 1335/2029 [1:25:14<32:04,  2.77s/it]C:\\Users\\Justin\\AppData\\Local\\Temp\\ipykernel_22308\\573511129.py:89: FutureWarning: The frame.append method is deprecated and will be removed from pandas in a future version. Use pandas.concat instead.\n",
      "  results = results.append({\n",
      " 66%|██████▌   | 1336/2029 [1:25:15<25:48,  2.23s/it]C:\\Users\\Justin\\AppData\\Local\\Temp\\ipykernel_22308\\573511129.py:89: FutureWarning: The frame.append method is deprecated and will be removed from pandas in a future version. Use pandas.concat instead.\n",
      "  results = results.append({\n",
      " 66%|██████▌   | 1337/2029 [1:25:18<31:15,  2.71s/it]C:\\Users\\Justin\\AppData\\Local\\Temp\\ipykernel_22308\\573511129.py:89: FutureWarning: The frame.append method is deprecated and will be removed from pandas in a future version. Use pandas.concat instead.\n",
      "  results = results.append({\n",
      " 66%|██████▌   | 1338/2029 [1:25:20<27:26,  2.38s/it]C:\\Users\\Justin\\AppData\\Local\\Temp\\ipykernel_22308\\573511129.py:89: FutureWarning: The frame.append method is deprecated and will be removed from pandas in a future version. Use pandas.concat instead.\n",
      "  results = results.append({\n",
      " 66%|██████▌   | 1340/2029 [1:25:33<46:23,  4.04s/it]"
     ]
    },
    {
     "name": "stdout",
     "output_type": "stream",
     "text": [
      "Error occurred: 'NoneType' object has no attribute 'text'\n"
     ]
    },
    {
     "name": "stderr",
     "output_type": "stream",
     "text": [
      " 66%|██████▌   | 1341/2029 [1:25:34<37:01,  3.23s/it]"
     ]
    },
    {
     "name": "stdout",
     "output_type": "stream",
     "text": [
      "Error occurred: 'NoneType' object has no attribute 'text'\n"
     ]
    },
    {
     "name": "stderr",
     "output_type": "stream",
     "text": [
      "C:\\Users\\Justin\\AppData\\Local\\Temp\\ipykernel_22308\\573511129.py:89: FutureWarning: The frame.append method is deprecated and will be removed from pandas in a future version. Use pandas.concat instead.\n",
      "  results = results.append({\n",
      " 66%|██████▌   | 1342/2029 [1:25:40<44:29,  3.89s/it]C:\\Users\\Justin\\AppData\\Local\\Temp\\ipykernel_22308\\573511129.py:89: FutureWarning: The frame.append method is deprecated and will be removed from pandas in a future version. Use pandas.concat instead.\n",
      "  results = results.append({\n",
      " 66%|██████▌   | 1343/2029 [1:25:42<38:45,  3.39s/it]C:\\Users\\Justin\\AppData\\Local\\Temp\\ipykernel_22308\\573511129.py:89: FutureWarning: The frame.append method is deprecated and will be removed from pandas in a future version. Use pandas.concat instead.\n",
      "  results = results.append({\n",
      " 66%|██████▌   | 1344/2029 [1:25:44<35:27,  3.11s/it]C:\\Users\\Justin\\AppData\\Local\\Temp\\ipykernel_22308\\573511129.py:89: FutureWarning: The frame.append method is deprecated and will be removed from pandas in a future version. Use pandas.concat instead.\n",
      "  results = results.append({\n",
      " 66%|██████▋   | 1345/2029 [1:25:50<43:23,  3.81s/it]C:\\Users\\Justin\\AppData\\Local\\Temp\\ipykernel_22308\\573511129.py:89: FutureWarning: The frame.append method is deprecated and will be removed from pandas in a future version. Use pandas.concat instead.\n",
      "  results = results.append({\n",
      " 66%|██████▋   | 1347/2029 [1:25:53<31:25,  2.76s/it]"
     ]
    },
    {
     "name": "stdout",
     "output_type": "stream",
     "text": [
      "Error occurred: 'NoneType' object has no attribute 'text'\n"
     ]
    },
    {
     "name": "stderr",
     "output_type": "stream",
     "text": [
      " 66%|██████▋   | 1348/2029 [1:26:00<44:04,  3.88s/it]"
     ]
    },
    {
     "name": "stdout",
     "output_type": "stream",
     "text": [
      "Error occurred: 'NoneType' object has no attribute 'text'\n"
     ]
    },
    {
     "name": "stderr",
     "output_type": "stream",
     "text": [
      "C:\\Users\\Justin\\AppData\\Local\\Temp\\ipykernel_22308\\573511129.py:89: FutureWarning: The frame.append method is deprecated and will be removed from pandas in a future version. Use pandas.concat instead.\n",
      "  results = results.append({\n",
      " 66%|██████▋   | 1349/2029 [1:26:02<37:52,  3.34s/it]C:\\Users\\Justin\\AppData\\Local\\Temp\\ipykernel_22308\\573511129.py:89: FutureWarning: The frame.append method is deprecated and will be removed from pandas in a future version. Use pandas.concat instead.\n",
      "  results = results.append({\n",
      " 67%|██████▋   | 1350/2029 [1:26:04<33:31,  2.96s/it]"
     ]
    },
    {
     "name": "stdout",
     "output_type": "stream",
     "text": [
      "Error occurred: Cannot save file into a non-existent directory: 'TEMP\\NCAA_Partial'\n"
     ]
    },
    {
     "name": "stderr",
     "output_type": "stream",
     "text": [
      "C:\\Users\\Justin\\AppData\\Local\\Temp\\ipykernel_22308\\573511129.py:89: FutureWarning: The frame.append method is deprecated and will be removed from pandas in a future version. Use pandas.concat instead.\n",
      "  results = results.append({\n",
      " 67%|██████▋   | 1351/2029 [1:26:08<37:53,  3.35s/it]C:\\Users\\Justin\\AppData\\Local\\Temp\\ipykernel_22308\\573511129.py:89: FutureWarning: The frame.append method is deprecated and will be removed from pandas in a future version. Use pandas.concat instead.\n",
      "  results = results.append({\n",
      " 67%|██████▋   | 1352/2029 [1:26:22<1:14:00,  6.56s/it]C:\\Users\\Justin\\AppData\\Local\\Temp\\ipykernel_22308\\573511129.py:89: FutureWarning: The frame.append method is deprecated and will be removed from pandas in a future version. Use pandas.concat instead.\n",
      "  results = results.append({\n",
      " 67%|██████▋   | 1353/2029 [1:26:24<57:30,  5.10s/it]  C:\\Users\\Justin\\AppData\\Local\\Temp\\ipykernel_22308\\573511129.py:89: FutureWarning: The frame.append method is deprecated and will be removed from pandas in a future version. Use pandas.concat instead.\n",
      "  results = results.append({\n",
      " 67%|██████▋   | 1354/2029 [1:26:28<54:58,  4.89s/it]C:\\Users\\Justin\\AppData\\Local\\Temp\\ipykernel_22308\\573511129.py:89: FutureWarning: The frame.append method is deprecated and will be removed from pandas in a future version. Use pandas.concat instead.\n",
      "  results = results.append({\n",
      " 67%|██████▋   | 1355/2029 [1:26:31<45:42,  4.07s/it]C:\\Users\\Justin\\AppData\\Local\\Temp\\ipykernel_22308\\573511129.py:89: FutureWarning: The frame.append method is deprecated and will be removed from pandas in a future version. Use pandas.concat instead.\n",
      "  results = results.append({\n",
      " 67%|██████▋   | 1356/2029 [1:26:32<36:30,  3.25s/it]C:\\Users\\Justin\\AppData\\Local\\Temp\\ipykernel_22308\\573511129.py:89: FutureWarning: The frame.append method is deprecated and will be removed from pandas in a future version. Use pandas.concat instead.\n",
      "  results = results.append({\n",
      " 67%|██████▋   | 1357/2029 [1:26:33<29:46,  2.66s/it]C:\\Users\\Justin\\AppData\\Local\\Temp\\ipykernel_22308\\573511129.py:89: FutureWarning: The frame.append method is deprecated and will be removed from pandas in a future version. Use pandas.concat instead.\n",
      "  results = results.append({\n",
      " 67%|██████▋   | 1358/2029 [1:26:39<41:04,  3.67s/it]C:\\Users\\Justin\\AppData\\Local\\Temp\\ipykernel_22308\\573511129.py:89: FutureWarning: The frame.append method is deprecated and will be removed from pandas in a future version. Use pandas.concat instead.\n",
      "  results = results.append({\n",
      " 67%|██████▋   | 1359/2029 [1:26:41<33:04,  2.96s/it]C:\\Users\\Justin\\AppData\\Local\\Temp\\ipykernel_22308\\573511129.py:89: FutureWarning: The frame.append method is deprecated and will be removed from pandas in a future version. Use pandas.concat instead.\n",
      "  results = results.append({\n",
      " 67%|██████▋   | 1360/2029 [1:26:42<29:15,  2.62s/it]C:\\Users\\Justin\\AppData\\Local\\Temp\\ipykernel_22308\\573511129.py:89: FutureWarning: The frame.append method is deprecated and will be removed from pandas in a future version. Use pandas.concat instead.\n",
      "  results = results.append({\n",
      " 67%|██████▋   | 1361/2029 [1:26:44<26:10,  2.35s/it]C:\\Users\\Justin\\AppData\\Local\\Temp\\ipykernel_22308\\573511129.py:89: FutureWarning: The frame.append method is deprecated and will be removed from pandas in a future version. Use pandas.concat instead.\n",
      "  results = results.append({\n",
      " 67%|██████▋   | 1362/2029 [1:26:48<32:26,  2.92s/it]C:\\Users\\Justin\\AppData\\Local\\Temp\\ipykernel_22308\\573511129.py:89: FutureWarning: The frame.append method is deprecated and will be removed from pandas in a future version. Use pandas.concat instead.\n",
      "  results = results.append({\n",
      " 67%|██████▋   | 1363/2029 [1:26:50<28:09,  2.54s/it]C:\\Users\\Justin\\AppData\\Local\\Temp\\ipykernel_22308\\573511129.py:89: FutureWarning: The frame.append method is deprecated and will be removed from pandas in a future version. Use pandas.concat instead.\n",
      "  results = results.append({\n",
      " 67%|██████▋   | 1365/2029 [1:26:53<22:42,  2.05s/it]"
     ]
    },
    {
     "name": "stdout",
     "output_type": "stream",
     "text": [
      "Error occurred: 'NoneType' object has no attribute 'text'\n"
     ]
    },
    {
     "name": "stderr",
     "output_type": "stream",
     "text": [
      "C:\\Users\\Justin\\AppData\\Local\\Temp\\ipykernel_22308\\573511129.py:89: FutureWarning: The frame.append method is deprecated and will be removed from pandas in a future version. Use pandas.concat instead.\n",
      "  results = results.append({\n",
      " 67%|██████▋   | 1366/2029 [1:27:00<37:49,  3.42s/it]C:\\Users\\Justin\\AppData\\Local\\Temp\\ipykernel_22308\\573511129.py:89: FutureWarning: The frame.append method is deprecated and will be removed from pandas in a future version. Use pandas.concat instead.\n",
      "  results = results.append({\n",
      " 67%|██████▋   | 1367/2029 [1:27:02<34:13,  3.10s/it]C:\\Users\\Justin\\AppData\\Local\\Temp\\ipykernel_22308\\573511129.py:89: FutureWarning: The frame.append method is deprecated and will be removed from pandas in a future version. Use pandas.concat instead.\n",
      "  results = results.append({\n",
      " 67%|██████▋   | 1368/2029 [1:27:04<29:28,  2.68s/it]C:\\Users\\Justin\\AppData\\Local\\Temp\\ipykernel_22308\\573511129.py:89: FutureWarning: The frame.append method is deprecated and will be removed from pandas in a future version. Use pandas.concat instead.\n",
      "  results = results.append({\n",
      " 67%|██████▋   | 1369/2029 [1:27:05<23:22,  2.12s/it]C:\\Users\\Justin\\AppData\\Local\\Temp\\ipykernel_22308\\573511129.py:89: FutureWarning: The frame.append method is deprecated and will be removed from pandas in a future version. Use pandas.concat instead.\n",
      "  results = results.append({\n",
      " 68%|██████▊   | 1370/2029 [1:27:09<30:54,  2.81s/it]C:\\Users\\Justin\\AppData\\Local\\Temp\\ipykernel_22308\\573511129.py:89: FutureWarning: The frame.append method is deprecated and will be removed from pandas in a future version. Use pandas.concat instead.\n",
      "  results = results.append({\n",
      " 68%|██████▊   | 1371/2029 [1:27:12<29:59,  2.73s/it]C:\\Users\\Justin\\AppData\\Local\\Temp\\ipykernel_22308\\573511129.py:89: FutureWarning: The frame.append method is deprecated and will be removed from pandas in a future version. Use pandas.concat instead.\n",
      "  results = results.append({\n",
      " 68%|██████▊   | 1372/2029 [1:27:18<43:09,  3.94s/it]C:\\Users\\Justin\\AppData\\Local\\Temp\\ipykernel_22308\\573511129.py:89: FutureWarning: The frame.append method is deprecated and will be removed from pandas in a future version. Use pandas.concat instead.\n",
      "  results = results.append({\n",
      " 68%|██████▊   | 1373/2029 [1:27:22<41:56,  3.84s/it]C:\\Users\\Justin\\AppData\\Local\\Temp\\ipykernel_22308\\573511129.py:89: FutureWarning: The frame.append method is deprecated and will be removed from pandas in a future version. Use pandas.concat instead.\n",
      "  results = results.append({\n",
      " 68%|██████▊   | 1375/2029 [1:27:24<27:34,  2.53s/it]"
     ]
    },
    {
     "name": "stdout",
     "output_type": "stream",
     "text": [
      "Error occurred: 'NoneType' object has no attribute 'text'\n"
     ]
    },
    {
     "name": "stderr",
     "output_type": "stream",
     "text": [
      "C:\\Users\\Justin\\AppData\\Local\\Temp\\ipykernel_22308\\573511129.py:89: FutureWarning: The frame.append method is deprecated and will be removed from pandas in a future version. Use pandas.concat instead.\n",
      "  results = results.append({\n",
      " 68%|██████▊   | 1376/2029 [1:27:30<36:10,  3.32s/it]C:\\Users\\Justin\\AppData\\Local\\Temp\\ipykernel_22308\\573511129.py:89: FutureWarning: The frame.append method is deprecated and will be removed from pandas in a future version. Use pandas.concat instead.\n",
      "  results = results.append({\n",
      " 68%|██████▊   | 1377/2029 [1:27:35<41:33,  3.83s/it]C:\\Users\\Justin\\AppData\\Local\\Temp\\ipykernel_22308\\573511129.py:89: FutureWarning: The frame.append method is deprecated and will be removed from pandas in a future version. Use pandas.concat instead.\n",
      "  results = results.append({\n",
      " 68%|██████▊   | 1378/2029 [1:27:39<43:51,  4.04s/it]C:\\Users\\Justin\\AppData\\Local\\Temp\\ipykernel_22308\\573511129.py:89: FutureWarning: The frame.append method is deprecated and will be removed from pandas in a future version. Use pandas.concat instead.\n",
      "  results = results.append({\n",
      " 68%|██████▊   | 1379/2029 [1:27:41<36:38,  3.38s/it]C:\\Users\\Justin\\AppData\\Local\\Temp\\ipykernel_22308\\573511129.py:89: FutureWarning: The frame.append method is deprecated and will be removed from pandas in a future version. Use pandas.concat instead.\n",
      "  results = results.append({\n",
      " 68%|██████▊   | 1380/2029 [1:27:44<34:56,  3.23s/it]C:\\Users\\Justin\\AppData\\Local\\Temp\\ipykernel_22308\\573511129.py:89: FutureWarning: The frame.append method is deprecated and will be removed from pandas in a future version. Use pandas.concat instead.\n",
      "  results = results.append({\n",
      " 68%|██████▊   | 1381/2029 [1:27:50<44:34,  4.13s/it]C:\\Users\\Justin\\AppData\\Local\\Temp\\ipykernel_22308\\573511129.py:89: FutureWarning: The frame.append method is deprecated and will be removed from pandas in a future version. Use pandas.concat instead.\n",
      "  results = results.append({\n",
      " 68%|██████▊   | 1383/2029 [1:27:53<31:18,  2.91s/it]"
     ]
    },
    {
     "name": "stdout",
     "output_type": "stream",
     "text": [
      "Error occurred: 'NoneType' object has no attribute 'text'\n"
     ]
    },
    {
     "name": "stderr",
     "output_type": "stream",
     "text": [
      "C:\\Users\\Justin\\AppData\\Local\\Temp\\ipykernel_22308\\573511129.py:89: FutureWarning: The frame.append method is deprecated and will be removed from pandas in a future version. Use pandas.concat instead.\n",
      "  results = results.append({\n",
      " 68%|██████▊   | 1384/2029 [1:27:55<26:29,  2.46s/it]C:\\Users\\Justin\\AppData\\Local\\Temp\\ipykernel_22308\\573511129.py:89: FutureWarning: The frame.append method is deprecated and will be removed from pandas in a future version. Use pandas.concat instead.\n",
      "  results = results.append({\n",
      " 68%|██████▊   | 1385/2029 [1:28:00<34:16,  3.19s/it]C:\\Users\\Justin\\AppData\\Local\\Temp\\ipykernel_22308\\573511129.py:89: FutureWarning: The frame.append method is deprecated and will be removed from pandas in a future version. Use pandas.concat instead.\n",
      "  results = results.append({\n",
      " 68%|██████▊   | 1386/2029 [1:28:01<28:00,  2.61s/it]C:\\Users\\Justin\\AppData\\Local\\Temp\\ipykernel_22308\\573511129.py:89: FutureWarning: The frame.append method is deprecated and will be removed from pandas in a future version. Use pandas.concat instead.\n",
      "  results = results.append({\n",
      " 68%|██████▊   | 1387/2029 [1:28:03<24:39,  2.30s/it]C:\\Users\\Justin\\AppData\\Local\\Temp\\ipykernel_22308\\573511129.py:89: FutureWarning: The frame.append method is deprecated and will be removed from pandas in a future version. Use pandas.concat instead.\n",
      "  results = results.append({\n",
      " 68%|██████▊   | 1388/2029 [1:28:04<20:43,  1.94s/it]C:\\Users\\Justin\\AppData\\Local\\Temp\\ipykernel_22308\\573511129.py:89: FutureWarning: The frame.append method is deprecated and will be removed from pandas in a future version. Use pandas.concat instead.\n",
      "  results = results.append({\n",
      " 68%|██████▊   | 1389/2029 [1:28:08<29:26,  2.76s/it]C:\\Users\\Justin\\AppData\\Local\\Temp\\ipykernel_22308\\573511129.py:89: FutureWarning: The frame.append method is deprecated and will be removed from pandas in a future version. Use pandas.concat instead.\n",
      "  results = results.append({\n",
      " 69%|██████▊   | 1390/2029 [1:28:14<38:42,  3.63s/it]C:\\Users\\Justin\\AppData\\Local\\Temp\\ipykernel_22308\\573511129.py:89: FutureWarning: The frame.append method is deprecated and will be removed from pandas in a future version. Use pandas.concat instead.\n",
      "  results = results.append({\n",
      " 69%|██████▊   | 1391/2029 [1:28:18<40:46,  3.83s/it]C:\\Users\\Justin\\AppData\\Local\\Temp\\ipykernel_22308\\573511129.py:89: FutureWarning: The frame.append method is deprecated and will be removed from pandas in a future version. Use pandas.concat instead.\n",
      "  results = results.append({\n",
      " 69%|██████▊   | 1392/2029 [1:28:20<33:53,  3.19s/it]C:\\Users\\Justin\\AppData\\Local\\Temp\\ipykernel_22308\\573511129.py:89: FutureWarning: The frame.append method is deprecated and will be removed from pandas in a future version. Use pandas.concat instead.\n",
      "  results = results.append({\n",
      " 69%|██████▊   | 1393/2029 [1:28:29<53:10,  5.02s/it]C:\\Users\\Justin\\AppData\\Local\\Temp\\ipykernel_22308\\573511129.py:89: FutureWarning: The frame.append method is deprecated and will be removed from pandas in a future version. Use pandas.concat instead.\n",
      "  results = results.append({\n",
      " 69%|██████▉   | 1395/2029 [1:28:40<51:20,  4.86s/it]  "
     ]
    },
    {
     "name": "stdout",
     "output_type": "stream",
     "text": [
      "Error occurred: 'NoneType' object has no attribute 'text'\n"
     ]
    },
    {
     "name": "stderr",
     "output_type": "stream",
     "text": [
      "C:\\Users\\Justin\\AppData\\Local\\Temp\\ipykernel_22308\\573511129.py:89: FutureWarning: The frame.append method is deprecated and will be removed from pandas in a future version. Use pandas.concat instead.\n",
      "  results = results.append({\n",
      " 69%|██████▉   | 1396/2029 [1:28:44<46:50,  4.44s/it]C:\\Users\\Justin\\AppData\\Local\\Temp\\ipykernel_22308\\573511129.py:89: FutureWarning: The frame.append method is deprecated and will be removed from pandas in a future version. Use pandas.concat instead.\n",
      "  results = results.append({\n",
      " 69%|██████▉   | 1397/2029 [1:28:49<48:46,  4.63s/it]C:\\Users\\Justin\\AppData\\Local\\Temp\\ipykernel_22308\\573511129.py:89: FutureWarning: The frame.append method is deprecated and will be removed from pandas in a future version. Use pandas.concat instead.\n",
      "  results = results.append({\n",
      " 69%|██████▉   | 1398/2029 [1:28:51<40:29,  3.85s/it]C:\\Users\\Justin\\AppData\\Local\\Temp\\ipykernel_22308\\573511129.py:89: FutureWarning: The frame.append method is deprecated and will be removed from pandas in a future version. Use pandas.concat instead.\n",
      "  results = results.append({\n",
      " 69%|██████▉   | 1399/2029 [1:28:53<37:11,  3.54s/it]C:\\Users\\Justin\\AppData\\Local\\Temp\\ipykernel_22308\\573511129.py:89: FutureWarning: The frame.append method is deprecated and will be removed from pandas in a future version. Use pandas.concat instead.\n",
      "  results = results.append({\n",
      " 69%|██████▉   | 1400/2029 [1:28:59<44:49,  4.28s/it]"
     ]
    },
    {
     "name": "stdout",
     "output_type": "stream",
     "text": [
      "Error occurred: Cannot save file into a non-existent directory: 'TEMP\\NCAA_Partial'\n"
     ]
    },
    {
     "name": "stderr",
     "output_type": "stream",
     "text": [
      "C:\\Users\\Justin\\AppData\\Local\\Temp\\ipykernel_22308\\573511129.py:89: FutureWarning: The frame.append method is deprecated and will be removed from pandas in a future version. Use pandas.concat instead.\n",
      "  results = results.append({\n",
      " 69%|██████▉   | 1401/2029 [1:29:01<37:30,  3.58s/it]C:\\Users\\Justin\\AppData\\Local\\Temp\\ipykernel_22308\\573511129.py:89: FutureWarning: The frame.append method is deprecated and will be removed from pandas in a future version. Use pandas.concat instead.\n",
      "  results = results.append({\n",
      " 69%|██████▉   | 1402/2029 [1:29:10<51:44,  4.95s/it]C:\\Users\\Justin\\AppData\\Local\\Temp\\ipykernel_22308\\573511129.py:89: FutureWarning: The frame.append method is deprecated and will be removed from pandas in a future version. Use pandas.concat instead.\n",
      "  results = results.append({\n",
      " 69%|██████▉   | 1403/2029 [1:29:12<43:52,  4.21s/it]C:\\Users\\Justin\\AppData\\Local\\Temp\\ipykernel_22308\\573511129.py:89: FutureWarning: The frame.append method is deprecated and will be removed from pandas in a future version. Use pandas.concat instead.\n",
      "  results = results.append({\n",
      " 69%|██████▉   | 1405/2029 [1:29:16<32:02,  3.08s/it]"
     ]
    },
    {
     "name": "stdout",
     "output_type": "stream",
     "text": [
      "Error occurred: 'NoneType' object has no attribute 'text'\n"
     ]
    },
    {
     "name": "stderr",
     "output_type": "stream",
     "text": [
      " 69%|██████▉   | 1406/2029 [1:29:17<25:11,  2.43s/it]"
     ]
    },
    {
     "name": "stdout",
     "output_type": "stream",
     "text": [
      "Error occurred: 'NoneType' object has no attribute 'text'\n"
     ]
    },
    {
     "name": "stderr",
     "output_type": "stream",
     "text": [
      "C:\\Users\\Justin\\AppData\\Local\\Temp\\ipykernel_22308\\573511129.py:89: FutureWarning: The frame.append method is deprecated and will be removed from pandas in a future version. Use pandas.concat instead.\n",
      "  results = results.append({\n",
      " 69%|██████▉   | 1407/2029 [1:29:19<25:21,  2.45s/it]C:\\Users\\Justin\\AppData\\Local\\Temp\\ipykernel_22308\\573511129.py:89: FutureWarning: The frame.append method is deprecated and will be removed from pandas in a future version. Use pandas.concat instead.\n",
      "  results = results.append({\n",
      " 69%|██████▉   | 1408/2029 [1:29:21<23:34,  2.28s/it]C:\\Users\\Justin\\AppData\\Local\\Temp\\ipykernel_22308\\573511129.py:89: FutureWarning: The frame.append method is deprecated and will be removed from pandas in a future version. Use pandas.concat instead.\n",
      "  results = results.append({\n",
      " 69%|██████▉   | 1409/2029 [1:29:23<23:07,  2.24s/it]C:\\Users\\Justin\\AppData\\Local\\Temp\\ipykernel_22308\\573511129.py:89: FutureWarning: The frame.append method is deprecated and will be removed from pandas in a future version. Use pandas.concat instead.\n",
      "  results = results.append({\n",
      " 69%|██████▉   | 1410/2029 [1:29:25<21:35,  2.09s/it]C:\\Users\\Justin\\AppData\\Local\\Temp\\ipykernel_22308\\573511129.py:89: FutureWarning: The frame.append method is deprecated and will be removed from pandas in a future version. Use pandas.concat instead.\n",
      "  results = results.append({\n",
      " 70%|██████▉   | 1411/2029 [1:29:32<37:12,  3.61s/it]C:\\Users\\Justin\\AppData\\Local\\Temp\\ipykernel_22308\\573511129.py:89: FutureWarning: The frame.append method is deprecated and will be removed from pandas in a future version. Use pandas.concat instead.\n",
      "  results = results.append({\n",
      " 70%|██████▉   | 1412/2029 [1:29:40<50:55,  4.95s/it]C:\\Users\\Justin\\AppData\\Local\\Temp\\ipykernel_22308\\573511129.py:89: FutureWarning: The frame.append method is deprecated and will be removed from pandas in a future version. Use pandas.concat instead.\n",
      "  results = results.append({\n",
      " 70%|██████▉   | 1413/2029 [1:29:42<41:10,  4.01s/it]C:\\Users\\Justin\\AppData\\Local\\Temp\\ipykernel_22308\\573511129.py:89: FutureWarning: The frame.append method is deprecated and will be removed from pandas in a future version. Use pandas.concat instead.\n",
      "  results = results.append({\n",
      " 70%|██████▉   | 1414/2029 [1:29:43<32:47,  3.20s/it]C:\\Users\\Justin\\AppData\\Local\\Temp\\ipykernel_22308\\573511129.py:89: FutureWarning: The frame.append method is deprecated and will be removed from pandas in a future version. Use pandas.concat instead.\n",
      "  results = results.append({\n",
      " 70%|██████▉   | 1415/2029 [1:29:50<42:43,  4.17s/it]C:\\Users\\Justin\\AppData\\Local\\Temp\\ipykernel_22308\\573511129.py:89: FutureWarning: The frame.append method is deprecated and will be removed from pandas in a future version. Use pandas.concat instead.\n",
      "  results = results.append({\n",
      " 70%|██████▉   | 1416/2029 [1:29:53<38:32,  3.77s/it]C:\\Users\\Justin\\AppData\\Local\\Temp\\ipykernel_22308\\573511129.py:89: FutureWarning: The frame.append method is deprecated and will be removed from pandas in a future version. Use pandas.concat instead.\n",
      "  results = results.append({\n",
      " 70%|██████▉   | 1417/2029 [1:29:55<33:44,  3.31s/it]C:\\Users\\Justin\\AppData\\Local\\Temp\\ipykernel_22308\\573511129.py:89: FutureWarning: The frame.append method is deprecated and will be removed from pandas in a future version. Use pandas.concat instead.\n",
      "  results = results.append({\n",
      " 70%|██████▉   | 1418/2029 [1:29:59<36:56,  3.63s/it]C:\\Users\\Justin\\AppData\\Local\\Temp\\ipykernel_22308\\573511129.py:89: FutureWarning: The frame.append method is deprecated and will be removed from pandas in a future version. Use pandas.concat instead.\n",
      "  results = results.append({\n",
      " 70%|██████▉   | 1419/2029 [1:30:01<32:03,  3.15s/it]C:\\Users\\Justin\\AppData\\Local\\Temp\\ipykernel_22308\\573511129.py:89: FutureWarning: The frame.append method is deprecated and will be removed from pandas in a future version. Use pandas.concat instead.\n",
      "  results = results.append({\n",
      " 70%|██████▉   | 1420/2029 [1:30:03<28:01,  2.76s/it]C:\\Users\\Justin\\AppData\\Local\\Temp\\ipykernel_22308\\573511129.py:89: FutureWarning: The frame.append method is deprecated and will be removed from pandas in a future version. Use pandas.concat instead.\n",
      "  results = results.append({\n",
      " 70%|███████   | 1421/2029 [1:30:05<24:32,  2.42s/it]C:\\Users\\Justin\\AppData\\Local\\Temp\\ipykernel_22308\\573511129.py:89: FutureWarning: The frame.append method is deprecated and will be removed from pandas in a future version. Use pandas.concat instead.\n",
      "  results = results.append({\n",
      " 70%|███████   | 1422/2029 [1:30:09<28:46,  2.85s/it]C:\\Users\\Justin\\AppData\\Local\\Temp\\ipykernel_22308\\573511129.py:89: FutureWarning: The frame.append method is deprecated and will be removed from pandas in a future version. Use pandas.concat instead.\n",
      "  results = results.append({\n",
      " 70%|███████   | 1423/2029 [1:30:10<24:47,  2.45s/it]C:\\Users\\Justin\\AppData\\Local\\Temp\\ipykernel_22308\\573511129.py:89: FutureWarning: The frame.append method is deprecated and will be removed from pandas in a future version. Use pandas.concat instead.\n",
      "  results = results.append({\n",
      " 70%|███████   | 1424/2029 [1:30:12<22:18,  2.21s/it]C:\\Users\\Justin\\AppData\\Local\\Temp\\ipykernel_22308\\573511129.py:89: FutureWarning: The frame.append method is deprecated and will be removed from pandas in a future version. Use pandas.concat instead.\n",
      "  results = results.append({\n",
      " 70%|███████   | 1425/2029 [1:30:19<35:48,  3.56s/it]C:\\Users\\Justin\\AppData\\Local\\Temp\\ipykernel_22308\\573511129.py:89: FutureWarning: The frame.append method is deprecated and will be removed from pandas in a future version. Use pandas.concat instead.\n",
      "  results = results.append({\n",
      " 70%|███████   | 1427/2029 [1:30:21<23:20,  2.33s/it]"
     ]
    },
    {
     "name": "stdout",
     "output_type": "stream",
     "text": [
      "Error occurred: 'NoneType' object has no attribute 'text'\n"
     ]
    },
    {
     "name": "stderr",
     "output_type": "stream",
     "text": [
      "C:\\Users\\Justin\\AppData\\Local\\Temp\\ipykernel_22308\\573511129.py:89: FutureWarning: The frame.append method is deprecated and will be removed from pandas in a future version. Use pandas.concat instead.\n",
      "  results = results.append({\n",
      " 70%|███████   | 1428/2029 [1:30:22<21:09,  2.11s/it]C:\\Users\\Justin\\AppData\\Local\\Temp\\ipykernel_22308\\573511129.py:89: FutureWarning: The frame.append method is deprecated and will be removed from pandas in a future version. Use pandas.concat instead.\n",
      "  results = results.append({\n",
      " 70%|███████   | 1430/2029 [1:30:29<29:38,  2.97s/it]"
     ]
    },
    {
     "name": "stdout",
     "output_type": "stream",
     "text": [
      "Error occurred: 'NoneType' object has no attribute 'text'\n"
     ]
    },
    {
     "name": "stderr",
     "output_type": "stream",
     "text": [
      " 71%|███████   | 1431/2029 [1:30:59<1:49:14, 10.96s/it]"
     ]
    },
    {
     "name": "stdout",
     "output_type": "stream",
     "text": [
      "Error occurred: 'NoneType' object has no attribute 'text'\n"
     ]
    },
    {
     "name": "stderr",
     "output_type": "stream",
     "text": [
      "C:\\Users\\Justin\\AppData\\Local\\Temp\\ipykernel_22308\\573511129.py:89: FutureWarning: The frame.append method is deprecated and will be removed from pandas in a future version. Use pandas.concat instead.\n",
      "  results = results.append({\n",
      " 71%|███████   | 1432/2029 [1:31:01<1:22:05,  8.25s/it]C:\\Users\\Justin\\AppData\\Local\\Temp\\ipykernel_22308\\573511129.py:89: FutureWarning: The frame.append method is deprecated and will be removed from pandas in a future version. Use pandas.concat instead.\n",
      "  results = results.append({\n",
      " 71%|███████   | 1433/2029 [1:31:09<1:21:18,  8.18s/it]C:\\Users\\Justin\\AppData\\Local\\Temp\\ipykernel_22308\\573511129.py:89: FutureWarning: The frame.append method is deprecated and will be removed from pandas in a future version. Use pandas.concat instead.\n",
      "  results = results.append({\n",
      " 71%|███████   | 1434/2029 [1:31:10<1:00:31,  6.10s/it]C:\\Users\\Justin\\AppData\\Local\\Temp\\ipykernel_22308\\573511129.py:89: FutureWarning: The frame.append method is deprecated and will be removed from pandas in a future version. Use pandas.concat instead.\n",
      "  results = results.append({\n",
      " 71%|███████   | 1435/2029 [1:31:11<45:50,  4.63s/it]  C:\\Users\\Justin\\AppData\\Local\\Temp\\ipykernel_22308\\573511129.py:89: FutureWarning: The frame.append method is deprecated and will be removed from pandas in a future version. Use pandas.concat instead.\n",
      "  results = results.append({\n",
      " 71%|███████   | 1436/2029 [1:31:13<37:27,  3.79s/it]C:\\Users\\Justin\\AppData\\Local\\Temp\\ipykernel_22308\\573511129.py:89: FutureWarning: The frame.append method is deprecated and will be removed from pandas in a future version. Use pandas.concat instead.\n",
      "  results = results.append({\n",
      " 71%|███████   | 1437/2029 [1:31:14<29:29,  2.99s/it]C:\\Users\\Justin\\AppData\\Local\\Temp\\ipykernel_22308\\573511129.py:89: FutureWarning: The frame.append method is deprecated and will be removed from pandas in a future version. Use pandas.concat instead.\n",
      "  results = results.append({\n",
      " 71%|███████   | 1438/2029 [1:31:19<34:31,  3.50s/it]C:\\Users\\Justin\\AppData\\Local\\Temp\\ipykernel_22308\\573511129.py:89: FutureWarning: The frame.append method is deprecated and will be removed from pandas in a future version. Use pandas.concat instead.\n",
      "  results = results.append({\n",
      " 71%|███████   | 1440/2029 [1:31:22<24:57,  2.54s/it]"
     ]
    },
    {
     "name": "stdout",
     "output_type": "stream",
     "text": [
      "Error occurred: 'NoneType' object has no attribute 'text'\n"
     ]
    },
    {
     "name": "stderr",
     "output_type": "stream",
     "text": [
      "C:\\Users\\Justin\\AppData\\Local\\Temp\\ipykernel_22308\\573511129.py:89: FutureWarning: The frame.append method is deprecated and will be removed from pandas in a future version. Use pandas.concat instead.\n",
      "  results = results.append({\n",
      " 71%|███████   | 1442/2029 [1:31:29<30:37,  3.13s/it]"
     ]
    },
    {
     "name": "stdout",
     "output_type": "stream",
     "text": [
      "Error occurred: 'NoneType' object has no attribute 'text'\n"
     ]
    },
    {
     "name": "stderr",
     "output_type": "stream",
     "text": [
      "C:\\Users\\Justin\\AppData\\Local\\Temp\\ipykernel_22308\\573511129.py:89: FutureWarning: The frame.append method is deprecated and will be removed from pandas in a future version. Use pandas.concat instead.\n",
      "  results = results.append({\n",
      " 71%|███████   | 1443/2029 [1:31:30<25:04,  2.57s/it]C:\\Users\\Justin\\AppData\\Local\\Temp\\ipykernel_22308\\573511129.py:89: FutureWarning: The frame.append method is deprecated and will be removed from pandas in a future version. Use pandas.concat instead.\n",
      "  results = results.append({\n",
      " 71%|███████   | 1444/2029 [1:31:31<19:53,  2.04s/it]C:\\Users\\Justin\\AppData\\Local\\Temp\\ipykernel_22308\\573511129.py:89: FutureWarning: The frame.append method is deprecated and will be removed from pandas in a future version. Use pandas.concat instead.\n",
      "  results = results.append({\n",
      " 71%|███████   | 1445/2029 [1:31:33<18:55,  1.94s/it]C:\\Users\\Justin\\AppData\\Local\\Temp\\ipykernel_22308\\573511129.py:89: FutureWarning: The frame.append method is deprecated and will be removed from pandas in a future version. Use pandas.concat instead.\n",
      "  results = results.append({\n",
      " 71%|███████▏  | 1446/2029 [1:31:34<16:48,  1.73s/it]C:\\Users\\Justin\\AppData\\Local\\Temp\\ipykernel_22308\\573511129.py:89: FutureWarning: The frame.append method is deprecated and will be removed from pandas in a future version. Use pandas.concat instead.\n",
      "  results = results.append({\n",
      " 71%|███████▏  | 1447/2029 [1:31:39<27:01,  2.79s/it]C:\\Users\\Justin\\AppData\\Local\\Temp\\ipykernel_22308\\573511129.py:89: FutureWarning: The frame.append method is deprecated and will be removed from pandas in a future version. Use pandas.concat instead.\n",
      "  results = results.append({\n",
      " 71%|███████▏  | 1448/2029 [1:31:45<36:13,  3.74s/it]C:\\Users\\Justin\\AppData\\Local\\Temp\\ipykernel_22308\\573511129.py:89: FutureWarning: The frame.append method is deprecated and will be removed from pandas in a future version. Use pandas.concat instead.\n",
      "  results = results.append({\n",
      " 71%|███████▏  | 1449/2029 [1:31:47<30:00,  3.10s/it]C:\\Users\\Justin\\AppData\\Local\\Temp\\ipykernel_22308\\573511129.py:89: FutureWarning: The frame.append method is deprecated and will be removed from pandas in a future version. Use pandas.concat instead.\n",
      "  results = results.append({\n",
      " 71%|███████▏  | 1450/2029 [1:31:48<24:56,  2.58s/it]"
     ]
    },
    {
     "name": "stdout",
     "output_type": "stream",
     "text": [
      "Error occurred: Cannot save file into a non-existent directory: 'TEMP\\NCAA_Partial'\n"
     ]
    },
    {
     "name": "stderr",
     "output_type": "stream",
     "text": [
      "C:\\Users\\Justin\\AppData\\Local\\Temp\\ipykernel_22308\\573511129.py:89: FutureWarning: The frame.append method is deprecated and will be removed from pandas in a future version. Use pandas.concat instead.\n",
      "  results = results.append({\n",
      " 72%|███████▏  | 1451/2029 [1:31:50<22:02,  2.29s/it]C:\\Users\\Justin\\AppData\\Local\\Temp\\ipykernel_22308\\573511129.py:89: FutureWarning: The frame.append method is deprecated and will be removed from pandas in a future version. Use pandas.concat instead.\n",
      "  results = results.append({\n",
      " 72%|███████▏  | 1452/2029 [1:31:51<20:46,  2.16s/it]C:\\Users\\Justin\\AppData\\Local\\Temp\\ipykernel_22308\\573511129.py:89: FutureWarning: The frame.append method is deprecated and will be removed from pandas in a future version. Use pandas.concat instead.\n",
      "  results = results.append({\n",
      " 72%|███████▏  | 1454/2029 [1:31:55<19:01,  1.98s/it]"
     ]
    },
    {
     "name": "stdout",
     "output_type": "stream",
     "text": [
      "Error occurred: 'NoneType' object has no attribute 'text'\n"
     ]
    },
    {
     "name": "stderr",
     "output_type": "stream",
     "text": [
      "C:\\Users\\Justin\\AppData\\Local\\Temp\\ipykernel_22308\\573511129.py:89: FutureWarning: The frame.append method is deprecated and will be removed from pandas in a future version. Use pandas.concat instead.\n",
      "  results = results.append({\n",
      " 72%|███████▏  | 1455/2029 [1:31:59<25:20,  2.65s/it]C:\\Users\\Justin\\AppData\\Local\\Temp\\ipykernel_22308\\573511129.py:89: FutureWarning: The frame.append method is deprecated and will be removed from pandas in a future version. Use pandas.concat instead.\n",
      "  results = results.append({\n",
      " 72%|███████▏  | 1456/2029 [1:32:02<23:47,  2.49s/it]C:\\Users\\Justin\\AppData\\Local\\Temp\\ipykernel_22308\\573511129.py:89: FutureWarning: The frame.append method is deprecated and will be removed from pandas in a future version. Use pandas.concat instead.\n",
      "  results = results.append({\n",
      " 72%|███████▏  | 1457/2029 [1:32:03<19:36,  2.06s/it]C:\\Users\\Justin\\AppData\\Local\\Temp\\ipykernel_22308\\573511129.py:89: FutureWarning: The frame.append method is deprecated and will be removed from pandas in a future version. Use pandas.concat instead.\n",
      "  results = results.append({\n",
      " 72%|███████▏  | 1458/2029 [1:32:05<20:08,  2.12s/it]C:\\Users\\Justin\\AppData\\Local\\Temp\\ipykernel_22308\\573511129.py:89: FutureWarning: The frame.append method is deprecated and will be removed from pandas in a future version. Use pandas.concat instead.\n",
      "  results = results.append({\n",
      " 72%|███████▏  | 1459/2029 [1:32:09<25:08,  2.65s/it]C:\\Users\\Justin\\AppData\\Local\\Temp\\ipykernel_22308\\573511129.py:89: FutureWarning: The frame.append method is deprecated and will be removed from pandas in a future version. Use pandas.concat instead.\n",
      "  results = results.append({\n",
      " 72%|███████▏  | 1461/2029 [1:32:13<21:19,  2.25s/it]"
     ]
    },
    {
     "name": "stdout",
     "output_type": "stream",
     "text": [
      "Error occurred: 'NoneType' object has no attribute 'text'\n"
     ]
    },
    {
     "name": "stderr",
     "output_type": "stream",
     "text": [
      "C:\\Users\\Justin\\AppData\\Local\\Temp\\ipykernel_22308\\573511129.py:89: FutureWarning: The frame.append method is deprecated and will be removed from pandas in a future version. Use pandas.concat instead.\n",
      "  results = results.append({\n",
      " 72%|███████▏  | 1462/2029 [1:32:14<18:29,  1.96s/it]C:\\Users\\Justin\\AppData\\Local\\Temp\\ipykernel_22308\\573511129.py:89: FutureWarning: The frame.append method is deprecated and will be removed from pandas in a future version. Use pandas.concat instead.\n",
      "  results = results.append({\n",
      " 72%|███████▏  | 1463/2029 [1:32:15<15:04,  1.60s/it]C:\\Users\\Justin\\AppData\\Local\\Temp\\ipykernel_22308\\573511129.py:89: FutureWarning: The frame.append method is deprecated and will be removed from pandas in a future version. Use pandas.concat instead.\n",
      "  results = results.append({\n",
      " 72%|███████▏  | 1464/2029 [1:32:21<28:36,  3.04s/it]C:\\Users\\Justin\\AppData\\Local\\Temp\\ipykernel_22308\\573511129.py:89: FutureWarning: The frame.append method is deprecated and will be removed from pandas in a future version. Use pandas.concat instead.\n",
      "  results = results.append({\n",
      " 72%|███████▏  | 1465/2029 [1:32:22<23:50,  2.54s/it]C:\\Users\\Justin\\AppData\\Local\\Temp\\ipykernel_22308\\573511129.py:89: FutureWarning: The frame.append method is deprecated and will be removed from pandas in a future version. Use pandas.concat instead.\n",
      "  results = results.append({\n",
      " 72%|███████▏  | 1466/2029 [1:32:25<23:45,  2.53s/it]C:\\Users\\Justin\\AppData\\Local\\Temp\\ipykernel_22308\\573511129.py:89: FutureWarning: The frame.append method is deprecated and will be removed from pandas in a future version. Use pandas.concat instead.\n",
      "  results = results.append({\n",
      " 72%|███████▏  | 1467/2029 [1:32:30<30:16,  3.23s/it]C:\\Users\\Justin\\AppData\\Local\\Temp\\ipykernel_22308\\573511129.py:89: FutureWarning: The frame.append method is deprecated and will be removed from pandas in a future version. Use pandas.concat instead.\n",
      "  results = results.append({\n",
      " 72%|███████▏  | 1468/2029 [1:32:32<27:09,  2.91s/it]C:\\Users\\Justin\\AppData\\Local\\Temp\\ipykernel_22308\\573511129.py:89: FutureWarning: The frame.append method is deprecated and will be removed from pandas in a future version. Use pandas.concat instead.\n",
      "  results = results.append({\n",
      " 72%|███████▏  | 1470/2029 [1:32:39<30:43,  3.30s/it]"
     ]
    },
    {
     "name": "stdout",
     "output_type": "stream",
     "text": [
      "Error occurred: 'NoneType' object has no attribute 'text'\n"
     ]
    },
    {
     "name": "stderr",
     "output_type": "stream",
     "text": [
      "C:\\Users\\Justin\\AppData\\Local\\Temp\\ipykernel_22308\\573511129.py:89: FutureWarning: The frame.append method is deprecated and will be removed from pandas in a future version. Use pandas.concat instead.\n",
      "  results = results.append({\n",
      " 73%|███████▎  | 1472/2029 [1:32:41<20:47,  2.24s/it]"
     ]
    },
    {
     "name": "stdout",
     "output_type": "stream",
     "text": [
      "Error occurred: 'NoneType' object has no attribute 'text'\n"
     ]
    },
    {
     "name": "stderr",
     "output_type": "stream",
     "text": [
      "C:\\Users\\Justin\\AppData\\Local\\Temp\\ipykernel_22308\\573511129.py:89: FutureWarning: The frame.append method is deprecated and will be removed from pandas in a future version. Use pandas.concat instead.\n",
      "  results = results.append({\n",
      " 73%|███████▎  | 1473/2029 [1:32:42<17:47,  1.92s/it]C:\\Users\\Justin\\AppData\\Local\\Temp\\ipykernel_22308\\573511129.py:89: FutureWarning: The frame.append method is deprecated and will be removed from pandas in a future version. Use pandas.concat instead.\n",
      "  results = results.append({\n",
      " 73%|███████▎  | 1474/2029 [1:32:45<20:40,  2.23s/it]C:\\Users\\Justin\\AppData\\Local\\Temp\\ipykernel_22308\\573511129.py:89: FutureWarning: The frame.append method is deprecated and will be removed from pandas in a future version. Use pandas.concat instead.\n",
      "  results = results.append({\n",
      " 73%|███████▎  | 1475/2029 [1:32:52<33:46,  3.66s/it]C:\\Users\\Justin\\AppData\\Local\\Temp\\ipykernel_22308\\573511129.py:89: FutureWarning: The frame.append method is deprecated and will be removed from pandas in a future version. Use pandas.concat instead.\n",
      "  results = results.append({\n",
      " 73%|███████▎  | 1476/2029 [1:32:55<31:35,  3.43s/it]C:\\Users\\Justin\\AppData\\Local\\Temp\\ipykernel_22308\\573511129.py:89: FutureWarning: The frame.append method is deprecated and will be removed from pandas in a future version. Use pandas.concat instead.\n",
      "  results = results.append({\n",
      " 73%|███████▎  | 1477/2029 [1:32:59<33:16,  3.62s/it]C:\\Users\\Justin\\AppData\\Local\\Temp\\ipykernel_22308\\573511129.py:89: FutureWarning: The frame.append method is deprecated and will be removed from pandas in a future version. Use pandas.concat instead.\n",
      "  results = results.append({\n",
      " 73%|███████▎  | 1479/2029 [1:33:13<44:33,  4.86s/it]"
     ]
    },
    {
     "name": "stdout",
     "output_type": "stream",
     "text": [
      "Error occurred: 'NoneType' object has no attribute 'text'\n"
     ]
    },
    {
     "name": "stderr",
     "output_type": "stream",
     "text": [
      " 73%|███████▎  | 1480/2029 [1:33:14<35:25,  3.87s/it]"
     ]
    },
    {
     "name": "stdout",
     "output_type": "stream",
     "text": [
      "Error occurred: 'NoneType' object has no attribute 'text'\n"
     ]
    },
    {
     "name": "stderr",
     "output_type": "stream",
     "text": [
      "C:\\Users\\Justin\\AppData\\Local\\Temp\\ipykernel_22308\\573511129.py:89: FutureWarning: The frame.append method is deprecated and will be removed from pandas in a future version. Use pandas.concat instead.\n",
      "  results = results.append({\n",
      " 73%|███████▎  | 1481/2029 [1:33:20<39:58,  4.38s/it]C:\\Users\\Justin\\AppData\\Local\\Temp\\ipykernel_22308\\573511129.py:89: FutureWarning: The frame.append method is deprecated and will be removed from pandas in a future version. Use pandas.concat instead.\n",
      "  results = results.append({\n",
      " 73%|███████▎  | 1482/2029 [1:33:22<33:04,  3.63s/it]C:\\Users\\Justin\\AppData\\Local\\Temp\\ipykernel_22308\\573511129.py:89: FutureWarning: The frame.append method is deprecated and will be removed from pandas in a future version. Use pandas.concat instead.\n",
      "  results = results.append({\n",
      " 73%|███████▎  | 1483/2029 [1:33:24<27:59,  3.08s/it]C:\\Users\\Justin\\AppData\\Local\\Temp\\ipykernel_22308\\573511129.py:89: FutureWarning: The frame.append method is deprecated and will be removed from pandas in a future version. Use pandas.concat instead.\n",
      "  results = results.append({\n",
      " 73%|███████▎  | 1484/2029 [1:33:29<34:32,  3.80s/it]C:\\Users\\Justin\\AppData\\Local\\Temp\\ipykernel_22308\\573511129.py:89: FutureWarning: The frame.append method is deprecated and will be removed from pandas in a future version. Use pandas.concat instead.\n",
      "  results = results.append({\n",
      " 73%|███████▎  | 1485/2029 [1:33:31<29:32,  3.26s/it]C:\\Users\\Justin\\AppData\\Local\\Temp\\ipykernel_22308\\573511129.py:89: FutureWarning: The frame.append method is deprecated and will be removed from pandas in a future version. Use pandas.concat instead.\n",
      "  results = results.append({\n",
      " 73%|███████▎  | 1486/2029 [1:33:32<23:51,  2.64s/it]C:\\Users\\Justin\\AppData\\Local\\Temp\\ipykernel_22308\\573511129.py:89: FutureWarning: The frame.append method is deprecated and will be removed from pandas in a future version. Use pandas.concat instead.\n",
      "  results = results.append({\n",
      " 73%|███████▎  | 1488/2029 [1:33:37<23:51,  2.65s/it]"
     ]
    },
    {
     "name": "stdout",
     "output_type": "stream",
     "text": [
      "Error occurred: 'NoneType' object has no attribute 'text'\n"
     ]
    },
    {
     "name": "stderr",
     "output_type": "stream",
     "text": [
      "C:\\Users\\Justin\\AppData\\Local\\Temp\\ipykernel_22308\\573511129.py:89: FutureWarning: The frame.append method is deprecated and will be removed from pandas in a future version. Use pandas.concat instead.\n",
      "  results = results.append({\n",
      " 73%|███████▎  | 1489/2029 [1:33:45<38:16,  4.25s/it]C:\\Users\\Justin\\AppData\\Local\\Temp\\ipykernel_22308\\573511129.py:89: FutureWarning: The frame.append method is deprecated and will be removed from pandas in a future version. Use pandas.concat instead.\n",
      "  results = results.append({\n",
      " 73%|███████▎  | 1490/2029 [1:33:52<44:47,  4.99s/it]C:\\Users\\Justin\\AppData\\Local\\Temp\\ipykernel_22308\\573511129.py:89: FutureWarning: The frame.append method is deprecated and will be removed from pandas in a future version. Use pandas.concat instead.\n",
      "  results = results.append({\n",
      " 74%|███████▎  | 1492/2029 [1:34:02<43:46,  4.89s/it]"
     ]
    },
    {
     "name": "stdout",
     "output_type": "stream",
     "text": [
      "Error occurred: 'NoneType' object has no attribute 'text'\n"
     ]
    },
    {
     "name": "stderr",
     "output_type": "stream",
     "text": [
      "C:\\Users\\Justin\\AppData\\Local\\Temp\\ipykernel_22308\\573511129.py:89: FutureWarning: The frame.append method is deprecated and will be removed from pandas in a future version. Use pandas.concat instead.\n",
      "  results = results.append({\n",
      " 74%|███████▎  | 1493/2029 [1:34:04<36:30,  4.09s/it]C:\\Users\\Justin\\AppData\\Local\\Temp\\ipykernel_22308\\573511129.py:89: FutureWarning: The frame.append method is deprecated and will be removed from pandas in a future version. Use pandas.concat instead.\n",
      "  results = results.append({\n",
      " 74%|███████▎  | 1494/2029 [1:34:10<40:01,  4.49s/it]C:\\Users\\Justin\\AppData\\Local\\Temp\\ipykernel_22308\\573511129.py:89: FutureWarning: The frame.append method is deprecated and will be removed from pandas in a future version. Use pandas.concat instead.\n",
      "  results = results.append({\n",
      " 74%|███████▎  | 1495/2029 [1:34:11<32:22,  3.64s/it]C:\\Users\\Justin\\AppData\\Local\\Temp\\ipykernel_22308\\573511129.py:89: FutureWarning: The frame.append method is deprecated and will be removed from pandas in a future version. Use pandas.concat instead.\n",
      "  results = results.append({\n",
      " 74%|███████▎  | 1496/2029 [1:34:13<25:50,  2.91s/it]C:\\Users\\Justin\\AppData\\Local\\Temp\\ipykernel_22308\\573511129.py:89: FutureWarning: The frame.append method is deprecated and will be removed from pandas in a future version. Use pandas.concat instead.\n",
      "  results = results.append({\n",
      " 74%|███████▍  | 1498/2029 [1:34:19<27:13,  3.08s/it]"
     ]
    },
    {
     "name": "stdout",
     "output_type": "stream",
     "text": [
      "Error occurred: 'NoneType' object has no attribute 'text'\n"
     ]
    },
    {
     "name": "stderr",
     "output_type": "stream",
     "text": [
      "C:\\Users\\Justin\\AppData\\Local\\Temp\\ipykernel_22308\\573511129.py:89: FutureWarning: The frame.append method is deprecated and will be removed from pandas in a future version. Use pandas.concat instead.\n",
      "  results = results.append({\n",
      " 74%|███████▍  | 1499/2029 [1:34:22<26:58,  3.05s/it]C:\\Users\\Justin\\AppData\\Local\\Temp\\ipykernel_22308\\573511129.py:89: FutureWarning: The frame.append method is deprecated and will be removed from pandas in a future version. Use pandas.concat instead.\n",
      "  results = results.append({\n",
      " 74%|███████▍  | 1500/2029 [1:34:24<23:38,  2.68s/it]"
     ]
    },
    {
     "name": "stdout",
     "output_type": "stream",
     "text": [
      "Error occurred: Cannot save file into a non-existent directory: 'TEMP\\NCAA_Partial'\n"
     ]
    },
    {
     "name": "stderr",
     "output_type": "stream",
     "text": [
      "C:\\Users\\Justin\\AppData\\Local\\Temp\\ipykernel_22308\\573511129.py:89: FutureWarning: The frame.append method is deprecated and will be removed from pandas in a future version. Use pandas.concat instead.\n",
      "  results = results.append({\n",
      " 74%|███████▍  | 1501/2029 [1:34:30<33:50,  3.85s/it]C:\\Users\\Justin\\AppData\\Local\\Temp\\ipykernel_22308\\573511129.py:89: FutureWarning: The frame.append method is deprecated and will be removed from pandas in a future version. Use pandas.concat instead.\n",
      "  results = results.append({\n",
      " 74%|███████▍  | 1502/2029 [1:34:31<26:05,  2.97s/it]C:\\Users\\Justin\\AppData\\Local\\Temp\\ipykernel_22308\\573511129.py:89: FutureWarning: The frame.append method is deprecated and will be removed from pandas in a future version. Use pandas.concat instead.\n",
      "  results = results.append({\n",
      " 74%|███████▍  | 1503/2029 [1:34:33<23:00,  2.62s/it]C:\\Users\\Justin\\AppData\\Local\\Temp\\ipykernel_22308\\573511129.py:89: FutureWarning: The frame.append method is deprecated and will be removed from pandas in a future version. Use pandas.concat instead.\n",
      "  results = results.append({\n",
      " 74%|███████▍  | 1504/2029 [1:34:35<20:58,  2.40s/it]C:\\Users\\Justin\\AppData\\Local\\Temp\\ipykernel_22308\\573511129.py:89: FutureWarning: The frame.append method is deprecated and will be removed from pandas in a future version. Use pandas.concat instead.\n",
      "  results = results.append({\n",
      " 74%|███████▍  | 1505/2029 [1:34:40<28:54,  3.31s/it]C:\\Users\\Justin\\AppData\\Local\\Temp\\ipykernel_22308\\573511129.py:89: FutureWarning: The frame.append method is deprecated and will be removed from pandas in a future version. Use pandas.concat instead.\n",
      "  results = results.append({\n",
      " 74%|███████▍  | 1506/2029 [1:34:42<25:39,  2.94s/it]C:\\Users\\Justin\\AppData\\Local\\Temp\\ipykernel_22308\\573511129.py:89: FutureWarning: The frame.append method is deprecated and will be removed from pandas in a future version. Use pandas.concat instead.\n",
      "  results = results.append({\n",
      " 74%|███████▍  | 1508/2029 [1:34:49<28:19,  3.26s/it]"
     ]
    },
    {
     "name": "stdout",
     "output_type": "stream",
     "text": [
      "Error occurred: 'NoneType' object has no attribute 'text'\n"
     ]
    },
    {
     "name": "stderr",
     "output_type": "stream",
     "text": [
      "C:\\Users\\Justin\\AppData\\Local\\Temp\\ipykernel_22308\\573511129.py:89: FutureWarning: The frame.append method is deprecated and will be removed from pandas in a future version. Use pandas.concat instead.\n",
      "  results = results.append({\n",
      " 74%|███████▍  | 1509/2029 [1:34:51<23:53,  2.76s/it]C:\\Users\\Justin\\AppData\\Local\\Temp\\ipykernel_22308\\573511129.py:89: FutureWarning: The frame.append method is deprecated and will be removed from pandas in a future version. Use pandas.concat instead.\n",
      "  results = results.append({\n",
      " 74%|███████▍  | 1510/2029 [1:34:52<18:49,  2.18s/it]C:\\Users\\Justin\\AppData\\Local\\Temp\\ipykernel_22308\\573511129.py:89: FutureWarning: The frame.append method is deprecated and will be removed from pandas in a future version. Use pandas.concat instead.\n",
      "  results = results.append({\n",
      " 75%|███████▍  | 1512/2029 [1:35:01<28:29,  3.31s/it]"
     ]
    },
    {
     "name": "stdout",
     "output_type": "stream",
     "text": [
      "Error occurred: 'NoneType' object has no attribute 'text'\n"
     ]
    },
    {
     "name": "stderr",
     "output_type": "stream",
     "text": [
      "C:\\Users\\Justin\\AppData\\Local\\Temp\\ipykernel_22308\\573511129.py:89: FutureWarning: The frame.append method is deprecated and will be removed from pandas in a future version. Use pandas.concat instead.\n",
      "  results = results.append({\n",
      " 75%|███████▍  | 1513/2029 [1:35:02<22:28,  2.61s/it]C:\\Users\\Justin\\AppData\\Local\\Temp\\ipykernel_22308\\573511129.py:89: FutureWarning: The frame.append method is deprecated and will be removed from pandas in a future version. Use pandas.concat instead.\n",
      "  results = results.append({\n",
      " 75%|███████▍  | 1514/2029 [1:35:13<43:29,  5.07s/it]C:\\Users\\Justin\\AppData\\Local\\Temp\\ipykernel_22308\\573511129.py:89: FutureWarning: The frame.append method is deprecated and will be removed from pandas in a future version. Use pandas.concat instead.\n",
      "  results = results.append({\n",
      " 75%|███████▍  | 1515/2029 [1:35:15<35:48,  4.18s/it]C:\\Users\\Justin\\AppData\\Local\\Temp\\ipykernel_22308\\573511129.py:89: FutureWarning: The frame.append method is deprecated and will be removed from pandas in a future version. Use pandas.concat instead.\n",
      "  results = results.append({\n",
      " 75%|███████▍  | 1517/2029 [1:35:21<30:00,  3.52s/it]"
     ]
    },
    {
     "name": "stdout",
     "output_type": "stream",
     "text": [
      "Error occurred: 'NoneType' object has no attribute 'text'\n"
     ]
    },
    {
     "name": "stderr",
     "output_type": "stream",
     "text": [
      "C:\\Users\\Justin\\AppData\\Local\\Temp\\ipykernel_22308\\573511129.py:89: FutureWarning: The frame.append method is deprecated and will be removed from pandas in a future version. Use pandas.concat instead.\n",
      "  results = results.append({\n",
      " 75%|███████▍  | 1518/2029 [1:35:24<27:05,  3.18s/it]C:\\Users\\Justin\\AppData\\Local\\Temp\\ipykernel_22308\\573511129.py:89: FutureWarning: The frame.append method is deprecated and will be removed from pandas in a future version. Use pandas.concat instead.\n",
      "  results = results.append({\n",
      " 75%|███████▍  | 1519/2029 [1:35:30<36:04,  4.24s/it]C:\\Users\\Justin\\AppData\\Local\\Temp\\ipykernel_22308\\573511129.py:89: FutureWarning: The frame.append method is deprecated and will be removed from pandas in a future version. Use pandas.concat instead.\n",
      "  results = results.append({\n",
      " 75%|███████▍  | 1520/2029 [1:35:32<29:24,  3.47s/it]C:\\Users\\Justin\\AppData\\Local\\Temp\\ipykernel_22308\\573511129.py:89: FutureWarning: The frame.append method is deprecated and will be removed from pandas in a future version. Use pandas.concat instead.\n",
      "  results = results.append({\n",
      " 75%|███████▍  | 1521/2029 [1:35:34<25:33,  3.02s/it]C:\\Users\\Justin\\AppData\\Local\\Temp\\ipykernel_22308\\573511129.py:89: FutureWarning: The frame.append method is deprecated and will be removed from pandas in a future version. Use pandas.concat instead.\n",
      "  results = results.append({\n",
      " 75%|███████▌  | 1522/2029 [1:35:35<20:21,  2.41s/it]C:\\Users\\Justin\\AppData\\Local\\Temp\\ipykernel_22308\\573511129.py:89: FutureWarning: The frame.append method is deprecated and will be removed from pandas in a future version. Use pandas.concat instead.\n",
      "  results = results.append({\n",
      " 75%|███████▌  | 1523/2029 [1:35:40<27:35,  3.27s/it]C:\\Users\\Justin\\AppData\\Local\\Temp\\ipykernel_22308\\573511129.py:89: FutureWarning: The frame.append method is deprecated and will be removed from pandas in a future version. Use pandas.concat instead.\n",
      "  results = results.append({\n",
      " 75%|███████▌  | 1524/2029 [1:35:43<25:21,  3.01s/it]C:\\Users\\Justin\\AppData\\Local\\Temp\\ipykernel_22308\\573511129.py:89: FutureWarning: The frame.append method is deprecated and will be removed from pandas in a future version. Use pandas.concat instead.\n",
      "  results = results.append({\n",
      " 75%|███████▌  | 1525/2029 [1:35:44<21:43,  2.59s/it]C:\\Users\\Justin\\AppData\\Local\\Temp\\ipykernel_22308\\573511129.py:89: FutureWarning: The frame.append method is deprecated and will be removed from pandas in a future version. Use pandas.concat instead.\n",
      "  results = results.append({\n",
      " 75%|███████▌  | 1526/2029 [1:35:49<27:28,  3.28s/it]C:\\Users\\Justin\\AppData\\Local\\Temp\\ipykernel_22308\\573511129.py:89: FutureWarning: The frame.append method is deprecated and will be removed from pandas in a future version. Use pandas.concat instead.\n",
      "  results = results.append({\n",
      " 75%|███████▌  | 1527/2029 [1:35:51<24:21,  2.91s/it]C:\\Users\\Justin\\AppData\\Local\\Temp\\ipykernel_22308\\573511129.py:89: FutureWarning: The frame.append method is deprecated and will be removed from pandas in a future version. Use pandas.concat instead.\n",
      "  results = results.append({\n",
      " 75%|███████▌  | 1528/2029 [1:35:52<20:16,  2.43s/it]C:\\Users\\Justin\\AppData\\Local\\Temp\\ipykernel_22308\\573511129.py:89: FutureWarning: The frame.append method is deprecated and will be removed from pandas in a future version. Use pandas.concat instead.\n",
      "  results = results.append({\n",
      " 75%|███████▌  | 1529/2029 [1:35:53<16:35,  1.99s/it]C:\\Users\\Justin\\AppData\\Local\\Temp\\ipykernel_22308\\573511129.py:89: FutureWarning: The frame.append method is deprecated and will be removed from pandas in a future version. Use pandas.concat instead.\n",
      "  results = results.append({\n",
      " 75%|███████▌  | 1531/2029 [1:36:01<21:33,  2.60s/it]"
     ]
    },
    {
     "name": "stdout",
     "output_type": "stream",
     "text": [
      "Error occurred: 'NoneType' object has no attribute 'text'\n"
     ]
    },
    {
     "name": "stderr",
     "output_type": "stream",
     "text": [
      "C:\\Users\\Justin\\AppData\\Local\\Temp\\ipykernel_22308\\573511129.py:89: FutureWarning: The frame.append method is deprecated and will be removed from pandas in a future version. Use pandas.concat instead.\n",
      "  results = results.append({\n",
      " 76%|███████▌  | 1532/2029 [1:36:02<19:14,  2.32s/it]C:\\Users\\Justin\\AppData\\Local\\Temp\\ipykernel_22308\\573511129.py:89: FutureWarning: The frame.append method is deprecated and will be removed from pandas in a future version. Use pandas.concat instead.\n",
      "  results = results.append({\n",
      " 76%|███████▌  | 1533/2029 [1:36:04<17:19,  2.10s/it]C:\\Users\\Justin\\AppData\\Local\\Temp\\ipykernel_22308\\573511129.py:89: FutureWarning: The frame.append method is deprecated and will be removed from pandas in a future version. Use pandas.concat instead.\n",
      "  results = results.append({\n",
      " 76%|███████▌  | 1534/2029 [1:36:05<14:59,  1.82s/it]C:\\Users\\Justin\\AppData\\Local\\Temp\\ipykernel_22308\\573511129.py:89: FutureWarning: The frame.append method is deprecated and will be removed from pandas in a future version. Use pandas.concat instead.\n",
      "  results = results.append({\n",
      " 76%|███████▌  | 1535/2029 [1:36:09<21:03,  2.56s/it]C:\\Users\\Justin\\AppData\\Local\\Temp\\ipykernel_22308\\573511129.py:89: FutureWarning: The frame.append method is deprecated and will be removed from pandas in a future version. Use pandas.concat instead.\n",
      "  results = results.append({\n",
      " 76%|███████▌  | 1536/2029 [1:36:15<27:55,  3.40s/it]C:\\Users\\Justin\\AppData\\Local\\Temp\\ipykernel_22308\\573511129.py:89: FutureWarning: The frame.append method is deprecated and will be removed from pandas in a future version. Use pandas.concat instead.\n",
      "  results = results.append({\n",
      " 76%|███████▌  | 1537/2029 [1:36:19<31:03,  3.79s/it]C:\\Users\\Justin\\AppData\\Local\\Temp\\ipykernel_22308\\573511129.py:89: FutureWarning: The frame.append method is deprecated and will be removed from pandas in a future version. Use pandas.concat instead.\n",
      "  results = results.append({\n",
      " 76%|███████▌  | 1538/2029 [1:36:21<24:45,  3.02s/it]C:\\Users\\Justin\\AppData\\Local\\Temp\\ipykernel_22308\\573511129.py:89: FutureWarning: The frame.append method is deprecated and will be removed from pandas in a future version. Use pandas.concat instead.\n",
      "  results = results.append({\n",
      " 76%|███████▌  | 1539/2029 [1:36:22<21:33,  2.64s/it]C:\\Users\\Justin\\AppData\\Local\\Temp\\ipykernel_22308\\573511129.py:89: FutureWarning: The frame.append method is deprecated and will be removed from pandas in a future version. Use pandas.concat instead.\n",
      "  results = results.append({\n",
      " 76%|███████▌  | 1540/2029 [1:36:24<18:07,  2.22s/it]C:\\Users\\Justin\\AppData\\Local\\Temp\\ipykernel_22308\\573511129.py:89: FutureWarning: The frame.append method is deprecated and will be removed from pandas in a future version. Use pandas.concat instead.\n",
      "  results = results.append({\n",
      " 76%|███████▌  | 1541/2029 [1:36:25<15:32,  1.91s/it]C:\\Users\\Justin\\AppData\\Local\\Temp\\ipykernel_22308\\573511129.py:89: FutureWarning: The frame.append method is deprecated and will be removed from pandas in a future version. Use pandas.concat instead.\n",
      "  results = results.append({\n",
      " 76%|███████▌  | 1542/2029 [1:36:26<13:53,  1.71s/it]C:\\Users\\Justin\\AppData\\Local\\Temp\\ipykernel_22308\\573511129.py:89: FutureWarning: The frame.append method is deprecated and will be removed from pandas in a future version. Use pandas.concat instead.\n",
      "  results = results.append({\n",
      " 76%|███████▌  | 1543/2029 [1:36:31<21:12,  2.62s/it]C:\\Users\\Justin\\AppData\\Local\\Temp\\ipykernel_22308\\573511129.py:89: FutureWarning: The frame.append method is deprecated and will be removed from pandas in a future version. Use pandas.concat instead.\n",
      "  results = results.append({\n",
      " 76%|███████▌  | 1544/2029 [1:36:33<20:21,  2.52s/it]C:\\Users\\Justin\\AppData\\Local\\Temp\\ipykernel_22308\\573511129.py:89: FutureWarning: The frame.append method is deprecated and will be removed from pandas in a future version. Use pandas.concat instead.\n",
      "  results = results.append({\n",
      " 76%|███████▌  | 1545/2029 [1:36:34<17:38,  2.19s/it]C:\\Users\\Justin\\AppData\\Local\\Temp\\ipykernel_22308\\573511129.py:89: FutureWarning: The frame.append method is deprecated and will be removed from pandas in a future version. Use pandas.concat instead.\n",
      "  results = results.append({\n",
      " 76%|███████▌  | 1546/2029 [1:36:36<15:19,  1.90s/it]C:\\Users\\Justin\\AppData\\Local\\Temp\\ipykernel_22308\\573511129.py:89: FutureWarning: The frame.append method is deprecated and will be removed from pandas in a future version. Use pandas.concat instead.\n",
      "  results = results.append({\n",
      " 76%|███████▌  | 1547/2029 [1:36:39<19:09,  2.39s/it]C:\\Users\\Justin\\AppData\\Local\\Temp\\ipykernel_22308\\573511129.py:89: FutureWarning: The frame.append method is deprecated and will be removed from pandas in a future version. Use pandas.concat instead.\n",
      "  results = results.append({\n",
      " 76%|███████▋  | 1548/2029 [1:36:40<15:46,  1.97s/it]C:\\Users\\Justin\\AppData\\Local\\Temp\\ipykernel_22308\\573511129.py:89: FutureWarning: The frame.append method is deprecated and will be removed from pandas in a future version. Use pandas.concat instead.\n",
      "  results = results.append({\n",
      " 76%|███████▋  | 1549/2029 [1:36:41<14:05,  1.76s/it]C:\\Users\\Justin\\AppData\\Local\\Temp\\ipykernel_22308\\573511129.py:89: FutureWarning: The frame.append method is deprecated and will be removed from pandas in a future version. Use pandas.concat instead.\n",
      "  results = results.append({\n",
      " 76%|███████▋  | 1550/2029 [1:36:54<39:31,  4.95s/it]"
     ]
    },
    {
     "name": "stdout",
     "output_type": "stream",
     "text": [
      "Error occurred: Cannot save file into a non-existent directory: 'TEMP\\NCAA_Partial'\n"
     ]
    },
    {
     "name": "stderr",
     "output_type": "stream",
     "text": [
      " 76%|███████▋  | 1551/2029 [1:36:59<41:02,  5.15s/it]"
     ]
    },
    {
     "name": "stdout",
     "output_type": "stream",
     "text": [
      "Error occurred: 'NoneType' object has no attribute 'text'\n"
     ]
    },
    {
     "name": "stderr",
     "output_type": "stream",
     "text": [
      " 76%|███████▋  | 1552/2029 [1:37:01<31:36,  3.98s/it]"
     ]
    },
    {
     "name": "stdout",
     "output_type": "stream",
     "text": [
      "Error occurred: 'NoneType' object has no attribute 'text'\n"
     ]
    },
    {
     "name": "stderr",
     "output_type": "stream",
     "text": [
      "C:\\Users\\Justin\\AppData\\Local\\Temp\\ipykernel_22308\\573511129.py:89: FutureWarning: The frame.append method is deprecated and will be removed from pandas in a future version. Use pandas.concat instead.\n",
      "  results = results.append({\n",
      " 77%|███████▋  | 1553/2029 [1:37:11<45:57,  5.79s/it]C:\\Users\\Justin\\AppData\\Local\\Temp\\ipykernel_22308\\573511129.py:89: FutureWarning: The frame.append method is deprecated and will be removed from pandas in a future version. Use pandas.concat instead.\n",
      "  results = results.append({\n",
      " 77%|███████▋  | 1554/2029 [1:37:19<52:24,  6.62s/it]C:\\Users\\Justin\\AppData\\Local\\Temp\\ipykernel_22308\\573511129.py:89: FutureWarning: The frame.append method is deprecated and will be removed from pandas in a future version. Use pandas.concat instead.\n",
      "  results = results.append({\n",
      " 77%|███████▋  | 1556/2029 [1:37:23<32:47,  4.16s/it]"
     ]
    },
    {
     "name": "stdout",
     "output_type": "stream",
     "text": [
      "Error occurred: 'NoneType' object has no attribute 'text'\n"
     ]
    },
    {
     "name": "stderr",
     "output_type": "stream",
     "text": [
      " 77%|███████▋  | 1557/2029 [1:37:25<28:37,  3.64s/it]"
     ]
    },
    {
     "name": "stdout",
     "output_type": "stream",
     "text": [
      "Error occurred: 'NoneType' object has no attribute 'text'\n"
     ]
    },
    {
     "name": "stderr",
     "output_type": "stream",
     "text": [
      "C:\\Users\\Justin\\AppData\\Local\\Temp\\ipykernel_22308\\573511129.py:89: FutureWarning: The frame.append method is deprecated and will be removed from pandas in a future version. Use pandas.concat instead.\n",
      "  results = results.append({\n",
      " 77%|███████▋  | 1558/2029 [1:37:30<30:18,  3.86s/it]C:\\Users\\Justin\\AppData\\Local\\Temp\\ipykernel_22308\\573511129.py:89: FutureWarning: The frame.append method is deprecated and will be removed from pandas in a future version. Use pandas.concat instead.\n",
      "  results = results.append({\n",
      " 77%|███████▋  | 1559/2029 [1:37:36<36:12,  4.62s/it]C:\\Users\\Justin\\AppData\\Local\\Temp\\ipykernel_22308\\573511129.py:89: FutureWarning: The frame.append method is deprecated and will be removed from pandas in a future version. Use pandas.concat instead.\n",
      "  results = results.append({\n",
      " 77%|███████▋  | 1561/2029 [1:37:42<28:57,  3.71s/it]"
     ]
    },
    {
     "name": "stdout",
     "output_type": "stream",
     "text": [
      "Error occurred: 'NoneType' object has no attribute 'text'\n"
     ]
    },
    {
     "name": "stderr",
     "output_type": "stream",
     "text": [
      "C:\\Users\\Justin\\AppData\\Local\\Temp\\ipykernel_22308\\573511129.py:89: FutureWarning: The frame.append method is deprecated and will be removed from pandas in a future version. Use pandas.concat instead.\n",
      "  results = results.append({\n",
      " 77%|███████▋  | 1562/2029 [1:37:44<23:50,  3.06s/it]C:\\Users\\Justin\\AppData\\Local\\Temp\\ipykernel_22308\\573511129.py:89: FutureWarning: The frame.append method is deprecated and will be removed from pandas in a future version. Use pandas.concat instead.\n",
      "  results = results.append({\n",
      " 77%|███████▋  | 1563/2029 [1:37:49<30:09,  3.88s/it]C:\\Users\\Justin\\AppData\\Local\\Temp\\ipykernel_22308\\573511129.py:89: FutureWarning: The frame.append method is deprecated and will be removed from pandas in a future version. Use pandas.concat instead.\n",
      "  results = results.append({\n",
      " 77%|███████▋  | 1564/2029 [1:37:51<24:54,  3.21s/it]C:\\Users\\Justin\\AppData\\Local\\Temp\\ipykernel_22308\\573511129.py:89: FutureWarning: The frame.append method is deprecated and will be removed from pandas in a future version. Use pandas.concat instead.\n",
      "  results = results.append({\n",
      " 77%|███████▋  | 1566/2029 [1:37:54<17:07,  2.22s/it]"
     ]
    },
    {
     "name": "stdout",
     "output_type": "stream",
     "text": [
      "Error occurred: 'NoneType' object has no attribute 'text'\n"
     ]
    },
    {
     "name": "stderr",
     "output_type": "stream",
     "text": [
      "C:\\Users\\Justin\\AppData\\Local\\Temp\\ipykernel_22308\\573511129.py:89: FutureWarning: The frame.append method is deprecated and will be removed from pandas in a future version. Use pandas.concat instead.\n",
      "  results = results.append({\n",
      " 77%|███████▋  | 1567/2029 [1:37:55<15:27,  2.01s/it]C:\\Users\\Justin\\AppData\\Local\\Temp\\ipykernel_22308\\573511129.py:89: FutureWarning: The frame.append method is deprecated and will be removed from pandas in a future version. Use pandas.concat instead.\n",
      "  results = results.append({\n",
      " 77%|███████▋  | 1568/2029 [1:38:15<56:40,  7.38s/it]C:\\Users\\Justin\\AppData\\Local\\Temp\\ipykernel_22308\\573511129.py:89: FutureWarning: The frame.append method is deprecated and will be removed from pandas in a future version. Use pandas.concat instead.\n",
      "  results = results.append({\n",
      " 77%|███████▋  | 1569/2029 [1:38:21<53:43,  7.01s/it]C:\\Users\\Justin\\AppData\\Local\\Temp\\ipykernel_22308\\573511129.py:89: FutureWarning: The frame.append method is deprecated and will be removed from pandas in a future version. Use pandas.concat instead.\n",
      "  results = results.append({\n",
      " 77%|███████▋  | 1570/2029 [1:38:30<57:09,  7.47s/it]C:\\Users\\Justin\\AppData\\Local\\Temp\\ipykernel_22308\\573511129.py:89: FutureWarning: The frame.append method is deprecated and will be removed from pandas in a future version. Use pandas.concat instead.\n",
      "  results = results.append({\n",
      " 77%|███████▋  | 1571/2029 [1:38:31<41:57,  5.50s/it]C:\\Users\\Justin\\AppData\\Local\\Temp\\ipykernel_22308\\573511129.py:89: FutureWarning: The frame.append method is deprecated and will be removed from pandas in a future version. Use pandas.concat instead.\n",
      "  results = results.append({\n",
      " 77%|███████▋  | 1572/2029 [1:38:32<33:43,  4.43s/it]C:\\Users\\Justin\\AppData\\Local\\Temp\\ipykernel_22308\\573511129.py:89: FutureWarning: The frame.append method is deprecated and will be removed from pandas in a future version. Use pandas.concat instead.\n",
      "  results = results.append({\n",
      " 78%|███████▊  | 1573/2029 [1:38:34<27:46,  3.65s/it]C:\\Users\\Justin\\AppData\\Local\\Temp\\ipykernel_22308\\573511129.py:89: FutureWarning: The frame.append method is deprecated and will be removed from pandas in a future version. Use pandas.concat instead.\n",
      "  results = results.append({\n",
      " 78%|███████▊  | 1574/2029 [1:38:35<21:37,  2.85s/it]C:\\Users\\Justin\\AppData\\Local\\Temp\\ipykernel_22308\\573511129.py:89: FutureWarning: The frame.append method is deprecated and will be removed from pandas in a future version. Use pandas.concat instead.\n",
      "  results = results.append({\n",
      " 78%|███████▊  | 1575/2029 [1:38:41<27:52,  3.68s/it]C:\\Users\\Justin\\AppData\\Local\\Temp\\ipykernel_22308\\573511129.py:89: FutureWarning: The frame.append method is deprecated and will be removed from pandas in a future version. Use pandas.concat instead.\n",
      "  results = results.append({\n",
      " 78%|███████▊  | 1576/2029 [1:38:42<22:23,  2.97s/it]C:\\Users\\Justin\\AppData\\Local\\Temp\\ipykernel_22308\\573511129.py:89: FutureWarning: The frame.append method is deprecated and will be removed from pandas in a future version. Use pandas.concat instead.\n",
      "  results = results.append({\n",
      " 78%|███████▊  | 1577/2029 [1:38:43<17:51,  2.37s/it]C:\\Users\\Justin\\AppData\\Local\\Temp\\ipykernel_22308\\573511129.py:89: FutureWarning: The frame.append method is deprecated and will be removed from pandas in a future version. Use pandas.concat instead.\n",
      "  results = results.append({\n",
      " 78%|███████▊  | 1578/2029 [1:38:45<16:27,  2.19s/it]C:\\Users\\Justin\\AppData\\Local\\Temp\\ipykernel_22308\\573511129.py:89: FutureWarning: The frame.append method is deprecated and will be removed from pandas in a future version. Use pandas.concat instead.\n",
      "  results = results.append({\n",
      " 78%|███████▊  | 1579/2029 [1:38:51<24:47,  3.31s/it]C:\\Users\\Justin\\AppData\\Local\\Temp\\ipykernel_22308\\573511129.py:89: FutureWarning: The frame.append method is deprecated and will be removed from pandas in a future version. Use pandas.concat instead.\n",
      "  results = results.append({\n",
      " 78%|███████▊  | 1580/2029 [1:38:52<20:42,  2.77s/it]C:\\Users\\Justin\\AppData\\Local\\Temp\\ipykernel_22308\\573511129.py:89: FutureWarning: The frame.append method is deprecated and will be removed from pandas in a future version. Use pandas.concat instead.\n",
      "  results = results.append({\n",
      " 78%|███████▊  | 1581/2029 [1:38:54<18:44,  2.51s/it]C:\\Users\\Justin\\AppData\\Local\\Temp\\ipykernel_22308\\573511129.py:89: FutureWarning: The frame.append method is deprecated and will be removed from pandas in a future version. Use pandas.concat instead.\n",
      "  results = results.append({\n",
      " 78%|███████▊  | 1582/2029 [1:38:59<24:26,  3.28s/it]C:\\Users\\Justin\\AppData\\Local\\Temp\\ipykernel_22308\\573511129.py:89: FutureWarning: The frame.append method is deprecated and will be removed from pandas in a future version. Use pandas.concat instead.\n",
      "  results = results.append({\n",
      " 78%|███████▊  | 1583/2029 [1:39:01<20:03,  2.70s/it]C:\\Users\\Justin\\AppData\\Local\\Temp\\ipykernel_22308\\573511129.py:89: FutureWarning: The frame.append method is deprecated and will be removed from pandas in a future version. Use pandas.concat instead.\n",
      "  results = results.append({\n",
      " 78%|███████▊  | 1584/2029 [1:39:06<25:49,  3.48s/it]C:\\Users\\Justin\\AppData\\Local\\Temp\\ipykernel_22308\\573511129.py:89: FutureWarning: The frame.append method is deprecated and will be removed from pandas in a future version. Use pandas.concat instead.\n",
      "  results = results.append({\n",
      " 78%|███████▊  | 1585/2029 [1:39:10<26:30,  3.58s/it]C:\\Users\\Justin\\AppData\\Local\\Temp\\ipykernel_22308\\573511129.py:89: FutureWarning: The frame.append method is deprecated and will be removed from pandas in a future version. Use pandas.concat instead.\n",
      "  results = results.append({\n",
      " 78%|███████▊  | 1586/2029 [1:39:12<22:14,  3.01s/it]C:\\Users\\Justin\\AppData\\Local\\Temp\\ipykernel_22308\\573511129.py:89: FutureWarning: The frame.append method is deprecated and will be removed from pandas in a future version. Use pandas.concat instead.\n",
      "  results = results.append({\n",
      " 78%|███████▊  | 1588/2029 [1:39:22<32:34,  4.43s/it]"
     ]
    },
    {
     "name": "stdout",
     "output_type": "stream",
     "text": [
      "Error occurred: 'NoneType' object has no attribute 'text'\n"
     ]
    },
    {
     "name": "stderr",
     "output_type": "stream",
     "text": [
      "C:\\Users\\Justin\\AppData\\Local\\Temp\\ipykernel_22308\\573511129.py:89: FutureWarning: The frame.append method is deprecated and will be removed from pandas in a future version. Use pandas.concat instead.\n",
      "  results = results.append({\n",
      " 78%|███████▊  | 1589/2029 [1:39:23<25:40,  3.50s/it]C:\\Users\\Justin\\AppData\\Local\\Temp\\ipykernel_22308\\573511129.py:89: FutureWarning: The frame.append method is deprecated and will be removed from pandas in a future version. Use pandas.concat instead.\n",
      "  results = results.append({\n",
      " 78%|███████▊  | 1590/2029 [1:39:30<31:54,  4.36s/it]C:\\Users\\Justin\\AppData\\Local\\Temp\\ipykernel_22308\\573511129.py:89: FutureWarning: The frame.append method is deprecated and will be removed from pandas in a future version. Use pandas.concat instead.\n",
      "  results = results.append({\n",
      " 78%|███████▊  | 1591/2029 [1:39:31<24:50,  3.40s/it]C:\\Users\\Justin\\AppData\\Local\\Temp\\ipykernel_22308\\573511129.py:89: FutureWarning: The frame.append method is deprecated and will be removed from pandas in a future version. Use pandas.concat instead.\n",
      "  results = results.append({\n",
      " 78%|███████▊  | 1592/2029 [1:39:34<24:48,  3.41s/it]C:\\Users\\Justin\\AppData\\Local\\Temp\\ipykernel_22308\\573511129.py:89: FutureWarning: The frame.append method is deprecated and will be removed from pandas in a future version. Use pandas.concat instead.\n",
      "  results = results.append({\n",
      " 79%|███████▊  | 1593/2029 [1:39:35<19:56,  2.74s/it]C:\\Users\\Justin\\AppData\\Local\\Temp\\ipykernel_22308\\573511129.py:89: FutureWarning: The frame.append method is deprecated and will be removed from pandas in a future version. Use pandas.concat instead.\n",
      "  results = results.append({\n",
      " 79%|███████▊  | 1595/2029 [1:39:42<20:10,  2.79s/it]"
     ]
    },
    {
     "name": "stdout",
     "output_type": "stream",
     "text": [
      "Error occurred: 'NoneType' object has no attribute 'text'\n"
     ]
    },
    {
     "name": "stderr",
     "output_type": "stream",
     "text": [
      " 79%|███████▊  | 1596/2029 [1:39:44<19:09,  2.65s/it]"
     ]
    },
    {
     "name": "stdout",
     "output_type": "stream",
     "text": [
      "Error occurred: 'NoneType' object has no attribute 'text'\n"
     ]
    },
    {
     "name": "stderr",
     "output_type": "stream",
     "text": [
      "C:\\Users\\Justin\\AppData\\Local\\Temp\\ipykernel_22308\\573511129.py:89: FutureWarning: The frame.append method is deprecated and will be removed from pandas in a future version. Use pandas.concat instead.\n",
      "  results = results.append({\n",
      " 79%|███████▊  | 1597/2029 [1:39:46<17:06,  2.38s/it]C:\\Users\\Justin\\AppData\\Local\\Temp\\ipykernel_22308\\573511129.py:89: FutureWarning: The frame.append method is deprecated and will be removed from pandas in a future version. Use pandas.concat instead.\n",
      "  results = results.append({\n",
      " 79%|███████▉  | 1598/2029 [1:40:00<43:25,  6.05s/it]C:\\Users\\Justin\\AppData\\Local\\Temp\\ipykernel_22308\\573511129.py:89: FutureWarning: The frame.append method is deprecated and will be removed from pandas in a future version. Use pandas.concat instead.\n",
      "  results = results.append({\n",
      " 79%|███████▉  | 1599/2029 [1:40:06<43:20,  6.05s/it]C:\\Users\\Justin\\AppData\\Local\\Temp\\ipykernel_22308\\573511129.py:89: FutureWarning: The frame.append method is deprecated and will be removed from pandas in a future version. Use pandas.concat instead.\n",
      "  results = results.append({\n",
      " 79%|███████▉  | 1600/2029 [1:40:11<40:09,  5.62s/it]"
     ]
    },
    {
     "name": "stdout",
     "output_type": "stream",
     "text": [
      "Error occurred: Cannot save file into a non-existent directory: 'TEMP\\NCAA_Partial'\n"
     ]
    },
    {
     "name": "stderr",
     "output_type": "stream",
     "text": [
      "C:\\Users\\Justin\\AppData\\Local\\Temp\\ipykernel_22308\\573511129.py:89: FutureWarning: The frame.append method is deprecated and will be removed from pandas in a future version. Use pandas.concat instead.\n",
      "  results = results.append({\n",
      " 79%|███████▉  | 1602/2029 [1:40:14<25:03,  3.52s/it]"
     ]
    },
    {
     "name": "stdout",
     "output_type": "stream",
     "text": [
      "Error occurred: 'NoneType' object has no attribute 'text'\n"
     ]
    },
    {
     "name": "stderr",
     "output_type": "stream",
     "text": [
      "C:\\Users\\Justin\\AppData\\Local\\Temp\\ipykernel_22308\\573511129.py:89: FutureWarning: The frame.append method is deprecated and will be removed from pandas in a future version. Use pandas.concat instead.\n",
      "  results = results.append({\n",
      " 79%|███████▉  | 1603/2029 [1:40:35<1:03:46,  8.98s/it]C:\\Users\\Justin\\AppData\\Local\\Temp\\ipykernel_22308\\573511129.py:89: FutureWarning: The frame.append method is deprecated and will be removed from pandas in a future version. Use pandas.concat instead.\n",
      "  results = results.append({\n",
      " 79%|███████▉  | 1604/2029 [1:40:40<54:57,  7.76s/it]  C:\\Users\\Justin\\AppData\\Local\\Temp\\ipykernel_22308\\573511129.py:89: FutureWarning: The frame.append method is deprecated and will be removed from pandas in a future version. Use pandas.concat instead.\n",
      "  results = results.append({\n",
      " 79%|███████▉  | 1605/2029 [1:40:41<40:45,  5.77s/it]C:\\Users\\Justin\\AppData\\Local\\Temp\\ipykernel_22308\\573511129.py:89: FutureWarning: The frame.append method is deprecated and will be removed from pandas in a future version. Use pandas.concat instead.\n",
      "  results = results.append({\n",
      " 79%|███████▉  | 1606/2029 [1:40:50<46:10,  6.55s/it]C:\\Users\\Justin\\AppData\\Local\\Temp\\ipykernel_22308\\573511129.py:89: FutureWarning: The frame.append method is deprecated and will be removed from pandas in a future version. Use pandas.concat instead.\n",
      "  results = results.append({\n",
      " 79%|███████▉  | 1607/2029 [1:40:52<37:03,  5.27s/it]C:\\Users\\Justin\\AppData\\Local\\Temp\\ipykernel_22308\\573511129.py:89: FutureWarning: The frame.append method is deprecated and will be removed from pandas in a future version. Use pandas.concat instead.\n",
      "  results = results.append({\n",
      " 79%|███████▉  | 1609/2029 [1:40:55<23:25,  3.35s/it]"
     ]
    },
    {
     "name": "stdout",
     "output_type": "stream",
     "text": [
      "Error occurred: 'NoneType' object has no attribute 'text'\n"
     ]
    },
    {
     "name": "stderr",
     "output_type": "stream",
     "text": [
      " 79%|███████▉  | 1610/2029 [1:41:00<25:40,  3.68s/it]"
     ]
    },
    {
     "name": "stdout",
     "output_type": "stream",
     "text": [
      "Error occurred: 'NoneType' object has no attribute 'text'\n"
     ]
    },
    {
     "name": "stderr",
     "output_type": "stream",
     "text": [
      "C:\\Users\\Justin\\AppData\\Local\\Temp\\ipykernel_22308\\573511129.py:89: FutureWarning: The frame.append method is deprecated and will be removed from pandas in a future version. Use pandas.concat instead.\n",
      "  results = results.append({\n",
      " 79%|███████▉  | 1611/2029 [1:41:01<20:36,  2.96s/it]C:\\Users\\Justin\\AppData\\Local\\Temp\\ipykernel_22308\\573511129.py:89: FutureWarning: The frame.append method is deprecated and will be removed from pandas in a future version. Use pandas.concat instead.\n",
      "  results = results.append({\n",
      " 79%|███████▉  | 1612/2029 [1:41:02<17:27,  2.51s/it]C:\\Users\\Justin\\AppData\\Local\\Temp\\ipykernel_22308\\573511129.py:89: FutureWarning: The frame.append method is deprecated and will be removed from pandas in a future version. Use pandas.concat instead.\n",
      "  results = results.append({\n",
      " 79%|███████▉  | 1613/2029 [1:41:04<16:48,  2.42s/it]C:\\Users\\Justin\\AppData\\Local\\Temp\\ipykernel_22308\\573511129.py:89: FutureWarning: The frame.append method is deprecated and will be removed from pandas in a future version. Use pandas.concat instead.\n",
      "  results = results.append({\n",
      " 80%|███████▉  | 1614/2029 [1:41:11<25:00,  3.62s/it]C:\\Users\\Justin\\AppData\\Local\\Temp\\ipykernel_22308\\573511129.py:89: FutureWarning: The frame.append method is deprecated and will be removed from pandas in a future version. Use pandas.concat instead.\n",
      "  results = results.append({\n",
      " 80%|███████▉  | 1615/2029 [1:41:13<21:09,  3.07s/it]C:\\Users\\Justin\\AppData\\Local\\Temp\\ipykernel_22308\\573511129.py:89: FutureWarning: The frame.append method is deprecated and will be removed from pandas in a future version. Use pandas.concat instead.\n",
      "  results = results.append({\n",
      " 80%|███████▉  | 1616/2029 [1:41:14<16:58,  2.47s/it]C:\\Users\\Justin\\AppData\\Local\\Temp\\ipykernel_22308\\573511129.py:89: FutureWarning: The frame.append method is deprecated and will be removed from pandas in a future version. Use pandas.concat instead.\n",
      "  results = results.append({\n",
      " 80%|███████▉  | 1617/2029 [1:41:15<14:58,  2.18s/it]C:\\Users\\Justin\\AppData\\Local\\Temp\\ipykernel_22308\\573511129.py:89: FutureWarning: The frame.append method is deprecated and will be removed from pandas in a future version. Use pandas.concat instead.\n",
      "  results = results.append({\n",
      " 80%|███████▉  | 1618/2029 [1:41:21<23:10,  3.38s/it]C:\\Users\\Justin\\AppData\\Local\\Temp\\ipykernel_22308\\573511129.py:89: FutureWarning: The frame.append method is deprecated and will be removed from pandas in a future version. Use pandas.concat instead.\n",
      "  results = results.append({\n",
      " 80%|███████▉  | 1619/2029 [1:41:24<20:26,  2.99s/it]C:\\Users\\Justin\\AppData\\Local\\Temp\\ipykernel_22308\\573511129.py:89: FutureWarning: The frame.append method is deprecated and will be removed from pandas in a future version. Use pandas.concat instead.\n",
      "  results = results.append({\n",
      " 80%|███████▉  | 1621/2029 [1:41:26<14:02,  2.07s/it]"
     ]
    },
    {
     "name": "stdout",
     "output_type": "stream",
     "text": [
      "Error occurred: 'NoneType' object has no attribute 'text'\n"
     ]
    },
    {
     "name": "stderr",
     "output_type": "stream",
     "text": [
      "C:\\Users\\Justin\\AppData\\Local\\Temp\\ipykernel_22308\\573511129.py:89: FutureWarning: The frame.append method is deprecated and will be removed from pandas in a future version. Use pandas.concat instead.\n",
      "  results = results.append({\n",
      " 80%|███████▉  | 1622/2029 [1:41:31<20:53,  3.08s/it]C:\\Users\\Justin\\AppData\\Local\\Temp\\ipykernel_22308\\573511129.py:89: FutureWarning: The frame.append method is deprecated and will be removed from pandas in a future version. Use pandas.concat instead.\n",
      "  results = results.append({\n",
      " 80%|███████▉  | 1623/2029 [1:41:33<18:14,  2.70s/it]C:\\Users\\Justin\\AppData\\Local\\Temp\\ipykernel_22308\\573511129.py:89: FutureWarning: The frame.append method is deprecated and will be removed from pandas in a future version. Use pandas.concat instead.\n",
      "  results = results.append({\n",
      " 80%|████████  | 1624/2029 [1:41:35<16:38,  2.47s/it]C:\\Users\\Justin\\AppData\\Local\\Temp\\ipykernel_22308\\573511129.py:89: FutureWarning: The frame.append method is deprecated and will be removed from pandas in a future version. Use pandas.concat instead.\n",
      "  results = results.append({\n",
      " 80%|████████  | 1625/2029 [1:41:36<13:58,  2.07s/it]C:\\Users\\Justin\\AppData\\Local\\Temp\\ipykernel_22308\\573511129.py:89: FutureWarning: The frame.append method is deprecated and will be removed from pandas in a future version. Use pandas.concat instead.\n",
      "  results = results.append({\n",
      " 80%|████████  | 1626/2029 [1:41:41<18:18,  2.73s/it]C:\\Users\\Justin\\AppData\\Local\\Temp\\ipykernel_22308\\573511129.py:89: FutureWarning: The frame.append method is deprecated and will be removed from pandas in a future version. Use pandas.concat instead.\n",
      "  results = results.append({\n",
      " 80%|████████  | 1627/2029 [1:41:42<15:24,  2.30s/it]C:\\Users\\Justin\\AppData\\Local\\Temp\\ipykernel_22308\\573511129.py:89: FutureWarning: The frame.append method is deprecated and will be removed from pandas in a future version. Use pandas.concat instead.\n",
      "  results = results.append({\n",
      " 80%|████████  | 1628/2029 [1:41:51<28:08,  4.21s/it]C:\\Users\\Justin\\AppData\\Local\\Temp\\ipykernel_22308\\573511129.py:89: FutureWarning: The frame.append method is deprecated and will be removed from pandas in a future version. Use pandas.concat instead.\n",
      "  results = results.append({\n",
      " 80%|████████  | 1629/2029 [1:41:52<23:16,  3.49s/it]C:\\Users\\Justin\\AppData\\Local\\Temp\\ipykernel_22308\\573511129.py:89: FutureWarning: The frame.append method is deprecated and will be removed from pandas in a future version. Use pandas.concat instead.\n",
      "  results = results.append({\n",
      " 80%|████████  | 1630/2029 [1:41:54<19:17,  2.90s/it]C:\\Users\\Justin\\AppData\\Local\\Temp\\ipykernel_22308\\573511129.py:89: FutureWarning: The frame.append method is deprecated and will be removed from pandas in a future version. Use pandas.concat instead.\n",
      "  results = results.append({\n",
      " 80%|████████  | 1631/2029 [1:41:55<16:22,  2.47s/it]C:\\Users\\Justin\\AppData\\Local\\Temp\\ipykernel_22308\\573511129.py:89: FutureWarning: The frame.append method is deprecated and will be removed from pandas in a future version. Use pandas.concat instead.\n",
      "  results = results.append({\n",
      " 80%|████████  | 1632/2029 [1:42:02<23:46,  3.59s/it]C:\\Users\\Justin\\AppData\\Local\\Temp\\ipykernel_22308\\573511129.py:89: FutureWarning: The frame.append method is deprecated and will be removed from pandas in a future version. Use pandas.concat instead.\n",
      "  results = results.append({\n",
      " 80%|████████  | 1633/2029 [1:42:11<34:56,  5.29s/it]C:\\Users\\Justin\\AppData\\Local\\Temp\\ipykernel_22308\\573511129.py:89: FutureWarning: The frame.append method is deprecated and will be removed from pandas in a future version. Use pandas.concat instead.\n",
      "  results = results.append({\n",
      " 81%|████████  | 1634/2029 [1:42:13<28:15,  4.29s/it]C:\\Users\\Justin\\AppData\\Local\\Temp\\ipykernel_22308\\573511129.py:89: FutureWarning: The frame.append method is deprecated and will be removed from pandas in a future version. Use pandas.concat instead.\n",
      "  results = results.append({\n",
      " 81%|████████  | 1635/2029 [1:42:14<21:39,  3.30s/it]C:\\Users\\Justin\\AppData\\Local\\Temp\\ipykernel_22308\\573511129.py:89: FutureWarning: The frame.append method is deprecated and will be removed from pandas in a future version. Use pandas.concat instead.\n",
      "  results = results.append({\n",
      " 81%|████████  | 1636/2029 [1:42:20<27:48,  4.24s/it]C:\\Users\\Justin\\AppData\\Local\\Temp\\ipykernel_22308\\573511129.py:89: FutureWarning: The frame.append method is deprecated and will be removed from pandas in a future version. Use pandas.concat instead.\n",
      "  results = results.append({\n",
      " 81%|████████  | 1637/2029 [1:42:22<23:29,  3.60s/it]C:\\Users\\Justin\\AppData\\Local\\Temp\\ipykernel_22308\\573511129.py:89: FutureWarning: The frame.append method is deprecated and will be removed from pandas in a future version. Use pandas.concat instead.\n",
      "  results = results.append({\n",
      " 81%|████████  | 1638/2029 [1:42:23<18:19,  2.81s/it]C:\\Users\\Justin\\AppData\\Local\\Temp\\ipykernel_22308\\573511129.py:89: FutureWarning: The frame.append method is deprecated and will be removed from pandas in a future version. Use pandas.concat instead.\n",
      "  results = results.append({\n",
      " 81%|████████  | 1639/2029 [1:42:24<14:33,  2.24s/it]C:\\Users\\Justin\\AppData\\Local\\Temp\\ipykernel_22308\\573511129.py:89: FutureWarning: The frame.append method is deprecated and will be removed from pandas in a future version. Use pandas.concat instead.\n",
      "  results = results.append({\n",
      " 81%|████████  | 1640/2029 [1:42:26<13:43,  2.12s/it]C:\\Users\\Justin\\AppData\\Local\\Temp\\ipykernel_22308\\573511129.py:89: FutureWarning: The frame.append method is deprecated and will be removed from pandas in a future version. Use pandas.concat instead.\n",
      "  results = results.append({\n",
      " 81%|████████  | 1642/2029 [1:42:35<21:21,  3.31s/it]"
     ]
    },
    {
     "name": "stdout",
     "output_type": "stream",
     "text": [
      "Error occurred: 'NoneType' object has no attribute 'text'\n"
     ]
    },
    {
     "name": "stderr",
     "output_type": "stream",
     "text": [
      "C:\\Users\\Justin\\AppData\\Local\\Temp\\ipykernel_22308\\573511129.py:89: FutureWarning: The frame.append method is deprecated and will be removed from pandas in a future version. Use pandas.concat instead.\n",
      "  results = results.append({\n",
      " 81%|████████  | 1643/2029 [1:42:41<26:33,  4.13s/it]C:\\Users\\Justin\\AppData\\Local\\Temp\\ipykernel_22308\\573511129.py:89: FutureWarning: The frame.append method is deprecated and will be removed from pandas in a future version. Use pandas.concat instead.\n",
      "  results = results.append({\n",
      " 81%|████████  | 1644/2029 [1:42:43<22:04,  3.44s/it]C:\\Users\\Justin\\AppData\\Local\\Temp\\ipykernel_22308\\573511129.py:89: FutureWarning: The frame.append method is deprecated and will be removed from pandas in a future version. Use pandas.concat instead.\n",
      "  results = results.append({\n",
      " 81%|████████  | 1645/2029 [1:42:45<19:46,  3.09s/it]C:\\Users\\Justin\\AppData\\Local\\Temp\\ipykernel_22308\\573511129.py:89: FutureWarning: The frame.append method is deprecated and will be removed from pandas in a future version. Use pandas.concat instead.\n",
      "  results = results.append({\n",
      " 81%|████████  | 1646/2029 [1:42:50<24:37,  3.86s/it]C:\\Users\\Justin\\AppData\\Local\\Temp\\ipykernel_22308\\573511129.py:89: FutureWarning: The frame.append method is deprecated and will be removed from pandas in a future version. Use pandas.concat instead.\n",
      "  results = results.append({\n",
      " 81%|████████  | 1647/2029 [1:42:54<23:47,  3.74s/it]C:\\Users\\Justin\\AppData\\Local\\Temp\\ipykernel_22308\\573511129.py:89: FutureWarning: The frame.append method is deprecated and will be removed from pandas in a future version. Use pandas.concat instead.\n",
      "  results = results.append({\n",
      " 81%|████████▏ | 1649/2029 [1:43:01<23:12,  3.66s/it]"
     ]
    },
    {
     "name": "stdout",
     "output_type": "stream",
     "text": [
      "Error occurred: 'NoneType' object has no attribute 'text'\n"
     ]
    },
    {
     "name": "stderr",
     "output_type": "stream",
     "text": [
      "C:\\Users\\Justin\\AppData\\Local\\Temp\\ipykernel_22308\\573511129.py:89: FutureWarning: The frame.append method is deprecated and will be removed from pandas in a future version. Use pandas.concat instead.\n",
      "  results = results.append({\n",
      " 81%|████████▏ | 1650/2029 [1:43:02<18:39,  2.95s/it]"
     ]
    },
    {
     "name": "stdout",
     "output_type": "stream",
     "text": [
      "Error occurred: Cannot save file into a non-existent directory: 'TEMP\\NCAA_Partial'\n"
     ]
    },
    {
     "name": "stderr",
     "output_type": "stream",
     "text": [
      "C:\\Users\\Justin\\AppData\\Local\\Temp\\ipykernel_22308\\573511129.py:89: FutureWarning: The frame.append method is deprecated and will be removed from pandas in a future version. Use pandas.concat instead.\n",
      "  results = results.append({\n",
      " 81%|████████▏ | 1651/2029 [1:43:03<15:29,  2.46s/it]C:\\Users\\Justin\\AppData\\Local\\Temp\\ipykernel_22308\\573511129.py:89: FutureWarning: The frame.append method is deprecated and will be removed from pandas in a future version. Use pandas.concat instead.\n",
      "  results = results.append({\n",
      " 81%|████████▏ | 1652/2029 [1:43:10<24:03,  3.83s/it]C:\\Users\\Justin\\AppData\\Local\\Temp\\ipykernel_22308\\573511129.py:89: FutureWarning: The frame.append method is deprecated and will be removed from pandas in a future version. Use pandas.concat instead.\n",
      "  results = results.append({\n",
      " 81%|████████▏ | 1653/2029 [1:43:13<21:12,  3.39s/it]C:\\Users\\Justin\\AppData\\Local\\Temp\\ipykernel_22308\\573511129.py:89: FutureWarning: The frame.append method is deprecated and will be removed from pandas in a future version. Use pandas.concat instead.\n",
      "  results = results.append({\n",
      " 82%|████████▏ | 1654/2029 [1:43:14<17:41,  2.83s/it]C:\\Users\\Justin\\AppData\\Local\\Temp\\ipykernel_22308\\573511129.py:89: FutureWarning: The frame.append method is deprecated and will be removed from pandas in a future version. Use pandas.concat instead.\n",
      "  results = results.append({\n",
      " 82%|████████▏ | 1655/2029 [1:43:16<15:57,  2.56s/it]C:\\Users\\Justin\\AppData\\Local\\Temp\\ipykernel_22308\\573511129.py:89: FutureWarning: The frame.append method is deprecated and will be removed from pandas in a future version. Use pandas.concat instead.\n",
      "  results = results.append({\n",
      " 82%|████████▏ | 1656/2029 [1:43:20<18:15,  2.94s/it]C:\\Users\\Justin\\AppData\\Local\\Temp\\ipykernel_22308\\573511129.py:89: FutureWarning: The frame.append method is deprecated and will be removed from pandas in a future version. Use pandas.concat instead.\n",
      "  results = results.append({\n",
      " 82%|████████▏ | 1657/2029 [1:43:22<15:46,  2.54s/it]C:\\Users\\Justin\\AppData\\Local\\Temp\\ipykernel_22308\\573511129.py:89: FutureWarning: The frame.append method is deprecated and will be removed from pandas in a future version. Use pandas.concat instead.\n",
      "  results = results.append({\n",
      " 82%|████████▏ | 1658/2029 [1:43:23<13:59,  2.26s/it]C:\\Users\\Justin\\AppData\\Local\\Temp\\ipykernel_22308\\573511129.py:89: FutureWarning: The frame.append method is deprecated and will be removed from pandas in a future version. Use pandas.concat instead.\n",
      "  results = results.append({\n",
      " 82%|████████▏ | 1659/2029 [1:43:24<12:01,  1.95s/it]C:\\Users\\Justin\\AppData\\Local\\Temp\\ipykernel_22308\\573511129.py:89: FutureWarning: The frame.append method is deprecated and will be removed from pandas in a future version. Use pandas.concat instead.\n",
      "  results = results.append({\n",
      " 82%|████████▏ | 1660/2029 [1:43:30<19:17,  3.14s/it]C:\\Users\\Justin\\AppData\\Local\\Temp\\ipykernel_22308\\573511129.py:89: FutureWarning: The frame.append method is deprecated and will be removed from pandas in a future version. Use pandas.concat instead.\n",
      "  results = results.append({\n",
      " 82%|████████▏ | 1661/2029 [1:43:32<16:44,  2.73s/it]C:\\Users\\Justin\\AppData\\Local\\Temp\\ipykernel_22308\\573511129.py:89: FutureWarning: The frame.append method is deprecated and will be removed from pandas in a future version. Use pandas.concat instead.\n",
      "  results = results.append({\n",
      " 82%|████████▏ | 1663/2029 [1:43:36<14:21,  2.35s/it]"
     ]
    },
    {
     "name": "stdout",
     "output_type": "stream",
     "text": [
      "Error occurred: 'NoneType' object has no attribute 'text'\n"
     ]
    },
    {
     "name": "stderr",
     "output_type": "stream",
     "text": [
      "C:\\Users\\Justin\\AppData\\Local\\Temp\\ipykernel_22308\\573511129.py:89: FutureWarning: The frame.append method is deprecated and will be removed from pandas in a future version. Use pandas.concat instead.\n",
      "  results = results.append({\n",
      " 82%|████████▏ | 1664/2029 [1:43:40<17:23,  2.86s/it]C:\\Users\\Justin\\AppData\\Local\\Temp\\ipykernel_22308\\573511129.py:89: FutureWarning: The frame.append method is deprecated and will be removed from pandas in a future version. Use pandas.concat instead.\n",
      "  results = results.append({\n",
      " 82%|████████▏ | 1665/2029 [1:43:45<21:57,  3.62s/it]C:\\Users\\Justin\\AppData\\Local\\Temp\\ipykernel_22308\\573511129.py:89: FutureWarning: The frame.append method is deprecated and will be removed from pandas in a future version. Use pandas.concat instead.\n",
      "  results = results.append({\n",
      " 82%|████████▏ | 1666/2029 [1:43:52<26:56,  4.45s/it]C:\\Users\\Justin\\AppData\\Local\\Temp\\ipykernel_22308\\573511129.py:89: FutureWarning: The frame.append method is deprecated and will be removed from pandas in a future version. Use pandas.concat instead.\n",
      "  results = results.append({\n",
      " 82%|████████▏ | 1667/2029 [1:43:53<20:48,  3.45s/it]C:\\Users\\Justin\\AppData\\Local\\Temp\\ipykernel_22308\\573511129.py:89: FutureWarning: The frame.append method is deprecated and will be removed from pandas in a future version. Use pandas.concat instead.\n",
      "  results = results.append({\n",
      " 82%|████████▏ | 1669/2029 [1:44:01<24:25,  4.07s/it]"
     ]
    },
    {
     "name": "stdout",
     "output_type": "stream",
     "text": [
      "Error occurred: 'NoneType' object has no attribute 'text'\n"
     ]
    },
    {
     "name": "stderr",
     "output_type": "stream",
     "text": [
      "C:\\Users\\Justin\\AppData\\Local\\Temp\\ipykernel_22308\\573511129.py:89: FutureWarning: The frame.append method is deprecated and will be removed from pandas in a future version. Use pandas.concat instead.\n",
      "  results = results.append({\n",
      " 82%|████████▏ | 1670/2029 [1:44:11<34:41,  5.80s/it]C:\\Users\\Justin\\AppData\\Local\\Temp\\ipykernel_22308\\573511129.py:89: FutureWarning: The frame.append method is deprecated and will be removed from pandas in a future version. Use pandas.concat instead.\n",
      "  results = results.append({\n",
      " 82%|████████▏ | 1671/2029 [1:44:13<27:31,  4.61s/it]C:\\Users\\Justin\\AppData\\Local\\Temp\\ipykernel_22308\\573511129.py:89: FutureWarning: The frame.append method is deprecated and will be removed from pandas in a future version. Use pandas.concat instead.\n",
      "  results = results.append({\n",
      " 82%|████████▏ | 1672/2029 [1:44:14<21:39,  3.64s/it]C:\\Users\\Justin\\AppData\\Local\\Temp\\ipykernel_22308\\573511129.py:89: FutureWarning: The frame.append method is deprecated and will be removed from pandas in a future version. Use pandas.concat instead.\n",
      "  results = results.append({\n",
      " 82%|████████▏ | 1673/2029 [1:44:15<17:31,  2.95s/it]C:\\Users\\Justin\\AppData\\Local\\Temp\\ipykernel_22308\\573511129.py:89: FutureWarning: The frame.append method is deprecated and will be removed from pandas in a future version. Use pandas.concat instead.\n",
      "  results = results.append({\n",
      " 83%|████████▎ | 1674/2029 [1:44:20<20:09,  3.41s/it]C:\\Users\\Justin\\AppData\\Local\\Temp\\ipykernel_22308\\573511129.py:89: FutureWarning: The frame.append method is deprecated and will be removed from pandas in a future version. Use pandas.concat instead.\n",
      "  results = results.append({\n",
      " 83%|████████▎ | 1675/2029 [1:44:22<17:48,  3.02s/it]C:\\Users\\Justin\\AppData\\Local\\Temp\\ipykernel_22308\\573511129.py:89: FutureWarning: The frame.append method is deprecated and will be removed from pandas in a future version. Use pandas.concat instead.\n",
      "  results = results.append({\n",
      " 83%|████████▎ | 1676/2029 [1:44:30<26:41,  4.54s/it]C:\\Users\\Justin\\AppData\\Local\\Temp\\ipykernel_22308\\573511129.py:89: FutureWarning: The frame.append method is deprecated and will be removed from pandas in a future version. Use pandas.concat instead.\n",
      "  results = results.append({\n",
      " 83%|████████▎ | 1677/2029 [1:44:35<27:18,  4.65s/it]C:\\Users\\Justin\\AppData\\Local\\Temp\\ipykernel_22308\\573511129.py:89: FutureWarning: The frame.append method is deprecated and will be removed from pandas in a future version. Use pandas.concat instead.\n",
      "  results = results.append({\n",
      " 83%|████████▎ | 1678/2029 [1:44:37<21:57,  3.75s/it]C:\\Users\\Justin\\AppData\\Local\\Temp\\ipykernel_22308\\573511129.py:89: FutureWarning: The frame.append method is deprecated and will be removed from pandas in a future version. Use pandas.concat instead.\n",
      "  results = results.append({\n",
      " 83%|████████▎ | 1679/2029 [1:44:42<23:51,  4.09s/it]C:\\Users\\Justin\\AppData\\Local\\Temp\\ipykernel_22308\\573511129.py:89: FutureWarning: The frame.append method is deprecated and will be removed from pandas in a future version. Use pandas.concat instead.\n",
      "  results = results.append({\n",
      " 83%|████████▎ | 1680/2029 [1:44:44<20:19,  3.49s/it]C:\\Users\\Justin\\AppData\\Local\\Temp\\ipykernel_22308\\573511129.py:89: FutureWarning: The frame.append method is deprecated and will be removed from pandas in a future version. Use pandas.concat instead.\n",
      "  results = results.append({\n",
      " 83%|████████▎ | 1681/2029 [1:44:46<18:39,  3.22s/it]C:\\Users\\Justin\\AppData\\Local\\Temp\\ipykernel_22308\\573511129.py:89: FutureWarning: The frame.append method is deprecated and will be removed from pandas in a future version. Use pandas.concat instead.\n",
      "  results = results.append({\n",
      " 83%|████████▎ | 1683/2029 [1:44:51<15:35,  2.70s/it]"
     ]
    },
    {
     "name": "stdout",
     "output_type": "stream",
     "text": [
      "Error occurred: 'NoneType' object has no attribute 'text'\n"
     ]
    },
    {
     "name": "stderr",
     "output_type": "stream",
     "text": [
      "C:\\Users\\Justin\\AppData\\Local\\Temp\\ipykernel_22308\\573511129.py:89: FutureWarning: The frame.append method is deprecated and will be removed from pandas in a future version. Use pandas.concat instead.\n",
      "  results = results.append({\n",
      " 83%|████████▎ | 1684/2029 [1:44:57<20:20,  3.54s/it]C:\\Users\\Justin\\AppData\\Local\\Temp\\ipykernel_22308\\573511129.py:89: FutureWarning: The frame.append method is deprecated and will be removed from pandas in a future version. Use pandas.concat instead.\n",
      "  results = results.append({\n",
      " 83%|████████▎ | 1685/2029 [1:45:00<20:25,  3.56s/it]C:\\Users\\Justin\\AppData\\Local\\Temp\\ipykernel_22308\\573511129.py:89: FutureWarning: The frame.append method is deprecated and will be removed from pandas in a future version. Use pandas.concat instead.\n",
      "  results = results.append({\n",
      " 83%|████████▎ | 1686/2029 [1:45:06<23:28,  4.11s/it]C:\\Users\\Justin\\AppData\\Local\\Temp\\ipykernel_22308\\573511129.py:89: FutureWarning: The frame.append method is deprecated and will be removed from pandas in a future version. Use pandas.concat instead.\n",
      "  results = results.append({\n",
      " 83%|████████▎ | 1687/2029 [1:45:07<18:06,  3.18s/it]C:\\Users\\Justin\\AppData\\Local\\Temp\\ipykernel_22308\\573511129.py:89: FutureWarning: The frame.append method is deprecated and will be removed from pandas in a future version. Use pandas.concat instead.\n",
      "  results = results.append({\n",
      " 83%|████████▎ | 1688/2029 [1:45:12<20:41,  3.64s/it]C:\\Users\\Justin\\AppData\\Local\\Temp\\ipykernel_22308\\573511129.py:89: FutureWarning: The frame.append method is deprecated and will be removed from pandas in a future version. Use pandas.concat instead.\n",
      "  results = results.append({\n",
      " 83%|████████▎ | 1689/2029 [1:45:15<20:08,  3.56s/it]C:\\Users\\Justin\\AppData\\Local\\Temp\\ipykernel_22308\\573511129.py:89: FutureWarning: The frame.append method is deprecated and will be removed from pandas in a future version. Use pandas.concat instead.\n",
      "  results = results.append({\n",
      " 83%|████████▎ | 1690/2029 [1:45:17<17:01,  3.01s/it]C:\\Users\\Justin\\AppData\\Local\\Temp\\ipykernel_22308\\573511129.py:89: FutureWarning: The frame.append method is deprecated and will be removed from pandas in a future version. Use pandas.concat instead.\n",
      "  results = results.append({\n",
      " 83%|████████▎ | 1691/2029 [1:45:21<19:05,  3.39s/it]C:\\Users\\Justin\\AppData\\Local\\Temp\\ipykernel_22308\\573511129.py:89: FutureWarning: The frame.append method is deprecated and will be removed from pandas in a future version. Use pandas.concat instead.\n",
      "  results = results.append({\n",
      " 83%|████████▎ | 1692/2029 [1:45:22<15:10,  2.70s/it]C:\\Users\\Justin\\AppData\\Local\\Temp\\ipykernel_22308\\573511129.py:89: FutureWarning: The frame.append method is deprecated and will be removed from pandas in a future version. Use pandas.concat instead.\n",
      "  results = results.append({\n",
      " 83%|████████▎ | 1693/2029 [1:45:24<13:11,  2.35s/it]C:\\Users\\Justin\\AppData\\Local\\Temp\\ipykernel_22308\\573511129.py:89: FutureWarning: The frame.append method is deprecated and will be removed from pandas in a future version. Use pandas.concat instead.\n",
      "  results = results.append({\n",
      " 83%|████████▎ | 1694/2029 [1:45:24<10:44,  1.92s/it]C:\\Users\\Justin\\AppData\\Local\\Temp\\ipykernel_22308\\573511129.py:89: FutureWarning: The frame.append method is deprecated and will be removed from pandas in a future version. Use pandas.concat instead.\n",
      "  results = results.append({\n",
      " 84%|████████▎ | 1695/2029 [1:45:25<09:03,  1.63s/it]C:\\Users\\Justin\\AppData\\Local\\Temp\\ipykernel_22308\\573511129.py:89: FutureWarning: The frame.append method is deprecated and will be removed from pandas in a future version. Use pandas.concat instead.\n",
      "  results = results.append({\n",
      " 84%|████████▎ | 1696/2029 [1:45:27<08:21,  1.51s/it]C:\\Users\\Justin\\AppData\\Local\\Temp\\ipykernel_22308\\573511129.py:89: FutureWarning: The frame.append method is deprecated and will be removed from pandas in a future version. Use pandas.concat instead.\n",
      "  results = results.append({\n",
      " 84%|████████▎ | 1697/2029 [1:45:32<14:05,  2.55s/it]C:\\Users\\Justin\\AppData\\Local\\Temp\\ipykernel_22308\\573511129.py:89: FutureWarning: The frame.append method is deprecated and will be removed from pandas in a future version. Use pandas.concat instead.\n",
      "  results = results.append({\n",
      " 84%|████████▎ | 1698/2029 [1:45:42<27:03,  4.91s/it]C:\\Users\\Justin\\AppData\\Local\\Temp\\ipykernel_22308\\573511129.py:89: FutureWarning: The frame.append method is deprecated and will be removed from pandas in a future version. Use pandas.concat instead.\n",
      "  results = results.append({\n",
      " 84%|████████▎ | 1699/2029 [1:45:44<22:31,  4.10s/it]C:\\Users\\Justin\\AppData\\Local\\Temp\\ipykernel_22308\\573511129.py:89: FutureWarning: The frame.append method is deprecated and will be removed from pandas in a future version. Use pandas.concat instead.\n",
      "  results = results.append({\n",
      " 84%|████████▍ | 1700/2029 [1:45:50<25:22,  4.63s/it]"
     ]
    },
    {
     "name": "stdout",
     "output_type": "stream",
     "text": [
      "Error occurred: Cannot save file into a non-existent directory: 'TEMP\\NCAA_Partial'\n"
     ]
    },
    {
     "name": "stderr",
     "output_type": "stream",
     "text": [
      "C:\\Users\\Justin\\AppData\\Local\\Temp\\ipykernel_22308\\573511129.py:89: FutureWarning: The frame.append method is deprecated and will be removed from pandas in a future version. Use pandas.concat instead.\n",
      "  results = results.append({\n",
      " 84%|████████▍ | 1701/2029 [1:45:56<26:47,  4.90s/it]C:\\Users\\Justin\\AppData\\Local\\Temp\\ipykernel_22308\\573511129.py:89: FutureWarning: The frame.append method is deprecated and will be removed from pandas in a future version. Use pandas.concat instead.\n",
      "  results = results.append({\n",
      " 84%|████████▍ | 1702/2029 [1:46:00<26:16,  4.82s/it]C:\\Users\\Justin\\AppData\\Local\\Temp\\ipykernel_22308\\573511129.py:89: FutureWarning: The frame.append method is deprecated and will be removed from pandas in a future version. Use pandas.concat instead.\n",
      "  results = results.append({\n",
      " 84%|████████▍ | 1703/2029 [1:46:01<20:05,  3.70s/it]C:\\Users\\Justin\\AppData\\Local\\Temp\\ipykernel_22308\\573511129.py:89: FutureWarning: The frame.append method is deprecated and will be removed from pandas in a future version. Use pandas.concat instead.\n",
      "  results = results.append({\n",
      " 84%|████████▍ | 1704/2029 [1:46:03<16:23,  3.03s/it]C:\\Users\\Justin\\AppData\\Local\\Temp\\ipykernel_22308\\573511129.py:89: FutureWarning: The frame.append method is deprecated and will be removed from pandas in a future version. Use pandas.concat instead.\n",
      "  results = results.append({\n",
      " 84%|████████▍ | 1705/2029 [1:46:05<14:44,  2.73s/it]C:\\Users\\Justin\\AppData\\Local\\Temp\\ipykernel_22308\\573511129.py:89: FutureWarning: The frame.append method is deprecated and will be removed from pandas in a future version. Use pandas.concat instead.\n",
      "  results = results.append({\n",
      " 84%|████████▍ | 1706/2029 [1:46:07<13:14,  2.46s/it]C:\\Users\\Justin\\AppData\\Local\\Temp\\ipykernel_22308\\573511129.py:89: FutureWarning: The frame.append method is deprecated and will be removed from pandas in a future version. Use pandas.concat instead.\n",
      "  results = results.append({\n",
      " 84%|████████▍ | 1707/2029 [1:46:10<15:09,  2.82s/it]C:\\Users\\Justin\\AppData\\Local\\Temp\\ipykernel_22308\\573511129.py:89: FutureWarning: The frame.append method is deprecated and will be removed from pandas in a future version. Use pandas.concat instead.\n",
      "  results = results.append({\n",
      " 84%|████████▍ | 1708/2029 [1:46:14<17:09,  3.21s/it]C:\\Users\\Justin\\AppData\\Local\\Temp\\ipykernel_22308\\573511129.py:89: FutureWarning: The frame.append method is deprecated and will be removed from pandas in a future version. Use pandas.concat instead.\n",
      "  results = results.append({\n",
      " 84%|████████▍ | 1709/2029 [1:46:20<21:17,  3.99s/it]C:\\Users\\Justin\\AppData\\Local\\Temp\\ipykernel_22308\\573511129.py:89: FutureWarning: The frame.append method is deprecated and will be removed from pandas in a future version. Use pandas.concat instead.\n",
      "  results = results.append({\n",
      " 84%|████████▍ | 1710/2029 [1:46:30<30:45,  5.79s/it]C:\\Users\\Justin\\AppData\\Local\\Temp\\ipykernel_22308\\573511129.py:89: FutureWarning: The frame.append method is deprecated and will be removed from pandas in a future version. Use pandas.concat instead.\n",
      "  results = results.append({\n",
      " 84%|████████▍ | 1711/2029 [1:46:32<24:16,  4.58s/it]C:\\Users\\Justin\\AppData\\Local\\Temp\\ipykernel_22308\\573511129.py:89: FutureWarning: The frame.append method is deprecated and will be removed from pandas in a future version. Use pandas.concat instead.\n",
      "  results = results.append({\n",
      " 84%|████████▍ | 1712/2029 [1:46:34<19:35,  3.71s/it]C:\\Users\\Justin\\AppData\\Local\\Temp\\ipykernel_22308\\573511129.py:89: FutureWarning: The frame.append method is deprecated and will be removed from pandas in a future version. Use pandas.concat instead.\n",
      "  results = results.append({\n",
      " 84%|████████▍ | 1713/2029 [1:46:35<15:27,  2.94s/it]C:\\Users\\Justin\\AppData\\Local\\Temp\\ipykernel_22308\\573511129.py:89: FutureWarning: The frame.append method is deprecated and will be removed from pandas in a future version. Use pandas.concat instead.\n",
      "  results = results.append({\n",
      " 84%|████████▍ | 1714/2029 [1:46:37<14:00,  2.67s/it]C:\\Users\\Justin\\AppData\\Local\\Temp\\ipykernel_22308\\573511129.py:89: FutureWarning: The frame.append method is deprecated and will be removed from pandas in a future version. Use pandas.concat instead.\n",
      "  results = results.append({\n",
      " 85%|████████▍ | 1716/2029 [1:46:43<14:11,  2.72s/it]"
     ]
    },
    {
     "name": "stdout",
     "output_type": "stream",
     "text": [
      "Error occurred: 'NoneType' object has no attribute 'text'\n"
     ]
    },
    {
     "name": "stderr",
     "output_type": "stream",
     "text": [
      " 85%|████████▍ | 1717/2029 [1:46:45<13:38,  2.62s/it]"
     ]
    },
    {
     "name": "stdout",
     "output_type": "stream",
     "text": [
      "Error occurred: 'NoneType' object has no attribute 'text'\n"
     ]
    },
    {
     "name": "stderr",
     "output_type": "stream",
     "text": [
      "C:\\Users\\Justin\\AppData\\Local\\Temp\\ipykernel_22308\\573511129.py:89: FutureWarning: The frame.append method is deprecated and will be removed from pandas in a future version. Use pandas.concat instead.\n",
      "  results = results.append({\n",
      " 85%|████████▍ | 1718/2029 [1:46:51<19:10,  3.70s/it]C:\\Users\\Justin\\AppData\\Local\\Temp\\ipykernel_22308\\573511129.py:89: FutureWarning: The frame.append method is deprecated and will be removed from pandas in a future version. Use pandas.concat instead.\n",
      "  results = results.append({\n",
      " 85%|████████▍ | 1720/2029 [1:46:55<14:02,  2.73s/it]"
     ]
    },
    {
     "name": "stdout",
     "output_type": "stream",
     "text": [
      "Error occurred: 'NoneType' object has no attribute 'text'\n"
     ]
    },
    {
     "name": "stderr",
     "output_type": "stream",
     "text": [
      "C:\\Users\\Justin\\AppData\\Local\\Temp\\ipykernel_22308\\573511129.py:89: FutureWarning: The frame.append method is deprecated and will be removed from pandas in a future version. Use pandas.concat instead.\n",
      "  results = results.append({\n",
      " 85%|████████▍ | 1721/2029 [1:46:57<12:50,  2.50s/it]C:\\Users\\Justin\\AppData\\Local\\Temp\\ipykernel_22308\\573511129.py:89: FutureWarning: The frame.append method is deprecated and will be removed from pandas in a future version. Use pandas.concat instead.\n",
      "  results = results.append({\n",
      " 85%|████████▍ | 1722/2029 [1:47:02<16:36,  3.25s/it]C:\\Users\\Justin\\AppData\\Local\\Temp\\ipykernel_22308\\573511129.py:89: FutureWarning: The frame.append method is deprecated and will be removed from pandas in a future version. Use pandas.concat instead.\n",
      "  results = results.append({\n",
      " 85%|████████▍ | 1724/2029 [1:47:06<13:35,  2.68s/it]"
     ]
    },
    {
     "name": "stdout",
     "output_type": "stream",
     "text": [
      "Error occurred: 'NoneType' object has no attribute 'text'\n"
     ]
    },
    {
     "name": "stderr",
     "output_type": "stream",
     "text": [
      " 85%|████████▌ | 1725/2029 [1:47:10<15:53,  3.14s/it]"
     ]
    },
    {
     "name": "stdout",
     "output_type": "stream",
     "text": [
      "Error occurred: 'NoneType' object has no attribute 'text'\n"
     ]
    },
    {
     "name": "stderr",
     "output_type": "stream",
     "text": [
      "C:\\Users\\Justin\\AppData\\Local\\Temp\\ipykernel_22308\\573511129.py:89: FutureWarning: The frame.append method is deprecated and will be removed from pandas in a future version. Use pandas.concat instead.\n",
      "  results = results.append({\n",
      " 85%|████████▌ | 1726/2029 [1:47:20<26:11,  5.19s/it]C:\\Users\\Justin\\AppData\\Local\\Temp\\ipykernel_22308\\573511129.py:89: FutureWarning: The frame.append method is deprecated and will be removed from pandas in a future version. Use pandas.concat instead.\n",
      "  results = results.append({\n",
      " 85%|████████▌ | 1727/2029 [1:47:22<20:47,  4.13s/it]C:\\Users\\Justin\\AppData\\Local\\Temp\\ipykernel_22308\\573511129.py:89: FutureWarning: The frame.append method is deprecated and will be removed from pandas in a future version. Use pandas.concat instead.\n",
      "  results = results.append({\n",
      " 85%|████████▌ | 1728/2029 [1:47:25<18:53,  3.77s/it]C:\\Users\\Justin\\AppData\\Local\\Temp\\ipykernel_22308\\573511129.py:89: FutureWarning: The frame.append method is deprecated and will be removed from pandas in a future version. Use pandas.concat instead.\n",
      "  results = results.append({\n",
      " 85%|████████▌ | 1730/2029 [1:47:33<18:42,  3.75s/it]"
     ]
    },
    {
     "name": "stdout",
     "output_type": "stream",
     "text": [
      "Error occurred: 'NoneType' object has no attribute 'text'\n"
     ]
    },
    {
     "name": "stderr",
     "output_type": "stream",
     "text": [
      "C:\\Users\\Justin\\AppData\\Local\\Temp\\ipykernel_22308\\573511129.py:89: FutureWarning: The frame.append method is deprecated and will be removed from pandas in a future version. Use pandas.concat instead.\n",
      "  results = results.append({\n",
      " 85%|████████▌ | 1731/2029 [1:47:34<14:26,  2.91s/it]C:\\Users\\Justin\\AppData\\Local\\Temp\\ipykernel_22308\\573511129.py:89: FutureWarning: The frame.append method is deprecated and will be removed from pandas in a future version. Use pandas.concat instead.\n",
      "  results = results.append({\n",
      " 85%|████████▌ | 1732/2029 [1:47:43<22:26,  4.53s/it]C:\\Users\\Justin\\AppData\\Local\\Temp\\ipykernel_22308\\573511129.py:89: FutureWarning: The frame.append method is deprecated and will be removed from pandas in a future version. Use pandas.concat instead.\n",
      "  results = results.append({\n",
      " 85%|████████▌ | 1733/2029 [1:47:45<18:57,  3.84s/it]C:\\Users\\Justin\\AppData\\Local\\Temp\\ipykernel_22308\\573511129.py:89: FutureWarning: The frame.append method is deprecated and will be removed from pandas in a future version. Use pandas.concat instead.\n",
      "  results = results.append({\n",
      " 85%|████████▌ | 1734/2029 [1:47:51<21:56,  4.46s/it]C:\\Users\\Justin\\AppData\\Local\\Temp\\ipykernel_22308\\573511129.py:89: FutureWarning: The frame.append method is deprecated and will be removed from pandas in a future version. Use pandas.concat instead.\n",
      "  results = results.append({\n",
      " 86%|████████▌ | 1735/2029 [1:47:52<17:18,  3.53s/it]C:\\Users\\Justin\\AppData\\Local\\Temp\\ipykernel_22308\\573511129.py:89: FutureWarning: The frame.append method is deprecated and will be removed from pandas in a future version. Use pandas.concat instead.\n",
      "  results = results.append({\n",
      " 86%|████████▌ | 1736/2029 [1:47:53<13:40,  2.80s/it]C:\\Users\\Justin\\AppData\\Local\\Temp\\ipykernel_22308\\573511129.py:89: FutureWarning: The frame.append method is deprecated and will be removed from pandas in a future version. Use pandas.concat instead.\n",
      "  results = results.append({\n",
      " 86%|████████▌ | 1737/2029 [1:48:03<23:13,  4.77s/it]C:\\Users\\Justin\\AppData\\Local\\Temp\\ipykernel_22308\\573511129.py:89: FutureWarning: The frame.append method is deprecated and will be removed from pandas in a future version. Use pandas.concat instead.\n",
      "  results = results.append({\n",
      " 86%|████████▌ | 1739/2029 [1:48:12<23:38,  4.89s/it]"
     ]
    },
    {
     "name": "stdout",
     "output_type": "stream",
     "text": [
      "Error occurred: 'NoneType' object has no attribute 'text'\n"
     ]
    },
    {
     "name": "stderr",
     "output_type": "stream",
     "text": [
      "C:\\Users\\Justin\\AppData\\Local\\Temp\\ipykernel_22308\\573511129.py:89: FutureWarning: The frame.append method is deprecated and will be removed from pandas in a future version. Use pandas.concat instead.\n",
      "  results = results.append({\n",
      " 86%|████████▌ | 1740/2029 [1:48:15<20:25,  4.24s/it]C:\\Users\\Justin\\AppData\\Local\\Temp\\ipykernel_22308\\573511129.py:89: FutureWarning: The frame.append method is deprecated and will be removed from pandas in a future version. Use pandas.concat instead.\n",
      "  results = results.append({\n",
      " 86%|████████▌ | 1741/2029 [1:48:16<15:32,  3.24s/it]C:\\Users\\Justin\\AppData\\Local\\Temp\\ipykernel_22308\\573511129.py:89: FutureWarning: The frame.append method is deprecated and will be removed from pandas in a future version. Use pandas.concat instead.\n",
      "  results = results.append({\n",
      " 86%|████████▌ | 1743/2029 [1:48:22<14:32,  3.05s/it]"
     ]
    },
    {
     "name": "stdout",
     "output_type": "stream",
     "text": [
      "Error occurred: 'NoneType' object has no attribute 'text'\n"
     ]
    },
    {
     "name": "stderr",
     "output_type": "stream",
     "text": [
      "C:\\Users\\Justin\\AppData\\Local\\Temp\\ipykernel_22308\\573511129.py:89: FutureWarning: The frame.append method is deprecated and will be removed from pandas in a future version. Use pandas.concat instead.\n",
      "  results = results.append({\n",
      " 86%|████████▌ | 1745/2029 [1:48:26<12:06,  2.56s/it]"
     ]
    },
    {
     "name": "stdout",
     "output_type": "stream",
     "text": [
      "Error occurred: 'NoneType' object has no attribute 'text'\n"
     ]
    },
    {
     "name": "stderr",
     "output_type": "stream",
     "text": [
      "C:\\Users\\Justin\\AppData\\Local\\Temp\\ipykernel_22308\\573511129.py:89: FutureWarning: The frame.append method is deprecated and will be removed from pandas in a future version. Use pandas.concat instead.\n",
      "  results = results.append({\n",
      " 86%|████████▌ | 1746/2029 [1:48:31<15:40,  3.32s/it]C:\\Users\\Justin\\AppData\\Local\\Temp\\ipykernel_22308\\573511129.py:89: FutureWarning: The frame.append method is deprecated and will be removed from pandas in a future version. Use pandas.concat instead.\n",
      "  results = results.append({\n",
      " 86%|████████▌ | 1747/2029 [1:48:37<18:58,  4.04s/it]C:\\Users\\Justin\\AppData\\Local\\Temp\\ipykernel_22308\\573511129.py:89: FutureWarning: The frame.append method is deprecated and will be removed from pandas in a future version. Use pandas.concat instead.\n",
      "  results = results.append({\n",
      " 86%|████████▌ | 1748/2029 [1:48:42<20:14,  4.32s/it]C:\\Users\\Justin\\AppData\\Local\\Temp\\ipykernel_22308\\573511129.py:89: FutureWarning: The frame.append method is deprecated and will be removed from pandas in a future version. Use pandas.concat instead.\n",
      "  results = results.append({\n",
      " 86%|████████▌ | 1749/2029 [1:48:44<16:46,  3.59s/it]C:\\Users\\Justin\\AppData\\Local\\Temp\\ipykernel_22308\\573511129.py:89: FutureWarning: The frame.append method is deprecated and will be removed from pandas in a future version. Use pandas.concat instead.\n",
      "  results = results.append({\n",
      " 86%|████████▌ | 1750/2029 [1:48:51<21:22,  4.60s/it]"
     ]
    },
    {
     "name": "stdout",
     "output_type": "stream",
     "text": [
      "Error occurred: Cannot save file into a non-existent directory: 'TEMP\\NCAA_Partial'\n"
     ]
    },
    {
     "name": "stderr",
     "output_type": "stream",
     "text": [
      "C:\\Users\\Justin\\AppData\\Local\\Temp\\ipykernel_22308\\573511129.py:89: FutureWarning: The frame.append method is deprecated and will be removed from pandas in a future version. Use pandas.concat instead.\n",
      "  results = results.append({\n",
      " 86%|████████▋ | 1751/2029 [1:48:56<22:57,  4.95s/it]C:\\Users\\Justin\\AppData\\Local\\Temp\\ipykernel_22308\\573511129.py:89: FutureWarning: The frame.append method is deprecated and will be removed from pandas in a future version. Use pandas.concat instead.\n",
      "  results = results.append({\n",
      " 86%|████████▋ | 1752/2029 [1:49:01<21:49,  4.73s/it]C:\\Users\\Justin\\AppData\\Local\\Temp\\ipykernel_22308\\573511129.py:89: FutureWarning: The frame.append method is deprecated and will be removed from pandas in a future version. Use pandas.concat instead.\n",
      "  results = results.append({\n",
      " 86%|████████▋ | 1754/2029 [1:49:04<14:57,  3.26s/it]"
     ]
    },
    {
     "name": "stdout",
     "output_type": "stream",
     "text": [
      "Error occurred: 'NoneType' object has no attribute 'text'\n"
     ]
    },
    {
     "name": "stderr",
     "output_type": "stream",
     "text": [
      "C:\\Users\\Justin\\AppData\\Local\\Temp\\ipykernel_22308\\573511129.py:89: FutureWarning: The frame.append method is deprecated and will be removed from pandas in a future version. Use pandas.concat instead.\n",
      "  results = results.append({\n",
      " 86%|████████▋ | 1755/2029 [1:49:07<13:46,  3.02s/it]C:\\Users\\Justin\\AppData\\Local\\Temp\\ipykernel_22308\\573511129.py:89: FutureWarning: The frame.append method is deprecated and will be removed from pandas in a future version. Use pandas.concat instead.\n",
      "  results = results.append({\n",
      " 87%|████████▋ | 1756/2029 [1:49:11<15:24,  3.39s/it]C:\\Users\\Justin\\AppData\\Local\\Temp\\ipykernel_22308\\573511129.py:89: FutureWarning: The frame.append method is deprecated and will be removed from pandas in a future version. Use pandas.concat instead.\n",
      "  results = results.append({\n",
      " 87%|████████▋ | 1758/2029 [1:49:14<11:19,  2.51s/it]"
     ]
    },
    {
     "name": "stdout",
     "output_type": "stream",
     "text": [
      "Error occurred: 'NoneType' object has no attribute 'text'\n"
     ]
    },
    {
     "name": "stderr",
     "output_type": "stream",
     "text": [
      "C:\\Users\\Justin\\AppData\\Local\\Temp\\ipykernel_22308\\573511129.py:89: FutureWarning: The frame.append method is deprecated and will be removed from pandas in a future version. Use pandas.concat instead.\n",
      "  results = results.append({\n",
      " 87%|████████▋ | 1759/2029 [1:49:15<09:29,  2.11s/it]C:\\Users\\Justin\\AppData\\Local\\Temp\\ipykernel_22308\\573511129.py:89: FutureWarning: The frame.append method is deprecated and will be removed from pandas in a future version. Use pandas.concat instead.\n",
      "  results = results.append({\n",
      " 87%|████████▋ | 1760/2029 [1:49:17<08:37,  1.92s/it]C:\\Users\\Justin\\AppData\\Local\\Temp\\ipykernel_22308\\573511129.py:89: FutureWarning: The frame.append method is deprecated and will be removed from pandas in a future version. Use pandas.concat instead.\n",
      "  results = results.append({\n",
      " 87%|████████▋ | 1761/2029 [1:49:22<13:14,  2.96s/it]C:\\Users\\Justin\\AppData\\Local\\Temp\\ipykernel_22308\\573511129.py:89: FutureWarning: The frame.append method is deprecated and will be removed from pandas in a future version. Use pandas.concat instead.\n",
      "  results = results.append({\n",
      " 87%|████████▋ | 1762/2029 [1:49:23<10:46,  2.42s/it]C:\\Users\\Justin\\AppData\\Local\\Temp\\ipykernel_22308\\573511129.py:89: FutureWarning: The frame.append method is deprecated and will be removed from pandas in a future version. Use pandas.concat instead.\n",
      "  results = results.append({\n",
      " 87%|████████▋ | 1763/2029 [1:49:24<08:45,  1.98s/it]C:\\Users\\Justin\\AppData\\Local\\Temp\\ipykernel_22308\\573511129.py:89: FutureWarning: The frame.append method is deprecated and will be removed from pandas in a future version. Use pandas.concat instead.\n",
      "  results = results.append({\n",
      " 87%|████████▋ | 1764/2029 [1:49:26<08:08,  1.84s/it]C:\\Users\\Justin\\AppData\\Local\\Temp\\ipykernel_22308\\573511129.py:89: FutureWarning: The frame.append method is deprecated and will be removed from pandas in a future version. Use pandas.concat instead.\n",
      "  results = results.append({\n",
      " 87%|████████▋ | 1765/2029 [1:49:32<14:01,  3.19s/it]C:\\Users\\Justin\\AppData\\Local\\Temp\\ipykernel_22308\\573511129.py:89: FutureWarning: The frame.append method is deprecated and will be removed from pandas in a future version. Use pandas.concat instead.\n",
      "  results = results.append({\n",
      " 87%|████████▋ | 1767/2029 [1:49:55<28:12,  6.46s/it]"
     ]
    },
    {
     "name": "stdout",
     "output_type": "stream",
     "text": [
      "Error occurred: 'NoneType' object has no attribute 'text'\n"
     ]
    },
    {
     "name": "stderr",
     "output_type": "stream",
     "text": [
      "C:\\Users\\Justin\\AppData\\Local\\Temp\\ipykernel_22308\\573511129.py:89: FutureWarning: The frame.append method is deprecated and will be removed from pandas in a future version. Use pandas.concat instead.\n",
      "  results = results.append({\n",
      " 87%|████████▋ | 1768/2029 [1:49:57<22:07,  5.08s/it]C:\\Users\\Justin\\AppData\\Local\\Temp\\ipykernel_22308\\573511129.py:89: FutureWarning: The frame.append method is deprecated and will be removed from pandas in a future version. Use pandas.concat instead.\n",
      "  results = results.append({\n",
      " 87%|████████▋ | 1769/2029 [1:50:01<21:05,  4.87s/it]C:\\Users\\Justin\\AppData\\Local\\Temp\\ipykernel_22308\\573511129.py:89: FutureWarning: The frame.append method is deprecated and will be removed from pandas in a future version. Use pandas.concat instead.\n",
      "  results = results.append({\n",
      " 87%|████████▋ | 1770/2029 [1:50:03<16:48,  3.89s/it]C:\\Users\\Justin\\AppData\\Local\\Temp\\ipykernel_22308\\573511129.py:89: FutureWarning: The frame.append method is deprecated and will be removed from pandas in a future version. Use pandas.concat instead.\n",
      "  results = results.append({\n",
      " 87%|████████▋ | 1771/2029 [1:50:04<12:59,  3.02s/it]C:\\Users\\Justin\\AppData\\Local\\Temp\\ipykernel_22308\\573511129.py:89: FutureWarning: The frame.append method is deprecated and will be removed from pandas in a future version. Use pandas.concat instead.\n",
      "  results = results.append({\n",
      " 87%|████████▋ | 1772/2029 [1:50:05<11:28,  2.68s/it]C:\\Users\\Justin\\AppData\\Local\\Temp\\ipykernel_22308\\573511129.py:89: FutureWarning: The frame.append method is deprecated and will be removed from pandas in a future version. Use pandas.concat instead.\n",
      "  results = results.append({\n",
      " 87%|████████▋ | 1773/2029 [1:50:07<09:41,  2.27s/it]C:\\Users\\Justin\\AppData\\Local\\Temp\\ipykernel_22308\\573511129.py:89: FutureWarning: The frame.append method is deprecated and will be removed from pandas in a future version. Use pandas.concat instead.\n",
      "  results = results.append({\n",
      " 87%|████████▋ | 1774/2029 [1:50:12<13:14,  3.12s/it]C:\\Users\\Justin\\AppData\\Local\\Temp\\ipykernel_22308\\573511129.py:89: FutureWarning: The frame.append method is deprecated and will be removed from pandas in a future version. Use pandas.concat instead.\n",
      "  results = results.append({\n",
      " 87%|████████▋ | 1775/2029 [1:50:13<10:12,  2.41s/it]C:\\Users\\Justin\\AppData\\Local\\Temp\\ipykernel_22308\\573511129.py:89: FutureWarning: The frame.append method is deprecated and will be removed from pandas in a future version. Use pandas.concat instead.\n",
      "  results = results.append({\n",
      " 88%|████████▊ | 1776/2029 [1:50:14<09:26,  2.24s/it]C:\\Users\\Justin\\AppData\\Local\\Temp\\ipykernel_22308\\573511129.py:89: FutureWarning: The frame.append method is deprecated and will be removed from pandas in a future version. Use pandas.concat instead.\n",
      "  results = results.append({\n",
      " 88%|████████▊ | 1777/2029 [1:50:32<28:59,  6.90s/it]C:\\Users\\Justin\\AppData\\Local\\Temp\\ipykernel_22308\\573511129.py:89: FutureWarning: The frame.append method is deprecated and will be removed from pandas in a future version. Use pandas.concat instead.\n",
      "  results = results.append({\n",
      " 88%|████████▊ | 1778/2029 [1:50:41<31:17,  7.48s/it]C:\\Users\\Justin\\AppData\\Local\\Temp\\ipykernel_22308\\573511129.py:89: FutureWarning: The frame.append method is deprecated and will be removed from pandas in a future version. Use pandas.concat instead.\n",
      "  results = results.append({\n",
      " 88%|████████▊ | 1779/2029 [1:50:46<27:56,  6.71s/it]C:\\Users\\Justin\\AppData\\Local\\Temp\\ipykernel_22308\\573511129.py:89: FutureWarning: The frame.append method is deprecated and will be removed from pandas in a future version. Use pandas.concat instead.\n",
      "  results = results.append({\n",
      " 88%|████████▊ | 1780/2029 [1:50:52<26:50,  6.47s/it]C:\\Users\\Justin\\AppData\\Local\\Temp\\ipykernel_22308\\573511129.py:89: FutureWarning: The frame.append method is deprecated and will be removed from pandas in a future version. Use pandas.concat instead.\n",
      "  results = results.append({\n",
      " 88%|████████▊ | 1781/2029 [1:50:54<21:26,  5.19s/it]C:\\Users\\Justin\\AppData\\Local\\Temp\\ipykernel_22308\\573511129.py:89: FutureWarning: The frame.append method is deprecated and will be removed from pandas in a future version. Use pandas.concat instead.\n",
      "  results = results.append({\n",
      " 88%|████████▊ | 1782/2029 [1:50:57<18:01,  4.38s/it]C:\\Users\\Justin\\AppData\\Local\\Temp\\ipykernel_22308\\573511129.py:89: FutureWarning: The frame.append method is deprecated and will be removed from pandas in a future version. Use pandas.concat instead.\n",
      "  results = results.append({\n",
      " 88%|████████▊ | 1783/2029 [1:51:01<18:30,  4.51s/it]C:\\Users\\Justin\\AppData\\Local\\Temp\\ipykernel_22308\\573511129.py:89: FutureWarning: The frame.append method is deprecated and will be removed from pandas in a future version. Use pandas.concat instead.\n",
      "  results = results.append({\n",
      " 88%|████████▊ | 1785/2029 [1:51:05<13:13,  3.25s/it]"
     ]
    },
    {
     "name": "stdout",
     "output_type": "stream",
     "text": [
      "Error occurred: 'NoneType' object has no attribute 'text'\n"
     ]
    },
    {
     "name": "stderr",
     "output_type": "stream",
     "text": [
      "C:\\Users\\Justin\\AppData\\Local\\Temp\\ipykernel_22308\\573511129.py:89: FutureWarning: The frame.append method is deprecated and will be removed from pandas in a future version. Use pandas.concat instead.\n",
      "  results = results.append({\n",
      " 88%|████████▊ | 1786/2029 [1:51:07<11:46,  2.91s/it]C:\\Users\\Justin\\AppData\\Local\\Temp\\ipykernel_22308\\573511129.py:89: FutureWarning: The frame.append method is deprecated and will be removed from pandas in a future version. Use pandas.concat instead.\n",
      "  results = results.append({\n",
      " 88%|████████▊ | 1787/2029 [1:51:11<12:45,  3.16s/it]C:\\Users\\Justin\\AppData\\Local\\Temp\\ipykernel_22308\\573511129.py:89: FutureWarning: The frame.append method is deprecated and will be removed from pandas in a future version. Use pandas.concat instead.\n",
      "  results = results.append({\n",
      " 88%|████████▊ | 1788/2029 [1:51:12<10:40,  2.66s/it]C:\\Users\\Justin\\AppData\\Local\\Temp\\ipykernel_22308\\573511129.py:89: FutureWarning: The frame.append method is deprecated and will be removed from pandas in a future version. Use pandas.concat instead.\n",
      "  results = results.append({\n",
      " 88%|████████▊ | 1789/2029 [1:51:17<13:27,  3.36s/it]C:\\Users\\Justin\\AppData\\Local\\Temp\\ipykernel_22308\\573511129.py:89: FutureWarning: The frame.append method is deprecated and will be removed from pandas in a future version. Use pandas.concat instead.\n",
      "  results = results.append({\n",
      " 88%|████████▊ | 1790/2029 [1:51:23<15:26,  3.88s/it]C:\\Users\\Justin\\AppData\\Local\\Temp\\ipykernel_22308\\573511129.py:89: FutureWarning: The frame.append method is deprecated and will be removed from pandas in a future version. Use pandas.concat instead.\n",
      "  results = results.append({\n",
      " 88%|████████▊ | 1791/2029 [1:51:25<13:52,  3.50s/it]C:\\Users\\Justin\\AppData\\Local\\Temp\\ipykernel_22308\\573511129.py:89: FutureWarning: The frame.append method is deprecated and will be removed from pandas in a future version. Use pandas.concat instead.\n",
      "  results = results.append({\n",
      " 88%|████████▊ | 1792/2029 [1:51:27<11:50,  3.00s/it]C:\\Users\\Justin\\AppData\\Local\\Temp\\ipykernel_22308\\573511129.py:89: FutureWarning: The frame.append method is deprecated and will be removed from pandas in a future version. Use pandas.concat instead.\n",
      "  results = results.append({\n",
      " 88%|████████▊ | 1794/2029 [1:51:34<11:42,  2.99s/it]"
     ]
    },
    {
     "name": "stdout",
     "output_type": "stream",
     "text": [
      "Error occurred: 'NoneType' object has no attribute 'text'\n"
     ]
    },
    {
     "name": "stderr",
     "output_type": "stream",
     "text": [
      " 88%|████████▊ | 1795/2029 [1:51:34<08:54,  2.29s/it]"
     ]
    },
    {
     "name": "stdout",
     "output_type": "stream",
     "text": [
      "Error occurred: 'NoneType' object has no attribute 'text'\n"
     ]
    },
    {
     "name": "stderr",
     "output_type": "stream",
     "text": [
      " 89%|████████▊ | 1796/2029 [1:51:37<09:56,  2.56s/it]"
     ]
    },
    {
     "name": "stdout",
     "output_type": "stream",
     "text": [
      "Error occurred: 'NoneType' object has no attribute 'text'\n"
     ]
    },
    {
     "name": "stderr",
     "output_type": "stream",
     "text": [
      "C:\\Users\\Justin\\AppData\\Local\\Temp\\ipykernel_22308\\573511129.py:89: FutureWarning: The frame.append method is deprecated and will be removed from pandas in a future version. Use pandas.concat instead.\n",
      "  results = results.append({\n",
      " 89%|████████▊ | 1797/2029 [1:51:43<12:48,  3.31s/it]C:\\Users\\Justin\\AppData\\Local\\Temp\\ipykernel_22308\\573511129.py:89: FutureWarning: The frame.append method is deprecated and will be removed from pandas in a future version. Use pandas.concat instead.\n",
      "  results = results.append({\n",
      " 89%|████████▊ | 1798/2029 [1:51:44<10:05,  2.62s/it]C:\\Users\\Justin\\AppData\\Local\\Temp\\ipykernel_22308\\573511129.py:89: FutureWarning: The frame.append method is deprecated and will be removed from pandas in a future version. Use pandas.concat instead.\n",
      "  results = results.append({\n",
      " 89%|████████▊ | 1799/2029 [1:51:57<22:11,  5.79s/it]C:\\Users\\Justin\\AppData\\Local\\Temp\\ipykernel_22308\\573511129.py:89: FutureWarning: The frame.append method is deprecated and will be removed from pandas in a future version. Use pandas.concat instead.\n",
      "  results = results.append({\n",
      " 89%|████████▊ | 1800/2029 [1:52:01<20:39,  5.41s/it]"
     ]
    },
    {
     "name": "stdout",
     "output_type": "stream",
     "text": [
      "Error occurred: Cannot save file into a non-existent directory: 'TEMP\\NCAA_Partial'\n"
     ]
    },
    {
     "name": "stderr",
     "output_type": "stream",
     "text": [
      "C:\\Users\\Justin\\AppData\\Local\\Temp\\ipykernel_22308\\573511129.py:89: FutureWarning: The frame.append method is deprecated and will be removed from pandas in a future version. Use pandas.concat instead.\n",
      "  results = results.append({\n",
      " 89%|████████▉ | 1801/2029 [1:52:03<16:34,  4.36s/it]C:\\Users\\Justin\\AppData\\Local\\Temp\\ipykernel_22308\\573511129.py:89: FutureWarning: The frame.append method is deprecated and will be removed from pandas in a future version. Use pandas.concat instead.\n",
      "  results = results.append({\n",
      " 89%|████████▉ | 1802/2029 [1:52:04<13:02,  3.45s/it]C:\\Users\\Justin\\AppData\\Local\\Temp\\ipykernel_22308\\573511129.py:89: FutureWarning: The frame.append method is deprecated and will be removed from pandas in a future version. Use pandas.concat instead.\n",
      "  results = results.append({\n",
      " 89%|████████▉ | 1803/2029 [1:52:06<10:47,  2.87s/it]C:\\Users\\Justin\\AppData\\Local\\Temp\\ipykernel_22308\\573511129.py:89: FutureWarning: The frame.append method is deprecated and will be removed from pandas in a future version. Use pandas.concat instead.\n",
      "  results = results.append({\n",
      " 89%|████████▉ | 1804/2029 [1:52:07<09:00,  2.40s/it]C:\\Users\\Justin\\AppData\\Local\\Temp\\ipykernel_22308\\573511129.py:89: FutureWarning: The frame.append method is deprecated and will be removed from pandas in a future version. Use pandas.concat instead.\n",
      "  results = results.append({\n",
      " 89%|████████▉ | 1805/2029 [1:52:13<12:07,  3.25s/it]C:\\Users\\Justin\\AppData\\Local\\Temp\\ipykernel_22308\\573511129.py:89: FutureWarning: The frame.append method is deprecated and will be removed from pandas in a future version. Use pandas.concat instead.\n",
      "  results = results.append({\n",
      " 89%|████████▉ | 1806/2029 [1:52:22<19:13,  5.17s/it]C:\\Users\\Justin\\AppData\\Local\\Temp\\ipykernel_22308\\573511129.py:89: FutureWarning: The frame.append method is deprecated and will be removed from pandas in a future version. Use pandas.concat instead.\n",
      "  results = results.append({\n",
      " 89%|████████▉ | 1808/2029 [1:52:26<12:54,  3.51s/it]"
     ]
    },
    {
     "name": "stdout",
     "output_type": "stream",
     "text": [
      "Error occurred: 'NoneType' object has no attribute 'text'\n"
     ]
    },
    {
     "name": "stderr",
     "output_type": "stream",
     "text": [
      "C:\\Users\\Justin\\AppData\\Local\\Temp\\ipykernel_22308\\573511129.py:89: FutureWarning: The frame.append method is deprecated and will be removed from pandas in a future version. Use pandas.concat instead.\n",
      "  results = results.append({\n",
      " 89%|████████▉ | 1809/2029 [1:52:28<10:57,  2.99s/it]C:\\Users\\Justin\\AppData\\Local\\Temp\\ipykernel_22308\\573511129.py:89: FutureWarning: The frame.append method is deprecated and will be removed from pandas in a future version. Use pandas.concat instead.\n",
      "  results = results.append({\n",
      " 89%|████████▉ | 1810/2029 [1:52:32<12:45,  3.49s/it]C:\\Users\\Justin\\AppData\\Local\\Temp\\ipykernel_22308\\573511129.py:89: FutureWarning: The frame.append method is deprecated and will be removed from pandas in a future version. Use pandas.concat instead.\n",
      "  results = results.append({\n",
      " 89%|████████▉ | 1812/2029 [1:52:35<08:51,  2.45s/it]"
     ]
    },
    {
     "name": "stdout",
     "output_type": "stream",
     "text": [
      "Error occurred: 'NoneType' object has no attribute 'text'\n"
     ]
    },
    {
     "name": "stderr",
     "output_type": "stream",
     "text": [
      " 89%|████████▉ | 1813/2029 [1:52:36<07:02,  1.96s/it]"
     ]
    },
    {
     "name": "stdout",
     "output_type": "stream",
     "text": [
      "Error occurred: 'NoneType' object has no attribute 'text'\n"
     ]
    },
    {
     "name": "stderr",
     "output_type": "stream",
     "text": [
      "C:\\Users\\Justin\\AppData\\Local\\Temp\\ipykernel_22308\\573511129.py:89: FutureWarning: The frame.append method is deprecated and will be removed from pandas in a future version. Use pandas.concat instead.\n",
      "  results = results.append({\n",
      " 89%|████████▉ | 1814/2029 [1:52:37<06:08,  1.71s/it]C:\\Users\\Justin\\AppData\\Local\\Temp\\ipykernel_22308\\573511129.py:89: FutureWarning: The frame.append method is deprecated and will be removed from pandas in a future version. Use pandas.concat instead.\n",
      "  results = results.append({\n",
      " 90%|████████▉ | 1816/2029 [1:52:51<14:51,  4.19s/it]"
     ]
    },
    {
     "name": "stdout",
     "output_type": "stream",
     "text": [
      "Error occurred: 'NoneType' object has no attribute 'text'\n"
     ]
    },
    {
     "name": "stderr",
     "output_type": "stream",
     "text": [
      " 90%|████████▉ | 1817/2029 [1:52:53<11:47,  3.34s/it]"
     ]
    },
    {
     "name": "stdout",
     "output_type": "stream",
     "text": [
      "Error occurred: 'NoneType' object has no attribute 'text'\n"
     ]
    },
    {
     "name": "stderr",
     "output_type": "stream",
     "text": [
      "C:\\Users\\Justin\\AppData\\Local\\Temp\\ipykernel_22308\\573511129.py:89: FutureWarning: The frame.append method is deprecated and will be removed from pandas in a future version. Use pandas.concat instead.\n",
      "  results = results.append({\n",
      " 90%|████████▉ | 1818/2029 [1:52:54<09:34,  2.72s/it]C:\\Users\\Justin\\AppData\\Local\\Temp\\ipykernel_22308\\573511129.py:89: FutureWarning: The frame.append method is deprecated and will be removed from pandas in a future version. Use pandas.concat instead.\n",
      "  results = results.append({\n",
      " 90%|████████▉ | 1819/2029 [1:53:01<14:34,  4.17s/it]C:\\Users\\Justin\\AppData\\Local\\Temp\\ipykernel_22308\\573511129.py:89: FutureWarning: The frame.append method is deprecated and will be removed from pandas in a future version. Use pandas.concat instead.\n",
      "  results = results.append({\n",
      " 90%|████████▉ | 1820/2029 [1:53:07<16:04,  4.61s/it]C:\\Users\\Justin\\AppData\\Local\\Temp\\ipykernel_22308\\573511129.py:89: FutureWarning: The frame.append method is deprecated and will be removed from pandas in a future version. Use pandas.concat instead.\n",
      "  results = results.append({\n",
      " 90%|████████▉ | 1821/2029 [1:53:11<15:35,  4.50s/it]C:\\Users\\Justin\\AppData\\Local\\Temp\\ipykernel_22308\\573511129.py:89: FutureWarning: The frame.append method is deprecated and will be removed from pandas in a future version. Use pandas.concat instead.\n",
      "  results = results.append({\n",
      " 90%|████████▉ | 1822/2029 [1:53:13<12:31,  3.63s/it]C:\\Users\\Justin\\AppData\\Local\\Temp\\ipykernel_22308\\573511129.py:89: FutureWarning: The frame.append method is deprecated and will be removed from pandas in a future version. Use pandas.concat instead.\n",
      "  results = results.append({\n",
      " 90%|████████▉ | 1823/2029 [1:53:15<10:51,  3.16s/it]C:\\Users\\Justin\\AppData\\Local\\Temp\\ipykernel_22308\\573511129.py:89: FutureWarning: The frame.append method is deprecated and will be removed from pandas in a future version. Use pandas.concat instead.\n",
      "  results = results.append({\n",
      " 90%|████████▉ | 1824/2029 [1:53:16<08:47,  2.57s/it]C:\\Users\\Justin\\AppData\\Local\\Temp\\ipykernel_22308\\573511129.py:89: FutureWarning: The frame.append method is deprecated and will be removed from pandas in a future version. Use pandas.concat instead.\n",
      "  results = results.append({\n",
      " 90%|████████▉ | 1825/2029 [1:53:18<08:00,  2.35s/it]C:\\Users\\Justin\\AppData\\Local\\Temp\\ipykernel_22308\\573511129.py:89: FutureWarning: The frame.append method is deprecated and will be removed from pandas in a future version. Use pandas.concat instead.\n",
      "  results = results.append({\n",
      " 90%|████████▉ | 1826/2029 [1:53:22<10:05,  2.98s/it]C:\\Users\\Justin\\AppData\\Local\\Temp\\ipykernel_22308\\573511129.py:89: FutureWarning: The frame.append method is deprecated and will be removed from pandas in a future version. Use pandas.concat instead.\n",
      "  results = results.append({\n",
      " 90%|█████████ | 1827/2029 [1:53:24<08:55,  2.65s/it]C:\\Users\\Justin\\AppData\\Local\\Temp\\ipykernel_22308\\573511129.py:89: FutureWarning: The frame.append method is deprecated and will be removed from pandas in a future version. Use pandas.concat instead.\n",
      "  results = results.append({\n",
      " 90%|█████████ | 1828/2029 [1:53:25<07:22,  2.20s/it]C:\\Users\\Justin\\AppData\\Local\\Temp\\ipykernel_22308\\573511129.py:89: FutureWarning: The frame.append method is deprecated and will be removed from pandas in a future version. Use pandas.concat instead.\n",
      "  results = results.append({\n",
      " 90%|█████████ | 1829/2029 [1:53:33<12:36,  3.78s/it]C:\\Users\\Justin\\AppData\\Local\\Temp\\ipykernel_22308\\573511129.py:89: FutureWarning: The frame.append method is deprecated and will be removed from pandas in a future version. Use pandas.concat instead.\n",
      "  results = results.append({\n",
      " 90%|█████████ | 1831/2029 [1:53:37<09:25,  2.86s/it]"
     ]
    },
    {
     "name": "stdout",
     "output_type": "stream",
     "text": [
      "Error occurred: 'NoneType' object has no attribute 'text'\n"
     ]
    },
    {
     "name": "stderr",
     "output_type": "stream",
     "text": [
      "C:\\Users\\Justin\\AppData\\Local\\Temp\\ipykernel_22308\\573511129.py:89: FutureWarning: The frame.append method is deprecated and will be removed from pandas in a future version. Use pandas.concat instead.\n",
      "  results = results.append({\n",
      " 90%|█████████ | 1833/2029 [1:53:44<10:08,  3.11s/it]"
     ]
    },
    {
     "name": "stdout",
     "output_type": "stream",
     "text": [
      "Error occurred: 'NoneType' object has no attribute 'text'\n"
     ]
    },
    {
     "name": "stderr",
     "output_type": "stream",
     "text": [
      " 90%|█████████ | 1834/2029 [1:53:47<09:58,  3.07s/it]"
     ]
    },
    {
     "name": "stdout",
     "output_type": "stream",
     "text": [
      "Error occurred: 'NoneType' object has no attribute 'text'\n"
     ]
    },
    {
     "name": "stderr",
     "output_type": "stream",
     "text": [
      "C:\\Users\\Justin\\AppData\\Local\\Temp\\ipykernel_22308\\573511129.py:89: FutureWarning: The frame.append method is deprecated and will be removed from pandas in a future version. Use pandas.concat instead.\n",
      "  results = results.append({\n",
      " 90%|█████████ | 1835/2029 [1:54:03<21:51,  6.76s/it]C:\\Users\\Justin\\AppData\\Local\\Temp\\ipykernel_22308\\573511129.py:89: FutureWarning: The frame.append method is deprecated and will be removed from pandas in a future version. Use pandas.concat instead.\n",
      "  results = results.append({\n",
      " 90%|█████████ | 1836/2029 [1:54:11<23:37,  7.35s/it]C:\\Users\\Justin\\AppData\\Local\\Temp\\ipykernel_22308\\573511129.py:89: FutureWarning: The frame.append method is deprecated and will be removed from pandas in a future version. Use pandas.concat instead.\n",
      "  results = results.append({\n",
      " 91%|█████████ | 1837/2029 [1:54:14<18:49,  5.88s/it]C:\\Users\\Justin\\AppData\\Local\\Temp\\ipykernel_22308\\573511129.py:89: FutureWarning: The frame.append method is deprecated and will be removed from pandas in a future version. Use pandas.concat instead.\n",
      "  results = results.append({\n",
      " 91%|█████████ | 1838/2029 [1:54:22<20:33,  6.46s/it]C:\\Users\\Justin\\AppData\\Local\\Temp\\ipykernel_22308\\573511129.py:89: FutureWarning: The frame.append method is deprecated and will be removed from pandas in a future version. Use pandas.concat instead.\n",
      "  results = results.append({\n",
      " 91%|█████████ | 1839/2029 [1:54:24<16:24,  5.18s/it]C:\\Users\\Justin\\AppData\\Local\\Temp\\ipykernel_22308\\573511129.py:89: FutureWarning: The frame.append method is deprecated and will be removed from pandas in a future version. Use pandas.concat instead.\n",
      "  results = results.append({\n",
      " 91%|█████████ | 1840/2029 [1:54:33<19:57,  6.33s/it]C:\\Users\\Justin\\AppData\\Local\\Temp\\ipykernel_22308\\573511129.py:89: FutureWarning: The frame.append method is deprecated and will be removed from pandas in a future version. Use pandas.concat instead.\n",
      "  results = results.append({\n",
      " 91%|█████████ | 1841/2029 [1:54:34<14:54,  4.76s/it]C:\\Users\\Justin\\AppData\\Local\\Temp\\ipykernel_22308\\573511129.py:89: FutureWarning: The frame.append method is deprecated and will be removed from pandas in a future version. Use pandas.concat instead.\n",
      "  results = results.append({\n",
      " 91%|█████████ | 1842/2029 [1:54:36<12:04,  3.87s/it]C:\\Users\\Justin\\AppData\\Local\\Temp\\ipykernel_22308\\573511129.py:89: FutureWarning: The frame.append method is deprecated and will be removed from pandas in a future version. Use pandas.concat instead.\n",
      "  results = results.append({\n",
      " 91%|█████████ | 1843/2029 [1:54:37<09:52,  3.19s/it]C:\\Users\\Justin\\AppData\\Local\\Temp\\ipykernel_22308\\573511129.py:89: FutureWarning: The frame.append method is deprecated and will be removed from pandas in a future version. Use pandas.concat instead.\n",
      "  results = results.append({\n",
      " 91%|█████████ | 1844/2029 [1:54:43<12:23,  4.02s/it]C:\\Users\\Justin\\AppData\\Local\\Temp\\ipykernel_22308\\573511129.py:89: FutureWarning: The frame.append method is deprecated and will be removed from pandas in a future version. Use pandas.concat instead.\n",
      "  results = results.append({\n",
      " 91%|█████████ | 1845/2029 [1:54:45<10:21,  3.38s/it]C:\\Users\\Justin\\AppData\\Local\\Temp\\ipykernel_22308\\573511129.py:89: FutureWarning: The frame.append method is deprecated and will be removed from pandas in a future version. Use pandas.concat instead.\n",
      "  results = results.append({\n",
      " 91%|█████████ | 1846/2029 [1:54:46<08:05,  2.65s/it]C:\\Users\\Justin\\AppData\\Local\\Temp\\ipykernel_22308\\573511129.py:89: FutureWarning: The frame.append method is deprecated and will be removed from pandas in a future version. Use pandas.concat instead.\n",
      "  results = results.append({\n",
      " 91%|█████████ | 1847/2029 [1:54:48<07:07,  2.35s/it]C:\\Users\\Justin\\AppData\\Local\\Temp\\ipykernel_22308\\573511129.py:89: FutureWarning: The frame.append method is deprecated and will be removed from pandas in a future version. Use pandas.concat instead.\n",
      "  results = results.append({\n",
      " 91%|█████████ | 1848/2029 [1:54:53<09:59,  3.31s/it]C:\\Users\\Justin\\AppData\\Local\\Temp\\ipykernel_22308\\573511129.py:89: FutureWarning: The frame.append method is deprecated and will be removed from pandas in a future version. Use pandas.concat instead.\n",
      "  results = results.append({\n",
      " 91%|█████████ | 1849/2029 [1:54:55<08:30,  2.83s/it]C:\\Users\\Justin\\AppData\\Local\\Temp\\ipykernel_22308\\573511129.py:89: FutureWarning: The frame.append method is deprecated and will be removed from pandas in a future version. Use pandas.concat instead.\n",
      "  results = results.append({\n",
      " 91%|█████████ | 1850/2029 [1:54:57<07:32,  2.53s/it]"
     ]
    },
    {
     "name": "stdout",
     "output_type": "stream",
     "text": [
      "Error occurred: Cannot save file into a non-existent directory: 'TEMP\\NCAA_Partial'\n"
     ]
    },
    {
     "name": "stderr",
     "output_type": "stream",
     "text": [
      "C:\\Users\\Justin\\AppData\\Local\\Temp\\ipykernel_22308\\573511129.py:89: FutureWarning: The frame.append method is deprecated and will be removed from pandas in a future version. Use pandas.concat instead.\n",
      "  results = results.append({\n",
      " 91%|█████████▏| 1852/2029 [1:55:04<09:15,  3.14s/it]"
     ]
    },
    {
     "name": "stdout",
     "output_type": "stream",
     "text": [
      "Error occurred: 'NoneType' object has no attribute 'text'\n"
     ]
    },
    {
     "name": "stderr",
     "output_type": "stream",
     "text": [
      "C:\\Users\\Justin\\AppData\\Local\\Temp\\ipykernel_22308\\573511129.py:89: FutureWarning: The frame.append method is deprecated and will be removed from pandas in a future version. Use pandas.concat instead.\n",
      "  results = results.append({\n",
      " 91%|█████████▏| 1853/2029 [1:55:05<07:21,  2.51s/it]C:\\Users\\Justin\\AppData\\Local\\Temp\\ipykernel_22308\\573511129.py:89: FutureWarning: The frame.append method is deprecated and will be removed from pandas in a future version. Use pandas.concat instead.\n",
      "  results = results.append({\n",
      " 91%|█████████▏| 1854/2029 [1:55:06<06:30,  2.23s/it]C:\\Users\\Justin\\AppData\\Local\\Temp\\ipykernel_22308\\573511129.py:89: FutureWarning: The frame.append method is deprecated and will be removed from pandas in a future version. Use pandas.concat instead.\n",
      "  results = results.append({\n",
      " 91%|█████████▏| 1855/2029 [1:55:12<09:51,  3.40s/it]C:\\Users\\Justin\\AppData\\Local\\Temp\\ipykernel_22308\\573511129.py:89: FutureWarning: The frame.append method is deprecated and will be removed from pandas in a future version. Use pandas.concat instead.\n",
      "  results = results.append({\n",
      " 91%|█████████▏| 1856/2029 [1:55:14<08:11,  2.84s/it]C:\\Users\\Justin\\AppData\\Local\\Temp\\ipykernel_22308\\573511129.py:89: FutureWarning: The frame.append method is deprecated and will be removed from pandas in a future version. Use pandas.concat instead.\n",
      "  results = results.append({\n",
      " 92%|█████████▏| 1857/2029 [1:55:22<12:18,  4.29s/it]C:\\Users\\Justin\\AppData\\Local\\Temp\\ipykernel_22308\\573511129.py:89: FutureWarning: The frame.append method is deprecated and will be removed from pandas in a future version. Use pandas.concat instead.\n",
      "  results = results.append({\n",
      " 92%|█████████▏| 1858/2029 [1:55:24<10:46,  3.78s/it]C:\\Users\\Justin\\AppData\\Local\\Temp\\ipykernel_22308\\573511129.py:89: FutureWarning: The frame.append method is deprecated and will be removed from pandas in a future version. Use pandas.concat instead.\n",
      "  results = results.append({\n",
      " 92%|█████████▏| 1859/2029 [1:55:34<15:59,  5.65s/it]C:\\Users\\Justin\\AppData\\Local\\Temp\\ipykernel_22308\\573511129.py:89: FutureWarning: The frame.append method is deprecated and will be removed from pandas in a future version. Use pandas.concat instead.\n",
      "  results = results.append({\n",
      " 92%|█████████▏| 1860/2029 [1:55:35<11:56,  4.24s/it]C:\\Users\\Justin\\AppData\\Local\\Temp\\ipykernel_22308\\573511129.py:89: FutureWarning: The frame.append method is deprecated and will be removed from pandas in a future version. Use pandas.concat instead.\n",
      "  results = results.append({\n",
      " 92%|█████████▏| 1861/2029 [1:55:36<09:28,  3.38s/it]C:\\Users\\Justin\\AppData\\Local\\Temp\\ipykernel_22308\\573511129.py:89: FutureWarning: The frame.append method is deprecated and will be removed from pandas in a future version. Use pandas.concat instead.\n",
      "  results = results.append({\n",
      " 92%|█████████▏| 1862/2029 [1:55:38<07:57,  2.86s/it]C:\\Users\\Justin\\AppData\\Local\\Temp\\ipykernel_22308\\573511129.py:89: FutureWarning: The frame.append method is deprecated and will be removed from pandas in a future version. Use pandas.concat instead.\n",
      "  results = results.append({\n",
      " 92%|█████████▏| 1864/2029 [1:55:43<07:05,  2.58s/it]"
     ]
    },
    {
     "name": "stdout",
     "output_type": "stream",
     "text": [
      "Error occurred: 'NoneType' object has no attribute 'text'\n"
     ]
    },
    {
     "name": "stderr",
     "output_type": "stream",
     "text": [
      "C:\\Users\\Justin\\AppData\\Local\\Temp\\ipykernel_22308\\573511129.py:89: FutureWarning: The frame.append method is deprecated and will be removed from pandas in a future version. Use pandas.concat instead.\n",
      "  results = results.append({\n",
      " 92%|█████████▏| 1865/2029 [1:55:44<05:58,  2.19s/it]C:\\Users\\Justin\\AppData\\Local\\Temp\\ipykernel_22308\\573511129.py:89: FutureWarning: The frame.append method is deprecated and will be removed from pandas in a future version. Use pandas.concat instead.\n",
      "  results = results.append({\n",
      " 92%|█████████▏| 1866/2029 [1:55:46<05:30,  2.03s/it]C:\\Users\\Justin\\AppData\\Local\\Temp\\ipykernel_22308\\573511129.py:89: FutureWarning: The frame.append method is deprecated and will be removed from pandas in a future version. Use pandas.concat instead.\n",
      "  results = results.append({\n",
      " 92%|█████████▏| 1867/2029 [1:55:48<05:01,  1.86s/it]C:\\Users\\Justin\\AppData\\Local\\Temp\\ipykernel_22308\\573511129.py:89: FutureWarning: The frame.append method is deprecated and will be removed from pandas in a future version. Use pandas.concat instead.\n",
      "  results = results.append({\n",
      " 92%|█████████▏| 1868/2029 [1:55:52<06:50,  2.55s/it]C:\\Users\\Justin\\AppData\\Local\\Temp\\ipykernel_22308\\573511129.py:89: FutureWarning: The frame.append method is deprecated and will be removed from pandas in a future version. Use pandas.concat instead.\n",
      "  results = results.append({\n",
      " 92%|█████████▏| 1870/2029 [1:55:56<06:07,  2.31s/it]"
     ]
    },
    {
     "name": "stdout",
     "output_type": "stream",
     "text": [
      "Error occurred: 'NoneType' object has no attribute 'text'\n"
     ]
    },
    {
     "name": "stderr",
     "output_type": "stream",
     "text": [
      "C:\\Users\\Justin\\AppData\\Local\\Temp\\ipykernel_22308\\573511129.py:89: FutureWarning: The frame.append method is deprecated and will be removed from pandas in a future version. Use pandas.concat instead.\n",
      "  results = results.append({\n",
      " 92%|█████████▏| 1871/2029 [1:55:58<05:56,  2.25s/it]C:\\Users\\Justin\\AppData\\Local\\Temp\\ipykernel_22308\\573511129.py:89: FutureWarning: The frame.append method is deprecated and will be removed from pandas in a future version. Use pandas.concat instead.\n",
      "  results = results.append({\n",
      " 92%|█████████▏| 1872/2029 [1:56:02<07:06,  2.72s/it]C:\\Users\\Justin\\AppData\\Local\\Temp\\ipykernel_22308\\573511129.py:89: FutureWarning: The frame.append method is deprecated and will be removed from pandas in a future version. Use pandas.concat instead.\n",
      "  results = results.append({\n",
      " 92%|█████████▏| 1873/2029 [1:56:04<06:38,  2.56s/it]C:\\Users\\Justin\\AppData\\Local\\Temp\\ipykernel_22308\\573511129.py:89: FutureWarning: The frame.append method is deprecated and will be removed from pandas in a future version. Use pandas.concat instead.\n",
      "  results = results.append({\n",
      " 92%|█████████▏| 1875/2029 [1:56:06<04:26,  1.73s/it]"
     ]
    },
    {
     "name": "stdout",
     "output_type": "stream",
     "text": [
      "Error occurred: 'NoneType' object has no attribute 'text'\n"
     ]
    },
    {
     "name": "stderr",
     "output_type": "stream",
     "text": [
      "C:\\Users\\Justin\\AppData\\Local\\Temp\\ipykernel_22308\\573511129.py:89: FutureWarning: The frame.append method is deprecated and will be removed from pandas in a future version. Use pandas.concat instead.\n",
      "  results = results.append({\n",
      " 92%|█████████▏| 1876/2029 [1:56:12<08:00,  3.14s/it]C:\\Users\\Justin\\AppData\\Local\\Temp\\ipykernel_22308\\573511129.py:89: FutureWarning: The frame.append method is deprecated and will be removed from pandas in a future version. Use pandas.concat instead.\n",
      "  results = results.append({\n",
      " 93%|█████████▎| 1877/2029 [1:56:14<07:07,  2.81s/it]C:\\Users\\Justin\\AppData\\Local\\Temp\\ipykernel_22308\\573511129.py:89: FutureWarning: The frame.append method is deprecated and will be removed from pandas in a future version. Use pandas.concat instead.\n",
      "  results = results.append({\n",
      " 93%|█████████▎| 1878/2029 [1:56:15<05:36,  2.23s/it]C:\\Users\\Justin\\AppData\\Local\\Temp\\ipykernel_22308\\573511129.py:89: FutureWarning: The frame.append method is deprecated and will be removed from pandas in a future version. Use pandas.concat instead.\n",
      "  results = results.append({\n",
      " 93%|█████████▎| 1879/2029 [1:56:16<04:35,  1.84s/it]C:\\Users\\Justin\\AppData\\Local\\Temp\\ipykernel_22308\\573511129.py:89: FutureWarning: The frame.append method is deprecated and will be removed from pandas in a future version. Use pandas.concat instead.\n",
      "  results = results.append({\n",
      " 93%|█████████▎| 1880/2029 [1:56:17<03:43,  1.50s/it]C:\\Users\\Justin\\AppData\\Local\\Temp\\ipykernel_22308\\573511129.py:89: FutureWarning: The frame.append method is deprecated and will be removed from pandas in a future version. Use pandas.concat instead.\n",
      "  results = results.append({\n",
      " 93%|█████████▎| 1881/2029 [1:56:22<06:19,  2.56s/it]C:\\Users\\Justin\\AppData\\Local\\Temp\\ipykernel_22308\\573511129.py:89: FutureWarning: The frame.append method is deprecated and will be removed from pandas in a future version. Use pandas.concat instead.\n",
      "  results = results.append({\n",
      " 93%|█████████▎| 1882/2029 [1:56:24<06:02,  2.47s/it]C:\\Users\\Justin\\AppData\\Local\\Temp\\ipykernel_22308\\573511129.py:89: FutureWarning: The frame.append method is deprecated and will be removed from pandas in a future version. Use pandas.concat instead.\n",
      "  results = results.append({\n",
      " 93%|█████████▎| 1884/2029 [1:56:26<04:10,  1.73s/it]"
     ]
    },
    {
     "name": "stdout",
     "output_type": "stream",
     "text": [
      "Error occurred: 'NoneType' object has no attribute 'text'\n"
     ]
    },
    {
     "name": "stderr",
     "output_type": "stream",
     "text": [
      " 93%|█████████▎| 1885/2029 [1:56:32<06:46,  2.82s/it]"
     ]
    },
    {
     "name": "stdout",
     "output_type": "stream",
     "text": [
      "Error occurred: 'NoneType' object has no attribute 'text'\n"
     ]
    },
    {
     "name": "stderr",
     "output_type": "stream",
     "text": [
      "C:\\Users\\Justin\\AppData\\Local\\Temp\\ipykernel_22308\\573511129.py:89: FutureWarning: The frame.append method is deprecated and will be removed from pandas in a future version. Use pandas.concat instead.\n",
      "  results = results.append({\n",
      " 93%|█████████▎| 1886/2029 [1:56:33<05:34,  2.34s/it]C:\\Users\\Justin\\AppData\\Local\\Temp\\ipykernel_22308\\573511129.py:89: FutureWarning: The frame.append method is deprecated and will be removed from pandas in a future version. Use pandas.concat instead.\n",
      "  results = results.append({\n",
      " 93%|█████████▎| 1887/2029 [1:56:35<05:11,  2.20s/it]C:\\Users\\Justin\\AppData\\Local\\Temp\\ipykernel_22308\\573511129.py:89: FutureWarning: The frame.append method is deprecated and will be removed from pandas in a future version. Use pandas.concat instead.\n",
      "  results = results.append({\n",
      " 93%|█████████▎| 1888/2029 [1:56:36<04:38,  1.97s/it]C:\\Users\\Justin\\AppData\\Local\\Temp\\ipykernel_22308\\573511129.py:89: FutureWarning: The frame.append method is deprecated and will be removed from pandas in a future version. Use pandas.concat instead.\n",
      "  results = results.append({\n",
      " 93%|█████████▎| 1889/2029 [1:56:38<04:32,  1.95s/it]C:\\Users\\Justin\\AppData\\Local\\Temp\\ipykernel_22308\\573511129.py:89: FutureWarning: The frame.append method is deprecated and will be removed from pandas in a future version. Use pandas.concat instead.\n",
      "  results = results.append({\n",
      " 93%|█████████▎| 1890/2029 [1:56:42<05:55,  2.56s/it]C:\\Users\\Justin\\AppData\\Local\\Temp\\ipykernel_22308\\573511129.py:89: FutureWarning: The frame.append method is deprecated and will be removed from pandas in a future version. Use pandas.concat instead.\n",
      "  results = results.append({\n",
      " 93%|█████████▎| 1891/2029 [1:56:43<04:53,  2.12s/it]C:\\Users\\Justin\\AppData\\Local\\Temp\\ipykernel_22308\\573511129.py:89: FutureWarning: The frame.append method is deprecated and will be removed from pandas in a future version. Use pandas.concat instead.\n",
      "  results = results.append({\n",
      " 93%|█████████▎| 1892/2029 [1:56:45<04:36,  2.02s/it]C:\\Users\\Justin\\AppData\\Local\\Temp\\ipykernel_22308\\573511129.py:89: FutureWarning: The frame.append method is deprecated and will be removed from pandas in a future version. Use pandas.concat instead.\n",
      "  results = results.append({\n",
      " 93%|█████████▎| 1894/2029 [1:56:52<06:14,  2.78s/it]"
     ]
    },
    {
     "name": "stdout",
     "output_type": "stream",
     "text": [
      "Error occurred: 'NoneType' object has no attribute 'text'\n"
     ]
    },
    {
     "name": "stderr",
     "output_type": "stream",
     "text": [
      "C:\\Users\\Justin\\AppData\\Local\\Temp\\ipykernel_22308\\573511129.py:89: FutureWarning: The frame.append method is deprecated and will be removed from pandas in a future version. Use pandas.concat instead.\n",
      "  results = results.append({\n",
      " 93%|█████████▎| 1895/2029 [1:56:54<05:36,  2.51s/it]C:\\Users\\Justin\\AppData\\Local\\Temp\\ipykernel_22308\\573511129.py:89: FutureWarning: The frame.append method is deprecated and will be removed from pandas in a future version. Use pandas.concat instead.\n",
      "  results = results.append({\n",
      " 93%|█████████▎| 1896/2029 [1:56:55<05:03,  2.28s/it]C:\\Users\\Justin\\AppData\\Local\\Temp\\ipykernel_22308\\573511129.py:89: FutureWarning: The frame.append method is deprecated and will be removed from pandas in a future version. Use pandas.concat instead.\n",
      "  results = results.append({\n",
      " 93%|█████████▎| 1897/2029 [1:56:57<04:50,  2.20s/it]C:\\Users\\Justin\\AppData\\Local\\Temp\\ipykernel_22308\\573511129.py:89: FutureWarning: The frame.append method is deprecated and will be removed from pandas in a future version. Use pandas.concat instead.\n",
      "  results = results.append({\n",
      " 94%|█████████▎| 1898/2029 [1:57:02<06:14,  2.86s/it]C:\\Users\\Justin\\AppData\\Local\\Temp\\ipykernel_22308\\573511129.py:89: FutureWarning: The frame.append method is deprecated and will be removed from pandas in a future version. Use pandas.concat instead.\n",
      "  results = results.append({\n",
      " 94%|█████████▎| 1899/2029 [1:57:04<05:36,  2.59s/it]C:\\Users\\Justin\\AppData\\Local\\Temp\\ipykernel_22308\\573511129.py:89: FutureWarning: The frame.append method is deprecated and will be removed from pandas in a future version. Use pandas.concat instead.\n",
      "  results = results.append({\n",
      " 94%|█████████▎| 1900/2029 [1:57:06<05:33,  2.59s/it]"
     ]
    },
    {
     "name": "stdout",
     "output_type": "stream",
     "text": [
      "Error occurred: Cannot save file into a non-existent directory: 'TEMP\\NCAA_Partial'\n"
     ]
    },
    {
     "name": "stderr",
     "output_type": "stream",
     "text": [
      "C:\\Users\\Justin\\AppData\\Local\\Temp\\ipykernel_22308\\573511129.py:89: FutureWarning: The frame.append method is deprecated and will be removed from pandas in a future version. Use pandas.concat instead.\n",
      "  results = results.append({\n",
      " 94%|█████████▎| 1901/2029 [1:57:13<08:00,  3.75s/it]C:\\Users\\Justin\\AppData\\Local\\Temp\\ipykernel_22308\\573511129.py:89: FutureWarning: The frame.append method is deprecated and will be removed from pandas in a future version. Use pandas.concat instead.\n",
      "  results = results.append({\n",
      " 94%|█████████▎| 1902/2029 [1:57:15<07:10,  3.39s/it]C:\\Users\\Justin\\AppData\\Local\\Temp\\ipykernel_22308\\573511129.py:89: FutureWarning: The frame.append method is deprecated and will be removed from pandas in a future version. Use pandas.concat instead.\n",
      "  results = results.append({\n",
      " 94%|█████████▍| 1903/2029 [1:57:18<06:25,  3.06s/it]C:\\Users\\Justin\\AppData\\Local\\Temp\\ipykernel_22308\\573511129.py:89: FutureWarning: The frame.append method is deprecated and will be removed from pandas in a future version. Use pandas.concat instead.\n",
      "  results = results.append({\n",
      " 94%|█████████▍| 1905/2029 [1:57:28<09:22,  4.54s/it]"
     ]
    },
    {
     "name": "stdout",
     "output_type": "stream",
     "text": [
      "Error occurred: 'NoneType' object has no attribute 'text'\n"
     ]
    },
    {
     "name": "stderr",
     "output_type": "stream",
     "text": [
      "C:\\Users\\Justin\\AppData\\Local\\Temp\\ipykernel_22308\\573511129.py:89: FutureWarning: The frame.append method is deprecated and will be removed from pandas in a future version. Use pandas.concat instead.\n",
      "  results = results.append({\n",
      " 94%|█████████▍| 1906/2029 [1:57:32<09:05,  4.44s/it]C:\\Users\\Justin\\AppData\\Local\\Temp\\ipykernel_22308\\573511129.py:89: FutureWarning: The frame.append method is deprecated and will be removed from pandas in a future version. Use pandas.concat instead.\n",
      "  results = results.append({\n",
      " 94%|█████████▍| 1907/2029 [1:57:34<07:36,  3.74s/it]C:\\Users\\Justin\\AppData\\Local\\Temp\\ipykernel_22308\\573511129.py:89: FutureWarning: The frame.append method is deprecated and will be removed from pandas in a future version. Use pandas.concat instead.\n",
      "  results = results.append({\n",
      " 94%|█████████▍| 1908/2029 [1:57:35<05:52,  2.92s/it]C:\\Users\\Justin\\AppData\\Local\\Temp\\ipykernel_22308\\573511129.py:89: FutureWarning: The frame.append method is deprecated and will be removed from pandas in a future version. Use pandas.concat instead.\n",
      "  results = results.append({\n",
      " 94%|█████████▍| 1909/2029 [1:57:36<04:39,  2.33s/it]C:\\Users\\Justin\\AppData\\Local\\Temp\\ipykernel_22308\\573511129.py:89: FutureWarning: The frame.append method is deprecated and will be removed from pandas in a future version. Use pandas.concat instead.\n",
      "  results = results.append({\n",
      " 94%|█████████▍| 1910/2029 [1:57:42<06:39,  3.35s/it]C:\\Users\\Justin\\AppData\\Local\\Temp\\ipykernel_22308\\573511129.py:89: FutureWarning: The frame.append method is deprecated and will be removed from pandas in a future version. Use pandas.concat instead.\n",
      "  results = results.append({\n",
      " 94%|█████████▍| 1911/2029 [1:57:44<05:43,  2.91s/it]C:\\Users\\Justin\\AppData\\Local\\Temp\\ipykernel_22308\\573511129.py:89: FutureWarning: The frame.append method is deprecated and will be removed from pandas in a future version. Use pandas.concat instead.\n",
      "  results = results.append({\n",
      " 94%|█████████▍| 1912/2029 [1:57:45<04:29,  2.30s/it]C:\\Users\\Justin\\AppData\\Local\\Temp\\ipykernel_22308\\573511129.py:89: FutureWarning: The frame.append method is deprecated and will be removed from pandas in a future version. Use pandas.concat instead.\n",
      "  results = results.append({\n",
      " 94%|█████████▍| 1913/2029 [1:57:46<03:57,  2.05s/it]C:\\Users\\Justin\\AppData\\Local\\Temp\\ipykernel_22308\\573511129.py:89: FutureWarning: The frame.append method is deprecated and will be removed from pandas in a future version. Use pandas.concat instead.\n",
      "  results = results.append({\n",
      " 94%|█████████▍| 1915/2029 [1:57:49<03:01,  1.59s/it]"
     ]
    },
    {
     "name": "stdout",
     "output_type": "stream",
     "text": [
      "Error occurred: 'NoneType' object has no attribute 'text'\n"
     ]
    },
    {
     "name": "stderr",
     "output_type": "stream",
     "text": [
      "C:\\Users\\Justin\\AppData\\Local\\Temp\\ipykernel_22308\\573511129.py:89: FutureWarning: The frame.append method is deprecated and will be removed from pandas in a future version. Use pandas.concat instead.\n",
      "  results = results.append({\n",
      " 94%|█████████▍| 1916/2029 [1:57:53<04:32,  2.41s/it]C:\\Users\\Justin\\AppData\\Local\\Temp\\ipykernel_22308\\573511129.py:89: FutureWarning: The frame.append method is deprecated and will be removed from pandas in a future version. Use pandas.concat instead.\n",
      "  results = results.append({\n",
      " 94%|█████████▍| 1917/2029 [1:57:54<03:56,  2.12s/it]C:\\Users\\Justin\\AppData\\Local\\Temp\\ipykernel_22308\\573511129.py:89: FutureWarning: The frame.append method is deprecated and will be removed from pandas in a future version. Use pandas.concat instead.\n",
      "  results = results.append({\n",
      " 95%|█████████▍| 1918/2029 [1:57:56<03:31,  1.91s/it]C:\\Users\\Justin\\AppData\\Local\\Temp\\ipykernel_22308\\573511129.py:89: FutureWarning: The frame.append method is deprecated and will be removed from pandas in a future version. Use pandas.concat instead.\n",
      "  results = results.append({\n",
      " 95%|█████████▍| 1919/2029 [1:58:02<06:03,  3.31s/it]C:\\Users\\Justin\\AppData\\Local\\Temp\\ipykernel_22308\\573511129.py:89: FutureWarning: The frame.append method is deprecated and will be removed from pandas in a future version. Use pandas.concat instead.\n",
      "  results = results.append({\n",
      " 95%|█████████▍| 1921/2029 [1:58:06<04:34,  2.54s/it]"
     ]
    },
    {
     "name": "stdout",
     "output_type": "stream",
     "text": [
      "Error occurred: 'NoneType' object has no attribute 'text'\n"
     ]
    },
    {
     "name": "stderr",
     "output_type": "stream",
     "text": [
      "C:\\Users\\Justin\\AppData\\Local\\Temp\\ipykernel_22308\\573511129.py:89: FutureWarning: The frame.append method is deprecated and will be removed from pandas in a future version. Use pandas.concat instead.\n",
      "  results = results.append({\n",
      " 95%|█████████▍| 1922/2029 [1:58:08<04:10,  2.34s/it]C:\\Users\\Justin\\AppData\\Local\\Temp\\ipykernel_22308\\573511129.py:89: FutureWarning: The frame.append method is deprecated and will be removed from pandas in a future version. Use pandas.concat instead.\n",
      "  results = results.append({\n",
      " 95%|█████████▍| 1923/2029 [1:58:09<03:28,  1.97s/it]C:\\Users\\Justin\\AppData\\Local\\Temp\\ipykernel_22308\\573511129.py:89: FutureWarning: The frame.append method is deprecated and will be removed from pandas in a future version. Use pandas.concat instead.\n",
      "  results = results.append({\n",
      " 95%|█████████▍| 1924/2029 [1:58:13<04:50,  2.77s/it]C:\\Users\\Justin\\AppData\\Local\\Temp\\ipykernel_22308\\573511129.py:89: FutureWarning: The frame.append method is deprecated and will be removed from pandas in a future version. Use pandas.concat instead.\n",
      "  results = results.append({\n",
      " 95%|█████████▍| 1925/2029 [1:58:15<04:04,  2.35s/it]C:\\Users\\Justin\\AppData\\Local\\Temp\\ipykernel_22308\\573511129.py:89: FutureWarning: The frame.append method is deprecated and will be removed from pandas in a future version. Use pandas.concat instead.\n",
      "  results = results.append({\n",
      " 95%|█████████▍| 1926/2029 [1:58:17<03:54,  2.28s/it]C:\\Users\\Justin\\AppData\\Local\\Temp\\ipykernel_22308\\573511129.py:89: FutureWarning: The frame.append method is deprecated and will be removed from pandas in a future version. Use pandas.concat instead.\n",
      "  results = results.append({\n",
      " 95%|█████████▍| 1927/2029 [1:58:19<03:34,  2.10s/it]C:\\Users\\Justin\\AppData\\Local\\Temp\\ipykernel_22308\\573511129.py:89: FutureWarning: The frame.append method is deprecated and will be removed from pandas in a future version. Use pandas.concat instead.\n",
      "  results = results.append({\n",
      " 95%|█████████▌| 1928/2029 [1:58:23<04:48,  2.85s/it]C:\\Users\\Justin\\AppData\\Local\\Temp\\ipykernel_22308\\573511129.py:89: FutureWarning: The frame.append method is deprecated and will be removed from pandas in a future version. Use pandas.concat instead.\n",
      "  results = results.append({\n",
      " 95%|█████████▌| 1929/2029 [1:58:25<04:16,  2.56s/it]C:\\Users\\Justin\\AppData\\Local\\Temp\\ipykernel_22308\\573511129.py:89: FutureWarning: The frame.append method is deprecated and will be removed from pandas in a future version. Use pandas.concat instead.\n",
      "  results = results.append({\n",
      " 95%|█████████▌| 1930/2029 [1:58:27<04:08,  2.51s/it]C:\\Users\\Justin\\AppData\\Local\\Temp\\ipykernel_22308\\573511129.py:89: FutureWarning: The frame.append method is deprecated and will be removed from pandas in a future version. Use pandas.concat instead.\n",
      "  results = results.append({\n",
      " 95%|█████████▌| 1931/2029 [1:58:32<05:18,  3.25s/it]C:\\Users\\Justin\\AppData\\Local\\Temp\\ipykernel_22308\\573511129.py:89: FutureWarning: The frame.append method is deprecated and will be removed from pandas in a future version. Use pandas.concat instead.\n",
      "  results = results.append({\n",
      " 95%|█████████▌| 1932/2029 [1:58:36<05:12,  3.22s/it]C:\\Users\\Justin\\AppData\\Local\\Temp\\ipykernel_22308\\573511129.py:89: FutureWarning: The frame.append method is deprecated and will be removed from pandas in a future version. Use pandas.concat instead.\n",
      "  results = results.append({\n",
      " 95%|█████████▌| 1933/2029 [1:58:37<04:10,  2.61s/it]C:\\Users\\Justin\\AppData\\Local\\Temp\\ipykernel_22308\\573511129.py:89: FutureWarning: The frame.append method is deprecated and will be removed from pandas in a future version. Use pandas.concat instead.\n",
      "  results = results.append({\n",
      " 95%|█████████▌| 1934/2029 [1:58:42<05:27,  3.45s/it]C:\\Users\\Justin\\AppData\\Local\\Temp\\ipykernel_22308\\573511129.py:89: FutureWarning: The frame.append method is deprecated and will be removed from pandas in a future version. Use pandas.concat instead.\n",
      "  results = results.append({\n",
      " 95%|█████████▌| 1935/2029 [1:58:43<04:21,  2.78s/it]C:\\Users\\Justin\\AppData\\Local\\Temp\\ipykernel_22308\\573511129.py:89: FutureWarning: The frame.append method is deprecated and will be removed from pandas in a future version. Use pandas.concat instead.\n",
      "  results = results.append({\n",
      " 95%|█████████▌| 1936/2029 [1:58:45<03:35,  2.32s/it]C:\\Users\\Justin\\AppData\\Local\\Temp\\ipykernel_22308\\573511129.py:89: FutureWarning: The frame.append method is deprecated and will be removed from pandas in a future version. Use pandas.concat instead.\n",
      "  results = results.append({\n",
      " 96%|█████████▌| 1938/2029 [1:58:47<02:41,  1.77s/it]"
     ]
    },
    {
     "name": "stdout",
     "output_type": "stream",
     "text": [
      "Error occurred: 'NoneType' object has no attribute 'text'\n"
     ]
    },
    {
     "name": "stderr",
     "output_type": "stream",
     "text": [
      "C:\\Users\\Justin\\AppData\\Local\\Temp\\ipykernel_22308\\573511129.py:89: FutureWarning: The frame.append method is deprecated and will be removed from pandas in a future version. Use pandas.concat instead.\n",
      "  results = results.append({\n",
      " 96%|█████████▌| 1939/2029 [1:58:49<02:38,  1.76s/it]C:\\Users\\Justin\\AppData\\Local\\Temp\\ipykernel_22308\\573511129.py:89: FutureWarning: The frame.append method is deprecated and will be removed from pandas in a future version. Use pandas.concat instead.\n",
      "  results = results.append({\n",
      " 96%|█████████▌| 1940/2029 [1:58:53<03:48,  2.57s/it]C:\\Users\\Justin\\AppData\\Local\\Temp\\ipykernel_22308\\573511129.py:89: FutureWarning: The frame.append method is deprecated and will be removed from pandas in a future version. Use pandas.concat instead.\n",
      "  results = results.append({\n",
      " 96%|█████████▌| 1941/2029 [1:58:55<03:28,  2.37s/it]C:\\Users\\Justin\\AppData\\Local\\Temp\\ipykernel_22308\\573511129.py:89: FutureWarning: The frame.append method is deprecated and will be removed from pandas in a future version. Use pandas.concat instead.\n",
      "  results = results.append({\n",
      " 96%|█████████▌| 1942/2029 [1:58:57<03:03,  2.11s/it]C:\\Users\\Justin\\AppData\\Local\\Temp\\ipykernel_22308\\573511129.py:89: FutureWarning: The frame.append method is deprecated and will be removed from pandas in a future version. Use pandas.concat instead.\n",
      "  results = results.append({\n",
      " 96%|█████████▌| 1944/2029 [1:59:03<03:53,  2.75s/it]"
     ]
    },
    {
     "name": "stdout",
     "output_type": "stream",
     "text": [
      "Error occurred: 'NoneType' object has no attribute 'text'\n"
     ]
    },
    {
     "name": "stderr",
     "output_type": "stream",
     "text": [
      "C:\\Users\\Justin\\AppData\\Local\\Temp\\ipykernel_22308\\573511129.py:89: FutureWarning: The frame.append method is deprecated and will be removed from pandas in a future version. Use pandas.concat instead.\n",
      "  results = results.append({\n",
      " 96%|█████████▌| 1945/2029 [1:59:05<03:24,  2.44s/it]C:\\Users\\Justin\\AppData\\Local\\Temp\\ipykernel_22308\\573511129.py:89: FutureWarning: The frame.append method is deprecated and will be removed from pandas in a future version. Use pandas.concat instead.\n",
      "  results = results.append({\n",
      " 96%|█████████▌| 1946/2029 [1:59:06<02:49,  2.04s/it]C:\\Users\\Justin\\AppData\\Local\\Temp\\ipykernel_22308\\573511129.py:89: FutureWarning: The frame.append method is deprecated and will be removed from pandas in a future version. Use pandas.concat instead.\n",
      "  results = results.append({\n",
      " 96%|█████████▌| 1947/2029 [1:59:07<02:28,  1.81s/it]C:\\Users\\Justin\\AppData\\Local\\Temp\\ipykernel_22308\\573511129.py:89: FutureWarning: The frame.append method is deprecated and will be removed from pandas in a future version. Use pandas.concat instead.\n",
      "  results = results.append({\n",
      " 96%|█████████▌| 1948/2029 [1:59:09<02:27,  1.82s/it]C:\\Users\\Justin\\AppData\\Local\\Temp\\ipykernel_22308\\573511129.py:89: FutureWarning: The frame.append method is deprecated and will be removed from pandas in a future version. Use pandas.concat instead.\n",
      "  results = results.append({\n",
      " 96%|█████████▌| 1949/2029 [1:59:13<03:28,  2.60s/it]C:\\Users\\Justin\\AppData\\Local\\Temp\\ipykernel_22308\\573511129.py:89: FutureWarning: The frame.append method is deprecated and will be removed from pandas in a future version. Use pandas.concat instead.\n",
      "  results = results.append({\n",
      " 96%|█████████▌| 1950/2029 [1:59:17<03:58,  3.02s/it]"
     ]
    },
    {
     "name": "stdout",
     "output_type": "stream",
     "text": [
      "Error occurred: Cannot save file into a non-existent directory: 'TEMP\\NCAA_Partial'\n"
     ]
    },
    {
     "name": "stderr",
     "output_type": "stream",
     "text": [
      "C:\\Users\\Justin\\AppData\\Local\\Temp\\ipykernel_22308\\573511129.py:89: FutureWarning: The frame.append method is deprecated and will be removed from pandas in a future version. Use pandas.concat instead.\n",
      "  results = results.append({\n",
      " 96%|█████████▌| 1951/2029 [1:59:22<04:46,  3.67s/it]C:\\Users\\Justin\\AppData\\Local\\Temp\\ipykernel_22308\\573511129.py:89: FutureWarning: The frame.append method is deprecated and will be removed from pandas in a future version. Use pandas.concat instead.\n",
      "  results = results.append({\n",
      " 96%|█████████▌| 1952/2029 [1:59:25<04:12,  3.28s/it]C:\\Users\\Justin\\AppData\\Local\\Temp\\ipykernel_22308\\573511129.py:89: FutureWarning: The frame.append method is deprecated and will be removed from pandas in a future version. Use pandas.concat instead.\n",
      "  results = results.append({\n",
      " 96%|█████████▋| 1953/2029 [1:59:32<05:49,  4.60s/it]C:\\Users\\Justin\\AppData\\Local\\Temp\\ipykernel_22308\\573511129.py:89: FutureWarning: The frame.append method is deprecated and will be removed from pandas in a future version. Use pandas.concat instead.\n",
      "  results = results.append({\n",
      " 96%|█████████▋| 1954/2029 [1:59:34<04:36,  3.69s/it]C:\\Users\\Justin\\AppData\\Local\\Temp\\ipykernel_22308\\573511129.py:89: FutureWarning: The frame.append method is deprecated and will be removed from pandas in a future version. Use pandas.concat instead.\n",
      "  results = results.append({\n",
      " 96%|█████████▋| 1955/2029 [1:59:36<03:43,  3.02s/it]C:\\Users\\Justin\\AppData\\Local\\Temp\\ipykernel_22308\\573511129.py:89: FutureWarning: The frame.append method is deprecated and will be removed from pandas in a future version. Use pandas.concat instead.\n",
      "  results = results.append({\n",
      " 96%|█████████▋| 1956/2029 [1:59:42<04:56,  4.07s/it]C:\\Users\\Justin\\AppData\\Local\\Temp\\ipykernel_22308\\573511129.py:89: FutureWarning: The frame.append method is deprecated and will be removed from pandas in a future version. Use pandas.concat instead.\n",
      "  results = results.append({\n",
      " 96%|█████████▋| 1957/2029 [1:59:53<07:16,  6.07s/it]C:\\Users\\Justin\\AppData\\Local\\Temp\\ipykernel_22308\\573511129.py:89: FutureWarning: The frame.append method is deprecated and will be removed from pandas in a future version. Use pandas.concat instead.\n",
      "  results = results.append({\n",
      " 97%|█████████▋| 1958/2029 [1:59:55<05:46,  4.87s/it]C:\\Users\\Justin\\AppData\\Local\\Temp\\ipykernel_22308\\573511129.py:89: FutureWarning: The frame.append method is deprecated and will be removed from pandas in a future version. Use pandas.concat instead.\n",
      "  results = results.append({\n",
      " 97%|█████████▋| 1959/2029 [1:59:58<05:13,  4.47s/it]C:\\Users\\Justin\\AppData\\Local\\Temp\\ipykernel_22308\\573511129.py:89: FutureWarning: The frame.append method is deprecated and will be removed from pandas in a future version. Use pandas.concat instead.\n",
      "  results = results.append({\n",
      " 97%|█████████▋| 1960/2029 [2:00:02<04:52,  4.24s/it]C:\\Users\\Justin\\AppData\\Local\\Temp\\ipykernel_22308\\573511129.py:89: FutureWarning: The frame.append method is deprecated and will be removed from pandas in a future version. Use pandas.concat instead.\n",
      "  results = results.append({\n",
      " 97%|█████████▋| 1961/2029 [2:00:05<04:29,  3.97s/it]C:\\Users\\Justin\\AppData\\Local\\Temp\\ipykernel_22308\\573511129.py:89: FutureWarning: The frame.append method is deprecated and will be removed from pandas in a future version. Use pandas.concat instead.\n",
      "  results = results.append({\n",
      " 97%|█████████▋| 1962/2029 [2:00:12<05:25,  4.85s/it]C:\\Users\\Justin\\AppData\\Local\\Temp\\ipykernel_22308\\573511129.py:89: FutureWarning: The frame.append method is deprecated and will be removed from pandas in a future version. Use pandas.concat instead.\n",
      "  results = results.append({\n",
      " 97%|█████████▋| 1963/2029 [2:00:18<05:39,  5.15s/it]C:\\Users\\Justin\\AppData\\Local\\Temp\\ipykernel_22308\\573511129.py:89: FutureWarning: The frame.append method is deprecated and will be removed from pandas in a future version. Use pandas.concat instead.\n",
      "  results = results.append({\n",
      " 97%|█████████▋| 1964/2029 [2:00:19<04:10,  3.86s/it]C:\\Users\\Justin\\AppData\\Local\\Temp\\ipykernel_22308\\573511129.py:89: FutureWarning: The frame.append method is deprecated and will be removed from pandas in a future version. Use pandas.concat instead.\n",
      "  results = results.append({\n",
      " 97%|█████████▋| 1965/2029 [2:00:27<05:31,  5.18s/it]C:\\Users\\Justin\\AppData\\Local\\Temp\\ipykernel_22308\\573511129.py:89: FutureWarning: The frame.append method is deprecated and will be removed from pandas in a future version. Use pandas.concat instead.\n",
      "  results = results.append({\n",
      " 97%|█████████▋| 1967/2029 [2:00:33<04:23,  4.25s/it]"
     ]
    },
    {
     "name": "stdout",
     "output_type": "stream",
     "text": [
      "Error occurred: 'NoneType' object has no attribute 'text'\n"
     ]
    },
    {
     "name": "stderr",
     "output_type": "stream",
     "text": [
      "C:\\Users\\Justin\\AppData\\Local\\Temp\\ipykernel_22308\\573511129.py:89: FutureWarning: The frame.append method is deprecated and will be removed from pandas in a future version. Use pandas.concat instead.\n",
      "  results = results.append({\n",
      " 97%|█████████▋| 1968/2029 [2:00:35<03:37,  3.57s/it]C:\\Users\\Justin\\AppData\\Local\\Temp\\ipykernel_22308\\573511129.py:89: FutureWarning: The frame.append method is deprecated and will be removed from pandas in a future version. Use pandas.concat instead.\n",
      "  results = results.append({\n",
      " 97%|█████████▋| 1969/2029 [2:00:43<04:42,  4.71s/it]C:\\Users\\Justin\\AppData\\Local\\Temp\\ipykernel_22308\\573511129.py:89: FutureWarning: The frame.append method is deprecated and will be removed from pandas in a future version. Use pandas.concat instead.\n",
      "  results = results.append({\n",
      " 97%|█████████▋| 1970/2029 [2:00:44<03:40,  3.73s/it]C:\\Users\\Justin\\AppData\\Local\\Temp\\ipykernel_22308\\573511129.py:89: FutureWarning: The frame.append method is deprecated and will be removed from pandas in a future version. Use pandas.concat instead.\n",
      "  results = results.append({\n",
      " 97%|█████████▋| 1971/2029 [2:00:46<03:03,  3.16s/it]C:\\Users\\Justin\\AppData\\Local\\Temp\\ipykernel_22308\\573511129.py:89: FutureWarning: The frame.append method is deprecated and will be removed from pandas in a future version. Use pandas.concat instead.\n",
      "  results = results.append({\n",
      " 97%|█████████▋| 1972/2029 [2:00:52<03:53,  4.10s/it]C:\\Users\\Justin\\AppData\\Local\\Temp\\ipykernel_22308\\573511129.py:89: FutureWarning: The frame.append method is deprecated and will be removed from pandas in a future version. Use pandas.concat instead.\n",
      "  results = results.append({\n",
      " 97%|█████████▋| 1974/2029 [2:01:03<04:09,  4.53s/it]"
     ]
    },
    {
     "name": "stdout",
     "output_type": "stream",
     "text": [
      "Error occurred: 'NoneType' object has no attribute 'text'\n"
     ]
    },
    {
     "name": "stderr",
     "output_type": "stream",
     "text": [
      "C:\\Users\\Justin\\AppData\\Local\\Temp\\ipykernel_22308\\573511129.py:89: FutureWarning: The frame.append method is deprecated and will be removed from pandas in a future version. Use pandas.concat instead.\n",
      "  results = results.append({\n",
      " 97%|█████████▋| 1975/2029 [2:01:06<03:45,  4.17s/it]C:\\Users\\Justin\\AppData\\Local\\Temp\\ipykernel_22308\\573511129.py:89: FutureWarning: The frame.append method is deprecated and will be removed from pandas in a future version. Use pandas.concat instead.\n",
      "  results = results.append({\n",
      " 97%|█████████▋| 1977/2029 [2:01:12<03:12,  3.70s/it]"
     ]
    },
    {
     "name": "stdout",
     "output_type": "stream",
     "text": [
      "Error occurred: 'NoneType' object has no attribute 'text'\n"
     ]
    },
    {
     "name": "stderr",
     "output_type": "stream",
     "text": [
      "C:\\Users\\Justin\\AppData\\Local\\Temp\\ipykernel_22308\\573511129.py:89: FutureWarning: The frame.append method is deprecated and will be removed from pandas in a future version. Use pandas.concat instead.\n",
      "  results = results.append({\n",
      " 98%|█████████▊| 1979/2029 [2:01:16<02:17,  2.76s/it]"
     ]
    },
    {
     "name": "stdout",
     "output_type": "stream",
     "text": [
      "Error occurred: 'NoneType' object has no attribute 'text'\n"
     ]
    },
    {
     "name": "stderr",
     "output_type": "stream",
     "text": [
      "C:\\Users\\Justin\\AppData\\Local\\Temp\\ipykernel_22308\\573511129.py:89: FutureWarning: The frame.append method is deprecated and will be removed from pandas in a future version. Use pandas.concat instead.\n",
      "  results = results.append({\n",
      " 98%|█████████▊| 1980/2029 [2:01:17<01:54,  2.34s/it]C:\\Users\\Justin\\AppData\\Local\\Temp\\ipykernel_22308\\573511129.py:89: FutureWarning: The frame.append method is deprecated and will be removed from pandas in a future version. Use pandas.concat instead.\n",
      "  results = results.append({\n",
      " 98%|█████████▊| 1982/2029 [2:01:24<02:20,  3.00s/it]"
     ]
    },
    {
     "name": "stdout",
     "output_type": "stream",
     "text": [
      "Error occurred: 'NoneType' object has no attribute 'text'\n"
     ]
    },
    {
     "name": "stderr",
     "output_type": "stream",
     "text": [
      "C:\\Users\\Justin\\AppData\\Local\\Temp\\ipykernel_22308\\573511129.py:89: FutureWarning: The frame.append method is deprecated and will be removed from pandas in a future version. Use pandas.concat instead.\n",
      "  results = results.append({\n",
      " 98%|█████████▊| 1984/2029 [2:01:28<01:52,  2.50s/it]"
     ]
    },
    {
     "name": "stdout",
     "output_type": "stream",
     "text": [
      "Error occurred: 'NoneType' object has no attribute 'text'\n"
     ]
    },
    {
     "name": "stderr",
     "output_type": "stream",
     "text": [
      "C:\\Users\\Justin\\AppData\\Local\\Temp\\ipykernel_22308\\573511129.py:89: FutureWarning: The frame.append method is deprecated and will be removed from pandas in a future version. Use pandas.concat instead.\n",
      "  results = results.append({\n",
      " 98%|█████████▊| 1985/2029 [2:01:35<02:51,  3.90s/it]C:\\Users\\Justin\\AppData\\Local\\Temp\\ipykernel_22308\\573511129.py:89: FutureWarning: The frame.append method is deprecated and will be removed from pandas in a future version. Use pandas.concat instead.\n",
      "  results = results.append({\n",
      " 98%|█████████▊| 1986/2029 [2:01:37<02:17,  3.19s/it]C:\\Users\\Justin\\AppData\\Local\\Temp\\ipykernel_22308\\573511129.py:89: FutureWarning: The frame.append method is deprecated and will be removed from pandas in a future version. Use pandas.concat instead.\n",
      "  results = results.append({\n",
      " 98%|█████████▊| 1987/2029 [2:01:44<02:59,  4.28s/it]C:\\Users\\Justin\\AppData\\Local\\Temp\\ipykernel_22308\\573511129.py:89: FutureWarning: The frame.append method is deprecated and will be removed from pandas in a future version. Use pandas.concat instead.\n",
      "  results = results.append({\n",
      " 98%|█████████▊| 1989/2029 [2:01:56<03:12,  4.82s/it]"
     ]
    },
    {
     "name": "stdout",
     "output_type": "stream",
     "text": [
      "Error occurred: 'NoneType' object has no attribute 'text'\n"
     ]
    },
    {
     "name": "stderr",
     "output_type": "stream",
     "text": [
      " 98%|█████████▊| 1990/2029 [2:01:58<02:38,  4.06s/it]"
     ]
    },
    {
     "name": "stdout",
     "output_type": "stream",
     "text": [
      "Error occurred: 'NoneType' object has no attribute 'text'\n"
     ]
    },
    {
     "name": "stderr",
     "output_type": "stream",
     "text": [
      "C:\\Users\\Justin\\AppData\\Local\\Temp\\ipykernel_22308\\573511129.py:89: FutureWarning: The frame.append method is deprecated and will be removed from pandas in a future version. Use pandas.concat instead.\n",
      "  results = results.append({\n",
      " 98%|█████████▊| 1992/2029 [2:02:08<02:50,  4.61s/it]"
     ]
    },
    {
     "name": "stdout",
     "output_type": "stream",
     "text": [
      "Error occurred: 'NoneType' object has no attribute 'text'\n"
     ]
    },
    {
     "name": "stderr",
     "output_type": "stream",
     "text": [
      "C:\\Users\\Justin\\AppData\\Local\\Temp\\ipykernel_22308\\573511129.py:89: FutureWarning: The frame.append method is deprecated and will be removed from pandas in a future version. Use pandas.concat instead.\n",
      "  results = results.append({\n",
      " 98%|█████████▊| 1993/2029 [2:02:12<02:40,  4.45s/it]C:\\Users\\Justin\\AppData\\Local\\Temp\\ipykernel_22308\\573511129.py:89: FutureWarning: The frame.append method is deprecated and will be removed from pandas in a future version. Use pandas.concat instead.\n",
      "  results = results.append({\n",
      " 98%|█████████▊| 1995/2029 [2:02:18<01:57,  3.44s/it]"
     ]
    },
    {
     "name": "stdout",
     "output_type": "stream",
     "text": [
      "Error occurred: 'NoneType' object has no attribute 'text'\n"
     ]
    },
    {
     "name": "stderr",
     "output_type": "stream",
     "text": [
      "C:\\Users\\Justin\\AppData\\Local\\Temp\\ipykernel_22308\\573511129.py:89: FutureWarning: The frame.append method is deprecated and will be removed from pandas in a future version. Use pandas.concat instead.\n",
      "  results = results.append({\n",
      " 98%|█████████▊| 1996/2029 [2:02:19<01:34,  2.86s/it]C:\\Users\\Justin\\AppData\\Local\\Temp\\ipykernel_22308\\573511129.py:89: FutureWarning: The frame.append method is deprecated and will be removed from pandas in a future version. Use pandas.concat instead.\n",
      "  results = results.append({\n",
      " 98%|█████████▊| 1997/2029 [2:02:33<03:11,  5.98s/it]C:\\Users\\Justin\\AppData\\Local\\Temp\\ipykernel_22308\\573511129.py:89: FutureWarning: The frame.append method is deprecated and will be removed from pandas in a future version. Use pandas.concat instead.\n",
      "  results = results.append({\n",
      " 98%|█████████▊| 1998/2029 [2:02:34<02:19,  4.50s/it]C:\\Users\\Justin\\AppData\\Local\\Temp\\ipykernel_22308\\573511129.py:89: FutureWarning: The frame.append method is deprecated and will be removed from pandas in a future version. Use pandas.concat instead.\n",
      "  results = results.append({\n",
      " 99%|█████████▊| 1999/2029 [2:02:45<03:13,  6.43s/it]C:\\Users\\Justin\\AppData\\Local\\Temp\\ipykernel_22308\\573511129.py:89: FutureWarning: The frame.append method is deprecated and will be removed from pandas in a future version. Use pandas.concat instead.\n",
      "  results = results.append({\n",
      " 99%|█████████▊| 2000/2029 [2:02:53<03:21,  6.94s/it]"
     ]
    },
    {
     "name": "stdout",
     "output_type": "stream",
     "text": [
      "Error occurred: Cannot save file into a non-existent directory: 'TEMP\\NCAA_Partial'\n"
     ]
    },
    {
     "name": "stderr",
     "output_type": "stream",
     "text": [
      "C:\\Users\\Justin\\AppData\\Local\\Temp\\ipykernel_22308\\573511129.py:89: FutureWarning: The frame.append method is deprecated and will be removed from pandas in a future version. Use pandas.concat instead.\n",
      "  results = results.append({\n",
      " 99%|█████████▊| 2001/2029 [2:02:58<03:03,  6.57s/it]C:\\Users\\Justin\\AppData\\Local\\Temp\\ipykernel_22308\\573511129.py:89: FutureWarning: The frame.append method is deprecated and will be removed from pandas in a future version. Use pandas.concat instead.\n",
      "  results = results.append({\n",
      " 99%|█████████▊| 2002/2029 [2:03:03<02:39,  5.90s/it]C:\\Users\\Justin\\AppData\\Local\\Temp\\ipykernel_22308\\573511129.py:89: FutureWarning: The frame.append method is deprecated and will be removed from pandas in a future version. Use pandas.concat instead.\n",
      "  results = results.append({\n",
      " 99%|█████████▊| 2003/2029 [2:03:04<01:58,  4.55s/it]C:\\Users\\Justin\\AppData\\Local\\Temp\\ipykernel_22308\\573511129.py:89: FutureWarning: The frame.append method is deprecated and will be removed from pandas in a future version. Use pandas.concat instead.\n",
      "  results = results.append({\n",
      " 99%|█████████▉| 2004/2029 [2:03:13<02:27,  5.88s/it]C:\\Users\\Justin\\AppData\\Local\\Temp\\ipykernel_22308\\573511129.py:89: FutureWarning: The frame.append method is deprecated and will be removed from pandas in a future version. Use pandas.concat instead.\n",
      "  results = results.append({\n",
      " 99%|█████████▉| 2005/2029 [2:03:19<02:21,  5.91s/it]C:\\Users\\Justin\\AppData\\Local\\Temp\\ipykernel_22308\\573511129.py:89: FutureWarning: The frame.append method is deprecated and will be removed from pandas in a future version. Use pandas.concat instead.\n",
      "  results = results.append({\n",
      " 99%|█████████▉| 2006/2029 [2:03:23<02:00,  5.23s/it]C:\\Users\\Justin\\AppData\\Local\\Temp\\ipykernel_22308\\573511129.py:89: FutureWarning: The frame.append method is deprecated and will be removed from pandas in a future version. Use pandas.concat instead.\n",
      "  results = results.append({\n",
      " 99%|█████████▉| 2007/2029 [2:03:38<03:02,  8.31s/it]C:\\Users\\Justin\\AppData\\Local\\Temp\\ipykernel_22308\\573511129.py:89: FutureWarning: The frame.append method is deprecated and will be removed from pandas in a future version. Use pandas.concat instead.\n",
      "  results = results.append({\n",
      " 99%|█████████▉| 2009/2029 [2:03:48<02:11,  6.56s/it]"
     ]
    },
    {
     "name": "stdout",
     "output_type": "stream",
     "text": [
      "Error occurred: 'NoneType' object has no attribute 'text'\n"
     ]
    },
    {
     "name": "stderr",
     "output_type": "stream",
     "text": [
      " 99%|█████████▉| 2010/2029 [2:03:53<01:55,  6.07s/it]"
     ]
    },
    {
     "name": "stdout",
     "output_type": "stream",
     "text": [
      "Error occurred: 'NoneType' object has no attribute 'text'\n"
     ]
    },
    {
     "name": "stderr",
     "output_type": "stream",
     "text": [
      "C:\\Users\\Justin\\AppData\\Local\\Temp\\ipykernel_22308\\573511129.py:89: FutureWarning: The frame.append method is deprecated and will be removed from pandas in a future version. Use pandas.concat instead.\n",
      "  results = results.append({\n",
      " 99%|█████████▉| 2012/2029 [2:03:56<01:02,  3.65s/it]"
     ]
    },
    {
     "name": "stdout",
     "output_type": "stream",
     "text": [
      "Error occurred: 'NoneType' object has no attribute 'text'\n"
     ]
    },
    {
     "name": "stderr",
     "output_type": "stream",
     "text": [
      "C:\\Users\\Justin\\AppData\\Local\\Temp\\ipykernel_22308\\573511129.py:89: FutureWarning: The frame.append method is deprecated and will be removed from pandas in a future version. Use pandas.concat instead.\n",
      "  results = results.append({\n",
      " 99%|█████████▉| 2013/2029 [2:03:57<00:47,  2.95s/it]C:\\Users\\Justin\\AppData\\Local\\Temp\\ipykernel_22308\\573511129.py:89: FutureWarning: The frame.append method is deprecated and will be removed from pandas in a future version. Use pandas.concat instead.\n",
      "  results = results.append({\n",
      " 99%|█████████▉| 2014/2029 [2:03:59<00:40,  2.69s/it]C:\\Users\\Justin\\AppData\\Local\\Temp\\ipykernel_22308\\573511129.py:89: FutureWarning: The frame.append method is deprecated and will be removed from pandas in a future version. Use pandas.concat instead.\n",
      "  results = results.append({\n",
      " 99%|█████████▉| 2015/2029 [2:04:13<01:24,  6.01s/it]C:\\Users\\Justin\\AppData\\Local\\Temp\\ipykernel_22308\\573511129.py:89: FutureWarning: The frame.append method is deprecated and will be removed from pandas in a future version. Use pandas.concat instead.\n",
      "  results = results.append({\n",
      " 99%|█████████▉| 2016/2029 [2:04:15<01:03,  4.88s/it]C:\\Users\\Justin\\AppData\\Local\\Temp\\ipykernel_22308\\573511129.py:89: FutureWarning: The frame.append method is deprecated and will be removed from pandas in a future version. Use pandas.concat instead.\n",
      "  results = results.append({\n",
      " 99%|█████████▉| 2017/2029 [2:04:17<00:46,  3.85s/it]C:\\Users\\Justin\\AppData\\Local\\Temp\\ipykernel_22308\\573511129.py:89: FutureWarning: The frame.append method is deprecated and will be removed from pandas in a future version. Use pandas.concat instead.\n",
      "  results = results.append({\n",
      " 99%|█████████▉| 2018/2029 [2:04:19<00:37,  3.45s/it]C:\\Users\\Justin\\AppData\\Local\\Temp\\ipykernel_22308\\573511129.py:89: FutureWarning: The frame.append method is deprecated and will be removed from pandas in a future version. Use pandas.concat instead.\n",
      "  results = results.append({\n",
      "100%|█████████▉| 2019/2029 [2:04:26<00:44,  4.42s/it]C:\\Users\\Justin\\AppData\\Local\\Temp\\ipykernel_22308\\573511129.py:89: FutureWarning: The frame.append method is deprecated and will be removed from pandas in a future version. Use pandas.concat instead.\n",
      "  results = results.append({\n",
      "100%|█████████▉| 2020/2029 [2:04:28<00:32,  3.60s/it]C:\\Users\\Justin\\AppData\\Local\\Temp\\ipykernel_22308\\573511129.py:89: FutureWarning: The frame.append method is deprecated and will be removed from pandas in a future version. Use pandas.concat instead.\n",
      "  results = results.append({\n",
      "100%|█████████▉| 2022/2029 [2:04:39<00:33,  4.83s/it]"
     ]
    },
    {
     "name": "stdout",
     "output_type": "stream",
     "text": [
      "Error occurred: 'NoneType' object has no attribute 'text'\n"
     ]
    },
    {
     "name": "stderr",
     "output_type": "stream",
     "text": [
      "C:\\Users\\Justin\\AppData\\Local\\Temp\\ipykernel_22308\\573511129.py:89: FutureWarning: The frame.append method is deprecated and will be removed from pandas in a future version. Use pandas.concat instead.\n",
      "  results = results.append({\n",
      "100%|█████████▉| 2023/2029 [2:04:49<00:37,  6.27s/it]C:\\Users\\Justin\\AppData\\Local\\Temp\\ipykernel_22308\\573511129.py:89: FutureWarning: The frame.append method is deprecated and will be removed from pandas in a future version. Use pandas.concat instead.\n",
      "  results = results.append({\n",
      "100%|█████████▉| 2024/2029 [2:04:54<00:29,  5.84s/it]C:\\Users\\Justin\\AppData\\Local\\Temp\\ipykernel_22308\\573511129.py:89: FutureWarning: The frame.append method is deprecated and will be removed from pandas in a future version. Use pandas.concat instead.\n",
      "  results = results.append({\n",
      "100%|█████████▉| 2025/2029 [2:04:57<00:19,  4.97s/it]C:\\Users\\Justin\\AppData\\Local\\Temp\\ipykernel_22308\\573511129.py:89: FutureWarning: The frame.append method is deprecated and will be removed from pandas in a future version. Use pandas.concat instead.\n",
      "  results = results.append({\n",
      "100%|█████████▉| 2026/2029 [2:04:58<00:11,  3.87s/it]C:\\Users\\Justin\\AppData\\Local\\Temp\\ipykernel_22308\\573511129.py:89: FutureWarning: The frame.append method is deprecated and will be removed from pandas in a future version. Use pandas.concat instead.\n",
      "  results = results.append({\n",
      "100%|█████████▉| 2027/2029 [2:05:03<00:08,  4.13s/it]C:\\Users\\Justin\\AppData\\Local\\Temp\\ipykernel_22308\\573511129.py:89: FutureWarning: The frame.append method is deprecated and will be removed from pandas in a future version. Use pandas.concat instead.\n",
      "  results = results.append({\n",
      "100%|█████████▉| 2028/2029 [2:05:04<00:03,  3.26s/it]C:\\Users\\Justin\\AppData\\Local\\Temp\\ipykernel_22308\\573511129.py:89: FutureWarning: The frame.append method is deprecated and will be removed from pandas in a future version. Use pandas.concat instead.\n",
      "  results = results.append({\n",
      "100%|██████████| 2029/2029 [2:05:06<00:00,  3.70s/it]\n"
     ]
    }
   ],
   "source": [
    "base_game_url = 'https://www.espn.com/college-baseball/boxscore/_/gameId/'\n",
    "# Original ID - running out of free scrapes\n",
    "# scraper_base = \"http://api.scraperapi.com?api_key=7efbd1c22cb922745d8db50ce534d460&url=\"\n",
    "\n",
    "## New Scraper API key for bakedmitten account with capacity from free trial \n",
    "scraper_base = \"http://api.scraperapi.com?api_key=b2de904aa0a3f2c87c4f7724e7085ddb&url=\"\n",
    "\n",
    "\n",
    "######### SETTINGS #########\n",
    "####################################################################\n",
    "# List of urls\n",
    "urls = [scraper_base + base_game_url + game_id for game_id in game_ids]\n",
    "\n",
    "\n",
    "## Test URL\n",
    "# urls = ['http://api.scraperapi.com?api_key=7efbd1c22cb922745d8db50ce534d460&url=https://www.espn.com/college-baseball/boxscore/_/gameId/401517594', 'http://api.scraperapi.com?api_key=7efbd1c22cb922745d8db50ce534d460&url=https://www.espn.com/college-baseball/boxscore/_/gameId/401552625']\n",
    "\n",
    "save_interval = 50\n",
    "request_counter = 0\n",
    "\n",
    "# Initialize DataFrame for results\n",
    "results = pd.DataFrame(columns=['location', 'date', 'time', 'team_1', 'team_2', 'runs_1', 'hits_1', 'errors_1', 'home_runs_1', 'runs_2', 'hits_2', 'errors_2', 'home_runs_2'])\n",
    "\n",
    "# Initialize UserAgent\n",
    "ua = UserAgent()\n",
    "\n",
    "# You have to define proxy and headers before using them\n",
    "proxy = {}  # replace this with your proxy dictionary\n",
    "headers = {\"User-Agent\": ua.random}\n",
    "\n",
    "for url in tqdm(urls):\n",
    "    try:\n",
    "        response = requests.get(url, headers=headers)\n",
    "\n",
    "        if response.status_code == 200:\n",
    "            # Increment the request counter\n",
    "            request_counter += 1\n",
    "\n",
    "            soup = BeautifulSoup(response.content, 'html.parser')\n",
    "\n",
    "            # Load tables from url content\n",
    "            tables = pd.read_html(response.content)\n",
    "\n",
    "            # The second table contains the data we're interested in\n",
    "            score_table = tables[1]\n",
    "\n",
    "            ## Original Code that returned abreviated team names\n",
    "            # # The team names are in the first table\n",
    "            # team_table = tables[0]\n",
    "            # team_1 = team_table.iloc[0, 0]\n",
    "            # team_2 = team_table.iloc[1, 0]\n",
    "\n",
    "            ## new Code with full team names\n",
    "            ## Header with full team names\n",
    "            header = soup.find('div', attrs={'Gamestrip__Competitors relative flex'})\n",
    "            team_1 = header.find_all('h2')[0].text\n",
    "            team_2 = header.find_all('h2')[1].text\n",
    "\n",
    "\n",
    "\n",
    "            # Extract the runs, hits, and errors for each team\n",
    "            runs_1, hits_1, errors_1 = score_table.iloc[0, -3:]\n",
    "            runs_2, hits_2, errors_2 = score_table.iloc[1, -3:]\n",
    "\n",
    "            # The team's home runs are in tables 3 and 9\n",
    "            # Convert the 'HR' column to numeric before summing\n",
    "            home_runs_1 = pd.to_numeric(tables[3]['HR'].iloc[-1])  # Sum the HR column for team 1\n",
    "            home_runs_2 = pd.to_numeric(tables[5]['HR'].iloc[-1])  # Sum the HR column for team 2\n",
    "            home_runs = home_runs_1 + home_runs_2\n",
    "\n",
    "            location = soup.find('div', {'class': 'n6 clr-gray-03 GameInfo__Location__Name--noImg'}).text\n",
    "            meta = soup.find('div', {'class': 'n8 GameInfo__Meta'}).text.split(',')\n",
    "            time = meta[0]\n",
    "            ## DATE IS IN THE SAME SECTION between the first and second comma\n",
    "            date = meta[1]\n",
    "            ## Year after the second comma and before word \"Coverage\"\n",
    "            year = meta[2].split(' ')[1]\n",
    "            # If \"Coverage:\" is in year remove it\n",
    "            if 'Coverage:' in year:\n",
    "                year = year[:-9]\n",
    "            # If \"Coverage\" is in year remove it\n",
    "\n",
    "            \n",
    "            \n",
    "\n",
    "            \n",
    "\n",
    "            # Add the results to the results dataframe\n",
    "            results = results.append({ \n",
    "                'year': year, 'date': date,  'location': location, 'time': time, \n",
    "                'team_1': team_1, 'team_2': team_2,\n",
    "                'runs_1': runs_1, 'hits_1': hits_1, 'errors_1': errors_1, \n",
    "                'runs_2': runs_2, 'hits_2': hits_2, 'errors_2': errors_2,\n",
    "                \n",
    "                'home_runs_1': home_runs_1, 'home_runs_2': home_runs_2, 'home_runs': home_runs,\n",
    "            }, ignore_index=True)\n",
    "\n",
    "        else:\n",
    "            print(f\"Error: {response.status_code} - {url}\")\n",
    "            continue\n",
    "\n",
    "        sleep(.1)  # waits for 1 second\n",
    "\n",
    "        # If we've hit the saving interval, write the DataFrame to a CSV\n",
    "        if request_counter % save_interval == 0:\n",
    "            results.to_csv(f'TEMP/NCAA_Partial/{request_counter}_data_saved.csv', index=False)\n",
    "            print(f\"Data saved to CSV after {request_counter} requests.\")\n",
    "\n",
    "    except Exception as e:\n",
    "        print(f\"Error occurred: {e}\")\n",
    "        continue\n",
    "\n",
    "\n",
    "    \n",
    "\n"
   ]
  },
  {
   "cell_type": "code",
   "execution_count": 8,
   "metadata": {},
   "outputs": [
    {
     "name": "stdout",
     "output_type": "stream",
     "text": [
      "<class 'pandas.core.frame.DataFrame'>\n",
      "RangeIndex: 1734 entries, 0 to 1733\n",
      "Data columns (total 15 columns):\n",
      " #   Column       Non-Null Count  Dtype  \n",
      "---  ------       --------------  -----  \n",
      " 0   location     1734 non-null   object \n",
      " 1   date         1734 non-null   object \n",
      " 2   time         1734 non-null   object \n",
      " 3   team_1       1734 non-null   object \n",
      " 4   team_2       1734 non-null   object \n",
      " 5   runs_1       1734 non-null   object \n",
      " 6   hits_1       1734 non-null   object \n",
      " 7   errors_1     1734 non-null   object \n",
      " 8   home_runs_1  1734 non-null   object \n",
      " 9   runs_2       1734 non-null   object \n",
      " 10  hits_2       1734 non-null   object \n",
      " 11  errors_2     1734 non-null   object \n",
      " 12  home_runs_2  1734 non-null   object \n",
      " 13  home_runs    1734 non-null   float64\n",
      " 14  year         1734 non-null   object \n",
      "dtypes: float64(1), object(14)\n",
      "memory usage: 203.3+ KB\n"
     ]
    },
    {
     "data": {
      "text/html": [
       "<div>\n",
       "<style scoped>\n",
       "    .dataframe tbody tr th:only-of-type {\n",
       "        vertical-align: middle;\n",
       "    }\n",
       "\n",
       "    .dataframe tbody tr th {\n",
       "        vertical-align: top;\n",
       "    }\n",
       "\n",
       "    .dataframe thead th {\n",
       "        text-align: right;\n",
       "    }\n",
       "</style>\n",
       "<table border=\"1\" class=\"dataframe\">\n",
       "  <thead>\n",
       "    <tr style=\"text-align: right;\">\n",
       "      <th></th>\n",
       "      <th>location</th>\n",
       "      <th>date</th>\n",
       "      <th>time</th>\n",
       "      <th>team_1</th>\n",
       "      <th>team_2</th>\n",
       "      <th>runs_1</th>\n",
       "      <th>hits_1</th>\n",
       "      <th>errors_1</th>\n",
       "      <th>home_runs_1</th>\n",
       "      <th>runs_2</th>\n",
       "      <th>hits_2</th>\n",
       "      <th>errors_2</th>\n",
       "      <th>home_runs_2</th>\n",
       "      <th>home_runs</th>\n",
       "      <th>year</th>\n",
       "    </tr>\n",
       "  </thead>\n",
       "  <tbody>\n",
       "    <tr>\n",
       "      <th>0</th>\n",
       "      <td>Lewis Field at Clark-LeClair Stadium</td>\n",
       "      <td>June 10</td>\n",
       "      <td>12:00 PM</td>\n",
       "      <td>Texas Longhorns</td>\n",
       "      <td>East Carolina Pirates</td>\n",
       "      <td>7</td>\n",
       "      <td>13</td>\n",
       "      <td>0</td>\n",
       "      <td>4</td>\n",
       "      <td>13</td>\n",
       "      <td>15</td>\n",
       "      <td>0</td>\n",
       "      <td>3</td>\n",
       "      <td>7.0</td>\n",
       "      <td>2022</td>\n",
       "    </tr>\n",
       "    <tr>\n",
       "      <th>1</th>\n",
       "      <td>Condron Family Ballpark</td>\n",
       "      <td>April 25</td>\n",
       "      <td>6:47 PM</td>\n",
       "      <td>North Florida Ospreys</td>\n",
       "      <td>Florida Gators</td>\n",
       "      <td>2</td>\n",
       "      <td>11</td>\n",
       "      <td>0</td>\n",
       "      <td>0</td>\n",
       "      <td>6</td>\n",
       "      <td>8</td>\n",
       "      <td>1</td>\n",
       "      <td>1</td>\n",
       "      <td>1.0</td>\n",
       "      <td>2023</td>\n",
       "    </tr>\n",
       "    <tr>\n",
       "      <th>2</th>\n",
       "      <td>Charlie and Marie Lupton Baseball Stadium at W...</td>\n",
       "      <td>April 16</td>\n",
       "      <td>2:00 PM</td>\n",
       "      <td>UNC Wilmington Seahawks</td>\n",
       "      <td>TCU Horned Frogs</td>\n",
       "      <td>12</td>\n",
       "      <td>11</td>\n",
       "      <td>2</td>\n",
       "      <td>1</td>\n",
       "      <td>6</td>\n",
       "      <td>4</td>\n",
       "      <td>1</td>\n",
       "      <td>3</td>\n",
       "      <td>4.0</td>\n",
       "      <td>2023</td>\n",
       "    </tr>\n",
       "    <tr>\n",
       "      <th>3</th>\n",
       "      <td>Condron Family Ballpark</td>\n",
       "      <td>March 5</td>\n",
       "      <td>12:00 PM</td>\n",
       "      <td>Miami Hurricanes</td>\n",
       "      <td>Florida Gators</td>\n",
       "      <td>4</td>\n",
       "      <td>8</td>\n",
       "      <td>0</td>\n",
       "      <td>0</td>\n",
       "      <td>14</td>\n",
       "      <td>14</td>\n",
       "      <td>0</td>\n",
       "      <td>4</td>\n",
       "      <td>4.0</td>\n",
       "      <td>2023</td>\n",
       "    </tr>\n",
       "    <tr>\n",
       "      <th>4</th>\n",
       "      <td>Hoglund Ballpark</td>\n",
       "      <td>April 14</td>\n",
       "      <td>4:00 PM</td>\n",
       "      <td>Kansas State Wildcats</td>\n",
       "      <td>Kansas Jayhawks</td>\n",
       "      <td>5</td>\n",
       "      <td>8</td>\n",
       "      <td>0</td>\n",
       "      <td>1</td>\n",
       "      <td>4</td>\n",
       "      <td>7</td>\n",
       "      <td>1</td>\n",
       "      <td>0</td>\n",
       "      <td>1.0</td>\n",
       "      <td>2023</td>\n",
       "    </tr>\n",
       "  </tbody>\n",
       "</table>\n",
       "</div>"
      ],
      "text/plain": [
       "                                            location       date      time  \\\n",
       "0               Lewis Field at Clark-LeClair Stadium    June 10  12:00 PM   \n",
       "1                            Condron Family Ballpark   April 25   6:47 PM   \n",
       "2  Charlie and Marie Lupton Baseball Stadium at W...   April 16   2:00 PM   \n",
       "3                            Condron Family Ballpark    March 5  12:00 PM   \n",
       "4                                   Hoglund Ballpark   April 14   4:00 PM   \n",
       "\n",
       "                    team_1                 team_2 runs_1 hits_1 errors_1  \\\n",
       "0          Texas Longhorns  East Carolina Pirates      7     13        0   \n",
       "1    North Florida Ospreys         Florida Gators      2     11        0   \n",
       "2  UNC Wilmington Seahawks       TCU Horned Frogs     12     11        2   \n",
       "3         Miami Hurricanes         Florida Gators      4      8        0   \n",
       "4    Kansas State Wildcats        Kansas Jayhawks      5      8        0   \n",
       "\n",
       "  home_runs_1 runs_2 hits_2 errors_2 home_runs_2  home_runs  year  \n",
       "0           4     13     15        0           3        7.0  2022  \n",
       "1           0      6      8        1           1        1.0  2023  \n",
       "2           1      6      4        1           3        4.0  2023  \n",
       "3           0     14     14        0           4        4.0  2023  \n",
       "4           1      4      7        1           0        1.0  2023  "
      ]
     },
     "execution_count": 8,
     "metadata": {},
     "output_type": "execute_result"
    }
   ],
   "source": [
    "results.info()\n",
    "results.head()"
   ]
  },
  {
   "cell_type": "code",
   "execution_count": 9,
   "metadata": {},
   "outputs": [
    {
     "name": "stdout",
     "output_type": "stream",
     "text": [
      "<class 'pandas.core.frame.DataFrame'>\n",
      "RangeIndex: 1734 entries, 0 to 1733\n",
      "Data columns (total 15 columns):\n",
      " #   Column       Non-Null Count  Dtype  \n",
      "---  ------       --------------  -----  \n",
      " 0   location     1734 non-null   object \n",
      " 1   date         1734 non-null   object \n",
      " 2   time         1734 non-null   object \n",
      " 3   team_1       1734 non-null   object \n",
      " 4   team_2       1734 non-null   object \n",
      " 5   runs_1       1734 non-null   object \n",
      " 6   hits_1       1734 non-null   object \n",
      " 7   errors_1     1734 non-null   object \n",
      " 8   home_runs_1  1734 non-null   object \n",
      " 9   runs_2       1734 non-null   object \n",
      " 10  hits_2       1734 non-null   object \n",
      " 11  errors_2     1734 non-null   object \n",
      " 12  home_runs_2  1734 non-null   object \n",
      " 13  home_runs    1734 non-null   float64\n",
      " 14  year         1734 non-null   object \n",
      "dtypes: float64(1), object(14)\n",
      "memory usage: 203.3+ KB\n"
     ]
    },
    {
     "data": {
      "text/plain": [
       "Charles Schwab Field                 78\n",
       "Baum-Walker Stadium                  67\n",
       "Bryson Field at Boshamer Stadium     60\n",
       "Hawkins Field                        57\n",
       "UFCU Disch-Falk Field                57\n",
       "                                     ..\n",
       "Kauffman Stadium                      1\n",
       "FedExPark Avron Fogelman Field        1\n",
       "Cleveland S. Harley Baseball Park     1\n",
       "Dickey-Stephens Park                  1\n",
       "Tomlinson Stadium–Kell Field          1\n",
       "Name: location, Length: 102, dtype: int64"
      ]
     },
     "execution_count": 9,
     "metadata": {},
     "output_type": "execute_result"
    }
   ],
   "source": [
    "results.tail()\n",
    "\n",
    "results.info()\n",
    "\n",
    "## Sum of home runs\n",
    "results['home_runs'].sum()\n",
    "\n",
    "## location value counts\n",
    "results['location'].value_counts()"
   ]
  },
  {
   "cell_type": "code",
   "execution_count": 10,
   "metadata": {},
   "outputs": [],
   "source": [
    "### Save to CSV\n",
    "\n",
    "## Partial file because of the http error\n",
    "results.to_csv('TEMP/NEW_HR_Scrape_with full_team_names.csv', index=False)"
   ]
  },
  {
   "cell_type": "code",
   "execution_count": null,
   "metadata": {},
   "outputs": [],
   "source": []
  },
  {
   "cell_type": "code",
   "execution_count": null,
   "metadata": {},
   "outputs": [],
   "source": []
  }
 ],
 "metadata": {
  "kernelspec": {
   "display_name": "base",
   "language": "python",
   "name": "python3"
  },
  "language_info": {
   "codemirror_mode": {
    "name": "ipython",
    "version": 3
   },
   "file_extension": ".py",
   "mimetype": "text/x-python",
   "name": "python",
   "nbconvert_exporter": "python",
   "pygments_lexer": "ipython3",
   "version": "3.9.12"
  },
  "orig_nbformat": 4
 },
 "nbformat": 4,
 "nbformat_minor": 2
}
