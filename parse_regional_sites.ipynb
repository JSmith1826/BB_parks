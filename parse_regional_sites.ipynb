{
 "cells": [
  {
   "cell_type": "code",
   "execution_count": null,
   "metadata": {},
   "outputs": [],
   "source": []
  },
  {
   "attachments": {},
   "cell_type": "markdown",
   "metadata": {},
   "source": [
    "## Notebook to pull all regional sites from the 2022 MHSAA Baseball tournement\n",
    "\n",
    "\n",
    "\n",
    "\n"
   ]
  },
  {
   "cell_type": "code",
   "execution_count": 1,
   "metadata": {},
   "outputs": [],
   "source": [
    "from bs4 import BeautifulSoup\n",
    "import requests\n",
    "\n",
    "\n",
    "\n",
    "d1_link = 'https://my.mhsaa.com/Sports/MHSAA-Tournament-Brackets/BracketGroup/9/SportSeasonId/421324/Classification/1'\n",
    "d2_link = 'https://my.mhsaa.com/Sports/MHSAA-Tournament-Brackets/BracketGroup/9/SportSeasonId/421324/Classification/2'\n",
    "d3_link = 'https://my.mhsaa.com/Sports/MHSAA-Tournament-Brackets/BracketGroup/9/SportSeasonId/421324/Classification/3'\n",
    "d4_link = 'https://my.mhsaa.com/Sports/MHSAA-Tournament-Brackets/BracketGroup/9/SportSeasonId/421324/Classification/4'\n",
    "\n",
    "divs = [d1_link, d2_link, d3_link, d4_link]\n",
    "\n"
   ]
  },
  {
   "cell_type": "code",
   "execution_count": 2,
   "metadata": {},
   "outputs": [],
   "source": [
    "#thirdLevelContests > div > div.contestboxhover > div.contestinfo > span.contestlocation >\n",
    "\n",
    "\n",
    "# use python and beautiful soup to parse all of the the location names and map links from the span.contestlocation tag in this url https://my.mhsaa.com/Sports/MHSAA-Tournament-Brackets/BracketGroup/9/SportSeasonId/421324/Classification/1\n",
    "\n",
    "# return the results as a pandas dataframe\n",
    "\n",
    "import requests\n",
    "from bs4 import BeautifulSoup\n",
    "import pandas as pd\n",
    "\n",
    "i = 4\n",
    "\n",
    "# Request HTML\n",
    "url = f'https://my.mhsaa.com/Sports/MHSAA-Tournament-Brackets/BracketGroup/9/SportSeasonId/421324/Classification/{i}'\n",
    "html = requests.get(url).content\n",
    "\n",
    "# Parse HTML\n",
    "soup = BeautifulSoup(html, 'html.parser')\n",
    "\n",
    "# Find all location tags\n",
    "locations = soup.find_all('span', {'class': 'contestlocation'})\n",
    "\n",
    "# Pull out location and map link\n",
    "data = []\n",
    "for location in locations:\n",
    "    loc = location.text.strip()\n",
    "    link = location.find('a')['href']\n",
    "    div = 'D'\n",
    "    data.append([loc, link, div])\n",
    "\n",
    "# Create DataFrame\n",
    "df_4 = pd.DataFrame(data, columns=['Location', 'Map Link', 'Division'])\n",
    "\n",
    "####### DOING IT DIRTY TO JUST GET THE DATA I WANT ########\n"
   ]
  },
  {
   "cell_type": "code",
   "execution_count": 3,
   "metadata": {},
   "outputs": [
    {
     "ename": "NameError",
     "evalue": "name 'df_1' is not defined",
     "output_type": "error",
     "traceback": [
      "\u001b[1;31m---------------------------------------------------------------------------\u001b[0m",
      "\u001b[1;31mNameError\u001b[0m                                 Traceback (most recent call last)",
      "\u001b[1;32mc:\\Users\\Justin\\Desktop\\Project\\BB_parks\\parse_regional_sites.ipynb Cell 5\u001b[0m in \u001b[0;36m<cell line: 1>\u001b[1;34m()\u001b[0m\n\u001b[1;32m----> <a href='vscode-notebook-cell:/c%3A/Users/Justin/Desktop/Project/BB_parks/parse_regional_sites.ipynb#W4sZmlsZQ%3D%3D?line=0'>1</a>\u001b[0m df_1\n",
      "\u001b[1;31mNameError\u001b[0m: name 'df_1' is not defined"
     ]
    }
   ],
   "source": [
    "df_1"
   ]
  },
  {
   "cell_type": "code",
   "execution_count": null,
   "metadata": {},
   "outputs": [],
   "source": [
    "#### Combine all the dataframes into one\n",
    "\n",
    "df = pd.concat([df_1, df_2, df_3, df_4])\n",
    "\n",
    "df.info()\n",
    "\n",
    "\n",
    "# drop duplicates\n",
    "\n",
    "df.drop_duplicates(inplace=True)\n",
    "df.info()\n",
    "\n",
    "# ### Outpu to csv\n",
    "\n",
    "df.to_csv('data/school_info//regional_locations_all.csv', index=False)\n",
    "\n",
    "## Working for basic columns, \n",
    "## Want to make a column to show the division\n",
    "\n",
    "\n"
   ]
  },
  {
   "cell_type": "code",
   "execution_count": 21,
   "metadata": {},
   "outputs": [
    {
     "name": "stdout",
     "output_type": "stream",
     "text": [
      "<class 'pandas.core.frame.DataFrame'>\n",
      "RangeIndex: 296 entries, 0 to 295\n",
      "Data columns (total 11 columns):\n",
      " #   Column        Non-Null Count  Dtype  \n",
      "---  ------        --------------  -----  \n",
      " 0   name          0 non-null      float64\n",
      " 1   foul          296 non-null    object \n",
      " 2   fop           296 non-null    object \n",
      " 3   field         296 non-null    object \n",
      " 4   home_plate    296 non-null    object \n",
      " 5   fop_list      296 non-null    object \n",
      " 6   level         296 non-null    object \n",
      " 7   distance      296 non-null    object \n",
      " 8   min_distance  296 non-null    float64\n",
      " 9   max_distance  296 non-null    float64\n",
      " 10  avg_distance  0 non-null      float64\n",
      "dtypes: float64(4), object(7)\n",
      "memory usage: 25.6+ KB\n",
      "<class 'pandas.core.frame.DataFrame'>\n",
      "RangeIndex: 78 entries, 0 to 77\n",
      "Data columns (total 3 columns):\n",
      " #   Column    Non-Null Count  Dtype \n",
      "---  ------    --------------  ----- \n",
      " 0   Location  78 non-null     object\n",
      " 1   Map Link  78 non-null     object\n",
      " 2   Division  78 non-null     object\n",
      "dtypes: object(3)\n",
      "memory usage: 2.0+ KB\n"
     ]
    }
   ],
   "source": [
    "\n",
    "mhsaa_file = 'data/viz/viz_book_distance.csv'\n",
    "\n",
    "regional_file = 'data/school_info//regional_locations_all.csv'\n",
    "\n",
    "plot_df = pd.read_csv(mhsaa_file)\n",
    "\n",
    "regional_df = pd.read_csv(regional_file)\n",
    "\n",
    "### Clean up some of the school names\n",
    "\n",
    "regional_df['Location'] = regional_df['Location'].str.replace('High School', 'HS')\n",
    "regional_df['Location'] = regional_df['Location'].str.replace('MAP','')\n",
    "regional_df['Location'] = regional_df['Location'].str.replace('-', '')\n",
    "regional_df['Location'] = regional_df['Location'].str.replace('Baseball', '')\n",
    "plot_df.info()\n",
    "regional_df.info()\n",
    "\n",
    "### Use fuzzywuzzy to match the school names\n",
    "\n",
    "from fuzzywuzzy import fuzz\n",
    "from fuzzywuzzy import process\n",
    "\n",
    "# school names from mhsaa\n",
    "plot_schools = plot_df['field'].tolist()\n",
    "\n",
    "# field names from regional locations\n",
    "regional_schools = regional_df['Location'].tolist()\n",
    "\n",
    "## Empty list for results\n",
    "matches = []\n",
    "\n",
    "for i in range(len(regional_schools)):\n",
    "    mat = process.extract(regional_schools[i], plot_schools, limit=1)\n",
    "\n",
    "    matches.append(mat)\n",
    "\n",
    "\n",
    "## Split the list of tuples into two lists\n",
    "\n",
    "school_names = []\n",
    "scores = []\n",
    "\n",
    "for i in range(len(matches)):\n",
    "    school_names.append(matches[i][0][0])\n",
    "    scores.append(matches[i][0][1])\n",
    "\n",
    "\n",
    "## Add the matches to the regional dataframe\n",
    "\n",
    "regional_df['plot_match'] = school_names\n",
    "regional_df['score'] = scores\n",
    "\n",
    "regional_df.head()\n",
    "# match the school names\n",
    "\n",
    "\n",
    "# matches\n",
    "# print(regional_schools)\n",
    "\n",
    "### Output csv for check\n",
    "\n",
    "regional_df.to_csv('TEMP/regional_locations_all.csv', index=False)\n"
   ]
  },
  {
   "cell_type": "code",
   "execution_count": null,
   "metadata": {},
   "outputs": [
    {
     "ename": "IndexError",
     "evalue": "list index out of range",
     "output_type": "error",
     "traceback": [
      "\u001b[1;31m---------------------------------------------------------------------------\u001b[0m",
      "\u001b[1;31mIndexError\u001b[0m                                Traceback (most recent call last)",
      "\u001b[1;32mc:\\Users\\Justin\\Desktop\\Project\\BB_parks\\parse_regional_sites.ipynb Cell 8\u001b[0m in \u001b[0;36m<cell line: 9>\u001b[1;34m()\u001b[0m\n\u001b[0;32m      <a href='vscode-notebook-cell:/c%3A/Users/Justin/Desktop/Project/BB_parks/parse_regional_sites.ipynb#X12sZmlsZQ%3D%3D?line=5'>6</a>\u001b[0m \u001b[39mfor\u001b[39;00m row \u001b[39min\u001b[39;00m \u001b[39mrange\u001b[39m(\u001b[39mlen\u001b[39m(regional_schools)):\n\u001b[0;32m      <a href='vscode-notebook-cell:/c%3A/Users/Justin/Desktop/Project/BB_parks/parse_regional_sites.ipynb#X12sZmlsZQ%3D%3D?line=6'>7</a>\u001b[0m     matches \u001b[39m=\u001b[39m process\u001b[39m.\u001b[39mextract(regional_schools[row], mhsaa_schools, limit\u001b[39m=\u001b[39m\u001b[39m1\u001b[39m)\n\u001b[1;32m----> <a href='vscode-notebook-cell:/c%3A/Users/Justin/Desktop/Project/BB_parks/parse_regional_sites.ipynb#X12sZmlsZQ%3D%3D?line=8'>9</a>\u001b[0m matches[\u001b[39m1\u001b[39;49m]\n",
      "\u001b[1;31mIndexError\u001b[0m: list index out of range"
     ]
    }
   ],
   "source": [
    "\n",
    "\n",
    "\n",
    "\n"
   ]
  },
  {
   "cell_type": "code",
   "execution_count": null,
   "metadata": {},
   "outputs": [],
   "source": []
  },
  {
   "cell_type": "code",
   "execution_count": null,
   "metadata": {},
   "outputs": [],
   "source": [
    "#thirdLevelContests > div > div.contestboxhover > div.contestinfo > span.contestlocation\n",
    "\n",
    "\n",
    "#### Get all the contest locations the page\n",
    "def get_contest_locations(page):\n",
    "    soup = BeautifulSoup(page, 'html.parser')\n",
    "    contest_locations = soup.select('span.contestlocation')\n",
    "    return contest_locations\n",
    "\n"
   ]
  },
  {
   "cell_type": "code",
   "execution_count": null,
   "metadata": {},
   "outputs": [],
   "source": [
    "get_contest_locations(d1_link)\n",
    "print(get_contest_locations(d1_link))"
   ]
  }
 ],
 "metadata": {
  "kernelspec": {
   "display_name": "base",
   "language": "python",
   "name": "python3"
  },
  "language_info": {
   "codemirror_mode": {
    "name": "ipython",
    "version": 3
   },
   "file_extension": ".py",
   "mimetype": "text/x-python",
   "name": "python",
   "nbconvert_exporter": "python",
   "pygments_lexer": "ipython3",
   "version": "3.9.12 (main, Apr  4 2022, 05:22:27) [MSC v.1916 64 bit (AMD64)]"
  },
  "orig_nbformat": 4,
  "vscode": {
   "interpreter": {
    "hash": "3071ee50c89c1c794c04ecbcb4eb8f9585468a45756c3a74d8e9479e4a2bc436"
   }
  }
 },
 "nbformat": 4,
 "nbformat_minor": 2
}
