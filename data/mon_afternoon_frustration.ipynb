{
 "cells": [
  {
   "cell_type": "code",
   "execution_count": null,
   "metadata": {},
   "outputs": [],
   "source": [
    "### Notebook for plotting graphics from polygons\n",
    "\n",
    "import matplotlib.pyplot as plt\n",
    "import numpy as np\n",
    "import pandas as pd\n",
    "import geopandas as gpd\n",
    "from shapely.geometry import Point, Polygon\n",
    "from shapely.geometry import MultiPolygon\n",
    "from bs4 import BeautifulSoup"
   ]
  },
  {
   "cell_type": "code",
   "execution_count": 1,
   "metadata": {},
   "outputs": [
    {
     "ename": "ValueError",
     "evalue": "could not convert string to float: 'ON'",
     "output_type": "error",
     "traceback": [
      "\u001b[1;31m---------------------------------------------------------------------------\u001b[0m",
      "\u001b[1;31mValueError\u001b[0m                                Traceback (most recent call last)",
      "\u001b[1;32mc:\\Users\\Justin\\Desktop\\Project\\BB_parks\\data\\mon_afternoon_frustration.ipynb Cell 2\u001b[0m in \u001b[0;36m<cell line: 26>\u001b[1;34m()\u001b[0m\n\u001b[0;32m     <a href='vscode-notebook-cell:/c%3A/Users/Justin/Desktop/Project/BB_parks/data/mon_afternoon_frustration.ipynb#X20sZmlsZQ%3D%3D?line=23'>24</a>\u001b[0m \u001b[39m# Extract 'Homeplate' and 'poly' data\u001b[39;00m\n\u001b[0;32m     <a href='vscode-notebook-cell:/c%3A/Users/Justin/Desktop/Project/BB_parks/data/mon_afternoon_frustration.ipynb#X20sZmlsZQ%3D%3D?line=24'>25</a>\u001b[0m df[\u001b[39m'\u001b[39m\u001b[39mhomeplate_coords\u001b[39m\u001b[39m'\u001b[39m] \u001b[39m=\u001b[39m df[\u001b[39m'\u001b[39m\u001b[39mhomeplate\u001b[39m\u001b[39m'\u001b[39m]\u001b[39m.\u001b[39mapply(string_to_tuple)\n\u001b[1;32m---> <a href='vscode-notebook-cell:/c%3A/Users/Justin/Desktop/Project/BB_parks/data/mon_afternoon_frustration.ipynb#X20sZmlsZQ%3D%3D?line=25'>26</a>\u001b[0m df[\u001b[39m'\u001b[39m\u001b[39mpolygon\u001b[39m\u001b[39m'\u001b[39m] \u001b[39m=\u001b[39m df[\u001b[39m'\u001b[39;49m\u001b[39mpoly\u001b[39;49m\u001b[39m'\u001b[39;49m]\u001b[39m.\u001b[39;49mapply(string_to_polygon)\n\u001b[0;32m     <a href='vscode-notebook-cell:/c%3A/Users/Justin/Desktop/Project/BB_parks/data/mon_afternoon_frustration.ipynb#X20sZmlsZQ%3D%3D?line=27'>28</a>\u001b[0m \u001b[39m# Create a GeoDataFrame using the 'polygon' column\u001b[39;00m\n\u001b[0;32m     <a href='vscode-notebook-cell:/c%3A/Users/Justin/Desktop/Project/BB_parks/data/mon_afternoon_frustration.ipynb#X20sZmlsZQ%3D%3D?line=28'>29</a>\u001b[0m gdf \u001b[39m=\u001b[39m GeoDataFrame(df, geometry\u001b[39m=\u001b[39m\u001b[39m'\u001b[39m\u001b[39mpolygon\u001b[39m\u001b[39m'\u001b[39m, crs\u001b[39m=\u001b[39m\u001b[39m\"\u001b[39m\u001b[39mEPSG:4326\u001b[39m\u001b[39m\"\u001b[39m)\n",
      "File \u001b[1;32mc:\\Users\\Justin\\anaconda3\\lib\\site-packages\\pandas\\core\\series.py:4433\u001b[0m, in \u001b[0;36mSeries.apply\u001b[1;34m(self, func, convert_dtype, args, **kwargs)\u001b[0m\n\u001b[0;32m   4323\u001b[0m \u001b[39mdef\u001b[39;00m \u001b[39mapply\u001b[39m(\n\u001b[0;32m   4324\u001b[0m     \u001b[39mself\u001b[39m,\n\u001b[0;32m   4325\u001b[0m     func: AggFuncType,\n\u001b[1;32m   (...)\u001b[0m\n\u001b[0;32m   4328\u001b[0m     \u001b[39m*\u001b[39m\u001b[39m*\u001b[39mkwargs,\n\u001b[0;32m   4329\u001b[0m ) \u001b[39m-\u001b[39m\u001b[39m>\u001b[39m DataFrame \u001b[39m|\u001b[39m Series:\n\u001b[0;32m   4330\u001b[0m     \u001b[39m\"\"\"\u001b[39;00m\n\u001b[0;32m   4331\u001b[0m \u001b[39m    Invoke function on values of Series.\u001b[39;00m\n\u001b[0;32m   4332\u001b[0m \n\u001b[1;32m   (...)\u001b[0m\n\u001b[0;32m   4431\u001b[0m \u001b[39m    dtype: float64\u001b[39;00m\n\u001b[0;32m   4432\u001b[0m \u001b[39m    \"\"\"\u001b[39;00m\n\u001b[1;32m-> 4433\u001b[0m     \u001b[39mreturn\u001b[39;00m SeriesApply(\u001b[39mself\u001b[39;49m, func, convert_dtype, args, kwargs)\u001b[39m.\u001b[39;49mapply()\n",
      "File \u001b[1;32mc:\\Users\\Justin\\anaconda3\\lib\\site-packages\\pandas\\core\\apply.py:1082\u001b[0m, in \u001b[0;36mSeriesApply.apply\u001b[1;34m(self)\u001b[0m\n\u001b[0;32m   1078\u001b[0m \u001b[39mif\u001b[39;00m \u001b[39misinstance\u001b[39m(\u001b[39mself\u001b[39m\u001b[39m.\u001b[39mf, \u001b[39mstr\u001b[39m):\n\u001b[0;32m   1079\u001b[0m     \u001b[39m# if we are a string, try to dispatch\u001b[39;00m\n\u001b[0;32m   1080\u001b[0m     \u001b[39mreturn\u001b[39;00m \u001b[39mself\u001b[39m\u001b[39m.\u001b[39mapply_str()\n\u001b[1;32m-> 1082\u001b[0m \u001b[39mreturn\u001b[39;00m \u001b[39mself\u001b[39;49m\u001b[39m.\u001b[39;49mapply_standard()\n",
      "File \u001b[1;32mc:\\Users\\Justin\\anaconda3\\lib\\site-packages\\pandas\\core\\apply.py:1137\u001b[0m, in \u001b[0;36mSeriesApply.apply_standard\u001b[1;34m(self)\u001b[0m\n\u001b[0;32m   1131\u001b[0m         values \u001b[39m=\u001b[39m obj\u001b[39m.\u001b[39mastype(\u001b[39mobject\u001b[39m)\u001b[39m.\u001b[39m_values\n\u001b[0;32m   1132\u001b[0m         \u001b[39m# error: Argument 2 to \"map_infer\" has incompatible type\u001b[39;00m\n\u001b[0;32m   1133\u001b[0m         \u001b[39m# \"Union[Callable[..., Any], str, List[Union[Callable[..., Any], str]],\u001b[39;00m\n\u001b[0;32m   1134\u001b[0m         \u001b[39m# Dict[Hashable, Union[Union[Callable[..., Any], str],\u001b[39;00m\n\u001b[0;32m   1135\u001b[0m         \u001b[39m# List[Union[Callable[..., Any], str]]]]]\"; expected\u001b[39;00m\n\u001b[0;32m   1136\u001b[0m         \u001b[39m# \"Callable[[Any], Any]\"\u001b[39;00m\n\u001b[1;32m-> 1137\u001b[0m         mapped \u001b[39m=\u001b[39m lib\u001b[39m.\u001b[39;49mmap_infer(\n\u001b[0;32m   1138\u001b[0m             values,\n\u001b[0;32m   1139\u001b[0m             f,  \u001b[39m# type: ignore[arg-type]\u001b[39;49;00m\n\u001b[0;32m   1140\u001b[0m             convert\u001b[39m=\u001b[39;49m\u001b[39mself\u001b[39;49m\u001b[39m.\u001b[39;49mconvert_dtype,\n\u001b[0;32m   1141\u001b[0m         )\n\u001b[0;32m   1143\u001b[0m \u001b[39mif\u001b[39;00m \u001b[39mlen\u001b[39m(mapped) \u001b[39mand\u001b[39;00m \u001b[39misinstance\u001b[39m(mapped[\u001b[39m0\u001b[39m], ABCSeries):\n\u001b[0;32m   1144\u001b[0m     \u001b[39m# GH#43986 Need to do list(mapped) in order to get treated as nested\u001b[39;00m\n\u001b[0;32m   1145\u001b[0m     \u001b[39m#  See also GH#25959 regarding EA support\u001b[39;00m\n\u001b[0;32m   1146\u001b[0m     \u001b[39mreturn\u001b[39;00m obj\u001b[39m.\u001b[39m_constructor_expanddim(\u001b[39mlist\u001b[39m(mapped), index\u001b[39m=\u001b[39mobj\u001b[39m.\u001b[39mindex)\n",
      "File \u001b[1;32mc:\\Users\\Justin\\anaconda3\\lib\\site-packages\\pandas\\_libs\\lib.pyx:2870\u001b[0m, in \u001b[0;36mpandas._libs.lib.map_infer\u001b[1;34m()\u001b[0m\n",
      "\u001b[1;32mc:\\Users\\Justin\\Desktop\\Project\\BB_parks\\data\\mon_afternoon_frustration.ipynb Cell 2\u001b[0m in \u001b[0;36mstring_to_polygon\u001b[1;34m(string)\u001b[0m\n\u001b[0;32m     <a href='vscode-notebook-cell:/c%3A/Users/Justin/Desktop/Project/BB_parks/data/mon_afternoon_frustration.ipynb#X20sZmlsZQ%3D%3D?line=17'>18</a>\u001b[0m coords_str \u001b[39m=\u001b[39m string[\u001b[39m10\u001b[39m:\u001b[39m-\u001b[39m\u001b[39m1\u001b[39m]\u001b[39m.\u001b[39mreplace(\u001b[39m'\u001b[39m\u001b[39m(\u001b[39m\u001b[39m'\u001b[39m, \u001b[39m'\u001b[39m\u001b[39m'\u001b[39m)\u001b[39m.\u001b[39mreplace(\u001b[39m'\u001b[39m\u001b[39m)\u001b[39m\u001b[39m'\u001b[39m, \u001b[39m'\u001b[39m\u001b[39m'\u001b[39m)\n\u001b[0;32m     <a href='vscode-notebook-cell:/c%3A/Users/Justin/Desktop/Project/BB_parks/data/mon_afternoon_frustration.ipynb#X20sZmlsZQ%3D%3D?line=18'>19</a>\u001b[0m \u001b[39m# Convert the string to a list of coordinate tuples\u001b[39;00m\n\u001b[1;32m---> <a href='vscode-notebook-cell:/c%3A/Users/Justin/Desktop/Project/BB_parks/data/mon_afternoon_frustration.ipynb#X20sZmlsZQ%3D%3D?line=19'>20</a>\u001b[0m coords \u001b[39m=\u001b[39m [\u001b[39mtuple\u001b[39m(\u001b[39mmap\u001b[39m(\u001b[39mfloat\u001b[39m, coord\u001b[39m.\u001b[39msplit()))[:\u001b[39m2\u001b[39m] \u001b[39mfor\u001b[39;00m coord \u001b[39min\u001b[39;00m coords_str\u001b[39m.\u001b[39msplit(\u001b[39m'\u001b[39m\u001b[39m,\u001b[39m\u001b[39m'\u001b[39m)]\n\u001b[0;32m     <a href='vscode-notebook-cell:/c%3A/Users/Justin/Desktop/Project/BB_parks/data/mon_afternoon_frustration.ipynb#X20sZmlsZQ%3D%3D?line=20'>21</a>\u001b[0m \u001b[39m# Create a Polygon object\u001b[39;00m\n\u001b[0;32m     <a href='vscode-notebook-cell:/c%3A/Users/Justin/Desktop/Project/BB_parks/data/mon_afternoon_frustration.ipynb#X20sZmlsZQ%3D%3D?line=21'>22</a>\u001b[0m \u001b[39mreturn\u001b[39;00m Polygon(coords)\n",
      "\u001b[1;32mc:\\Users\\Justin\\Desktop\\Project\\BB_parks\\data\\mon_afternoon_frustration.ipynb Cell 2\u001b[0m in \u001b[0;36m<listcomp>\u001b[1;34m(.0)\u001b[0m\n\u001b[0;32m     <a href='vscode-notebook-cell:/c%3A/Users/Justin/Desktop/Project/BB_parks/data/mon_afternoon_frustration.ipynb#X20sZmlsZQ%3D%3D?line=17'>18</a>\u001b[0m coords_str \u001b[39m=\u001b[39m string[\u001b[39m10\u001b[39m:\u001b[39m-\u001b[39m\u001b[39m1\u001b[39m]\u001b[39m.\u001b[39mreplace(\u001b[39m'\u001b[39m\u001b[39m(\u001b[39m\u001b[39m'\u001b[39m, \u001b[39m'\u001b[39m\u001b[39m'\u001b[39m)\u001b[39m.\u001b[39mreplace(\u001b[39m'\u001b[39m\u001b[39m)\u001b[39m\u001b[39m'\u001b[39m, \u001b[39m'\u001b[39m\u001b[39m'\u001b[39m)\n\u001b[0;32m     <a href='vscode-notebook-cell:/c%3A/Users/Justin/Desktop/Project/BB_parks/data/mon_afternoon_frustration.ipynb#X20sZmlsZQ%3D%3D?line=18'>19</a>\u001b[0m \u001b[39m# Convert the string to a list of coordinate tuples\u001b[39;00m\n\u001b[1;32m---> <a href='vscode-notebook-cell:/c%3A/Users/Justin/Desktop/Project/BB_parks/data/mon_afternoon_frustration.ipynb#X20sZmlsZQ%3D%3D?line=19'>20</a>\u001b[0m coords \u001b[39m=\u001b[39m [\u001b[39mtuple\u001b[39;49m(\u001b[39mmap\u001b[39;49m(\u001b[39mfloat\u001b[39;49m, coord\u001b[39m.\u001b[39;49msplit()))[:\u001b[39m2\u001b[39m] \u001b[39mfor\u001b[39;00m coord \u001b[39min\u001b[39;00m coords_str\u001b[39m.\u001b[39msplit(\u001b[39m'\u001b[39m\u001b[39m,\u001b[39m\u001b[39m'\u001b[39m)]\n\u001b[0;32m     <a href='vscode-notebook-cell:/c%3A/Users/Justin/Desktop/Project/BB_parks/data/mon_afternoon_frustration.ipynb#X20sZmlsZQ%3D%3D?line=20'>21</a>\u001b[0m \u001b[39m# Create a Polygon object\u001b[39;00m\n\u001b[0;32m     <a href='vscode-notebook-cell:/c%3A/Users/Justin/Desktop/Project/BB_parks/data/mon_afternoon_frustration.ipynb#X20sZmlsZQ%3D%3D?line=21'>22</a>\u001b[0m \u001b[39mreturn\u001b[39;00m Polygon(coords)\n",
      "\u001b[1;31mValueError\u001b[0m: could not convert string to float: 'ON'"
     ]
    }
   ],
   "source": [
    "import pandas as pd\n",
    "import geopandas as gpd\n",
    "from geopandas import GeoDataFrame\n",
    "from shapely.geometry import Point, Polygon, mapping\n",
    "import ast\n",
    "\n",
    "# Read the CSV file\n",
    "url = \"https://raw.githubusercontent.com/JSmith1826/BB_parks/main/data/homeplate_outbound.csv\"\n",
    "df = pd.read_csv(url)\n",
    "\n",
    "# Function to convert string representation of a tuple to a tuple\n",
    "def string_to_tuple(string):\n",
    "    return tuple(ast.literal_eval(string))\n",
    "\n",
    "# Function to convert string representation of a polygon to a polygon\n",
    "def string_to_polygon(string):\n",
    "    # Remove \"POLYGON Z \" from the string and the extra parentheses\n",
    "    coords_str = string[10:-1].replace('(', '').replace(')', '')\n",
    "    \n",
    "    # Convert the string to a list of coordinate tuples, skipping invalid ones\n",
    "    coords = []\n",
    "    for coord in coords_str.split(','):\n",
    "        try:\n",
    "            coords.append(tuple(map(float, coord.split()))[:2])\n",
    "        except ValueError:\n",
    "            print(f\"Skipped invalid coordinate: {coord}\")\n",
    "            continue\n",
    "    \n",
    "    # Create a Polygon object\n",
    "    return Polygon(coords)\n",
    "\n",
    "\n",
    "# Extract 'Homeplate' and 'poly' data\n",
    "df['homeplate_coords'] = df['homeplate'].apply(string_to_tuple)\n",
    "df['polygon'] = df['poly'].apply(string_to_polygon)\n",
    "\n",
    "# Create a GeoDataFrame using the 'polygon' column\n",
    "gdf = GeoDataFrame(df, geometry='polygon', crs=\"EPSG:4326\")\n",
    "\n",
    "# Add 'Homeplate' points as a separate GeoDataFrame\n",
    "homeplate_gdf = gpd.GeoDataFrame(df, geometry=df['homeplate_coords'].apply(Point), crs=\"EPSG:4326\")\n",
    "\n",
    "# Save the GeoDataFrames as GeoJSON files\n",
    "gdf.to_file(\"homeplate_outbound_polygons.geojson\", driver=\"GeoJSON\")\n",
    "homeplate_gdf.to_file(\"homeplate_outbound_points.geojson\", driver=\"GeoJSON\")\n"
   ]
  },
  {
   "cell_type": "code",
   "execution_count": null,
   "metadata": {},
   "outputs": [],
   "source": []
  }
 ],
 "metadata": {
  "kernelspec": {
   "display_name": "base",
   "language": "python",
   "name": "python3"
  },
  "language_info": {
   "codemirror_mode": {
    "name": "ipython",
    "version": 3
   },
   "file_extension": ".py",
   "mimetype": "text/x-python",
   "name": "python",
   "nbconvert_exporter": "python",
   "pygments_lexer": "ipython3",
   "version": "3.9.12"
  },
  "orig_nbformat": 4
 },
 "nbformat": 4,
 "nbformat_minor": 2
}
