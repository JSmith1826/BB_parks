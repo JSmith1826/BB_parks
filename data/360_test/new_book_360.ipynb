{
 "cells": [
  {
   "cell_type": "code",
   "execution_count": 6,
   "metadata": {},
   "outputs": [],
   "source": [
    "import csv\n",
    "import json\n",
    "\n",
    "## Open and read the geojson file and convert it to a dictionary\n",
    "\n",
    "with open('../kml/merged_test_1.geojson') as f:\n",
    "    data = json.load(f)\n",
    "\n",
    "fields = []\n",
    "for feature in data['features']:\n",
    "    ff = feature['properties']['Name']\n",
    "    home_plate = feature['geometry']['coordinates'][0][0]\n",
    "    polygon = feature['geometry']['coordinates'][0]\n",
    "    field_name = feature['properties']['layer']\n",
    "    fields.append({'field_name': field_name, 'fair_foul': ff, 'home_plate': home_plate, 'polygon': polygon})\n",
    "\n",
    "with open('baseball_fields.csv', 'w', newline='') as f:\n",
    "    writer = csv.writer(f)\n",
    "    writer.writerow(['Field', 'Fair/Foul', 'Home Plate', 'Polygon'])\n",
    "    for field in fields:\n",
    "        writer.writerow([field['field_name'], field['fair_foul'], field['home_plate'], field['polygon']])\n",
    "\n"
   ]
  },
  {
   "cell_type": "code",
   "execution_count": null,
   "metadata": {},
   "outputs": [],
   "source": []
  },
  {
   "cell_type": "code",
   "execution_count": 7,
   "metadata": {},
   "outputs": [],
   "source": [
    "import csv\n",
    "import json\n",
    "\n",
    "with open('../kml/merged_test_1.geojson') as f:\n",
    "    data = json.load(f)\n",
    "\n",
    "fields = []\n",
    "for feature in data['features']:\n",
    "    ff = feature['properties']['Name']\n",
    "    home_plate = feature['geometry']['coordinates'][0][0]\n",
    "    polygon = feature['geometry']['coordinates'][0]\n",
    "    field_name = feature['properties']['layer']\n",
    "    fields.append({'field_name': field_name, 'fair_foul': ff, 'home_plate': home_plate, 'polygon': polygon})\n",
    "\n",
    "## Output JSON\n",
    "with open('output.json', 'w') as outfile:\n",
    "    json.dump(fields, outfile)\n",
    "\n",
    "\n",
    "\n",
    "## Output CSV\n",
    "# with open('baseball_fields.csv', 'w', newline='') as f:\n",
    "#     writer = csv.writer(f)\n",
    "#     writer.writerow(['Name', 'Home Plate', 'Polygon', 'Layer'])\n",
    "#     for field in fields:\n",
    "#         writer.writerow([field['name'], field['home_plate'], field['polygon'], field['layer']])\n",
    "\n"
   ]
  },
  {
   "cell_type": "code",
   "execution_count": null,
   "metadata": {},
   "outputs": [],
   "source": [
    "import json\n",
    "\n",
    "with open('output.json') as f:\n",
    "    data = json.load(f)\n",
    "\n",
    "polygons_by_layer = {}\n",
    "\n",
    "for feature in data:\n",
    "    layer = feature['properties']['layer']\n",
    "    polygon = feature['geometry']['coordinates'][0]\n",
    "    if layer not in polygons_by_layer:\n",
    "        polygons_by_layer[layer] = polygon\n",
    "    else:\n",
    "        polygons_by_layer[layer].extend(polygon)\n",
    "\n"
   ]
  },
  {
   "cell_type": "code",
   "execution_count": null,
   "metadata": {},
   "outputs": [],
   "source": [
    "import pandas as pd\n",
    "\n",
    "# Load the csv file\n",
    "df = pd.read_csv('baseball_fields.csv')\n",
    "\n",
    "# Clean up the layer name\n",
    "df['clean_name'] = df['layers'].str.replace('ballparks - ', '').str.strip()\n",
    "\n",
    "# Save the updated dataframe to a new csv file\n",
    "df.to_csv('updated_baseball_fields.csv', index=False)\n",
    "\n"
   ]
  }
 ],
 "metadata": {
  "kernelspec": {
   "display_name": "base",
   "language": "python",
   "name": "python3"
  },
  "language_info": {
   "codemirror_mode": {
    "name": "ipython",
    "version": 3
   },
   "file_extension": ".py",
   "mimetype": "text/x-python",
   "name": "python",
   "nbconvert_exporter": "python",
   "pygments_lexer": "ipython3",
   "version": "3.9.12"
  },
  "orig_nbformat": 4
 },
 "nbformat": 4,
 "nbformat_minor": 2
}
