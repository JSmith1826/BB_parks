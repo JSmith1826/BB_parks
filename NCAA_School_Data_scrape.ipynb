{
 "cells": [
  {
   "cell_type": "code",
   "execution_count": 5,
   "metadata": {},
   "outputs": [],
   "source": [
    "import bs4 as BeautifulSoup\n",
    "import requests\n",
    "import pandas as pd\n",
    "import numpy as np\n",
    "import time\n",
    "from tqdm import tqdm\n",
    "\n"
   ]
  },
  {
   "cell_type": "code",
   "execution_count": 6,
   "metadata": {},
   "outputs": [],
   "source": [
    "## Need to Scrap web3.necc.org for school team data\n",
    "\n",
    "## Use scraperapi.com to get around bot detection\n",
    "scraper_base = \"http://api.scraperapi.com?api_key=7efbd1c22cb922745d8db50ce534d460&url=\"\n",
    "\n",
    "base_url = 'https://web3.ncaa.org/directory/orgDetail?id='\n",
    "\n",
    "# generate list of team ids from 000 to 900\n",
    "team_ids = [str(i).zfill(3) for i in range(900)]\n",
    "\n",
    "## url = scraper_base + base_url + team_ids[0]\n",
    "\n",
    "# Create an empty dataframe to hold the results\n",
    "df = pd.DataFrame()"
   ]
  },
  {
   "cell_type": "code",
   "execution_count": 7,
   "metadata": {},
   "outputs": [],
   "source": [
    "## All in one Function\n",
    "\n",
    "from bs4 import BeautifulSoup\n",
    "import requests\n",
    "import pandas as pd\n",
    "\n",
    "def scrape_ncaa_data(url):\n",
    "    # Send a GET request to the URL\n",
    "    response = requests.get(url)\n",
    "    # Parse the HTML content of the page with BeautifulSoup\n",
    "    soup = BeautifulSoup(response.content, 'html.parser')\n",
    "    \n",
    "    # Get the school name, abbreviation, nickname, and address\n",
    "    school_name = soup.find('h1').text.split('(')[0].strip()\n",
    "    school_abrv = soup.find('h1').text.split('(')[1].split(')')[0].strip()\n",
    "    school_nickname = soup.find('h4').text\n",
    "    address = soup.find('address')\n",
    "    spans = address.find_all('span')\n",
    "    street_address = spans[0].text\n",
    "    city = spans[1].text\n",
    "    state = spans[2].text\n",
    "    zip_code = spans[3].text\n",
    "    \n",
    "    # Find the div that contains the details\n",
    "    details_div = soup.find('div', style=\"margin-left: 90px; margin-bottom: 10px;\")\n",
    "    \n",
    "    # Extract NCAA Member Since, HBCU status, Public/Private status\n",
    "    ncaa_member_since = ''\n",
    "    hbcu_status = ''\n",
    "    public_private_status = ''\n",
    "    \n",
    "    divs = details_div.find_all('div')\n",
    "    for div in divs:\n",
    "        if 'NCAA Member Since:' in div.text:\n",
    "            ncaa_member_since = div.find('span').text\n",
    "        elif 'HBCU:' in div.text:\n",
    "            hbcu_status = div.find('span').text\n",
    "        elif 'Public/Private:' in div.text:\n",
    "            public_private_status = div.find('span').text\n",
    "    \n",
    "    # Load the page's tables with pandas\n",
    "    df = pd.read_html(url)\n",
    "    sport_table = df[2]\n",
    "    \n",
    "    # Find the \"Baseball\" row if there is one\n",
    "    baseball_row = sport_table[sport_table['Sport'] == 'Baseball']\n",
    "    \n",
    "    # Save the head coach, division and conference\n",
    "    head_coach = baseball_row['Head Coach'].values[0] if 'Head Coach' in baseball_row else None\n",
    "    division = baseball_row['Division'].values[0] if 'Division' in baseball_row else None\n",
    "    conference = baseball_row['Conference'].values[0] if 'Conference' in baseball_row else None\n",
    "    \n",
    "    # return the scraped data as a dictionary\n",
    "    data = {\n",
    "        'school_name': school_name,\n",
    "        'school_abrv': school_abrv,\n",
    "        'school_nickname': school_nickname,\n",
    "        'street_address': street_address,\n",
    "        'city': city,\n",
    "        'state': state,\n",
    "        'zip_code': zip_code,\n",
    "        'ncaa_member_since': ncaa_member_since,\n",
    "        'hbcu_status': hbcu_status,\n",
    "        'public_private_status': public_private_status,\n",
    "        'head_coach': head_coach,\n",
    "        'division': division,\n",
    "        'conference': conference\n",
    "    }\n",
    "    \n",
    "    return data\n"
   ]
  },
  {
   "cell_type": "code",
   "execution_count": 8,
   "metadata": {},
   "outputs": [
    {
     "name": "stderr",
     "output_type": "stream",
     "text": [
      "0it [00:00, ?it/s]"
     ]
    },
    {
     "name": "stderr",
     "output_type": "stream",
     "text": [
      "1it [00:06,  6.83s/it]"
     ]
    },
    {
     "name": "stdout",
     "output_type": "stream",
     "text": [
      "Failed to scrape data for team_id: 000. Error: list index out of range\n"
     ]
    },
    {
     "name": "stderr",
     "output_type": "stream",
     "text": [
      "2it [01:05, 37.05s/it]"
     ]
    },
    {
     "name": "stdout",
     "output_type": "stream",
     "text": [
      "Failed to scrape data for team_id: 001. Error: 'NoneType' object has no attribute 'text'\n"
     ]
    },
    {
     "name": "stderr",
     "output_type": "stream",
     "text": [
      "C:\\Users\\Justin\\AppData\\Local\\Temp\\ipykernel_14944\\1552106380.py:11: FutureWarning: The frame.append method is deprecated and will be removed from pandas in a future version. Use pandas.concat instead.\n",
      "  df = df.append(data, ignore_index=True)\n",
      "3it [01:07, 21.06s/it]C:\\Users\\Justin\\AppData\\Local\\Temp\\ipykernel_14944\\1552106380.py:11: FutureWarning: The frame.append method is deprecated and will be removed from pandas in a future version. Use pandas.concat instead.\n",
      "  df = df.append(data, ignore_index=True)\n",
      "4it [01:20, 17.90s/it]C:\\Users\\Justin\\AppData\\Local\\Temp\\ipykernel_14944\\1552106380.py:11: FutureWarning: The frame.append method is deprecated and will be removed from pandas in a future version. Use pandas.concat instead.\n",
      "  df = df.append(data, ignore_index=True)\n",
      "5it [01:30, 15.19s/it]C:\\Users\\Justin\\AppData\\Local\\Temp\\ipykernel_14944\\1552106380.py:11: FutureWarning: The frame.append method is deprecated and will be removed from pandas in a future version. Use pandas.concat instead.\n",
      "  df = df.append(data, ignore_index=True)\n",
      "6it [01:35, 11.55s/it]C:\\Users\\Justin\\AppData\\Local\\Temp\\ipykernel_14944\\1552106380.py:11: FutureWarning: The frame.append method is deprecated and will be removed from pandas in a future version. Use pandas.concat instead.\n",
      "  df = df.append(data, ignore_index=True)\n",
      "7it [01:37,  8.70s/it]C:\\Users\\Justin\\AppData\\Local\\Temp\\ipykernel_14944\\1552106380.py:11: FutureWarning: The frame.append method is deprecated and will be removed from pandas in a future version. Use pandas.concat instead.\n",
      "  df = df.append(data, ignore_index=True)\n",
      "8it [01:50, 10.07s/it]C:\\Users\\Justin\\AppData\\Local\\Temp\\ipykernel_14944\\1552106380.py:11: FutureWarning: The frame.append method is deprecated and will be removed from pandas in a future version. Use pandas.concat instead.\n",
      "  df = df.append(data, ignore_index=True)\n",
      "9it [02:01, 10.18s/it]C:\\Users\\Justin\\AppData\\Local\\Temp\\ipykernel_14944\\1552106380.py:11: FutureWarning: The frame.append method is deprecated and will be removed from pandas in a future version. Use pandas.concat instead.\n",
      "  df = df.append(data, ignore_index=True)\n",
      "10it [02:17, 12.07s/it]C:\\Users\\Justin\\AppData\\Local\\Temp\\ipykernel_14944\\1552106380.py:11: FutureWarning: The frame.append method is deprecated and will be removed from pandas in a future version. Use pandas.concat instead.\n",
      "  df = df.append(data, ignore_index=True)\n",
      "12it [02:39, 10.68s/it]"
     ]
    },
    {
     "name": "stdout",
     "output_type": "stream",
     "text": [
      "Failed to scrape data for team_id: 011. Error: index 0 is out of bounds for axis 0 with size 0\n"
     ]
    },
    {
     "name": "stderr",
     "output_type": "stream",
     "text": [
      "13it [02:45,  9.42s/it]"
     ]
    },
    {
     "name": "stdout",
     "output_type": "stream",
     "text": [
      "Failed to scrape data for team_id: 012. Error: list index out of range\n"
     ]
    },
    {
     "name": "stderr",
     "output_type": "stream",
     "text": [
      "C:\\Users\\Justin\\AppData\\Local\\Temp\\ipykernel_14944\\1552106380.py:11: FutureWarning: The frame.append method is deprecated and will be removed from pandas in a future version. Use pandas.concat instead.\n",
      "  df = df.append(data, ignore_index=True)\n",
      "14it [02:56,  9.84s/it]C:\\Users\\Justin\\AppData\\Local\\Temp\\ipykernel_14944\\1552106380.py:11: FutureWarning: The frame.append method is deprecated and will be removed from pandas in a future version. Use pandas.concat instead.\n",
      "  df = df.append(data, ignore_index=True)\n",
      "16it [02:58,  5.29s/it]"
     ]
    },
    {
     "name": "stdout",
     "output_type": "stream",
     "text": [
      "Failed to scrape data for team_id: 015. Error: list index out of range\n"
     ]
    },
    {
     "name": "stderr",
     "output_type": "stream",
     "text": [
      "C:\\Users\\Justin\\AppData\\Local\\Temp\\ipykernel_14944\\1552106380.py:11: FutureWarning: The frame.append method is deprecated and will be removed from pandas in a future version. Use pandas.concat instead.\n",
      "  df = df.append(data, ignore_index=True)\n",
      "17it [03:15,  8.67s/it]C:\\Users\\Justin\\AppData\\Local\\Temp\\ipykernel_14944\\1552106380.py:11: FutureWarning: The frame.append method is deprecated and will be removed from pandas in a future version. Use pandas.concat instead.\n",
      "  df = df.append(data, ignore_index=True)\n",
      "19it [03:37,  9.52s/it]"
     ]
    },
    {
     "name": "stdout",
     "output_type": "stream",
     "text": [
      "Failed to scrape data for team_id: 018. Error: list index out of range\n"
     ]
    },
    {
     "name": "stderr",
     "output_type": "stream",
     "text": [
      "20it [03:39,  7.14s/it]"
     ]
    },
    {
     "name": "stdout",
     "output_type": "stream",
     "text": [
      "Failed to scrape data for team_id: 019. Error: list index out of range\n",
      "Data saved after 20 loops.\n"
     ]
    },
    {
     "name": "stderr",
     "output_type": "stream",
     "text": [
      "C:\\Users\\Justin\\AppData\\Local\\Temp\\ipykernel_14944\\1552106380.py:11: FutureWarning: The frame.append method is deprecated and will be removed from pandas in a future version. Use pandas.concat instead.\n",
      "  df = df.append(data, ignore_index=True)\n",
      "22it [03:46,  5.10s/it]"
     ]
    },
    {
     "name": "stdout",
     "output_type": "stream",
     "text": [
      "Failed to scrape data for team_id: 021. Error: list index out of range\n"
     ]
    },
    {
     "name": "stderr",
     "output_type": "stream",
     "text": [
      "C:\\Users\\Justin\\AppData\\Local\\Temp\\ipykernel_14944\\1552106380.py:11: FutureWarning: The frame.append method is deprecated and will be removed from pandas in a future version. Use pandas.concat instead.\n",
      "  df = df.append(data, ignore_index=True)\n",
      "24it [03:59,  6.25s/it]"
     ]
    },
    {
     "name": "stdout",
     "output_type": "stream",
     "text": [
      "Failed to scrape data for team_id: 023. Error: index 0 is out of bounds for axis 0 with size 0\n"
     ]
    },
    {
     "name": "stderr",
     "output_type": "stream",
     "text": [
      "C:\\Users\\Justin\\AppData\\Local\\Temp\\ipykernel_14944\\1552106380.py:11: FutureWarning: The frame.append method is deprecated and will be removed from pandas in a future version. Use pandas.concat instead.\n",
      "  df = df.append(data, ignore_index=True)\n",
      "25it [04:09,  7.29s/it]C:\\Users\\Justin\\AppData\\Local\\Temp\\ipykernel_14944\\1552106380.py:11: FutureWarning: The frame.append method is deprecated and will be removed from pandas in a future version. Use pandas.concat instead.\n",
      "  df = df.append(data, ignore_index=True)\n",
      "27it [04:16,  5.44s/it]"
     ]
    },
    {
     "name": "stdout",
     "output_type": "stream",
     "text": [
      "Failed to scrape data for team_id: 026. Error: list index out of range\n"
     ]
    },
    {
     "name": "stderr",
     "output_type": "stream",
     "text": [
      "C:\\Users\\Justin\\AppData\\Local\\Temp\\ipykernel_14944\\1552106380.py:11: FutureWarning: The frame.append method is deprecated and will be removed from pandas in a future version. Use pandas.concat instead.\n",
      "  df = df.append(data, ignore_index=True)\n",
      "28it [04:18,  4.35s/it]C:\\Users\\Justin\\AppData\\Local\\Temp\\ipykernel_14944\\1552106380.py:11: FutureWarning: The frame.append method is deprecated and will be removed from pandas in a future version. Use pandas.concat instead.\n",
      "  df = df.append(data, ignore_index=True)\n",
      "29it [04:28,  6.23s/it]C:\\Users\\Justin\\AppData\\Local\\Temp\\ipykernel_14944\\1552106380.py:11: FutureWarning: The frame.append method is deprecated and will be removed from pandas in a future version. Use pandas.concat instead.\n",
      "  df = df.append(data, ignore_index=True)\n",
      "30it [04:31,  5.09s/it]C:\\Users\\Justin\\AppData\\Local\\Temp\\ipykernel_14944\\1552106380.py:11: FutureWarning: The frame.append method is deprecated and will be removed from pandas in a future version. Use pandas.concat instead.\n",
      "  df = df.append(data, ignore_index=True)\n",
      "31it [04:39,  6.23s/it]C:\\Users\\Justin\\AppData\\Local\\Temp\\ipykernel_14944\\1552106380.py:11: FutureWarning: The frame.append method is deprecated and will be removed from pandas in a future version. Use pandas.concat instead.\n",
      "  df = df.append(data, ignore_index=True)\n",
      "32it [04:58,  9.95s/it]C:\\Users\\Justin\\AppData\\Local\\Temp\\ipykernel_14944\\1552106380.py:11: FutureWarning: The frame.append method is deprecated and will be removed from pandas in a future version. Use pandas.concat instead.\n",
      "  df = df.append(data, ignore_index=True)\n",
      "34it [06:05, 24.23s/it]"
     ]
    },
    {
     "name": "stdout",
     "output_type": "stream",
     "text": [
      "Failed to scrape data for team_id: 033. Error: 'NoneType' object has no attribute 'text'\n"
     ]
    },
    {
     "name": "stderr",
     "output_type": "stream",
     "text": [
      "35it [07:01, 33.91s/it]"
     ]
    },
    {
     "name": "stdout",
     "output_type": "stream",
     "text": [
      "Failed to scrape data for team_id: 034. Error: 'NoneType' object has no attribute 'text'\n"
     ]
    },
    {
     "name": "stderr",
     "output_type": "stream",
     "text": [
      "C:\\Users\\Justin\\AppData\\Local\\Temp\\ipykernel_14944\\1552106380.py:11: FutureWarning: The frame.append method is deprecated and will be removed from pandas in a future version. Use pandas.concat instead.\n",
      "  df = df.append(data, ignore_index=True)\n",
      "36it [07:05, 25.03s/it]C:\\Users\\Justin\\AppData\\Local\\Temp\\ipykernel_14944\\1552106380.py:11: FutureWarning: The frame.append method is deprecated and will be removed from pandas in a future version. Use pandas.concat instead.\n",
      "  df = df.append(data, ignore_index=True)\n",
      "37it [07:07, 18.03s/it]C:\\Users\\Justin\\AppData\\Local\\Temp\\ipykernel_14944\\1552106380.py:11: FutureWarning: The frame.append method is deprecated and will be removed from pandas in a future version. Use pandas.concat instead.\n",
      "  df = df.append(data, ignore_index=True)\n",
      "39it [07:19, 12.22s/it]"
     ]
    },
    {
     "name": "stdout",
     "output_type": "stream",
     "text": [
      "Failed to scrape data for team_id: 038. Error: list index out of range\n"
     ]
    },
    {
     "name": "stderr",
     "output_type": "stream",
     "text": [
      "40it [07:20,  8.73s/it]"
     ]
    },
    {
     "name": "stdout",
     "output_type": "stream",
     "text": [
      "Failed to scrape data for team_id: 039. Error: list index out of range\n",
      "Data saved after 40 loops.\n"
     ]
    },
    {
     "name": "stderr",
     "output_type": "stream",
     "text": [
      "C:\\Users\\Justin\\AppData\\Local\\Temp\\ipykernel_14944\\1552106380.py:11: FutureWarning: The frame.append method is deprecated and will be removed from pandas in a future version. Use pandas.concat instead.\n",
      "  df = df.append(data, ignore_index=True)\n",
      "41it [07:31,  9.52s/it]C:\\Users\\Justin\\AppData\\Local\\Temp\\ipykernel_14944\\1552106380.py:11: FutureWarning: The frame.append method is deprecated and will be removed from pandas in a future version. Use pandas.concat instead.\n",
      "  df = df.append(data, ignore_index=True)\n",
      "42it [07:48, 11.75s/it]C:\\Users\\Justin\\AppData\\Local\\Temp\\ipykernel_14944\\1552106380.py:11: FutureWarning: The frame.append method is deprecated and will be removed from pandas in a future version. Use pandas.concat instead.\n",
      "  df = df.append(data, ignore_index=True)\n",
      "43it [07:55, 10.32s/it]C:\\Users\\Justin\\AppData\\Local\\Temp\\ipykernel_14944\\1552106380.py:11: FutureWarning: The frame.append method is deprecated and will be removed from pandas in a future version. Use pandas.concat instead.\n",
      "  df = df.append(data, ignore_index=True)\n",
      "44it [08:02,  9.22s/it]C:\\Users\\Justin\\AppData\\Local\\Temp\\ipykernel_14944\\1552106380.py:11: FutureWarning: The frame.append method is deprecated and will be removed from pandas in a future version. Use pandas.concat instead.\n",
      "  df = df.append(data, ignore_index=True)\n",
      "45it [08:07,  7.94s/it]C:\\Users\\Justin\\AppData\\Local\\Temp\\ipykernel_14944\\1552106380.py:11: FutureWarning: The frame.append method is deprecated and will be removed from pandas in a future version. Use pandas.concat instead.\n",
      "  df = df.append(data, ignore_index=True)\n",
      "46it [08:17,  8.57s/it]C:\\Users\\Justin\\AppData\\Local\\Temp\\ipykernel_14944\\1552106380.py:11: FutureWarning: The frame.append method is deprecated and will be removed from pandas in a future version. Use pandas.concat instead.\n",
      "  df = df.append(data, ignore_index=True)\n",
      "47it [08:20,  7.01s/it]C:\\Users\\Justin\\AppData\\Local\\Temp\\ipykernel_14944\\1552106380.py:11: FutureWarning: The frame.append method is deprecated and will be removed from pandas in a future version. Use pandas.concat instead.\n",
      "  df = df.append(data, ignore_index=True)\n",
      "48it [08:31,  8.27s/it]C:\\Users\\Justin\\AppData\\Local\\Temp\\ipykernel_14944\\1552106380.py:11: FutureWarning: The frame.append method is deprecated and will be removed from pandas in a future version. Use pandas.concat instead.\n",
      "  df = df.append(data, ignore_index=True)\n",
      "49it [08:46, 10.24s/it]C:\\Users\\Justin\\AppData\\Local\\Temp\\ipykernel_14944\\1552106380.py:11: FutureWarning: The frame.append method is deprecated and will be removed from pandas in a future version. Use pandas.concat instead.\n",
      "  df = df.append(data, ignore_index=True)\n",
      "50it [08:55,  9.87s/it]C:\\Users\\Justin\\AppData\\Local\\Temp\\ipykernel_14944\\1552106380.py:11: FutureWarning: The frame.append method is deprecated and will be removed from pandas in a future version. Use pandas.concat instead.\n",
      "  df = df.append(data, ignore_index=True)\n",
      "51it [08:57,  7.53s/it]C:\\Users\\Justin\\AppData\\Local\\Temp\\ipykernel_14944\\1552106380.py:11: FutureWarning: The frame.append method is deprecated and will be removed from pandas in a future version. Use pandas.concat instead.\n",
      "  df = df.append(data, ignore_index=True)\n",
      "53it [09:16,  7.75s/it]"
     ]
    },
    {
     "name": "stdout",
     "output_type": "stream",
     "text": [
      "Failed to scrape data for team_id: 052. Error: list index out of range\n"
     ]
    },
    {
     "name": "stderr",
     "output_type": "stream",
     "text": [
      "C:\\Users\\Justin\\AppData\\Local\\Temp\\ipykernel_14944\\1552106380.py:11: FutureWarning: The frame.append method is deprecated and will be removed from pandas in a future version. Use pandas.concat instead.\n",
      "  df = df.append(data, ignore_index=True)\n",
      "54it [09:30,  9.56s/it]C:\\Users\\Justin\\AppData\\Local\\Temp\\ipykernel_14944\\1552106380.py:11: FutureWarning: The frame.append method is deprecated and will be removed from pandas in a future version. Use pandas.concat instead.\n",
      "  df = df.append(data, ignore_index=True)\n",
      "55it [09:32,  7.15s/it]C:\\Users\\Justin\\AppData\\Local\\Temp\\ipykernel_14944\\1552106380.py:11: FutureWarning: The frame.append method is deprecated and will be removed from pandas in a future version. Use pandas.concat instead.\n",
      "  df = df.append(data, ignore_index=True)\n",
      "56it [09:37,  6.57s/it]C:\\Users\\Justin\\AppData\\Local\\Temp\\ipykernel_14944\\1552106380.py:11: FutureWarning: The frame.append method is deprecated and will be removed from pandas in a future version. Use pandas.concat instead.\n",
      "  df = df.append(data, ignore_index=True)\n",
      "58it [10:52, 24.10s/it]"
     ]
    },
    {
     "name": "stdout",
     "output_type": "stream",
     "text": [
      "Failed to scrape data for team_id: 057. Error: 'NoneType' object has no attribute 'text'\n"
     ]
    },
    {
     "name": "stderr",
     "output_type": "stream",
     "text": [
      "C:\\Users\\Justin\\AppData\\Local\\Temp\\ipykernel_14944\\1552106380.py:11: FutureWarning: The frame.append method is deprecated and will be removed from pandas in a future version. Use pandas.concat instead.\n",
      "  df = df.append(data, ignore_index=True)\n",
      "59it [10:57, 18.33s/it]C:\\Users\\Justin\\AppData\\Local\\Temp\\ipykernel_14944\\1552106380.py:11: FutureWarning: The frame.append method is deprecated and will be removed from pandas in a future version. Use pandas.concat instead.\n",
      "  df = df.append(data, ignore_index=True)\n",
      "60it [11:26, 21.58s/it]"
     ]
    },
    {
     "name": "stdout",
     "output_type": "stream",
     "text": [
      "Data saved after 60 loops.\n"
     ]
    },
    {
     "name": "stderr",
     "output_type": "stream",
     "text": [
      "C:\\Users\\Justin\\AppData\\Local\\Temp\\ipykernel_14944\\1552106380.py:11: FutureWarning: The frame.append method is deprecated and will be removed from pandas in a future version. Use pandas.concat instead.\n",
      "  df = df.append(data, ignore_index=True)\n",
      "61it [11:29, 15.88s/it]C:\\Users\\Justin\\AppData\\Local\\Temp\\ipykernel_14944\\1552106380.py:11: FutureWarning: The frame.append method is deprecated and will be removed from pandas in a future version. Use pandas.concat instead.\n",
      "  df = df.append(data, ignore_index=True)\n",
      "62it [11:40, 14.40s/it]C:\\Users\\Justin\\AppData\\Local\\Temp\\ipykernel_14944\\1552106380.py:11: FutureWarning: The frame.append method is deprecated and will be removed from pandas in a future version. Use pandas.concat instead.\n",
      "  df = df.append(data, ignore_index=True)\n",
      "64it [12:46, 26.05s/it]"
     ]
    },
    {
     "name": "stdout",
     "output_type": "stream",
     "text": [
      "Failed to scrape data for team_id: 063. Error: 'NoneType' object has no attribute 'text'\n"
     ]
    },
    {
     "name": "stderr",
     "output_type": "stream",
     "text": [
      "65it [12:47, 18.62s/it]"
     ]
    },
    {
     "name": "stdout",
     "output_type": "stream",
     "text": [
      "Failed to scrape data for team_id: 064. Error: list index out of range\n"
     ]
    },
    {
     "name": "stderr",
     "output_type": "stream",
     "text": [
      "C:\\Users\\Justin\\AppData\\Local\\Temp\\ipykernel_14944\\1552106380.py:11: FutureWarning: The frame.append method is deprecated and will be removed from pandas in a future version. Use pandas.concat instead.\n",
      "  df = df.append(data, ignore_index=True)\n",
      "67it [12:58, 11.70s/it]"
     ]
    },
    {
     "name": "stdout",
     "output_type": "stream",
     "text": [
      "Failed to scrape data for team_id: 066. Error: index 0 is out of bounds for axis 0 with size 0\n"
     ]
    },
    {
     "name": "stderr",
     "output_type": "stream",
     "text": [
      "C:\\Users\\Justin\\AppData\\Local\\Temp\\ipykernel_14944\\1552106380.py:11: FutureWarning: The frame.append method is deprecated and will be removed from pandas in a future version. Use pandas.concat instead.\n",
      "  df = df.append(data, ignore_index=True)\n",
      "69it [13:11,  8.67s/it]"
     ]
    },
    {
     "name": "stdout",
     "output_type": "stream",
     "text": [
      "Failed to scrape data for team_id: 068. Error: index 0 is out of bounds for axis 0 with size 0\n"
     ]
    },
    {
     "name": "stderr",
     "output_type": "stream",
     "text": [
      "C:\\Users\\Justin\\AppData\\Local\\Temp\\ipykernel_14944\\1552106380.py:11: FutureWarning: The frame.append method is deprecated and will be removed from pandas in a future version. Use pandas.concat instead.\n",
      "  df = df.append(data, ignore_index=True)\n",
      "71it [13:32,  9.52s/it]"
     ]
    },
    {
     "name": "stdout",
     "output_type": "stream",
     "text": [
      "Failed to scrape data for team_id: 070. Error: index 0 is out of bounds for axis 0 with size 0\n"
     ]
    },
    {
     "name": "stderr",
     "output_type": "stream",
     "text": [
      "C:\\Users\\Justin\\AppData\\Local\\Temp\\ipykernel_14944\\1552106380.py:11: FutureWarning: The frame.append method is deprecated and will be removed from pandas in a future version. Use pandas.concat instead.\n",
      "  df = df.append(data, ignore_index=True)\n",
      "72it [13:56, 13.91s/it]C:\\Users\\Justin\\AppData\\Local\\Temp\\ipykernel_14944\\1552106380.py:11: FutureWarning: The frame.append method is deprecated and will be removed from pandas in a future version. Use pandas.concat instead.\n",
      "  df = df.append(data, ignore_index=True)\n",
      "74it [14:06,  9.47s/it]"
     ]
    },
    {
     "name": "stdout",
     "output_type": "stream",
     "text": [
      "Failed to scrape data for team_id: 073. Error: list index out of range\n"
     ]
    },
    {
     "name": "stderr",
     "output_type": "stream",
     "text": [
      "C:\\Users\\Justin\\AppData\\Local\\Temp\\ipykernel_14944\\1552106380.py:11: FutureWarning: The frame.append method is deprecated and will be removed from pandas in a future version. Use pandas.concat instead.\n",
      "  df = df.append(data, ignore_index=True)\n",
      "75it [14:27, 12.86s/it]C:\\Users\\Justin\\AppData\\Local\\Temp\\ipykernel_14944\\1552106380.py:11: FutureWarning: The frame.append method is deprecated and will be removed from pandas in a future version. Use pandas.concat instead.\n",
      "  df = df.append(data, ignore_index=True)\n",
      "76it [14:36, 11.78s/it]C:\\Users\\Justin\\AppData\\Local\\Temp\\ipykernel_14944\\1552106380.py:11: FutureWarning: The frame.append method is deprecated and will be removed from pandas in a future version. Use pandas.concat instead.\n",
      "  df = df.append(data, ignore_index=True)\n",
      "77it [14:39,  9.04s/it]C:\\Users\\Justin\\AppData\\Local\\Temp\\ipykernel_14944\\1552106380.py:11: FutureWarning: The frame.append method is deprecated and will be removed from pandas in a future version. Use pandas.concat instead.\n",
      "  df = df.append(data, ignore_index=True)\n",
      "79it [14:56,  8.74s/it]"
     ]
    },
    {
     "name": "stdout",
     "output_type": "stream",
     "text": [
      "Failed to scrape data for team_id: 078. Error: list index out of range\n"
     ]
    },
    {
     "name": "stderr",
     "output_type": "stream",
     "text": [
      "80it [15:06,  9.12s/it]"
     ]
    },
    {
     "name": "stdout",
     "output_type": "stream",
     "text": [
      "Failed to scrape data for team_id: 079. Error: list index out of range\n",
      "Data saved after 80 loops.\n"
     ]
    },
    {
     "name": "stderr",
     "output_type": "stream",
     "text": [
      "C:\\Users\\Justin\\AppData\\Local\\Temp\\ipykernel_14944\\1552106380.py:11: FutureWarning: The frame.append method is deprecated and will be removed from pandas in a future version. Use pandas.concat instead.\n",
      "  df = df.append(data, ignore_index=True)\n",
      "81it [15:08,  6.87s/it]C:\\Users\\Justin\\AppData\\Local\\Temp\\ipykernel_14944\\1552106380.py:11: FutureWarning: The frame.append method is deprecated and will be removed from pandas in a future version. Use pandas.concat instead.\n",
      "  df = df.append(data, ignore_index=True)\n",
      "83it [15:19,  5.87s/it]"
     ]
    },
    {
     "name": "stdout",
     "output_type": "stream",
     "text": [
      "Failed to scrape data for team_id: 082. Error: index 0 is out of bounds for axis 0 with size 0\n"
     ]
    },
    {
     "name": "stderr",
     "output_type": "stream",
     "text": [
      "C:\\Users\\Justin\\AppData\\Local\\Temp\\ipykernel_14944\\1552106380.py:11: FutureWarning: The frame.append method is deprecated and will be removed from pandas in a future version. Use pandas.concat instead.\n",
      "  df = df.append(data, ignore_index=True)\n",
      "84it [15:20,  4.45s/it]C:\\Users\\Justin\\AppData\\Local\\Temp\\ipykernel_14944\\1552106380.py:11: FutureWarning: The frame.append method is deprecated and will be removed from pandas in a future version. Use pandas.concat instead.\n",
      "  df = df.append(data, ignore_index=True)\n",
      "86it [15:22,  2.75s/it]"
     ]
    },
    {
     "name": "stdout",
     "output_type": "stream",
     "text": [
      "Failed to scrape data for team_id: 085. Error: list index out of range\n"
     ]
    },
    {
     "name": "stderr",
     "output_type": "stream",
     "text": [
      "87it [15:37,  6.56s/it]"
     ]
    },
    {
     "name": "stdout",
     "output_type": "stream",
     "text": [
      "Failed to scrape data for team_id: 086. Error: index 0 is out of bounds for axis 0 with size 0\n"
     ]
    },
    {
     "name": "stderr",
     "output_type": "stream",
     "text": [
      "C:\\Users\\Justin\\AppData\\Local\\Temp\\ipykernel_14944\\1552106380.py:11: FutureWarning: The frame.append method is deprecated and will be removed from pandas in a future version. Use pandas.concat instead.\n",
      "  df = df.append(data, ignore_index=True)\n",
      "89it [15:48,  5.58s/it]"
     ]
    },
    {
     "name": "stdout",
     "output_type": "stream",
     "text": [
      "Failed to scrape data for team_id: 088. Error: list index out of range\n"
     ]
    },
    {
     "name": "stderr",
     "output_type": "stream",
     "text": [
      "C:\\Users\\Justin\\AppData\\Local\\Temp\\ipykernel_14944\\1552106380.py:11: FutureWarning: The frame.append method is deprecated and will be removed from pandas in a future version. Use pandas.concat instead.\n",
      "  df = df.append(data, ignore_index=True)\n",
      "90it [15:57,  6.59s/it]C:\\Users\\Justin\\AppData\\Local\\Temp\\ipykernel_14944\\1552106380.py:11: FutureWarning: The frame.append method is deprecated and will be removed from pandas in a future version. Use pandas.concat instead.\n",
      "  df = df.append(data, ignore_index=True)\n",
      "91it [15:59,  5.00s/it]C:\\Users\\Justin\\AppData\\Local\\Temp\\ipykernel_14944\\1552106380.py:11: FutureWarning: The frame.append method is deprecated and will be removed from pandas in a future version. Use pandas.concat instead.\n",
      "  df = df.append(data, ignore_index=True)\n",
      "92it [16:06,  5.81s/it]C:\\Users\\Justin\\AppData\\Local\\Temp\\ipykernel_14944\\1552106380.py:11: FutureWarning: The frame.append method is deprecated and will be removed from pandas in a future version. Use pandas.concat instead.\n",
      "  df = df.append(data, ignore_index=True)\n",
      "93it [16:12,  5.86s/it]C:\\Users\\Justin\\AppData\\Local\\Temp\\ipykernel_14944\\1552106380.py:11: FutureWarning: The frame.append method is deprecated and will be removed from pandas in a future version. Use pandas.concat instead.\n",
      "  df = df.append(data, ignore_index=True)\n",
      "94it [16:20,  6.40s/it]C:\\Users\\Justin\\AppData\\Local\\Temp\\ipykernel_14944\\1552106380.py:11: FutureWarning: The frame.append method is deprecated and will be removed from pandas in a future version. Use pandas.concat instead.\n",
      "  df = df.append(data, ignore_index=True)\n",
      "96it [16:26,  4.87s/it]"
     ]
    },
    {
     "name": "stdout",
     "output_type": "stream",
     "text": [
      "Failed to scrape data for team_id: 095. Error: list index out of range\n"
     ]
    },
    {
     "name": "stderr",
     "output_type": "stream",
     "text": [
      "C:\\Users\\Justin\\AppData\\Local\\Temp\\ipykernel_14944\\1552106380.py:11: FutureWarning: The frame.append method is deprecated and will be removed from pandas in a future version. Use pandas.concat instead.\n",
      "  df = df.append(data, ignore_index=True)\n",
      "97it [16:32,  5.21s/it]C:\\Users\\Justin\\AppData\\Local\\Temp\\ipykernel_14944\\1552106380.py:11: FutureWarning: The frame.append method is deprecated and will be removed from pandas in a future version. Use pandas.concat instead.\n",
      "  df = df.append(data, ignore_index=True)\n",
      "98it [16:39,  5.52s/it]C:\\Users\\Justin\\AppData\\Local\\Temp\\ipykernel_14944\\1552106380.py:11: FutureWarning: The frame.append method is deprecated and will be removed from pandas in a future version. Use pandas.concat instead.\n",
      "  df = df.append(data, ignore_index=True)\n",
      "99it [16:47,  6.41s/it]C:\\Users\\Justin\\AppData\\Local\\Temp\\ipykernel_14944\\1552106380.py:11: FutureWarning: The frame.append method is deprecated and will be removed from pandas in a future version. Use pandas.concat instead.\n",
      "  df = df.append(data, ignore_index=True)\n",
      "100it [16:49,  5.05s/it]"
     ]
    },
    {
     "name": "stdout",
     "output_type": "stream",
     "text": [
      "Data saved after 100 loops.\n"
     ]
    },
    {
     "name": "stderr",
     "output_type": "stream",
     "text": [
      "101it [16:52,  4.48s/it]"
     ]
    },
    {
     "name": "stdout",
     "output_type": "stream",
     "text": [
      "Failed to scrape data for team_id: 100. Error: list index out of range\n"
     ]
    },
    {
     "name": "stderr",
     "output_type": "stream",
     "text": [
      "C:\\Users\\Justin\\AppData\\Local\\Temp\\ipykernel_14944\\1552106380.py:11: FutureWarning: The frame.append method is deprecated and will be removed from pandas in a future version. Use pandas.concat instead.\n",
      "  df = df.append(data, ignore_index=True)\n",
      "102it [17:06,  7.41s/it]C:\\Users\\Justin\\AppData\\Local\\Temp\\ipykernel_14944\\1552106380.py:11: FutureWarning: The frame.append method is deprecated and will be removed from pandas in a future version. Use pandas.concat instead.\n",
      "  df = df.append(data, ignore_index=True)\n",
      "103it [17:21,  9.64s/it]C:\\Users\\Justin\\AppData\\Local\\Temp\\ipykernel_14944\\1552106380.py:11: FutureWarning: The frame.append method is deprecated and will be removed from pandas in a future version. Use pandas.concat instead.\n",
      "  df = df.append(data, ignore_index=True)\n",
      "104it [17:27,  8.37s/it]C:\\Users\\Justin\\AppData\\Local\\Temp\\ipykernel_14944\\1552106380.py:11: FutureWarning: The frame.append method is deprecated and will be removed from pandas in a future version. Use pandas.concat instead.\n",
      "  df = df.append(data, ignore_index=True)\n",
      "105it [17:38,  9.38s/it]C:\\Users\\Justin\\AppData\\Local\\Temp\\ipykernel_14944\\1552106380.py:11: FutureWarning: The frame.append method is deprecated and will be removed from pandas in a future version. Use pandas.concat instead.\n",
      "  df = df.append(data, ignore_index=True)\n",
      "106it [17:49,  9.74s/it]C:\\Users\\Justin\\AppData\\Local\\Temp\\ipykernel_14944\\1552106380.py:11: FutureWarning: The frame.append method is deprecated and will be removed from pandas in a future version. Use pandas.concat instead.\n",
      "  df = df.append(data, ignore_index=True)\n",
      "107it [17:58,  9.49s/it]C:\\Users\\Justin\\AppData\\Local\\Temp\\ipykernel_14944\\1552106380.py:11: FutureWarning: The frame.append method is deprecated and will be removed from pandas in a future version. Use pandas.concat instead.\n",
      "  df = df.append(data, ignore_index=True)\n",
      "108it [18:22, 13.73s/it]C:\\Users\\Justin\\AppData\\Local\\Temp\\ipykernel_14944\\1552106380.py:11: FutureWarning: The frame.append method is deprecated and will be removed from pandas in a future version. Use pandas.concat instead.\n",
      "  df = df.append(data, ignore_index=True)\n",
      "109it [18:28, 11.52s/it]C:\\Users\\Justin\\AppData\\Local\\Temp\\ipykernel_14944\\1552106380.py:11: FutureWarning: The frame.append method is deprecated and will be removed from pandas in a future version. Use pandas.concat instead.\n",
      "  df = df.append(data, ignore_index=True)\n",
      "110it [18:38, 11.08s/it]C:\\Users\\Justin\\AppData\\Local\\Temp\\ipykernel_14944\\1552106380.py:11: FutureWarning: The frame.append method is deprecated and will be removed from pandas in a future version. Use pandas.concat instead.\n",
      "  df = df.append(data, ignore_index=True)\n",
      "111it [18:42,  8.91s/it]C:\\Users\\Justin\\AppData\\Local\\Temp\\ipykernel_14944\\1552106380.py:11: FutureWarning: The frame.append method is deprecated and will be removed from pandas in a future version. Use pandas.concat instead.\n",
      "  df = df.append(data, ignore_index=True)\n",
      "112it [18:57, 10.73s/it]C:\\Users\\Justin\\AppData\\Local\\Temp\\ipykernel_14944\\1552106380.py:11: FutureWarning: The frame.append method is deprecated and will be removed from pandas in a future version. Use pandas.concat instead.\n",
      "  df = df.append(data, ignore_index=True)\n",
      "114it [19:08,  8.38s/it]"
     ]
    },
    {
     "name": "stdout",
     "output_type": "stream",
     "text": [
      "Failed to scrape data for team_id: 113. Error: list index out of range\n"
     ]
    },
    {
     "name": "stderr",
     "output_type": "stream",
     "text": [
      "115it [19:10,  6.36s/it]"
     ]
    },
    {
     "name": "stdout",
     "output_type": "stream",
     "text": [
      "Failed to scrape data for team_id: 114. Error: list index out of range\n"
     ]
    },
    {
     "name": "stderr",
     "output_type": "stream",
     "text": [
      "C:\\Users\\Justin\\AppData\\Local\\Temp\\ipykernel_14944\\1552106380.py:11: FutureWarning: The frame.append method is deprecated and will be removed from pandas in a future version. Use pandas.concat instead.\n",
      "  df = df.append(data, ignore_index=True)\n",
      "116it [19:19,  7.38s/it]C:\\Users\\Justin\\AppData\\Local\\Temp\\ipykernel_14944\\1552106380.py:11: FutureWarning: The frame.append method is deprecated and will be removed from pandas in a future version. Use pandas.concat instead.\n",
      "  df = df.append(data, ignore_index=True)\n",
      "117it [19:40, 11.43s/it]C:\\Users\\Justin\\AppData\\Local\\Temp\\ipykernel_14944\\1552106380.py:11: FutureWarning: The frame.append method is deprecated and will be removed from pandas in a future version. Use pandas.concat instead.\n",
      "  df = df.append(data, ignore_index=True)\n",
      "119it [19:57,  9.86s/it]"
     ]
    },
    {
     "name": "stdout",
     "output_type": "stream",
     "text": [
      "Failed to scrape data for team_id: 118. Error: list index out of range\n"
     ]
    },
    {
     "name": "stderr",
     "output_type": "stream",
     "text": [
      "120it [20:02,  8.30s/it]"
     ]
    },
    {
     "name": "stdout",
     "output_type": "stream",
     "text": [
      "Failed to scrape data for team_id: 119. Error: index 0 is out of bounds for axis 0 with size 0\n",
      "Data saved after 120 loops.\n"
     ]
    },
    {
     "name": "stderr",
     "output_type": "stream",
     "text": [
      "C:\\Users\\Justin\\AppData\\Local\\Temp\\ipykernel_14944\\1552106380.py:11: FutureWarning: The frame.append method is deprecated and will be removed from pandas in a future version. Use pandas.concat instead.\n",
      "  df = df.append(data, ignore_index=True)\n",
      "122it [20:07,  5.39s/it]"
     ]
    },
    {
     "name": "stdout",
     "output_type": "stream",
     "text": [
      "Failed to scrape data for team_id: 121. Error: list index out of range\n"
     ]
    },
    {
     "name": "stderr",
     "output_type": "stream",
     "text": [
      "C:\\Users\\Justin\\AppData\\Local\\Temp\\ipykernel_14944\\1552106380.py:11: FutureWarning: The frame.append method is deprecated and will be removed from pandas in a future version. Use pandas.concat instead.\n",
      "  df = df.append(data, ignore_index=True)\n",
      "124it [20:39, 11.00s/it]"
     ]
    },
    {
     "name": "stdout",
     "output_type": "stream",
     "text": [
      "Failed to scrape data for team_id: 123. Error: list index out of range\n"
     ]
    },
    {
     "name": "stderr",
     "output_type": "stream",
     "text": [
      "C:\\Users\\Justin\\AppData\\Local\\Temp\\ipykernel_14944\\1552106380.py:11: FutureWarning: The frame.append method is deprecated and will be removed from pandas in a future version. Use pandas.concat instead.\n",
      "  df = df.append(data, ignore_index=True)\n",
      "125it [20:52, 11.70s/it]C:\\Users\\Justin\\AppData\\Local\\Temp\\ipykernel_14944\\1552106380.py:11: FutureWarning: The frame.append method is deprecated and will be removed from pandas in a future version. Use pandas.concat instead.\n",
      "  df = df.append(data, ignore_index=True)\n",
      "126it [21:00, 10.78s/it]C:\\Users\\Justin\\AppData\\Local\\Temp\\ipykernel_14944\\1552106380.py:11: FutureWarning: The frame.append method is deprecated and will be removed from pandas in a future version. Use pandas.concat instead.\n",
      "  df = df.append(data, ignore_index=True)\n",
      "127it [21:04,  8.49s/it]C:\\Users\\Justin\\AppData\\Local\\Temp\\ipykernel_14944\\1552106380.py:11: FutureWarning: The frame.append method is deprecated and will be removed from pandas in a future version. Use pandas.concat instead.\n",
      "  df = df.append(data, ignore_index=True)\n",
      "128it [21:09,  7.42s/it]C:\\Users\\Justin\\AppData\\Local\\Temp\\ipykernel_14944\\1552106380.py:11: FutureWarning: The frame.append method is deprecated and will be removed from pandas in a future version. Use pandas.concat instead.\n",
      "  df = df.append(data, ignore_index=True)\n",
      "129it [21:18,  7.92s/it]C:\\Users\\Justin\\AppData\\Local\\Temp\\ipykernel_14944\\1552106380.py:11: FutureWarning: The frame.append method is deprecated and will be removed from pandas in a future version. Use pandas.concat instead.\n",
      "  df = df.append(data, ignore_index=True)\n",
      "130it [21:51, 15.50s/it]C:\\Users\\Justin\\AppData\\Local\\Temp\\ipykernel_14944\\1552106380.py:11: FutureWarning: The frame.append method is deprecated and will be removed from pandas in a future version. Use pandas.concat instead.\n",
      "  df = df.append(data, ignore_index=True)\n",
      "132it [22:49, 24.74s/it]"
     ]
    },
    {
     "name": "stdout",
     "output_type": "stream",
     "text": [
      "Failed to scrape data for team_id: 131. Error: 'NoneType' object has no attribute 'text'\n"
     ]
    },
    {
     "name": "stderr",
     "output_type": "stream",
     "text": [
      "133it [22:50, 17.60s/it]"
     ]
    },
    {
     "name": "stdout",
     "output_type": "stream",
     "text": [
      "Failed to scrape data for team_id: 132. Error: list index out of range\n"
     ]
    },
    {
     "name": "stderr",
     "output_type": "stream",
     "text": [
      "134it [23:11, 18.57s/it]"
     ]
    },
    {
     "name": "stdout",
     "output_type": "stream",
     "text": [
      "Failed to scrape data for team_id: 133. Error: index 0 is out of bounds for axis 0 with size 0\n"
     ]
    },
    {
     "name": "stderr",
     "output_type": "stream",
     "text": [
      "135it [23:12, 13.38s/it]"
     ]
    },
    {
     "name": "stdout",
     "output_type": "stream",
     "text": [
      "Failed to scrape data for team_id: 134. Error: list index out of range\n"
     ]
    },
    {
     "name": "stderr",
     "output_type": "stream",
     "text": [
      "136it [24:07, 25.95s/it]"
     ]
    },
    {
     "name": "stdout",
     "output_type": "stream",
     "text": [
      "Failed to scrape data for team_id: 135. Error: 'NoneType' object has no attribute 'text'\n"
     ]
    },
    {
     "name": "stderr",
     "output_type": "stream",
     "text": [
      "137it [24:13, 20.01s/it]"
     ]
    },
    {
     "name": "stdout",
     "output_type": "stream",
     "text": [
      "Failed to scrape data for team_id: 136. Error: index 0 is out of bounds for axis 0 with size 0\n"
     ]
    },
    {
     "name": "stderr",
     "output_type": "stream",
     "text": [
      "138it [24:14, 14.23s/it]"
     ]
    },
    {
     "name": "stdout",
     "output_type": "stream",
     "text": [
      "Failed to scrape data for team_id: 137. Error: list index out of range\n"
     ]
    },
    {
     "name": "stderr",
     "output_type": "stream",
     "text": [
      "139it [25:13, 27.74s/it]"
     ]
    },
    {
     "name": "stdout",
     "output_type": "stream",
     "text": [
      "Failed to scrape data for team_id: 138. Error: 'NoneType' object has no attribute 'text'\n"
     ]
    },
    {
     "name": "stderr",
     "output_type": "stream",
     "text": [
      "C:\\Users\\Justin\\AppData\\Local\\Temp\\ipykernel_14944\\1552106380.py:11: FutureWarning: The frame.append method is deprecated and will be removed from pandas in a future version. Use pandas.concat instead.\n",
      "  df = df.append(data, ignore_index=True)\n",
      "140it [25:22, 22.15s/it]"
     ]
    },
    {
     "name": "stdout",
     "output_type": "stream",
     "text": [
      "Data saved after 140 loops.\n"
     ]
    },
    {
     "name": "stderr",
     "output_type": "stream",
     "text": [
      "C:\\Users\\Justin\\AppData\\Local\\Temp\\ipykernel_14944\\1552106380.py:11: FutureWarning: The frame.append method is deprecated and will be removed from pandas in a future version. Use pandas.concat instead.\n",
      "  df = df.append(data, ignore_index=True)\n",
      "142it [25:28, 12.58s/it]"
     ]
    },
    {
     "name": "stdout",
     "output_type": "stream",
     "text": [
      "Failed to scrape data for team_id: 141. Error: list index out of range\n"
     ]
    },
    {
     "name": "stderr",
     "output_type": "stream",
     "text": [
      "C:\\Users\\Justin\\AppData\\Local\\Temp\\ipykernel_14944\\1552106380.py:11: FutureWarning: The frame.append method is deprecated and will be removed from pandas in a future version. Use pandas.concat instead.\n",
      "  df = df.append(data, ignore_index=True)\n",
      "144it [25:37,  8.36s/it]"
     ]
    },
    {
     "name": "stdout",
     "output_type": "stream",
     "text": [
      "Failed to scrape data for team_id: 143. Error: list index out of range\n"
     ]
    },
    {
     "name": "stderr",
     "output_type": "stream",
     "text": [
      "C:\\Users\\Justin\\AppData\\Local\\Temp\\ipykernel_14944\\1552106380.py:11: FutureWarning: The frame.append method is deprecated and will be removed from pandas in a future version. Use pandas.concat instead.\n",
      "  df = df.append(data, ignore_index=True)\n",
      "145it [25:42,  7.28s/it]C:\\Users\\Justin\\AppData\\Local\\Temp\\ipykernel_14944\\1552106380.py:11: FutureWarning: The frame.append method is deprecated and will be removed from pandas in a future version. Use pandas.concat instead.\n",
      "  df = df.append(data, ignore_index=True)\n",
      "146it [25:48,  6.93s/it]C:\\Users\\Justin\\AppData\\Local\\Temp\\ipykernel_14944\\1552106380.py:11: FutureWarning: The frame.append method is deprecated and will be removed from pandas in a future version. Use pandas.concat instead.\n",
      "  df = df.append(data, ignore_index=True)\n",
      "147it [25:54,  6.46s/it]C:\\Users\\Justin\\AppData\\Local\\Temp\\ipykernel_14944\\1552106380.py:11: FutureWarning: The frame.append method is deprecated and will be removed from pandas in a future version. Use pandas.concat instead.\n",
      "  df = df.append(data, ignore_index=True)\n",
      "149it [26:08,  6.46s/it]"
     ]
    },
    {
     "name": "stdout",
     "output_type": "stream",
     "text": [
      "Failed to scrape data for team_id: 148. Error: index 0 is out of bounds for axis 0 with size 0\n"
     ]
    },
    {
     "name": "stderr",
     "output_type": "stream",
     "text": [
      "C:\\Users\\Justin\\AppData\\Local\\Temp\\ipykernel_14944\\1552106380.py:11: FutureWarning: The frame.append method is deprecated and will be removed from pandas in a future version. Use pandas.concat instead.\n",
      "  df = df.append(data, ignore_index=True)\n",
      "150it [26:13,  6.21s/it]C:\\Users\\Justin\\AppData\\Local\\Temp\\ipykernel_14944\\1552106380.py:11: FutureWarning: The frame.append method is deprecated and will be removed from pandas in a future version. Use pandas.concat instead.\n",
      "  df = df.append(data, ignore_index=True)\n",
      "151it [26:19,  6.05s/it]C:\\Users\\Justin\\AppData\\Local\\Temp\\ipykernel_14944\\1552106380.py:11: FutureWarning: The frame.append method is deprecated and will be removed from pandas in a future version. Use pandas.concat instead.\n",
      "  df = df.append(data, ignore_index=True)\n",
      "152it [26:28,  6.89s/it]C:\\Users\\Justin\\AppData\\Local\\Temp\\ipykernel_14944\\1552106380.py:11: FutureWarning: The frame.append method is deprecated and will be removed from pandas in a future version. Use pandas.concat instead.\n",
      "  df = df.append(data, ignore_index=True)\n",
      "154it [26:53,  9.91s/it]"
     ]
    },
    {
     "name": "stdout",
     "output_type": "stream",
     "text": [
      "Failed to scrape data for team_id: 153. Error: index 0 is out of bounds for axis 0 with size 0\n"
     ]
    },
    {
     "name": "stderr",
     "output_type": "stream",
     "text": [
      "155it [27:08, 11.45s/it]"
     ]
    },
    {
     "name": "stdout",
     "output_type": "stream",
     "text": [
      "Failed to scrape data for team_id: 154. Error: index 0 is out of bounds for axis 0 with size 0\n"
     ]
    },
    {
     "name": "stderr",
     "output_type": "stream",
     "text": [
      "C:\\Users\\Justin\\AppData\\Local\\Temp\\ipykernel_14944\\1552106380.py:11: FutureWarning: The frame.append method is deprecated and will be removed from pandas in a future version. Use pandas.concat instead.\n",
      "  df = df.append(data, ignore_index=True)\n",
      "157it [27:10,  6.11s/it]"
     ]
    },
    {
     "name": "stdout",
     "output_type": "stream",
     "text": [
      "Failed to scrape data for team_id: 156. Error: index 0 is out of bounds for axis 0 with size 0\n"
     ]
    },
    {
     "name": "stderr",
     "output_type": "stream",
     "text": [
      "158it [27:18,  6.78s/it]"
     ]
    },
    {
     "name": "stdout",
     "output_type": "stream",
     "text": [
      "Failed to scrape data for team_id: 157. Error: index 0 is out of bounds for axis 0 with size 0\n"
     ]
    },
    {
     "name": "stderr",
     "output_type": "stream",
     "text": [
      "C:\\Users\\Justin\\AppData\\Local\\Temp\\ipykernel_14944\\1552106380.py:11: FutureWarning: The frame.append method is deprecated and will be removed from pandas in a future version. Use pandas.concat instead.\n",
      "  df = df.append(data, ignore_index=True)\n",
      "159it [27:20,  5.34s/it]C:\\Users\\Justin\\AppData\\Local\\Temp\\ipykernel_14944\\1552106380.py:11: FutureWarning: The frame.append method is deprecated and will be removed from pandas in a future version. Use pandas.concat instead.\n",
      "  df = df.append(data, ignore_index=True)\n",
      "160it [27:23,  4.56s/it]"
     ]
    },
    {
     "name": "stdout",
     "output_type": "stream",
     "text": [
      "Data saved after 160 loops.\n"
     ]
    },
    {
     "name": "stderr",
     "output_type": "stream",
     "text": [
      "C:\\Users\\Justin\\AppData\\Local\\Temp\\ipykernel_14944\\1552106380.py:11: FutureWarning: The frame.append method is deprecated and will be removed from pandas in a future version. Use pandas.concat instead.\n",
      "  df = df.append(data, ignore_index=True)\n",
      "162it [27:32,  4.18s/it]"
     ]
    },
    {
     "name": "stdout",
     "output_type": "stream",
     "text": [
      "Failed to scrape data for team_id: 161. Error: list index out of range\n"
     ]
    },
    {
     "name": "stderr",
     "output_type": "stream",
     "text": [
      "163it [28:28, 19.70s/it]"
     ]
    },
    {
     "name": "stdout",
     "output_type": "stream",
     "text": [
      "Failed to scrape data for team_id: 162. Error: 'NoneType' object has no attribute 'text'\n"
     ]
    },
    {
     "name": "stderr",
     "output_type": "stream",
     "text": [
      "164it [28:34, 15.66s/it]"
     ]
    },
    {
     "name": "stdout",
     "output_type": "stream",
     "text": [
      "Failed to scrape data for team_id: 163. Error: index 0 is out of bounds for axis 0 with size 0\n"
     ]
    },
    {
     "name": "stderr",
     "output_type": "stream",
     "text": [
      "C:\\Users\\Justin\\AppData\\Local\\Temp\\ipykernel_14944\\1552106380.py:11: FutureWarning: The frame.append method is deprecated and will be removed from pandas in a future version. Use pandas.concat instead.\n",
      "  df = df.append(data, ignore_index=True)\n",
      "165it [28:39, 12.65s/it]C:\\Users\\Justin\\AppData\\Local\\Temp\\ipykernel_14944\\1552106380.py:11: FutureWarning: The frame.append method is deprecated and will be removed from pandas in a future version. Use pandas.concat instead.\n",
      "  df = df.append(data, ignore_index=True)\n",
      "167it [28:58, 11.48s/it]"
     ]
    },
    {
     "name": "stdout",
     "output_type": "stream",
     "text": [
      "Failed to scrape data for team_id: 166. Error: list index out of range\n"
     ]
    },
    {
     "name": "stderr",
     "output_type": "stream",
     "text": [
      "C:\\Users\\Justin\\AppData\\Local\\Temp\\ipykernel_14944\\1552106380.py:11: FutureWarning: The frame.append method is deprecated and will be removed from pandas in a future version. Use pandas.concat instead.\n",
      "  df = df.append(data, ignore_index=True)\n",
      "169it [29:09,  8.18s/it]"
     ]
    },
    {
     "name": "stdout",
     "output_type": "stream",
     "text": [
      "Failed to scrape data for team_id: 168. Error: list index out of range\n"
     ]
    },
    {
     "name": "stderr",
     "output_type": "stream",
     "text": [
      "C:\\Users\\Justin\\AppData\\Local\\Temp\\ipykernel_14944\\1552106380.py:11: FutureWarning: The frame.append method is deprecated and will be removed from pandas in a future version. Use pandas.concat instead.\n",
      "  df = df.append(data, ignore_index=True)\n",
      "170it [29:18,  8.27s/it]C:\\Users\\Justin\\AppData\\Local\\Temp\\ipykernel_14944\\1552106380.py:11: FutureWarning: The frame.append method is deprecated and will be removed from pandas in a future version. Use pandas.concat instead.\n",
      "  df = df.append(data, ignore_index=True)\n",
      "172it [30:18, 21.79s/it]"
     ]
    },
    {
     "name": "stdout",
     "output_type": "stream",
     "text": [
      "Failed to scrape data for team_id: 171. Error: 'NoneType' object has no attribute 'text'\n"
     ]
    },
    {
     "name": "stderr",
     "output_type": "stream",
     "text": [
      "173it [30:19, 15.64s/it]"
     ]
    },
    {
     "name": "stdout",
     "output_type": "stream",
     "text": [
      "Failed to scrape data for team_id: 172. Error: list index out of range\n"
     ]
    },
    {
     "name": "stderr",
     "output_type": "stream",
     "text": [
      "C:\\Users\\Justin\\AppData\\Local\\Temp\\ipykernel_14944\\1552106380.py:11: FutureWarning: The frame.append method is deprecated and will be removed from pandas in a future version. Use pandas.concat instead.\n",
      "  df = df.append(data, ignore_index=True)\n",
      "174it [30:21, 11.61s/it]C:\\Users\\Justin\\AppData\\Local\\Temp\\ipykernel_14944\\1552106380.py:11: FutureWarning: The frame.append method is deprecated and will be removed from pandas in a future version. Use pandas.concat instead.\n",
      "  df = df.append(data, ignore_index=True)\n",
      "175it [30:39, 13.41s/it]C:\\Users\\Justin\\AppData\\Local\\Temp\\ipykernel_14944\\1552106380.py:11: FutureWarning: The frame.append method is deprecated and will be removed from pandas in a future version. Use pandas.concat instead.\n",
      "  df = df.append(data, ignore_index=True)\n",
      "177it [30:44,  7.78s/it]"
     ]
    },
    {
     "name": "stdout",
     "output_type": "stream",
     "text": [
      "Failed to scrape data for team_id: 176. Error: index 0 is out of bounds for axis 0 with size 0\n"
     ]
    },
    {
     "name": "stderr",
     "output_type": "stream",
     "text": [
      "178it [30:45,  5.67s/it]"
     ]
    },
    {
     "name": "stdout",
     "output_type": "stream",
     "text": [
      "Failed to scrape data for team_id: 177. Error: list index out of range\n"
     ]
    },
    {
     "name": "stderr",
     "output_type": "stream",
     "text": [
      "C:\\Users\\Justin\\AppData\\Local\\Temp\\ipykernel_14944\\1552106380.py:11: FutureWarning: The frame.append method is deprecated and will be removed from pandas in a future version. Use pandas.concat instead.\n",
      "  df = df.append(data, ignore_index=True)\n",
      "179it [30:55,  7.06s/it]C:\\Users\\Justin\\AppData\\Local\\Temp\\ipykernel_14944\\1552106380.py:11: FutureWarning: The frame.append method is deprecated and will be removed from pandas in a future version. Use pandas.concat instead.\n",
      "  df = df.append(data, ignore_index=True)\n",
      "180it [31:05,  7.95s/it]"
     ]
    },
    {
     "name": "stdout",
     "output_type": "stream",
     "text": [
      "Data saved after 180 loops.\n"
     ]
    },
    {
     "name": "stderr",
     "output_type": "stream",
     "text": [
      "C:\\Users\\Justin\\AppData\\Local\\Temp\\ipykernel_14944\\1552106380.py:11: FutureWarning: The frame.append method is deprecated and will be removed from pandas in a future version. Use pandas.concat instead.\n",
      "  df = df.append(data, ignore_index=True)\n",
      "181it [31:09,  6.76s/it]C:\\Users\\Justin\\AppData\\Local\\Temp\\ipykernel_14944\\1552106380.py:11: FutureWarning: The frame.append method is deprecated and will be removed from pandas in a future version. Use pandas.concat instead.\n",
      "  df = df.append(data, ignore_index=True)\n",
      "183it [31:25,  7.12s/it]"
     ]
    },
    {
     "name": "stdout",
     "output_type": "stream",
     "text": [
      "Failed to scrape data for team_id: 182. Error: list index out of range\n"
     ]
    },
    {
     "name": "stderr",
     "output_type": "stream",
     "text": [
      "184it [31:34,  7.82s/it]"
     ]
    },
    {
     "name": "stdout",
     "output_type": "stream",
     "text": [
      "Failed to scrape data for team_id: 183. Error: index 0 is out of bounds for axis 0 with size 0\n"
     ]
    },
    {
     "name": "stderr",
     "output_type": "stream",
     "text": [
      "185it [31:35,  5.71s/it]"
     ]
    },
    {
     "name": "stdout",
     "output_type": "stream",
     "text": [
      "Failed to scrape data for team_id: 184. Error: index 0 is out of bounds for axis 0 with size 0\n"
     ]
    },
    {
     "name": "stderr",
     "output_type": "stream",
     "text": [
      "186it [32:00, 11.56s/it]"
     ]
    },
    {
     "name": "stdout",
     "output_type": "stream",
     "text": [
      "Failed to scrape data for team_id: 185. Error: list index out of range\n"
     ]
    },
    {
     "name": "stderr",
     "output_type": "stream",
     "text": [
      "187it [32:02,  8.65s/it]"
     ]
    },
    {
     "name": "stdout",
     "output_type": "stream",
     "text": [
      "Failed to scrape data for team_id: 186. Error: index 0 is out of bounds for axis 0 with size 0\n"
     ]
    },
    {
     "name": "stderr",
     "output_type": "stream",
     "text": [
      "188it [32:44, 18.59s/it]"
     ]
    },
    {
     "name": "stdout",
     "output_type": "stream",
     "text": [
      "Failed to scrape data for team_id: 187. Error: 'NoneType' object has no attribute 'text'\n"
     ]
    },
    {
     "name": "stderr",
     "output_type": "stream",
     "text": [
      "189it [33:30, 26.84s/it]"
     ]
    },
    {
     "name": "stdout",
     "output_type": "stream",
     "text": [
      "Failed to scrape data for team_id: 188. Error: 'NoneType' object has no attribute 'text'\n"
     ]
    },
    {
     "name": "stderr",
     "output_type": "stream",
     "text": [
      "190it [33:31, 19.10s/it]"
     ]
    },
    {
     "name": "stdout",
     "output_type": "stream",
     "text": [
      "Failed to scrape data for team_id: 189. Error: index 0 is out of bounds for axis 0 with size 0\n"
     ]
    },
    {
     "name": "stderr",
     "output_type": "stream",
     "text": [
      "C:\\Users\\Justin\\AppData\\Local\\Temp\\ipykernel_14944\\1552106380.py:11: FutureWarning: The frame.append method is deprecated and will be removed from pandas in a future version. Use pandas.concat instead.\n",
      "  df = df.append(data, ignore_index=True)\n",
      "192it [33:41, 12.17s/it]"
     ]
    },
    {
     "name": "stdout",
     "output_type": "stream",
     "text": [
      "Failed to scrape data for team_id: 191. Error: index 0 is out of bounds for axis 0 with size 0\n"
     ]
    },
    {
     "name": "stderr",
     "output_type": "stream",
     "text": [
      "C:\\Users\\Justin\\AppData\\Local\\Temp\\ipykernel_14944\\1552106380.py:11: FutureWarning: The frame.append method is deprecated and will be removed from pandas in a future version. Use pandas.concat instead.\n",
      "  df = df.append(data, ignore_index=True)\n",
      "193it [33:43,  9.03s/it]C:\\Users\\Justin\\AppData\\Local\\Temp\\ipykernel_14944\\1552106380.py:11: FutureWarning: The frame.append method is deprecated and will be removed from pandas in a future version. Use pandas.concat instead.\n",
      "  df = df.append(data, ignore_index=True)\n",
      "195it [33:51,  6.75s/it]"
     ]
    },
    {
     "name": "stdout",
     "output_type": "stream",
     "text": [
      "Failed to scrape data for team_id: 194. Error: index 0 is out of bounds for axis 0 with size 0\n"
     ]
    },
    {
     "name": "stderr",
     "output_type": "stream",
     "text": [
      "C:\\Users\\Justin\\AppData\\Local\\Temp\\ipykernel_14944\\1552106380.py:11: FutureWarning: The frame.append method is deprecated and will be removed from pandas in a future version. Use pandas.concat instead.\n",
      "  df = df.append(data, ignore_index=True)\n",
      "196it [33:53,  5.20s/it]C:\\Users\\Justin\\AppData\\Local\\Temp\\ipykernel_14944\\1552106380.py:11: FutureWarning: The frame.append method is deprecated and will be removed from pandas in a future version. Use pandas.concat instead.\n",
      "  df = df.append(data, ignore_index=True)\n",
      "197it [33:58,  5.40s/it]C:\\Users\\Justin\\AppData\\Local\\Temp\\ipykernel_14944\\1552106380.py:11: FutureWarning: The frame.append method is deprecated and will be removed from pandas in a future version. Use pandas.concat instead.\n",
      "  df = df.append(data, ignore_index=True)\n",
      "198it [34:00,  4.32s/it]C:\\Users\\Justin\\AppData\\Local\\Temp\\ipykernel_14944\\1552106380.py:11: FutureWarning: The frame.append method is deprecated and will be removed from pandas in a future version. Use pandas.concat instead.\n",
      "  df = df.append(data, ignore_index=True)\n",
      "200it [34:11,  4.53s/it]"
     ]
    },
    {
     "name": "stdout",
     "output_type": "stream",
     "text": [
      "Failed to scrape data for team_id: 199. Error: list index out of range\n",
      "Data saved after 200 loops.\n"
     ]
    },
    {
     "name": "stderr",
     "output_type": "stream",
     "text": [
      "201it [34:20,  5.97s/it]"
     ]
    },
    {
     "name": "stdout",
     "output_type": "stream",
     "text": [
      "Failed to scrape data for team_id: 200. Error: list index out of range\n"
     ]
    },
    {
     "name": "stderr",
     "output_type": "stream",
     "text": [
      "C:\\Users\\Justin\\AppData\\Local\\Temp\\ipykernel_14944\\1552106380.py:11: FutureWarning: The frame.append method is deprecated and will be removed from pandas in a future version. Use pandas.concat instead.\n",
      "  df = df.append(data, ignore_index=True)\n",
      "202it [34:29,  6.73s/it]C:\\Users\\Justin\\AppData\\Local\\Temp\\ipykernel_14944\\1552106380.py:11: FutureWarning: The frame.append method is deprecated and will be removed from pandas in a future version. Use pandas.concat instead.\n",
      "  df = df.append(data, ignore_index=True)\n",
      "203it [34:31,  5.54s/it]C:\\Users\\Justin\\AppData\\Local\\Temp\\ipykernel_14944\\1552106380.py:11: FutureWarning: The frame.append method is deprecated and will be removed from pandas in a future version. Use pandas.concat instead.\n",
      "  df = df.append(data, ignore_index=True)\n",
      "204it [34:33,  4.45s/it]C:\\Users\\Justin\\AppData\\Local\\Temp\\ipykernel_14944\\1552106380.py:11: FutureWarning: The frame.append method is deprecated and will be removed from pandas in a future version. Use pandas.concat instead.\n",
      "  df = df.append(data, ignore_index=True)\n",
      "205it [34:35,  3.63s/it]C:\\Users\\Justin\\AppData\\Local\\Temp\\ipykernel_14944\\1552106380.py:11: FutureWarning: The frame.append method is deprecated and will be removed from pandas in a future version. Use pandas.concat instead.\n",
      "  df = df.append(data, ignore_index=True)\n",
      "206it [34:49,  6.68s/it]C:\\Users\\Justin\\AppData\\Local\\Temp\\ipykernel_14944\\1552106380.py:11: FutureWarning: The frame.append method is deprecated and will be removed from pandas in a future version. Use pandas.concat instead.\n",
      "  df = df.append(data, ignore_index=True)\n",
      "208it [34:54,  4.81s/it]"
     ]
    },
    {
     "name": "stdout",
     "output_type": "stream",
     "text": [
      "Failed to scrape data for team_id: 207. Error: index 0 is out of bounds for axis 0 with size 0\n"
     ]
    },
    {
     "name": "stderr",
     "output_type": "stream",
     "text": [
      "C:\\Users\\Justin\\AppData\\Local\\Temp\\ipykernel_14944\\1552106380.py:11: FutureWarning: The frame.append method is deprecated and will be removed from pandas in a future version. Use pandas.concat instead.\n",
      "  df = df.append(data, ignore_index=True)\n",
      "210it [35:05,  4.94s/it]"
     ]
    },
    {
     "name": "stdout",
     "output_type": "stream",
     "text": [
      "Failed to scrape data for team_id: 209. Error: index 0 is out of bounds for axis 0 with size 0\n"
     ]
    },
    {
     "name": "stderr",
     "output_type": "stream",
     "text": [
      "211it [35:09,  4.93s/it]"
     ]
    },
    {
     "name": "stdout",
     "output_type": "stream",
     "text": [
      "Failed to scrape data for team_id: 210. Error: index 0 is out of bounds for axis 0 with size 0\n"
     ]
    },
    {
     "name": "stderr",
     "output_type": "stream",
     "text": [
      "C:\\Users\\Justin\\AppData\\Local\\Temp\\ipykernel_14944\\1552106380.py:11: FutureWarning: The frame.append method is deprecated and will be removed from pandas in a future version. Use pandas.concat instead.\n",
      "  df = df.append(data, ignore_index=True)\n",
      "213it [35:20,  5.10s/it]"
     ]
    },
    {
     "name": "stdout",
     "output_type": "stream",
     "text": [
      "Failed to scrape data for team_id: 212. Error: list index out of range\n"
     ]
    },
    {
     "name": "stderr",
     "output_type": "stream",
     "text": [
      "C:\\Users\\Justin\\AppData\\Local\\Temp\\ipykernel_14944\\1552106380.py:11: FutureWarning: The frame.append method is deprecated and will be removed from pandas in a future version. Use pandas.concat instead.\n",
      "  df = df.append(data, ignore_index=True)\n",
      "215it [35:23,  3.14s/it]"
     ]
    },
    {
     "name": "stdout",
     "output_type": "stream",
     "text": [
      "Failed to scrape data for team_id: 214. Error: list index out of range\n"
     ]
    },
    {
     "name": "stderr",
     "output_type": "stream",
     "text": [
      "216it [35:25,  2.76s/it]"
     ]
    },
    {
     "name": "stdout",
     "output_type": "stream",
     "text": [
      "Failed to scrape data for team_id: 215. Error: index 0 is out of bounds for axis 0 with size 0\n"
     ]
    },
    {
     "name": "stderr",
     "output_type": "stream",
     "text": [
      "C:\\Users\\Justin\\AppData\\Local\\Temp\\ipykernel_14944\\1552106380.py:11: FutureWarning: The frame.append method is deprecated and will be removed from pandas in a future version. Use pandas.concat instead.\n",
      "  df = df.append(data, ignore_index=True)\n",
      "218it [35:33,  3.24s/it]"
     ]
    },
    {
     "name": "stdout",
     "output_type": "stream",
     "text": [
      "Failed to scrape data for team_id: 217. Error: list index out of range\n"
     ]
    },
    {
     "name": "stderr",
     "output_type": "stream",
     "text": [
      "219it [35:34,  2.54s/it]"
     ]
    },
    {
     "name": "stdout",
     "output_type": "stream",
     "text": [
      "Failed to scrape data for team_id: 218. Error: list index out of range\n"
     ]
    },
    {
     "name": "stderr",
     "output_type": "stream",
     "text": [
      "C:\\Users\\Justin\\AppData\\Local\\Temp\\ipykernel_14944\\1552106380.py:11: FutureWarning: The frame.append method is deprecated and will be removed from pandas in a future version. Use pandas.concat instead.\n",
      "  df = df.append(data, ignore_index=True)\n",
      "220it [35:41,  4.00s/it]"
     ]
    },
    {
     "name": "stdout",
     "output_type": "stream",
     "text": [
      "Data saved after 220 loops.\n"
     ]
    },
    {
     "name": "stderr",
     "output_type": "stream",
     "text": [
      "C:\\Users\\Justin\\AppData\\Local\\Temp\\ipykernel_14944\\1552106380.py:11: FutureWarning: The frame.append method is deprecated and will be removed from pandas in a future version. Use pandas.concat instead.\n",
      "  df = df.append(data, ignore_index=True)\n",
      "221it [35:43,  3.44s/it]C:\\Users\\Justin\\AppData\\Local\\Temp\\ipykernel_14944\\1552106380.py:11: FutureWarning: The frame.append method is deprecated and will be removed from pandas in a future version. Use pandas.concat instead.\n",
      "  df = df.append(data, ignore_index=True)\n",
      "222it [35:45,  3.03s/it]C:\\Users\\Justin\\AppData\\Local\\Temp\\ipykernel_14944\\1552106380.py:11: FutureWarning: The frame.append method is deprecated and will be removed from pandas in a future version. Use pandas.concat instead.\n",
      "  df = df.append(data, ignore_index=True)\n",
      "224it [35:52,  3.12s/it]"
     ]
    },
    {
     "name": "stdout",
     "output_type": "stream",
     "text": [
      "Failed to scrape data for team_id: 223. Error: index 0 is out of bounds for axis 0 with size 0\n"
     ]
    },
    {
     "name": "stderr",
     "output_type": "stream",
     "text": [
      "225it [35:59,  4.04s/it]"
     ]
    },
    {
     "name": "stdout",
     "output_type": "stream",
     "text": [
      "Failed to scrape data for team_id: 224. Error: index 0 is out of bounds for axis 0 with size 0\n"
     ]
    },
    {
     "name": "stderr",
     "output_type": "stream",
     "text": [
      "C:\\Users\\Justin\\AppData\\Local\\Temp\\ipykernel_14944\\1552106380.py:11: FutureWarning: The frame.append method is deprecated and will be removed from pandas in a future version. Use pandas.concat instead.\n",
      "  df = df.append(data, ignore_index=True)\n",
      "227it [36:55, 18.67s/it]"
     ]
    },
    {
     "name": "stdout",
     "output_type": "stream",
     "text": [
      "Failed to scrape data for team_id: 226. Error: 'NoneType' object has no attribute 'text'\n"
     ]
    },
    {
     "name": "stderr",
     "output_type": "stream",
     "text": [
      "228it [37:01, 14.66s/it]"
     ]
    },
    {
     "name": "stdout",
     "output_type": "stream",
     "text": [
      "Failed to scrape data for team_id: 227. Error: list index out of range\n"
     ]
    },
    {
     "name": "stderr",
     "output_type": "stream",
     "text": [
      "C:\\Users\\Justin\\AppData\\Local\\Temp\\ipykernel_14944\\1552106380.py:11: FutureWarning: The frame.append method is deprecated and will be removed from pandas in a future version. Use pandas.concat instead.\n",
      "  df = df.append(data, ignore_index=True)\n",
      "229it [37:14, 14.15s/it]C:\\Users\\Justin\\AppData\\Local\\Temp\\ipykernel_14944\\1552106380.py:11: FutureWarning: The frame.append method is deprecated and will be removed from pandas in a future version. Use pandas.concat instead.\n",
      "  df = df.append(data, ignore_index=True)\n",
      "230it [37:15, 10.47s/it]C:\\Users\\Justin\\AppData\\Local\\Temp\\ipykernel_14944\\1552106380.py:11: FutureWarning: The frame.append method is deprecated and will be removed from pandas in a future version. Use pandas.concat instead.\n",
      "  df = df.append(data, ignore_index=True)\n",
      "231it [37:20,  8.73s/it]C:\\Users\\Justin\\AppData\\Local\\Temp\\ipykernel_14944\\1552106380.py:11: FutureWarning: The frame.append method is deprecated and will be removed from pandas in a future version. Use pandas.concat instead.\n",
      "  df = df.append(data, ignore_index=True)\n",
      "233it [38:19, 21.72s/it]"
     ]
    },
    {
     "name": "stdout",
     "output_type": "stream",
     "text": [
      "Failed to scrape data for team_id: 232. Error: 'NoneType' object has no attribute 'text'\n"
     ]
    },
    {
     "name": "stderr",
     "output_type": "stream",
     "text": [
      "C:\\Users\\Justin\\AppData\\Local\\Temp\\ipykernel_14944\\1552106380.py:11: FutureWarning: The frame.append method is deprecated and will be removed from pandas in a future version. Use pandas.concat instead.\n",
      "  df = df.append(data, ignore_index=True)\n",
      "234it [38:21, 15.83s/it]C:\\Users\\Justin\\AppData\\Local\\Temp\\ipykernel_14944\\1552106380.py:11: FutureWarning: The frame.append method is deprecated and will be removed from pandas in a future version. Use pandas.concat instead.\n",
      "  df = df.append(data, ignore_index=True)\n",
      "235it [38:25, 12.23s/it]C:\\Users\\Justin\\AppData\\Local\\Temp\\ipykernel_14944\\1552106380.py:11: FutureWarning: The frame.append method is deprecated and will be removed from pandas in a future version. Use pandas.concat instead.\n",
      "  df = df.append(data, ignore_index=True)\n",
      "236it [38:30, 10.29s/it]C:\\Users\\Justin\\AppData\\Local\\Temp\\ipykernel_14944\\1552106380.py:11: FutureWarning: The frame.append method is deprecated and will be removed from pandas in a future version. Use pandas.concat instead.\n",
      "  df = df.append(data, ignore_index=True)\n",
      "238it [38:42,  8.11s/it]"
     ]
    },
    {
     "name": "stdout",
     "output_type": "stream",
     "text": [
      "Failed to scrape data for team_id: 237. Error: index 0 is out of bounds for axis 0 with size 0\n"
     ]
    },
    {
     "name": "stderr",
     "output_type": "stream",
     "text": [
      "C:\\Users\\Justin\\AppData\\Local\\Temp\\ipykernel_14944\\1552106380.py:11: FutureWarning: The frame.append method is deprecated and will be removed from pandas in a future version. Use pandas.concat instead.\n",
      "  df = df.append(data, ignore_index=True)\n",
      "239it [38:49,  7.72s/it]C:\\Users\\Justin\\AppData\\Local\\Temp\\ipykernel_14944\\1552106380.py:11: FutureWarning: The frame.append method is deprecated and will be removed from pandas in a future version. Use pandas.concat instead.\n",
      "  df = df.append(data, ignore_index=True)\n",
      "240it [38:59,  8.41s/it]"
     ]
    },
    {
     "name": "stdout",
     "output_type": "stream",
     "text": [
      "Data saved after 240 loops.\n"
     ]
    },
    {
     "name": "stderr",
     "output_type": "stream",
     "text": [
      "241it [39:54, 22.52s/it]"
     ]
    },
    {
     "name": "stdout",
     "output_type": "stream",
     "text": [
      "Failed to scrape data for team_id: 240. Error: 'NoneType' object has no attribute 'text'\n"
     ]
    },
    {
     "name": "stderr",
     "output_type": "stream",
     "text": [
      "C:\\Users\\Justin\\AppData\\Local\\Temp\\ipykernel_14944\\1552106380.py:11: FutureWarning: The frame.append method is deprecated and will be removed from pandas in a future version. Use pandas.concat instead.\n",
      "  df = df.append(data, ignore_index=True)\n",
      "242it [39:56, 16.17s/it]C:\\Users\\Justin\\AppData\\Local\\Temp\\ipykernel_14944\\1552106380.py:11: FutureWarning: The frame.append method is deprecated and will be removed from pandas in a future version. Use pandas.concat instead.\n",
      "  df = df.append(data, ignore_index=True)\n",
      "243it [40:01, 12.85s/it]C:\\Users\\Justin\\AppData\\Local\\Temp\\ipykernel_14944\\1552106380.py:11: FutureWarning: The frame.append method is deprecated and will be removed from pandas in a future version. Use pandas.concat instead.\n",
      "  df = df.append(data, ignore_index=True)\n",
      "245it [40:04,  7.13s/it]"
     ]
    },
    {
     "name": "stdout",
     "output_type": "stream",
     "text": [
      "Failed to scrape data for team_id: 244. Error: index 0 is out of bounds for axis 0 with size 0\n"
     ]
    },
    {
     "name": "stderr",
     "output_type": "stream",
     "text": [
      "C:\\Users\\Justin\\AppData\\Local\\Temp\\ipykernel_14944\\1552106380.py:11: FutureWarning: The frame.append method is deprecated and will be removed from pandas in a future version. Use pandas.concat instead.\n",
      "  df = df.append(data, ignore_index=True)\n",
      "247it [40:10,  4.70s/it]"
     ]
    },
    {
     "name": "stdout",
     "output_type": "stream",
     "text": [
      "Failed to scrape data for team_id: 246. Error: list index out of range\n"
     ]
    },
    {
     "name": "stderr",
     "output_type": "stream",
     "text": [
      "248it [40:11,  3.65s/it]"
     ]
    },
    {
     "name": "stdout",
     "output_type": "stream",
     "text": [
      "Failed to scrape data for team_id: 247. Error: list index out of range\n"
     ]
    },
    {
     "name": "stderr",
     "output_type": "stream",
     "text": [
      "C:\\Users\\Justin\\AppData\\Local\\Temp\\ipykernel_14944\\1552106380.py:11: FutureWarning: The frame.append method is deprecated and will be removed from pandas in a future version. Use pandas.concat instead.\n",
      "  df = df.append(data, ignore_index=True)\n",
      "249it [40:19,  5.09s/it]C:\\Users\\Justin\\AppData\\Local\\Temp\\ipykernel_14944\\1552106380.py:11: FutureWarning: The frame.append method is deprecated and will be removed from pandas in a future version. Use pandas.concat instead.\n",
      "  df = df.append(data, ignore_index=True)\n",
      "251it [41:19, 20.08s/it]"
     ]
    },
    {
     "name": "stdout",
     "output_type": "stream",
     "text": [
      "Failed to scrape data for team_id: 250. Error: 'NoneType' object has no attribute 'text'\n"
     ]
    },
    {
     "name": "stderr",
     "output_type": "stream",
     "text": [
      "C:\\Users\\Justin\\AppData\\Local\\Temp\\ipykernel_14944\\1552106380.py:11: FutureWarning: The frame.append method is deprecated and will be removed from pandas in a future version. Use pandas.concat instead.\n",
      "  df = df.append(data, ignore_index=True)\n",
      "253it [42:21, 27.90s/it]"
     ]
    },
    {
     "name": "stdout",
     "output_type": "stream",
     "text": [
      "Failed to scrape data for team_id: 252. Error: 'NoneType' object has no attribute 'text'\n"
     ]
    },
    {
     "name": "stderr",
     "output_type": "stream",
     "text": [
      "C:\\Users\\Justin\\AppData\\Local\\Temp\\ipykernel_14944\\1552106380.py:11: FutureWarning: The frame.append method is deprecated and will be removed from pandas in a future version. Use pandas.concat instead.\n",
      "  df = df.append(data, ignore_index=True)\n",
      "254it [42:23, 20.22s/it]C:\\Users\\Justin\\AppData\\Local\\Temp\\ipykernel_14944\\1552106380.py:11: FutureWarning: The frame.append method is deprecated and will be removed from pandas in a future version. Use pandas.concat instead.\n",
      "  df = df.append(data, ignore_index=True)\n",
      "255it [42:34, 17.36s/it]C:\\Users\\Justin\\AppData\\Local\\Temp\\ipykernel_14944\\1552106380.py:11: FutureWarning: The frame.append method is deprecated and will be removed from pandas in a future version. Use pandas.concat instead.\n",
      "  df = df.append(data, ignore_index=True)\n",
      "257it [43:22, 22.72s/it]"
     ]
    },
    {
     "name": "stdout",
     "output_type": "stream",
     "text": [
      "Failed to scrape data for team_id: 256. Error: 'NoneType' object has no attribute 'text'\n"
     ]
    },
    {
     "name": "stderr",
     "output_type": "stream",
     "text": [
      "C:\\Users\\Justin\\AppData\\Local\\Temp\\ipykernel_14944\\1552106380.py:11: FutureWarning: The frame.append method is deprecated and will be removed from pandas in a future version. Use pandas.concat instead.\n",
      "  df = df.append(data, ignore_index=True)\n",
      "258it [43:23, 16.36s/it]C:\\Users\\Justin\\AppData\\Local\\Temp\\ipykernel_14944\\1552106380.py:11: FutureWarning: The frame.append method is deprecated and will be removed from pandas in a future version. Use pandas.concat instead.\n",
      "  df = df.append(data, ignore_index=True)\n",
      "259it [43:25, 11.86s/it]C:\\Users\\Justin\\AppData\\Local\\Temp\\ipykernel_14944\\1552106380.py:11: FutureWarning: The frame.append method is deprecated and will be removed from pandas in a future version. Use pandas.concat instead.\n",
      "  df = df.append(data, ignore_index=True)\n",
      "260it [43:31, 10.10s/it]"
     ]
    },
    {
     "name": "stdout",
     "output_type": "stream",
     "text": [
      "Data saved after 260 loops.\n"
     ]
    },
    {
     "name": "stderr",
     "output_type": "stream",
     "text": [
      "C:\\Users\\Justin\\AppData\\Local\\Temp\\ipykernel_14944\\1552106380.py:11: FutureWarning: The frame.append method is deprecated and will be removed from pandas in a future version. Use pandas.concat instead.\n",
      "  df = df.append(data, ignore_index=True)\n",
      "261it [43:32,  7.58s/it]C:\\Users\\Justin\\AppData\\Local\\Temp\\ipykernel_14944\\1552106380.py:11: FutureWarning: The frame.append method is deprecated and will be removed from pandas in a future version. Use pandas.concat instead.\n",
      "  df = df.append(data, ignore_index=True)\n",
      "262it [43:34,  5.80s/it]C:\\Users\\Justin\\AppData\\Local\\Temp\\ipykernel_14944\\1552106380.py:11: FutureWarning: The frame.append method is deprecated and will be removed from pandas in a future version. Use pandas.concat instead.\n",
      "  df = df.append(data, ignore_index=True)\n",
      "263it [43:36,  4.63s/it]C:\\Users\\Justin\\AppData\\Local\\Temp\\ipykernel_14944\\1552106380.py:11: FutureWarning: The frame.append method is deprecated and will be removed from pandas in a future version. Use pandas.concat instead.\n",
      "  df = df.append(data, ignore_index=True)\n",
      "265it [43:43,  3.78s/it]"
     ]
    },
    {
     "name": "stdout",
     "output_type": "stream",
     "text": [
      "Failed to scrape data for team_id: 264. Error: list index out of range\n"
     ]
    },
    {
     "name": "stderr",
     "output_type": "stream",
     "text": [
      "C:\\Users\\Justin\\AppData\\Local\\Temp\\ipykernel_14944\\1552106380.py:11: FutureWarning: The frame.append method is deprecated and will be removed from pandas in a future version. Use pandas.concat instead.\n",
      "  df = df.append(data, ignore_index=True)\n",
      "267it [43:44,  2.24s/it]"
     ]
    },
    {
     "name": "stdout",
     "output_type": "stream",
     "text": [
      "Failed to scrape data for team_id: 266. Error: list index out of range\n"
     ]
    },
    {
     "name": "stderr",
     "output_type": "stream",
     "text": [
      "C:\\Users\\Justin\\AppData\\Local\\Temp\\ipykernel_14944\\1552106380.py:11: FutureWarning: The frame.append method is deprecated and will be removed from pandas in a future version. Use pandas.concat instead.\n",
      "  df = df.append(data, ignore_index=True)\n",
      "268it [43:46,  2.16s/it]C:\\Users\\Justin\\AppData\\Local\\Temp\\ipykernel_14944\\1552106380.py:11: FutureWarning: The frame.append method is deprecated and will be removed from pandas in a future version. Use pandas.concat instead.\n",
      "  df = df.append(data, ignore_index=True)\n",
      "269it [43:52,  3.32s/it]C:\\Users\\Justin\\AppData\\Local\\Temp\\ipykernel_14944\\1552106380.py:11: FutureWarning: The frame.append method is deprecated and will be removed from pandas in a future version. Use pandas.concat instead.\n",
      "  df = df.append(data, ignore_index=True)\n",
      "271it [43:55,  2.33s/it]"
     ]
    },
    {
     "name": "stdout",
     "output_type": "stream",
     "text": [
      "Failed to scrape data for team_id: 270. Error: index 0 is out of bounds for axis 0 with size 0\n"
     ]
    },
    {
     "name": "stderr",
     "output_type": "stream",
     "text": [
      "272it [44:12,  6.80s/it]"
     ]
    },
    {
     "name": "stdout",
     "output_type": "stream",
     "text": [
      "Failed to scrape data for team_id: 271. Error: list index out of range\n"
     ]
    },
    {
     "name": "stderr",
     "output_type": "stream",
     "text": [
      "C:\\Users\\Justin\\AppData\\Local\\Temp\\ipykernel_14944\\1552106380.py:11: FutureWarning: The frame.append method is deprecated and will be removed from pandas in a future version. Use pandas.concat instead.\n",
      "  df = df.append(data, ignore_index=True)\n",
      "274it [44:15,  3.92s/it]"
     ]
    },
    {
     "name": "stdout",
     "output_type": "stream",
     "text": [
      "Failed to scrape data for team_id: 273. Error: list index out of range\n"
     ]
    },
    {
     "name": "stderr",
     "output_type": "stream",
     "text": [
      "275it [45:00, 16.12s/it]"
     ]
    },
    {
     "name": "stdout",
     "output_type": "stream",
     "text": [
      "Failed to scrape data for team_id: 274. Error: 'NoneType' object has no attribute 'text'\n"
     ]
    },
    {
     "name": "stderr",
     "output_type": "stream",
     "text": [
      "276it [45:00, 11.42s/it]"
     ]
    },
    {
     "name": "stdout",
     "output_type": "stream",
     "text": [
      "Failed to scrape data for team_id: 275. Error: list index out of range\n"
     ]
    },
    {
     "name": "stderr",
     "output_type": "stream",
     "text": [
      "C:\\Users\\Justin\\AppData\\Local\\Temp\\ipykernel_14944\\1552106380.py:11: FutureWarning: The frame.append method is deprecated and will be removed from pandas in a future version. Use pandas.concat instead.\n",
      "  df = df.append(data, ignore_index=True)\n",
      "277it [45:02,  8.44s/it]C:\\Users\\Justin\\AppData\\Local\\Temp\\ipykernel_14944\\1552106380.py:11: FutureWarning: The frame.append method is deprecated and will be removed from pandas in a future version. Use pandas.concat instead.\n",
      "  df = df.append(data, ignore_index=True)\n",
      "278it [45:02,  6.20s/it]C:\\Users\\Justin\\AppData\\Local\\Temp\\ipykernel_14944\\1552106380.py:11: FutureWarning: The frame.append method is deprecated and will be removed from pandas in a future version. Use pandas.concat instead.\n",
      "  df = df.append(data, ignore_index=True)\n",
      "280it [45:10,  4.74s/it]"
     ]
    },
    {
     "name": "stdout",
     "output_type": "stream",
     "text": [
      "Failed to scrape data for team_id: 279. Error: list index out of range\n",
      "Data saved after 280 loops.\n"
     ]
    },
    {
     "name": "stderr",
     "output_type": "stream",
     "text": [
      "C:\\Users\\Justin\\AppData\\Local\\Temp\\ipykernel_14944\\1552106380.py:11: FutureWarning: The frame.append method is deprecated and will be removed from pandas in a future version. Use pandas.concat instead.\n",
      "  df = df.append(data, ignore_index=True)\n",
      "281it [45:11,  3.66s/it]C:\\Users\\Justin\\AppData\\Local\\Temp\\ipykernel_14944\\1552106380.py:11: FutureWarning: The frame.append method is deprecated and will be removed from pandas in a future version. Use pandas.concat instead.\n",
      "  df = df.append(data, ignore_index=True)\n",
      "282it [45:13,  3.14s/it]C:\\Users\\Justin\\AppData\\Local\\Temp\\ipykernel_14944\\1552106380.py:11: FutureWarning: The frame.append method is deprecated and will be removed from pandas in a future version. Use pandas.concat instead.\n",
      "  df = df.append(data, ignore_index=True)\n",
      "283it [45:15,  2.71s/it]C:\\Users\\Justin\\AppData\\Local\\Temp\\ipykernel_14944\\1552106380.py:11: FutureWarning: The frame.append method is deprecated and will be removed from pandas in a future version. Use pandas.concat instead.\n",
      "  df = df.append(data, ignore_index=True)\n",
      "285it [45:26,  4.26s/it]"
     ]
    },
    {
     "name": "stdout",
     "output_type": "stream",
     "text": [
      "Failed to scrape data for team_id: 284. Error: index 0 is out of bounds for axis 0 with size 0\n"
     ]
    },
    {
     "name": "stderr",
     "output_type": "stream",
     "text": [
      "C:\\Users\\Justin\\AppData\\Local\\Temp\\ipykernel_14944\\1552106380.py:11: FutureWarning: The frame.append method is deprecated and will be removed from pandas in a future version. Use pandas.concat instead.\n",
      "  df = df.append(data, ignore_index=True)\n",
      "286it [45:32,  4.80s/it]C:\\Users\\Justin\\AppData\\Local\\Temp\\ipykernel_14944\\1552106380.py:11: FutureWarning: The frame.append method is deprecated and will be removed from pandas in a future version. Use pandas.concat instead.\n",
      "  df = df.append(data, ignore_index=True)\n",
      "287it [45:34,  3.78s/it]C:\\Users\\Justin\\AppData\\Local\\Temp\\ipykernel_14944\\1552106380.py:11: FutureWarning: The frame.append method is deprecated and will be removed from pandas in a future version. Use pandas.concat instead.\n",
      "  df = df.append(data, ignore_index=True)\n",
      "288it [45:40,  4.63s/it]C:\\Users\\Justin\\AppData\\Local\\Temp\\ipykernel_14944\\1552106380.py:11: FutureWarning: The frame.append method is deprecated and will be removed from pandas in a future version. Use pandas.concat instead.\n",
      "  df = df.append(data, ignore_index=True)\n",
      "290it [46:34, 18.30s/it]"
     ]
    },
    {
     "name": "stdout",
     "output_type": "stream",
     "text": [
      "Failed to scrape data for team_id: 289. Error: 'NoneType' object has no attribute 'text'\n"
     ]
    },
    {
     "name": "stderr",
     "output_type": "stream",
     "text": [
      "291it [46:37, 13.51s/it]"
     ]
    },
    {
     "name": "stdout",
     "output_type": "stream",
     "text": [
      "Failed to scrape data for team_id: 290. Error: index 0 is out of bounds for axis 0 with size 0\n"
     ]
    },
    {
     "name": "stderr",
     "output_type": "stream",
     "text": [
      "292it [46:41, 10.82s/it]"
     ]
    },
    {
     "name": "stdout",
     "output_type": "stream",
     "text": [
      "Failed to scrape data for team_id: 291. Error: index 0 is out of bounds for axis 0 with size 0\n"
     ]
    },
    {
     "name": "stderr",
     "output_type": "stream",
     "text": [
      "293it [46:43,  8.16s/it]"
     ]
    },
    {
     "name": "stdout",
     "output_type": "stream",
     "text": [
      "Failed to scrape data for team_id: 292. Error: list index out of range\n"
     ]
    },
    {
     "name": "stderr",
     "output_type": "stream",
     "text": [
      "294it [47:40, 22.74s/it]"
     ]
    },
    {
     "name": "stdout",
     "output_type": "stream",
     "text": [
      "Failed to scrape data for team_id: 293. Error: 'NoneType' object has no attribute 'text'\n"
     ]
    },
    {
     "name": "stderr",
     "output_type": "stream",
     "text": [
      "295it [47:41, 16.34s/it]"
     ]
    },
    {
     "name": "stdout",
     "output_type": "stream",
     "text": [
      "Failed to scrape data for team_id: 294. Error: index 0 is out of bounds for axis 0 with size 0\n"
     ]
    },
    {
     "name": "stderr",
     "output_type": "stream",
     "text": [
      "296it [47:43, 11.93s/it]"
     ]
    },
    {
     "name": "stdout",
     "output_type": "stream",
     "text": [
      "Failed to scrape data for team_id: 295. Error: index 0 is out of bounds for axis 0 with size 0\n"
     ]
    },
    {
     "name": "stderr",
     "output_type": "stream",
     "text": [
      "C:\\Users\\Justin\\AppData\\Local\\Temp\\ipykernel_14944\\1552106380.py:11: FutureWarning: The frame.append method is deprecated and will be removed from pandas in a future version. Use pandas.concat instead.\n",
      "  df = df.append(data, ignore_index=True)\n",
      "298it [47:44,  6.19s/it]"
     ]
    },
    {
     "name": "stdout",
     "output_type": "stream",
     "text": [
      "Failed to scrape data for team_id: 297. Error: list index out of range\n"
     ]
    },
    {
     "name": "stderr",
     "output_type": "stream",
     "text": [
      "299it [48:30, 17.95s/it]"
     ]
    },
    {
     "name": "stdout",
     "output_type": "stream",
     "text": [
      "Failed to scrape data for team_id: 298. Error: 'NoneType' object has no attribute 'text'\n"
     ]
    },
    {
     "name": "stderr",
     "output_type": "stream",
     "text": [
      "C:\\Users\\Justin\\AppData\\Local\\Temp\\ipykernel_14944\\1552106380.py:11: FutureWarning: The frame.append method is deprecated and will be removed from pandas in a future version. Use pandas.concat instead.\n",
      "  df = df.append(data, ignore_index=True)\n",
      "300it [48:31, 12.91s/it]"
     ]
    },
    {
     "name": "stdout",
     "output_type": "stream",
     "text": [
      "Data saved after 300 loops.\n"
     ]
    },
    {
     "name": "stderr",
     "output_type": "stream",
     "text": [
      "C:\\Users\\Justin\\AppData\\Local\\Temp\\ipykernel_14944\\1552106380.py:11: FutureWarning: The frame.append method is deprecated and will be removed from pandas in a future version. Use pandas.concat instead.\n",
      "  df = df.append(data, ignore_index=True)\n",
      "301it [48:32,  9.45s/it]C:\\Users\\Justin\\AppData\\Local\\Temp\\ipykernel_14944\\1552106380.py:11: FutureWarning: The frame.append method is deprecated and will be removed from pandas in a future version. Use pandas.concat instead.\n",
      "  df = df.append(data, ignore_index=True)\n",
      "302it [48:33,  6.89s/it]C:\\Users\\Justin\\AppData\\Local\\Temp\\ipykernel_14944\\1552106380.py:11: FutureWarning: The frame.append method is deprecated and will be removed from pandas in a future version. Use pandas.concat instead.\n",
      "  df = df.append(data, ignore_index=True)\n",
      "303it [48:34,  5.18s/it]C:\\Users\\Justin\\AppData\\Local\\Temp\\ipykernel_14944\\1552106380.py:11: FutureWarning: The frame.append method is deprecated and will be removed from pandas in a future version. Use pandas.concat instead.\n",
      "  df = df.append(data, ignore_index=True)\n",
      "305it [49:30, 19.06s/it]"
     ]
    },
    {
     "name": "stdout",
     "output_type": "stream",
     "text": [
      "Failed to scrape data for team_id: 304. Error: 'NoneType' object has no attribute 'text'\n"
     ]
    },
    {
     "name": "stderr",
     "output_type": "stream",
     "text": [
      "C:\\Users\\Justin\\AppData\\Local\\Temp\\ipykernel_14944\\1552106380.py:11: FutureWarning: The frame.append method is deprecated and will be removed from pandas in a future version. Use pandas.concat instead.\n",
      "  df = df.append(data, ignore_index=True)\n",
      "306it [49:31, 13.63s/it]C:\\Users\\Justin\\AppData\\Local\\Temp\\ipykernel_14944\\1552106380.py:11: FutureWarning: The frame.append method is deprecated and will be removed from pandas in a future version. Use pandas.concat instead.\n",
      "  df = df.append(data, ignore_index=True)\n",
      "307it [49:32,  9.91s/it]C:\\Users\\Justin\\AppData\\Local\\Temp\\ipykernel_14944\\1552106380.py:11: FutureWarning: The frame.append method is deprecated and will be removed from pandas in a future version. Use pandas.concat instead.\n",
      "  df = df.append(data, ignore_index=True)\n",
      "308it [49:42,  9.85s/it]C:\\Users\\Justin\\AppData\\Local\\Temp\\ipykernel_14944\\1552106380.py:11: FutureWarning: The frame.append method is deprecated and will be removed from pandas in a future version. Use pandas.concat instead.\n",
      "  df = df.append(data, ignore_index=True)\n",
      "310it [49:45,  5.62s/it]"
     ]
    },
    {
     "name": "stdout",
     "output_type": "stream",
     "text": [
      "Failed to scrape data for team_id: 309. Error: list index out of range\n"
     ]
    },
    {
     "name": "stderr",
     "output_type": "stream",
     "text": [
      "C:\\Users\\Justin\\AppData\\Local\\Temp\\ipykernel_14944\\1552106380.py:11: FutureWarning: The frame.append method is deprecated and will be removed from pandas in a future version. Use pandas.concat instead.\n",
      "  df = df.append(data, ignore_index=True)\n",
      "312it [49:53,  4.81s/it]"
     ]
    },
    {
     "name": "stdout",
     "output_type": "stream",
     "text": [
      "Failed to scrape data for team_id: 311. Error: index 0 is out of bounds for axis 0 with size 0\n"
     ]
    },
    {
     "name": "stderr",
     "output_type": "stream",
     "text": [
      "C:\\Users\\Justin\\AppData\\Local\\Temp\\ipykernel_14944\\1552106380.py:11: FutureWarning: The frame.append method is deprecated and will be removed from pandas in a future version. Use pandas.concat instead.\n",
      "  df = df.append(data, ignore_index=True)\n",
      "313it [49:55,  3.98s/it]C:\\Users\\Justin\\AppData\\Local\\Temp\\ipykernel_14944\\1552106380.py:11: FutureWarning: The frame.append method is deprecated and will be removed from pandas in a future version. Use pandas.concat instead.\n",
      "  df = df.append(data, ignore_index=True)\n",
      "314it [49:57,  3.31s/it]C:\\Users\\Justin\\AppData\\Local\\Temp\\ipykernel_14944\\1552106380.py:11: FutureWarning: The frame.append method is deprecated and will be removed from pandas in a future version. Use pandas.concat instead.\n",
      "  df = df.append(data, ignore_index=True)\n",
      "315it [50:03,  4.27s/it]C:\\Users\\Justin\\AppData\\Local\\Temp\\ipykernel_14944\\1552106380.py:11: FutureWarning: The frame.append method is deprecated and will be removed from pandas in a future version. Use pandas.concat instead.\n",
      "  df = df.append(data, ignore_index=True)\n",
      "316it [50:10,  5.18s/it]C:\\Users\\Justin\\AppData\\Local\\Temp\\ipykernel_14944\\1552106380.py:11: FutureWarning: The frame.append method is deprecated and will be removed from pandas in a future version. Use pandas.concat instead.\n",
      "  df = df.append(data, ignore_index=True)\n",
      "317it [50:22,  7.09s/it]C:\\Users\\Justin\\AppData\\Local\\Temp\\ipykernel_14944\\1552106380.py:11: FutureWarning: The frame.append method is deprecated and will be removed from pandas in a future version. Use pandas.concat instead.\n",
      "  df = df.append(data, ignore_index=True)\n",
      "319it [51:27, 22.19s/it]"
     ]
    },
    {
     "name": "stdout",
     "output_type": "stream",
     "text": [
      "Failed to scrape data for team_id: 318. Error: 'NoneType' object has no attribute 'text'\n"
     ]
    },
    {
     "name": "stderr",
     "output_type": "stream",
     "text": [
      "C:\\Users\\Justin\\AppData\\Local\\Temp\\ipykernel_14944\\1552106380.py:11: FutureWarning: The frame.append method is deprecated and will be removed from pandas in a future version. Use pandas.concat instead.\n",
      "  df = df.append(data, ignore_index=True)\n",
      "320it [51:33, 17.26s/it]"
     ]
    },
    {
     "name": "stdout",
     "output_type": "stream",
     "text": [
      "Data saved after 320 loops.\n"
     ]
    },
    {
     "name": "stderr",
     "output_type": "stream",
     "text": [
      "321it [51:34, 12.35s/it]"
     ]
    },
    {
     "name": "stdout",
     "output_type": "stream",
     "text": [
      "Failed to scrape data for team_id: 320. Error: list index out of range\n"
     ]
    },
    {
     "name": "stderr",
     "output_type": "stream",
     "text": [
      "322it [51:34,  8.89s/it]"
     ]
    },
    {
     "name": "stdout",
     "output_type": "stream",
     "text": [
      "Failed to scrape data for team_id: 321. Error: list index out of range\n"
     ]
    },
    {
     "name": "stderr",
     "output_type": "stream",
     "text": [
      "C:\\Users\\Justin\\AppData\\Local\\Temp\\ipykernel_14944\\1552106380.py:11: FutureWarning: The frame.append method is deprecated and will be removed from pandas in a future version. Use pandas.concat instead.\n",
      "  df = df.append(data, ignore_index=True)\n",
      "324it [51:37,  4.92s/it]"
     ]
    },
    {
     "name": "stdout",
     "output_type": "stream",
     "text": [
      "Failed to scrape data for team_id: 323. Error: index 0 is out of bounds for axis 0 with size 0\n"
     ]
    },
    {
     "name": "stderr",
     "output_type": "stream",
     "text": [
      "325it [51:44,  5.49s/it]"
     ]
    },
    {
     "name": "stdout",
     "output_type": "stream",
     "text": [
      "Failed to scrape data for team_id: 324. Error: index 0 is out of bounds for axis 0 with size 0\n"
     ]
    },
    {
     "name": "stderr",
     "output_type": "stream",
     "text": [
      "C:\\Users\\Justin\\AppData\\Local\\Temp\\ipykernel_14944\\1552106380.py:11: FutureWarning: The frame.append method is deprecated and will be removed from pandas in a future version. Use pandas.concat instead.\n",
      "  df = df.append(data, ignore_index=True)\n",
      "326it [51:46,  4.68s/it]C:\\Users\\Justin\\AppData\\Local\\Temp\\ipykernel_14944\\1552106380.py:11: FutureWarning: The frame.append method is deprecated and will be removed from pandas in a future version. Use pandas.concat instead.\n",
      "  df = df.append(data, ignore_index=True)\n",
      "327it [51:53,  5.42s/it]C:\\Users\\Justin\\AppData\\Local\\Temp\\ipykernel_14944\\1552106380.py:11: FutureWarning: The frame.append method is deprecated and will be removed from pandas in a future version. Use pandas.concat instead.\n",
      "  df = df.append(data, ignore_index=True)\n",
      "328it [51:55,  4.20s/it]C:\\Users\\Justin\\AppData\\Local\\Temp\\ipykernel_14944\\1552106380.py:11: FutureWarning: The frame.append method is deprecated and will be removed from pandas in a future version. Use pandas.concat instead.\n",
      "  df = df.append(data, ignore_index=True)\n",
      "330it [52:02,  3.63s/it]"
     ]
    },
    {
     "name": "stdout",
     "output_type": "stream",
     "text": [
      "Failed to scrape data for team_id: 329. Error: list index out of range\n"
     ]
    },
    {
     "name": "stderr",
     "output_type": "stream",
     "text": [
      "C:\\Users\\Justin\\AppData\\Local\\Temp\\ipykernel_14944\\1552106380.py:11: FutureWarning: The frame.append method is deprecated and will be removed from pandas in a future version. Use pandas.concat instead.\n",
      "  df = df.append(data, ignore_index=True)\n",
      "331it [52:04,  3.04s/it]C:\\Users\\Justin\\AppData\\Local\\Temp\\ipykernel_14944\\1552106380.py:11: FutureWarning: The frame.append method is deprecated and will be removed from pandas in a future version. Use pandas.concat instead.\n",
      "  df = df.append(data, ignore_index=True)\n",
      "332it [52:06,  2.89s/it]C:\\Users\\Justin\\AppData\\Local\\Temp\\ipykernel_14944\\1552106380.py:11: FutureWarning: The frame.append method is deprecated and will be removed from pandas in a future version. Use pandas.concat instead.\n",
      "  df = df.append(data, ignore_index=True)\n",
      "333it [52:12,  3.66s/it]C:\\Users\\Justin\\AppData\\Local\\Temp\\ipykernel_14944\\1552106380.py:11: FutureWarning: The frame.append method is deprecated and will be removed from pandas in a future version. Use pandas.concat instead.\n",
      "  df = df.append(data, ignore_index=True)\n",
      "334it [52:21,  5.24s/it]C:\\Users\\Justin\\AppData\\Local\\Temp\\ipykernel_14944\\1552106380.py:11: FutureWarning: The frame.append method is deprecated and will be removed from pandas in a future version. Use pandas.concat instead.\n",
      "  df = df.append(data, ignore_index=True)\n",
      "336it [52:31,  5.60s/it]"
     ]
    },
    {
     "name": "stdout",
     "output_type": "stream",
     "text": [
      "Failed to scrape data for team_id: 335. Error: list index out of range\n"
     ]
    },
    {
     "name": "stderr",
     "output_type": "stream",
     "text": [
      "C:\\Users\\Justin\\AppData\\Local\\Temp\\ipykernel_14944\\1552106380.py:11: FutureWarning: The frame.append method is deprecated and will be removed from pandas in a future version. Use pandas.concat instead.\n",
      "  df = df.append(data, ignore_index=True)\n",
      "338it [52:40,  4.99s/it]"
     ]
    },
    {
     "name": "stdout",
     "output_type": "stream",
     "text": [
      "Failed to scrape data for team_id: 337. Error: list index out of range\n"
     ]
    },
    {
     "name": "stderr",
     "output_type": "stream",
     "text": [
      "339it [53:25, 16.81s/it]"
     ]
    },
    {
     "name": "stdout",
     "output_type": "stream",
     "text": [
      "Failed to scrape data for team_id: 338. Error: 'NoneType' object has no attribute 'text'\n"
     ]
    },
    {
     "name": "stderr",
     "output_type": "stream",
     "text": [
      "C:\\Users\\Justin\\AppData\\Local\\Temp\\ipykernel_14944\\1552106380.py:11: FutureWarning: The frame.append method is deprecated and will be removed from pandas in a future version. Use pandas.concat instead.\n",
      "  df = df.append(data, ignore_index=True)\n",
      "340it [53:27, 12.50s/it]"
     ]
    },
    {
     "name": "stdout",
     "output_type": "stream",
     "text": [
      "Data saved after 340 loops.\n"
     ]
    },
    {
     "name": "stderr",
     "output_type": "stream",
     "text": [
      "341it [53:33, 10.37s/it]"
     ]
    },
    {
     "name": "stdout",
     "output_type": "stream",
     "text": [
      "Failed to scrape data for team_id: 340. Error: index 0 is out of bounds for axis 0 with size 0\n"
     ]
    },
    {
     "name": "stderr",
     "output_type": "stream",
     "text": [
      "342it [53:33,  7.41s/it]"
     ]
    },
    {
     "name": "stdout",
     "output_type": "stream",
     "text": [
      "Failed to scrape data for team_id: 341. Error: list index out of range\n"
     ]
    },
    {
     "name": "stderr",
     "output_type": "stream",
     "text": [
      "C:\\Users\\Justin\\AppData\\Local\\Temp\\ipykernel_14944\\1552106380.py:11: FutureWarning: The frame.append method is deprecated and will be removed from pandas in a future version. Use pandas.concat instead.\n",
      "  df = df.append(data, ignore_index=True)\n",
      "344it [54:31, 20.75s/it]"
     ]
    },
    {
     "name": "stdout",
     "output_type": "stream",
     "text": [
      "Failed to scrape data for team_id: 343. Error: 'NoneType' object has no attribute 'text'\n"
     ]
    },
    {
     "name": "stderr",
     "output_type": "stream",
     "text": [
      "345it [54:32, 14.81s/it]"
     ]
    },
    {
     "name": "stdout",
     "output_type": "stream",
     "text": [
      "Failed to scrape data for team_id: 344. Error: list index out of range\n"
     ]
    },
    {
     "name": "stderr",
     "output_type": "stream",
     "text": [
      "346it [54:33, 10.75s/it]"
     ]
    },
    {
     "name": "stdout",
     "output_type": "stream",
     "text": [
      "Failed to scrape data for team_id: 345. Error: index 0 is out of bounds for axis 0 with size 0\n"
     ]
    },
    {
     "name": "stderr",
     "output_type": "stream",
     "text": [
      "C:\\Users\\Justin\\AppData\\Local\\Temp\\ipykernel_14944\\1552106380.py:11: FutureWarning: The frame.append method is deprecated and will be removed from pandas in a future version. Use pandas.concat instead.\n",
      "  df = df.append(data, ignore_index=True)\n",
      "348it [54:41,  7.48s/it]"
     ]
    },
    {
     "name": "stdout",
     "output_type": "stream",
     "text": [
      "Failed to scrape data for team_id: 347. Error: list index out of range\n"
     ]
    },
    {
     "name": "stderr",
     "output_type": "stream",
     "text": [
      "349it [54:41,  5.42s/it]"
     ]
    },
    {
     "name": "stdout",
     "output_type": "stream",
     "text": [
      "Failed to scrape data for team_id: 348. Error: list index out of range\n"
     ]
    },
    {
     "name": "stderr",
     "output_type": "stream",
     "text": [
      "C:\\Users\\Justin\\AppData\\Local\\Temp\\ipykernel_14944\\1552106380.py:11: FutureWarning: The frame.append method is deprecated and will be removed from pandas in a future version. Use pandas.concat instead.\n",
      "  df = df.append(data, ignore_index=True)\n",
      "350it [54:43,  4.35s/it]C:\\Users\\Justin\\AppData\\Local\\Temp\\ipykernel_14944\\1552106380.py:11: FutureWarning: The frame.append method is deprecated and will be removed from pandas in a future version. Use pandas.concat instead.\n",
      "  df = df.append(data, ignore_index=True)\n",
      "351it [54:45,  3.77s/it]C:\\Users\\Justin\\AppData\\Local\\Temp\\ipykernel_14944\\1552106380.py:11: FutureWarning: The frame.append method is deprecated and will be removed from pandas in a future version. Use pandas.concat instead.\n",
      "  df = df.append(data, ignore_index=True)\n",
      "352it [54:47,  3.06s/it]C:\\Users\\Justin\\AppData\\Local\\Temp\\ipykernel_14944\\1552106380.py:11: FutureWarning: The frame.append method is deprecated and will be removed from pandas in a future version. Use pandas.concat instead.\n",
      "  df = df.append(data, ignore_index=True)\n",
      "354it [55:47, 18.81s/it]"
     ]
    },
    {
     "name": "stdout",
     "output_type": "stream",
     "text": [
      "Failed to scrape data for team_id: 353. Error: 'NoneType' object has no attribute 'text'\n"
     ]
    },
    {
     "name": "stderr",
     "output_type": "stream",
     "text": [
      "355it [55:51, 14.29s/it]"
     ]
    },
    {
     "name": "stdout",
     "output_type": "stream",
     "text": [
      "Failed to scrape data for team_id: 354. Error: list index out of range\n"
     ]
    },
    {
     "name": "stderr",
     "output_type": "stream",
     "text": [
      "C:\\Users\\Justin\\AppData\\Local\\Temp\\ipykernel_14944\\1552106380.py:11: FutureWarning: The frame.append method is deprecated and will be removed from pandas in a future version. Use pandas.concat instead.\n",
      "  df = df.append(data, ignore_index=True)\n",
      "357it [55:54,  7.76s/it]"
     ]
    },
    {
     "name": "stdout",
     "output_type": "stream",
     "text": [
      "Failed to scrape data for team_id: 356. Error: index 0 is out of bounds for axis 0 with size 0\n"
     ]
    },
    {
     "name": "stderr",
     "output_type": "stream",
     "text": [
      "C:\\Users\\Justin\\AppData\\Local\\Temp\\ipykernel_14944\\1552106380.py:11: FutureWarning: The frame.append method is deprecated and will be removed from pandas in a future version. Use pandas.concat instead.\n",
      "  df = df.append(data, ignore_index=True)\n",
      "358it [56:03,  8.09s/it]C:\\Users\\Justin\\AppData\\Local\\Temp\\ipykernel_14944\\1552106380.py:11: FutureWarning: The frame.append method is deprecated and will be removed from pandas in a future version. Use pandas.concat instead.\n",
      "  df = df.append(data, ignore_index=True)\n",
      "360it [56:15,  7.00s/it]"
     ]
    },
    {
     "name": "stdout",
     "output_type": "stream",
     "text": [
      "Failed to scrape data for team_id: 359. Error: index 0 is out of bounds for axis 0 with size 0\n",
      "Data saved after 360 loops.\n"
     ]
    },
    {
     "name": "stderr",
     "output_type": "stream",
     "text": [
      "C:\\Users\\Justin\\AppData\\Local\\Temp\\ipykernel_14944\\1552106380.py:11: FutureWarning: The frame.append method is deprecated and will be removed from pandas in a future version. Use pandas.concat instead.\n",
      "  df = df.append(data, ignore_index=True)\n",
      "361it [56:18,  5.60s/it]C:\\Users\\Justin\\AppData\\Local\\Temp\\ipykernel_14944\\1552106380.py:11: FutureWarning: The frame.append method is deprecated and will be removed from pandas in a future version. Use pandas.concat instead.\n",
      "  df = df.append(data, ignore_index=True)\n",
      "363it [57:21, 21.23s/it]"
     ]
    },
    {
     "name": "stdout",
     "output_type": "stream",
     "text": [
      "Failed to scrape data for team_id: 362. Error: 'NoneType' object has no attribute 'text'\n"
     ]
    },
    {
     "name": "stderr",
     "output_type": "stream",
     "text": [
      "C:\\Users\\Justin\\AppData\\Local\\Temp\\ipykernel_14944\\1552106380.py:11: FutureWarning: The frame.append method is deprecated and will be removed from pandas in a future version. Use pandas.concat instead.\n",
      "  df = df.append(data, ignore_index=True)\n",
      "364it [57:24, 15.93s/it]C:\\Users\\Justin\\AppData\\Local\\Temp\\ipykernel_14944\\1552106380.py:11: FutureWarning: The frame.append method is deprecated and will be removed from pandas in a future version. Use pandas.concat instead.\n",
      "  df = df.append(data, ignore_index=True)\n",
      "365it [57:26, 11.67s/it]C:\\Users\\Justin\\AppData\\Local\\Temp\\ipykernel_14944\\1552106380.py:11: FutureWarning: The frame.append method is deprecated and will be removed from pandas in a future version. Use pandas.concat instead.\n",
      "  df = df.append(data, ignore_index=True)\n",
      "367it [57:28,  6.09s/it]"
     ]
    },
    {
     "name": "stdout",
     "output_type": "stream",
     "text": [
      "Failed to scrape data for team_id: 366. Error: list index out of range\n"
     ]
    },
    {
     "name": "stderr",
     "output_type": "stream",
     "text": [
      "C:\\Users\\Justin\\AppData\\Local\\Temp\\ipykernel_14944\\1552106380.py:11: FutureWarning: The frame.append method is deprecated and will be removed from pandas in a future version. Use pandas.concat instead.\n",
      "  df = df.append(data, ignore_index=True)\n",
      "368it [57:32,  5.44s/it]C:\\Users\\Justin\\AppData\\Local\\Temp\\ipykernel_14944\\1552106380.py:11: FutureWarning: The frame.append method is deprecated and will be removed from pandas in a future version. Use pandas.concat instead.\n",
      "  df = df.append(data, ignore_index=True)\n",
      "370it [57:44,  6.14s/it]"
     ]
    },
    {
     "name": "stdout",
     "output_type": "stream",
     "text": [
      "Failed to scrape data for team_id: 369. Error: index 0 is out of bounds for axis 0 with size 0\n"
     ]
    },
    {
     "name": "stderr",
     "output_type": "stream",
     "text": [
      "C:\\Users\\Justin\\AppData\\Local\\Temp\\ipykernel_14944\\1552106380.py:11: FutureWarning: The frame.append method is deprecated and will be removed from pandas in a future version. Use pandas.concat instead.\n",
      "  df = df.append(data, ignore_index=True)\n",
      "372it [57:52,  5.35s/it]"
     ]
    },
    {
     "name": "stdout",
     "output_type": "stream",
     "text": [
      "Failed to scrape data for team_id: 371. Error: index 0 is out of bounds for axis 0 with size 0\n"
     ]
    },
    {
     "name": "stderr",
     "output_type": "stream",
     "text": [
      "C:\\Users\\Justin\\AppData\\Local\\Temp\\ipykernel_14944\\1552106380.py:11: FutureWarning: The frame.append method is deprecated and will be removed from pandas in a future version. Use pandas.concat instead.\n",
      "  df = df.append(data, ignore_index=True)\n",
      "373it [57:53,  4.06s/it]C:\\Users\\Justin\\AppData\\Local\\Temp\\ipykernel_14944\\1552106380.py:11: FutureWarning: The frame.append method is deprecated and will be removed from pandas in a future version. Use pandas.concat instead.\n",
      "  df = df.append(data, ignore_index=True)\n",
      "374it [57:57,  3.95s/it]C:\\Users\\Justin\\AppData\\Local\\Temp\\ipykernel_14944\\1552106380.py:11: FutureWarning: The frame.append method is deprecated and will be removed from pandas in a future version. Use pandas.concat instead.\n",
      "  df = df.append(data, ignore_index=True)\n",
      "376it [59:01, 20.63s/it]"
     ]
    },
    {
     "name": "stdout",
     "output_type": "stream",
     "text": [
      "Failed to scrape data for team_id: 375. Error: 'NoneType' object has no attribute 'text'\n"
     ]
    },
    {
     "name": "stderr",
     "output_type": "stream",
     "text": [
      "C:\\Users\\Justin\\AppData\\Local\\Temp\\ipykernel_14944\\1552106380.py:11: FutureWarning: The frame.append method is deprecated and will be removed from pandas in a future version. Use pandas.concat instead.\n",
      "  df = df.append(data, ignore_index=True)\n",
      "378it [59:56, 26.03s/it]"
     ]
    },
    {
     "name": "stdout",
     "output_type": "stream",
     "text": [
      "Failed to scrape data for team_id: 377. Error: 'NoneType' object has no attribute 'text'\n"
     ]
    },
    {
     "name": "stderr",
     "output_type": "stream",
     "text": [
      "379it [59:57, 18.48s/it]"
     ]
    },
    {
     "name": "stdout",
     "output_type": "stream",
     "text": [
      "Failed to scrape data for team_id: 378. Error: index 0 is out of bounds for axis 0 with size 0\n"
     ]
    },
    {
     "name": "stderr",
     "output_type": "stream",
     "text": [
      "C:\\Users\\Justin\\AppData\\Local\\Temp\\ipykernel_14944\\1552106380.py:11: FutureWarning: The frame.append method is deprecated and will be removed from pandas in a future version. Use pandas.concat instead.\n",
      "  df = df.append(data, ignore_index=True)\n",
      "380it [1:00:04, 15.11s/it]"
     ]
    },
    {
     "name": "stdout",
     "output_type": "stream",
     "text": [
      "Data saved after 380 loops.\n"
     ]
    },
    {
     "name": "stderr",
     "output_type": "stream",
     "text": [
      "C:\\Users\\Justin\\AppData\\Local\\Temp\\ipykernel_14944\\1552106380.py:11: FutureWarning: The frame.append method is deprecated and will be removed from pandas in a future version. Use pandas.concat instead.\n",
      "  df = df.append(data, ignore_index=True)\n",
      "381it [1:00:18, 14.84s/it]C:\\Users\\Justin\\AppData\\Local\\Temp\\ipykernel_14944\\1552106380.py:11: FutureWarning: The frame.append method is deprecated and will be removed from pandas in a future version. Use pandas.concat instead.\n",
      "  df = df.append(data, ignore_index=True)\n",
      "383it [1:00:23,  8.36s/it]"
     ]
    },
    {
     "name": "stdout",
     "output_type": "stream",
     "text": [
      "Failed to scrape data for team_id: 382. Error: list index out of range\n"
     ]
    },
    {
     "name": "stderr",
     "output_type": "stream",
     "text": [
      "C:\\Users\\Justin\\AppData\\Local\\Temp\\ipykernel_14944\\1552106380.py:11: FutureWarning: The frame.append method is deprecated and will be removed from pandas in a future version. Use pandas.concat instead.\n",
      "  df = df.append(data, ignore_index=True)\n",
      "384it [1:00:32,  8.42s/it]C:\\Users\\Justin\\AppData\\Local\\Temp\\ipykernel_14944\\1552106380.py:11: FutureWarning: The frame.append method is deprecated and will be removed from pandas in a future version. Use pandas.concat instead.\n",
      "  df = df.append(data, ignore_index=True)\n",
      "386it [1:00:35,  4.81s/it]"
     ]
    },
    {
     "name": "stdout",
     "output_type": "stream",
     "text": [
      "Failed to scrape data for team_id: 385. Error: list index out of range\n"
     ]
    },
    {
     "name": "stderr",
     "output_type": "stream",
     "text": [
      "C:\\Users\\Justin\\AppData\\Local\\Temp\\ipykernel_14944\\1552106380.py:11: FutureWarning: The frame.append method is deprecated and will be removed from pandas in a future version. Use pandas.concat instead.\n",
      "  df = df.append(data, ignore_index=True)\n",
      "388it [1:00:42,  4.63s/it]"
     ]
    },
    {
     "name": "stdout",
     "output_type": "stream",
     "text": [
      "Failed to scrape data for team_id: 387. Error: index 0 is out of bounds for axis 0 with size 0\n"
     ]
    },
    {
     "name": "stderr",
     "output_type": "stream",
     "text": [
      "C:\\Users\\Justin\\AppData\\Local\\Temp\\ipykernel_14944\\1552106380.py:11: FutureWarning: The frame.append method is deprecated and will be removed from pandas in a future version. Use pandas.concat instead.\n",
      "  df = df.append(data, ignore_index=True)\n",
      "390it [1:00:52,  4.43s/it]"
     ]
    },
    {
     "name": "stdout",
     "output_type": "stream",
     "text": [
      "Failed to scrape data for team_id: 389. Error: list index out of range\n"
     ]
    },
    {
     "name": "stderr",
     "output_type": "stream",
     "text": [
      "391it [1:00:53,  3.25s/it]"
     ]
    },
    {
     "name": "stdout",
     "output_type": "stream",
     "text": [
      "Failed to scrape data for team_id: 390. Error: list index out of range\n"
     ]
    },
    {
     "name": "stderr",
     "output_type": "stream",
     "text": [
      "C:\\Users\\Justin\\AppData\\Local\\Temp\\ipykernel_14944\\1552106380.py:11: FutureWarning: The frame.append method is deprecated and will be removed from pandas in a future version. Use pandas.concat instead.\n",
      "  df = df.append(data, ignore_index=True)\n",
      "392it [1:01:12,  7.87s/it]C:\\Users\\Justin\\AppData\\Local\\Temp\\ipykernel_14944\\1552106380.py:11: FutureWarning: The frame.append method is deprecated and will be removed from pandas in a future version. Use pandas.concat instead.\n",
      "  df = df.append(data, ignore_index=True)\n",
      "393it [1:01:23,  8.92s/it]C:\\Users\\Justin\\AppData\\Local\\Temp\\ipykernel_14944\\1552106380.py:11: FutureWarning: The frame.append method is deprecated and will be removed from pandas in a future version. Use pandas.concat instead.\n",
      "  df = df.append(data, ignore_index=True)\n",
      "394it [1:01:25,  6.74s/it]C:\\Users\\Justin\\AppData\\Local\\Temp\\ipykernel_14944\\1552106380.py:11: FutureWarning: The frame.append method is deprecated and will be removed from pandas in a future version. Use pandas.concat instead.\n",
      "  df = df.append(data, ignore_index=True)\n",
      "395it [1:01:33,  7.22s/it]C:\\Users\\Justin\\AppData\\Local\\Temp\\ipykernel_14944\\1552106380.py:11: FutureWarning: The frame.append method is deprecated and will be removed from pandas in a future version. Use pandas.concat instead.\n",
      "  df = df.append(data, ignore_index=True)\n",
      "396it [1:01:42,  7.71s/it]C:\\Users\\Justin\\AppData\\Local\\Temp\\ipykernel_14944\\1552106380.py:11: FutureWarning: The frame.append method is deprecated and will be removed from pandas in a future version. Use pandas.concat instead.\n",
      "  df = df.append(data, ignore_index=True)\n",
      "398it [1:01:45,  4.60s/it]"
     ]
    },
    {
     "name": "stdout",
     "output_type": "stream",
     "text": [
      "Failed to scrape data for team_id: 397. Error: list index out of range\n"
     ]
    },
    {
     "name": "stderr",
     "output_type": "stream",
     "text": [
      "399it [1:01:46,  3.50s/it]"
     ]
    },
    {
     "name": "stdout",
     "output_type": "stream",
     "text": [
      "Failed to scrape data for team_id: 398. Error: list index out of range\n"
     ]
    },
    {
     "name": "stderr",
     "output_type": "stream",
     "text": [
      "400it [1:01:47,  2.60s/it]"
     ]
    },
    {
     "name": "stdout",
     "output_type": "stream",
     "text": [
      "Failed to scrape data for team_id: 399. Error: list index out of range\n",
      "Data saved after 400 loops.\n"
     ]
    },
    {
     "name": "stderr",
     "output_type": "stream",
     "text": [
      "C:\\Users\\Justin\\AppData\\Local\\Temp\\ipykernel_14944\\1552106380.py:11: FutureWarning: The frame.append method is deprecated and will be removed from pandas in a future version. Use pandas.concat instead.\n",
      "  df = df.append(data, ignore_index=True)\n",
      "402it [1:01:52,  2.79s/it]"
     ]
    },
    {
     "name": "stdout",
     "output_type": "stream",
     "text": [
      "Failed to scrape data for team_id: 401. Error: list index out of range\n"
     ]
    },
    {
     "name": "stderr",
     "output_type": "stream",
     "text": [
      "C:\\Users\\Justin\\AppData\\Local\\Temp\\ipykernel_14944\\1552106380.py:11: FutureWarning: The frame.append method is deprecated and will be removed from pandas in a future version. Use pandas.concat instead.\n",
      "  df = df.append(data, ignore_index=True)\n",
      "404it [1:01:55,  2.01s/it]"
     ]
    },
    {
     "name": "stdout",
     "output_type": "stream",
     "text": [
      "Failed to scrape data for team_id: 403. Error: list index out of range\n"
     ]
    },
    {
     "name": "stderr",
     "output_type": "stream",
     "text": [
      "C:\\Users\\Justin\\AppData\\Local\\Temp\\ipykernel_14944\\1552106380.py:11: FutureWarning: The frame.append method is deprecated and will be removed from pandas in a future version. Use pandas.concat instead.\n",
      "  df = df.append(data, ignore_index=True)\n",
      "406it [1:02:54, 18.50s/it]"
     ]
    },
    {
     "name": "stdout",
     "output_type": "stream",
     "text": [
      "Failed to scrape data for team_id: 405. Error: 'NoneType' object has no attribute 'text'\n"
     ]
    },
    {
     "name": "stderr",
     "output_type": "stream",
     "text": [
      "C:\\Users\\Justin\\AppData\\Local\\Temp\\ipykernel_14944\\1552106380.py:11: FutureWarning: The frame.append method is deprecated and will be removed from pandas in a future version. Use pandas.concat instead.\n",
      "  df = df.append(data, ignore_index=True)\n",
      "407it [1:02:55, 13.47s/it]"
     ]
    }
   ],
   "source": [
    "## Loop through all the team ids and scrape the data\n",
    "\n",
    "# Loop through all team_ids\n",
    "for i, team_id in tqdm(enumerate(team_ids)):\n",
    "    url = scraper_base + base_url + team_id\n",
    "    \n",
    "    try:\n",
    "        # Scrape the data from the URL\n",
    "        data = scrape_ncaa_data(url)\n",
    "        # Append the data to the dataframe\n",
    "        df = df.append(data, ignore_index=True)\n",
    "    except Exception as e:\n",
    "        print(f\"Failed to scrape data for team_id: {team_id}. Error: {e}\")\n",
    "    \n",
    "    # If this is the 20th loop (or a multiple of 20), save the dataframe to a CSV file\n",
    "    if (i+1) % 20 == 0:\n",
    "        df.to_csv('ncaa_data.csv', index=False)\n",
    "        print(f\"Data saved after {i+1} loops.\")\n",
    "    \n",
    "    # Delay for a tenth of a second\n",
    "    time.sleep(0.1)\n",
    "\n",
    "# Save the final dataframe to a CSV file\n",
    "df.to_csv('TEMP/NCAA_School_Disctionary.csv', index=False)"
   ]
  },
  {
   "cell_type": "code",
   "execution_count": null,
   "metadata": {},
   "outputs": [],
   "source": []
  },
  {
   "cell_type": "code",
   "execution_count": null,
   "metadata": {},
   "outputs": [],
   "source": []
  },
  {
   "cell_type": "code",
   "execution_count": null,
   "metadata": {},
   "outputs": [],
   "source": []
  },
  {
   "cell_type": "code",
   "execution_count": null,
   "metadata": {},
   "outputs": [],
   "source": [
    "\n",
    "## \n",
    "soup = BeautifulSoup.BeautifulSoup(requests.get(base_url + '002').text, 'html.parser')\n",
    "\n"
   ]
  },
  {
   "cell_type": "code",
   "execution_count": null,
   "metadata": {},
   "outputs": [],
   "source": [
    "url = base_url + '002'\n",
    "\n",
    "## try to load with pandas\n",
    "df = pd.read_html(url)\n",
    "sport_table = df[2]\n",
    "\n",
    "# find the \"Baseball\" row if there is one\n",
    "baseball_row = sport_table[sport_table['Sport'] == 'Baseball']\n",
    "# Save the head coach, division and conference\n",
    "head_coach = baseball_row['Head Coach'].values[0]\n",
    "division = baseball_row['Division'].values[0]\n",
    "conference = baseball_row['Conference'].values[0]"
   ]
  },
  {
   "cell_type": "code",
   "execution_count": null,
   "metadata": {},
   "outputs": [],
   "source": [
    "print(head_coach, division, conference)"
   ]
  },
  {
   "cell_type": "code",
   "execution_count": null,
   "metadata": {},
   "outputs": [],
   "source": [
    "## get the school name and abriviation from the h1 tag\n",
    "school_name = soup.find('h1').text.split('(')[0].strip()\n",
    "school_abrv = soup.find('h1').text.split('(')[1].split(')')[0].strip()\n",
    "# Get Nickname from h4 tag\n",
    "school_nickname = soup.find('h4').text\n",
    "# Get City, Sata and Zip from address tag\n",
    "address = soup.find('address')\n",
    "spans = address.find_all('span')\n",
    "street_address = spans[0].text\n",
    "city = spans[1].text\n",
    "state = spans[2].text\n",
    "zip_code = spans[3].text\n",
    "\n",
    "\n",
    "\n",
    "# # find the NCAA Member Since data\n",
    "# ncaa_member_since_div = soup.find(string='NCAA Member Since:')\n",
    "# ncaa_member_since = ncaa_member_since_div.find_next('span').text\n",
    "# print('NCAA Member Since:', ncaa_member_since)\n",
    "\n",
    "# # find the HBCU status\n",
    "# hbcu_status_div = soup.find(string='HBCU:')\n",
    "# hbcu_status = hbcu_status_div.find_next('span').text\n",
    "# print('HBCU:', hbcu_status)\n",
    "\n",
    "\n"
   ]
  },
  {
   "cell_type": "code",
   "execution_count": null,
   "metadata": {},
   "outputs": [],
   "source": [
    "# Get the school name, abbreviation, nickname, and address as you did\n",
    "school_name = soup.find('h1').text.split('(')[0].strip()\n",
    "school_abrv = soup.find('h1').text.split('(')[1].split(')')[0].strip()\n",
    "school_nickname = soup.find('h4').text\n",
    "address = soup.find('address')\n",
    "spans = address.find_all('span')\n",
    "street_address = spans[0].text\n",
    "city = spans[1].text\n",
    "state = spans[2].text\n",
    "zip_code = spans[3].text\n",
    "\n",
    "# Get the school name, abbreviation, nickname, and address as you did\n",
    "school_name = soup.find('h1').text.split('(')[0].strip()\n",
    "school_abrv = soup.find('h1').text.split('(')[1].split(')')[0].strip()\n",
    "school_nickname = soup.find('h4').text\n",
    "address = soup.find('address')\n",
    "spans = address.find_all('span')\n",
    "street_address = spans[0].text\n",
    "city = spans[1].text\n",
    "state = spans[2].text\n",
    "zip_code = spans[3].text\n",
    "\n",
    "# Find the div that contains the details\n",
    "details_div = soup.find('div', style=\"margin-left: 90px; margin-bottom: 10px;\")\n",
    "\n",
    "# Extract NCAA Member Since, HBCU status, Public/Private status\n",
    "ncaa_member_since = ''\n",
    "hbcu_status = ''\n",
    "public_private_status = ''\n",
    "\n",
    "divs = details_div.find_all('div')\n",
    "for div in divs:\n",
    "    if 'NCAA Member Since:' in div.text:\n",
    "        ncaa_member_since = div.find('span').text\n",
    "    elif 'HBCU:' in div.text:\n",
    "        hbcu_status = div.find('span').text\n",
    "    elif 'Public/Private:' in div.text:\n",
    "        public_private_status = div.find('span').text\n",
    "\n",
    "print('NCAA Member Since:', ncaa_member_since)\n",
    "print('HBCU Status:', hbcu_status)\n",
    "print('Public/Private:', public_private_status)\n",
    "\n",
    "\n"
   ]
  },
  {
   "cell_type": "code",
   "execution_count": null,
   "metadata": {},
   "outputs": [],
   "source": [
    "## show name and abrv\n",
    "print(school_name)\n",
    "print(school_abrv)\n",
    "print(school_nickname)\n",
    "print(street_address)\n",
    "print(city)\n",
    "print(state)\n",
    "print(zip_code)\n",
    "print(ncaa_member_since)\n",
    "print(hbcu_status)  \n"
   ]
  }
 ],
 "metadata": {
  "kernelspec": {
   "display_name": "base",
   "language": "python",
   "name": "python3"
  },
  "language_info": {
   "codemirror_mode": {
    "name": "ipython",
    "version": 3
   },
   "file_extension": ".py",
   "mimetype": "text/x-python",
   "name": "python",
   "nbconvert_exporter": "python",
   "pygments_lexer": "ipython3",
   "version": "3.9.12"
  },
  "orig_nbformat": 4
 },
 "nbformat": 4,
 "nbformat_minor": 2
}
