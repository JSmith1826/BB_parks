{
 "cells": [
  {
   "cell_type": "code",
   "execution_count": 2,
   "metadata": {},
   "outputs": [],
   "source": [
    "## New book to streamline the process of scraping data from the MHSAA website\n",
    "## Scrape the MHSAA website using the list of school IDs\n",
    "\n",
    "# Dependencies\n",
    "\n",
    "import pandas as pd\n",
    "import numpy as np\n",
    "import requests\n",
    "import json\n",
    "import re\n",
    "import time"
   ]
  },
  {
   "cell_type": "code",
   "execution_count": 3,
   "metadata": {},
   "outputs": [
    {
     "data": {
      "text/plain": [
       "[3834, 3835, 3836, 3837, 3838, 3839, 3840, 3841, 3842, 3843]"
      ]
     },
     "execution_count": 3,
     "metadata": {},
     "output_type": "execute_result"
    }
   ],
   "source": [
    "#load the csv WITH INFO ABOUT WHICH SCHOOL IDS ARE VALID\n",
    "\n",
    "df = pd.read_csv('school_data_scrape_READ.csv')\n",
    "\n",
    "## Drop rows without a PopularName\n",
    "df = df.dropna(subset=['PopularName'])\n",
    "\n",
    "# Drop any records where IsMiddleSchool is true\n",
    "df = df[df['IsMiddleSchool'] == False]\n",
    "\n",
    "# Remove the 'IsMiddleSchool' column\n",
    "df = df.drop(columns=['IsMiddleSchool'])\n",
    "\n",
    "# keep just the rows with State = MI\n",
    "df = df[df['State'] == 'MI']\n",
    "\n",
    "# Rename ClassificationCalculationSteps to ClassificationNotes\n",
    "df = df.rename(columns={'ClassificationCalculationSteps': 'ClassificationNotes'})\n",
    "\n",
    "## cREATE a list of valid schoolId\n",
    "valid_school_ids = df['SchoolId'].tolist()\n",
    "\n",
    "# df.info()\n",
    "\n",
    "len(valid_school_ids)\n",
    "\n",
    "## sample valid school ids\n",
    "valid_school_ids[0:10]"
   ]
  },
  {
   "cell_type": "code",
   "execution_count": 4,
   "metadata": {},
   "outputs": [],
   "source": [
    "\n",
    "\n",
    "## Create the 2 functions that perform the parse\n",
    "\n",
    "# Function to parse game data\n",
    "def parse_game_data(data, game):\n",
    "    # Extract the team and league information\n",
    "    team_name = data[\"Record\"][\"TeamName\"]\n",
    "    team_id = data[\"Record\"][\"SchoolSportTeamId\"]\n",
    "    league_name = data[\"League\"][\"Name\"]\n",
    "\n",
    "    # Extract the opponentId and opponentName\n",
    "    opponent_id = game[\"Opponents\"][0][\"SportTeamId\"] if game[\"Opponents\"] else None\n",
    "    opponent_name = game[\"Opponents\"][0][\"PopularName\"] if game[\"Opponents\"] else None\n",
    "\n",
    "    # Extract the gameDate and gameTime\n",
    "    game_date = game[\"StartDate\"]\n",
    "    game_time = game[\"TimeText\"]\n",
    "\n",
    "    # Extract homeOrAway\n",
    "    home_or_away = game[\"HomeAwayCode\"]\n",
    "\n",
    "    # Extract location info\n",
    "    location = game[\"ContestLocationLink\"]\n",
    "\n",
    "    # Extract teamScore, opponentScore, and notes\n",
    "    team_score = None\n",
    "    opponent_score = None\n",
    "    notes = None\n",
    "    score_text = game[\"ScoreText\"]\n",
    "    if score_text:\n",
    "        # Use regular expression to find scores and notes\n",
    "        match = re.match(r\"(\\d+)-(\\d+)(.*)\", score_text)\n",
    "        if match:\n",
    "            team_score, opponent_score, notes = match.groups()\n",
    "            # Convert scores to integers\n",
    "            team_score = int(team_score)\n",
    "            opponent_score = int(opponent_score)\n",
    "            # Trim whitespace from notes\n",
    "            notes = notes.strip()\n",
    "\n",
    "    # Extract additional info\n",
    "    contest_type = game.get(\"ContestType\")\n",
    "    season_type = game.get(\"SeasonType\")\n",
    "    post_season_info = game.get(\"PostSeasonInfo\")\n",
    "    tournament_info = game.get(\"TournamentInfo\")\n",
    "    tournament_name = game.get(\"TournamentName\")\n",
    "    tournament_type = game.get(\"TournamentType\")\n",
    "    contest_name = game.get(\"ContestName\")\n",
    "    season_type_code = game.get(\"SeasonTypeCode\")\n",
    "\n",
    "    return {\n",
    "        \"teamName\": team_name,\n",
    "        \"teamId\": team_id,\n",
    "        \"leagueName\": league_name,\n",
    "        \"opponentName\": opponent_name,\n",
    "        \"opponentId\": opponent_id,\n",
    "        \"gameDate\": game_date,\n",
    "        \"gameTime\": game_time,\n",
    "        \"homeOrAway\": home_or_away,\n",
    "        \"location\": location,\n",
    "        \"teamScore\": team_score,\n",
    "        \"opponentScore\": opponent_score,\n",
    "        \"notes\": notes,\n",
    "        \"contestType\": contest_type,\n",
    "        \"seasonType\": season_type,\n",
    "        \"postSeasonInfo\": post_season_info,\n",
    "        \"tournamentInfo\": tournament_info,\n",
    "        \"tournamentName\": tournament_name,\n",
    "        \"tournamentType\": tournament_type,\n",
    "        \"contestName\": contest_name,\n",
    "        \"seasonTypeCode\": season_type_code\n",
    "    }\n",
    "\n",
    "\n",
    "def initialize_parsing(base_url, school_id, url_end):\n",
    "    # Initialize an empty list to hold the parsed data\n",
    "    parsed_data = []\n",
    "    \n",
    "    # Convert the id to a string\n",
    "    id_str = str(school_id)\n",
    "    # Build the URL\n",
    "    full_url = base_url + id_str + url_end\n",
    "    # Make the request\n",
    "    response = requests.get(full_url)\n",
    "\n",
    "    # Only proceed if the response status code is 200 (HTTP OK)\n",
    "    if response.status_code == 200:\n",
    "        # Convert the response to json\n",
    "        data = response.json()\n",
    "\n",
    "        # Check to see if the response is valid. If it is, parse the game data\n",
    "        if 'Contests' in data and data['Contests']:  # Check if 'Contests' key exists and its value is not empty\n",
    "            for game in data['Contests']:\n",
    "                parsed_data.append(parse_game_data(data, game))\n",
    "\n",
    "    return parsed_data\n"
   ]
  },
  {
   "cell_type": "code",
   "execution_count": 5,
   "metadata": {},
   "outputs": [
    {
     "name": "stderr",
     "output_type": "stream",
     "text": [
      "Processing Year: 2022: 100%|██████████| 1027/1027 [08:18<00:00,  2.06school/s]\n"
     ]
    },
    {
     "name": "stdout",
     "output_type": "stream",
     "text": [
      "Year 2023 took 8 minutes and 18 seconds\n",
      "Number of valid records: 22150\n",
      "Total number of contests: 22150\n"
     ]
    },
    {
     "name": "stderr",
     "output_type": "stream",
     "text": [
      "Processing Year: 2021: 100%|██████████| 1027/1027 [07:31<00:00,  2.27school/s]\n"
     ]
    },
    {
     "name": "stdout",
     "output_type": "stream",
     "text": [
      "Year 2022 took 7 minutes and 32 seconds\n",
      "Number of valid records: 21119\n",
      "Total number of contests: 21119\n"
     ]
    },
    {
     "name": "stderr",
     "output_type": "stream",
     "text": [
      "Processing Year: 2020: 100%|██████████| 1027/1027 [07:28<00:00,  2.29school/s]\n"
     ]
    },
    {
     "name": "stdout",
     "output_type": "stream",
     "text": [
      "Year 2021 took 7 minutes and 28 seconds\n",
      "Number of valid records: 18384\n",
      "Total number of contests: 18384\n"
     ]
    },
    {
     "name": "stderr",
     "output_type": "stream",
     "text": [
      "Processing Year: 2019: 100%|██████████| 1027/1027 [06:13<00:00,  2.75school/s]\n"
     ]
    },
    {
     "name": "stdout",
     "output_type": "stream",
     "text": [
      "Year 2020 took 6 minutes and 14 seconds\n",
      "Number of valid records: 12686\n",
      "Total number of contests: 12686\n"
     ]
    },
    {
     "name": "stderr",
     "output_type": "stream",
     "text": [
      "Processing Year: 2018: 100%|██████████| 1027/1027 [07:13<00:00,  2.37school/s]\n"
     ]
    },
    {
     "name": "stdout",
     "output_type": "stream",
     "text": [
      "Year 2019 took 7 minutes and 14 seconds\n",
      "Number of valid records: 19195\n",
      "Total number of contests: 19195\n"
     ]
    },
    {
     "name": "stderr",
     "output_type": "stream",
     "text": [
      "Processing Year: 2017: 100%|██████████| 1027/1027 [07:22<00:00,  2.32school/s]\n"
     ]
    },
    {
     "name": "stdout",
     "output_type": "stream",
     "text": [
      "Year 2018 took 7 minutes and 22 seconds\n",
      "Number of valid records: 18198\n",
      "Total number of contests: 18198\n"
     ]
    },
    {
     "name": "stderr",
     "output_type": "stream",
     "text": [
      "Processing Year: 2016: 100%|██████████| 1027/1027 [07:18<00:00,  2.34school/s]\n"
     ]
    },
    {
     "name": "stdout",
     "output_type": "stream",
     "text": [
      "Year 2017 took 7 minutes and 18 seconds\n",
      "Number of valid records: 18828\n",
      "Total number of contests: 18828\n"
     ]
    },
    {
     "name": "stderr",
     "output_type": "stream",
     "text": [
      "Processing Year: 2015: 100%|██████████| 1027/1027 [07:03<00:00,  2.43school/s]\n"
     ]
    },
    {
     "name": "stdout",
     "output_type": "stream",
     "text": [
      "Year 2016 took 7 minutes and 3 seconds\n",
      "Number of valid records: 16945\n",
      "Total number of contests: 16945\n"
     ]
    },
    {
     "name": "stderr",
     "output_type": "stream",
     "text": [
      "Processing Year: 2014: 100%|██████████| 1027/1027 [07:26<00:00,  2.30school/s]\n"
     ]
    },
    {
     "name": "stdout",
     "output_type": "stream",
     "text": [
      "Year 2015 took 7 minutes and 27 seconds\n",
      "Number of valid records: 17967\n",
      "Total number of contests: 17967\n"
     ]
    },
    {
     "name": "stderr",
     "output_type": "stream",
     "text": [
      "Processing Year: 2013: 100%|██████████| 1027/1027 [06:55<00:00,  2.47school/s]\n"
     ]
    },
    {
     "name": "stdout",
     "output_type": "stream",
     "text": [
      "Year 2014 took 6 minutes and 55 seconds\n",
      "Number of valid records: 17203\n",
      "Total number of contests: 17203\n"
     ]
    },
    {
     "name": "stderr",
     "output_type": "stream",
     "text": [
      "Processing Year: 2012: 100%|██████████| 1027/1027 [06:34<00:00,  2.60school/s]\n"
     ]
    },
    {
     "name": "stdout",
     "output_type": "stream",
     "text": [
      "Year 2013 took 6 minutes and 35 seconds\n",
      "Number of valid records: 14334\n",
      "Total number of contests: 14334\n"
     ]
    },
    {
     "name": "stderr",
     "output_type": "stream",
     "text": [
      "Processing Year: 2011: 100%|██████████| 1027/1027 [06:24<00:00,  2.67school/s]\n"
     ]
    },
    {
     "name": "stdout",
     "output_type": "stream",
     "text": [
      "Year 2012 took 6 minutes and 24 seconds\n",
      "Number of valid records: 11902\n",
      "Total number of contests: 11902\n"
     ]
    },
    {
     "name": "stderr",
     "output_type": "stream",
     "text": [
      "Processing Year: 2010: 100%|██████████| 1027/1027 [06:07<00:00,  2.80school/s]\n"
     ]
    },
    {
     "name": "stdout",
     "output_type": "stream",
     "text": [
      "Year 2011 took 6 minutes and 7 seconds\n",
      "Number of valid records: 7410\n",
      "Total number of contests: 7410\n"
     ]
    },
    {
     "name": "stderr",
     "output_type": "stream",
     "text": [
      "Processing Year: 2009: 100%|██████████| 1027/1027 [05:42<00:00,  2.99school/s]"
     ]
    },
    {
     "name": "stdout",
     "output_type": "stream",
     "text": [
      "Year 2010 took 5 minutes and 43 seconds\n",
      "Number of valid records: 4830\n",
      "Total number of contests: 4830\n",
      "Total time taken: 97 minutes and 45 seconds\n"
     ]
    },
    {
     "name": "stderr",
     "output_type": "stream",
     "text": [
      "\n"
     ]
    }
   ],
   "source": [
    "import pandas as pd\n",
    "from tqdm import tqdm\n",
    "import time\n",
    "from datetime import datetime\n",
    "\n",
    "## Target years to scrape\n",
    "# years = [2022, 2021, 2020, 2019, 2018, 2017,  2016, 2015, 2014, 2013, 2012, 2011, 2010, 2009 ]\n",
    "years = [2023]\n",
    "# reverse the list\n",
    "# years.reverse()\n",
    "\n",
    "## url builder\n",
    "base_url = 'https://my.mhsaa.com/DesktopModules/MHSAA-Async-SportTeamSchedule/Endpoint.ashx?&method=schedules&orgID='\n",
    "mid_url = '&sportTypeCode=BA&gender=M&level=V&year='\n",
    "end_url = '&userid=-1'\n",
    "\n",
    "## lIST OF SCHOOL IDS\n",
    "valid_school_ids\n",
    "\n",
    "\n",
    "\n",
    "\n",
    "# Initialize a timer for the total execution time\n",
    "total_start_time = time.time()\n",
    "\n",
    "# Create a dictionary to store dataframes\n",
    "df_dict = {}\n",
    "\n",
    "# Loop over the years\n",
    "for year in years:\n",
    "    # Initialize a timer for the year's execution time\n",
    "    year_start_time = time.time()\n",
    "\n",
    "    parsed_data = []\n",
    "\n",
    "    # Use tqdm to create a progress bar for the school_ids\n",
    "    for school_id in tqdm(valid_school_ids, desc=f'Processing Year: {year}', unit='school'):\n",
    "        # Append the parsing for the given year and school ID\n",
    "        try:\n",
    "            parsed_data += initialize_parsing(base_url, school_id, mid_url + str(year) + end_url)\n",
    "        except Exception as e:\n",
    "            print(f\"An error occurred with school_id: {school_id}. Error details: {str(e)}\")\n",
    "            continue\n",
    "\n",
    "    # store the parsed data as DataFrame\n",
    "    df = pd.DataFrame(parsed_data)\n",
    "\n",
    "    # Store a copy of the DataFrame in the dictionary\n",
    "    df_dict[year] = df.copy()\n",
    "   \n",
    "    # Generate timestamp\n",
    "    timestamp = datetime.now().strftime(\"%Y%m%d%H%M%S\")\n",
    "\n",
    "    # Save the DataFrame to a CSV file in /TEMP/ directory, using year+1 in filename and current timestamp\n",
    "    df.to_csv(f\"TEMP/clean_tables/_NEW_SCRAPE_{year+1}.csv\", index=False)\n",
    "\n",
    "    # Print the year's execution time in minutes and seconds\n",
    "    print(f\"Year {year+1} took {int((time.time() - year_start_time)/60)} minutes and {int((time.time() - year_start_time)%60)} seconds\")\n",
    "    \n",
    "    # print the number of valid records for the year\n",
    "    print(f\"Number of valid records: {len(df[df['teamName'].notnull()])}\")\n",
    "    # print total number of contests for the year\n",
    "    print(f\"Total number of contests: {len(df)}\")\n",
    "\n",
    "    ## \n",
    "\n",
    "# Print the total execution time\n",
    "print(f\"Total time taken: {int((time.time() - total_start_time)/60)} minutes and {int((time.time() - total_start_time)%60)} seconds\")\n"
   ]
  },
  {
   "cell_type": "code",
   "execution_count": null,
   "metadata": {},
   "outputs": [],
   "source": []
  }
 ],
 "metadata": {
  "kernelspec": {
   "display_name": "base",
   "language": "python",
   "name": "python3"
  },
  "language_info": {
   "codemirror_mode": {
    "name": "ipython",
    "version": 3
   },
   "file_extension": ".py",
   "mimetype": "text/x-python",
   "name": "python",
   "nbconvert_exporter": "python",
   "pygments_lexer": "ipython3",
   "version": "3.9.12"
  },
  "orig_nbformat": 4
 },
 "nbformat": 4,
 "nbformat_minor": 2
}
