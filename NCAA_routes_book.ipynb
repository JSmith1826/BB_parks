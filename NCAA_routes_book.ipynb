{
 "cells": [
  {
   "cell_type": "code",
   "execution_count": null,
   "metadata": {},
   "outputs": [],
   "source": [
    "### Book to cre3ate the route map for the NCAA tournament to apply to the existing map to make some cool visualizations\n",
    "\n",
    "# Path: NCAA_routes_book.ipynb\n",
    "\n",
    "### OBJECTIVE create lines with routes of the teams in each regional to the regional site and display them on the NCAA Regional Map\n",
    "### OUTLINE\n",
    "#### Get a dataframe of the host address, the three other teams competing in the regional, and the addresses of those three teams\n",
    "\n",
    "###### Add the school color to each visiting team and create lines between the host and the visiting teams\n",
    "\n",
    "###### Output the lines as a json object that can be added to my existing NCAA_REG map\n"
   ]
  }
 ],
 "metadata": {
  "language_info": {
   "name": "python"
  },
  "orig_nbformat": 4
 },
 "nbformat": 4,
 "nbformat_minor": 2
}
