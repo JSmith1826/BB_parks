{
 "cells": [
  {
   "cell_type": "code",
   "execution_count": null,
   "metadata": {},
   "outputs": [],
   "source": [
    "## Matching Notebook\n",
    "\n",
    "## Match MHSAA baseball record data with school demo data"
   ]
  },
  {
   "cell_type": "code",
   "execution_count": 1,
   "metadata": {},
   "outputs": [],
   "source": [
    "import pandas as pd\n",
    "from fuzzywuzzy import process\n",
    "\n",
    "## Load baseball game data\n",
    "\n",
    "\n",
    "game_df = pd.read_csv('MHSAA_team_stats_Thu_Jul_22_2021_11-30.csv')\n"
   ]
  },
  {
   "cell_type": "code",
   "execution_count": null,
   "metadata": {},
   "outputs": [],
   "source": [
    "# game_df.head()\n",
    "# df.info()\n"
   ]
  },
  {
   "cell_type": "code",
   "execution_count": 2,
   "metadata": {},
   "outputs": [
    {
     "data": {
      "text/plain": [
       "602"
      ]
     },
     "execution_count": 2,
     "metadata": {},
     "output_type": "execute_result"
    }
   ],
   "source": [
    "## List primary team names\n",
    "\n",
    "game_teams = game_df['primary_team'].unique().tolist()\n",
    "\n",
    "len(game_teams)\n",
    "\n"
   ]
  },
  {
   "cell_type": "code",
   "execution_count": 3,
   "metadata": {},
   "outputs": [],
   "source": [
    "## open the school demographic data from the finished df\n",
    "\n",
    "school_info_df = pd.read_csv('school_info_df.csv')\n",
    "\n",
    "\n",
    "\n",
    "# df_public = pd.read_csv('data\\MHSAA\\school_info\\school_info_PUBLIC.csv')\n",
    "# df_private = pd.read_csv('data\\MHSAA\\school_info\\school_info_PRIVATE.csv')"
   ]
  },
  {
   "cell_type": "code",
   "execution_count": 4,
   "metadata": {},
   "outputs": [
    {
     "data": {
      "text/plain": [
       "Index(['School Name', 'NCES School ID', 'County Name', 'Street Address',\n",
       "       'City', 'State', 'ZIP', 'ZIP 4-digit', 'Phone', 'Locale Code', 'Locale',\n",
       "       'Charter', 'Magnet', 'Title I School', 'Title 1 School Wide',\n",
       "       'Students', 'Teachers', 'Student Teacher Ratio', 'Free Lunch',\n",
       "       'Reduced Lunch', 'Directly Certified'],\n",
       "      dtype='object')"
      ]
     },
     "execution_count": 4,
     "metadata": {},
     "output_type": "execute_result"
    }
   ],
   "source": [
    "# df_public.columns"
   ]
  },
  {
   "cell_type": "code",
   "execution_count": 5,
   "metadata": {},
   "outputs": [],
   "source": [
    "# ## Add a column to each dataframe that indicates the type of school\n",
    "# df_public['school_type'] = 'public'\n",
    "# df_private['school_type'] = 'private'"
   ]
  },
  {
   "cell_type": "code",
   "execution_count": null,
   "metadata": {},
   "outputs": [],
   "source": [
    "# # df_public.head()\n",
    "# df_public.info()\n",
    "\n",
    "\n",
    "\n",
    "# len(school_names)\n",
    "\n"
   ]
  },
  {
   "cell_type": "code",
   "execution_count": 6,
   "metadata": {},
   "outputs": [
    {
     "name": "stdout",
     "output_type": "stream",
     "text": [
      "<class 'pandas.core.frame.DataFrame'>\n",
      "RangeIndex: 156 entries, 0 to 155\n",
      "Data columns (total 60 columns):\n",
      " #   Column           Non-Null Count  Dtype  \n",
      "---  ------           --------------  -----  \n",
      " 0   PSS_SCHOOL_ID    156 non-null    object \n",
      " 1   PSS_INST         156 non-null    object \n",
      " 2   LoGrade          156 non-null    int64  \n",
      " 3   HiGrade          156 non-null    int64  \n",
      " 4   PSS_ADDRESS      156 non-null    object \n",
      " 5   PSS_CITY         156 non-null    object \n",
      " 6   PSS_COUNTY_NO    156 non-null    int64  \n",
      " 7   PSS_COUNTY_FIPS  156 non-null    int64  \n",
      " 8   PSS_STABB        156 non-null    object \n",
      " 9   PSS_FIPS         156 non-null    int64  \n",
      " 10  PSS_ZIP5         156 non-null    int64  \n",
      " 11  PSS_PHONE        155 non-null    float64\n",
      " 12  PSS_SCH_DAYS     153 non-null    float64\n",
      " 13  PSS_STU_DAY_HRS  156 non-null    float64\n",
      " 14  PSS_LIBRARY      156 non-null    object \n",
      " 15  PSS_ENROLL_UG    6 non-null      float64\n",
      " 16  PSS_ENROLL_PK    72 non-null     float64\n",
      " 17  PSS_ENROLL_K     100 non-null    float64\n",
      " 18  PSS_ENROLL_1     105 non-null    float64\n",
      " 19  PSS_ENROLL_2     104 non-null    float64\n",
      " 20  PSS_ENROLL_3     106 non-null    float64\n",
      " 21  PSS_ENROLL_4     108 non-null    float64\n",
      " 22  PSS_ENROLL_5     109 non-null    float64\n",
      " 23  PSS_ENROLL_6     111 non-null    float64\n",
      " 24  PSS_ENROLL_7     114 non-null    float64\n",
      " 25  PSS_ENROLL_8     115 non-null    float64\n",
      " 26  PSS_ENROLL_9     154 non-null    float64\n",
      " 27  PSS_ENROLL_10    151 non-null    float64\n",
      " 28  PSS_ENROLL_11    150 non-null    float64\n",
      " 29  PSS_ENROLL_12    150 non-null    float64\n",
      " 30  PSS_ENROLL_T     155 non-null    float64\n",
      " 31  PSS_ENROLL_TK12  156 non-null    int64  \n",
      " 32  PSS_RACE_AI      146 non-null    float64\n",
      " 33  PSS_RACE_AS      147 non-null    float64\n",
      " 34  PSS_RACE_H       146 non-null    float64\n",
      " 35  PSS_RACE_B       147 non-null    float64\n",
      " 36  PSS_RACE_W       146 non-null    float64\n",
      " 37  PSS_RACE_P       147 non-null    float64\n",
      " 38  PSS_RACE_2       146 non-null    float64\n",
      " 39  PSS_FTE_TEACH    156 non-null    float64\n",
      " 40  PSS_LOCALE       156 non-null    int64  \n",
      " 41  PSS_COED         156 non-null    int64  \n",
      " 42  PSS_TYPE         156 non-null    int64  \n",
      " 43  PSS_LEVEL        156 non-null    int64  \n",
      " 44  PSS_RELIG        156 non-null    int64  \n",
      " 45  PSS_COMM_TYPE    156 non-null    int64  \n",
      " 46  PSS_INDIAN_PCT   146 non-null    float64\n",
      " 47  PSS_ASIAN_PCT    147 non-null    float64\n",
      " 48  PSS_HISP_PCT     146 non-null    float64\n",
      " 49  PSS_BLACK_PCT    147 non-null    float64\n",
      " 50  PSS_WHITE_PCT    146 non-null    float64\n",
      " 51  PSS_PACISL_PCT   147 non-null    float64\n",
      " 52  PSS_TWOMORE_PCT  146 non-null    float64\n",
      " 53  PSS_STDTCH_RT    156 non-null    float64\n",
      " 54  PSS_ORIENT       156 non-null    int64  \n",
      " 55  PSS_COUNTY_NAME  156 non-null    object \n",
      " 56  PSS_ASSOC_1      156 non-null    object \n",
      " 57  PSS_ASSOC_2      33 non-null     object \n",
      " 58  PSS_ASSOC_3      4 non-null      object \n",
      " 59  school_type      156 non-null    object \n",
      "dtypes: float64(35), int64(14), object(11)\n",
      "memory usage: 73.2+ KB\n"
     ]
    },
    {
     "data": {
      "text/plain": [
       "1451"
      ]
     },
     "execution_count": 6,
     "metadata": {},
     "output_type": "execute_result"
    }
   ],
   "source": [
    "# df_private.head()\n",
    "# df_private.info()\n",
    "\n",
    "# # Create a list of  public names\n",
    "# school_names = df_public['School Name'].unique().tolist()\n",
    "# # Create a list of private names\n",
    "# private_school_names = df_private['PSS_INST'].unique().tolist()\n",
    "\n",
    "# # add the private school names to the public school names\n",
    "# school_names = school_names + private_school_names\n",
    "\n",
    "# ## transform the school names to lower case\n",
    "# school_names = [x.lower() for x in school_names]\n",
    "\n",
    "# len(school_names)\n",
    "\n",
    "# # len(private_school_names)"
   ]
  },
  {
   "cell_type": "code",
   "execution_count": 7,
   "metadata": {},
   "outputs": [],
   "source": [
    "# Transform the Private school data to more readable format\n",
    "\n",
    "# Create a dictionary mapping locale codes to descriptions\n",
    "locale_dict = {\n",
    "    11: 'City: Large',\n",
    "    12: 'City: Midsize',\n",
    "    13: 'City: Small',\n",
    "    21: 'Suburb: Large',\n",
    "    22: 'Suburb: Midsize',\n",
    "    23: 'Suburb: Small',\n",
    "    31: 'Town: Fringe',\n",
    "    32: 'Town: Distant',\n",
    "    33: 'Town: Remote',\n",
    "    41: 'Rural: Fringe',\n",
    "    42: 'Rural: Distant',\n",
    "    43: 'Rural: Remote'\n",
    "}\n",
    "\n",
    "relig_dict = {\n",
    "    1: 'Catholic',\n",
    "    2: 'Other Religious',\n",
    "    3: 'Nonsectarian'\n",
    "\n",
    "}\n",
    "\n",
    "ort_dict = {\n",
    "    1: 'Roman Catholic',\n",
    "    2: 'African Methodist Episcopal',\n",
    "    3: 'Amish',\n",
    "    4: 'Assembly of God',\n",
    "    5: 'Baptist',\n",
    "    6: 'Brethren',\n",
    "    7: 'Calvinist',\n",
    "    8: 'Christian (no denomination specified)',\n",
    "    9: 'Church of Christ',\n",
    "    10: 'Church of God',\n",
    "    11: 'Church of God in Christ',\n",
    "    12: 'Church of the Nazarene',\n",
    "    13: 'Disciples of Christ',\n",
    "    14: 'Episcopal',\n",
    "    15: 'Friends',\n",
    "    16: 'Greek Orthodox',\n",
    "    17: 'Islamic',\n",
    "    18: 'Jewish',\n",
    "    19: 'Latter Day Saints',\n",
    "    20: 'Lutheran Church – Missouri Synod',\n",
    "    21: 'Evangelical Lutheran Church in America',\n",
    "    22: 'Wisconsin Evangelical Lutheran Synod',\n",
    "    23: 'Other Lutheran',\n",
    "    24: 'Mennonite',\n",
    "    25: 'Methodist',\n",
    "    26: 'Penecostal',\n",
    "    27: 'Presbyterian',\n",
    "    28: 'Seventh Day Adventists',\n",
    "    29: 'Other',\n",
    "    30: 'Nonsectarians'\n",
    "}\n",
    "\n",
    "## Change PSS_COMM_TYPE to a more readable format\n",
    "# This is an higher level classification of Locale\n",
    "\n",
    "# Create a dictionary mapping locale codes to descriptions\n",
    "comm_dict = {\n",
    "    1: 'City',\n",
    "    2: 'Suburban',\n",
    "    3: 'Town',\n",
    "    4: 'Rural'\n",
    "}\n",
    "\n",
    "# Dictionary for COOED values\n",
    "coed_dict = {\n",
    "    1: 'Coed',\n",
    "    2: 'Female_Only',\n",
    "    3: 'Male_Only'\n",
    "}\n",
    "\n",
    "\n",
    "# Apply the mapping to the columns\n",
    "df_private['PSS_COED'] = df_private['PSS_COED'].map(coed_dict)\n",
    "df_private['PSS_LOCALE'] = df_private['PSS_LOCALE'].map(locale_dict)\n",
    "df_private['PSS_COMM_TYPE'] = df_private['PSS_COMM_TYPE'].map(comm_dict)\n",
    "df_private['PSS_ORIENT'] = df_private['PSS_ORIENT'].map(ort_dict)\n",
    "df_private['PSS_RELIG'] = df_private['PSS_RELIG'].map(relig_dict)\n",
    "\n",
    "\n",
    "# Calculate the High School Enrollment (Grades 9-12)\n",
    "cols_to_sum = ['PSS_ENROLL_9', 'PSS_ENROLL_10', 'PSS_ENROLL_11', 'PSS_ENROLL_12', 'PSS_ENROLL_UG']\n",
    "df_private['HS_ENROLL'] = df_private[cols_to_sum].fillna(0).sum(axis=1)\n",
    "\n",
    "\n",
    "\n"
   ]
  },
  {
   "cell_type": "code",
   "execution_count": 8,
   "metadata": {},
   "outputs": [
    {
     "data": {
      "text/plain": [
       "602"
      ]
     },
     "execution_count": 8,
     "metadata": {},
     "output_type": "execute_result"
    }
   ],
   "source": [
    "## Get the list of teams from the game data and create a list of unique teams\n",
    "\n",
    "game_teams = game_df['primary_team'].unique().tolist()\n",
    "\n",
    "# strip and LC for matching\n",
    "game_teams = [x.lower() for x in game_teams]\n",
    "\n",
    "len(game_teams)"
   ]
  },
  {
   "cell_type": "code",
   "execution_count": null,
   "metadata": {},
   "outputs": [],
   "source": [
    "# Renaming columns in df_private to match df_public\n",
    "df_private = df_private.rename(columns={\n",
    "    'PSS_INST': 'School Name',\n",
    "    'PSS_ADDRESS': 'Street Address',\n",
    "    'PSS_CITY': 'City',\n",
    "    'PSS_PHONE': 'Phone',\n",
    "    'PSS_ZIP5': 'ZIP',\n",
    "    'PSS_ZIP4': 'ZIP 4-digit',\n",
    "    'PSS_COUNTY_NAME': 'County Name',\n",
    "    'PSS_COUNTY_FIPS': 'County FIPS',\n",
    "    'PSSCOUNTY_NO': 'County Number',\n",
    "    'PSS_STABB': 'State',\n",
    "    'PSS_ORIENT': 'Relig_subtype',\n",
    "    'PSS_RELIG': 'Relig',\n",
    "    'PSS_LOCALE': 'Locale',\n",
    "    'PSS_COMM_TYPE': 'Community_Type',\n",
    "    'PSS_INDIAN_PCT': 'demo_pct_American Indian',\n",
    "    'PSS_ASIAN_PCT': 'demo_pct_Asian',\n",
    "    'PSS_HISP_PCT': 'demo_pct_Hispanic',\n",
    "    'PSS_BLACK_PCT': 'demo_pct_Black',\n",
    "    'PSS_WHITE_PCT': 'demo_pct_White',\n",
    "    'PSS_PACISL_PCT': 'demo_pct_Pacific Islander',\n",
    "    'PSS_TWOMORE_PCT': 'demo_pct_Two_or_More',\n",
    "\n",
    "    'PSS_COED': 'Coed?',\n",
    "\n",
    "    'PSS_STDTCH_RT': 'Student Teacher Ratio',\n",
    "    'PSS_SCHOOL_ID' : 'School ID(private)',\n",
    "   \n",
    "})\n",
    "\n",
    "# Drop the columns that are not needed\n",
    "drop_col = ['LoGrade','HiGrade','PSS_RACE_AI','PSS_RACE_AS','PSS_RACE_H',\n",
    "            'PSS_RACE_B','PSS_RACE_W','PSS_RACE_P','PSS_RACE_2','PSS_TYPE',\n",
    "            'PSS_LEVEL','PSS_ASSOC_2','PSS_ASSOC_3','PSS_FIPS','PSS_SCH_DAYS',\n",
    "            'PSS_STU_DAY_HRS','PSS_LIBRARY','PSS_ENROLL_UG','PSS_ENROLL_PK',\n",
    "            'PSS_ENROLL_K','PSS_ENROLL_1','PSS_ENROLL_2','PSS_ENROLL_3','PSS_ENROLL_4',\n",
    "            'PSS_ENROLL_5','PSS_ENROLL_6','PSS_ENROLL_7','PSS_ENROLL_8','PSS_ENROLL_9',\n",
    "            'PSS_ENROLL_10','PSS_ENROLL_11','PSS_ENROLL_12','PSS_ENROLL_T','PSS_ENROLL_TK12',\n",
    "            'PSS_FTE_TEACH'\n",
    "\n",
    "            ]\n",
    "# print(df_private.columns)\n",
    "\n",
    "\n",
    "# Creat new columns from the list and Fill the following columns with 'No'\n",
    "\n",
    "\n",
    "fill_col = ['Charter','Magnet','Title I School','Title 1 School Wide']\n",
    "\n",
    "for col in fill_col:\n",
    "    df_private[col] = 'No'\n",
    "\n",
    "# Drop the columns that are not needed\n",
    "df_private = df_private.drop(columns=drop_col)\n",
    "\n",
    "\n"
   ]
  },
  {
   "cell_type": "code",
   "execution_count": null,
   "metadata": {},
   "outputs": [],
   "source": [
    "## Make some changes to the public school data\n",
    "\n",
    "# Rename columns to match private school data\n",
    "# Rename Students to HS_ENROLL\n",
    "\n",
    "df_public = df_public.rename(columns={'Students': 'HS_ENROLL'})\n",
    "\n",
    "# Create and fill some columns that are from the private school data\n",
    "df_public = df_public.assign(\n",
    "    **{'Coed?': 'Coed',\n",
    "    'Relig': 'None',\n",
    "    'Community_Type': df_public['Locale'].str.split(':').str[0],\n",
    "    'Relig_subtype': 'None'}\n",
    ")\n",
    "\n"
   ]
  },
  {
   "cell_type": "code",
   "execution_count": null,
   "metadata": {},
   "outputs": [],
   "source": [
    "# Now that the dataframes have some columns with the same names, we can concatenate them\n",
    "df_combined = pd.concat([df_public, df_private], ignore_index=True)"
   ]
  },
  {
   "cell_type": "code",
   "execution_count": null,
   "metadata": {},
   "outputs": [],
   "source": [
    "## Make a copy and output a csv of the dataframe for checking\n",
    "df_combined_copy = df_combined.copy()\n",
    "df_combined_copy.to_csv('TEMP/clean_tables/school_master_table.csv', index=False)"
   ]
  },
  {
   "cell_type": "code",
   "execution_count": null,
   "metadata": {},
   "outputs": [],
   "source": [
    "matches_df.head()\n",
    "\n",
    "## See the distrobution of scores\n",
    "\n",
    "matches_df['score'].hist(bins=10)"
   ]
  },
  {
   "cell_type": "code",
   "execution_count": 9,
   "metadata": {},
   "outputs": [],
   "source": [
    "import pandas as pd\n",
    "from fuzzywuzzy import process\n",
    "\n",
    "# Create a list to hold the matches\n",
    "matches = []\n",
    "\n",
    "# Loop through the game teams and find the best match in the school names list\n",
    "for i, team in enumerate(game_teams):\n",
    "    match = process.extractOne(team, school_names)\n",
    "    # If match is None, append a placeholder value\n",
    "    if match is None:\n",
    "        matches.append((None, None, i))\n",
    "    else:\n",
    "        matches.append((*match, i))\n",
    "\n",
    "# Create a dataframe from the matches list\n",
    "matches_df = pd.DataFrame(matches, columns=['match', 'score', 'index'])\n",
    "\n",
    "# Add the game team names to the dataframe\n",
    "matches_df['game_team'] = game_teams\n",
    "\n",
    "# Add the school names to the dataframe\n",
    "matches_df['school_name'] = matches_df['match']\n",
    "\n",
    "# # Transform the text columns to title case\n",
    "# matches_df['game_team'] = matches_df['game_team'].str.title()\n",
    "# matches_df['school_name'] = matches_df['school_name'].str.title()\n",
    "# matches_df['match'] = matches_df['match'].str.title()\n",
    "\n",
    "\n",
    "# Displays the first 5 rows of the dataframe\n",
    "matches_df.head()\n",
    "\n",
    "# Save as a csv\n",
    "matches_df.to_csv('data\\MHSAA\\school_info\\school_matches_TEST_NEW_222.csv', index=False)\n",
    "\n",
    "\n"
   ]
  },
  {
   "cell_type": "code",
   "execution_count": null,
   "metadata": {},
   "outputs": [],
   "source": [
    "matches_df['score'].describe()\n",
    "\n",
    "# Show the rows where the score is less than 80\n",
    "print(f\"Number of matches below  80: {len(matches_df[matches_df['score'] < 80])}\")\n",
    "print(f\"Number of matches between 80 and 90: {len(matches_df[(matches_df['score'] >= 80) & (matches_df['score'] < 90)])}\")\n",
    "print(f\"Number of matches above 90: {len(matches_df[(matches_df['score'] >= 90) & (matches_df['score'] < 100)])}\")\n",
    "\n",
    "print(f\"Total number of matches: {len(matches_df)}\")"
   ]
  },
  {
   "cell_type": "code",
   "execution_count": null,
   "metadata": {},
   "outputs": [],
   "source": [
    "df_combined.columns\n",
    "\n",
    "df_combined.head()"
   ]
  },
  {
   "cell_type": "code",
   "execution_count": null,
   "metadata": {},
   "outputs": [],
   "source": [
    "# df_combined.sample(20)\n",
    "\n",
    "# df_combined.shape\n",
    "\n",
    "# df_combined.columns"
   ]
  },
  {
   "cell_type": "code",
   "execution_count": null,
   "metadata": {},
   "outputs": [],
   "source": [
    "## Create a list of NCES IDS from a csv\n",
    "\n",
    "csv_path ='TEMP/nces_public_data_full.csv'\n",
    "\n",
    "nces_ids = pd.read_csv(csv_path)\n",
    "\n",
    "nces_ids.head()\n",
    "\n",
    "# save the NCES IDs as a list\n",
    "nces_ids_list = nces_ids['NCES School ID'].tolist()\n",
    "\n",
    "print(len(nces_ids_list))\n"
   ]
  },
  {
   "attachments": {},
   "cell_type": "markdown",
   "metadata": {},
   "source": [
    "## Code above working\n",
    "## Blow is an attempt to get and store the demographic data for the public schools in the data set\n",
    "\n"
   ]
  },
  {
   "cell_type": "code",
   "execution_count": null,
   "metadata": {},
   "outputs": [],
   "source": [
    "# # Use the NCES website to get the demographic and enrollment data for each public school\n",
    "\n",
    "# ## Going to probably do this by building URLS to each school's page\n",
    "\n",
    "# # NCES URL BUILDER\n",
    "\n",
    "# base_url = 'https://nces.ed.gov/ccd/schoolsearch/school_detail.asp?Search=1&SchoolID='\n",
    "\n",
    "# mid_url = '&SchoolType=1&SchoolType=2&SchoolType=3&SchoolType=4&SpecificSchlTypes=all&IncGrade=-1&LoGrade=-1&HiGrade=-1&ID='\n",
    "\n",
    "# Test_ID = '262115005792'\n",
    "# # School ID goes in between the two strings and after the second string\n",
    "\n",
    "# nces_url_test = base_url + Test_ID + mid_url + Test_ID\n",
    "\n",
    "# print(nces_url_test)\n",
    "\n"
   ]
  },
  {
   "cell_type": "code",
   "execution_count": null,
   "metadata": {},
   "outputs": [],
   "source": [
    "# # try to read the url with pandas\n",
    "# df_test = pd.read_html(nces_url_test)\n",
    "\n",
    "# print(df_test)\n",
    "df_public.columns"
   ]
  },
  {
   "cell_type": "code",
   "execution_count": 13,
   "metadata": {},
   "outputs": [
    {
     "data": {
      "text/plain": [
       "[262016008622, 260033004509, 260858008255, 260016601035, 262313008413]"
      ]
     },
     "execution_count": 13,
     "metadata": {},
     "output_type": "execute_result"
    }
   ],
   "source": [
    "## Get a list of the school Ids for all the public schools\n",
    "nces_ids_list = df_public['NCES School ID'].tolist()\n",
    "\n",
    "df_public_ids[0:5]"
   ]
  },
  {
   "cell_type": "code",
   "execution_count": null,
   "metadata": {},
   "outputs": [],
   "source": [
    "# get the demographic catagories\n",
    "# demo_cat = \n",
    "df_test[12].iloc[0,1:8]\n",
    "# demo_counts = df_test[12].iloc[1,1:8]"
   ]
  },
  {
   "cell_type": "code",
   "execution_count": 14,
   "metadata": {},
   "outputs": [],
   "source": [
    "### PARSE PUBLIC SCHOOL DEMO DATA FROM NCES WEBSITE\n",
    "\n",
    "import pandas as pd\n",
    "import requests\n",
    "from bs4 import BeautifulSoup\n",
    "\n",
    "def parse_school_data(school_ids):\n",
    "    # Start with an empty DataFrame to store the results\n",
    "    df = pd.DataFrame()\n",
    "\n",
    "    for school_id in nces_ids_list:\n",
    "        # Build the URL for this school\n",
    "        url = f\"https://nces.ed.gov/ccd/schoolsearch/school_detail.asp?Search=1&SchoolID={school_id}&ID={school_id}&SchoolType=1&SchoolType=2&SchoolType=3&SchoolType=4&SpecificSchlTypes=all&IncGrade=-1&LoGrade=-1&HiGrade=-1&ID2={school_id}\"\n",
    "\n",
    "        # Request the page and parse it with BeautifulSoup\n",
    "        page = requests.get(url)\n",
    "        soup = BeautifulSoup(page.content, 'html.parser')\n",
    "\n",
    "        # Get the value in the first column of the first row and drop everything in from of the \\t\n",
    "        school_name = df_test[2].iloc[0,0].split('\\t')[1]\n",
    "        school_id = df_test[2].iloc[0,2].split('ID:')[1].strip()\n",
    "\n",
    "        school_district = df_test[2].iloc[2,0].split('\\t')[1].split('district information')[0]\n",
    "        school_district_id = df_test[2].iloc[2,2].split('ID:')[1].strip()\n",
    "\n",
    "        #Get Total Students\n",
    "        total_students = df_test[6].iloc[0,2]\n",
    "        # Get Teachers at the school\n",
    "        teachers = df_test[6].iloc[1,2]\n",
    "        # Get the student/teacher ratio\n",
    "        student_teacher_ratio = df_test[6].iloc[2,2]\n",
    "\n",
    "\n",
    "        # Get all the grade levels and counts\n",
    "        grade_levels = df_test[10].iloc[0,1:7]\n",
    "        grade_counts = df_test[10].iloc[1,1:7]\n",
    "        grade_dict = dict(zip(grade_levels, grade_counts))\n",
    "\n",
    "        # Get the demographic categories and counts\n",
    "        demo_cat = df_test[12].iloc[0,1:8]\n",
    "        demo_counts = df_test[12].iloc[1,1:8]\n",
    "        demo_dict = dict(zip(demo_cat, demo_counts))\n",
    "\n",
    "        # Get the gender categories and counts\n",
    "        gender_cat = df_test[14].iloc[0,1:3]\n",
    "        gender_counts = df_test[14].iloc[1,1:3]\n",
    "        gender_dict = dict(zip(gender_cat, gender_counts))\n",
    "\n",
    "        # Save the parsed data to a row in a dataframe\n",
    "        df_test_row = pd.DataFrame({'school_name': school_name,\n",
    "        'school_id': school_id,\n",
    "        'school_district': school_district,\n",
    "        'school_district_id': school_district_id,\n",
    "        'total_students': total_students,\n",
    "        'teachers': teachers,\n",
    "        'student_teacher_ratio': student_teacher_ratio,\n",
    "        'lunch_free_count': lunch_free_count,\n",
    "        'lunch_reduced_count': lunch_reduced_count,\n",
    "        'lunch_total_count': lunch_total_count,\n",
    "        **grade_dict,\n",
    "        **demo_dict,\n",
    "        **gender_dict\n",
    "        }, index=[0])\n",
    "\n",
    "        # Append the new row to our DataFrame\n",
    "        df = pd.concat([df, df_test_row], ignore_index=True)\n",
    "\n",
    "    return df\n",
    "\n"
   ]
  },
  {
   "cell_type": "code",
   "execution_count": 15,
   "metadata": {},
   "outputs": [
    {
     "ename": "NameError",
     "evalue": "name 'df_test' is not defined",
     "output_type": "error",
     "traceback": [
      "\u001b[1;31m---------------------------------------------------------------------------\u001b[0m",
      "\u001b[1;31mNameError\u001b[0m                                 Traceback (most recent call last)",
      "\u001b[1;32mc:\\Users\\Justin\\Desktop\\Project\\BB_parks\\matching_book_new.ipynb Cell 28\u001b[0m in \u001b[0;36m<cell line: 5>\u001b[1;34m()\u001b[0m\n\u001b[0;32m      <a href='vscode-notebook-cell:/c%3A/Users/Justin/Desktop/Project/BB_parks/matching_book_new.ipynb#X55sZmlsZQ%3D%3D?line=0'>1</a>\u001b[0m \u001b[39m### Feed the list of school ids into the function\u001b[39;00m\n\u001b[1;32m----> <a href='vscode-notebook-cell:/c%3A/Users/Justin/Desktop/Project/BB_parks/matching_book_new.ipynb#X55sZmlsZQ%3D%3D?line=4'>5</a>\u001b[0m df \u001b[39m=\u001b[39m parse_school_data(nces_ids_list)\n",
      "\u001b[1;32mc:\\Users\\Justin\\Desktop\\Project\\BB_parks\\matching_book_new.ipynb Cell 28\u001b[0m in \u001b[0;36mparse_school_data\u001b[1;34m(school_ids)\u001b[0m\n\u001b[0;32m     <a href='vscode-notebook-cell:/c%3A/Users/Justin/Desktop/Project/BB_parks/matching_book_new.ipynb#X55sZmlsZQ%3D%3D?line=16'>17</a>\u001b[0m soup \u001b[39m=\u001b[39m BeautifulSoup(page\u001b[39m.\u001b[39mcontent, \u001b[39m'\u001b[39m\u001b[39mhtml.parser\u001b[39m\u001b[39m'\u001b[39m)\n\u001b[0;32m     <a href='vscode-notebook-cell:/c%3A/Users/Justin/Desktop/Project/BB_parks/matching_book_new.ipynb#X55sZmlsZQ%3D%3D?line=18'>19</a>\u001b[0m \u001b[39m# Get the value in the first column of the first row and drop everything in from of the \\t\u001b[39;00m\n\u001b[1;32m---> <a href='vscode-notebook-cell:/c%3A/Users/Justin/Desktop/Project/BB_parks/matching_book_new.ipynb#X55sZmlsZQ%3D%3D?line=19'>20</a>\u001b[0m school_name \u001b[39m=\u001b[39m df_test[\u001b[39m2\u001b[39m]\u001b[39m.\u001b[39miloc[\u001b[39m0\u001b[39m,\u001b[39m0\u001b[39m]\u001b[39m.\u001b[39msplit(\u001b[39m'\u001b[39m\u001b[39m\\t\u001b[39;00m\u001b[39m'\u001b[39m)[\u001b[39m1\u001b[39m]\n\u001b[0;32m     <a href='vscode-notebook-cell:/c%3A/Users/Justin/Desktop/Project/BB_parks/matching_book_new.ipynb#X55sZmlsZQ%3D%3D?line=20'>21</a>\u001b[0m school_id \u001b[39m=\u001b[39m df_test[\u001b[39m2\u001b[39m]\u001b[39m.\u001b[39miloc[\u001b[39m0\u001b[39m,\u001b[39m2\u001b[39m]\u001b[39m.\u001b[39msplit(\u001b[39m'\u001b[39m\u001b[39mID:\u001b[39m\u001b[39m'\u001b[39m)[\u001b[39m1\u001b[39m]\u001b[39m.\u001b[39mstrip()\n\u001b[0;32m     <a href='vscode-notebook-cell:/c%3A/Users/Justin/Desktop/Project/BB_parks/matching_book_new.ipynb#X55sZmlsZQ%3D%3D?line=22'>23</a>\u001b[0m school_district \u001b[39m=\u001b[39m df_test[\u001b[39m2\u001b[39m]\u001b[39m.\u001b[39miloc[\u001b[39m2\u001b[39m,\u001b[39m0\u001b[39m]\u001b[39m.\u001b[39msplit(\u001b[39m'\u001b[39m\u001b[39m\\t\u001b[39;00m\u001b[39m'\u001b[39m)[\u001b[39m1\u001b[39m]\u001b[39m.\u001b[39msplit(\u001b[39m'\u001b[39m\u001b[39mdistrict information\u001b[39m\u001b[39m'\u001b[39m)[\u001b[39m0\u001b[39m]\n",
      "\u001b[1;31mNameError\u001b[0m: name 'df_test' is not defined"
     ]
    }
   ],
   "source": [
    "### Feed the list of school ids into the function\n",
    "\n",
    "\n",
    "\n",
    "df = parse_school_data(nces_ids_list)\n"
   ]
  },
  {
   "cell_type": "code",
   "execution_count": null,
   "metadata": {},
   "outputs": [],
   "source": [
    "df.head(10)"
   ]
  },
  {
   "cell_type": "code",
   "execution_count": null,
   "metadata": {},
   "outputs": [],
   "source": [
    "## save the results to a csv file\n",
    "df.to_csv('school_data_OVERNIGHT_PARSE_MANUAL CHECK NEEDED.csv', index=False)"
   ]
  },
  {
   "cell_type": "code",
   "execution_count": null,
   "metadata": {},
   "outputs": [],
   "source": [
    "# # # Table 2 has the school identify infor (name, address, NCES code, etc.)\n",
    "# df_test[2].head()\n",
    "# df_test[2].head()\n",
    "\n",
    "# Get the value in the first column of the first row and drop everything in from of the \\t\n",
    "school_name = df_test[2].iloc[0,0].split('\\t')[1]\n",
    "school_id = df_test[2].iloc[0,2].split('ID:')[1].strip()\n",
    "\n",
    "school_district = df_test[2].iloc[2,0].split('\\t')[1].split('district information')[0]\n",
    "school_district_id = df_test[2].iloc[2,2].split('ID:')[1].strip()\n",
    "\n",
    "\n",
    "# # Table 5 - county, locale,\n",
    "# df_test[5].head()\n",
    "# print(df_test[5].head())\n",
    "\n",
    "# Table 6  total students, student/teacher ratio\n",
    "df_test[6].head()\n",
    "print(df_test[6].head())\n",
    "#Get Total Students\n",
    "total_students = df_test[6].iloc[0,2]\n",
    "# Get Teachers at the school\n",
    "teachers = df_test[6].iloc[1,2]\n",
    "# Get the student/teacher ratio\n",
    "student_teacher_ratio = df_test[6].iloc[2,2]\n",
    "\n",
    "\n",
    "\n",
    "\n",
    "\n",
    "## Table 10 is the enrollment by grade table nice an clean\n",
    "# df_test[10].head()\n",
    "# print(df_test[10].head())\n",
    "\n",
    "# Get all the grade levels and counts\n",
    "grade_levels = df_test[10].iloc[0,1:7]\n",
    "grade_counts = df_test[10].iloc[1,1:7]\n",
    "\n",
    "# # ## Table 12 is enrollment by demogrtaohic (raw count) nice and clean\n",
    "# df_test[12].head()\n",
    "# print(df_test[12].head())\n",
    "\n",
    "# get the demographic catagories\n",
    "demo_cat = df_test[12].iloc[0,1:8]\n",
    "demo_counts = df_test[12].iloc[1,1:8]\n",
    "\n",
    "# Table 14 is enrollment by gender (raw count) nice and clean\n",
    "# df_test[14].head()\n",
    "# print(df_test[14].head())\n",
    "\n",
    "# Get catagory names\n",
    "gender_cat = df_test[14].iloc[0,1:3]\n",
    "gender_counts = df_test[14].iloc[1,1:3]\n",
    "\n",
    "# # Table 16 is free and reduced lunch eligibility (raw count) - not clean. will need further processing\n",
    "# df_test[16].head()\n",
    "# print(df_test[16].head())\n",
    "\n",
    "# Get free and reduced lunch counts\n",
    "lunch_free_count = df_test[16].iloc[0,0].split(':')[1].strip()\n",
    "lunch_reduced_count = df_test[16].iloc[0,1].split(':')[1].strip()\n",
    "lunch_total_count = df_test[16].iloc[0,2].split(':')[1].strip()\n",
    "\n",
    "## Save the data to a row that can be appended to a dataframe\n",
    "\n",
    "\n",
    "# Create a list of the data\n",
    "\n",
    "\n",
    "\n",
    "\n",
    "\n",
    "\n",
    "\n",
    "\n",
    "# print(df_test[6].head())"
   ]
  },
  {
   "cell_type": "code",
   "execution_count": null,
   "metadata": {},
   "outputs": [],
   "source": [
    "## Drop any nan columns\n",
    "df_test[0].dropna(axis=1, how='all')\n"
   ]
  }
 ],
 "metadata": {
  "kernelspec": {
   "display_name": "base",
   "language": "python",
   "name": "python3"
  },
  "language_info": {
   "codemirror_mode": {
    "name": "ipython",
    "version": 3
   },
   "file_extension": ".py",
   "mimetype": "text/x-python",
   "name": "python",
   "nbconvert_exporter": "python",
   "pygments_lexer": "ipython3",
   "version": "3.9.12"
  },
  "orig_nbformat": 4
 },
 "nbformat": 4,
 "nbformat_minor": 2
}
