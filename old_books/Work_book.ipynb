{
 "cells": [
  {
   "cell_type": "code",
   "execution_count": 1,
   "id": "9c7dc244",
   "metadata": {},
   "outputs": [],
   "source": [
    "import geopandas as gdp\n",
    "from shapely.geometry import Point, Polygon\n",
    "import pandas as pd\n",
    "import fiona\n",
    "import matplotlib"
   ]
  },
  {
   "cell_type": "code",
   "execution_count": 1,
   "id": "5ef11f57",
   "metadata": {},
   "outputs": [],
   "source": [
    "###### GOAL\n",
    "##### Parse MHSAA 2022 regional pages for all venues\n",
    "##### Create a dataframe with all venues and their coordinates\n",
    "\n",
    "### '.contestlocation' is the class for the venue name\n",
    "\n",
    "### 'tourmap' is the class for the venue map\n",
    "\n",
    "from bs4 import BeautifulSoup\n",
    "import requests\n",
    "import time\n",
    "import csv\n",
    "import re\n",
    "\n",
    "\n",
    "\n",
    "# with open('DOC_NAME') as fp:\n",
    "#     soup = BeautifulSoup(fp, 'html.parser')\n",
    "\n",
    "#     soup.body.get_text('span', class_ ='contestlocation')"
   ]
  },
  {
   "cell_type": "code",
   "execution_count": 11,
   "id": "d49a8cc5",
   "metadata": {},
   "outputs": [
    {
     "name": "stdout",
     "output_type": "stream",
     "text": [
      "[<span class=\"contestlocation\">\n",
      "                                            Eastern Michigan Univ. - Ypsilanti (Oestrike Stadium) - <a class=\"tournmap\" href=\"http://maps.google.com/maps?q=Eastern+Michigan+Univ.+-+Ypsilanti+799+N+Hewitt+Rd.++Ypsilanti%2c+MI+48197\">MAP</a></span>, <span class=\"contestlocation\">\n",
      "                                            Trenton Baseball Stadium - <a class=\"tournmap\" href=\"http://maps.google.com/maps?q=Trenton+Baseball+Stadium+2601+Charlton++Trenton%2c+MI+\">MAP</a></span>, <span class=\"contestlocation\">\n",
      "                                            Clarenceville High School - Livonia (Stadium) - <a class=\"tournmap\" href=\"http://maps.google.com/maps?q=Clarenceville+High+School+-+Livonia+20155+Middlebelt+Rd.++Livonia%2c+MI+48152-2092\">MAP</a></span>, <span class=\"contestlocation\">\n",
      "                                            Airport High School - Carleton (Varsity Baseball Field) - <a class=\"tournmap\" href=\"http://maps.google.com/maps?q=Airport+High+School+-+Carleton+11330+Grafton+Rd++Carleton%2c+MI+48117-9392\">MAP</a></span>, <span class=\"contestlocation\">\n",
      "                                            Livonia Franklin - <a class=\"tournmap\" href=\"http://maps.google.com/maps?q=Livonia+Franklin+31000+Joy+Rd++Livonia%2c+MI+48150\">MAP</a></span>, <span class=\"contestlocation\">\n",
      "                                            Livonia Franklin - <a class=\"tournmap\" href=\"http://maps.google.com/maps?q=Livonia+Franklin+31000+Joy+Rd++Livonia%2c+MI+48150\">MAP</a></span>, <span class=\"contestlocation\">\n",
      "                                            Livonia Franklin - <a class=\"tournmap\" href=\"http://maps.google.com/maps?q=Livonia+Franklin+31000+Joy+Rd++Livonia%2c+MI+48150\">MAP</a></span>, <span class=\"contestlocation\">\n",
      "                                            Maroons Field - Holland - <a class=\"tournmap\" href=\"http://maps.google.com/maps?q=Maroons+Field+950+Ottawa+Ave.++Holland%2c+MI+\">MAP</a></span>, <span class=\"contestlocation\">\n",
      "                                            Eaton Rapids Baseball Field - <a class=\"tournmap\" href=\"http://maps.google.com/maps?q=Eaton+Rapids+Baseball+Field+805+Plains++Eaton+Rapids%2c+MI+\">MAP</a></span>, <span class=\"contestlocation\">\n",
      "                                            Edwardsburg Baseball Field - <a class=\"tournmap\" href=\"http://maps.google.com/maps?q=Edwardsburg+Baseball+Field+69410+Section+St++Edwardsburg+%2c+MI+\">MAP</a></span>, <span class=\"contestlocation\">\n",
      "                                            Gainey Athletic Complex - Baseball - Grand Rapids - <a class=\"tournmap\" href=\"http://maps.google.com/maps?q=Gainey+Athletic+Complex+-+Baseball+1661+East+Paris+SE++Grand+Rapids%2c+MI+\">MAP</a></span>, <span class=\"contestlocation\">\n",
      "                                            Hope College - Holland - <a class=\"tournmap\" href=\"http://maps.google.com/maps?q=Hope+College+225+Fairbanks+Ave++Holland%2c+MI+49423\">MAP</a></span>, <span class=\"contestlocation\">\n",
      "                                            Hope College - Holland - <a class=\"tournmap\" href=\"http://maps.google.com/maps?q=Hope+College+225+Fairbanks+Ave++Holland%2c+MI+49423\">MAP</a></span>, <span class=\"contestlocation\">\n",
      "                                            Hope College - Holland - <a class=\"tournmap\" href=\"http://maps.google.com/maps?q=Hope+College+225+Fairbanks+Ave++Holland%2c+MI+49423\">MAP</a></span>, <span class=\"contestlocation\">\n",
      "                                            Turcott Field - Petoskey - <a class=\"tournmap\" href=\"http://maps.google.com/maps?q=Turcott+Field+1004+Charlevoix+Ave.++Petoskey%2c+MI+49770\">MAP</a></span>, <span class=\"contestlocation\">\n",
      "                                            Ionia - <a class=\"tournmap\" href=\"http://maps.google.com/maps?q=Ionia+250+E+Tuttle++Ionia%2c+MI+48846\">MAP</a></span>, <span class=\"contestlocation\">\n",
      "                                            John C. Huizenga Field - Whitehall - <a class=\"tournmap\" href=\"http://maps.google.com/maps?q=John+C.+Huizenga+Field+401+S.+Elizabeth+St++Whitehall%2c+MI+\">MAP</a></span>, <span class=\"contestlocation\">\n",
      "                                            Wilmot Field (Wilmot) - Gladwin - <a class=\"tournmap\" href=\"http://maps.google.com/maps?q=Wilmot+Field+N.+Bowery+Street++Gladwin%2c+MI+\">MAP</a></span>, <span class=\"contestlocation\">\n",
      "                                            Clare HS - <a class=\"tournmap\" href=\"http://maps.google.com/maps?q=Clare+HS+306+Schoolcrest++Clare%2c+MI+48617\">MAP</a></span>, <span class=\"contestlocation\">\n",
      "                                            Clare HS - <a class=\"tournmap\" href=\"http://maps.google.com/maps?q=Clare+HS+306+Schoolcrest++Clare%2c+MI+48617\">MAP</a></span>, <span class=\"contestlocation\">\n",
      "                                            Clare HS - <a class=\"tournmap\" href=\"http://maps.google.com/maps?q=Clare+HS+306+Schoolcrest++Clare%2c+MI+48617\">MAP</a></span>, <span class=\"contestlocation\">\n",
      "                                            Centennial Field - Beverly Hills - <a class=\"tournmap\" href=\"http://maps.google.com/maps?q=Centennial+Field+22305+West+Thirteen+Mile++Beverly+Hills%2c+MI+\">MAP</a></span>, <span class=\"contestlocation\">\n",
      "                                            Williamston High School - Baseball - <a class=\"tournmap\" href=\"http://maps.google.com/maps?q=Williamston+High+School+-+Baseball+2090+Mitchell+Rd.++Williamston%2c+MI+48895\">MAP</a></span>, <span class=\"contestlocation\">\n",
      "                                            Saginaw Swan Valley - <a class=\"tournmap\" href=\"http://maps.google.com/maps?q=Saginaw+Swan+Valley+8400+O%27+Hern+Rd++Saginaw%2c+MI+48609\">MAP</a></span>, <span class=\"contestlocation\">\n",
      "                                            Richmond Baseball Facility - <a class=\"tournmap\" href=\"http://maps.google.com/maps?q=Richmond+Baseball+Facility+35320+Division++Richmond+%2c+MI+\">MAP</a></span>, <span class=\"contestlocation\">\n",
      "                                            SVSU (Baseball Diamond) - Saginaw - <a class=\"tournmap\" href=\"http://maps.google.com/maps?q=SVSU+7300+Davis+Rd++Saginaw%2c+MI+48604\">MAP</a></span>, <span class=\"contestlocation\">\n",
      "                                            SVSU (Baseball Diamond) - Saginaw - <a class=\"tournmap\" href=\"http://maps.google.com/maps?q=SVSU+7300+Davis+Rd++Saginaw%2c+MI+48604\">MAP</a></span>, <span class=\"contestlocation\">\n",
      "                                            SVSU (Baseball Diamond) - Saginaw - <a class=\"tournmap\" href=\"http://maps.google.com/maps?q=SVSU+7300+Davis+Rd++Saginaw%2c+MI+48604\">MAP</a></span>]\n"
     ]
    }
   ],
   "source": [
    "#### URL locations to scrape\n",
    "\n",
    "URL = 'https://my.mhsaa.com/Sports/MHSAA-Tournament-Brackets/classification/1/sportseasonid/421324/bracketgroup/9#316063-brackets'\n",
    "URL = 'https://my.mhsaa.com/Sports/MHSAA-Tournament-Brackets/BracketGroup/9/Classification/2/SportSeasonId/421324'\n",
    "#URL = 'https://my.mhsaa.com/Sports/MHSAA-Tournament-Brackets/classification/3/sportseasonid/421324/bracketgroup/9#316063-brackets'\n",
    "#URL = 'https://my.mhsaa.com/Sports/MHSAA-Tournament-Brackets/classification/4/sportseasonid/421324/bracketgroup/9#316063-brackets'\n",
    "\n",
    "#### CREATE OBJECT TO HOLD ALL HTML TEXT\n",
    "html_text = requests.get(URL).text\n",
    "soup = BeautifulSoup(html_text, 'html.parser')\n",
    "\n",
    "print(soup.find_all('span', class_ ='contestlocation'))\n",
    "#### https://www.twilio.com/blog/web-scraping-and-parsing-html-in-python-with-beautiful-soup\n",
    "\n",
    "# for link in soup.find_all('contestlocation'):\n",
    "#     print(link.get('href'))\n",
    "\n",
    "#soup.prettify()\n"
   ]
  },
  {
   "cell_type": "code",
   "execution_count": null,
   "id": "97dbc0da",
   "metadata": {},
   "outputs": [],
   "source": []
  },
  {
   "cell_type": "code",
   "execution_count": 2,
   "id": "5a2646b9",
   "metadata": {},
   "outputs": [],
   "source": [
    "from fiona.drvsupport import supported_drivers\n",
    "supported_drivers['LIBKML'] = 'rw'\n",
    "\n",
    "import fiona\n",
    "fiona.drvsupport.supported_drivers['KML'] = 'rw'"
   ]
  },
  {
   "cell_type": "code",
   "execution_count": 3,
   "id": "34569bae",
   "metadata": {},
   "outputs": [],
   "source": [
    "import geopandas as gpd\n",
    "import fiona\n",
    "\n",
    "fiona.drvsupport.supported_drivers['KML'] = 'rw'\n",
    "df1 = gpd.read_file('data\\Baseball Fields Standardized_1.kml', driver='KML')\n",
    "df2 = gpd.read_file('data\\Baseball Fields Standardized 2.kml', driver='KML')"
   ]
  },
  {
   "cell_type": "code",
   "execution_count": 7,
   "id": "5e23566c",
   "metadata": {},
   "outputs": [
    {
     "name": "stdout",
     "output_type": "stream",
     "text": [
      "          Name Description                                           geometry\n",
      "0  Fair Ground              POLYGON Z ((-84.52765 42.73745 0.00000, -84.52...\n",
      "1  Foul Ground              POLYGON Z ((-84.52765 42.73745 0.00000, -84.52...\n"
     ]
    }
   ],
   "source": [
    "# df1.head()\n",
    "# df1\n",
    "print(df2)"
   ]
  },
  {
   "cell_type": "code",
   "execution_count": 8,
   "id": "d6a65242",
   "metadata": {},
   "outputs": [
    {
     "name": "stderr",
     "output_type": "stream",
     "text": [
      "C:\\Users\\Smitty\\AppData\\Local\\Temp\\ipykernel_7716\\3689775080.py:2: UserWarning: Geometry is in a geographic CRS. Results from 'area' are likely incorrect. Use 'GeoSeries.to_crs()' to re-project geometries to a projected CRS before this operation.\n",
      "\n",
      "  df2.area\n"
     ]
    },
    {
     "data": {
      "text/plain": [
       "0    9.020181e-07\n",
       "1    1.884083e-07\n",
       "dtype: float64"
      ]
     },
     "execution_count": 8,
     "metadata": {},
     "output_type": "execute_result"
    }
   ],
   "source": [
    "df2.to_crs('epsg:3857')\n",
    "df2.area"
   ]
  },
  {
   "cell_type": "code",
   "execution_count": 10,
   "id": "3ec29bed",
   "metadata": {},
   "outputs": [
    {
     "data": {
      "text/html": [
       "<div>\n",
       "<style scoped>\n",
       "    .dataframe tbody tr th:only-of-type {\n",
       "        vertical-align: middle;\n",
       "    }\n",
       "\n",
       "    .dataframe tbody tr th {\n",
       "        vertical-align: top;\n",
       "    }\n",
       "\n",
       "    .dataframe thead th {\n",
       "        text-align: right;\n",
       "    }\n",
       "</style>\n",
       "<table border=\"1\" class=\"dataframe\">\n",
       "  <thead>\n",
       "    <tr style=\"text-align: right;\">\n",
       "      <th></th>\n",
       "      <th>Name</th>\n",
       "      <th>Description</th>\n",
       "      <th>geometry</th>\n",
       "    </tr>\n",
       "  </thead>\n",
       "  <tbody>\n",
       "    <tr>\n",
       "      <th>0</th>\n",
       "      <td>Foul</td>\n",
       "      <td></td>\n",
       "      <td>POLYGON Z ((-84.59783 42.66023 0.00000, -84.59...</td>\n",
       "    </tr>\n",
       "    <tr>\n",
       "      <th>1</th>\n",
       "      <td>FOP</td>\n",
       "      <td></td>\n",
       "      <td>POLYGON Z ((-84.59783 42.66023 0.00000, -84.59...</td>\n",
       "    </tr>\n",
       "  </tbody>\n",
       "</table>\n",
       "</div>"
      ],
      "text/plain": [
       "   Name Description                                           geometry\n",
       "0  Foul              POLYGON Z ((-84.59783 42.66023 0.00000, -84.59...\n",
       "1   FOP              POLYGON Z ((-84.59783 42.66023 0.00000, -84.59..."
      ]
     },
     "execution_count": 10,
     "metadata": {},
     "output_type": "execute_result"
    }
   ],
   "source": [
    "gdp.io.file.fiona.drvsupport.supported_drivers['KML'] = 'rw'\n",
    "my_map = gpd.read_file('data\\BB_MI_various.kml', driver='KML')\n",
    "my_map"
   ]
  },
  {
   "cell_type": "code",
   "execution_count": 11,
   "id": "22cb276f",
   "metadata": {},
   "outputs": [
    {
     "name": "stdout",
     "output_type": "stream",
     "text": [
      "   Name Description                                           geometry\n",
      "0  Foul              POLYGON Z ((-84.59783 42.66023 0.00000, -84.59...\n",
      "1   FOP              POLYGON Z ((-84.59783 42.66023 0.00000, -84.59...\n"
     ]
    }
   ],
   "source": [
    "type(my_map)\n",
    "print(my_map)"
   ]
  },
  {
   "cell_type": "code",
   "execution_count": 12,
   "id": "9ab544fd",
   "metadata": {},
   "outputs": [
    {
     "ename": "ModuleNotFoundError",
     "evalue": "No module named 'folium'",
     "output_type": "error",
     "traceback": [
      "\u001b[1;31m---------------------------------------------------------------------------\u001b[0m",
      "\u001b[1;31mModuleNotFoundError\u001b[0m                       Traceback (most recent call last)",
      "\u001b[1;32mc:\\Users\\Smitty\\Desktop\\REPOS\\BB_parks\\Work_book.ipynb Cell 9\u001b[0m in \u001b[0;36m<cell line: 1>\u001b[1;34m()\u001b[0m\n\u001b[1;32m----> <a href='vscode-notebook-cell:/c%3A/Users/Smitty/Desktop/REPOS/BB_parks/Work_book.ipynb#X11sZmlsZQ%3D%3D?line=0'>1</a>\u001b[0m \u001b[39mimport\u001b[39;00m \u001b[39mfolium\u001b[39;00m\n\u001b[0;32m      <a href='vscode-notebook-cell:/c%3A/Users/Smitty/Desktop/REPOS/BB_parks/Work_book.ipynb#X11sZmlsZQ%3D%3D?line=1'>2</a>\u001b[0m fig \u001b[39m=\u001b[39m folium\u001b[39m.\u001b[39mMap(width\u001b[39m=\u001b[39m\u001b[39m900\u001b[39m, height\u001b[39m=\u001b[39m\u001b[39m600\u001b[39m)\n",
      "\u001b[1;31mModuleNotFoundError\u001b[0m: No module named 'folium'"
     ]
    }
   ],
   "source": [
    "import folium\n",
    "fig = folium.Map(width=900, height=600)"
   ]
  }
 ],
 "metadata": {
  "kernelspec": {
   "display_name": "Python 3.10.5 64-bit",
   "language": "python",
   "name": "python3"
  },
  "language_info": {
   "codemirror_mode": {
    "name": "ipython",
    "version": 3
   },
   "file_extension": ".py",
   "mimetype": "text/x-python",
   "name": "python",
   "nbconvert_exporter": "python",
   "pygments_lexer": "ipython3",
   "version": "3.10.5"
  },
  "vscode": {
   "interpreter": {
    "hash": "cc9c5b9d7e73d0a6482692a6f05d05c6b6079306fc54c435bdf6ad9191c91486"
   }
  }
 },
 "nbformat": 4,
 "nbformat_minor": 5
}
