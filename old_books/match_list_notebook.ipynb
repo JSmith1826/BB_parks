{
 "cells": [
  {
   "cell_type": "code",
   "execution_count": 1,
   "metadata": {},
   "outputs": [],
   "source": [
    "import pandas as pd\n",
    "from fuzzywuzzy import fuzz\n",
    "from fuzzywuzzy import process\n",
    "import numpy as np\n",
    "import re\n",
    "import string\n"
   ]
  },
  {
   "attachments": {},
   "cell_type": "markdown",
   "metadata": {},
   "source": [
    "## Notebook to get list of fields I haven't mapped yet"
   ]
  },
  {
   "cell_type": "code",
   "execution_count": 4,
   "metadata": {},
   "outputs": [
    {
     "name": "stdout",
     "output_type": "stream",
     "text": [
      "<class 'pandas.core.frame.DataFrame'>\n",
      "RangeIndex: 598 entries, 0 to 597\n",
      "Data columns (total 2 columns):\n",
      " #   Column  Non-Null Count  Dtype \n",
      "---  ------  --------------  ----- \n",
      " 0   school  597 non-null    object\n",
      " 1   note1   6 non-null      object\n",
      "dtypes: object(2)\n",
      "memory usage: 9.5+ KB\n",
      "303\n",
      "598\n"
     ]
    }
   ],
   "source": [
    "### \n",
    "\n",
    "## List of all High Schools that competed in the 2022 MHSAA State Championship\n",
    "\n",
    "teams_df = pd.read_csv('data\\school_info\\clean_hs_list.csv')\n",
    "teams_df.info()\n",
    "\n",
    "team_list = teams_df['school'].tolist()\n",
    "team_list_full = teams_df['school'].tolist()\n",
    "\n",
    "# team_list\n",
    "\n",
    "# Get list of HS fields that have already been plotted\n",
    "\n",
    "plot_df = pd.read_csv('data/viz/viz_book.csv')\n",
    "hs_list_df = plot_df[plot_df['level'] == 'high_school']\n",
    "hs_list = hs_list_df['field'].tolist()\n",
    "\n",
    "print(len(hs_list)) # f'High Schools have already been plotted')\n",
    "\n",
    "print(len(team_list)) # f'High Schools are in the 2022 MHSAA State Championship')\n",
    "\n"
   ]
  },
  {
   "cell_type": "code",
   "execution_count": null,
   "metadata": {},
   "outputs": [],
   "source": [
    "\n"
   ]
  },
  {
   "cell_type": "code",
   "execution_count": 7,
   "metadata": {},
   "outputs": [
    {
     "name": "stdout",
     "output_type": "stream",
     "text": [
      "300\n",
      "598\n",
      "<class 'pandas.core.frame.DataFrame'>\n",
      "RangeIndex: 300 entries, 0 to 299\n",
      "Data columns (total 1 columns):\n",
      " #   Column  Non-Null Count  Dtype \n",
      "---  ------  --------------  ----- \n",
      " 0   school  299 non-null    object\n",
      "dtypes: object(1)\n",
      "memory usage: 2.5+ KB\n"
     ]
    },
    {
     "name": "stderr",
     "output_type": "stream",
     "text": [
      "C:\\Users\\Justin\\AppData\\Local\\Temp\\ipykernel_8636\\233376838.py:24: FutureWarning: The pandas.datetime class is deprecated and will be removed from pandas in a future version. Import from datetime module instead.\n",
      "  no_match_df.to_csv('data/school_info/Unplotted_{}.csv'.format(pd.datetime.now().strftime(\"%m-%d-%Y %H%M\")))\n"
     ]
    }
   ],
   "source": [
    "### Use fuzzy match to find the closest match to from the plot list to the team list\n",
    "\n",
    "# set the treshold for the fuzzy match\n",
    "treshold = 90\n",
    "mat1 = []\n",
    "mat2 = []\n",
    "\n",
    "# Create a list of the fields that have not been plotted\n",
    "## do the fuzzy match\n",
    "for i in hs_list:\n",
    "    mat1.append(process.extract(i, team_list, limit=1, scorer=fuzz.token_set_ratio))\n",
    "\n",
    "    # If the match is above the treshold, remove the match from the team list\n",
    "    if mat1[-1][0][1] > treshold:\n",
    "        team_list.remove(mat1[-1][0][0])\n",
    "\n",
    "print(len(team_list))\n",
    "print(len(team_list_full))\n",
    "\n",
    "## Create a list of the fields that have not been plotted\n",
    "no_match_df = pd.DataFrame(team_list, columns=['school'])\n",
    "\n",
    "# # Output no match list to csv\n",
    "no_match_df.to_csv('data/school_info/Unplotted_{}.csv'.format(pd.datetime.now().strftime(\"%m-%d-%Y %H%M\")))\n",
    "\n",
    "no_match_df.info()\n",
    "\n",
    "    \n",
    "\n",
    "\n",
    "## If the team_list has a match in mat1, remove it from the team list\n",
    "\n",
    "\n",
    "\n",
    "# OUTPUT MATCH DF FOR CHECKING\n",
    "# matches_df.to_csv('TEMP/Matched_{}.csv'.format(pd.datetime.now().strftime(\"%m-%d-%Y %H%M\")))\n",
    "\n",
    "\n",
    "# # Output no match list to csv\n",
    "# no_match_df.to_csv('data/school_info/Unplotted_{}.csv'.format(pd.datetime.now().strftime(\"%m-%d-%Y %H%M\")))\n",
    "\n",
    "\n"
   ]
  }
 ],
 "metadata": {
  "kernelspec": {
   "display_name": "base",
   "language": "python",
   "name": "python3"
  },
  "language_info": {
   "codemirror_mode": {
    "name": "ipython",
    "version": 3
   },
   "file_extension": ".py",
   "mimetype": "text/x-python",
   "name": "python",
   "nbconvert_exporter": "python",
   "pygments_lexer": "ipython3",
   "version": "3.9.12 (main, Apr  4 2022, 05:22:27) [MSC v.1916 64 bit (AMD64)]"
  },
  "orig_nbformat": 4,
  "vscode": {
   "interpreter": {
    "hash": "3071ee50c89c1c794c04ecbcb4eb8f9585468a45756c3a74d8e9479e4a2bc436"
   }
  }
 },
 "nbformat": 4,
 "nbformat_minor": 2
}
